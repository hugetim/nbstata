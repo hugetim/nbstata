{
 "cells": [
  {
   "cell_type": "markdown",
   "id": "2c184729",
   "metadata": {},
   "source": [
    "# install\n",
    "\n",
    "> nbstata kernel install script\n",
    "- order: 15"
   ]
  },
  {
   "cell_type": "code",
   "execution_count": null,
   "id": "c7fb586a",
   "metadata": {},
   "outputs": [],
   "source": [
    "#| default_exp install\n",
    "%load_ext autoreload\n",
    "%autoreload 2"
   ]
  },
  {
   "cell_type": "code",
   "execution_count": null,
   "id": "026b00b7",
   "metadata": {},
   "outputs": [],
   "source": [
    "#| hide\n",
    "from nbdev.showdoc import *"
   ]
  },
  {
   "cell_type": "code",
   "execution_count": null,
   "id": "4b35edd5",
   "metadata": {},
   "outputs": [],
   "source": [
    "#| export\n",
    "import argparse\n",
    "import json\n",
    "import os\n",
    "import sys\n",
    "\n",
    "from jupyter_client.kernelspec import KernelSpecManager\n",
    "from IPython.utils.tempdir import TemporaryDirectory\n",
    "from importlib import resources\n",
    "from shutil import copyfile\n",
    "from pathlib import Path\n",
    "from textwrap import dedent\n",
    "from fastcore.basics import IN_NOTEBOOK"
   ]
  },
  {
   "cell_type": "code",
   "execution_count": null,
   "id": "12331a1c-bb11-4986-a408-34ec9e4f87ba",
   "metadata": {},
   "outputs": [],
   "source": [
    "#| hide\n",
    "from fastcore.test import test_eq"
   ]
  },
  {
   "cell_type": "code",
   "execution_count": null,
   "id": "dd9d03cf",
   "metadata": {},
   "outputs": [],
   "source": [
    "#| export\n",
    "kernel_json = {\n",
    "    \"argv\": [sys.executable, \"-m\", \"nbstata\", \"-f\", \"{connection_file}\"],\n",
    "    \"display_name\": \"Stata (nbstata)\",\n",
    "    \"language\": \"stata\",\n",
    "}\n",
    "\n",
    "def install_kernel_spec(user=True, prefix=None):\n",
    "    with TemporaryDirectory() as td:\n",
    "        os.chmod(td, 0o755) # Starts off as 700, not user readable\n",
    "        with open(os.path.join(td, 'kernel.json'), 'w') as f:\n",
    "            json.dump(kernel_json, f, sort_keys=True)\n",
    "\n",
    "        # Copy logo to tempdir to be installed with kernelspec\n",
    "        logo_path = resources.files('nbstata').joinpath('logo-64x64.png')\n",
    "        copyfile(logo_path, os.path.join(td, 'logo-64x64.png'))\n",
    "\n",
    "        print('Installing Jupyter kernel spec')\n",
    "        KernelSpecManager().install_kernel_spec(td, 'nbstata', user=user, prefix=prefix)"
   ]
  },
  {
   "cell_type": "code",
   "execution_count": null,
   "id": "7571a012-6b15-4d01-91c1-0ebcbc1e1fa9",
   "metadata": {},
   "outputs": [],
   "source": [
    "#| export\n",
    "def _find_stata():\n",
    "    # By avoiding an import of .config until we need it, we can\n",
    "    # complete the installation process in virtual environments\n",
    "    # without needing this submodule nor its downstream imports.\n",
    "    from nbstata.config import find_dir_edition\n",
    "    try:\n",
    "        stata_dir, stata_ed = find_dir_edition()\n",
    "    except OSError as err:\n",
    "        stata_dir, stata_ed = \"\", \"\"\n",
    "    return stata_dir, stata_ed"
   ]
  },
  {
   "cell_type": "code",
   "execution_count": null,
   "id": "cbe6dbc7-9399-48d6-b36d-3ea2228d57a8",
   "metadata": {},
   "outputs": [],
   "source": [
    "#| export\n",
    "def _conf_default(stata_dir='', stata_ed=''):\n",
    "    from nbstata.config import Config\n",
    "    conf_default = dedent(\n",
    "        f\"\"\"\\\n",
    "        [nbstata]\n",
    "        stata_dir = {stata_dir}\n",
    "        edition = {stata_ed}\n",
    "        \"\"\"\n",
    "    )\n",
    "    for key in Config.env.keys():\n",
    "        if key not in {'stata_dir', 'edition'}:\n",
    "            conf_default += f\"{key} = {Config.env[key]}\\n\"\n",
    "    return conf_default"
   ]
  },
  {
   "cell_type": "code",
   "execution_count": null,
   "id": "bd472989-154c-4081-b0ed-8319f563d714",
   "metadata": {},
   "outputs": [],
   "source": [
    "#| export    \n",
    "def create_conf_if_needed(conf_path, conf_file_requested=True):\n",
    "    \"\"\"Create config file if requested or if Stata not found automatically\"\"\"\n",
    "    if conf_path.is_file():\n",
    "        if conf_file_requested:\n",
    "            print(\"Configuration file already exists at:\")\n",
    "            print(str(conf_path))\n",
    "        return\n",
    "    stata_dir, stata_ed = _find_stata()\n",
    "    if not stata_ed:\n",
    "        msg = \"\"\"\\\n",
    "            WARNING: Could not find Stata path.\n",
    "            Please specify it manually in configuration file.\n",
    "            \"\"\"\n",
    "        print(dedent(msg))\n",
    "    if stata_ed and not conf_file_requested:\n",
    "        return\n",
    "    try:\n",
    "        conf_dir = Path(os.path.dirname(conf_path))\n",
    "        if not conf_dir.is_dir():\n",
    "            os.makedirs(conf_dir)\n",
    "        with conf_path.open('w') as f:\n",
    "            f.write(_conf_default(stata_dir, stata_ed))\n",
    "        print(\"Configuration file created at:\")\n",
    "        print(str(conf_path))\n",
    "    except Exception as err:\n",
    "        print(f\"Attempt to create a configuration file at {str(conf_path)} failed.\")\n",
    "        raise(err)"
   ]
  },
  {
   "cell_type": "code",
   "execution_count": null,
   "id": "e0c475a9-dabb-4e8c-81e2-e44cf6f76059",
   "metadata": {},
   "outputs": [
    {
     "name": "stdout",
     "output_type": "stream",
     "text": [
      "[nbstata]\n",
      "stata_dir = \n",
      "edition = \n",
      "splash = False\n",
      "graph_format = png\n",
      "graph_width = 5.5in\n",
      "graph_height = 4in\n",
      "echo = None\n",
      "missing = .\n",
      "\n"
     ]
    }
   ],
   "source": [
    "print(_conf_default())"
   ]
  },
  {
   "cell_type": "code",
   "execution_count": null,
   "id": "87bcb3d3-dc1d-4f45-9a7f-94d807fb6310",
   "metadata": {},
   "outputs": [],
   "source": [
    "#| export\n",
    "def _is_root():\n",
    "    try:\n",
    "        return os.geteuid() == 0\n",
    "    except AttributeError:\n",
    "        return False # assume not an admin on non-Unix platforms"
   ]
  },
  {
   "cell_type": "code",
   "execution_count": null,
   "id": "37f8910b-f9da-441e-b678-f05c25cbc458",
   "metadata": {},
   "outputs": [
    {
     "data": {
      "text/plain": [
       "False"
      ]
     },
     "execution_count": null,
     "metadata": {},
     "output_type": "execute_result"
    }
   ],
   "source": [
    "#| hide\n",
    "_is_root()"
   ]
  },
  {
   "cell_type": "code",
   "execution_count": null,
   "id": "e1a689d6-85c1-42ce-9524-425cbc9570c4",
   "metadata": {},
   "outputs": [],
   "source": [
    "#| export\n",
    "def _conf_path(user, prefix):\n",
    "    from nbstata.config import old_user_config_path, xdg_user_config_path\n",
    "    if user:\n",
    "        alt_conf_path = old_user_config_path()\n",
    "        if alt_conf_path.is_file():\n",
    "            return alt_conf_path\n",
    "        else:\n",
    "            return xdg_user_config_path()\n",
    "    else:\n",
    "        return Path(os.path.join(prefix, 'etc/nbstata.conf'))"
   ]
  },
  {
   "cell_type": "code",
   "execution_count": null,
   "id": "5091b653-79e8-4b59-8d9b-d1d66be77cbd",
   "metadata": {},
   "outputs": [
    {
     "data": {
      "text/plain": [
       "Path('C:/Users/tjhuegerich/.config/nbstata/nbstata.conf')"
      ]
     },
     "execution_count": null,
     "metadata": {},
     "output_type": "execute_result"
    }
   ],
   "source": [
    "#| hide\n",
    "test_eq(_conf_path(user=False, prefix='[prefix]'), Path('[prefix]/etc/nbstata.conf'))\n",
    "_conf_path(user=True, prefix='[prefix]')"
   ]
  },
  {
   "cell_type": "code",
   "execution_count": null,
   "id": "2ab1d1be-a9c8-4454-9a6c-7d0c0f695371",
   "metadata": {},
   "outputs": [],
   "source": [
    "#| export\n",
    "def main(argv=None):\n",
    "    ap = argparse.ArgumentParser()\n",
    "    ap.add_argument('--user', action='store_true',\n",
    "        help=\"Install to the per-user kernels registry. Default if not root.\")\n",
    "    ap.add_argument('--sys-prefix', action='store_true',\n",
    "        help=\"Install to sys.prefix (e.g. a virtualenv or conda env)\")\n",
    "    ap.add_argument('--prefix',\n",
    "        help=\"Install to the given prefix. \"\n",
    "             \"Kernelspec will be installed in {PREFIX}/share/jupyter/kernels/\")\n",
    "    ap.add_argument('--conf-file', action='store_true',\n",
    "        help=\"Create a configuration file.\")\n",
    "    args = ap.parse_args(argv)\n",
    "\n",
    "    if args.sys_prefix:\n",
    "        args.prefix = sys.prefix\n",
    "    if not args.prefix and not _is_root():\n",
    "        args.user = True\n",
    "\n",
    "    install_kernel_spec(user=args.user, prefix=args.prefix)\n",
    "    conf_path = _conf_path(user=args.user, prefix=sys.prefix)\n",
    "    create_conf_if_needed(conf_path, conf_file_requested=args.conf_file)"
   ]
  },
  {
   "cell_type": "code",
   "execution_count": null,
   "id": "a1cc02dd-3e38-4324-866e-f19a130e38fd",
   "metadata": {},
   "outputs": [],
   "source": [
    "#| export\n",
    "#|eval: false\n",
    "if __name__ == \"__main__\" and not IN_NOTEBOOK:\n",
    "    main()"
   ]
  },
  {
   "cell_type": "code",
   "execution_count": null,
   "id": "2c1dedf6-cda9-41e1-9eb9-34a78f22b305",
   "metadata": {},
   "outputs": [
    {
     "data": {
      "text/plain": [
       "True"
      ]
     },
     "execution_count": null,
     "metadata": {},
     "output_type": "execute_result"
    }
   ],
   "source": [
    "#| hide\n",
    "IN_NOTEBOOK"
   ]
  },
  {
   "cell_type": "code",
   "execution_count": null,
   "id": "a42239e6-298c-4c1f-acf3-80c3fd143919",
   "metadata": {},
   "outputs": [
    {
     "data": {
      "text/plain": [
       "'__main__'"
      ]
     },
     "execution_count": null,
     "metadata": {},
     "output_type": "execute_result"
    }
   ],
   "source": [
    "#| hide\n",
    "__name__"
   ]
  },
  {
   "cell_type": "code",
   "execution_count": null,
   "id": "34bf788c-34bb-49a3-8eee-7768c2091eb4",
   "metadata": {},
   "outputs": [
    {
     "data": {
      "text/plain": [
       "False"
      ]
     },
     "execution_count": null,
     "metadata": {},
     "output_type": "execute_result"
    }
   ],
   "source": [
    "#| hide\n",
    "__name__ == \"__main__\" and not IN_NOTEBOOK"
   ]
  },
  {
   "cell_type": "code",
   "execution_count": null,
   "id": "1c6dd777",
   "metadata": {},
   "outputs": [],
   "source": [
    "#| hide\n",
    "import nbdev; nbdev.nbdev_export()"
   ]
  }
 ],
 "metadata": {
  "kernelspec": {
   "display_name": "python3",
   "language": "python",
   "name": "python3"
  }
 },
 "nbformat": 4,
 "nbformat_minor": 5
}
