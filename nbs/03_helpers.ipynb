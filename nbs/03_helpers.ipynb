{
 "cells": [
  {
   "cell_type": "markdown",
   "id": "2c184729",
   "metadata": {},
   "source": [
    "# helpers\n",
    "\n",
    "> Helper functions which require a Stata installation"
   ]
  },
  {
   "cell_type": "code",
   "execution_count": null,
   "id": "c7fb586a",
   "metadata": {},
   "outputs": [],
   "source": [
    "#| default_exp helpers\n",
    "%load_ext autoreload\n",
    "%autoreload 2"
   ]
  },
  {
   "cell_type": "code",
   "execution_count": null,
   "id": "026b00b7",
   "metadata": {},
   "outputs": [],
   "source": [
    "#| hide\n",
    "from nbdev.showdoc import *"
   ]
  },
  {
   "cell_type": "code",
   "execution_count": null,
   "id": "4b35edd5",
   "metadata": {},
   "outputs": [],
   "source": [
    "#| export\n",
    "from nbstata.utils import DivertedPrints, break_out_prog_blocks\n",
    "from nbstata.stata import run_direct, run_as_program, get_local, run_prog_noecho, run_non_prog_noecho\n",
    "from textwrap import dedent\n",
    "import functools\n",
    "import re"
   ]
  },
  {
   "cell_type": "code",
   "execution_count": null,
   "id": "21aadf85",
   "metadata": {},
   "outputs": [],
   "source": [
    "#| eval: false\n",
    "from nbstata.config import launch_stata"
   ]
  },
  {
   "cell_type": "markdown",
   "id": "b622c378",
   "metadata": {},
   "source": [
    "## Simple Helpers"
   ]
  },
  {
   "cell_type": "code",
   "execution_count": null,
   "id": "e545a82a",
   "metadata": {},
   "outputs": [],
   "source": [
    "#| export\n",
    "class SelectVar():\n",
    "    \"\"\"Class for generating Stata select_var for getAsDict\"\"\"\n",
    "    varname = None\n",
    "    \n",
    "    def __init__(self, stata_if_code):\n",
    "        condition = stata_if_code.replace('if ', '', 1).strip()\n",
    "        if condition:\n",
    "            cmd = dedent(f\"\"\"\\\n",
    "                tempvar __selectionVar\n",
    "                generate `__selectionVar' = cond({condition},1,0)\"\"\")\n",
    "            run_direct(cmd, quietly=True)      \n",
    "            self.varname = get_local(\"__selectionVar\")  \n",
    "\n",
    "    def clear(self):\n",
    "        \"\"\"Remove temporary select_var from Stata dataset\"\"\"\n",
    "        import sfi\n",
    "        if self.varname:\n",
    "            sfi.Data.dropVar(self.varname)\n",
    "            sfi.Macro.setLocal(\"__selectionVar\", \"\")\n",
    "            \n",
    "    def __enter__(self):\n",
    "        return self.varname\n",
    "    \n",
    "    def __exit__(self, exc_type, exc_value, exc_tb):\n",
    "        self.clear()"
   ]
  },
  {
   "cell_type": "markdown",
   "id": "3d343d3b",
   "metadata": {},
   "source": [
    "`Selectvar.varname` is a temporary Stata variable for use in `sfi.Data.getAsDict`"
   ]
  },
  {
   "cell_type": "code",
   "execution_count": null,
   "id": "88842fa8",
   "metadata": {},
   "outputs": [],
   "source": [
    "from fastcore.test import test_eq"
   ]
  },
  {
   "cell_type": "code",
   "execution_count": null,
   "id": "4762f9de",
   "metadata": {},
   "outputs": [
    {
     "name": "stdout",
     "output_type": "stream",
     "text": [
      "\n",
      "\n",
      "varname: __000000\n",
      "\n",
      "       var1   __000000  \n",
      "  1.      0          1  \n",
      "  2.      0          1  \n",
      "  3.      0          1  \n",
      "  4.      1          0  \n",
      "  5.      1          0  \n",
      "var1\n"
     ]
    }
   ],
   "source": [
    "#| eval: false\n",
    "launch_stata(splash=False)\n",
    "run_direct(\"\"\"\\\n",
    "set obs 5\n",
    "gen var1 = _n > 3\n",
    "\"\"\", quietly=True)\n",
    "with SelectVar(\" if var1==0\") as sel_varname:\n",
    "    print(f\"varname: {sel_varname}\")\n",
    "    run_direct(\"list, clean\")\n",
    "    test_eq(bool(get_local(\"__selectionVar\")), True)\n",
    "run_direct(\"desc, simple\")\n",
    "test_eq(get_local(\"__selectionVar\"), \"\")"
   ]
  },
  {
   "cell_type": "code",
   "execution_count": null,
   "id": "71889c69",
   "metadata": {},
   "outputs": [],
   "source": [
    "#| export\n",
    "class IndexVar:\n",
    "    def __enter__(self):\n",
    "        run_direct(\"\"\"\\\n",
    "            tempvar indexvar\n",
    "            generate `indexvar' = _n\"\"\", quietly=True)\n",
    "        self.idx_var = get_local('indexvar')\n",
    "        return self.idx_var\n",
    "    \n",
    "    def __exit__(self, exc_type, exc_value, exc_tb):\n",
    "        import sfi\n",
    "        sfi.Data.dropVar(self.idx_var)\n",
    "        sfi.Macro.setLocal('indexvar', \"\")"
   ]
  },
  {
   "cell_type": "code",
   "execution_count": null,
   "id": "2be1139e",
   "metadata": {},
   "outputs": [
    {
     "name": "stdout",
     "output_type": "stream",
     "text": [
      "\n",
      "var1      __000001\n",
      "var1\n"
     ]
    }
   ],
   "source": [
    "#| eval: False\n",
    "with IndexVar() as idx_var:\n",
    "    run_direct(\"desc, simple\")\n",
    "    test_eq(bool(get_local('indexvar')), True)\n",
    "run_direct(\"desc, simple\")\n",
    "test_eq(get_local('indexvar'), \"\")"
   ]
  },
  {
   "cell_type": "markdown",
   "id": "f890e04a",
   "metadata": {},
   "source": [
    "## Divert Stata output to string"
   ]
  },
  {
   "cell_type": "markdown",
   "id": "104e167a",
   "metadata": {},
   "source": [
    "Here we want to get output from some Stata commands without changing the Stata environment. Preserving `r()` return values is a particular challenge, in part because the `log on`/`off` commands needed to ensure this output is not logged are themselves r-class. But the input `std_code` may also contain rclass commands. And capturing multi-line Stata output without the commands echoed poses additional challenges `run_as_program`-related challenges with regard to local variables."
   ]
  },
  {
   "cell_type": "markdown",
   "id": "1fd1e352",
   "metadata": {},
   "source": [
    "To start, we set aside the latter two issues and simply use `run_direct` to run the Stata code. We handle the first issue by running the `log` commands inside an r-class program with [`return add`](https://www.stata.com/help.cgi?return) at the start."
   ]
  },
  {
   "cell_type": "markdown",
   "id": "ae774c40",
   "metadata": {},
   "source": [
    "A custom code `runner` may be specified. This may be useful if, for instance, the input `std_code` needs to access the `r()` results."
   ]
  },
  {
   "cell_type": "code",
   "execution_count": null,
   "id": "1a226b12",
   "metadata": {},
   "outputs": [],
   "source": [
    "#| export\n",
    "def diverted_stata_output(std_code, runner=None):\n",
    "    if runner is None:\n",
    "        runner = functools.partial(run_direct, quietly=False, inline=True, echo=False)\n",
    "    with DivertedPrints() as diverted:\n",
    "        run_as_program(\"return add\\ncapture log off\", prog_def_option_code=\"rclass\")\n",
    "        try:\n",
    "            runner(std_code)\n",
    "        finally:\n",
    "            run_as_program(\"return add\\ncapture log on\", prog_def_option_code=\"rclass\")\n",
    "        out = diverted.getvalue()\n",
    "    return out"
   ]
  },
  {
   "cell_type": "code",
   "execution_count": null,
   "id": "aa86bc1f",
   "metadata": {},
   "outputs": [],
   "source": [
    "from textwrap import dedent"
   ]
  },
  {
   "cell_type": "code",
   "execution_count": null,
   "id": "7ad2b425",
   "metadata": {},
   "outputs": [],
   "source": [
    "#| eval: false\n",
    "two_lines_of_code = dedent('''\\\n",
    "    disp \"test 1\"\n",
    "    disp \"test 2\"\n",
    "    ''')\n",
    "out = diverted_stata_output(two_lines_of_code)"
   ]
  },
  {
   "cell_type": "code",
   "execution_count": null,
   "id": "b084971d",
   "metadata": {},
   "outputs": [
    {
     "name": "stdout",
     "output_type": "stream",
     "text": [
      "\n",
      ". disp \"test 1\"\n",
      "test 1\n",
      "\n",
      ". disp \"test 2\"\n",
      "test 2\n",
      "\n",
      ". \n",
      "\n"
     ]
    }
   ],
   "source": [
    "#| eval: false\n",
    "print(out)"
   ]
  },
  {
   "cell_type": "code",
   "execution_count": null,
   "id": "7af60e01",
   "metadata": {},
   "outputs": [
    {
     "name": "stdout",
     "output_type": "stream",
     "text": [
      "test 1\n",
      "\n"
     ]
    }
   ],
   "source": [
    "#| eval: false\n",
    "print(diverted_stata_output('disp \"test 1\"', run_as_program))"
   ]
  },
  {
   "cell_type": "markdown",
   "id": "5eff1e30",
   "metadata": {},
   "source": [
    "If we know the code we're running is non-program code, we can get a speed improvement by running the `log` code together with the input `std_non_prog_code`."
   ]
  },
  {
   "cell_type": "code",
   "execution_count": null,
   "id": "c5d72fda",
   "metadata": {},
   "outputs": [],
   "source": [
    "#| export\n",
    "def diverted_stata_output_quicker(std_non_prog_code):\n",
    "    with DivertedPrints() as diverted:\n",
    "        code = f\"return add\\ncapture log off\\n{std_non_prog_code}\\ncapture log on\"\"\"\n",
    "        try:\n",
    "            run_as_program(code, prog_def_option_code=\"rclass\")\n",
    "        except SystemError as e:\n",
    "            run_as_rclass_prog(\"return add\\ncapture log on\")\n",
    "            raise(e)\n",
    "        out = diverted.getvalue()\n",
    "    return out"
   ]
  },
  {
   "cell_type": "code",
   "execution_count": null,
   "id": "2cab62d2",
   "metadata": {},
   "outputs": [
    {
     "name": "stdout",
     "output_type": "stream",
     "text": [
      "test 1\n",
      "test 2\n",
      "\n"
     ]
    }
   ],
   "source": [
    "#| eval: false\n",
    "print(diverted_stata_output_quicker(two_lines_of_code))"
   ]
  },
  {
   "cell_type": "code",
   "execution_count": null,
   "id": "f83f5096",
   "metadata": {},
   "outputs": [
    {
     "name": "stdout",
     "output_type": "stream",
     "text": [
      "diverted_stata_output_direct run in 0.3039 seconds\n",
      "diverted_stata_output_quicker run in 0.1424 seconds\n"
     ]
    }
   ],
   "source": [
    "#| eval: false\n",
    "import time\n",
    "tic = time.perf_counter()\n",
    "diverted_stata_output(two_lines_of_code)\n",
    "toc = time.perf_counter()\n",
    "print(f\"diverted_stata_output_direct run in {toc - tic:0.4f} seconds\")\n",
    "tic = time.perf_counter()\n",
    "diverted_stata_output_quicker(two_lines_of_code)\n",
    "toc = time.perf_counter()\n",
    "print(f\"diverted_stata_output_quicker run in {toc - tic:0.4f} seconds\")"
   ]
  },
  {
   "cell_type": "code",
   "execution_count": null,
   "id": "edf70e12",
   "metadata": {},
   "outputs": [
    {
     "name": "stdout",
     "output_type": "stream",
     "text": [
      "diverted_stata_output(run_as_program) run in 0.4286 seconds\n"
     ]
    }
   ],
   "source": [
    "#| hide\n",
    "#| eval: false\n",
    "tic = time.perf_counter()\n",
    "diverted_stata_output(two_lines_of_code, run_as_program)\n",
    "toc = time.perf_counter()\n",
    "print(f\"diverted_stata_output(run_as_program) run in {toc - tic:0.4f} seconds\")"
   ]
  },
  {
   "cell_type": "markdown",
   "id": "960a2d17",
   "metadata": {},
   "source": [
    "## Run noecho as if run directly"
   ]
  },
  {
   "cell_type": "markdown",
   "id": "99a48e8f",
   "metadata": {},
   "source": [
    "We now have the tools needed to run generic code without echoing the commands, handling locals as if the code were run directly (rather than inside a program definition). We can use `diverted_stata_output` to pull any previously-defined locals into the program."
   ]
  },
  {
   "cell_type": "code",
   "execution_count": null,
   "id": "ce50d33d",
   "metadata": {},
   "outputs": [],
   "source": [
    "#| export\n",
    "def local_names():\n",
    "    out = diverted_stata_output(\"\"\"mata : invtokens(st_dir(\"local\", \"macro\", \"*\")')\"\"\")\n",
    "    return out.split()"
   ]
  },
  {
   "cell_type": "code",
   "execution_count": null,
   "id": "f81f6049",
   "metadata": {},
   "outputs": [
    {
     "name": "stdout",
     "output_type": "stream",
     "text": [
      "\n"
     ]
    }
   ],
   "source": [
    "#| eval: False\n",
    "run_direct(\"local test1 = 1 \\n local test2 = 2\", quietly=True)\n",
    "test_eq(set(local_names()), {'test1', 'test2'})"
   ]
  },
  {
   "cell_type": "code",
   "execution_count": null,
   "id": "a618807d",
   "metadata": {},
   "outputs": [],
   "source": [
    "#| export\n",
    "def get_local_dict(_local_names=None):\n",
    "    if _local_names is None:\n",
    "        _local_names = local_names()\n",
    "    return {n: get_local(n) for n in _local_names}"
   ]
  },
  {
   "cell_type": "code",
   "execution_count": null,
   "id": "279d8676",
   "metadata": {},
   "outputs": [],
   "source": [
    "#| eval: False\n",
    "test_eq(get_local_dict(), {'test1': '1', 'test2': '2'})"
   ]
  },
  {
   "cell_type": "code",
   "execution_count": null,
   "id": "023d61bd",
   "metadata": {},
   "outputs": [],
   "source": [
    "#| export\n",
    "def _locals_code_from_dict(preexisting_local_dict):\n",
    "    local_defs = (f\"\"\"local {name} `\"{preexisting_local_dict[name]}\"'\"\"\"\n",
    "                  for name in preexisting_local_dict)\n",
    "    return \"\\n\".join(local_defs)"
   ]
  },
  {
   "cell_type": "code",
   "execution_count": null,
   "id": "bdc89b54",
   "metadata": {},
   "outputs": [
    {
     "data": {
      "text/markdown": [
       "---\n",
       "\n",
       "[source](https://github.com/hugetim/nbstata/blob/main/nbstata/helpers.py#L93){target=\"_blank\" style=\"float:right; font-size:smaller\"}\n",
       "\n",
       "### _locals_code_from_dict\n",
       "\n",
       ">      _locals_code_from_dict (preexisting_local_dict)"
      ],
      "text/plain": [
       "---\n",
       "\n",
       "[source](https://github.com/hugetim/nbstata/blob/main/nbstata/helpers.py#L93){target=\"_blank\" style=\"float:right; font-size:smaller\"}\n",
       "\n",
       "### _locals_code_from_dict\n",
       "\n",
       ">      _locals_code_from_dict (preexisting_local_dict)"
      ]
     },
     "execution_count": null,
     "metadata": {},
     "output_type": "execute_result"
    }
   ],
   "source": [
    "show_doc(_locals_code_from_dict)"
   ]
  },
  {
   "cell_type": "code",
   "execution_count": null,
   "id": "e1dfdfba",
   "metadata": {},
   "outputs": [
    {
     "name": "stdout",
     "output_type": "stream",
     "text": [
      "local test1 `\"blah\"'\n",
      "local test2 `\"blah blah\"'\n"
     ]
    }
   ],
   "source": [
    "#| hide\n",
    "print(_locals_code_from_dict({'test1': 'blah', 'test2': 'blah blah'}))"
   ]
  },
  {
   "cell_type": "code",
   "execution_count": null,
   "id": "d80c03d6",
   "metadata": {},
   "outputs": [],
   "source": [
    "#| hide\n",
    "test_eq(_locals_code_from_dict({'test1': 'blah', 'test2': 'blah blah'}),\n",
    "        \"\"\"local test1 `\"blah\"\\'\\nlocal test2 `\"blah blah\"\\'\"\"\")"
   ]
  },
  {
   "cell_type": "code",
   "execution_count": null,
   "id": "6ba82043",
   "metadata": {},
   "outputs": [
    {
     "name": "stdout",
     "output_type": "stream",
     "text": [
      "local test2 `\"2\"'\n",
      "local test1 `\"1\"'\n"
     ]
    }
   ],
   "source": [
    "#| eval: False\n",
    "print(_locals_code_from_dict(get_local_dict()))"
   ]
  },
  {
   "cell_type": "markdown",
   "id": "7473329d",
   "metadata": {},
   "source": [
    "We can use `diverted_stata_output` to artificially transfer any locals created within the program to the outside scope. We will do this by making the program an s-class program and storing any locals present at the end of the program that way. Then these locals can be quietly set after the program run has completed."
   ]
  },
  {
   "cell_type": "code",
   "execution_count": null,
   "id": "327f266a",
   "metadata": {},
   "outputs": [],
   "source": [
    "#| export\n",
    "def _run_as_program_w_locals_sreturned(std_code):\n",
    "    sreturn_code = dedent(\"\"\"\\\n",
    "        \n",
    "        mata : st_local(\"temp_nbstata_all_locals\", invtokens(st_dir(\"local\", \"macro\", \"*\")'))\n",
    "        foreach lname in `temp_nbstata_all_locals' {\n",
    "            sreturn local `lname' \"``lname''\"\n",
    "        }\n",
    "        \"\"\")\n",
    "    store_new_locals_code = (\"sreturn clear\\n\" \n",
    "                             + std_code\n",
    "                             + sreturn_code)                          \n",
    "    run_as_program(store_new_locals_code, \"sclass\")"
   ]
  },
  {
   "cell_type": "code",
   "execution_count": null,
   "id": "99b043e0",
   "metadata": {},
   "outputs": [
    {
     "data": {
      "text/markdown": [
       "---\n",
       "\n",
       "[source](https://github.com/hugetim/nbstata/blob/main/nbstata/helpers.py#L99){target=\"_blank\" style=\"float:right; font-size:smaller\"}\n",
       "\n",
       "### _run_as_program_w_locals_sreturned\n",
       "\n",
       ">      _run_as_program_w_locals_sreturned (std_code)"
      ],
      "text/plain": [
       "---\n",
       "\n",
       "[source](https://github.com/hugetim/nbstata/blob/main/nbstata/helpers.py#L99){target=\"_blank\" style=\"float:right; font-size:smaller\"}\n",
       "\n",
       "### _run_as_program_w_locals_sreturned\n",
       "\n",
       ">      _run_as_program_w_locals_sreturned (std_code)"
      ]
     },
     "execution_count": null,
     "metadata": {},
     "output_type": "execute_result"
    }
   ],
   "source": [
    "show_doc(_run_as_program_w_locals_sreturned)"
   ]
  },
  {
   "cell_type": "code",
   "execution_count": null,
   "id": "9888c4c6",
   "metadata": {},
   "outputs": [
    {
     "name": "stdout",
     "output_type": "stream",
     "text": [
      "\n",
      "macros:\n",
      "              s(test3) : \"3\"\n"
     ]
    }
   ],
   "source": [
    "#| eval: False\n",
    "_run_as_program_w_locals_sreturned('local test3 \"3\"')\n",
    "run_direct(\"sreturn list\")"
   ]
  },
  {
   "cell_type": "code",
   "execution_count": null,
   "id": "63bd761d",
   "metadata": {},
   "outputs": [],
   "source": [
    "#| export\n",
    "#| hide\n",
    "parse_sreturn = re.compile(\n",
    "    r'^\\s*?(?:\\ss\\((?P<name>\\w+)\\) : \\\"(?P<value>.+)\\\"\\s)', flags=re.MULTILINE\n",
    ").findall"
   ]
  },
  {
   "cell_type": "code",
   "execution_count": null,
   "id": "efd4eafa",
   "metadata": {},
   "outputs": [
    {
     "data": {
      "text/plain": [
       "[('test1', 'blah'), ('test2', 'blah blah')]"
      ]
     },
     "execution_count": null,
     "metadata": {},
     "output_type": "execute_result"
    }
   ],
   "source": [
    "#| hide\n",
    "output = \"\"\"\n",
    "macros:\n",
    "              s(test1) : \"blah\"\n",
    "              s(test2) : \"blah blah\"\n",
    "\n",
    "\"\"\"\n",
    "parse_sreturn(output)"
   ]
  },
  {
   "cell_type": "code",
   "execution_count": null,
   "id": "5dfd7754",
   "metadata": {},
   "outputs": [],
   "source": [
    "#| export\n",
    "def _local_dict_from_sreturn(sreturn_output):\n",
    "    matches = parse_sreturn(sreturn_output)\n",
    "    return {m[0]: m[1] for m in matches}"
   ]
  },
  {
   "cell_type": "code",
   "execution_count": null,
   "id": "03957511",
   "metadata": {},
   "outputs": [
    {
     "data": {
      "text/markdown": [
       "---\n",
       "\n",
       "[source](https://github.com/hugetim/nbstata/blob/main/nbstata/helpers.py#L118){target=\"_blank\" style=\"float:right; font-size:smaller\"}\n",
       "\n",
       "### _local_dict_from_sreturn\n",
       "\n",
       ">      _local_dict_from_sreturn (sreturn_output)"
      ],
      "text/plain": [
       "---\n",
       "\n",
       "[source](https://github.com/hugetim/nbstata/blob/main/nbstata/helpers.py#L118){target=\"_blank\" style=\"float:right; font-size:smaller\"}\n",
       "\n",
       "### _local_dict_from_sreturn\n",
       "\n",
       ">      _local_dict_from_sreturn (sreturn_output)"
      ]
     },
     "execution_count": null,
     "metadata": {},
     "output_type": "execute_result"
    }
   ],
   "source": [
    "show_doc(_local_dict_from_sreturn)"
   ]
  },
  {
   "cell_type": "code",
   "execution_count": null,
   "id": "6ee5a662",
   "metadata": {},
   "outputs": [
    {
     "data": {
      "text/plain": [
       "{'test1': 'blah', 'test2': 'blah blah'}"
      ]
     },
     "execution_count": null,
     "metadata": {},
     "output_type": "execute_result"
    }
   ],
   "source": [
    "_local_dict_from_sreturn(output)"
   ]
  },
  {
   "cell_type": "code",
   "execution_count": null,
   "id": "139ce425",
   "metadata": {},
   "outputs": [],
   "source": [
    "#| export\n",
    "def _after_local_dict():\n",
    "    sreturn_output = diverted_stata_output_quicker(\"sreturn list\")\n",
    "    return _local_dict_from_sreturn(sreturn_output)"
   ]
  },
  {
   "cell_type": "code",
   "execution_count": null,
   "id": "02a0430a",
   "metadata": {},
   "outputs": [],
   "source": [
    "#| export\n",
    "def _restore_locals_and_clear_sreturn():\n",
    "    # run non-prog to avoid clearing locals\n",
    "    after_local_dict = _after_local_dict()\n",
    "    after_locals_code = _locals_code_from_dict(after_local_dict)\n",
    "    if after_local_dict:\n",
    "        after_locals_code += \"\\n\" + \"sreturn clear\"\n",
    "    run_direct(after_locals_code, quietly=True)"
   ]
  },
  {
   "cell_type": "code",
   "execution_count": null,
   "id": "51cd5904",
   "metadata": {},
   "outputs": [],
   "source": [
    "#| export\n",
    "#| hide\n",
    "pre = (\n",
    "    r'(cap(t|tu|tur|ture)?'\n",
    "    r'|qui(e|et|etl|etly)?'\n",
    "    r'|n(o|oi|ois|oisi|oisil|oisily)?)')\n",
    "kwargs = {'flags': re.MULTILINE}\n",
    "local_def_in = re.compile(\n",
    "    r\"(^({0} )*(loc(a|al)?|tempname|tempvar|tempfile|gettoken|token(i|iz|ize)?)\\s)|st_local\\(\".format(pre),\n",
    "    **kwargs,\n",
    ").search"
   ]
  },
  {
   "cell_type": "code",
   "execution_count": null,
   "id": "ed1a6d8e",
   "metadata": {},
   "outputs": [],
   "source": [
    "#| hide\n",
    "test_eq(bool(local_def_in(\"sysuse auto\")), False)\n",
    "test_eq(bool(local_def_in(\"loc auto=1\")), True)\n",
    "test_eq(bool(local_def_in(\"qui n cap local auto=1\")), True)\n",
    "test_eq(bool(local_def_in(\"list local auto\")), False)\n",
    "test_eq(bool(local_def_in(\"tempfile file1\")), True)\n",
    "test_eq(bool(local_def_in(\"capture token file1\")), True)\n",
    "test_eq(bool(local_def_in(\"mata: st_local(test1, 2)\")), True)"
   ]
  },
  {
   "cell_type": "code",
   "execution_count": null,
   "id": "e3e81b91",
   "metadata": {},
   "outputs": [],
   "source": [
    "#| export\n",
    "def run_as_program_w_locals(std_code, local_dict=None):\n",
    "    if local_dict is None:\n",
    "        local_dict = get_local_dict()\n",
    "    locals_code = _locals_code_from_dict(local_dict)\n",
    "    if not local_def_in(std_code):\n",
    "        run_as_program(f\"\"\"{locals_code}\\n{std_code}\"\"\")\n",
    "    else:\n",
    "        _run_as_program_w_locals_sreturned(f\"\"\"{locals_code}\\n{std_code}\"\"\")\n",
    "        _restore_locals_and_clear_sreturn()"
   ]
  },
  {
   "cell_type": "code",
   "execution_count": null,
   "id": "4e25ab7f",
   "metadata": {},
   "outputs": [
    {
     "name": "stdout",
     "output_type": "stream",
     "text": [
      "\n",
      "1 two \"3\"\n"
     ]
    }
   ],
   "source": [
    "#| eval: false\n",
    "run_direct(dedent(\"\"\"\n",
    "    macro drop _all\n",
    "    local local1 = 1\n",
    "    local local2 \"two\"\n",
    "    local local3 `\"\"3\"\"' \n",
    "    \"\"\"), quietly=True)\n",
    "run_as_program_w_locals(\"\"\"disp `\"`local1' `local2' `local3'\"' \"\"\")"
   ]
  },
  {
   "cell_type": "code",
   "execution_count": null,
   "id": "ec9c70ae",
   "metadata": {},
   "outputs": [
    {
     "name": "stdout",
     "output_type": "stream",
     "text": [
      "1 two \"3\"\n",
      "\n"
     ]
    }
   ],
   "source": [
    "#| eval: false\n",
    "code = '''\\\n",
    "local test1 \"blah blah\"\n",
    "local test2 \"blah\"\n",
    "'''\n",
    "run_as_program_w_locals(\"\"\"disp `\"`local1' `local2' `local3'\"' \\n\"\"\" + code)\n",
    "test_eq(get_local_dict(), \n",
    "        {'test2': 'blah',\n",
    "         'test1': 'blah blah',\n",
    "         'local1': '1',\n",
    "         'local2': 'two',\n",
    "         'local3': '\"3\"'})"
   ]
  },
  {
   "cell_type": "markdown",
   "id": "cefd1b39",
   "metadata": {},
   "source": [
    "## dispatch_run"
   ]
  },
  {
   "cell_type": "code",
   "execution_count": null,
   "id": "2e995de1",
   "metadata": {},
   "outputs": [],
   "source": [
    "#| export\n",
    "def run_noecho(code, sc_delimiter=False, run_as_prog=run_as_program_w_locals):\n",
    "    \"\"\"After `break_out_prog_blocks`, run each prog and non-prog block noecho\"\"\"\n",
    "    for block in break_out_prog_blocks(code, sc_delimiter):\n",
    "        if block['is_prog']:\n",
    "            run_prog_noecho(block['std_code'])\n",
    "        else:\n",
    "            run_non_prog_noecho(block['std_code'], run_as_prog=run_as_prog)"
   ]
  },
  {
   "cell_type": "code",
   "execution_count": null,
   "id": "20188a1c",
   "metadata": {},
   "outputs": [
    {
     "name": "stdout",
     "output_type": "stream",
     "text": [
      "\n",
      "\n",
      "ender output\n"
     ]
    }
   ],
   "source": [
    "#| eval: false\n",
    "run_noecho(dedent('''\\\n",
    "    capture program drop ender\n",
    "    program define ender\n",
    "        disp \"ender output\"\n",
    "    end\n",
    "    capture program drop display2\n",
    "    program define display2\n",
    "        ender\n",
    "    end\n",
    "    display2\n",
    "    '''))"
   ]
  },
  {
   "cell_type": "code",
   "execution_count": null,
   "id": "40cbd83e",
   "metadata": {},
   "outputs": [
    {
     "name": "stdout",
     "output_type": "stream",
     "text": [
      "1 two \"3\"\n",
      "1 two \"3\" blah blah\n"
     ]
    }
   ],
   "source": [
    "#| eval: false\n",
    "run_noecho(dedent(\"\"\"\\\n",
    "    disp `\"`local1' `local2' `local3'\"'\n",
    "    disp `\"`local1' `local2' `local3' `test1'\"'\n",
    "    \"\"\"), run_as_prog=run_as_program_w_locals)"
   ]
  },
  {
   "cell_type": "code",
   "execution_count": null,
   "id": "21720ff6",
   "metadata": {},
   "outputs": [
    {
     "name": "stdout",
     "output_type": "stream",
     "text": [
      "\n",
      "foo bar \"3\"\n",
      "foo bar \"3\" blah blah\n"
     ]
    }
   ],
   "source": [
    "#| eval: false\n",
    "code = \"\"\"\\\n",
    "local local1 \"foo\"\n",
    "local local2 \"bar\"\n",
    "local abcd \"foo bar\"\n",
    "\"\"\"\n",
    "run_noecho(code, run_as_prog=run_as_program_w_locals)\n",
    "run_noecho(dedent(\"\"\"\\\n",
    "    disp `\"`local1' `local2' `local3'\"'\n",
    "    disp `\"`local1' `local2' `local3' `test1'\"'\n",
    "    \"\"\"), run_as_prog=run_as_program_w_locals)"
   ]
  },
  {
   "cell_type": "code",
   "execution_count": null,
   "id": "680deaa8",
   "metadata": {},
   "outputs": [],
   "source": [
    "#| export\n",
    "def run_simple(code, quietly=False, echo=False, sc_delimiter=False):\n",
    "    if sc_delimiter:\n",
    "        code = \"#delimit;\\n\" + code\n",
    "    run_direct(code, quietly=quietly, inline=not quietly, echo=echo)"
   ]
  },
  {
   "cell_type": "code",
   "execution_count": null,
   "id": "33796b7e",
   "metadata": {},
   "outputs": [
    {
     "name": "stdout",
     "output_type": "stream",
     "text": [
      "\n"
     ]
    }
   ],
   "source": [
    "#| eval: false\n",
    "run_simple(dedent('''\\\n",
    "    capture program drop ender\n",
    "    program define ender\n",
    "        disp \"ender output\"\n",
    "    end\n",
    "    capture program drop display2\n",
    "    program define display2\n",
    "        ender\n",
    "    end\n",
    "    display2\n",
    "    '''), quietly=True)"
   ]
  },
  {
   "cell_type": "code",
   "execution_count": null,
   "id": "3d484709",
   "metadata": {},
   "outputs": [],
   "source": [
    "#| export\n",
    "def dispatch_run(code, quietly=False, echo=False, sc_delimiter=False, noecho=False, run_as_prog=run_as_program_w_locals):\n",
    "    if noecho and not quietly:\n",
    "        run_noecho(code, sc_delimiter, run_as_prog=run_as_prog)\n",
    "    else:\n",
    "        run_simple(code, quietly, echo, sc_delimiter)   "
   ]
  },
  {
   "cell_type": "code",
   "execution_count": null,
   "id": "ee4d67c7",
   "metadata": {},
   "outputs": [
    {
     "name": "stdout",
     "output_type": "stream",
     "text": [
      "\n"
     ]
    }
   ],
   "source": [
    "#| eval: false\n",
    "dispatch_run(dedent('''\\\n",
    "    capture program drop ender\n",
    "    program define ender\n",
    "        disp \"ender output\"\n",
    "    end\n",
    "    capture program drop display2\n",
    "    program define display2\n",
    "        ender\n",
    "    end\n",
    "    display2\n",
    "    '''), quietly=True)"
   ]
  },
  {
   "cell_type": "code",
   "execution_count": null,
   "id": "5889dacb",
   "metadata": {},
   "outputs": [
    {
     "name": "stdout",
     "output_type": "stream",
     "text": [
      "\n",
      "\n",
      "ender output\n"
     ]
    }
   ],
   "source": [
    "#| eval: false\n",
    "dispatch_run(dedent('''\\\n",
    "    capture program drop ender\n",
    "    program define ender\n",
    "        disp \"ender output\"\n",
    "    end\n",
    "    capture program drop display2\n",
    "    program define display2\n",
    "        ender\n",
    "    end\n",
    "    display2\n",
    "    '''), noecho=True)"
   ]
  },
  {
   "cell_type": "markdown",
   "id": "fdce4810",
   "metadata": {},
   "source": [
    "## Output for kernel.do_inspect()"
   ]
  },
  {
   "cell_type": "code",
   "execution_count": null,
   "id": "3a30220b",
   "metadata": {},
   "outputs": [],
   "source": [
    "#| export\n",
    "def get_inspect(code=\"\", cursor_pos=0, detail_level=0, omit_sections=()):\n",
    "    runner = functools.partial(run_as_program, prog_def_option_code=\"rclass\")\n",
    "    inspect_code = \"\"\"\\\n",
    "        return list\n",
    "        ereturn list\n",
    "        return add\n",
    "        display \"*** Last updated `c(current_time)' `c(current_date)' ***\"\n",
    "        describe, fullnames\n",
    "        \"\"\"\n",
    "    raw_output = diverted_stata_output(inspect_code, runner=runner)\n",
    "    desc_start = raw_output.find('*** Last updated ')\n",
    "    return raw_output[desc_start:] + raw_output[:desc_start]"
   ]
  },
  {
   "cell_type": "code",
   "execution_count": null,
   "id": "512b900e",
   "metadata": {},
   "outputs": [
    {
     "name": "stdout",
     "output_type": "stream",
     "text": [
      "\n",
      "    Variable |        Obs        Mean    Std. dev.       Min        Max\n",
      "-------------+---------------------------------------------------------\n",
      "        var1 |          5          .4    .5477226          0          1\n",
      "\n",
      "scalars:\n",
      "                  r(N) =  5\n",
      "              r(sum_w) =  5\n",
      "               r(mean) =  .4\n",
      "                r(Var) =  .3\n",
      "                 r(sd) =  .5477225575051662\n",
      "                r(min) =  0\n",
      "                r(max) =  1\n",
      "                r(sum) =  2\n"
     ]
    }
   ],
   "source": [
    "#| eval: false\n",
    "run_noecho('sum \\nreturn list')"
   ]
  },
  {
   "cell_type": "code",
   "execution_count": null,
   "id": "f309af8c",
   "metadata": {},
   "outputs": [
    {
     "name": "stdout",
     "output_type": "stream",
     "text": [
      "\n",
      "scalars:\n",
      "                  r(N) =  5\n",
      "              r(sum_w) =  5\n",
      "               r(mean) =  .4\n",
      "                r(Var) =  .3\n",
      "                 r(sd) =  .5477225575051662\n",
      "                r(min) =  0\n",
      "                r(max) =  1\n",
      "                r(sum) =  2\n"
     ]
    }
   ],
   "source": [
    "#| hide\n",
    "#| eval: false\n",
    "run_noecho('return list')"
   ]
  },
  {
   "cell_type": "code",
   "execution_count": null,
   "id": "04aa748f",
   "metadata": {},
   "outputs": [
    {
     "name": "stdout",
     "output_type": "stream",
     "text": [
      "*** Last updated 17:23:36 11 Jan 2023 ***\n",
      "\n",
      "Contains data\n",
      " Observations:             5                  \n",
      "    Variables:             1                  \n",
      "-------------------------------------------------------------------------------\n",
      "Variable      Storage   Display    Value\n",
      "    name         type    format    label      Variable label\n",
      "-------------------------------------------------------------------------------\n",
      "var1            float   %9.0g                 \n",
      "-------------------------------------------------------------------------------\n",
      "Sorted by: \n",
      "     Note: Dataset has changed since last saved.\n",
      "\n",
      "scalars:\n",
      "                r(sum) =  2\n",
      "                r(max) =  1\n",
      "                r(min) =  0\n",
      "                 r(sd) =  .5477225575051662\n",
      "                r(Var) =  .3\n",
      "               r(mean) =  .4\n",
      "              r(sum_w) =  5\n",
      "                  r(N) =  5\n",
      "\n",
      "--\n",
      "\n",
      "scalars:\n",
      "                r(sum) =  2\n",
      "                r(max) =  1\n",
      "                r(min) =  0\n",
      "                 r(sd) =  .5477225575051662\n",
      "                r(Var) =  .3\n",
      "               r(mean) =  .4\n",
      "              r(sum_w) =  5\n",
      "                  r(N) =  5\n"
     ]
    }
   ],
   "source": [
    "#| eval: false\n",
    "print(get_inspect())\n",
    "print(\"--\")\n",
    "run_noecho('return list')"
   ]
  },
  {
   "cell_type": "code",
   "execution_count": null,
   "id": "1c6dd777",
   "metadata": {},
   "outputs": [],
   "source": [
    "#| hide\n",
    "import nbdev; nbdev.nbdev_export()"
   ]
  }
 ],
 "metadata": {
  "kernelspec": {
   "display_name": "Python 3 (ipykernel)",
   "language": "python",
   "name": "python3"
  }
 },
 "nbformat": 4,
 "nbformat_minor": 5
}
