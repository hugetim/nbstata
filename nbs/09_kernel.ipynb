{
 "cells": [
  {
   "cell_type": "markdown",
   "metadata": {},
   "source": [
    "# kernel\n",
    "\n",
    "> IPythonKernel based on pystata"
   ]
  },
  {
   "cell_type": "markdown",
   "metadata": {},
   "source": [
    "The latest documentation for implementing a wrapper kernel is [here](https://jupyter-client.readthedocs.io/en/latest/wrapperkernels.html), but the current code deviates from those instructions (which call for inheriting from [kernelbase.Kernel](https://github.com/ipython/ipykernel/blob/main/ipykernel/kernelbase.py)), instead inheriting from the IPython kernel implementation, [IPythonKernel](https://github.com/ipython/ipykernel/blob/main/ipykernel/ipkernel.py)."
   ]
  },
  {
   "cell_type": "code",
   "execution_count": null,
   "metadata": {},
   "outputs": [],
   "source": [
    "#| default_exp kernel\n",
    "%load_ext autoreload\n",
    "%autoreload 2"
   ]
  },
  {
   "cell_type": "code",
   "execution_count": null,
   "metadata": {},
   "outputs": [],
   "source": [
    "#| hide\n",
    "from nbdev.showdoc import *"
   ]
  },
  {
   "cell_type": "code",
   "execution_count": null,
   "metadata": {},
   "outputs": [],
   "source": [
    "#| export\n",
    "from nbstata.config import get_config, launch_stata\n",
    "from nbstata.helpers import get_inspect\n",
    "from nbstata.utils import print_red, ending_delimiter, is_cr_delimiter\n",
    "from nbstata.stata_session import StataSession\n",
    "from nbstata.magics import StataMagics\n",
    "from nbstata.completions import CompletionsManager\n",
    "import nbstata # for __version__\n",
    "from fastcore.basics import patch_to\n",
    "from ipykernel.ipkernel import IPythonKernel"
   ]
  },
  {
   "cell_type": "code",
   "execution_count": null,
   "metadata": {},
   "outputs": [],
   "source": [
    "#| export\n",
    "class PyStataKernel(IPythonKernel):\n",
    "    \"\"\"A jupyter kernel based on pystata\"\"\"\n",
    "    implementation = 'nbstata'\n",
    "    implementation_version = nbstata.__version__\n",
    "    language_info = {\n",
    "        'name': 'stata',\n",
    "        'version': '17',\n",
    "        'mimetype': 'text/x-stata',\n",
    "        'file_extension': '.do',\n",
    "    }\n",
    "    banner = \"nbstata: a Jupyter kernel for Stata based on pystata\"\n",
    "    help_links = [\n",
    "        {\n",
    "            \"text\": \"Stata Documentation\",\n",
    "            \"url\": \"https://www.stata.com/features/documentation/\",\n",
    "        },\n",
    "        {\n",
    "            \"text\": \"nbstata Help\",\n",
    "            \"url\": \"https://hugetim.github.io/nbstata/\",\n",
    "        },\n",
    "    ]\n",
    "\n",
    "    def __init__(self, **kwargs):\n",
    "        super().__init__(**kwargs)\n",
    "        self.stata_ready = False\n",
    "        self.shell.execution_count = 0\n",
    "        self.starting_delimiter = None\n",
    "        self.perspective_enabled = None\n",
    "        self.inspect_output = \"Stata not yet initialized.\"\n",
    "        try:\n",
    "            self.init_stata()\n",
    "        except ModuleNotFoundError as err:\n",
    "            pass # wait for first do_execute so error message can be displayed under cell"
   ]
  },
  {
   "cell_type": "code",
   "execution_count": null,
   "metadata": {},
   "outputs": [],
   "source": [
    "#| export\n",
    "def _set_graph_format(graph_format):\n",
    "    if graph_format != 'pystata':\n",
    "        from pystata.config import set_graph_format\n",
    "        set_graph_format(graph_format)"
   ]
  },
  {
   "cell_type": "code",
   "execution_count": null,
   "metadata": {},
   "outputs": [],
   "source": [
    "#| export\n",
    "def _config_stata(env):\n",
    "    launch_stata(env['stata_dir'], env['edition'],\n",
    "                 False if env['splash']=='False' else True)\n",
    "    _set_graph_format(env['graph_format'])"
   ]
  },
  {
   "cell_type": "code",
   "execution_count": null,
   "metadata": {},
   "outputs": [],
   "source": [
    "#| export\n",
    "@patch_to(PyStataKernel)\n",
    "def init_stata(self):\n",
    "    self.env = get_config()\n",
    "    _config_stata(self.env)\n",
    "    self.stata_session = StataSession()\n",
    "    self.magic_handler = StataMagics()\n",
    "    self.completions = CompletionsManager(self.stata_session, list(self.magic_handler.available_magics.keys()))\n",
    "    self.inspect_output = \"\"\n",
    "    self.stata_ready = True"
   ]
  },
  {
   "cell_type": "code",
   "execution_count": null,
   "metadata": {},
   "outputs": [],
   "source": [
    "#| export\n",
    "class Cell:\n",
    "    \"\"\"A class for managing execution of a single code cell\"\"\"                \n",
    "    def _set_echo(self, echo_config):\n",
    "        if echo_config == 'None':\n",
    "            self.noecho = True\n",
    "            self.echo = False\n",
    "        elif echo_config == 'True':\n",
    "            self.noecho = False\n",
    "            self.echo = True\n",
    "        else:\n",
    "            self.noecho = False\n",
    "            self.echo = False\n",
    "    \n",
    "    def __init__(self, kernel, code_w_magics, silent=False):\n",
    "        self._set_echo(kernel.env['echo'])\n",
    "        self.quietly = silent\n",
    "        self.delimiter = kernel.starting_delimiter\n",
    "        self.stata_session = kernel.stata_session\n",
    "        self.code = kernel.magic_handler.magic(code_w_magics, kernel, self)\n",
    " \n",
    "    def _run_noecho(self):\n",
    "        from nbstata.helpers import run_noecho\n",
    "        run_noecho(self.code, self.delimiter,\n",
    "                   run_as_prog=self.stata_session.run_as_prog_with_locals)\n",
    "\n",
    "    def _run_simple(self):\n",
    "        from pystata.stata import run\n",
    "        if not is_cr_delimiter(self.delimiter):\n",
    "            self.code = \"#delimit;\\n\" + self.code\n",
    "        run(self.code, quietly=self.quietly, inline=not self.quietly, echo=self.echo)\n",
    "        \n",
    "    def run(self):\n",
    "        if not self.code:\n",
    "            return\n",
    "        if self.noecho and not self.quietly:\n",
    "            self._run_noecho()\n",
    "        else:\n",
    "            self._run_simple()\n",
    "        self.delimiter = self._check_ending_delimiter()\n",
    "\n",
    "    def _check_ending_delimiter(self):\n",
    "        _ending_delimiter = ending_delimiter(self.code, self.delimiter)\n",
    "        _final_character = self.code.strip()[-1]\n",
    "        _code_missing_final_delimiter = (_ending_delimiter == ';' \n",
    "                                         and _final_character != ';')\n",
    "        if _code_missing_final_delimiter:\n",
    "            print_red(\n",
    "                self._final_delimiter_warning()\n",
    "            )\n",
    "        return _ending_delimiter\n",
    "    \n",
    "    def _final_delimiter_warning(self):\n",
    "        return (\n",
    "            \"Warning: Code cell (with #delimit; in effect) does not end in ';'. \"\n",
    "            \"Exported .do script may behave differently from notebook. \"\n",
    "            \"In v1.0, nbstata may trigger an error instead of just a warning.\"\n",
    "        )"
   ]
  },
  {
   "cell_type": "markdown",
   "metadata": {},
   "source": [
    "Some `Cell` functionality can be tested apart from a kernel:"
   ]
  },
  {
   "cell_type": "code",
   "execution_count": null,
   "metadata": {},
   "outputs": [],
   "source": [
    "from fastcore.test import test_eq\n",
    "from textwrap import dedent\n",
    "from unittest.mock import Mock"
   ]
  },
  {
   "cell_type": "code",
   "execution_count": null,
   "metadata": {},
   "outputs": [
    {
     "data": {
      "text/plain": [
       "'disp \"test output\"'"
      ]
     },
     "execution_count": null,
     "metadata": {},
     "output_type": "execute_result"
    }
   ],
   "source": [
    "kernel1 = Mock()\n",
    "kernel1.env = {'echo': 'None'}\n",
    "kernel1.magic_handler = StataMagics()\n",
    "kernel1.starting_delimiter = None\n",
    "\n",
    "code_w_magics = '''disp \"test output\"'''\n",
    "cell1 = Cell(kernel1, code_w_magics)\n",
    "cell1.code"
   ]
  },
  {
   "cell_type": "code",
   "execution_count": null,
   "metadata": {},
   "outputs": [
    {
     "name": "stdout",
     "output_type": "stream",
     "text": [
      "\u001b[31mWarning: Code cell (with #delimit; in effect) does not end in ';'. Exported .do script may behave differently from notebook. In v1.0, nbstata may trigger an error instead of just a warning.\u001b[0m\n"
     ]
    }
   ],
   "source": [
    "cell1.delimiter = \";\"\n",
    "cell1._check_ending_delimiter()\n",
    "cell1.delimiter = None"
   ]
  },
  {
   "cell_type": "code",
   "execution_count": null,
   "metadata": {},
   "outputs": [
    {
     "name": "stdout",
     "output_type": "stream",
     "text": [
      "test output\n"
     ]
    }
   ],
   "source": [
    "#| eval: false\n",
    "launch_stata(splash=False)\n",
    "kernel1.stata_session = StataSession()\n",
    "cell1a = Cell(kernel1, code_w_magics)\n",
    "cell1a.run()"
   ]
  },
  {
   "cell_type": "code",
   "execution_count": null,
   "metadata": {},
   "outputs": [],
   "source": [
    "code_w_magics = dedent('''\\\n",
    "    *%quietly\n",
    "    disp \"test output\"\n",
    "    ''')\n",
    "cell2 = Cell(kernel1, code_w_magics)\n",
    "test_eq(cell2.quietly, True)"
   ]
  },
  {
   "cell_type": "code",
   "execution_count": null,
   "metadata": {},
   "outputs": [],
   "source": [
    "#| eval: false\n",
    "cell2.run()"
   ]
  },
  {
   "cell_type": "code",
   "execution_count": null,
   "metadata": {},
   "outputs": [],
   "source": [
    "kernel1.env = {'echo': 'True'}\n",
    "\n",
    "code_w_magics = '''disp \"test output\"'''\n",
    "cell3 = Cell(kernel1, code_w_magics)\n",
    "test_eq(cell3.noecho, False)"
   ]
  },
  {
   "cell_type": "code",
   "execution_count": null,
   "metadata": {},
   "outputs": [
    {
     "name": "stdout",
     "output_type": "stream",
     "text": [
      ". disp \"test output\"\n",
      "test output\n"
     ]
    }
   ],
   "source": [
    "#| eval: false\n",
    "cell3.run()"
   ]
  },
  {
   "cell_type": "code",
   "execution_count": null,
   "metadata": {},
   "outputs": [],
   "source": [
    "code_w_magics = dedent('''\\\n",
    "    *%noecho\n",
    "    #delimit cr\n",
    "    disp \"test output\"\n",
    "    ''')\n",
    "cell4 = Cell(kernel1, code_w_magics)\n",
    "test_eq(cell4.noecho, True)"
   ]
  },
  {
   "cell_type": "code",
   "execution_count": null,
   "metadata": {},
   "outputs": [
    {
     "name": "stdout",
     "output_type": "stream",
     "text": [
      "test output\n"
     ]
    }
   ],
   "source": [
    "#| eval: false\n",
    "cell4.run()"
   ]
  },
  {
   "cell_type": "code",
   "execution_count": null,
   "metadata": {},
   "outputs": [],
   "source": [
    "#| export\n",
    "_missing_stata_message = (\n",
    "    \"pystata path not found\\n\"\n",
    "    \"A Stata 17 installation is required to use the nbstata Stata kernel. \"\n",
    "    \"If you already have Stata 17 installed, \"\n",
    "    \"please specify its path in your configuration file.\"\n",
    ")"
   ]
  },
  {
   "cell_type": "code",
   "execution_count": null,
   "metadata": {},
   "outputs": [
    {
     "name": "stdout",
     "output_type": "stream",
     "text": [
      "pystata path not found\n",
      "A Stata 17 installation is required to use the nbstata Stata kernel. If you already have Stata 17 installed, please specify its path in your configuration file.\n"
     ]
    }
   ],
   "source": [
    "#| hide\n",
    "print(_missing_stata_message)"
   ]
  },
  {
   "cell_type": "code",
   "execution_count": null,
   "metadata": {},
   "outputs": [],
   "source": [
    "#| export\n",
    "def _handle_stata_import_error(err, silent, execution_count):\n",
    "    if not silent:\n",
    "        print_red(f\"ModuleNotFoundError: {_missing_stata_message}\")\n",
    "    return {\n",
    "        \"traceback\": [],\n",
    "        \"ename\": \"ModuleNotFoundError\",\n",
    "        \"evalue\": _missing_stata_message,\n",
    "        'status': \"error\",\n",
    "        'execution_count': execution_count,\n",
    "    }"
   ]
  },
  {
   "cell_type": "code",
   "execution_count": null,
   "metadata": {},
   "outputs": [],
   "source": [
    "#| export\n",
    "def print_stata_error(text):\n",
    "    lines = text.splitlines()\n",
    "    if len(lines) > 2:\n",
    "        print(\"\\n\".join(lines[:-2]))\n",
    "    print_red(\"\\n\".join(lines[-2:]))"
   ]
  },
  {
   "cell_type": "code",
   "execution_count": null,
   "metadata": {},
   "outputs": [
    {
     "name": "stdout",
     "output_type": "stream",
     "text": [
      "output prior to error\n",
      "\u001b[31merror message\n",
      "error code\u001b[0m\n"
     ]
    }
   ],
   "source": [
    "print_stata_error(dedent(\"\"\"\\\n",
    "    output prior to error\n",
    "    error message\n",
    "    error code\n",
    "    \"\"\"))"
   ]
  },
  {
   "cell_type": "code",
   "execution_count": null,
   "metadata": {},
   "outputs": [],
   "source": [
    "#| export\n",
    "def _handle_stata_error(err, silent, execution_count):\n",
    "    reply_content = {\n",
    "        \"traceback\": [],\n",
    "        \"ename\": \"Stata error\",\n",
    "        \"evalue\": str(err),\n",
    "    }\n",
    "    if not silent:\n",
    "        print_stata_error(reply_content['evalue'])\n",
    "#         self.send_response(\n",
    "#             self.iopub_socket,\n",
    "#             \"error\",\n",
    "#             reply_content,\n",
    "#         )\n",
    "    reply_content.update({\n",
    "        'status': \"error\",\n",
    "        'execution_count': execution_count,\n",
    "    })\n",
    "    return reply_content"
   ]
  },
  {
   "cell_type": "code",
   "execution_count": null,
   "metadata": {},
   "outputs": [],
   "source": [
    "#| export\n",
    "@patch_to(PyStataKernel)\n",
    "def post_do_hook(self):\n",
    "    self.stata_session.clear_suggestions()\n",
    "    self.inspect_output = \"\""
   ]
  },
  {
   "cell_type": "code",
   "execution_count": null,
   "metadata": {},
   "outputs": [],
   "source": [
    "#| export\n",
    "@patch_to(PyStataKernel)\n",
    "def do_execute(self, code, silent,\n",
    "               store_history=True, user_expressions=None, allow_stdin=False):\n",
    "    \"\"\"Execute Stata code cell\"\"\"\n",
    "    if not self.stata_ready:\n",
    "        try:\n",
    "            self.init_stata()\n",
    "        except ModuleNotFoundError as err:\n",
    "            return _handle_stata_import_error(err, silent, self.execution_count)\n",
    "    self.shell.execution_count += 1\n",
    "    code_cell = Cell(self, code, silent)\n",
    "    try:\n",
    "        code_cell.run()\n",
    "    except SystemError as err:\n",
    "        return _handle_stata_error(err, silent, self.execution_count)\n",
    "    self.starting_delimiter = code_cell.delimiter\n",
    "    self.post_do_hook()\n",
    "    return {\n",
    "        'status': \"ok\",\n",
    "        'execution_count': self.execution_count,\n",
    "        'payload': [],\n",
    "        'user_expressions': {},\n",
    "    }"
   ]
  },
  {
   "cell_type": "code",
   "execution_count": null,
   "metadata": {},
   "outputs": [],
   "source": [
    "#| export\n",
    "@patch_to(PyStataKernel)\n",
    "def do_complete(self, code, cursor_pos):\n",
    "    \"\"\"Provide context-aware suggestions\"\"\"\n",
    "    if self.stata_ready:\n",
    "        cursor_start, cursor_end, matches = self.completions.do(\n",
    "            code,\n",
    "            cursor_pos,\n",
    "            self.starting_delimiter,\n",
    "        )\n",
    "    else:\n",
    "        cursor_start = cursor_end = cursor_pos\n",
    "        matches = []\n",
    "    return {\n",
    "        'status': \"ok\",\n",
    "        'cursor_start': cursor_start,\n",
    "        'cursor_end': cursor_end,\n",
    "        'metadata': {},\n",
    "        'matches': matches,\n",
    "    }"
   ]
  },
  {
   "cell_type": "code",
   "execution_count": null,
   "metadata": {},
   "outputs": [],
   "source": [
    "#| export\n",
    "@patch_to(PyStataKernel)\n",
    "def do_is_complete(self, code):\n",
    "    \"\"\"Overrides IPythonKernel with kernelbase default\"\"\"\n",
    "    return {\"status\": \"unknown\"}"
   ]
  },
  {
   "cell_type": "code",
   "execution_count": null,
   "metadata": {},
   "outputs": [],
   "source": [
    "#| export\n",
    "@patch_to(PyStataKernel)\n",
    "def do_inspect(self, code, cursor_pos, detail_level=0, omit_sections=()):\n",
    "    \"\"\"Display Stata 'describe' output regardless of cursor position\"\"\"\n",
    "    if not self.inspect_output:\n",
    "        self.inspect_output = get_inspect(code, cursor_pos, detail_level, omit_sections)\n",
    "    data = {'text/plain': self.inspect_output}\n",
    "    return {\"status\": \"ok\", \"data\": data, \"metadata\": {}, \"found\": True}"
   ]
  },
  {
   "cell_type": "code",
   "execution_count": null,
   "metadata": {},
   "outputs": [],
   "source": [
    "#| export\n",
    "@patch_to(PyStataKernel)\n",
    "def do_history(\n",
    "    self,\n",
    "    hist_access_type,\n",
    "    output,\n",
    "    raw,\n",
    "    session=None,\n",
    "    start=None,\n",
    "    stop=None,\n",
    "    n=None,\n",
    "    pattern=None,\n",
    "    unique=False,\n",
    "):\n",
    "    \"\"\"Overrides IPythonKernel with kernelbase default\"\"\"\n",
    "    return {\"status\": \"ok\", \"history\": []}"
   ]
  },
  {
   "cell_type": "code",
   "execution_count": null,
   "metadata": {},
   "outputs": [],
   "source": [
    "#| hide\n",
    "import nbdev; nbdev.nbdev_export()"
   ]
  }
 ],
 "metadata": {
  "kernelspec": {
   "display_name": "Python 3 (ipykernel)",
   "language": "python",
   "name": "python3"
  }
 },
 "nbformat": 4,
 "nbformat_minor": 4
}
