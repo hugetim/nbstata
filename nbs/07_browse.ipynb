{
 "cells": [
  {
   "cell_type": "markdown",
   "metadata": {},
   "source": [
    "# browse\n",
    "\n",
    "> Helpers for browse, head, and tail magics"
   ]
  },
  {
   "cell_type": "code",
   "execution_count": null,
   "metadata": {},
   "outputs": [],
   "source": [
    "#| default_exp browse\n",
    "%load_ext autoreload\n",
    "%autoreload 2"
   ]
  },
  {
   "cell_type": "code",
   "execution_count": null,
   "metadata": {},
   "outputs": [],
   "source": [
    "#| hide\n",
    "from nbdev.showdoc import *"
   ]
  },
  {
   "cell_type": "code",
   "execution_count": null,
   "metadata": {},
   "outputs": [],
   "source": [
    "#| export\n",
    "from nbstata.misc_utils import print_red\n",
    "from nbstata.stata_more import SelectVar\n",
    "from nbstata.pandas import better_pdataframe_from_data\n",
    "from fastcore.basics import patch_to\n",
    "import re"
   ]
  },
  {
   "cell_type": "markdown",
   "metadata": {},
   "source": [
    "## Parsing Stata code for browse magic"
   ]
  },
  {
   "cell_type": "code",
   "execution_count": null,
   "metadata": {},
   "outputs": [],
   "source": [
    "#| export\n",
    "parse_code_if_in_regex = re.compile(\n",
    "    r'\\A(?P<code>(?!if\\s)(?!\\sif)(?!in\\s)(?!\\sin).+?)?(?P<if>\\s*if\\s+.+?)?(?P<in>\\s*in\\s.+?)?\\Z',\n",
    "    flags=re.DOTALL + re.MULTILINE\n",
    ")"
   ]
  },
  {
   "cell_type": "code",
   "execution_count": null,
   "metadata": {},
   "outputs": [],
   "source": [
    "#| export\n",
    "def parse_code_if_in(code):\n",
    "    \"\"\"Parse line of Stata code into code, if, in\"\"\"\n",
    "    match = parse_code_if_in_regex.match(code.strip())\n",
    "    if match:\n",
    "        args = match.groupdict()\n",
    "        for k in args:\n",
    "            args[k] = args[k].strip() if args[k] is not None else ''   \n",
    "    else:\n",
    "        args = {'code': code,\n",
    "                'if': '',\n",
    "                'in': ''}    \n",
    "    return args"
   ]
  },
  {
   "cell_type": "code",
   "execution_count": null,
   "metadata": {},
   "outputs": [],
   "source": [
    "from fastcore.test import test_eq, test_fail\n",
    "from textwrap import dedent"
   ]
  },
  {
   "cell_type": "code",
   "execution_count": null,
   "metadata": {},
   "outputs": [],
   "source": [
    "code = \"list var1 if var1==0 in 1/10\"\n",
    "test_eq(parse_code_if_in(code), {'code': 'list var1', 'if': 'if var1==0', 'in': 'in 1/10'})"
   ]
  },
  {
   "cell_type": "code",
   "execution_count": null,
   "metadata": {},
   "outputs": [
    {
     "data": {
      "text/plain": [
       "{'code': 'x', 'if': '', 'in': 'in 1/10'}"
      ]
     },
     "execution_count": null,
     "metadata": {},
     "output_type": "execute_result"
    }
   ],
   "source": [
    "parse_code_if_in('x in 1/10')"
   ]
  },
  {
   "cell_type": "code",
   "execution_count": null,
   "metadata": {},
   "outputs": [
    {
     "data": {
      "text/plain": [
       "{'code': 'list var1', 'if': '', 'in': 'in 1/10 if var1==0'}"
      ]
     },
     "execution_count": null,
     "metadata": {},
     "output_type": "execute_result"
    }
   ],
   "source": [
    "#| hide\n",
    "#Stata doesn't allow reversing the if/in order and it doesn't work here either:\n",
    "parse_code_if_in(\"list var1 in 1/10 if var1==0\")"
   ]
  },
  {
   "cell_type": "code",
   "execution_count": null,
   "metadata": {},
   "outputs": [],
   "source": [
    "#| export\n",
    "def _get_start_end_strs(stata_in_code):\n",
    "    stata_range_code = stata_in_code.replace('in ','').strip()\n",
    "    slash_pos = stata_range_code.find('/')\n",
    "    if slash_pos != -1:\n",
    "        start_str = stata_range_code[:slash_pos]\n",
    "        end_str = stata_range_code[slash_pos+1:]\n",
    "    else:\n",
    "        start_str = \"1\"\n",
    "        end_str = stata_range_code\n",
    "    return start_str, end_str"
   ]
  },
  {
   "cell_type": "code",
   "execution_count": null,
   "metadata": {},
   "outputs": [
    {
     "data": {
      "text/plain": [
       "('1', '10')"
      ]
     },
     "execution_count": null,
     "metadata": {},
     "output_type": "execute_result"
    }
   ],
   "source": [
    "#| hide\n",
    "_get_start_end_strs(\"in 10\")"
   ]
  },
  {
   "cell_type": "code",
   "execution_count": null,
   "metadata": {},
   "outputs": [],
   "source": [
    "#| export\n",
    "def _get_pos_stata_obs_num(in_obs_str, count):\n",
    "    temp_str = in_obs_str.strip().upper()\n",
    "    if temp_str == 'F': \n",
    "        in_obs = 1\n",
    "    elif temp_str == 'L':\n",
    "        in_obs = count\n",
    "    else:\n",
    "        try:\n",
    "            in_obs = int(in_obs_str)\n",
    "        except ValueError as e:\n",
    "            raise ValueError(f\"{in_obs_str} invalid observation number\")\n",
    "        if in_obs < 0: in_obs += count + 1\n",
    "        if in_obs < 1 or in_obs > count:\n",
    "            raise ValueError(f\"{in_obs_str} invalid observation number\")\n",
    "    return in_obs"
   ]
  },
  {
   "cell_type": "code",
   "execution_count": null,
   "metadata": {},
   "outputs": [
    {
     "data": {
      "text/plain": [
       "10"
      ]
     },
     "execution_count": null,
     "metadata": {},
     "output_type": "execute_result"
    }
   ],
   "source": [
    "#| hide\n",
    "_get_pos_stata_obs_num(\"10\", 100)"
   ]
  },
  {
   "cell_type": "code",
   "execution_count": null,
   "metadata": {},
   "outputs": [],
   "source": [
    "#| export\n",
    "def in_range(stata_in_code, count):\n",
    "    \"\"\"Return in-statement range\"\"\"\n",
    "    if not stata_in_code.strip():\n",
    "        return (None, None)\n",
    "    start, end = (_get_pos_stata_obs_num(in_str, count)\n",
    "                  for in_str in _get_start_end_strs(stata_in_code))\n",
    "    if start > end:\n",
    "        raise ValueError(\"observations numbers out of range\")\n",
    "    return (start-1, end)"
   ]
  },
  {
   "cell_type": "code",
   "execution_count": null,
   "metadata": {},
   "outputs": [],
   "source": [
    "test_eq(in_range(\"\", 100), (None, None))\n",
    "test_eq(in_range(\"in 10\", 100), (0, 10))\n",
    "test_eq(in_range(\"in 1/10\", 100), (0, 10))\n",
    "test_eq(in_range(\"in F/10\", 100), (0, 10))\n",
    "test_eq(in_range(\"in 3/10\", 100), (2, 10))\n",
    "test_fail(in_range, args=(\"in 10\", 5))\n",
    "test_fail(in_range, args=(\"in 10/1\", 100))"
   ]
  },
  {
   "cell_type": "markdown",
   "metadata": {},
   "source": [
    "Negative indices are converted to positive, following Stata syntax:"
   ]
  },
  {
   "cell_type": "code",
   "execution_count": null,
   "metadata": {},
   "outputs": [],
   "source": [
    "test_eq(in_range(\"in -10/-1\", 41), (31, 41))"
   ]
  },
  {
   "cell_type": "markdown",
   "metadata": {},
   "source": [
    "## Head/tail/browse magic helpers"
   ]
  },
  {
   "cell_type": "code",
   "execution_count": null,
   "metadata": {},
   "outputs": [],
   "source": [
    "#| export\n",
    "def _split_option_code(code):\n",
    "    code_parts = code.split(',')\n",
    "    main_code = code_parts[0] if code_parts else \"\"\n",
    "    option_code = code_parts[1] if len(code_parts) > 1 else \"\"\n",
    "    return main_code, option_code"
   ]
  },
  {
   "cell_type": "code",
   "execution_count": null,
   "metadata": {},
   "outputs": [],
   "source": [
    "#| export\n",
    "def parse_browse_magic(code):\n",
    "    non_option_code, option_code = _split_option_code(code)\n",
    "    args = parse_code_if_in(non_option_code)\n",
    "    vargs = [c.strip() for c in args['code'].split() if c]\n",
    "    in_code = args['in']\n",
    "    if_code = args['if']\n",
    "    oargs = [c.strip() for c in option_code.split() if c]\n",
    "    return vargs, in_code, if_code, oargs"
   ]
  },
  {
   "cell_type": "code",
   "execution_count": null,
   "metadata": {},
   "outputs": [],
   "source": [
    "code = \"le if year==1920 in 1/10, noformat\"\n",
    "test_eq(parse_browse_magic(code), \n",
    "        (['le'], 'in 1/10', 'if year==1920', ['noformat'])\n",
    "       )"
   ]
  },
  {
   "cell_type": "code",
   "execution_count": null,
   "metadata": {},
   "outputs": [],
   "source": [
    "#| export\n",
    "def _parse_df_params(code, count, browse=False, tail=False):\n",
    "    import numpy as np\n",
    "    vargs, in_code, if_code, oargs = parse_browse_magic(code)\n",
    "    sformat = 'noformat' not in oargs\n",
    "    valuelabel = 'nolabel' not in oargs\n",
    "\n",
    "    N_max = np.inf if browse else 5\n",
    "    if len(vargs) >= 1:\n",
    "        if vargs[0].isnumeric():\n",
    "            # 1st argument is obs count\n",
    "            if browse:\n",
    "                print_red(\"Warning: '%browse [N]' syntax is deprecated \"\n",
    "                          \"and may be removed in v1.0.\")\n",
    "            N_max = int(vargs[0])\n",
    "            del vargs[0]\n",
    "    # Specified variables?\n",
    "    varlist = \" \".join(vargs)\n",
    "\n",
    "    # Obs range\n",
    "    obs_range = None\n",
    "    if browse:\n",
    "        start, end = in_range(in_code, count)\n",
    "        if start != None and end != None:\n",
    "            obs_range = range(start, end)\n",
    "        elif count > N_max:\n",
    "            obs_range = range(0, N_max)\n",
    "    else:\n",
    "        if in_code:\n",
    "            print_red(f\"Note: [in] not allowed for {'tail' if tail else 'head'} \"\n",
    "                      \"magic and is ignored.\"\n",
    "                     )\n",
    "        if count > N_max:\n",
    "            obs_range = range(count - N_max, count) if tail else range(0, N_max)\n",
    "\n",
    "    return obs_range, varlist, if_code, valuelabel, sformat"
   ]
  },
  {
   "cell_type": "code",
   "execution_count": null,
   "metadata": {},
   "outputs": [],
   "source": [
    "#| export\n",
    "def get_df(obs_range, varlist, stata_if_code, missingval, valuelabel, sformat):\n",
    "    with SelectVar(stata_if_code) as sel_varname:\n",
    "        df = better_pdataframe_from_data(obs=obs_range,\n",
    "                                         varlist=varlist,\n",
    "                                         selectvar=sel_varname,\n",
    "                                         missingval=missingval,\n",
    "                                         valuelabel=valuelabel,\n",
    "                                         sformat=sformat,\n",
    "                                        )\n",
    "        if not varlist and sel_varname is not None and sel_varname in df:\n",
    "            df = df.drop([sel_varname], axis=1)\n",
    "    return df"
   ]
  },
  {
   "cell_type": "markdown",
   "metadata": {},
   "source": [
    "## Head/tail magic helpers"
   ]
  },
  {
   "cell_type": "code",
   "execution_count": null,
   "metadata": {},
   "outputs": [],
   "source": [
    "#| export\n",
    "def headtail_df_params(code, count, missing_config, tail=False):\n",
    "    import numpy as np\n",
    "    custom_missingval = missing_config != 'pandas'\n",
    "    missingval = missing_config if custom_missingval else np.NaN\n",
    "    obs_range, varlist, stata_if_code, valuelabel, sformat = (\n",
    "        _parse_df_params(code, count, tail=tail)\n",
    "    )\n",
    "    return obs_range, varlist, stata_if_code, missingval, valuelabel, sformat"
   ]
  },
  {
   "cell_type": "code",
   "execution_count": null,
   "metadata": {},
   "outputs": [],
   "source": [
    "test_eq(headtail_df_params(\"\", 50, \".\"),\n",
    "        ((range(0, 5), '', '', \".\", True, True)))"
   ]
  },
  {
   "cell_type": "code",
   "execution_count": null,
   "metadata": {},
   "outputs": [],
   "source": [
    "test_eq(headtail_df_params(\"10 y s*, noformat\", 50, \".\"),\n",
    "        ((range(0, 10), 'y s*', '', \".\", True, False)))"
   ]
  },
  {
   "cell_type": "code",
   "execution_count": null,
   "metadata": {},
   "outputs": [],
   "source": [
    "test_eq(headtail_df_params(\"10 y s*, noformat\", 50, \".\", tail=True),\n",
    "        ((range(40, 50), 'y s*', '', \".\", True, False)))"
   ]
  },
  {
   "cell_type": "code",
   "execution_count": null,
   "metadata": {},
   "outputs": [],
   "source": [
    "#| export\n",
    "def headtail_get_df(obs_range, varlist, stata_if_code, missingval, valuelabel, sformat):\n",
    "    if not stata_if_code:\n",
    "        return get_df(obs_range, varlist, stata_if_code, missingval, valuelabel, sformat)\n",
    "    N_max = len(obs_range)\n",
    "    tail = obs_range[0] != 0\n",
    "    with SelectVar(stata_if_code) as sel_varname:\n",
    "        df = better_pdataframe_from_data(obs=None,\n",
    "                                         varlist=varlist,\n",
    "                                         selectvar=sel_varname,\n",
    "                                         missingval=missingval,\n",
    "                                         valuelabel=valuelabel,\n",
    "                                         sformat=sformat,\n",
    "                                        )\n",
    "        if not varlist and sel_varname is not None and sel_varname in df:\n",
    "            df = df.drop([sel_varname], axis=1)\n",
    "    return df.tail(N_max) if tail else df.head(N_max)"
   ]
  },
  {
   "cell_type": "code",
   "execution_count": null,
   "metadata": {},
   "outputs": [],
   "source": [
    "from nbstata.config import launch_stata\n",
    "from nbstata.stata import obs_count\n",
    "from nbstata.noecho import run_noecho\n",
    "import numpy as np"
   ]
  },
  {
   "cell_type": "code",
   "execution_count": null,
   "metadata": {},
   "outputs": [
    {
     "name": "stdout",
     "output_type": "stream",
     "text": [
      "(U.S. life expectancy, 1900-1940)\n"
     ]
    }
   ],
   "source": [
    "#| eval: False\n",
    "launch_stata(splash=False)\n",
    "run_noecho(\"\"\"\\\n",
    "sysuse uslifeexp2, clear\n",
    "\"\"\")"
   ]
  },
  {
   "cell_type": "code",
   "execution_count": null,
   "metadata": {},
   "outputs": [
    {
     "data": {
      "text/html": [
       "<div>\n",
       "<style scoped>\n",
       "    .dataframe tbody tr th:only-of-type {\n",
       "        vertical-align: middle;\n",
       "    }\n",
       "\n",
       "    .dataframe tbody tr th {\n",
       "        vertical-align: top;\n",
       "    }\n",
       "\n",
       "    .dataframe thead th {\n",
       "        text-align: right;\n",
       "    }\n",
       "</style>\n",
       "<table border=\"1\" class=\"dataframe\">\n",
       "  <thead>\n",
       "    <tr style=\"text-align: right;\">\n",
       "      <th></th>\n",
       "      <th>year</th>\n",
       "      <th>le</th>\n",
       "    </tr>\n",
       "  </thead>\n",
       "  <tbody>\n",
       "    <tr>\n",
       "      <th>1</th>\n",
       "      <td>1900</td>\n",
       "      <td>47.3</td>\n",
       "    </tr>\n",
       "    <tr>\n",
       "      <th>2</th>\n",
       "      <td>1901</td>\n",
       "      <td>49.1</td>\n",
       "    </tr>\n",
       "    <tr>\n",
       "      <th>3</th>\n",
       "      <td>1902</td>\n",
       "      <td>51.5</td>\n",
       "    </tr>\n",
       "    <tr>\n",
       "      <th>4</th>\n",
       "      <td>1903</td>\n",
       "      <td>50.5</td>\n",
       "    </tr>\n",
       "    <tr>\n",
       "      <th>5</th>\n",
       "      <td>1904</td>\n",
       "      <td>47.6</td>\n",
       "    </tr>\n",
       "  </tbody>\n",
       "</table>\n",
       "</div>"
      ],
      "text/plain": [
       "        year         le\n",
       "1       1900       47.3\n",
       "2       1901       49.1\n",
       "3       1902       51.5\n",
       "4       1903       50.5\n",
       "5       1904       47.6"
      ]
     },
     "execution_count": null,
     "metadata": {},
     "output_type": "execute_result"
    }
   ],
   "source": [
    "#| eval: False\n",
    "get_df(*headtail_df_params('', obs_count(), \".\"))"
   ]
  },
  {
   "cell_type": "code",
   "execution_count": null,
   "metadata": {},
   "outputs": [],
   "source": [
    "#| hide\n",
    "#| eval: False\n",
    "test_eq(get_df(*headtail_df_params('', obs_count(), \".\")),\n",
    "        headtail_get_df(*headtail_df_params('', obs_count(), \".\")),)"
   ]
  },
  {
   "cell_type": "code",
   "execution_count": null,
   "metadata": {},
   "outputs": [
    {
     "data": {
      "text/html": [
       "<div>\n",
       "<style scoped>\n",
       "    .dataframe tbody tr th:only-of-type {\n",
       "        vertical-align: middle;\n",
       "    }\n",
       "\n",
       "    .dataframe tbody tr th {\n",
       "        vertical-align: top;\n",
       "    }\n",
       "\n",
       "    .dataframe thead th {\n",
       "        text-align: right;\n",
       "    }\n",
       "</style>\n",
       "<table border=\"1\" class=\"dataframe\">\n",
       "  <thead>\n",
       "    <tr style=\"text-align: right;\">\n",
       "      <th></th>\n",
       "      <th>year</th>\n",
       "      <th>le</th>\n",
       "    </tr>\n",
       "  </thead>\n",
       "  <tbody>\n",
       "    <tr>\n",
       "      <th>1</th>\n",
       "      <td>1900</td>\n",
       "      <td>47.3</td>\n",
       "    </tr>\n",
       "    <tr>\n",
       "      <th>2</th>\n",
       "      <td>1901</td>\n",
       "      <td>49.1</td>\n",
       "    </tr>\n",
       "    <tr>\n",
       "      <th>3</th>\n",
       "      <td>1902</td>\n",
       "      <td>51.5</td>\n",
       "    </tr>\n",
       "  </tbody>\n",
       "</table>\n",
       "</div>"
      ],
      "text/plain": [
       "        year         le\n",
       "1       1900       47.3\n",
       "2       1901       49.1\n",
       "3       1902       51.5"
      ]
     },
     "execution_count": null,
     "metadata": {},
     "output_type": "execute_result"
    }
   ],
   "source": [
    "#| eval: False\n",
    "headtail_get_df(*headtail_df_params('if year<1903', obs_count(), \".\"))"
   ]
  },
  {
   "cell_type": "code",
   "execution_count": null,
   "metadata": {},
   "outputs": [],
   "source": [
    "#| eval: False\n",
    "test_eq(headtail_get_df(*headtail_df_params('if year<1903', obs_count(), \".\")),\n",
    "        headtail_get_df(*headtail_df_params('if year<1903', obs_count(), \".\", tail=True)),)"
   ]
  },
  {
   "cell_type": "code",
   "execution_count": null,
   "metadata": {},
   "outputs": [
    {
     "data": {
      "text/html": [
       "<div>\n",
       "<style scoped>\n",
       "    .dataframe tbody tr th:only-of-type {\n",
       "        vertical-align: middle;\n",
       "    }\n",
       "\n",
       "    .dataframe tbody tr th {\n",
       "        vertical-align: top;\n",
       "    }\n",
       "\n",
       "    .dataframe thead th {\n",
       "        text-align: right;\n",
       "    }\n",
       "</style>\n",
       "<table border=\"1\" class=\"dataframe\">\n",
       "  <thead>\n",
       "    <tr style=\"text-align: right;\">\n",
       "      <th></th>\n",
       "      <th>year</th>\n",
       "      <th>le</th>\n",
       "    </tr>\n",
       "  </thead>\n",
       "  <tbody>\n",
       "    <tr>\n",
       "      <th>12</th>\n",
       "      <td>1911</td>\n",
       "      <td>52.6</td>\n",
       "    </tr>\n",
       "    <tr>\n",
       "      <th>13</th>\n",
       "      <td>1912</td>\n",
       "      <td>53.5</td>\n",
       "    </tr>\n",
       "    <tr>\n",
       "      <th>14</th>\n",
       "      <td>1913</td>\n",
       "      <td>52.5</td>\n",
       "    </tr>\n",
       "    <tr>\n",
       "      <th>15</th>\n",
       "      <td>1914</td>\n",
       "      <td>54.2</td>\n",
       "    </tr>\n",
       "    <tr>\n",
       "      <th>16</th>\n",
       "      <td>1915</td>\n",
       "      <td>54.5</td>\n",
       "    </tr>\n",
       "  </tbody>\n",
       "</table>\n",
       "</div>"
      ],
      "text/plain": [
       "         year         le\n",
       "12       1911       52.6\n",
       "13       1912       53.5\n",
       "14       1913       52.5\n",
       "15       1914       54.2\n",
       "16       1915       54.5"
      ]
     },
     "execution_count": null,
     "metadata": {},
     "output_type": "execute_result"
    }
   ],
   "source": [
    "#| eval: False\n",
    "headtail_get_df(*headtail_df_params('if year>1910', obs_count(), \".\"))"
   ]
  },
  {
   "cell_type": "code",
   "execution_count": null,
   "metadata": {},
   "outputs": [
    {
     "data": {
      "text/html": [
       "<div>\n",
       "<style scoped>\n",
       "    .dataframe tbody tr th:only-of-type {\n",
       "        vertical-align: middle;\n",
       "    }\n",
       "\n",
       "    .dataframe tbody tr th {\n",
       "        vertical-align: top;\n",
       "    }\n",
       "\n",
       "    .dataframe thead th {\n",
       "        text-align: right;\n",
       "    }\n",
       "</style>\n",
       "<table border=\"1\" class=\"dataframe\">\n",
       "  <thead>\n",
       "    <tr style=\"text-align: right;\">\n",
       "      <th></th>\n",
       "      <th>year</th>\n",
       "      <th>le</th>\n",
       "    </tr>\n",
       "  </thead>\n",
       "  <tbody>\n",
       "    <tr>\n",
       "      <th>37</th>\n",
       "      <td>1936</td>\n",
       "      <td>58.5</td>\n",
       "    </tr>\n",
       "    <tr>\n",
       "      <th>38</th>\n",
       "      <td>1937</td>\n",
       "      <td>60</td>\n",
       "    </tr>\n",
       "    <tr>\n",
       "      <th>39</th>\n",
       "      <td>1938</td>\n",
       "      <td>63.5</td>\n",
       "    </tr>\n",
       "    <tr>\n",
       "      <th>40</th>\n",
       "      <td>1939</td>\n",
       "      <td>63.7</td>\n",
       "    </tr>\n",
       "    <tr>\n",
       "      <th>41</th>\n",
       "      <td>1940</td>\n",
       "      <td>62.9</td>\n",
       "    </tr>\n",
       "  </tbody>\n",
       "</table>\n",
       "</div>"
      ],
      "text/plain": [
       "         year         le\n",
       "37       1936       58.5\n",
       "38       1937         60\n",
       "39       1938       63.5\n",
       "40       1939       63.7\n",
       "41       1940       62.9"
      ]
     },
     "execution_count": null,
     "metadata": {},
     "output_type": "execute_result"
    }
   ],
   "source": [
    "#| hide\n",
    "#| eval: False\n",
    "headtail_get_df(*headtail_df_params('if year>1910', obs_count(), \".\", tail=True))"
   ]
  },
  {
   "cell_type": "code",
   "execution_count": null,
   "metadata": {},
   "outputs": [],
   "source": [
    "#| hide\n",
    "#| eval: False\n",
    "test_eq(headtail_get_df(*headtail_df_params('if year>1910', obs_count(), \".\", tail=True)),\n",
    "        headtail_get_df(*headtail_df_params('', obs_count(), \".\", tail=True)),)"
   ]
  },
  {
   "cell_type": "markdown",
   "metadata": {},
   "source": [
    "## Browse magic helpers"
   ]
  },
  {
   "cell_type": "code",
   "execution_count": null,
   "metadata": {},
   "outputs": [],
   "source": [
    "#| export\n",
    "def browse_df_params(code, count, browse=True, tail=False):\n",
    "    import numpy as np\n",
    "    missingval = np.NaN\n",
    "    obs_range, varlist, stata_if_code, valuelabel, sformat = (\n",
    "        _parse_df_params(code, count, browse)\n",
    "    )\n",
    "    return obs_range, varlist, stata_if_code, missingval, valuelabel, sformat"
   ]
  },
  {
   "cell_type": "code",
   "execution_count": null,
   "metadata": {},
   "outputs": [
    {
     "data": {
      "text/plain": [
       "(range(0, 20), 'y s*', 'if year<1910', nan, True, False)"
      ]
     },
     "execution_count": null,
     "metadata": {},
     "output_type": "execute_result"
    }
   ],
   "source": [
    "#| hide\n",
    "# Can't test because\n",
    "(np.NaN == np.NaN) is False\n",
    "browse_df_params(\"y s* if year<1910 in 1/20, noformat\", 50)"
   ]
  },
  {
   "cell_type": "code",
   "execution_count": null,
   "metadata": {},
   "outputs": [
    {
     "data": {
      "text/plain": [
       "(None, '', '', nan, True, True)"
      ]
     },
     "execution_count": null,
     "metadata": {},
     "output_type": "execute_result"
    }
   ],
   "source": [
    "browse_df_params(\"\", 10)"
   ]
  },
  {
   "cell_type": "code",
   "execution_count": null,
   "metadata": {},
   "outputs": [
    {
     "data": {
      "text/plain": [
       "(None, 'y s*', 'if year<1910', nan, True, False)"
      ]
     },
     "execution_count": null,
     "metadata": {},
     "output_type": "execute_result"
    }
   ],
   "source": [
    "browse_df_params(\"y s* if year<1910, noformat\", 50)"
   ]
  },
  {
   "cell_type": "code",
   "execution_count": null,
   "metadata": {},
   "outputs": [
    {
     "name": "stdout",
     "output_type": "stream",
     "text": [
      "\u001b[31mWarning: '%browse [N]' syntax is deprecated and may be removed in v1.0.\u001b[0m\n"
     ]
    },
    {
     "data": {
      "text/plain": [
       "(range(0, 5), 'y s*', 'if year<1910', nan, True, False)"
      ]
     },
     "execution_count": null,
     "metadata": {},
     "output_type": "execute_result"
    }
   ],
   "source": [
    "#| hide\n",
    "browse_df_params(\"5 y s* if year<1910, noformat\", 10)"
   ]
  },
  {
   "cell_type": "code",
   "execution_count": null,
   "metadata": {},
   "outputs": [
    {
     "data": {
      "text/plain": [
       "(range(0, 5), '', '', nan, True, True)"
      ]
     },
     "execution_count": null,
     "metadata": {},
     "output_type": "execute_result"
    }
   ],
   "source": [
    "browse_df_params('in 1/5', 41)"
   ]
  },
  {
   "cell_type": "code",
   "execution_count": null,
   "metadata": {},
   "outputs": [
    {
     "name": "stdout",
     "output_type": "stream",
     "text": [
      "le if year==1920 in 1/10, noformat\n"
     ]
    },
    {
     "data": {
      "text/html": [
       "<div>\n",
       "<style scoped>\n",
       "    .dataframe tbody tr th:only-of-type {\n",
       "        vertical-align: middle;\n",
       "    }\n",
       "\n",
       "    .dataframe tbody tr th {\n",
       "        vertical-align: top;\n",
       "    }\n",
       "\n",
       "    .dataframe thead th {\n",
       "        text-align: right;\n",
       "    }\n",
       "</style>\n",
       "<table border=\"1\" class=\"dataframe\">\n",
       "  <thead>\n",
       "    <tr style=\"text-align: right;\">\n",
       "      <th></th>\n",
       "    </tr>\n",
       "  </thead>\n",
       "  <tbody>\n",
       "  </tbody>\n",
       "</table>\n",
       "</div>"
      ],
      "text/plain": [
       "Empty DataFrame\n",
       "Columns: []\n",
       "Index: []"
      ]
     },
     "execution_count": null,
     "metadata": {},
     "output_type": "execute_result"
    }
   ],
   "source": [
    "#| hide\n",
    "#| eval: False\n",
    "print(code)\n",
    "get_df(*browse_df_params(code, obs_count()))"
   ]
  },
  {
   "cell_type": "code",
   "execution_count": null,
   "metadata": {},
   "outputs": [
    {
     "data": {
      "text/html": [
       "<div>\n",
       "<style scoped>\n",
       "    .dataframe tbody tr th:only-of-type {\n",
       "        vertical-align: middle;\n",
       "    }\n",
       "\n",
       "    .dataframe tbody tr th {\n",
       "        vertical-align: top;\n",
       "    }\n",
       "\n",
       "    .dataframe thead th {\n",
       "        text-align: right;\n",
       "    }\n",
       "</style>\n",
       "<table border=\"1\" class=\"dataframe\">\n",
       "  <thead>\n",
       "    <tr style=\"text-align: right;\">\n",
       "      <th></th>\n",
       "      <th>year</th>\n",
       "      <th>le</th>\n",
       "    </tr>\n",
       "  </thead>\n",
       "  <tbody>\n",
       "    <tr>\n",
       "      <th>1</th>\n",
       "      <td>1900</td>\n",
       "      <td>47.3</td>\n",
       "    </tr>\n",
       "    <tr>\n",
       "      <th>2</th>\n",
       "      <td>1901</td>\n",
       "      <td>49.1</td>\n",
       "    </tr>\n",
       "    <tr>\n",
       "      <th>3</th>\n",
       "      <td>1902</td>\n",
       "      <td>51.5</td>\n",
       "    </tr>\n",
       "    <tr>\n",
       "      <th>4</th>\n",
       "      <td>1903</td>\n",
       "      <td>50.5</td>\n",
       "    </tr>\n",
       "    <tr>\n",
       "      <th>5</th>\n",
       "      <td>1904</td>\n",
       "      <td>47.6</td>\n",
       "    </tr>\n",
       "  </tbody>\n",
       "</table>\n",
       "</div>"
      ],
      "text/plain": [
       "        year         le\n",
       "1       1900       47.3\n",
       "2       1901       49.1\n",
       "3       1902       51.5\n",
       "4       1903       50.5\n",
       "5       1904       47.6"
      ]
     },
     "execution_count": null,
     "metadata": {},
     "output_type": "execute_result"
    }
   ],
   "source": [
    "#| eval: False\n",
    "get_df(*browse_df_params('in 1/5', obs_count()))"
   ]
  },
  {
   "cell_type": "markdown",
   "metadata": {},
   "source": [
    "## Browse magic: PerspectiveWidget"
   ]
  },
  {
   "cell_type": "code",
   "execution_count": null,
   "metadata": {},
   "outputs": [],
   "source": [
    "#| export\n",
    "def perspective_not_found():\n",
    "    try:\n",
    "        import perspective\n",
    "    except ModuleNotFoundError as e:\n",
    "        return True\n",
    "    else:\n",
    "        return False"
   ]
  },
  {
   "cell_type": "code",
   "execution_count": null,
   "metadata": {},
   "outputs": [],
   "source": [
    "#| export\n",
    "def perspective_is_enabled():\n",
    "    return not perspective_not_found()\n",
    "#     import subprocess\n",
    "#     if perspective_not_found():\n",
    "#         return False\n",
    "#     try:\n",
    "#         output = subprocess.getoutput('jupyter labextension list')\n",
    "#         enabled = bool(re.search(r'@finos/perspective-jupyterlab v\\d\\.\\d\\.\\d enabled ok', output))\n",
    "#         built = not re.search(r'@finos/perspective-jupyterlab needs to be included in build', output)\n",
    "#         return enabled and built\n",
    "#     except Exception as e:\n",
    "#         return False"
   ]
  },
  {
   "cell_type": "code",
   "execution_count": null,
   "metadata": {},
   "outputs": [
    {
     "data": {
      "text/plain": [
       "True"
      ]
     },
     "execution_count": null,
     "metadata": {},
     "output_type": "execute_result"
    }
   ],
   "source": [
    "perspective_is_enabled()"
   ]
  },
  {
   "cell_type": "code",
   "execution_count": null,
   "metadata": {},
   "outputs": [],
   "source": [
    "#| export\n",
    "def browse_not_enabled(kernel):\n",
    "    content = {\n",
    "        'data': {'text/markdown': (\n",
    "            \"browse requires perspective widget to be \"\n",
    "            \"[installed](https://perspective.finos.org/docs/python/#jupyterlab)\"\n",
    "        )},\n",
    "        'metadata': {},\n",
    "    }\n",
    "    kernel.send_response(kernel.iopub_socket, 'display_data', content)\n",
    "    return ''"
   ]
  },
  {
   "cell_type": "code",
   "execution_count": null,
   "metadata": {},
   "outputs": [],
   "source": [
    "#| export\n",
    "def display_perspective(df, sformat):\n",
    "    import perspective\n",
    "    from IPython.display import display\n",
    "    if sformat:\n",
    "        # To prevent perspective from wrongly interpreting numbers as dates\n",
    "        # See: https://perspective.finos.org/docs/table/#schema-and-types\n",
    "        schema = {'index': int}\n",
    "        schema.update({name: str for name in list(df.columns)})\n",
    "        table = perspective.Table(schema)\n",
    "        table.update(df)\n",
    "    else:\n",
    "        table = perspective.Table(df)\n",
    "    w = perspective.PerspectiveWidget(table)\n",
    "    display(w)\n",
    "    \n",
    "    # Alternate display code, from attempt to customize alt. mime-type(s)\n",
    "#     data = {'application/vnd.jupyter.widget-view+json': {\n",
    "#         'version_major': w.get_manager_state()['version_major'],\n",
    "#         'version_minor': w.get_manager_state()['version_minor'],\n",
    "#         'model_id': w.model_id,\n",
    "#     }}\n",
    "#     content = {\n",
    "#         'data': data,\n",
    "#         'metadata': {},\n",
    "#     }\n",
    "#     kernel.send_response(kernel.iopub_socket, 'display_data', content) "
   ]
  },
  {
   "cell_type": "code",
   "execution_count": null,
   "metadata": {},
   "outputs": [
    {
     "data": {
      "application/vnd.jupyter.widget-view+json": {
       "model_id": "eeac0ff5beb8498db05cea295ba5d384",
       "version_major": 2,
       "version_minor": 0
      },
      "text/plain": [
       "PerspectiveWidget(columns=['index', 'year', 'le'], theme=None)"
      ]
     },
     "metadata": {},
     "output_type": "display_data"
    }
   ],
   "source": [
    "#| hide\n",
    "#| eval: False\n",
    "display_perspective(get_df(*browse_df_params('in 1/5, noformat', obs_count())), False)"
   ]
  },
  {
   "cell_type": "code",
   "execution_count": null,
   "metadata": {},
   "outputs": [
    {
     "data": {
      "application/vnd.jupyter.widget-view+json": {
       "model_id": "754b1c5c5a524aa3bbc6a827bb09c58a",
       "version_major": 2,
       "version_minor": 0
      },
      "text/plain": [
       "PerspectiveWidget(columns=['index', 'year', 'le'], theme=None)"
      ]
     },
     "metadata": {},
     "output_type": "display_data"
    }
   ],
   "source": [
    "#| hide\n",
    "#| eval: False\n",
    "display_perspective(get_df(*browse_df_params('in 1/5, noformat', obs_count())), True)"
   ]
  },
  {
   "cell_type": "code",
   "execution_count": null,
   "metadata": {},
   "outputs": [],
   "source": [
    "#| hide\n",
    "import nbdev; nbdev.nbdev_export()"
   ]
  }
 ],
 "metadata": {
  "kernelspec": {
   "display_name": "Python 3 (ipykernel)",
   "language": "python",
   "name": "python3"
  }
 },
 "nbformat": 4,
 "nbformat_minor": 4
}
