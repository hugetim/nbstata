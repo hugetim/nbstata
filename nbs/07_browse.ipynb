{
 "cells": [
  {
   "cell_type": "markdown",
   "metadata": {},
   "source": [
    "# browse\n",
    "\n",
    "> Helpers for browse, head, and tail magics\n",
    "- order: 7"
   ]
  },
  {
   "cell_type": "code",
   "execution_count": null,
   "metadata": {},
   "outputs": [
    {
     "name": "stderr",
     "output_type": "stream",
     "text": [
      "[autoreload of fastcore.basics failed: Traceback (most recent call last):\n",
      "  File \"c:\\Users\\tjhuegerich\\AppData\\Local\\anaconda3\\envs\\nbstata_dev\\Lib\\site-packages\\IPython\\extensions\\autoreload.py\", line 276, in check\n",
      "    superreload(m, reload, self.old_objects)\n",
      "  File \"c:\\Users\\tjhuegerich\\AppData\\Local\\anaconda3\\envs\\nbstata_dev\\Lib\\site-packages\\IPython\\extensions\\autoreload.py\", line 500, in superreload\n",
      "    update_generic(old_obj, new_obj)\n",
      "  File \"c:\\Users\\tjhuegerich\\AppData\\Local\\anaconda3\\envs\\nbstata_dev\\Lib\\site-packages\\IPython\\extensions\\autoreload.py\", line 397, in update_generic\n",
      "    update(a, b)\n",
      "  File \"c:\\Users\\tjhuegerich\\AppData\\Local\\anaconda3\\envs\\nbstata_dev\\Lib\\site-packages\\IPython\\extensions\\autoreload.py\", line 365, in update_class\n",
      "    update_instances(old, new)\n",
      "  File \"c:\\Users\\tjhuegerich\\AppData\\Local\\anaconda3\\envs\\nbstata_dev\\Lib\\site-packages\\IPython\\extensions\\autoreload.py\", line 323, in update_instances\n",
      "    object.__setattr__(ref, \"__class__\", new)\n",
      "TypeError: can't apply this __setattr__ to _InfMeta object\n",
      "]\n",
      "[autoreload of fastcore.foundation failed: Traceback (most recent call last):\n",
      "  File \"c:\\Users\\tjhuegerich\\AppData\\Local\\anaconda3\\envs\\nbstata_dev\\Lib\\site-packages\\IPython\\extensions\\autoreload.py\", line 276, in check\n",
      "    superreload(m, reload, self.old_objects)\n",
      "  File \"c:\\Users\\tjhuegerich\\AppData\\Local\\anaconda3\\envs\\nbstata_dev\\Lib\\site-packages\\IPython\\extensions\\autoreload.py\", line 500, in superreload\n",
      "    update_generic(old_obj, new_obj)\n",
      "  File \"c:\\Users\\tjhuegerich\\AppData\\Local\\anaconda3\\envs\\nbstata_dev\\Lib\\site-packages\\IPython\\extensions\\autoreload.py\", line 397, in update_generic\n",
      "    update(a, b)\n",
      "  File \"c:\\Users\\tjhuegerich\\AppData\\Local\\anaconda3\\envs\\nbstata_dev\\Lib\\site-packages\\IPython\\extensions\\autoreload.py\", line 365, in update_class\n",
      "    update_instances(old, new)\n",
      "  File \"c:\\Users\\tjhuegerich\\AppData\\Local\\anaconda3\\envs\\nbstata_dev\\Lib\\site-packages\\IPython\\extensions\\autoreload.py\", line 323, in update_instances\n",
      "    object.__setattr__(ref, \"__class__\", new)\n",
      "TypeError: can't apply this __setattr__ to _L_Meta object\n",
      "]\n",
      "[autoreload of fastcore.meta failed: Traceback (most recent call last):\n",
      "  File \"c:\\Users\\tjhuegerich\\AppData\\Local\\anaconda3\\envs\\nbstata_dev\\Lib\\site-packages\\IPython\\extensions\\autoreload.py\", line 276, in check\n",
      "    superreload(m, reload, self.old_objects)\n",
      "  File \"c:\\Users\\tjhuegerich\\AppData\\Local\\anaconda3\\envs\\nbstata_dev\\Lib\\site-packages\\IPython\\extensions\\autoreload.py\", line 500, in superreload\n",
      "    update_generic(old_obj, new_obj)\n",
      "  File \"c:\\Users\\tjhuegerich\\AppData\\Local\\anaconda3\\envs\\nbstata_dev\\Lib\\site-packages\\IPython\\extensions\\autoreload.py\", line 397, in update_generic\n",
      "    update(a, b)\n",
      "  File \"c:\\Users\\tjhuegerich\\AppData\\Local\\anaconda3\\envs\\nbstata_dev\\Lib\\site-packages\\IPython\\extensions\\autoreload.py\", line 365, in update_class\n",
      "    update_instances(old, new)\n",
      "  File \"c:\\Users\\tjhuegerich\\AppData\\Local\\anaconda3\\envs\\nbstata_dev\\Lib\\site-packages\\IPython\\extensions\\autoreload.py\", line 323, in update_instances\n",
      "    object.__setattr__(ref, \"__class__\", new)\n",
      "TypeError: can't apply this __setattr__ to PrePostInitMeta object\n",
      "]\n"
     ]
    },
    {
     "name": "stdout",
     "output_type": "stream",
     "text": [
      "The autoreload extension is already loaded. To reload it, use:\n",
      "  %reload_ext autoreload\n"
     ]
    }
   ],
   "source": [
    "#| default_exp browse\n",
    "%load_ext autoreload\n",
    "%autoreload 2"
   ]
  },
  {
   "cell_type": "code",
   "execution_count": null,
   "metadata": {},
   "outputs": [],
   "source": [
    "#| hide\n",
    "from nbdev.showdoc import *"
   ]
  },
  {
   "cell_type": "code",
   "execution_count": null,
   "metadata": {},
   "outputs": [],
   "source": [
    "#| export\n",
    "from nbstata.misc_utils import print_red\n",
    "from nbstata.stata import run_single\n",
    "from nbstata.stata_more import SelectVar, run_direct_cleaned, diverted_stata_output_quicker, run_sfi\n",
    "from nbstata.pandas import better_pdataframe_from_data\n",
    "from fastcore.basics import patch_to\n",
    "import re"
   ]
  },
  {
   "cell_type": "markdown",
   "metadata": {},
   "source": [
    "## Parsing Stata code for browse magic"
   ]
  },
  {
   "cell_type": "code",
   "execution_count": null,
   "metadata": {},
   "outputs": [],
   "source": [
    "#| hide\n",
    "from fastcore.test import test_eq, test_fail\n",
    "from textwrap import dedent"
   ]
  },
  {
   "cell_type": "code",
   "execution_count": null,
   "metadata": {},
   "outputs": [],
   "source": [
    "#| export\n",
    "def _get_start_end_strs(stata_in_code):\n",
    "    stata_range_code = stata_in_code.replace('in ','').strip()\n",
    "    slash_pos = stata_range_code.find('/')\n",
    "    if slash_pos != -1:\n",
    "        start_str = stata_range_code[:slash_pos]\n",
    "        end_str = stata_range_code[slash_pos+1:]\n",
    "    else:\n",
    "        start_str = \"1\"\n",
    "        end_str = stata_range_code\n",
    "    return start_str, end_str"
   ]
  },
  {
   "cell_type": "code",
   "execution_count": null,
   "metadata": {},
   "outputs": [
    {
     "data": {
      "text/plain": [
       "('1', '10')"
      ]
     },
     "execution_count": null,
     "metadata": {},
     "output_type": "execute_result"
    }
   ],
   "source": [
    "#| hide\n",
    "_get_start_end_strs(\"in 10\")"
   ]
  },
  {
   "cell_type": "code",
   "execution_count": null,
   "metadata": {},
   "outputs": [],
   "source": [
    "#| export\n",
    "def _get_pos_stata_obs_num(in_obs_str, count):\n",
    "    temp_str = in_obs_str.strip().upper()\n",
    "    if temp_str == 'F': \n",
    "        in_obs = 1\n",
    "    elif temp_str == 'L':\n",
    "        in_obs = count\n",
    "    else:\n",
    "        try:\n",
    "            in_obs = int(in_obs_str)\n",
    "        except ValueError as e:\n",
    "            raise ValueError(f\"{in_obs_str} invalid observation number\")\n",
    "        if in_obs < 0: in_obs += count + 1\n",
    "        if in_obs < 1 or in_obs > count:\n",
    "            raise ValueError(f\"{in_obs_str} invalid observation number\")\n",
    "    return in_obs"
   ]
  },
  {
   "cell_type": "code",
   "execution_count": null,
   "metadata": {},
   "outputs": [
    {
     "data": {
      "text/plain": [
       "10"
      ]
     },
     "execution_count": null,
     "metadata": {},
     "output_type": "execute_result"
    }
   ],
   "source": [
    "#| hide\n",
    "_get_pos_stata_obs_num(\"10\", 100)"
   ]
  },
  {
   "cell_type": "code",
   "execution_count": null,
   "metadata": {},
   "outputs": [],
   "source": [
    "#| export\n",
    "def in_range(stata_in_code, count):\n",
    "    \"\"\"Return in-statement range\"\"\"\n",
    "    if not stata_in_code.strip():\n",
    "        return (None, None)\n",
    "    start, end = (_get_pos_stata_obs_num(in_str, count)\n",
    "                  for in_str in _get_start_end_strs(stata_in_code))\n",
    "    if start > end:\n",
    "        raise ValueError(\"observations numbers out of range\")\n",
    "    return (start-1, end)"
   ]
  },
  {
   "cell_type": "code",
   "execution_count": null,
   "metadata": {},
   "outputs": [],
   "source": [
    "test_eq(in_range(\"\", 100), (None, None))\n",
    "test_eq(in_range(\"in 10\", 100), (0, 10))\n",
    "test_eq(in_range(\"in 1/10\", 100), (0, 10))\n",
    "test_eq(in_range(\"in F/10\", 100), (0, 10))\n",
    "test_eq(in_range(\"in 3/10\", 100), (2, 10))\n",
    "test_fail(in_range, args=(\"in 10\", 5))\n",
    "test_fail(in_range, args=(\"in 10/1\", 100))"
   ]
  },
  {
   "cell_type": "markdown",
   "metadata": {},
   "source": [
    "Negative indices are converted to positive, following Stata syntax:"
   ]
  },
  {
   "cell_type": "code",
   "execution_count": null,
   "metadata": {},
   "outputs": [],
   "source": [
    "test_eq(in_range(\"in -10/-1\", 41), (31, 41))"
   ]
  },
  {
   "cell_type": "markdown",
   "metadata": {},
   "source": [
    "## Head/tail/browse magic helpers"
   ]
  },
  {
   "cell_type": "code",
   "execution_count": null,
   "metadata": {},
   "outputs": [],
   "source": [
    "#| export\n",
    "def _parse_browse_magic_syntax(code):\n",
    "    _program_name = \"temp_nbstata_syntax_name\"\n",
    "    run_direct_cleaned((\n",
    "        f\"program define {_program_name}\\n\"\n",
    "        \"\"\" syntax [varlist(default=none)] [if] [in] [, noLabels noFormat]\n",
    "            disp \"%varlist%\"\n",
    "            foreach var in `varlist' {\n",
    "                disp \"`var'\"\n",
    "            }\n",
    "            disp \"%if%\"\n",
    "            disp `\"`if'\"'\n",
    "            disp \"%in%\"\n",
    "            disp `\"`in'\"'\n",
    "            disp \"%nolabels%\"\n",
    "            disp \"`labels'\"\n",
    "            disp \"%noformat%\"\n",
    "            disp \"`format'\"\n",
    "            disp \"%end%\"\n",
    "        end\n",
    "        \"\"\"), quietly=True)\n",
    "    try:\n",
    "        output = diverted_stata_output_quicker(f\"\"\"\\\n",
    "            {_program_name} {code}\n",
    "            program drop {_program_name}\n",
    "            \"\"\").strip()\n",
    "    except Exception as e:\n",
    "        run_sfi(f\"capture program drop {_program_name}\")\n",
    "        raise(e)\n",
    "    return output.replace(\"\\n> \", \"\") #[c.strip() for c in var_code.split() if c] if var_code else None"
   ]
  },
  {
   "cell_type": "code",
   "execution_count": null,
   "metadata": {},
   "outputs": [],
   "source": [
    "#| hide\n",
    "from nbstata.config import launch_stata\n",
    "from nbstata.stata import obs_count, run_single\n",
    "import numpy as np"
   ]
  },
  {
   "cell_type": "code",
   "execution_count": null,
   "metadata": {},
   "outputs": [
    {
     "name": "stdout",
     "output_type": "stream",
     "text": [
      "(US life expectancy, 1900–1940)\n",
      "(1 real change made, 1 to missing)\n"
     ]
    }
   ],
   "source": [
    "#| hide\n",
    "#| eval: False\n",
    "launch_stata(splash=False)\n",
    "run_sfi(\"\"\"\\\n",
    "sysuse uslifeexp2, clear\n",
    "replace le = . in 2/2\"\"\")"
   ]
  },
  {
   "cell_type": "code",
   "execution_count": null,
   "metadata": {},
   "outputs": [
    {
     "name": "stdout",
     "output_type": "stream",
     "text": [
      "%varlist%\n",
      "year\n",
      "%if%\n",
      "if year\n",
      "%in%\n",
      "\n",
      "%nolabels%\n",
      "\n",
      "%noformat%\n",
      "noformat\n",
      "%end%\n"
     ]
    }
   ],
   "source": [
    "#| hide\n",
    "#| eval: False\n",
    "print(_parse_browse_magic_syntax(\"y if year, noformat \"))"
   ]
  },
  {
   "cell_type": "code",
   "execution_count": null,
   "metadata": {},
   "outputs": [
    {
     "name": "stdout",
     "output_type": "stream",
     "text": [
      "%varlist%\n",
      "year\n",
      "%if%\n",
      "if year & year & year & year & year & year & year & year & year & year & year & year & year & year & year & year & year & year & year & year\n",
      "%in%\n",
      "\n",
      "%nolabels%\n",
      "\n",
      "%noformat%\n",
      "noformat\n",
      "%end%\n"
     ]
    }
   ],
   "source": [
    "#| hide\n",
    "#| eval: False\n",
    "print(_parse_browse_magic_syntax(\"y if year & year & year & year & year & year & year & year & year & year & year & year & year & year & year & year & year & year & year & year, noformat \"))"
   ]
  },
  {
   "cell_type": "code",
   "execution_count": null,
   "metadata": {},
   "outputs": [],
   "source": [
    "#| hide\n",
    "#| export\n",
    "matchparts = re.compile(\n",
    "            r\"\\A.*?\"\n",
    "            r\"^%varlist%(?P<varlist>.*?)\"\n",
    "            r\"%if%(?P<if>.*?)\"\n",
    "            r\"%in%(?P<in>.*?)\"\n",
    "            r\"%nolabels%(?P<nolabels>.*?)\"\n",
    "            r\"%noformat%(?P<noformat>.*?)%end%\", #\"(\\Z|---+\\s*end)\",\n",
    "            flags=re.DOTALL + re.MULTILINE).match"
   ]
  },
  {
   "cell_type": "code",
   "execution_count": null,
   "metadata": {},
   "outputs": [
    {
     "data": {
      "text/plain": [
       "{'varlist': '\\nyear\\n',\n",
       " 'if': '\\nif year\\n',\n",
       " 'in': '\\n\\n',\n",
       " 'nolabels': '\\n\\n',\n",
       " 'noformat': '\\nnoformat\\n'}"
      ]
     },
     "execution_count": null,
     "metadata": {},
     "output_type": "execute_result"
    }
   ],
   "source": [
    "#| hide\n",
    "#| eval: False\n",
    "matchparts(_parse_browse_magic_syntax(\"y if year, noformat \")).groupdict()"
   ]
  },
  {
   "cell_type": "code",
   "execution_count": null,
   "metadata": {},
   "outputs": [],
   "source": [
    "#| export\n",
    "def parse_browse_magic(code):\n",
    "    N = None\n",
    "    m = re.match(r\"\\A(?P<N>[0-9]+)?[\\s]*(?P<remainder>.*?)\\Z\", code.strip())\n",
    "    if m is None:\n",
    "        raise ValueError(f\"syntax error: this magic must be in a code by itself on a single line\")\n",
    "    if m.group('N'):\n",
    "        N = int(m.group('N'))\n",
    "    code_minus_N = m.group('remainder')\n",
    "    args = matchparts(_parse_browse_magic_syntax(code_minus_N)).groupdict()\n",
    "    _var = [c.strip() for c in args['varlist'].split() if c]\n",
    "    var = _var if _var else None\n",
    "    if_code = args['if'].strip()\n",
    "    in_code = args['in'].strip()\n",
    "    nolabels = args['nolabels'].strip()\n",
    "    noformat = args['noformat'].strip()\n",
    "    return N, var, if_code, in_code, nolabels, noformat"
   ]
  },
  {
   "cell_type": "code",
   "execution_count": null,
   "metadata": {},
   "outputs": [],
   "source": [
    "#| hide\n",
    "#| eval: False\n",
    "test_eq(parse_browse_magic(\"1, noformat\"), \n",
    "        (1, None, '', '', '', 'noformat')\n",
    "       )"
   ]
  },
  {
   "cell_type": "code",
   "execution_count": null,
   "metadata": {},
   "outputs": [],
   "source": [
    "#| eval: False\n",
    "code = \"le if year==1920 in 1/10, noformat\"\n",
    "test_eq(parse_browse_magic(code), \n",
    "        (None, ['le'], 'if year==1920', 'in 1/10', '', 'noformat')\n",
    "       )"
   ]
  },
  {
   "cell_type": "code",
   "execution_count": null,
   "metadata": {},
   "outputs": [],
   "source": [
    "#| eval: False\n",
    "run_single(\"gen date = dofy(year)\")\n",
    "test_eq(parse_browse_magic(\"10 le* if date==mdy(1, 1, 1910), noformat\"),\n",
    "        (10, ['le'], 'if date==mdy(1, 1, 1910)', '', '', 'noformat')\n",
    "       )\n",
    "run_single(\"drop date\")"
   ]
  },
  {
   "cell_type": "code",
   "execution_count": null,
   "metadata": {},
   "outputs": [],
   "source": [
    "#| export\n",
    "def _parse_df_params(code, count, browse=False, tail=False):\n",
    "    from numpy import inf\n",
    "    N, var, if_code, in_code, nolabels, noformat = parse_browse_magic(code)\n",
    "    sformat = not noformat\n",
    "    valuelabel = not nolabels\n",
    "\n",
    "    N_max = inf if browse else 5\n",
    "    if N is not None:\n",
    "        if browse:\n",
    "            print_red(\"Warning: '%browse [N]' syntax is deprecated \"\n",
    "                      \"and may be removed in v1.0.\")\n",
    "        N_max = N\n",
    "\n",
    "    # Obs range\n",
    "    obs_range = None\n",
    "    if browse:\n",
    "        start, end = in_range(in_code, count)\n",
    "        if start != None and end != None:\n",
    "            obs_range = range(start, end)\n",
    "        elif count > N_max:\n",
    "            obs_range = range(0, N_max)\n",
    "    else:\n",
    "        if in_code:\n",
    "            print_red(f\"Note: [in] not allowed for {'tail' if tail else 'head'} \"\n",
    "                      \"magic and is ignored.\"\n",
    "                     )\n",
    "        if count > N_max:\n",
    "            obs_range = range(count - N_max, count) if tail else range(0, N_max)\n",
    "\n",
    "    return obs_range, var, if_code, valuelabel, sformat"
   ]
  },
  {
   "cell_type": "code",
   "execution_count": null,
   "metadata": {},
   "outputs": [],
   "source": [
    "#| export\n",
    "def get_df(obs_range, var, stata_if_code, missingval, valuelabel, sformat):\n",
    "    with SelectVar(stata_if_code) as sel_varname:\n",
    "        df = better_pdataframe_from_data(obs=obs_range,\n",
    "                                         var=var,\n",
    "                                         selectvar=sel_varname,\n",
    "                                         missingval=missingval,\n",
    "                                         valuelabel=valuelabel,\n",
    "                                         sformat=sformat,\n",
    "                                        )\n",
    "        if not var and sel_varname is not None and sel_varname in df:\n",
    "            df = df.drop([sel_varname], axis=1)\n",
    "    return df"
   ]
  },
  {
   "cell_type": "markdown",
   "metadata": {},
   "source": [
    "## Head/tail magic helpers"
   ]
  },
  {
   "cell_type": "code",
   "execution_count": null,
   "metadata": {},
   "outputs": [],
   "source": [
    "#| export\n",
    "def headtail_df_params(code, count, missing_config, tail=False):\n",
    "    from numpy import nan\n",
    "    custom_missingval = missing_config != 'pandas'\n",
    "    missingval = missing_config if custom_missingval else nan\n",
    "    obs_range, var, stata_if_code, valuelabel, sformat = (\n",
    "        _parse_df_params(code, count, tail=tail)\n",
    "    )\n",
    "    return obs_range, var, stata_if_code, missingval, valuelabel, sformat"
   ]
  },
  {
   "cell_type": "code",
   "execution_count": null,
   "metadata": {},
   "outputs": [],
   "source": [
    "#| eval: False\n",
    "test_eq(headtail_df_params(\"\", 50, \".\"),\n",
    "        ((range(0, 5), None, '', \".\", True, True)))"
   ]
  },
  {
   "cell_type": "code",
   "execution_count": null,
   "metadata": {},
   "outputs": [],
   "source": [
    "#| eval: False\n",
    "test_eq(headtail_df_params(\"10 y le*, noformat\", 50, \".\"),\n",
    "        ((range(0, 10), ['year', 'le'], '', \".\", True, False)))"
   ]
  },
  {
   "cell_type": "code",
   "execution_count": null,
   "metadata": {},
   "outputs": [],
   "source": [
    "#| eval: False\n",
    "test_eq(headtail_df_params(\"10 y le*, noformat\", 50, \".\", tail=True),\n",
    "        ((range(40, 50), ['year', 'le'], '', \".\", True, False)))"
   ]
  },
  {
   "cell_type": "code",
   "execution_count": null,
   "metadata": {},
   "outputs": [],
   "source": [
    "#| export\n",
    "def headtail_get_df(obs_range, var, stata_if_code, missingval, valuelabel, sformat):\n",
    "    if not stata_if_code:\n",
    "        return get_df(obs_range, var, stata_if_code, missingval, valuelabel, sformat)\n",
    "    N_max = len(obs_range)\n",
    "    tail = obs_range[0] != 0\n",
    "    with SelectVar(stata_if_code) as sel_varname:\n",
    "        df = better_pdataframe_from_data(obs=None,\n",
    "                                         var=var,\n",
    "                                         selectvar=sel_varname,\n",
    "                                         missingval=missingval,\n",
    "                                         valuelabel=valuelabel,\n",
    "                                         sformat=sformat,\n",
    "                                        )\n",
    "        if not var and sel_varname is not None and sel_varname in df:\n",
    "            df = df.drop([sel_varname], axis=1)\n",
    "    return df.tail(N_max) if tail else df.head(N_max)"
   ]
  },
  {
   "cell_type": "code",
   "execution_count": null,
   "metadata": {},
   "outputs": [
    {
     "data": {
      "text/html": [
       "<div>\n",
       "<style scoped>\n",
       "    .dataframe tbody tr th:only-of-type {\n",
       "        vertical-align: middle;\n",
       "    }\n",
       "\n",
       "    .dataframe tbody tr th {\n",
       "        vertical-align: top;\n",
       "    }\n",
       "\n",
       "    .dataframe thead th {\n",
       "        text-align: right;\n",
       "    }\n",
       "</style>\n",
       "<table border=\"1\" class=\"dataframe\">\n",
       "  <thead>\n",
       "    <tr style=\"text-align: right;\">\n",
       "      <th></th>\n",
       "      <th>year</th>\n",
       "      <th>le</th>\n",
       "    </tr>\n",
       "  </thead>\n",
       "  <tbody>\n",
       "    <tr>\n",
       "      <th>1</th>\n",
       "      <td>1900</td>\n",
       "      <td>47.3</td>\n",
       "    </tr>\n",
       "    <tr>\n",
       "      <th>2</th>\n",
       "      <td>1901</td>\n",
       "      <td>.</td>\n",
       "    </tr>\n",
       "    <tr>\n",
       "      <th>3</th>\n",
       "      <td>1902</td>\n",
       "      <td>51.5</td>\n",
       "    </tr>\n",
       "    <tr>\n",
       "      <th>4</th>\n",
       "      <td>1903</td>\n",
       "      <td>50.5</td>\n",
       "    </tr>\n",
       "    <tr>\n",
       "      <th>5</th>\n",
       "      <td>1904</td>\n",
       "      <td>47.6</td>\n",
       "    </tr>\n",
       "  </tbody>\n",
       "</table>\n",
       "</div>"
      ],
      "text/plain": [
       "   year    le\n",
       "1  1900  47.3\n",
       "2  1901     .\n",
       "3  1902  51.5\n",
       "4  1903  50.5\n",
       "5  1904  47.6"
      ]
     },
     "execution_count": null,
     "metadata": {},
     "output_type": "execute_result"
    }
   ],
   "source": [
    "#| hide\n",
    "#| eval: False\n",
    "get_df(*headtail_df_params('', obs_count(), \".\"))"
   ]
  },
  {
   "cell_type": "code",
   "execution_count": null,
   "metadata": {},
   "outputs": [],
   "source": [
    "#| hide\n",
    "#| eval: False\n",
    "test_eq(get_df(*headtail_df_params('', obs_count(), \".\")),\n",
    "        headtail_get_df(*headtail_df_params('', obs_count(), \".\")),)"
   ]
  },
  {
   "cell_type": "code",
   "execution_count": null,
   "metadata": {},
   "outputs": [
    {
     "data": {
      "text/html": [
       "<div>\n",
       "<style scoped>\n",
       "    .dataframe tbody tr th:only-of-type {\n",
       "        vertical-align: middle;\n",
       "    }\n",
       "\n",
       "    .dataframe tbody tr th {\n",
       "        vertical-align: top;\n",
       "    }\n",
       "\n",
       "    .dataframe thead th {\n",
       "        text-align: right;\n",
       "    }\n",
       "</style>\n",
       "<table border=\"1\" class=\"dataframe\">\n",
       "  <thead>\n",
       "    <tr style=\"text-align: right;\">\n",
       "      <th></th>\n",
       "      <th>year</th>\n",
       "      <th>le</th>\n",
       "    </tr>\n",
       "  </thead>\n",
       "  <tbody>\n",
       "    <tr>\n",
       "      <th>1</th>\n",
       "      <td>1900</td>\n",
       "      <td>47.3</td>\n",
       "    </tr>\n",
       "    <tr>\n",
       "      <th>2</th>\n",
       "      <td>1901</td>\n",
       "      <td>.</td>\n",
       "    </tr>\n",
       "    <tr>\n",
       "      <th>3</th>\n",
       "      <td>1902</td>\n",
       "      <td>51.5</td>\n",
       "    </tr>\n",
       "  </tbody>\n",
       "</table>\n",
       "</div>"
      ],
      "text/plain": [
       "   year    le\n",
       "1  1900  47.3\n",
       "2  1901     .\n",
       "3  1902  51.5"
      ]
     },
     "execution_count": null,
     "metadata": {},
     "output_type": "execute_result"
    }
   ],
   "source": [
    "#| eval: False\n",
    "headtail_get_df(*headtail_df_params('if year<1903', obs_count(), \".\"))"
   ]
  },
  {
   "cell_type": "code",
   "execution_count": null,
   "metadata": {},
   "outputs": [],
   "source": [
    "#| eval: False\n",
    "test_eq(headtail_get_df(*headtail_df_params('if year<1903', obs_count(), \".\")),\n",
    "        headtail_get_df(*headtail_df_params('if year<1903', obs_count(), \".\", tail=True)),)"
   ]
  },
  {
   "cell_type": "code",
   "execution_count": null,
   "metadata": {},
   "outputs": [
    {
     "data": {
      "text/html": [
       "<div>\n",
       "<style scoped>\n",
       "    .dataframe tbody tr th:only-of-type {\n",
       "        vertical-align: middle;\n",
       "    }\n",
       "\n",
       "    .dataframe tbody tr th {\n",
       "        vertical-align: top;\n",
       "    }\n",
       "\n",
       "    .dataframe thead th {\n",
       "        text-align: right;\n",
       "    }\n",
       "</style>\n",
       "<table border=\"1\" class=\"dataframe\">\n",
       "  <thead>\n",
       "    <tr style=\"text-align: right;\">\n",
       "      <th></th>\n",
       "      <th>year</th>\n",
       "      <th>le</th>\n",
       "    </tr>\n",
       "  </thead>\n",
       "  <tbody>\n",
       "    <tr>\n",
       "      <th>12</th>\n",
       "      <td>1911</td>\n",
       "      <td>52.6</td>\n",
       "    </tr>\n",
       "    <tr>\n",
       "      <th>13</th>\n",
       "      <td>1912</td>\n",
       "      <td>53.5</td>\n",
       "    </tr>\n",
       "    <tr>\n",
       "      <th>14</th>\n",
       "      <td>1913</td>\n",
       "      <td>52.5</td>\n",
       "    </tr>\n",
       "    <tr>\n",
       "      <th>15</th>\n",
       "      <td>1914</td>\n",
       "      <td>54.2</td>\n",
       "    </tr>\n",
       "    <tr>\n",
       "      <th>16</th>\n",
       "      <td>1915</td>\n",
       "      <td>54.5</td>\n",
       "    </tr>\n",
       "  </tbody>\n",
       "</table>\n",
       "</div>"
      ],
      "text/plain": [
       "    year    le\n",
       "12  1911  52.6\n",
       "13  1912  53.5\n",
       "14  1913  52.5\n",
       "15  1914  54.2\n",
       "16  1915  54.5"
      ]
     },
     "execution_count": null,
     "metadata": {},
     "output_type": "execute_result"
    }
   ],
   "source": [
    "#| eval: False\n",
    "headtail_get_df(*headtail_df_params('if year>1910', obs_count(), \".\"))"
   ]
  },
  {
   "cell_type": "code",
   "execution_count": null,
   "metadata": {},
   "outputs": [
    {
     "data": {
      "text/html": [
       "<div>\n",
       "<style scoped>\n",
       "    .dataframe tbody tr th:only-of-type {\n",
       "        vertical-align: middle;\n",
       "    }\n",
       "\n",
       "    .dataframe tbody tr th {\n",
       "        vertical-align: top;\n",
       "    }\n",
       "\n",
       "    .dataframe thead th {\n",
       "        text-align: right;\n",
       "    }\n",
       "</style>\n",
       "<table border=\"1\" class=\"dataframe\">\n",
       "  <thead>\n",
       "    <tr style=\"text-align: right;\">\n",
       "      <th></th>\n",
       "      <th>year</th>\n",
       "      <th>le</th>\n",
       "    </tr>\n",
       "  </thead>\n",
       "  <tbody>\n",
       "    <tr>\n",
       "      <th>37</th>\n",
       "      <td>1936</td>\n",
       "      <td>58.5</td>\n",
       "    </tr>\n",
       "    <tr>\n",
       "      <th>38</th>\n",
       "      <td>1937</td>\n",
       "      <td>60</td>\n",
       "    </tr>\n",
       "    <tr>\n",
       "      <th>39</th>\n",
       "      <td>1938</td>\n",
       "      <td>63.5</td>\n",
       "    </tr>\n",
       "    <tr>\n",
       "      <th>40</th>\n",
       "      <td>1939</td>\n",
       "      <td>63.7</td>\n",
       "    </tr>\n",
       "    <tr>\n",
       "      <th>41</th>\n",
       "      <td>1940</td>\n",
       "      <td>62.9</td>\n",
       "    </tr>\n",
       "  </tbody>\n",
       "</table>\n",
       "</div>"
      ],
      "text/plain": [
       "    year    le\n",
       "37  1936  58.5\n",
       "38  1937    60\n",
       "39  1938  63.5\n",
       "40  1939  63.7\n",
       "41  1940  62.9"
      ]
     },
     "execution_count": null,
     "metadata": {},
     "output_type": "execute_result"
    }
   ],
   "source": [
    "#| hide\n",
    "#| eval: False\n",
    "headtail_get_df(*headtail_df_params('if year>1910', obs_count(), \".\", tail=True))"
   ]
  },
  {
   "cell_type": "code",
   "execution_count": null,
   "metadata": {},
   "outputs": [],
   "source": [
    "#| hide\n",
    "#| eval: False\n",
    "test_eq(headtail_get_df(*headtail_df_params('if year>1910', obs_count(), \".\", tail=True)),\n",
    "        headtail_get_df(*headtail_df_params('', obs_count(), \".\", tail=True)),)"
   ]
  },
  {
   "cell_type": "code",
   "execution_count": null,
   "metadata": {},
   "outputs": [
    {
     "data": {
      "text/html": [
       "<div>\n",
       "<style scoped>\n",
       "    .dataframe tbody tr th:only-of-type {\n",
       "        vertical-align: middle;\n",
       "    }\n",
       "\n",
       "    .dataframe tbody tr th {\n",
       "        vertical-align: top;\n",
       "    }\n",
       "\n",
       "    .dataframe thead th {\n",
       "        text-align: right;\n",
       "    }\n",
       "</style>\n",
       "<table border=\"1\" class=\"dataframe\">\n",
       "  <thead>\n",
       "    <tr style=\"text-align: right;\">\n",
       "      <th></th>\n",
       "      <th>le</th>\n",
       "    </tr>\n",
       "  </thead>\n",
       "  <tbody>\n",
       "    <tr>\n",
       "      <th>11</th>\n",
       "      <td>50</td>\n",
       "    </tr>\n",
       "  </tbody>\n",
       "</table>\n",
       "</div>"
      ],
      "text/plain": [
       "    le\n",
       "11  50"
      ]
     },
     "execution_count": null,
     "metadata": {},
     "output_type": "execute_result"
    }
   ],
   "source": [
    "#| hide\n",
    "#| eval: False\n",
    "run_single(\"gen date = dofy(year)\")\n",
    "headtail_get_df(*headtail_df_params('10 le* if date==mdy(1, 1, 1910)', obs_count(), \".\", tail=False))"
   ]
  },
  {
   "cell_type": "code",
   "execution_count": null,
   "metadata": {},
   "outputs": [],
   "source": [
    "#| hide\n",
    "#| eval: False\n",
    "run_single(\"drop date\")"
   ]
  },
  {
   "cell_type": "markdown",
   "metadata": {},
   "source": [
    "## Browse magic helpers"
   ]
  },
  {
   "cell_type": "code",
   "execution_count": null,
   "metadata": {},
   "outputs": [],
   "source": [
    "#| export\n",
    "def browse_df_params(code, count, missing_config):\n",
    "    from numpy import nan\n",
    "    custom_missingval = missing_config != 'pandas'\n",
    "    missingval = missing_config if custom_missingval else nan\n",
    "    obs_range, var, stata_if_code, valuelabel, sformat = (\n",
    "        _parse_df_params(code, count, browse=True)\n",
    "    )\n",
    "    return obs_range, var, stata_if_code, missingval, valuelabel, sformat"
   ]
  },
  {
   "cell_type": "code",
   "execution_count": null,
   "metadata": {},
   "outputs": [],
   "source": [
    "#| hide\n",
    "#| eval: False\n",
    "test_eq(browse_df_params(\"y le* if year<1910 in 1/20, noformat\", 50, '.'),\n",
    "        (range(0, 20), ['year', 'le'], 'if year<1910', '.', True, False))"
   ]
  },
  {
   "cell_type": "code",
   "execution_count": null,
   "metadata": {},
   "outputs": [
    {
     "data": {
      "text/plain": [
       "(None, None, '', nan, True, True)"
      ]
     },
     "execution_count": null,
     "metadata": {},
     "output_type": "execute_result"
    }
   ],
   "source": [
    "#| eval: False\n",
    "browse_df_params(\"\", 10, 'pandas')"
   ]
  },
  {
   "cell_type": "code",
   "execution_count": null,
   "metadata": {},
   "outputs": [
    {
     "data": {
      "text/plain": [
       "(None, ['year', 'le'], 'if year<1910', '.', True, False)"
      ]
     },
     "execution_count": null,
     "metadata": {},
     "output_type": "execute_result"
    }
   ],
   "source": [
    "#| eval: False\n",
    "browse_df_params(\"y le* if year<1910, noformat\", 50, '.')"
   ]
  },
  {
   "cell_type": "code",
   "execution_count": null,
   "metadata": {},
   "outputs": [
    {
     "name": "stdout",
     "output_type": "stream",
     "text": [
      "\u001b[31mWarning: '%browse [N]' syntax is deprecated and may be removed in v1.0.\u001b[0m\n"
     ]
    },
    {
     "data": {
      "text/plain": [
       "(range(0, 5), ['year', 'le'], 'if year<1910', '.', True, False)"
      ]
     },
     "execution_count": null,
     "metadata": {},
     "output_type": "execute_result"
    }
   ],
   "source": [
    "#| hide\n",
    "#| eval: False\n",
    "browse_df_params(\"5 y le* if year<1910, noformat\", 10, '.')"
   ]
  },
  {
   "cell_type": "code",
   "execution_count": null,
   "metadata": {},
   "outputs": [
    {
     "data": {
      "text/plain": [
       "(range(0, 5), None, '', '.', True, True)"
      ]
     },
     "execution_count": null,
     "metadata": {},
     "output_type": "execute_result"
    }
   ],
   "source": [
    "#| eval: False\n",
    "browse_df_params('in 1/5', 41, '.')"
   ]
  },
  {
   "cell_type": "code",
   "execution_count": null,
   "metadata": {},
   "outputs": [
    {
     "name": "stdout",
     "output_type": "stream",
     "text": [
      "le if year==1920 in 1/10, noformat\n"
     ]
    },
    {
     "data": {
      "text/html": [
       "<div>\n",
       "<style scoped>\n",
       "    .dataframe tbody tr th:only-of-type {\n",
       "        vertical-align: middle;\n",
       "    }\n",
       "\n",
       "    .dataframe tbody tr th {\n",
       "        vertical-align: top;\n",
       "    }\n",
       "\n",
       "    .dataframe thead th {\n",
       "        text-align: right;\n",
       "    }\n",
       "</style>\n",
       "<table border=\"1\" class=\"dataframe\">\n",
       "  <thead>\n",
       "    <tr style=\"text-align: right;\">\n",
       "      <th></th>\n",
       "    </tr>\n",
       "  </thead>\n",
       "  <tbody>\n",
       "  </tbody>\n",
       "</table>\n",
       "</div>"
      ],
      "text/plain": [
       "Empty DataFrame\n",
       "Columns: []\n",
       "Index: []"
      ]
     },
     "execution_count": null,
     "metadata": {},
     "output_type": "execute_result"
    }
   ],
   "source": [
    "#| hide\n",
    "#| eval: False\n",
    "print(code)\n",
    "get_df(*browse_df_params(code, obs_count(), '.'))"
   ]
  },
  {
   "cell_type": "code",
   "execution_count": null,
   "metadata": {},
   "outputs": [
    {
     "data": {
      "text/html": [
       "<div>\n",
       "<style scoped>\n",
       "    .dataframe tbody tr th:only-of-type {\n",
       "        vertical-align: middle;\n",
       "    }\n",
       "\n",
       "    .dataframe tbody tr th {\n",
       "        vertical-align: top;\n",
       "    }\n",
       "\n",
       "    .dataframe thead th {\n",
       "        text-align: right;\n",
       "    }\n",
       "</style>\n",
       "<table border=\"1\" class=\"dataframe\">\n",
       "  <thead>\n",
       "    <tr style=\"text-align: right;\">\n",
       "      <th></th>\n",
       "      <th>year</th>\n",
       "      <th>le</th>\n",
       "    </tr>\n",
       "  </thead>\n",
       "  <tbody>\n",
       "    <tr>\n",
       "      <th>1</th>\n",
       "      <td>1900</td>\n",
       "      <td>47.3</td>\n",
       "    </tr>\n",
       "    <tr>\n",
       "      <th>2</th>\n",
       "      <td>1901</td>\n",
       "      <td>.</td>\n",
       "    </tr>\n",
       "    <tr>\n",
       "      <th>3</th>\n",
       "      <td>1902</td>\n",
       "      <td>51.5</td>\n",
       "    </tr>\n",
       "    <tr>\n",
       "      <th>4</th>\n",
       "      <td>1903</td>\n",
       "      <td>50.5</td>\n",
       "    </tr>\n",
       "    <tr>\n",
       "      <th>5</th>\n",
       "      <td>1904</td>\n",
       "      <td>47.6</td>\n",
       "    </tr>\n",
       "  </tbody>\n",
       "</table>\n",
       "</div>"
      ],
      "text/plain": [
       "   year    le\n",
       "1  1900  47.3\n",
       "2  1901     .\n",
       "3  1902  51.5\n",
       "4  1903  50.5\n",
       "5  1904  47.6"
      ]
     },
     "execution_count": null,
     "metadata": {},
     "output_type": "execute_result"
    }
   ],
   "source": [
    "#| eval: False\n",
    "get_df(*browse_df_params('in 1/5', obs_count(), '.'))"
   ]
  },
  {
   "cell_type": "code",
   "execution_count": null,
   "metadata": {},
   "outputs": [],
   "source": [
    "#| export\n",
    "def set_ipydatagrid_height():\n",
    "    from IPython.core.display import HTML\n",
    "    display(HTML(\"<style>div.jp-Notebook .datagrid-container {min-height: 448px; }</style>\"))"
   ]
  },
  {
   "cell_type": "code",
   "execution_count": null,
   "metadata": {},
   "outputs": [],
   "source": [
    "#| export\n",
    "def display_df_as_ipydatagrid(df):\n",
    "    from ipydatagrid import DataGrid, TextRenderer\n",
    "    i_renderer = TextRenderer(horizontal_alignment=\"right\", background_color=\"rgb(243, 243, 243)\")\n",
    "    d_renderer = TextRenderer(horizontal_alignment=\"right\")\n",
    "    h_renderer = TextRenderer(horizontal_alignment=\"center\")\n",
    "    column_widths = {}\n",
    "    temp_head = df.head(20)\n",
    "    char_px_width = 6.05\n",
    "    def name_width(name_len):\n",
    "        if name_len <= 15:\n",
    "            return 43 + char_px_width*name_len\n",
    "        elif name_len > 22 or name_len%2 == 0:\n",
    "            return 43 + char_px_width*15.3\n",
    "        else:\n",
    "            return 43 + char_px_width*14.3\n",
    "            \n",
    "    for name in list(df):\n",
    "        column_widths[name] = max(\n",
    "            name_width(len(name)),\n",
    "            20 + char_px_width*max((len(str(value)) for value in temp_head[name])),\n",
    "        )\n",
    "    column_widths[\" \"] = 20 + char_px_width*len(str(max(df.index.values)))\n",
    "    g = DataGrid(df,\n",
    "                 index_name=\" \",\n",
    "                 editable=False,\n",
    "                 selection_mode='cell',\n",
    "                 base_row_size=21,\n",
    "                 auto_fit_columns=False,\n",
    "                 default_renderer=d_renderer,\n",
    "                 header_renderer=h_renderer,\n",
    "                 renderers={\" \": i_renderer},\n",
    "                 column_widths=column_widths,\n",
    "                 #layout={\"height\": \"100%\"},\n",
    "                )\n",
    "    g.grid_style = {\n",
    "        \"background_color\": \"rgb(255, 255, 255)\",\n",
    "        \"header_background_color\": \"rgb(243, 243, 243)\",\n",
    "        \"header_grid_line_color\": \"rgb(229, 229, 229)\",\n",
    "        \"vertical_grid_line_color\": \"rgb(229, 229, 229)\",\n",
    "        \"horizontal_grid_line_color\": \"rgb(229, 229, 229)\",\n",
    "        \"selection_fill_color\": \"rgb(59, 135, 195, .25)\", # 206, 225, 240\n",
    "        \"selection_border_color\": \"rgb(229, 229, 229)\",\n",
    "        \"header_selection_fill_color\": \"rgb(99, 99, 99, .25)\", #216\n",
    "        \"header_selection_border_color\": \"rgb(229, 229, 229)\",\n",
    "        \"cursor_fill_color\": \"rgb(255, 255, 255, 0)\",\n",
    "        \"cursor_border_color\": \"rgb(40, 40, 40)\",\n",
    "        \"scroll_shadow\": {'size': 0, 'color1': \"white\", 'color2': \"white\", 'color3': \"white\"},\n",
    "    }\n",
    "    display(g)"
   ]
  },
  {
   "cell_type": "code",
   "execution_count": null,
   "metadata": {},
   "outputs": [
    {
     "name": "stdout",
     "output_type": "stream",
     "text": [
      "(41 missing values generated)\n"
     ]
    }
   ],
   "source": [
    "#| eval: False\n",
    "#set_ipydatagrid_height()\n",
    "run_single('gen long_name_1234567 = \"\"')\n",
    "run_single('gen long_str = \"10000000000200000000003000000000040000000000500000000006000000000070000000000800000000009000000000010000000000\"')"
   ]
  },
  {
   "cell_type": "code",
   "execution_count": null,
   "metadata": {},
   "outputs": [
    {
     "data": {
      "application/vnd.jupyter.widget-view+json": {
       "model_id": "ce1e6d559d4f4c61b7afb35f179ebb55",
       "version_major": 2,
       "version_minor": 0
      },
      "text/plain": [
       "DataGrid(auto_fit_params={'area': 'all', 'padding': 30, 'numCols': None}, base_row_size=21, column_widths={'ye…"
      ]
     },
     "metadata": {},
     "output_type": "display_data"
    }
   ],
   "source": [
    "#| eval: False\n",
    "df = get_df(*browse_df_params(', noformat', obs_count(), '.'))\n",
    "display_df_as_ipydatagrid(df)"
   ]
  },
  {
   "cell_type": "code",
   "execution_count": null,
   "metadata": {},
   "outputs": [
    {
     "name": "stdout",
     "output_type": "stream",
     "text": [
      "(1978 automobile data)\n"
     ]
    }
   ],
   "source": [
    "#| eval: False\n",
    "#set_ipydatagrid_height()\n",
    "run_single('sysuse auto, clear')"
   ]
  },
  {
   "cell_type": "code",
   "execution_count": null,
   "metadata": {},
   "outputs": [
    {
     "data": {
      "application/vnd.jupyter.widget-view+json": {
       "model_id": "c82cd1830aab494ea9f988d1a33e9889",
       "version_major": 2,
       "version_minor": 0
      },
      "text/plain": [
       "DataGrid(auto_fit_params={'area': 'all', 'padding': 30, 'numCols': None}, base_row_size=21, column_widths={'ma…"
      ]
     },
     "metadata": {},
     "output_type": "display_data"
    }
   ],
   "source": [
    "#| eval: False\n",
    "df = get_df(*browse_df_params('', obs_count(), '.'))\n",
    "display_df_as_ipydatagrid(df)"
   ]
  },
  {
   "cell_type": "code",
   "execution_count": null,
   "metadata": {},
   "outputs": [
    {
     "ename": "AttributeError",
     "evalue": "module 'nbdev' has no attribute 'export'",
     "output_type": "error",
     "traceback": [
      "\u001b[1;31m---------------------------------------------------------------------------\u001b[0m",
      "\u001b[1;31mAttributeError\u001b[0m                            Traceback (most recent call last)",
      "Cell \u001b[1;32mIn[144], line 2\u001b[0m\n\u001b[0;32m      1\u001b[0m \u001b[38;5;66;03m#| hide\u001b[39;00m\n\u001b[1;32m----> 2\u001b[0m \u001b[38;5;28;01mimport\u001b[39;00m \u001b[38;5;21;01mnbdev\u001b[39;00m; nbdev\u001b[38;5;241m.\u001b[39mnbdev_export()\n",
      "File \u001b[1;32mc:\\Users\\tjhuegerich\\AppData\\Local\\anaconda3\\envs\\nbstata_dev\\Lib\\site-packages\\fastcore\\script.py:112\u001b[0m, in \u001b[0;36mcall_parse.<locals>._f\u001b[1;34m(*args, **kwargs)\u001b[0m\n\u001b[0;32m    109\u001b[0m \u001b[38;5;129m@wraps\u001b[39m(func)\n\u001b[0;32m    110\u001b[0m \u001b[38;5;28;01mdef\u001b[39;00m \u001b[38;5;21m_f\u001b[39m(\u001b[38;5;241m*\u001b[39margs, \u001b[38;5;241m*\u001b[39m\u001b[38;5;241m*\u001b[39mkwargs):\n\u001b[0;32m    111\u001b[0m     mod \u001b[38;5;241m=\u001b[39m inspect\u001b[38;5;241m.\u001b[39mgetmodule(inspect\u001b[38;5;241m.\u001b[39mcurrentframe()\u001b[38;5;241m.\u001b[39mf_back)\n\u001b[1;32m--> 112\u001b[0m     \u001b[38;5;28;01mif\u001b[39;00m \u001b[38;5;129;01mnot\u001b[39;00m mod: \u001b[38;5;28;01mreturn\u001b[39;00m \u001b[43mfunc\u001b[49m\u001b[43m(\u001b[49m\u001b[38;5;241;43m*\u001b[39;49m\u001b[43margs\u001b[49m\u001b[43m,\u001b[49m\u001b[43m \u001b[49m\u001b[38;5;241;43m*\u001b[39;49m\u001b[38;5;241;43m*\u001b[39;49m\u001b[43mkwargs\u001b[49m\u001b[43m)\u001b[49m\n\u001b[0;32m    113\u001b[0m     \u001b[38;5;28;01mif\u001b[39;00m \u001b[38;5;129;01mnot\u001b[39;00m SCRIPT_INFO\u001b[38;5;241m.\u001b[39mfunc \u001b[38;5;129;01mand\u001b[39;00m mod\u001b[38;5;241m.\u001b[39m\u001b[38;5;18m__name__\u001b[39m\u001b[38;5;241m==\u001b[39m\u001b[38;5;124m\"\u001b[39m\u001b[38;5;124m__main__\u001b[39m\u001b[38;5;124m\"\u001b[39m: SCRIPT_INFO\u001b[38;5;241m.\u001b[39mfunc \u001b[38;5;241m=\u001b[39m func\u001b[38;5;241m.\u001b[39m\u001b[38;5;18m__name__\u001b[39m\n\u001b[0;32m    114\u001b[0m     \u001b[38;5;28;01mif\u001b[39;00m \u001b[38;5;28mlen\u001b[39m(sys\u001b[38;5;241m.\u001b[39margv)\u001b[38;5;241m>\u001b[39m\u001b[38;5;241m1\u001b[39m \u001b[38;5;129;01mand\u001b[39;00m sys\u001b[38;5;241m.\u001b[39margv[\u001b[38;5;241m1\u001b[39m]\u001b[38;5;241m==\u001b[39m\u001b[38;5;124m'\u001b[39m\u001b[38;5;124m'\u001b[39m: sys\u001b[38;5;241m.\u001b[39margv\u001b[38;5;241m.\u001b[39mpop(\u001b[38;5;241m1\u001b[39m)\n",
      "File \u001b[1;32mc:\\Users\\tjhuegerich\\AppData\\Local\\anaconda3\\envs\\nbstata_dev\\Lib\\site-packages\\nbdev\\doclinks.py:149\u001b[0m, in \u001b[0;36mnbdev_export\u001b[1;34m(path, procs, **kwargs)\u001b[0m\n\u001b[0;32m    147\u001b[0m \u001b[38;5;28;01mif\u001b[39;00m procs:\n\u001b[0;32m    148\u001b[0m     \u001b[38;5;28;01mimport\u001b[39;00m \u001b[38;5;21;01mnbdev\u001b[39;00m\u001b[38;5;21;01m.\u001b[39;00m\u001b[38;5;21;01mexport\u001b[39;00m\n\u001b[1;32m--> 149\u001b[0m     procs \u001b[38;5;241m=\u001b[39m \u001b[43m[\u001b[49m\u001b[38;5;28;43mgetattr\u001b[39;49m\u001b[43m(\u001b[49m\u001b[43mnbdev\u001b[49m\u001b[38;5;241;43m.\u001b[39;49m\u001b[43mexport\u001b[49m\u001b[43m,\u001b[49m\u001b[43m \u001b[49m\u001b[43mp\u001b[49m\u001b[43m)\u001b[49m\u001b[43m \u001b[49m\u001b[38;5;28;43;01mfor\u001b[39;49;00m\u001b[43m \u001b[49m\u001b[43mp\u001b[49m\u001b[43m \u001b[49m\u001b[38;5;129;43;01min\u001b[39;49;00m\u001b[43m \u001b[49m\u001b[43mL\u001b[49m\u001b[43m(\u001b[49m\u001b[43mprocs\u001b[49m\u001b[43m)\u001b[49m\u001b[43m]\u001b[49m\n\u001b[0;32m    150\u001b[0m files \u001b[38;5;241m=\u001b[39m nbglob(path\u001b[38;5;241m=\u001b[39mpath, as_path\u001b[38;5;241m=\u001b[39m\u001b[38;5;28;01mTrue\u001b[39;00m, \u001b[38;5;241m*\u001b[39m\u001b[38;5;241m*\u001b[39mkwargs)\u001b[38;5;241m.\u001b[39msorted(\u001b[38;5;124m'\u001b[39m\u001b[38;5;124mname\u001b[39m\u001b[38;5;124m'\u001b[39m)\n\u001b[0;32m    151\u001b[0m \u001b[38;5;28;01mfor\u001b[39;00m f \u001b[38;5;129;01min\u001b[39;00m files: nb_export(f, procs\u001b[38;5;241m=\u001b[39mprocs)\n",
      "File \u001b[1;32mc:\\Users\\tjhuegerich\\AppData\\Local\\anaconda3\\envs\\nbstata_dev\\Lib\\site-packages\\nbdev\\doclinks.py:149\u001b[0m, in \u001b[0;36m<listcomp>\u001b[1;34m(.0)\u001b[0m\n\u001b[0;32m    147\u001b[0m \u001b[38;5;28;01mif\u001b[39;00m procs:\n\u001b[0;32m    148\u001b[0m     \u001b[38;5;28;01mimport\u001b[39;00m \u001b[38;5;21;01mnbdev\u001b[39;00m\u001b[38;5;21;01m.\u001b[39;00m\u001b[38;5;21;01mexport\u001b[39;00m\n\u001b[1;32m--> 149\u001b[0m     procs \u001b[38;5;241m=\u001b[39m [\u001b[38;5;28mgetattr\u001b[39m(\u001b[43mnbdev\u001b[49m\u001b[38;5;241;43m.\u001b[39;49m\u001b[43mexport\u001b[49m, p) \u001b[38;5;28;01mfor\u001b[39;00m p \u001b[38;5;129;01min\u001b[39;00m L(procs)]\n\u001b[0;32m    150\u001b[0m files \u001b[38;5;241m=\u001b[39m nbglob(path\u001b[38;5;241m=\u001b[39mpath, as_path\u001b[38;5;241m=\u001b[39m\u001b[38;5;28;01mTrue\u001b[39;00m, \u001b[38;5;241m*\u001b[39m\u001b[38;5;241m*\u001b[39mkwargs)\u001b[38;5;241m.\u001b[39msorted(\u001b[38;5;124m'\u001b[39m\u001b[38;5;124mname\u001b[39m\u001b[38;5;124m'\u001b[39m)\n\u001b[0;32m    151\u001b[0m \u001b[38;5;28;01mfor\u001b[39;00m f \u001b[38;5;129;01min\u001b[39;00m files: nb_export(f, procs\u001b[38;5;241m=\u001b[39mprocs)\n",
      "\u001b[1;31mAttributeError\u001b[0m: module 'nbdev' has no attribute 'export'"
     ]
    }
   ],
   "source": [
    "#| hide\n",
    "import nbdev; nbdev.nbdev_export()"
   ]
  }
 ],
 "metadata": {
  "kernelspec": {
   "display_name": "python3",
   "language": "python",
   "name": "python3"
  }
 },
 "nbformat": 4,
 "nbformat_minor": 4
}
