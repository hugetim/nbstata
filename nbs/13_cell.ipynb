{
 "cells": [
  {
   "cell_type": "markdown",
   "metadata": {},
   "source": [
    "# cell\n",
    "\n",
    "> Class representing a single code cell\n",
    "- order: 13"
   ]
  },
  {
   "cell_type": "code",
   "execution_count": null,
   "metadata": {},
   "outputs": [],
   "source": [
    "#| default_exp cell\n",
    "%load_ext autoreload\n",
    "%autoreload 2"
   ]
  },
  {
   "cell_type": "code",
   "execution_count": null,
   "metadata": {},
   "outputs": [],
   "source": [
    "#| hide\n",
    "from nbdev.showdoc import *"
   ]
  },
  {
   "cell_type": "code",
   "execution_count": null,
   "metadata": {},
   "outputs": [],
   "source": [
    "#| export\n",
    "from nbstata.stata_session import StataSession\n",
    "from nbstata.magics import StataMagics\n",
    "from fastcore.basics import patch_to"
   ]
  },
  {
   "cell_type": "code",
   "execution_count": null,
   "metadata": {},
   "outputs": [],
   "source": [
    "#| hide\n",
    "#| export\n",
    "magic_handler = StataMagics()"
   ]
  },
  {
   "cell_type": "code",
   "execution_count": null,
   "metadata": {},
   "outputs": [],
   "source": [
    "#| export\n",
    "class Cell:\n",
    "    \"\"\"A class for managing execution of a single code cell\"\"\"                  \n",
    "    def __init__(self, kernel, code_w_magics, silent=False):\n",
    "        self.noecho = kernel.nbstata_config.noecho\n",
    "        self.echo = kernel.nbstata_config.echo\n",
    "        self.quietly = silent\n",
    "        self.stata_session = kernel.stata_session\n",
    "        self.code = magic_handler.magic(code_w_magics, kernel, self)\n",
    "       \n",
    "    def run(self):\n",
    "        if not self.code:\n",
    "            return\n",
    "        self.stata_session.dispatch_run(self.code, \n",
    "            quietly=self.quietly, echo=self.echo, noecho=self.noecho)"
   ]
  },
  {
   "cell_type": "markdown",
   "metadata": {},
   "source": [
    "Some `Cell` functionality can be tested apart from a kernel:"
   ]
  },
  {
   "cell_type": "code",
   "execution_count": null,
   "metadata": {},
   "outputs": [],
   "source": [
    "from nbstata.config import launch_stata, Config\n",
    "from fastcore.test import test_eq\n",
    "from textwrap import dedent\n",
    "from unittest.mock import Mock"
   ]
  },
  {
   "cell_type": "code",
   "execution_count": null,
   "metadata": {},
   "outputs": [
    {
     "data": {
      "text/plain": [
       "'disp \"test output\"'"
      ]
     },
     "execution_count": null,
     "metadata": {},
     "output_type": "execute_result"
    }
   ],
   "source": [
    "kernel1 = Mock()\n",
    "kernel1.nbstata_config = Config()\n",
    "\n",
    "code_w_magics = '''disp \"test output\"'''\n",
    "cell1 = Cell(kernel1, code_w_magics)\n",
    "cell1.code"
   ]
  },
  {
   "cell_type": "code",
   "execution_count": null,
   "metadata": {},
   "outputs": [
    {
     "name": "stdout",
     "output_type": "stream",
     "text": [
      "test output\n"
     ]
    }
   ],
   "source": [
    "#| eval: false\n",
    "launch_stata(splash=False)\n",
    "kernel1.stata_session = StataSession()\n",
    "cell1a = Cell(kernel1, code_w_magics)\n",
    "cell1a.run()"
   ]
  },
  {
   "cell_type": "code",
   "execution_count": null,
   "metadata": {},
   "outputs": [],
   "source": [
    "code_w_magics = dedent('''\\\n",
    "    *%%quietly\n",
    "    disp \"test output\"\n",
    "    ''')\n",
    "cell2 = Cell(kernel1, code_w_magics)\n",
    "test_eq(cell2.quietly, True)"
   ]
  },
  {
   "cell_type": "code",
   "execution_count": null,
   "metadata": {},
   "outputs": [],
   "source": [
    "#| eval: false\n",
    "cell2.run()"
   ]
  },
  {
   "cell_type": "code",
   "execution_count": null,
   "metadata": {},
   "outputs": [],
   "source": [
    "kernel1.nbstata_config.env['echo'] = 'True'\n",
    "\n",
    "code_w_magics = '''disp \"test output\"'''\n",
    "cell3 = Cell(kernel1, code_w_magics)\n",
    "test_eq(cell3.noecho, False)"
   ]
  },
  {
   "cell_type": "code",
   "execution_count": null,
   "metadata": {},
   "outputs": [
    {
     "name": "stdout",
     "output_type": "stream",
     "text": [
      ". disp \"test output\"\n",
      "test output\n"
     ]
    }
   ],
   "source": [
    "#| eval: false\n",
    "cell3.run()"
   ]
  },
  {
   "cell_type": "code",
   "execution_count": null,
   "metadata": {},
   "outputs": [],
   "source": [
    "code_w_magics = dedent('''\\\n",
    "    *%%noecho\n",
    "    #delimit cr\n",
    "    disp \"test output\"\n",
    "    ''')\n",
    "cell4 = Cell(kernel1, code_w_magics)\n",
    "test_eq(cell4.noecho, True)"
   ]
  },
  {
   "cell_type": "code",
   "execution_count": null,
   "metadata": {},
   "outputs": [
    {
     "name": "stdout",
     "output_type": "stream",
     "text": [
      "test output\n"
     ]
    }
   ],
   "source": [
    "#| eval: false\n",
    "cell4.run()"
   ]
  },
  {
   "cell_type": "code",
   "execution_count": null,
   "metadata": {},
   "outputs": [],
   "source": [
    "#| hide\n",
    "import nbdev; nbdev.nbdev_export()"
   ]
  }
 ],
 "metadata": {
  "kernelspec": {
   "display_name": "python3",
   "language": "python",
   "name": "python3"
  }
 },
 "nbformat": 4,
 "nbformat_minor": 4
}
