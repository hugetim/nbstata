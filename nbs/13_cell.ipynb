{
 "cells": [
  {
   "cell_type": "markdown",
   "metadata": {},
   "source": [
    "# cell\n",
    "\n",
    "> Class representing a single code cell"
   ]
  },
  {
   "cell_type": "code",
   "execution_count": null,
   "metadata": {},
   "outputs": [],
   "source": [
    "#| default_exp cell\n",
    "%load_ext autoreload\n",
    "%autoreload 2"
   ]
  },
  {
   "cell_type": "code",
   "execution_count": null,
   "metadata": {},
   "outputs": [],
   "source": [
    "#| hide\n",
    "from nbdev.showdoc import *"
   ]
  },
  {
   "cell_type": "code",
   "execution_count": null,
   "metadata": {},
   "outputs": [],
   "source": [
    "#| export\n",
    "from nbstata.misc_utils import print_red\n",
    "from nbstata.code_utils import ending_sc_delimiter\n",
    "from nbstata.stata_session import StataSession\n",
    "from nbstata.magics import StataMagics\n",
    "from fastcore.basics import patch_to"
   ]
  },
  {
   "cell_type": "code",
   "execution_count": null,
   "metadata": {},
   "outputs": [],
   "source": [
    "#| hide\n",
    "#| export\n",
    "magic_handler = StataMagics()"
   ]
  },
  {
   "cell_type": "code",
   "execution_count": null,
   "metadata": {},
   "outputs": [],
   "source": [
    "#| export\n",
    "_final_delimiter_warning = (\n",
    "    \"Warning: Code cell (with #delimit; in effect) does not end in ';'. \"\n",
    "    \"Exported .do script may behave differently from notebook. \"\n",
    "    \"In v1.0, nbstata may trigger an error instead of just a warning.\"\n",
    ")"
   ]
  },
  {
   "cell_type": "code",
   "execution_count": null,
   "metadata": {},
   "outputs": [],
   "source": [
    "#| export\n",
    "class Cell:\n",
    "    \"\"\"A class for managing execution of a single code cell\"\"\"                \n",
    "    def _set_echo(self, echo_config):\n",
    "        if echo_config == 'None':\n",
    "            self.noecho = True\n",
    "            self.echo = False\n",
    "        elif echo_config == 'True':\n",
    "            self.noecho = False\n",
    "            self.echo = True\n",
    "        else:\n",
    "            self.noecho = False\n",
    "            self.echo = False\n",
    "    \n",
    "    def __init__(self, kernel, code_w_magics, silent=False):\n",
    "        self._set_echo(kernel.env['echo'])\n",
    "        self.quietly = silent\n",
    "        self.sc_delimiter = kernel.sc_delimiter\n",
    "        self.stata_session = kernel.stata_session\n",
    "        self.code = magic_handler.magic(code_w_magics, kernel, self)\n",
    "       \n",
    "    def run(self):\n",
    "        if not self.code:\n",
    "            return\n",
    "        self.stata_session.dispatch_run(self.code, \n",
    "            quietly=self.quietly, echo=self.echo, sc_delimiter=self.sc_delimiter,\n",
    "            noecho=self.noecho)\n",
    "        self.sc_delimiter = self._check_ending_delimiter()\n",
    "\n",
    "    def _check_ending_delimiter(self):\n",
    "        _ending_sc_delimiter = ending_sc_delimiter(self.code, self.sc_delimiter)\n",
    "        _final_character = self.code.strip()[-1]\n",
    "        _code_missing_final_delimiter = (_ending_sc_delimiter\n",
    "                                         and _final_character != ';')\n",
    "        if _code_missing_final_delimiter:\n",
    "            print_red(_final_delimiter_warning)\n",
    "        return _ending_sc_delimiter"
   ]
  },
  {
   "cell_type": "markdown",
   "metadata": {},
   "source": [
    "Some `Cell` functionality can be tested apart from a kernel:"
   ]
  },
  {
   "cell_type": "code",
   "execution_count": null,
   "metadata": {},
   "outputs": [],
   "source": [
    "from nbstata.config import launch_stata\n",
    "from fastcore.test import test_eq\n",
    "from textwrap import dedent\n",
    "from unittest.mock import Mock"
   ]
  },
  {
   "cell_type": "code",
   "execution_count": null,
   "metadata": {},
   "outputs": [
    {
     "data": {
      "text/plain": [
       "'disp \"test output\"'"
      ]
     },
     "execution_count": null,
     "metadata": {},
     "output_type": "execute_result"
    }
   ],
   "source": [
    "kernel1 = Mock()\n",
    "kernel1.env = {'echo': 'None'}\n",
    "kernel1.sc_delimiter = None\n",
    "\n",
    "code_w_magics = '''disp \"test output\"'''\n",
    "cell1 = Cell(kernel1, code_w_magics)\n",
    "cell1.code"
   ]
  },
  {
   "cell_type": "code",
   "execution_count": null,
   "metadata": {},
   "outputs": [
    {
     "name": "stdout",
     "output_type": "stream",
     "text": [
      "\u001b[31mWarning: Code cell (with #delimit; in effect) does not end in ';'. Exported .do script may behave differently from notebook. In v1.0, nbstata may trigger an error instead of just a warning.\u001b[0m\n"
     ]
    }
   ],
   "source": [
    "cell1.sc_delimiter = True\n",
    "cell1._check_ending_delimiter()\n",
    "cell1.sc_delimiter = False"
   ]
  },
  {
   "cell_type": "code",
   "execution_count": null,
   "metadata": {},
   "outputs": [
    {
     "name": "stdout",
     "output_type": "stream",
     "text": [
      "test output\n"
     ]
    }
   ],
   "source": [
    "#| eval: false\n",
    "launch_stata(splash=False)\n",
    "kernel1.stata_session = StataSession()\n",
    "cell1a = Cell(kernel1, code_w_magics)\n",
    "cell1a.run()"
   ]
  },
  {
   "cell_type": "code",
   "execution_count": null,
   "metadata": {},
   "outputs": [],
   "source": [
    "code_w_magics = dedent('''\\\n",
    "    *%quietly\n",
    "    disp \"test output\"\n",
    "    ''')\n",
    "cell2 = Cell(kernel1, code_w_magics)\n",
    "test_eq(cell2.quietly, True)"
   ]
  },
  {
   "cell_type": "code",
   "execution_count": null,
   "metadata": {},
   "outputs": [],
   "source": [
    "#| eval: false\n",
    "cell2.run()"
   ]
  },
  {
   "cell_type": "code",
   "execution_count": null,
   "metadata": {},
   "outputs": [],
   "source": [
    "kernel1.env = {'echo': 'True'}\n",
    "\n",
    "code_w_magics = '''disp \"test output\"'''\n",
    "cell3 = Cell(kernel1, code_w_magics)\n",
    "test_eq(cell3.noecho, False)"
   ]
  },
  {
   "cell_type": "code",
   "execution_count": null,
   "metadata": {},
   "outputs": [
    {
     "name": "stdout",
     "output_type": "stream",
     "text": [
      ". disp \"test output\"\n",
      "test output\n"
     ]
    }
   ],
   "source": [
    "#| eval: false\n",
    "cell3.run()"
   ]
  },
  {
   "cell_type": "code",
   "execution_count": null,
   "metadata": {},
   "outputs": [],
   "source": [
    "code_w_magics = dedent('''\\\n",
    "    *%noecho\n",
    "    #delimit cr\n",
    "    disp \"test output\"\n",
    "    ''')\n",
    "cell4 = Cell(kernel1, code_w_magics)\n",
    "test_eq(cell4.noecho, True)"
   ]
  },
  {
   "cell_type": "code",
   "execution_count": null,
   "metadata": {},
   "outputs": [
    {
     "name": "stdout",
     "output_type": "stream",
     "text": [
      "test output\n"
     ]
    }
   ],
   "source": [
    "#| eval: false\n",
    "cell4.run()"
   ]
  },
  {
   "cell_type": "code",
   "execution_count": null,
   "metadata": {},
   "outputs": [],
   "source": [
    "#| hide\n",
    "import nbdev; nbdev.nbdev_export()"
   ]
  }
 ],
 "metadata": {
  "kernelspec": {
   "display_name": "Python 3 (ipykernel)",
   "language": "python",
   "name": "python3"
  }
 },
 "nbformat": 4,
 "nbformat_minor": 4
}
