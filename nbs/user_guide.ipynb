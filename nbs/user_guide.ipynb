{
 "cells": [
  {
   "cell_type": "markdown",
   "metadata": {},
   "source": [
    "# User Guide\n",
    "\n",
    "> Instructions for using `nbstata` as a Jupyter kernel"
   ]
  },
  {
   "cell_type": "markdown",
   "metadata": {},
   "source": [
    "## Install"
   ]
  },
  {
   "cell_type": "markdown",
   "metadata": {},
   "source": [
    "*Because it uses [pystata](https://www.stata.com/python/pystata/) under the hood, `nbstata` requires Stata 17 to be installed locally.\n",
    "(If you have an older version of Stata, consider [stata_kernel](https://github.com/kylebarron/stata_kernel) instead.)*"
   ]
  },
  {
   "cell_type": "markdown",
   "metadata": {},
   "source": [
    "To install `nbstata`, run:\n",
    "\n",
    "```sh\n",
    "pip install nbstata\n",
    "python -m nbstata.install [--sys-prefix] [--prefix PREFIX] [--conf-file]\n",
    "```\n",
    "\n",
    "Include `--sys-prefix` to install to `sys.prefix` (e.g. a virtualenv or conda env),\n",
    "or `--prefix PREFIX` if you want to specify the install path yourself.\n",
    "\n",
    "#### Configuration file\n",
    "The `--conf-file` option creates a configuration file for you.\n",
    "(Note: If the installer cannot find the location of your Stata installation, a configuration file will be created \n",
    "even if you do not include the `--conf-file` option to allow you to manually specify the Stata location.) The location of the configuration file will be:\n",
    "\n",
    "- `[prefix]/etc/nbstata.conf` if `--sys-prefix` or `--prefix` is specified.\n",
    "-  `~/.nbstata.conf` otherwise.\n",
    "\n",
    "(Note: If a configuration file exists in both locations at kernel runtime, the user version takes precedence.)\n",
    "\n",
    "#### Updating\n",
    "\n",
    "To update from a previous version of `nbstata`, run:\n",
    "\n",
    "```sh\n",
    "pip install nbstata --upgrade\n",
    "```\n",
    "\n",
    "When updating, you don't have to run `python -m nbstata.install` again."
   ]
  },
  {
   "cell_type": "markdown",
   "metadata": {},
   "source": [
    "### Configuration"
   ]
  },
  {
   "cell_type": "markdown",
   "metadata": {},
   "source": [
    "The following settings are permitted inside the configuration file:\n",
    "\n",
    "- `stata_dir`: Stata installation directory.\n",
    "- `edition`: Stata edition. Acceptable values are 'be', 'se' and 'mp'.\n",
    "    Default is 'be'.\n",
    "- `graph_format`: Acceptable values are 'png' (the default), 'pdf', 'svg' and 'pystata'.\n",
    "    Specify the last option if you want to use `pystata`'s [default setting](https://www.stata.com/python/pystata/config.html#pystata.config.set_graph_format). \n",
    "- `echo`: controls the echo of commands, with the default being 'None':\n",
    "    - 'True': the kernel will echo all commands. \n",
    "    - 'False': the kernel will not echo single-line commands.\n",
    "    - 'None': the kernel will not echo any command. \n",
    "- `splash`: controls display of the splash message during Stata startup. Default is 'False'.\n",
    "- `missing`: What should be displayed in the output of the `*%head` and `*%tail` magics for a missing value. Default is '.', following Stata. To defer to pandas' format for `NA`, specify 'pandas'.\n",
    "\n",
    "Settings must be under the title `[nbstata]`. Example:\n",
    "\n",
    "```\n",
    "[nbstata]\n",
    "stata_dir = /opt/stata\n",
    "edition = mp\n",
    "graph_format = svg\n",
    "echo = False\n",
    "splash = True\n",
    "missing = NA\n",
    "```"
   ]
  },
  {
   "cell_type": "markdown",
   "metadata": {},
   "source": [
    "#### Default Graph Format"
   ]
  },
  {
   "cell_type": "markdown",
   "metadata": {},
   "source": [
    "Both `pystata` and `stata_kernel` default to the SVG image format. \n",
    "`nbstata` defaults to the PNG image format instead for several reasons:\n",
    "\n",
    "- Jupyter does not show SVG images from untrusted notebooks ([link 1](https://stackoverflow.com/questions/68398033/svg-figures-hidden-in-jupyterlab-after-some-time)).\n",
    "- Notebooks with empty cells are untrusted ([link 2](https://github.com/jupyterlab/jupyterlab/issues/9765)).\n",
    "- SVG images cannot be copied and pasted directly into Word or PowerPoint."
   ]
  },
  {
   "cell_type": "markdown",
   "metadata": {},
   "source": [
    "### Syntax highlighting\n",
    "Stata syntax highlighting can be installed for Jupyter Lab:\n",
    "\n",
    "```sh\n",
    "pip install jupyterlab_stata_highlight2\n",
    "```\n",
    "\n",
    "(If you prefer the standard Jupyter color scheme, the original [jupyterlab-stata-highlight](https://kylebarron.dev/stata_kernel/using_jupyter/lab/#syntax-highlighting) also works.)"
   ]
  },
  {
   "cell_type": "markdown",
   "metadata": {},
   "source": [
    "## Magics"
   ]
  },
  {
   "cell_type": "markdown",
   "metadata": {},
   "source": [
    "Magics are commands that only work in `nbstata` and are not part of Stata's syntax. \n",
    "Magics normally start with `%`, but this will cause errors when the notebook\n",
    "is exported and run as a Stata script. As an alternative, you may prefix the \n",
    "magic name with `*%`, which will then be treated by Stata as a single-line comment.\n",
    "\n",
    "`nbstata` currently supports the following magics:\n",
    "\n",
    "| Magic | Description | Full Syntax |\n",
    "| :-- | :-- | :-- |\n",
    "| *%browse | Interactively view dataset | `*%browse [-h] [varlist] [if] [in] [, nolabel noformat]` |\n",
    "| *%head | View first 5 (or N) rows | `*%head [-h] [N] [varlist] [if] [, nolabel noformat]` |\n",
    "| *%tail | View last 5 (or N) rows | `*%tail [-h] [N] [varlist] [if] [, nolabel noformat]` |\n",
    "| *%locals | List locals with their values | `*%locals` |\n",
    "| *%delimit | Print the current delimiter | `*%delimit` |\n",
    "| *%help | Display Stata help | `*%help [-h] command_or_topic_name` |\n",
    "| *%echo | Ensure echo from cell | `*%echo` |\n",
    "| *%noecho | Suppress echo from cell | `*%noecho` |\n",
    "| *%quietly | Suppress all output from cell | `*%quietly` |\n",
    "\n",
    "The `%browse` magic requires JupyterLab with the `@finos/perspective-jupyterlab` extension \n",
    "[correctly installed](https://perspective.finos.org/docs/python/#jupyterlab).\n",
    "\n",
    "By default, the `%browse`, `%head`, and `%tail` magics convert numeric Stata values to strings \n",
    "using their Stata format (or value labels). To prevent this behavior, \n",
    "specify the `noformat` and/or `nolabel` options."
   ]
  },
  {
   "cell_type": "markdown",
   "metadata": {},
   "source": [
    "## Stata Implementation Details"
   ]
  },
  {
   "cell_type": "markdown",
   "metadata": {},
   "source": [
    "#### `#delimit` behavior"
   ]
  },
  {
   "cell_type": "markdown",
   "metadata": {},
   "source": [
    "A [`#delimit;`](https://www.stata.com/manuals/pdelimit.pdf) command in one cell will persist into other cells, until `#delimit cr` is called. For example, see [delimit tests.ipynb](https://github.com/hugetim/nbstata/blob/master/manual_test_nbs/delimit%20tests.ipynb)."
   ]
  },
  {
   "cell_type": "markdown",
   "metadata": {},
   "source": [
    "#### `echo = None`: potential for unanticipated errors"
   ]
  },
  {
   "cell_type": "markdown",
   "metadata": {},
   "source": [
    "The default `echo = None` configuration does some complicated things under the hood to emulate functionality that `pystata` does not directly support: running multi-line Stata code without echoing the commands. While extensive automatic tests are in place to help ensure its reliability, unanticipated issues may arise. If, while using this mode, a particular code cell is not working as expected, try placing the `%echo` magic at the top of it to see if that resolves the issue. (If so, please report that [here](https://github.com/hugetim/nbstata/issues/new?labels=bug).) You can also avoid such potential issues by setting the config `echo = False`, which will at least not echo single-line Stata commands though it will echo multiple commands."
   ]
  },
  {
   "cell_type": "markdown",
   "metadata": {},
   "source": [
    "#### `more` and `pause`"
   ]
  },
  {
   "cell_type": "markdown",
   "metadata": {},
   "source": [
    "Stata's [more](https://www.stata.com/help.cgi?more) and [pause](https://www.stata.com/help.cgi?pause) commands do not work in a notebook, so these features should remain in their default \"off\" states (i.e., `set more off` and `pause off`)."
   ]
  }
 ],
 "metadata": {
  "kernelspec": {
   "display_name": "Python 3 (ipykernel)",
   "language": "python",
   "name": "python3"
  }
 },
 "nbformat": 4,
 "nbformat_minor": 4
}
