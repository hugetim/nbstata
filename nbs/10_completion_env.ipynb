{
 "cells": [
  {
   "cell_type": "markdown",
   "id": "2c184729",
   "metadata": {},
   "source": [
    "# completion_env\n",
    "\n",
    "> Autocomplete helper: determine context of the token to be autocompleted"
   ]
  },
  {
   "cell_type": "markdown",
   "id": "e2014567",
   "metadata": {},
   "source": [
    "Adapted from the [stata_kernel version](https://github.com/kylebarron/stata_kernel/blob/master/stata_kernel/completions.py) (omitting mata-specific stuff)."
   ]
  },
  {
   "cell_type": "code",
   "execution_count": null,
   "id": "c7fb586a",
   "metadata": {},
   "outputs": [],
   "source": [
    "#| default_exp completion_env\n",
    "%load_ext autoreload\n",
    "%autoreload 2"
   ]
  },
  {
   "cell_type": "code",
   "execution_count": null,
   "id": "026b00b7",
   "metadata": {},
   "outputs": [],
   "source": [
    "#| hide\n",
    "from nbdev.showdoc import *"
   ]
  },
  {
   "cell_type": "code",
   "execution_count": null,
   "id": "e335395e",
   "metadata": {},
   "outputs": [],
   "source": [
    "#| export\n",
    "from nbstata.code_utils import ending_sc_delimiter\n",
    "from fastcore.basics import patch_to\n",
    "from enum import IntEnum\n",
    "from typing import Tuple\n",
    "import re"
   ]
  },
  {
   "cell_type": "code",
   "execution_count": null,
   "id": "fb102f8a",
   "metadata": {},
   "outputs": [],
   "source": [
    "#| export\n",
    "from pygments import lexers\n",
    "from pygments.token import Comment, Keyword, Name, Number, \\\n",
    "    String, Text, Operator"
   ]
  },
  {
   "cell_type": "code",
   "execution_count": null,
   "id": "d2e35794",
   "metadata": {},
   "outputs": [],
   "source": [
    "#| export\n",
    "stata_lexer = lexers.get_lexer_by_name('stata')\n",
    "\n",
    "def _lex_tokens(code):\n",
    "    return list(stata_lexer.get_tokens_unprocessed(code))"
   ]
  },
  {
   "cell_type": "code",
   "execution_count": null,
   "id": "78f9e3b6",
   "metadata": {},
   "outputs": [],
   "source": [
    "#| export\n",
    "def _last_token(code):\n",
    "    tokens = _lex_tokens(code)\n",
    "    last_tokentype = tokens[-1][1]\n",
    "    tokens_to_combine = []\n",
    "    for token in reversed(tokens):\n",
    "        if token[1] is last_tokentype:\n",
    "            tokens_to_combine.append(token)\n",
    "        else:\n",
    "            break\n",
    "    tokens_to_combine = list(reversed(tokens_to_combine))\n",
    "    return (min(tokens_to_combine, key=lambda t: t[0])[0], last_tokentype, \"\".join([t[2] for t in tokens_to_combine]))"
   ]
  },
  {
   "cell_type": "code",
   "execution_count": null,
   "id": "ab463fd2",
   "metadata": {},
   "outputs": [],
   "source": [
    "#| export\n",
    "def _last_token_full_string(code, sc_delimiter=False):\n",
    "    if not code:\n",
    "        return (0, None, \"\")\n",
    "    prefix = \"\"\n",
    "    if sc_delimiter:\n",
    "        prefix = \"#delimit;\\n\"\n",
    "        orig_code = code\n",
    "        code = prefix + orig_code\n",
    "    tokens = _lex_tokens(code)\n",
    "    last_tokentype = tokens[-1][1]\n",
    "    tokens_to_combine = []\n",
    "    for token in reversed(tokens):\n",
    "        if token[1] is last_tokentype:\n",
    "            tokens_to_combine.append(token)\n",
    "        else:\n",
    "            break\n",
    "    tokens_to_combine = list(reversed(tokens_to_combine))\n",
    "    index = min(tokens_to_combine, key=lambda t: t[0])[0]\n",
    "    value = \"\".join([t[2] for t in tokens_to_combine])\n",
    "    while last_tokentype == String and value[0] != '\"' and value[0:2] != '`\"':\n",
    "        tokens_to_combine = list(reversed(tokens_to_combine))\n",
    "        reversed_remaining_tokens = list(reversed(_lex_tokens(code[:index])))\n",
    "        for i, token in enumerate(reversed_remaining_tokens):\n",
    "            if (token[1] is not String \n",
    "                and reversed_remaining_tokens[i-1][1] is String):\n",
    "                break\n",
    "            elif token[1] in [Comment.Single, Comment.Multiline, Comment.Special]:\n",
    "                break\n",
    "            tokens_to_combine.append(token)\n",
    "        tokens_to_combine = list(reversed(tokens_to_combine))\n",
    "        index = min(tokens_to_combine, key=lambda t: t[0])[0]\n",
    "        value = \"\".join([t[2] for t in tokens_to_combine])\n",
    "    index = index-len(prefix)\n",
    "    if index < 0:\n",
    "        value = value[-index:]\n",
    "        index = 0\n",
    "    return (index, last_tokentype, value)"
   ]
  },
  {
   "cell_type": "code",
   "execution_count": null,
   "id": "e293cd20",
   "metadata": {},
   "outputs": [],
   "source": [
    "#| hide\n",
    "from fastcore.test import test_eq"
   ]
  },
  {
   "cell_type": "code",
   "execution_count": null,
   "id": "2141df26",
   "metadata": {},
   "outputs": [],
   "source": [
    "#| hide\n",
    "for code in ['', ' ', 'di', 'disp ']:\n",
    "    test_eq(_last_token_full_string(code, sc_delimiter=True), \n",
    "            _last_token_full_string(code))"
   ]
  },
  {
   "cell_type": "code",
   "execution_count": null,
   "id": "2904c206",
   "metadata": {},
   "outputs": [
    {
     "data": {
      "text/plain": [
       "(0, Token.Text, ' ')"
      ]
     },
     "execution_count": null,
     "metadata": {},
     "output_type": "execute_result"
    }
   ],
   "source": [
    "#| hide\n",
    "_last_token_full_string(' ')"
   ]
  },
  {
   "cell_type": "code",
   "execution_count": null,
   "id": "9b0abfff",
   "metadata": {},
   "outputs": [
    {
     "data": {
      "text/plain": [
       "(4, Token.Literal.String, '\"$indir/delimit t')"
      ]
     },
     "execution_count": null,
     "metadata": {},
     "output_type": "execute_result"
    }
   ],
   "source": [
    "#| hide\n",
    "_last_token_full_string('use \"$indir/delimit t')"
   ]
  },
  {
   "cell_type": "code",
   "execution_count": null,
   "id": "bdda6efd",
   "metadata": {},
   "outputs": [
    {
     "data": {
      "text/plain": [
       "[(0, Token.Keyword, 'sysuse'),\n",
       " (6, Token.Text, ' '),\n",
       " (7, Token.Text, 'l'),\n",
       " (8, Token.Text, 'i'),\n",
       " (9, Token.Text, 'f'),\n",
       " (10, Token.Text, 'e'),\n",
       " (11, Token.Text, 'e'),\n",
       " (12, Token.Text, 'x'),\n",
       " (13, Token.Text, 'p'),\n",
       " (14, Token.Keyword, '\\ndisp'),\n",
       " (19, Token.Keyword, ' scalar'),\n",
       " (26, Token.Text, '('),\n",
       " (27, Token.Text, 't'),\n",
       " (28, Token.Text, 'e')]"
      ]
     },
     "execution_count": null,
     "metadata": {},
     "output_type": "execute_result"
    }
   ],
   "source": [
    "#| hide\n",
    "_lex_tokens(\"\"\"\\\n",
    "sysuse lifeexp\n",
    "disp scalar(te\"\"\")"
   ]
  },
  {
   "cell_type": "code",
   "execution_count": null,
   "id": "f6463afc",
   "metadata": {},
   "outputs": [
    {
     "data": {
      "text/plain": [
       "[(0, Token.Keyword, 'sysuse'),\n",
       " (6, Token.Text, ' '),\n",
       " (7, Token.Text, 'l'),\n",
       " (8, Token.Text, 'i'),\n",
       " (9, Token.Text, 'f'),\n",
       " (10, Token.Text, 'e'),\n",
       " (11, Token.Text, 'e'),\n",
       " (12, Token.Text, 'x'),\n",
       " (13, Token.Text, 'p'),\n",
       " (14, Token.Keyword, '\\ndisp'),\n",
       " (19, Token.Keyword, ' scalar'),\n",
       " (26, Token.Text, '('),\n",
       " (27, Token.Keyword, '\\nte')]"
      ]
     },
     "execution_count": null,
     "metadata": {},
     "output_type": "execute_result"
    }
   ],
   "source": [
    "#| hide\n",
    "_lex_tokens(\"\"\"\\\n",
    "sysuse lifeexp\n",
    "disp scalar(\n",
    "te\"\"\")"
   ]
  },
  {
   "cell_type": "code",
   "execution_count": null,
   "id": "ef034272",
   "metadata": {},
   "outputs": [
    {
     "data": {
      "text/plain": [
       "(27, Token.Keyword, '\\nte')"
      ]
     },
     "execution_count": null,
     "metadata": {},
     "output_type": "execute_result"
    }
   ],
   "source": [
    "#| hide\n",
    "_last_token(\"\"\"\\\n",
    "sysuse lifeexp\n",
    "disp scalar(\n",
    "te\"\"\")"
   ]
  },
  {
   "cell_type": "code",
   "execution_count": null,
   "id": "83500cce",
   "metadata": {},
   "outputs": [
    {
     "data": {
      "text/plain": [
       "(5, Token.Literal.Number, '00')"
      ]
     },
     "execution_count": null,
     "metadata": {},
     "output_type": "execute_result"
    }
   ],
   "source": [
    "#| hide\n",
    "_last_token(\"\"\"use  00\"\"\")"
   ]
  },
  {
   "cell_type": "code",
   "execution_count": null,
   "id": "c362b84d",
   "metadata": {},
   "outputs": [
    {
     "data": {
      "text/plain": [
       "(4, Token.Name.Variable, '`00')"
      ]
     },
     "execution_count": null,
     "metadata": {},
     "output_type": "execute_result"
    }
   ],
   "source": [
    "#| hide\n",
    "_last_token(\"\"\"use `00\"\"\")"
   ]
  },
  {
   "cell_type": "code",
   "execution_count": null,
   "id": "47ed5503",
   "metadata": {},
   "outputs": [
    {
     "data": {
      "text/plain": [
       "(4, Token.Name.Variable.Global, '$00')"
      ]
     },
     "execution_count": null,
     "metadata": {},
     "output_type": "execute_result"
    }
   ],
   "source": [
    "#| hide\n",
    "_last_token(\"\"\"use $00\"\"\")"
   ]
  },
  {
   "cell_type": "code",
   "execution_count": null,
   "id": "15717206",
   "metadata": {},
   "outputs": [
    {
     "data": {
      "text/plain": [
       "(4, Token.Name.Variable.Global, '${00')"
      ]
     },
     "execution_count": null,
     "metadata": {},
     "output_type": "execute_result"
    }
   ],
   "source": [
    "#| hide\n",
    "_last_token(\"\"\"use ${00\"\"\")"
   ]
  },
  {
   "cell_type": "code",
   "execution_count": null,
   "id": "36086448",
   "metadata": {},
   "outputs": [
    {
     "data": {
      "text/plain": [
       "(4, Token.Literal.String, '\"00')"
      ]
     },
     "execution_count": null,
     "metadata": {},
     "output_type": "execute_result"
    }
   ],
   "source": [
    "#| hide\n",
    "_last_token(\"\"\"use \"00\"\"\")"
   ]
  },
  {
   "cell_type": "code",
   "execution_count": null,
   "id": "223761ab",
   "metadata": {},
   "outputs": [
    {
     "data": {
      "text/plain": [
       "(4, Token.Literal.String, '`\"00')"
      ]
     },
     "execution_count": null,
     "metadata": {},
     "output_type": "execute_result"
    }
   ],
   "source": [
    "#| hide\n",
    "_last_token(\"\"\"use `\"00\"\"\")"
   ]
  },
  {
   "cell_type": "code",
   "execution_count": null,
   "id": "eebe7276",
   "metadata": {},
   "outputs": [
    {
     "data": {
      "text/plain": [
       "(5, Token.Literal.String, '\" // x')"
      ]
     },
     "execution_count": null,
     "metadata": {},
     "output_type": "execute_result"
    }
   ],
   "source": [
    "#| hide\n",
    "_last_token('disp \" // x')"
   ]
  },
  {
   "cell_type": "code",
   "execution_count": null,
   "id": "2fb8bbe3",
   "metadata": {},
   "outputs": [
    {
     "data": {
      "text/plain": [
       "(4, Token.Comment.Multiline, '/* fdafd')"
      ]
     },
     "execution_count": null,
     "metadata": {},
     "output_type": "execute_result"
    }
   ],
   "source": [
    "#| hide\n",
    "_last_token(\"sfdf/* fdafd\")"
   ]
  },
  {
   "cell_type": "code",
   "execution_count": null,
   "id": "5ec207ee",
   "metadata": {},
   "outputs": [
    {
     "data": {
      "text/plain": [
       "(10, Token.Name.Variable, '`')"
      ]
     },
     "execution_count": null,
     "metadata": {},
     "output_type": "execute_result"
    }
   ],
   "source": [
    "#| hide\n",
    "_last_token('disp \" // `')"
   ]
  },
  {
   "cell_type": "code",
   "execution_count": null,
   "id": "9737a760",
   "metadata": {},
   "outputs": [
    {
     "data": {
      "text/plain": [
       "(10, Token.Name.Variable.Global, '$')"
      ]
     },
     "execution_count": null,
     "metadata": {},
     "output_type": "execute_result"
    }
   ],
   "source": [
    "#| hide\n",
    "_last_token('disp \" // $')"
   ]
  },
  {
   "cell_type": "code",
   "execution_count": null,
   "id": "8cd6aa8e",
   "metadata": {},
   "outputs": [
    {
     "data": {
      "text/plain": [
       "(11, Token.Literal.String, '/delimit t')"
      ]
     },
     "execution_count": null,
     "metadata": {},
     "output_type": "execute_result"
    }
   ],
   "source": [
    "#| hide\n",
    "_last_token('use \"$indir/delimit t')"
   ]
  },
  {
   "cell_type": "markdown",
   "id": "bc2030ad",
   "metadata": {},
   "source": [
    "Note the corner cases discussed here, but the commented out test cases below are not yet handled:\n",
    "\n",
    "* [github.com/kylebarron/language-stata/issues/90](github.com/kylebarron/language-stata/issues/90)\n",
    "* [statalist.org/forums/forum/general-stata-discussion/general/1448244](statalist.org/forums/forum/general-stata-discussion/general/1448244)"
   ]
  },
  {
   "cell_type": "code",
   "execution_count": null,
   "id": "cdfde140",
   "metadata": {},
   "outputs": [],
   "source": [
    "#| export\n",
    "class CompletionEnv():\n",
    "    def __init__(self):\n",
    "        \"\"\"\"\"\"\n",
    "        # any non-space/\"/= 'word' at the end of the string after the last \", =, or white space\n",
    "        self.last_chunk = re.compile(\n",
    "            r'[\\s\"=][^\\s\"=]*?\\Z', flags=re.MULTILINE).search\n",
    "        \n",
    "        # Path completion\n",
    "        self.path_search = re.compile(\n",
    "            r'^(?P<fluff>.*\")(?P<path>[^\"]*)\\Z').search\n",
    "\n",
    "        # Magic completion\n",
    "        self.magic_completion = re.compile(\n",
    "            r'\\A\\*?%(?P<magic>\\S*)\\Z', flags=re.DOTALL + re.MULTILINE).match\n",
    "\n",
    "        # Match context; this is used to determine if the line starts\n",
    "        # with matrix or scalar. It also matches constructs like\n",
    "        #\n",
    "        #     (`=)?scalar(\n",
    "        pre = (\n",
    "            r'(cap(t|tu|tur|ture)?'\n",
    "            r'|qui(e|et|etl|etly)?'\n",
    "            r'|n(o|oi|ois|oisi|oisil|oisily)?)')\n",
    "        kwargs = {'flags': re.MULTILINE}\n",
    "        self.fcontext = {\n",
    "            'function':\n",
    "                re.compile(\n",
    "                    r\"(\\s+|\\=|`=)\\s*(?P<name>\\w+?)\"\n",
    "                    r\"\\([^\\)]*?(?P<last_word>\\w*)\\Z\", **kwargs).search,\n",
    "        }\n",
    "        self.context = {\n",
    "            'line':\n",
    "                re.compile(\n",
    "                    r\"^(?P<last_line>\\s*({0}\\s+)*(?P<first_word>\\S+) .*?)\\Z\".format(pre),\n",
    "                    **kwargs).search,\n",
    "            'delimit_line':\n",
    "                re.compile(\n",
    "                    r\"(?:\\A|;)(?P<last_line>\\s*({0}\\s+)*(?P<first_word>[^\\s;]+)\\s[^;]*?)\\Z\".format(pre),\n",
    "                    **kwargs).search\n",
    "        }\n",
    "#         self.last_line = {\n",
    "#             'line':\n",
    "#                 re.compile(\n",
    "#                     r\"^(?P<last_line>.*)\\Z\",\n",
    "#                     **kwargs).search,\n",
    "#             'delimit_line':\n",
    "#                 re.compile(\n",
    "#                     r\"(?:\\A|;)(?P<last_line>[^;]*)\\Z\",\n",
    "#                     **kwargs).search\n",
    "#         }\n",
    "\n",
    "#         self.ends_in_a_comment = re.compile(\n",
    "#             r'('\n",
    "#             r'(^((\\s*\\*)|((.*( |\\t))?\\/\\/)).*)'     # last line starting with '*' or containing ' //'\n",
    "#             r'|(\\/\\*)([^\\*\\/]|\\*(?!\\/)|\\/(?<!\\*))*' # unfinished /* block\n",
    "#             r')\\Z', flags=re.MULTILINE).search\n",
    "\n",
    "#         self.ends_in_a_string_literal = re.compile(\n",
    "#             r'(\\`\\\")' # start of a `\" block\n",
    "#             r'(' \n",
    "#             r'([^\\\"\\']|\\\"(?!\\')|\\'(?<!\\\"))*' \n",
    "#             r'([^\\\"\\']|\\\"(?!\\')|\\'(?<!\\\"))*' \n",
    "#             r'([^\\\"\\']|\\\"(?!\\')|\\'(?<!\\\"))*' \n",
    "#             r')*\\Z').search"
   ]
  },
  {
   "cell_type": "code",
   "execution_count": null,
   "id": "e4f5ed32",
   "metadata": {},
   "outputs": [],
   "source": [
    "#| export\n",
    "def _ends_in_string_literal(code, sc_delimiter=False):\n",
    "    if sc_delimiter:\n",
    "        code = \"#delimit;\\n\" + code\n",
    "    return _last_token(code)[1] is String"
   ]
  },
  {
   "cell_type": "code",
   "execution_count": null,
   "id": "e0b4e9a9",
   "metadata": {},
   "outputs": [],
   "source": [
    "#| export\n",
    "def _ends_in_a_comment(code, sc_delimiter=False):\n",
    "    if sc_delimiter:\n",
    "        code = \"#delimit;\\n\" + code\n",
    "    return _last_token(code)[1] in [Comment.Single, Comment.Multiline, Comment.Special]"
   ]
  },
  {
   "cell_type": "code",
   "execution_count": null,
   "id": "8a4015a3",
   "metadata": {},
   "outputs": [],
   "source": [
    "#| hide\n",
    "test_instance = CompletionEnv()"
   ]
  },
  {
   "cell_type": "markdown",
   "id": "81d44401",
   "metadata": {},
   "source": [
    "`ends_in_a_string_literal` tests:"
   ]
  },
  {
   "cell_type": "code",
   "execution_count": null,
   "id": "b6f74f77",
   "metadata": {},
   "outputs": [],
   "source": [
    "#| hide\n",
    "no_examples = [\n",
    "    \"\"\"disp `\"`\"fdafd\"' \"' x\"\"\",\n",
    "    \"\"\"disp `\"\"fdafd\" \"' x\"\"\",\n",
    "    \"\"\"disp `\"fdafd\" \"' x\"\"\",\n",
    "    \"\"\"disp \"fdafd\" x\"\"\",\n",
    "    '''disp // \" x\n",
    "    fdfd''',\n",
    "    'disp \"x\" ',\n",
    "]\n",
    "yes_examples = [\n",
    "    \"\"\"disp `\"fdafd\"\"\",\n",
    "    \"\"\"disp \"fdafd\"\"\",\n",
    "    'disp \" // x',\n",
    "    \"\"\"disp `\"fdaf`\"d\"'\"\"\",\n",
    "]\n",
    "for code in no_examples:\n",
    "    test_eq(bool(_ends_in_string_literal(code)), False)\n",
    "for code in yes_examples:\n",
    "    test_eq(bool(_ends_in_string_literal(code)), True)"
   ]
  },
  {
   "cell_type": "markdown",
   "id": "1a880f83",
   "metadata": {},
   "source": [
    "`ends_in_a_comment` tests:"
   ]
  },
  {
   "cell_type": "code",
   "execution_count": null,
   "id": "5c5a35b0",
   "metadata": {},
   "outputs": [],
   "source": [
    "#| hide\n",
    "no_examples = [\n",
    "    \"fdafd\",\n",
    "    \"fdafs *\",\n",
    "    \"fdk//  fda * \",\n",
    "    'disp \" // x',\n",
    "    \"\"\"\\\n",
    "sfdf/* fdafd\n",
    "fadfdaf   */dfd\"\"\",\n",
    "    \"\"\"\\\n",
    "#delimit ;\n",
    "// This line is ignored, but the line break is not\n",
    "di x\"\"\",\n",
    "    \"\"\"\\\n",
    "#delimit ;\n",
    "// Same for multi-line /*\n",
    "di x\"\"\",\n",
    "    \"\"\"\\\n",
    "#delimit ;\n",
    "* Line continuation ///\n",
    "// Breaks line continuation ///\n",
    "di x\"\"\",\n",
    "    \"\"\"\\\n",
    "#delimit ;\n",
    "disp \"Line continuation\" ///\n",
    "// Breaks line continuation ///\n",
    "di x\"\"\",\n",
    "]\n",
    "yes_examples = [\n",
    "    \" \\t*fdfd\",\n",
    "    \"sfdf/* fdafd\",\n",
    "    \"* dfda ///\",\n",
    "    \"// fdafdafs \",\n",
    "    \"/// fjda;fjds\",\n",
    "    \"/* fdafd /\",\n",
    "    \"/* fdafd *\",\n",
    "    \" /* fdafd * / x\",\n",
    "#     \"\"\"\\\n",
    "# #delimit ; \n",
    "# * Line continuations do apply\n",
    "# di x\"\"\",\n",
    "    \"\"\"\\\n",
    "#delimit ; \n",
    "* Same for multi-line /*\n",
    "di \"\"\",\n",
    "]\n",
    "for code in no_examples:\n",
    "    test_eq(bool(_ends_in_a_comment(code)), False)\n",
    "for code in yes_examples:\n",
    "    test_eq(bool(_ends_in_a_comment(code)), True)"
   ]
  },
  {
   "cell_type": "code",
   "execution_count": null,
   "id": "7f51903d",
   "metadata": {},
   "outputs": [
    {
     "data": {
      "text/plain": [
       "(44, Token.Text, ' x')"
      ]
     },
     "execution_count": null,
     "metadata": {},
     "output_type": "execute_result"
    }
   ],
   "source": [
    "#| hide\n",
    "_last_token(\"\"\"\\\n",
    "#delimit ; \n",
    "* Line continuations do apply\n",
    "di x\"\"\")"
   ]
  },
  {
   "cell_type": "code",
   "execution_count": null,
   "id": "13b70fb0",
   "metadata": {},
   "outputs": [],
   "source": [
    "#| export\n",
    "@patch_to(CompletionEnv)\n",
    "def _scalar_f_pos_rcomp(self, code, r2chars):\n",
    "    scalar_f = False\n",
    "    funcontext = self.fcontext['function'](code)\n",
    "    if funcontext:\n",
    "        function = funcontext.group('name')\n",
    "        if function == 'scalar':\n",
    "            scalar_f = True\n",
    "            pos = funcontext.start('last_word') if funcontext.start('last_word') else len(code)\n",
    "            rcomp = \"\" if (r2chars[0:1] == \")\" or r2chars == \" )\") else \")\"\n",
    "    if scalar_f:\n",
    "        return True, pos, rcomp\n",
    "    else:\n",
    "        return False, None, None"
   ]
  },
  {
   "cell_type": "code",
   "execution_count": null,
   "id": "68fa0bd8",
   "metadata": {},
   "outputs": [
    {
     "data": {
      "text/plain": [
       "(True, 27, ')')"
      ]
     },
     "execution_count": null,
     "metadata": {},
     "output_type": "execute_result"
    }
   ],
   "source": [
    "#| hide\n",
    "code = \"\"\"\\\n",
    "sysuse lifeexp\n",
    "disp scalar(\"\"\"\n",
    "test_instance._scalar_f_pos_rcomp(code, \"\")"
   ]
  },
  {
   "cell_type": "code",
   "execution_count": null,
   "id": "2e622247",
   "metadata": {},
   "outputs": [
    {
     "data": {
      "text/plain": [
       "(True, 27, ')')"
      ]
     },
     "execution_count": null,
     "metadata": {},
     "output_type": "execute_result"
    }
   ],
   "source": [
    "#| hide\n",
    "code = \"\"\"\\\n",
    "sysuse lifeexp\n",
    "disp scalar(te\"\"\"\n",
    "test_instance._scalar_f_pos_rcomp(code, \"\")"
   ]
  },
  {
   "cell_type": "code",
   "execution_count": null,
   "id": "171ace4a",
   "metadata": {},
   "outputs": [
    {
     "data": {
      "text/plain": [
       "(True, 28, ')')"
      ]
     },
     "execution_count": null,
     "metadata": {},
     "output_type": "execute_result"
    }
   ],
   "source": [
    "#| hide\n",
    "code = \"\"\"\\\n",
    "sysuse lifeexp\n",
    "disp scalar( te\"\"\"\n",
    "test_instance._scalar_f_pos_rcomp(code, \"\")"
   ]
  },
  {
   "cell_type": "code",
   "execution_count": null,
   "id": "6a21dcbc",
   "metadata": {},
   "outputs": [
    {
     "data": {
      "text/plain": [
       "(True, 28, ')')"
      ]
     },
     "execution_count": null,
     "metadata": {},
     "output_type": "execute_result"
    }
   ],
   "source": [
    "#| hide\n",
    "code = \"\"\"\\\n",
    "sysuse lifeexp\n",
    "disp scalar(\n",
    "te\"\"\"\n",
    "test_instance._scalar_f_pos_rcomp(code, \"\")"
   ]
  },
  {
   "cell_type": "code",
   "execution_count": null,
   "id": "5ae61597",
   "metadata": {},
   "outputs": [
    {
     "data": {
      "text/plain": [
       "(True, 28, ')')"
      ]
     },
     "execution_count": null,
     "metadata": {},
     "output_type": "execute_result"
    }
   ],
   "source": [
    "#| hide\n",
    "code = \"\"\"\\\n",
    "sysuse lifeexp\n",
    "disp\n",
    "scalar(\n",
    "te\"\"\"\n",
    "test_instance._scalar_f_pos_rcomp(code, \"\")"
   ]
  },
  {
   "cell_type": "code",
   "execution_count": null,
   "id": "a9ecc29a",
   "metadata": {},
   "outputs": [],
   "source": [
    "#| export\n",
    "@patch_to(CompletionEnv)\n",
    "def _start_of_last_chunk(self, code):\n",
    "    search = self.last_chunk(code)\n",
    "    return search.start() + 1 if search else 0"
   ]
  },
  {
   "cell_type": "code",
   "execution_count": null,
   "id": "c078982e",
   "metadata": {},
   "outputs": [
    {
     "data": {
      "text/plain": [
       "28"
      ]
     },
     "execution_count": null,
     "metadata": {},
     "output_type": "execute_result"
    }
   ],
   "source": [
    "#| hide\n",
    "code = \"\"\"\\\n",
    "sysuse lifeexp\n",
    "disp\n",
    "scalar(\n",
    "te\"\"\"\n",
    "test_instance._start_of_last_chunk(code)"
   ]
  },
  {
   "cell_type": "code",
   "execution_count": null,
   "id": "997e34ca",
   "metadata": {},
   "outputs": [],
   "source": [
    "#| hide\n",
    "def _word(code):\n",
    "    return code[test_instance._start_of_last_chunk(code):]\n",
    "\n",
    "test_eq(_word(\"\"\"use  00\"\"\"), \"\"\"00\"\"\")\n",
    "\n",
    "test_eq(_word(\"\"\"use `00\"\"\"), \"\"\"`00\"\"\")\n",
    "test_eq(_word(\"\"\"use $00\"\"\"), \"\"\"$00\"\"\")\n",
    "test_eq(_word(\"\"\"use ${00\"\"\"), \"\"\"${00\"\"\")\n",
    "test_eq(_word(\"\"\"use {00\"\"\"), \"\"\"{00\"\"\")\n",
    "test_eq(_word(\"\"\"use /00\"\"\"), \"\"\"/00\"\"\")\n",
    "\n",
    "test_eq(_word(\"\"\"use \"00\"\"\"), \"\"\"00\"\"\")\n",
    "test_eq(_word(\"\"\"use\"00\"\"\"), \"\"\"00\"\"\")\n",
    "test_eq(_word(\"\"\"use `\"00\"\"\"), \"\"\"00\"\"\")\n",
    "test_eq(_word('''use `\"00\"'''), \"\")\n",
    "test_eq(_word(\"\"\"use `\"00\"'\"\"\"), \"'\")\n",
    "\n",
    "test_eq(_word(\"\"\"use \"\"\"), \"\")\n",
    "test_eq(_word(\"\"\"use\"\"\"), \"use\")\n",
    "\n",
    "test_eq(_word(\"\"\"use `tes\"\"\"), \"\"\"`tes\"\"\")\n",
    "test_eq(_word(\"\"\"use `tes'\"\"\"), \"\"\"`tes'\"\"\")\n",
    "test_eq(_word(\"\"\"use ${tes}\"\"\"), \"\"\"${tes}\"\"\")\n",
    "\n",
    "test_eq(_word(\"\\n\".join([\"use\", \"${tes}\"])), \"${tes}\")\n",
    "\n",
    "test_eq(_word(\"`=tes\"), \"tes\")\n",
    "test_eq(_word(\"disp `=tes\"), \"tes\")"
   ]
  },
  {
   "cell_type": "code",
   "execution_count": null,
   "id": "91e230d2",
   "metadata": {},
   "outputs": [],
   "source": [
    "#| export\n",
    "@patch_to(CompletionEnv)\n",
    "def _last_line_first_word(self, code, sc_delimiter=False):\n",
    "    if sc_delimiter:\n",
    "        linecontext = self.context['delimit_line'](code)\n",
    "    else:\n",
    "        linecontext = self.context['line'](code)\n",
    "    if linecontext:\n",
    "        last_line = linecontext.groupdict()['last_line']\n",
    "        first_word = linecontext.groupdict()['first_word']\n",
    "        return last_line, first_word\n",
    "    else:\n",
    "        return None, None"
   ]
  },
  {
   "cell_type": "code",
   "execution_count": null,
   "id": "708fcc67",
   "metadata": {},
   "outputs": [
    {
     "data": {
      "text/plain": [
       "('list lex', 'list')"
      ]
     },
     "execution_count": null,
     "metadata": {},
     "output_type": "execute_result"
    }
   ],
   "source": [
    "#| hide\n",
    "code = \"\"\"\\\n",
    "sysuse lifeexp\n",
    "list lex\"\"\"\n",
    "test_instance._last_line_first_word(code, False)"
   ]
  },
  {
   "cell_type": "code",
   "execution_count": null,
   "id": "315340c6",
   "metadata": {},
   "outputs": [
    {
     "data": {
      "text/plain": [
       "('sysuse lifeexp\\nlist lex', 'sysuse')"
      ]
     },
     "execution_count": null,
     "metadata": {},
     "output_type": "execute_result"
    }
   ],
   "source": [
    "#| hide\n",
    "code = \"\"\"\\\n",
    "sysuse lifeexp\n",
    "list lex\"\"\"\n",
    "test_instance._last_line_first_word(code, True)"
   ]
  },
  {
   "cell_type": "code",
   "execution_count": null,
   "id": "dd68c26d",
   "metadata": {},
   "outputs": [
    {
     "data": {
      "text/plain": [
       "('list lex', 'list')"
      ]
     },
     "execution_count": null,
     "metadata": {},
     "output_type": "execute_result"
    }
   ],
   "source": [
    "#| hide\n",
    "code = \"\"\"\\\n",
    "sysuse lifeexp;list lex\"\"\"\n",
    "test_instance._last_line_first_word(code, True)"
   ]
  },
  {
   "cell_type": "code",
   "execution_count": null,
   "id": "2c7ce8ab",
   "metadata": {},
   "outputs": [
    {
     "data": {
      "text/plain": [
       "(None, None)"
      ]
     },
     "execution_count": null,
     "metadata": {},
     "output_type": "execute_result"
    }
   ],
   "source": [
    "#| hide\n",
    "code = \"\"\"\\\n",
    "sysuse lifeexp\n",
    "lis\"\"\"\n",
    "test_instance._last_line_first_word(code, False)"
   ]
  },
  {
   "cell_type": "code",
   "execution_count": null,
   "id": "f20c3a69",
   "metadata": {},
   "outputs": [
    {
     "data": {
      "text/plain": [
       "('\\nsysuse lifeexp\\nlist lex', 'sysuse')"
      ]
     },
     "execution_count": null,
     "metadata": {},
     "output_type": "execute_result"
    }
   ],
   "source": [
    "#| hide\n",
    "code = \"\"\"\\\n",
    "#delimit;\n",
    "sysuse lifeexp\n",
    "list lex\"\"\"\n",
    "test_instance._last_line_first_word(code, True)"
   ]
  },
  {
   "cell_type": "code",
   "execution_count": null,
   "id": "019bc84c",
   "metadata": {},
   "outputs": [],
   "source": [
    "#| export\n",
    "class Env(IntEnum):\n",
    "    NONE = -9      # no suggestions\n",
    "    MAGIC = -1     # magics, %x*\n",
    "    GENERAL = 0    # varlist and/or file path\n",
    "    LOCAL = 1      # `x* completed with `x*'\n",
    "    GLOBAL = 2     # $x* completed with $x* or ${x* completed with ${x*}\n",
    "    SCALAR = 4     # scalar .* x* completed with x* or scalar(x* completed with scalar(x*)\n",
    "    MATRIX = 6     # matrix .* x* completed with x*\n",
    "    SCALAR_VAR = 7 # scalars and varlist, scalar .* = x* completed with x*\n",
    "    MATRIX_VAR = 8 # matrices and varlist, matrix .* = x* completed with x*\n",
    "    MATA = 9       # inline or in mata environment\n",
    "    STRING = 10    # file path"
   ]
  },
  {
   "cell_type": "code",
   "execution_count": null,
   "id": "9fc698ba",
   "metadata": {},
   "outputs": [],
   "source": [
    "#| export\n",
    "@patch_to(CompletionEnv)\n",
    "def get_env(self, \n",
    "            code: str, # Right-truncated to cursor position\n",
    "            r2chars: str, # The two characters immediately after `code`, used to accurately determine rcomp\n",
    "            sc_delimiter,\n",
    "           ) -> Tuple[Env, int, str, str]:\n",
    "    \"\"\"Returns completions environment\n",
    "    \n",
    "    Returns\n",
    "    -------\n",
    "    env : Env    \n",
    "    pos : int\n",
    "        Where the completions start. This is set to the start of the word to be completed.\n",
    "    out_chunk : str\n",
    "        Word to match.\n",
    "    rcomp : str\n",
    "        How to finish the completion (defaulting to nothing):\n",
    "        locals: '\n",
    "        globals (if start with ${): }\n",
    "        scalars: )\n",
    "        scalars (if start with `): )'\n",
    "    \"\"\"\n",
    "    rcomp = \"\"\n",
    "    \n",
    "    lcode = code.lstrip()\n",
    "    if self.magic_completion(lcode):\n",
    "        pos = code.rfind(\"%\") + 1\n",
    "        env = Env.MAGIC\n",
    "        return env, pos, code[pos:], rcomp\n",
    "    \n",
    "    sc_delimiter = ending_sc_delimiter(code, sc_delimiter)\n",
    "    env = Env.GENERAL   \n",
    "    \n",
    "    # Detect last \"word\" delimited by white space, a double-quote, or =.\n",
    "    pos = self._start_of_last_chunk(code)\n",
    "\n",
    "    if _ends_in_a_comment(code, sc_delimiter):\n",
    "        return env, pos, code[pos:], rcomp\n",
    "\n",
    "    last_token_index, last_token_type, last_token_value = _last_token_full_string(code, sc_delimiter)\n",
    "    \n",
    "    if last_token_type is String:\n",
    "        if (not _ends_in_string_literal(code + \" \", sc_delimiter)\n",
    "            or not (last_token_value.startswith('\"')\n",
    "                    or last_token_value.startswith('`\"'))):\n",
    "            return Env.NONE, len(code)-1, rcomp\n",
    "        if last_token_value.startswith('\"'):\n",
    "            opening_marker_length = 1\n",
    "            rcomp = \"\" if r2chars[0:1] == '\"' else '\"'\n",
    "        elif last_token_value.startswith('`\"'):\n",
    "            opening_marker_length = 2\n",
    "            rcomp = \"\" if r2chars[0:2] == \"\\\"'\" else \"\\\"'\"\n",
    "        pos = last_token_index + opening_marker_length\n",
    "        env = Env.STRING\n",
    "    else:\n",
    "        # Figure out if this is a local or global; env = 0 (default)\n",
    "        # will suggest variables in memory.\n",
    "        chunk = code[pos:]\n",
    "        lfind = chunk.rfind('`')\n",
    "        gfind = chunk.rfind('$')\n",
    "        path_chars = any(x in chunk for x in ['/', '\\\\', '~'])\n",
    "\n",
    "        if lfind >= 0 and (lfind > gfind):\n",
    "            pos += lfind + 1\n",
    "            env = Env.LOCAL\n",
    "            rcomp = \"\" if r2chars[0:1] == \"'\" else \"'\"\n",
    "        elif gfind >= 0 and not path_chars:\n",
    "            bfind = chunk.rfind('{')\n",
    "            if bfind >= 0 and (bfind == gfind+1):\n",
    "                pos += bfind + 1\n",
    "                env = Env.GLOBAL\n",
    "                rcomp = \"\" if r2chars[0:1] == \"}\" else \"}\"\n",
    "            else:\n",
    "                env = Env.GLOBAL\n",
    "                pos += gfind + 1    \n",
    "    \n",
    "    if pos == 0:\n",
    "        env = Env.NONE # to-do: auto-complete commands here\n",
    "    else:\n",
    "        # Figure out if current statement is a matrix or scalar\n",
    "        # statement. If so, will add them to completions list.\n",
    "        last_line, first_word = self._last_line_first_word(code, sc_delimiter)\n",
    "        if first_word:\n",
    "            equals_present = (last_line.find('=') > 0)\n",
    "            if re.match(r'^sca(lar|la|l)?$', first_word): #.strip()\n",
    "                env = Env.SCALAR_VAR if equals_present else Env.SCALAR\n",
    "            elif re.match(r'^mat(rix|ri|r)?$', first_word): #.strip()\n",
    "                env = Env.MATRIX_VAR if equals_present else Env.MATRIX\n",
    "\n",
    "        # Constructs of the form scalar(x<tab> will be filled only\n",
    "        # with scalars. This can be preceded by = or `=\n",
    "        if env in [Env.GENERAL, Env.STRING]:\n",
    "            scalar_f, new_pos, new_rcomp = self._scalar_f_pos_rcomp(code, r2chars)\n",
    "            if scalar_f:\n",
    "                env = Env.SCALAR\n",
    "                pos = new_pos\n",
    "                rcomp = new_rcomp\n",
    "\n",
    "    out_chunk = code[pos:]\n",
    "    return env, pos, out_chunk, rcomp"
   ]
  },
  {
   "cell_type": "code",
   "execution_count": null,
   "id": "d539bdc0",
   "metadata": {},
   "outputs": [],
   "source": [
    "#| hide\n",
    "test_eq(\n",
    "    test_instance.get_env(\"* $\", \"\", None)[0],\n",
    "    Env.GENERAL)"
   ]
  },
  {
   "cell_type": "code",
   "execution_count": null,
   "id": "73a4fc25",
   "metadata": {},
   "outputs": [
    {
     "data": {
      "text/plain": [
       "(<Env.SCALAR: 4>, 12, 'x', '')"
      ]
     },
     "execution_count": null,
     "metadata": {},
     "output_type": "execute_result"
    }
   ],
   "source": [
    "#| hide\n",
    "test_instance.get_env(\"\"\"\\\n",
    "scalar\n",
    "list x\"\"\", \"\", \";\")"
   ]
  },
  {
   "cell_type": "code",
   "execution_count": null,
   "id": "954d7473",
   "metadata": {},
   "outputs": [],
   "source": [
    "#| hide\n",
    "test_eq(\n",
    "    [test_instance.get_env(\"\"\"\\\n",
    "#delimit;\n",
    "scalar\n",
    "list x\"\"\", \"\", None)[i] for i in [0, 2, 3]],\n",
    "    [test_instance.get_env(\"\"\"\\\n",
    "scalar\n",
    "list x\"\"\", \"\", \";\")[i] for i in [0, 2, 3]])"
   ]
  },
  {
   "cell_type": "code",
   "execution_count": null,
   "id": "d6072451",
   "metadata": {},
   "outputs": [],
   "source": [
    "test_eq(\n",
    "    test_instance.get_env(\"`\", \"\", None)[0:3],\n",
    "    (Env.LOCAL, 1, \"\"))"
   ]
  },
  {
   "cell_type": "code",
   "execution_count": null,
   "id": "c2fd8ac4",
   "metadata": {},
   "outputs": [],
   "source": [
    "#| hide\n",
    "test_eq(\n",
    "    test_instance.get_env(\"disp 1\\n`\", \"\", None)[0],\n",
    "    Env.LOCAL)"
   ]
  },
  {
   "cell_type": "code",
   "execution_count": null,
   "id": "c0e524c0",
   "metadata": {},
   "outputs": [],
   "source": [
    "test_eq(\n",
    "    test_instance.get_env(\"*%e\", \"\", None)[0:2],\n",
    "    (Env.MAGIC, 2))"
   ]
  },
  {
   "cell_type": "code",
   "execution_count": null,
   "id": "c6fdc41a",
   "metadata": {},
   "outputs": [],
   "source": [
    "#| hide\n",
    "test_eq(\n",
    "    test_instance.get_env(\"%e\", \"\", None)[0:2],\n",
    "    (Env.MAGIC, 1))"
   ]
  },
  {
   "cell_type": "code",
   "execution_count": null,
   "id": "1c6dd777",
   "metadata": {},
   "outputs": [],
   "source": [
    "#| hide\n",
    "import nbdev; nbdev.nbdev_export()"
   ]
  }
 ],
 "metadata": {
  "kernelspec": {
   "display_name": "Python 3 (ipykernel)",
   "language": "python",
   "name": "python3"
  }
 },
 "nbformat": 4,
 "nbformat_minor": 5
}
