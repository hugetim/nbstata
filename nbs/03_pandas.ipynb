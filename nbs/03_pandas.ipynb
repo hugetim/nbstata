{
 "cells": [
  {
   "cell_type": "markdown",
   "metadata": {},
   "source": [
    "# pandas\n",
    "\n",
    "> Stata-to-pandas utilities, used in `nbstata.browse`"
   ]
  },
  {
   "cell_type": "code",
   "execution_count": null,
   "metadata": {},
   "outputs": [],
   "source": [
    "#| default_exp pandas\n",
    "%load_ext autoreload\n",
    "%autoreload 2"
   ]
  },
  {
   "cell_type": "code",
   "execution_count": null,
   "metadata": {},
   "outputs": [],
   "source": [
    "#| hide\n",
    "from nbdev.showdoc import *"
   ]
  },
  {
   "cell_type": "code",
   "execution_count": null,
   "metadata": {},
   "outputs": [],
   "source": [
    "#| export\n",
    "from nbstata.config import launch_stata\n",
    "from nbstata.helpers import *\n",
    "from nbstata.utils import *\n",
    "import pandas as pd\n",
    "import numpy as np"
   ]
  },
  {
   "cell_type": "markdown",
   "metadata": {},
   "source": [
    "## Stata-to-pandas"
   ]
  },
  {
   "cell_type": "code",
   "execution_count": null,
   "metadata": {},
   "outputs": [],
   "source": [
    "#| export\n",
    "def simple_dataframe_from_stata(stfr, var, valuelabel, missingval):\n",
    "    from pystata import stata\n",
    "    if stfr is None:\n",
    "        df = stata.pdataframe_from_data(var=var, valuelabel=valuelabel, missingval=missingval)\n",
    "    else:\n",
    "        df = stata.pdataframe_from_frame(stfr, var=var, valuelabel=valuelabel, missingval=missingval)\n",
    "    df.index += 1\n",
    "    return df"
   ]
  },
  {
   "cell_type": "markdown",
   "metadata": {},
   "source": [
    "Reference Stata docs: [getAsDict example](https://blog.stata.com/2020/11/05/stata-python-integration-part-8-using-the-stata-function-interface-to-copy-data-from-stata-to-python/)"
   ]
  },
  {
   "cell_type": "code",
   "execution_count": null,
   "metadata": {},
   "outputs": [],
   "source": [
    "#| export\n",
    "def _better_dataframe(hdl, var, obs, selectvar, valuelabel, missingval):\n",
    "    with IndexVar() as idx_var:\n",
    "        data = hdl.getAsDict(var, obs, selectvar, valuelabel, missingval)\n",
    "        if not data:\n",
    "            return pd.DataFrame()\n",
    "    \n",
    "        if idx_var in data:\n",
    "            idx = data.pop(idx_var)\n",
    "        else:\n",
    "            temp_var = [idx_var, selectvar] if selectvar else idx_var\n",
    "            idx = hdl.getAsDict(temp_var, obs, selectvar, valuelabel, missingval).pop(idx_var)\n",
    "        idx = pd.array(idx, dtype='int64')\n",
    "\n",
    "        return pd.DataFrame(data=data, index=idx)"
   ]
  },
  {
   "cell_type": "code",
   "execution_count": null,
   "metadata": {},
   "outputs": [],
   "source": [
    "#| hide\n",
    "#| eval: False\n",
    "launch_stata(splash=False)"
   ]
  },
  {
   "cell_type": "code",
   "execution_count": null,
   "metadata": {},
   "outputs": [],
   "source": [
    "#| hide\n",
    "#| eval: False\n",
    "import sfi"
   ]
  },
  {
   "cell_type": "code",
   "execution_count": null,
   "metadata": {},
   "outputs": [],
   "source": [
    "#| hide\n",
    "from fastcore.test import test_eq, test_fail"
   ]
  },
  {
   "cell_type": "code",
   "execution_count": null,
   "metadata": {},
   "outputs": [
    {
     "name": "stdout",
     "output_type": "stream",
     "text": [
      "(U.S. life expectancy, 1900-1940)\n"
     ]
    }
   ],
   "source": [
    "#| hide\n",
    "#| eval: False\n",
    "run_noecho(\"\"\"\\\n",
    "sysuse uslifeexp2, clear\n",
    "gen sel_var = year==1920\"\"\")"
   ]
  },
  {
   "cell_type": "code",
   "execution_count": null,
   "metadata": {},
   "outputs": [
    {
     "name": "stdout",
     "output_type": "stream",
     "text": [
      "\n"
     ]
    },
    {
     "data": {
      "text/html": [
       "<div>\n",
       "<style scoped>\n",
       "    .dataframe tbody tr th:only-of-type {\n",
       "        vertical-align: middle;\n",
       "    }\n",
       "\n",
       "    .dataframe tbody tr th {\n",
       "        vertical-align: top;\n",
       "    }\n",
       "\n",
       "    .dataframe thead th {\n",
       "        text-align: right;\n",
       "    }\n",
       "</style>\n",
       "<table border=\"1\" class=\"dataframe\">\n",
       "  <thead>\n",
       "    <tr style=\"text-align: right;\">\n",
       "      <th></th>\n",
       "      <th>le</th>\n",
       "    </tr>\n",
       "  </thead>\n",
       "  <tbody>\n",
       "    <tr>\n",
       "      <th>21</th>\n",
       "      <td>54.099998</td>\n",
       "    </tr>\n",
       "  </tbody>\n",
       "</table>\n",
       "</div>"
      ],
      "text/plain": [
       "           le\n",
       "21  54.099998"
      ]
     },
     "execution_count": null,
     "metadata": {},
     "output_type": "execute_result"
    }
   ],
   "source": [
    "#| hide\n",
    "#| eval: False\n",
    "_better_dataframe(sfi.Data, 'le', None, 'sel_var', True, np.NaN)"
   ]
  },
  {
   "cell_type": "code",
   "execution_count": null,
   "metadata": {},
   "outputs": [
    {
     "name": "stdout",
     "output_type": "stream",
     "text": [
      "\n"
     ]
    },
    {
     "data": {
      "text/html": [
       "<div>\n",
       "<style scoped>\n",
       "    .dataframe tbody tr th:only-of-type {\n",
       "        vertical-align: middle;\n",
       "    }\n",
       "\n",
       "    .dataframe tbody tr th {\n",
       "        vertical-align: top;\n",
       "    }\n",
       "\n",
       "    .dataframe thead th {\n",
       "        text-align: right;\n",
       "    }\n",
       "</style>\n",
       "<table border=\"1\" class=\"dataframe\">\n",
       "  <thead>\n",
       "    <tr style=\"text-align: right;\">\n",
       "      <th></th>\n",
       "    </tr>\n",
       "  </thead>\n",
       "  <tbody>\n",
       "  </tbody>\n",
       "</table>\n",
       "</div>"
      ],
      "text/plain": [
       "Empty DataFrame\n",
       "Columns: []\n",
       "Index: []"
      ]
     },
     "execution_count": null,
     "metadata": {},
     "output_type": "execute_result"
    }
   ],
   "source": [
    "#| hide\n",
    "#| eval: False\n",
    "_better_dataframe(sfi.Data, None, range(0, 10), 'sel_var', True, np.NaN)"
   ]
  },
  {
   "cell_type": "code",
   "execution_count": null,
   "metadata": {},
   "outputs": [
    {
     "name": "stdout",
     "output_type": "stream",
     "text": [
      "\n"
     ]
    },
    {
     "data": {
      "text/html": [
       "<div>\n",
       "<style scoped>\n",
       "    .dataframe tbody tr th:only-of-type {\n",
       "        vertical-align: middle;\n",
       "    }\n",
       "\n",
       "    .dataframe tbody tr th {\n",
       "        vertical-align: top;\n",
       "    }\n",
       "\n",
       "    .dataframe thead th {\n",
       "        text-align: right;\n",
       "    }\n",
       "</style>\n",
       "<table border=\"1\" class=\"dataframe\">\n",
       "  <thead>\n",
       "    <tr style=\"text-align: right;\">\n",
       "      <th></th>\n",
       "      <th>year</th>\n",
       "      <th>le</th>\n",
       "      <th>sel_var</th>\n",
       "    </tr>\n",
       "  </thead>\n",
       "  <tbody>\n",
       "    <tr>\n",
       "      <th>21</th>\n",
       "      <td>1920</td>\n",
       "      <td>54.099998</td>\n",
       "      <td>1.0</td>\n",
       "    </tr>\n",
       "  </tbody>\n",
       "</table>\n",
       "</div>"
      ],
      "text/plain": [
       "    year         le  sel_var\n",
       "21  1920  54.099998      1.0"
      ]
     },
     "execution_count": null,
     "metadata": {},
     "output_type": "execute_result"
    }
   ],
   "source": [
    "#| hide\n",
    "#| eval: False\n",
    "_better_dataframe(sfi.Data, None, range(-31, -1), 'sel_var', True, np.NaN)"
   ]
  },
  {
   "cell_type": "code",
   "execution_count": null,
   "metadata": {},
   "outputs": [],
   "source": [
    "#| hide\n",
    "#| eval: False\n",
    "run_noecho(\"drop sel_var\")"
   ]
  },
  {
   "cell_type": "code",
   "execution_count": null,
   "metadata": {},
   "outputs": [],
   "source": [
    "#| export\n",
    "def _var_from_varlist(varlist, stfr):\n",
    "    from pystata import stata\n",
    "    if stfr:\n",
    "        var_code = varlist.strip()\n",
    "    else:\n",
    "        _program_name = \"temp_nbstata_varlist_name\"\n",
    "        try:\n",
    "            var_code = diverted_stata_output(f\"\"\"\\\n",
    "                program {_program_name}\n",
    "                    syntax [varlist(default=none)]\n",
    "                    disp \"`varlist'\"\n",
    "                end\n",
    "                {_program_name} {varlist}\n",
    "                program drop {_program_name}\n",
    "                \"\"\").strip()\n",
    "        except SystemError as e:\n",
    "            stata.run(f\"capture program drop {_program_name}\", quietly=True)\n",
    "            raise(e)\n",
    "    return [c.strip() for c in var_code.split() if c] if var_code else None"
   ]
  },
  {
   "cell_type": "code",
   "execution_count": null,
   "metadata": {},
   "outputs": [],
   "source": [
    "#| export\n",
    "def better_dataframe_from_stata(stfr, varlist, obs, selectvar, valuelabel, missingval, sformat):\n",
    "    import sfi, pystata\n",
    "    hdl = sfi.Data if stfr is None else sfi.Frame.connect(stfr)\n",
    "    var = _var_from_varlist(varlist, stfr)\n",
    "    custom_index_not_needed = obs is None and not selectvar\n",
    "    if custom_index_not_needed:\n",
    "        df = simple_dataframe_from_stata(stfr, var, valuelabel, missingval)\n",
    "    else:\n",
    "        if hdl.getObsTotal() <= 0:\n",
    "            return pd.DataFrame()\n",
    "        df = _better_dataframe(hdl, var, obs, selectvar, valuelabel, missingval)\n",
    "    if sformat:\n",
    "        for v in list(df.columns):\n",
    "            if hdl.isVarTypeString(v) or (valuelabel and missingval==np.NaN\n",
    "                                          and pd.api.types.is_string_dtype(df[v])):\n",
    "                continue\n",
    "            v_format = hdl.getVarFormat(v)\n",
    "            if missingval != np.NaN and pd.api.types.is_string_dtype(df[v]):\n",
    "                def format_value(x):\n",
    "                    return sfi.SFIToolkit.formatValue(x, v_format) if type(x)!=str else x\n",
    "            else:\n",
    "                def format_value(x):\n",
    "                    return sfi.SFIToolkit.formatValue(x, v_format)\n",
    "            df[v] = df[v].apply(format_value)\n",
    "    return df"
   ]
  },
  {
   "cell_type": "code",
   "execution_count": null,
   "metadata": {},
   "outputs": [],
   "source": [
    "#| export\n",
    "def better_pdataframe_from_data(varlist=\"\", obs=None, selectvar=None, valuelabel=False, missingval=np.NaN, sformat=False):\n",
    "    import pystata\n",
    "    pystata.config.check_initialized()\n",
    "\n",
    "    return better_dataframe_from_stata(None, varlist, obs, selectvar, valuelabel, missingval, sformat)"
   ]
  },
  {
   "cell_type": "code",
   "execution_count": null,
   "metadata": {},
   "outputs": [],
   "source": [
    "#| export\n",
    "def better_pdataframe_from_frame(stfr, varlist=\"\", obs=None, selectvar=None, valuelabel=False, missingval=np.NaN, sformat=False):\n",
    "    import pystata\n",
    "    pystata.config.check_initialized()\n",
    "\n",
    "    return better_dataframe_from_stata(stfr, varlist, obs, selectvar, valuelabel, missingval, sformat)"
   ]
  },
  {
   "cell_type": "code",
   "execution_count": null,
   "metadata": {},
   "outputs": [
    {
     "name": "stdout",
     "output_type": "stream",
     "text": [
      "(1 real change made, 1 to missing)\n",
      "(1 real change made)\n",
      "(1 missing value generated)\n"
     ]
    },
    {
     "data": {
      "text/html": [
       "<div>\n",
       "<style scoped>\n",
       "    .dataframe tbody tr th:only-of-type {\n",
       "        vertical-align: middle;\n",
       "    }\n",
       "\n",
       "    .dataframe tbody tr th {\n",
       "        vertical-align: top;\n",
       "    }\n",
       "\n",
       "    .dataframe thead th {\n",
       "        text-align: right;\n",
       "    }\n",
       "</style>\n",
       "<table border=\"1\" class=\"dataframe\">\n",
       "  <thead>\n",
       "    <tr style=\"text-align: right;\">\n",
       "      <th></th>\n",
       "      <th>year</th>\n",
       "      <th>le</th>\n",
       "      <th>str_var</th>\n",
       "      <th>date</th>\n",
       "      <th>date_tc</th>\n",
       "      <th>date_tC</th>\n",
       "    </tr>\n",
       "  </thead>\n",
       "  <tbody>\n",
       "    <tr>\n",
       "      <th>1</th>\n",
       "      <td>2022</td>\n",
       "      <td>47.299999</td>\n",
       "      <td>test string</td>\n",
       "      <td>22646.0</td>\n",
       "      <td>1.956614e+12</td>\n",
       "      <td>1.956614e+12</td>\n",
       "    </tr>\n",
       "    <tr>\n",
       "      <th>2</th>\n",
       "      <td>1901</td>\n",
       "      <td>49.099998</td>\n",
       "      <td>test string</td>\n",
       "      <td>-21549.0</td>\n",
       "      <td>-1.861834e+12</td>\n",
       "      <td>-1.861834e+12</td>\n",
       "    </tr>\n",
       "    <tr>\n",
       "      <th>3</th>\n",
       "      <td>1902</td>\n",
       "      <td>51.500000</td>\n",
       "      <td>test string</td>\n",
       "      <td>-21184.0</td>\n",
       "      <td>-1.830298e+12</td>\n",
       "      <td>-1.830298e+12</td>\n",
       "    </tr>\n",
       "    <tr>\n",
       "      <th>4</th>\n",
       "      <td>1903</td>\n",
       "      <td>50.500000</td>\n",
       "      <td>test string</td>\n",
       "      <td>-20819.0</td>\n",
       "      <td>-1.798762e+12</td>\n",
       "      <td>-1.798762e+12</td>\n",
       "    </tr>\n",
       "    <tr>\n",
       "      <th>5</th>\n",
       "      <td>1904</td>\n",
       "      <td>NaN</td>\n",
       "      <td></td>\n",
       "      <td>-20454.0</td>\n",
       "      <td>-1.767226e+12</td>\n",
       "      <td>-1.767226e+12</td>\n",
       "    </tr>\n",
       "  </tbody>\n",
       "</table>\n",
       "</div>"
      ],
      "text/plain": [
       "   year         le      str_var     date       date_tc       date_tC\n",
       "1  2022  47.299999  test string  22646.0  1.956614e+12  1.956614e+12\n",
       "2  1901  49.099998  test string -21549.0 -1.861834e+12 -1.861834e+12\n",
       "3  1902  51.500000  test string -21184.0 -1.830298e+12 -1.830298e+12\n",
       "4  1903  50.500000  test string -20819.0 -1.798762e+12 -1.798762e+12\n",
       "5  1904        NaN              -20454.0 -1.767226e+12 -1.767226e+12"
      ]
     },
     "execution_count": null,
     "metadata": {},
     "output_type": "execute_result"
    }
   ],
   "source": [
    "#| eval: False\n",
    "run_noecho(\"\"\"\\\n",
    "replace le = . if _n==5\n",
    "replace year = 2022 if year==1900\n",
    "format year %-ty\n",
    "gen str_var = \"test string\" if _n!=5\n",
    "gen date = dofy(year)\n",
    "format date %td\n",
    "gen double date_tc = cofd(date)\n",
    "format date_tc %tc\n",
    "gen double date_tC = Cofd(date)\n",
    "format date_tC %tC\n",
    "\"\"\")\n",
    "better_pdataframe_from_data().head()"
   ]
  },
  {
   "cell_type": "code",
   "execution_count": null,
   "metadata": {},
   "outputs": [
    {
     "data": {
      "text/html": [
       "<div>\n",
       "<style scoped>\n",
       "    .dataframe tbody tr th:only-of-type {\n",
       "        vertical-align: middle;\n",
       "    }\n",
       "\n",
       "    .dataframe tbody tr th {\n",
       "        vertical-align: top;\n",
       "    }\n",
       "\n",
       "    .dataframe thead th {\n",
       "        text-align: right;\n",
       "    }\n",
       "</style>\n",
       "<table border=\"1\" class=\"dataframe\">\n",
       "  <thead>\n",
       "    <tr style=\"text-align: right;\">\n",
       "      <th></th>\n",
       "      <th>year</th>\n",
       "      <th>le</th>\n",
       "      <th>str_var</th>\n",
       "      <th>date</th>\n",
       "      <th>date_tc</th>\n",
       "      <th>date_tC</th>\n",
       "    </tr>\n",
       "  </thead>\n",
       "  <tbody>\n",
       "    <tr>\n",
       "      <th>1</th>\n",
       "      <td>2022</td>\n",
       "      <td>47.3</td>\n",
       "      <td>test string</td>\n",
       "      <td>01jan2022</td>\n",
       "      <td>01jan2022 00:00:00</td>\n",
       "      <td>01jan2022 00:00:00</td>\n",
       "    </tr>\n",
       "    <tr>\n",
       "      <th>2</th>\n",
       "      <td>1901</td>\n",
       "      <td>49.1</td>\n",
       "      <td>test string</td>\n",
       "      <td>01jan1901</td>\n",
       "      <td>01jan1901 00:00:00</td>\n",
       "      <td>01jan1901 00:00:00</td>\n",
       "    </tr>\n",
       "    <tr>\n",
       "      <th>3</th>\n",
       "      <td>1902</td>\n",
       "      <td>51.5</td>\n",
       "      <td>test string</td>\n",
       "      <td>01jan1902</td>\n",
       "      <td>01jan1902 00:00:00</td>\n",
       "      <td>01jan1902 00:00:00</td>\n",
       "    </tr>\n",
       "    <tr>\n",
       "      <th>4</th>\n",
       "      <td>1903</td>\n",
       "      <td>50.5</td>\n",
       "      <td>test string</td>\n",
       "      <td>01jan1903</td>\n",
       "      <td>01jan1903 00:00:00</td>\n",
       "      <td>01jan1903 00:00:00</td>\n",
       "    </tr>\n",
       "    <tr>\n",
       "      <th>5</th>\n",
       "      <td>1904</td>\n",
       "      <td>.</td>\n",
       "      <td></td>\n",
       "      <td>01jan1904</td>\n",
       "      <td>01jan1904 00:00:00</td>\n",
       "      <td>01jan1904 00:00:00</td>\n",
       "    </tr>\n",
       "  </tbody>\n",
       "</table>\n",
       "</div>"
      ],
      "text/plain": [
       "   year         le      str_var       date             date_tc  \\\n",
       "1  2022       47.3  test string  01jan2022  01jan2022 00:00:00   \n",
       "2  1901       49.1  test string  01jan1901  01jan1901 00:00:00   \n",
       "3  1902       51.5  test string  01jan1902  01jan1902 00:00:00   \n",
       "4  1903       50.5  test string  01jan1903  01jan1903 00:00:00   \n",
       "5  1904          .               01jan1904  01jan1904 00:00:00   \n",
       "\n",
       "              date_tC  \n",
       "1  01jan2022 00:00:00  \n",
       "2  01jan1901 00:00:00  \n",
       "3  01jan1902 00:00:00  \n",
       "4  01jan1903 00:00:00  \n",
       "5  01jan1904 00:00:00  "
      ]
     },
     "execution_count": null,
     "metadata": {},
     "output_type": "execute_result"
    }
   ],
   "source": [
    "#| eval: False\n",
    "better_pdataframe_from_data(sformat=True).head()"
   ]
  },
  {
   "cell_type": "code",
   "execution_count": null,
   "metadata": {},
   "outputs": [
    {
     "data": {
      "text/html": [
       "<div>\n",
       "<style scoped>\n",
       "    .dataframe tbody tr th:only-of-type {\n",
       "        vertical-align: middle;\n",
       "    }\n",
       "\n",
       "    .dataframe tbody tr th {\n",
       "        vertical-align: top;\n",
       "    }\n",
       "\n",
       "    .dataframe thead th {\n",
       "        text-align: right;\n",
       "    }\n",
       "</style>\n",
       "<table border=\"1\" class=\"dataframe\">\n",
       "  <thead>\n",
       "    <tr style=\"text-align: right;\">\n",
       "      <th></th>\n",
       "      <th>year</th>\n",
       "      <th>le</th>\n",
       "      <th>str_var</th>\n",
       "      <th>date</th>\n",
       "      <th>date_tc</th>\n",
       "      <th>date_tC</th>\n",
       "    </tr>\n",
       "  </thead>\n",
       "  <tbody>\n",
       "    <tr>\n",
       "      <th>1</th>\n",
       "      <td>2022</td>\n",
       "      <td>47.3</td>\n",
       "      <td>test string</td>\n",
       "      <td>01jan2022</td>\n",
       "      <td>01jan2022 00:00:00</td>\n",
       "      <td>01jan2022 00:00:00</td>\n",
       "    </tr>\n",
       "    <tr>\n",
       "      <th>2</th>\n",
       "      <td>1901</td>\n",
       "      <td>49.1</td>\n",
       "      <td>test string</td>\n",
       "      <td>01jan1901</td>\n",
       "      <td>01jan1901 00:00:00</td>\n",
       "      <td>01jan1901 00:00:00</td>\n",
       "    </tr>\n",
       "    <tr>\n",
       "      <th>3</th>\n",
       "      <td>1902</td>\n",
       "      <td>51.5</td>\n",
       "      <td>test string</td>\n",
       "      <td>01jan1902</td>\n",
       "      <td>01jan1902 00:00:00</td>\n",
       "      <td>01jan1902 00:00:00</td>\n",
       "    </tr>\n",
       "    <tr>\n",
       "      <th>4</th>\n",
       "      <td>1903</td>\n",
       "      <td>50.5</td>\n",
       "      <td>test string</td>\n",
       "      <td>01jan1903</td>\n",
       "      <td>01jan1903 00:00:00</td>\n",
       "      <td>01jan1903 00:00:00</td>\n",
       "    </tr>\n",
       "    <tr>\n",
       "      <th>5</th>\n",
       "      <td>1904</td>\n",
       "      <td>.</td>\n",
       "      <td></td>\n",
       "      <td>01jan1904</td>\n",
       "      <td>01jan1904 00:00:00</td>\n",
       "      <td>01jan1904 00:00:00</td>\n",
       "    </tr>\n",
       "  </tbody>\n",
       "</table>\n",
       "</div>"
      ],
      "text/plain": [
       "   year         le      str_var       date             date_tc  \\\n",
       "1  2022       47.3  test string  01jan2022  01jan2022 00:00:00   \n",
       "2  1901       49.1  test string  01jan1901  01jan1901 00:00:00   \n",
       "3  1902       51.5  test string  01jan1902  01jan1902 00:00:00   \n",
       "4  1903       50.5  test string  01jan1903  01jan1903 00:00:00   \n",
       "5  1904          .               01jan1904  01jan1904 00:00:00   \n",
       "\n",
       "              date_tC  \n",
       "1  01jan2022 00:00:00  \n",
       "2  01jan1901 00:00:00  \n",
       "3  01jan1902 00:00:00  \n",
       "4  01jan1903 00:00:00  \n",
       "5  01jan1904 00:00:00  "
      ]
     },
     "execution_count": null,
     "metadata": {},
     "output_type": "execute_result"
    }
   ],
   "source": [
    "#| hide\n",
    "#| eval: False\n",
    "better_pdataframe_from_data(valuelabel=True, sformat=True, missingval=\".\").head()"
   ]
  },
  {
   "cell_type": "code",
   "execution_count": null,
   "metadata": {},
   "outputs": [
    {
     "data": {
      "text/html": [
       "<div>\n",
       "<style scoped>\n",
       "    .dataframe tbody tr th:only-of-type {\n",
       "        vertical-align: middle;\n",
       "    }\n",
       "\n",
       "    .dataframe tbody tr th {\n",
       "        vertical-align: top;\n",
       "    }\n",
       "\n",
       "    .dataframe thead th {\n",
       "        text-align: right;\n",
       "    }\n",
       "</style>\n",
       "<table border=\"1\" class=\"dataframe\">\n",
       "  <thead>\n",
       "    <tr style=\"text-align: right;\">\n",
       "      <th></th>\n",
       "      <th>year</th>\n",
       "      <th>le</th>\n",
       "      <th>str_var</th>\n",
       "      <th>date</th>\n",
       "      <th>date_tc</th>\n",
       "      <th>date_tC</th>\n",
       "    </tr>\n",
       "  </thead>\n",
       "  <tbody>\n",
       "    <tr>\n",
       "      <th>1</th>\n",
       "      <td>2022</td>\n",
       "      <td>47.3</td>\n",
       "      <td>test string</td>\n",
       "      <td>01jan2022</td>\n",
       "      <td>01jan2022 00:00:00</td>\n",
       "      <td>01jan2022 00:00:00</td>\n",
       "    </tr>\n",
       "    <tr>\n",
       "      <th>2</th>\n",
       "      <td>1901</td>\n",
       "      <td>49.1</td>\n",
       "      <td>test string</td>\n",
       "      <td>01jan1901</td>\n",
       "      <td>01jan1901 00:00:00</td>\n",
       "      <td>01jan1901 00:00:00</td>\n",
       "    </tr>\n",
       "    <tr>\n",
       "      <th>3</th>\n",
       "      <td>1902</td>\n",
       "      <td>51.5</td>\n",
       "      <td>test string</td>\n",
       "      <td>01jan1902</td>\n",
       "      <td>01jan1902 00:00:00</td>\n",
       "      <td>01jan1902 00:00:00</td>\n",
       "    </tr>\n",
       "    <tr>\n",
       "      <th>4</th>\n",
       "      <td>1903</td>\n",
       "      <td>50.5</td>\n",
       "      <td>test string</td>\n",
       "      <td>01jan1903</td>\n",
       "      <td>01jan1903 00:00:00</td>\n",
       "      <td>01jan1903 00:00:00</td>\n",
       "    </tr>\n",
       "    <tr>\n",
       "      <th>5</th>\n",
       "      <td>1904</td>\n",
       "      <td>.</td>\n",
       "      <td></td>\n",
       "      <td>01jan1904</td>\n",
       "      <td>01jan1904 00:00:00</td>\n",
       "      <td>01jan1904 00:00:00</td>\n",
       "    </tr>\n",
       "  </tbody>\n",
       "</table>\n",
       "</div>"
      ],
      "text/plain": [
       "   year         le      str_var       date             date_tc  \\\n",
       "1  2022       47.3  test string  01jan2022  01jan2022 00:00:00   \n",
       "2  1901       49.1  test string  01jan1901  01jan1901 00:00:00   \n",
       "3  1902       51.5  test string  01jan1902  01jan1902 00:00:00   \n",
       "4  1903       50.5  test string  01jan1903  01jan1903 00:00:00   \n",
       "5  1904          .               01jan1904  01jan1904 00:00:00   \n",
       "\n",
       "              date_tC  \n",
       "1  01jan2022 00:00:00  \n",
       "2  01jan1901 00:00:00  \n",
       "3  01jan1902 00:00:00  \n",
       "4  01jan1903 00:00:00  \n",
       "5  01jan1904 00:00:00  "
      ]
     },
     "execution_count": null,
     "metadata": {},
     "output_type": "execute_result"
    }
   ],
   "source": [
    "#| hide\n",
    "#| eval: False\n",
    "better_pdataframe_from_data(sformat=True, missingval=\".\").head()"
   ]
  },
  {
   "cell_type": "code",
   "execution_count": null,
   "metadata": {},
   "outputs": [
    {
     "name": "stdout",
     "output_type": "stream",
     "text": [
      "\n"
     ]
    },
    {
     "data": {
      "text/html": [
       "<div>\n",
       "<style scoped>\n",
       "    .dataframe tbody tr th:only-of-type {\n",
       "        vertical-align: middle;\n",
       "    }\n",
       "\n",
       "    .dataframe tbody tr th {\n",
       "        vertical-align: top;\n",
       "    }\n",
       "\n",
       "    .dataframe thead th {\n",
       "        text-align: right;\n",
       "    }\n",
       "</style>\n",
       "<table border=\"1\" class=\"dataframe\">\n",
       "  <thead>\n",
       "    <tr style=\"text-align: right;\">\n",
       "      <th></th>\n",
       "      <th>year</th>\n",
       "      <th>le</th>\n",
       "      <th>str_var</th>\n",
       "      <th>date</th>\n",
       "      <th>date_tc</th>\n",
       "      <th>date_tC</th>\n",
       "    </tr>\n",
       "  </thead>\n",
       "  <tbody>\n",
       "    <tr>\n",
       "      <th>2</th>\n",
       "      <td>1901</td>\n",
       "      <td>49.099998</td>\n",
       "      <td>test string</td>\n",
       "      <td>-21549.0</td>\n",
       "      <td>-1.861834e+12</td>\n",
       "      <td>-1.861834e+12</td>\n",
       "    </tr>\n",
       "    <tr>\n",
       "      <th>3</th>\n",
       "      <td>1902</td>\n",
       "      <td>51.500000</td>\n",
       "      <td>test string</td>\n",
       "      <td>-21184.0</td>\n",
       "      <td>-1.830298e+12</td>\n",
       "      <td>-1.830298e+12</td>\n",
       "    </tr>\n",
       "  </tbody>\n",
       "</table>\n",
       "</div>"
      ],
      "text/plain": [
       "   year         le      str_var     date       date_tc       date_tC\n",
       "2  1901  49.099998  test string -21549.0 -1.861834e+12 -1.861834e+12\n",
       "3  1902  51.500000  test string -21184.0 -1.830298e+12 -1.830298e+12"
      ]
     },
     "execution_count": null,
     "metadata": {},
     "output_type": "execute_result"
    }
   ],
   "source": [
    "#| hide\n",
    "#| eval: False\n",
    "better_pdataframe_from_data(obs=range(1, 3)).head()"
   ]
  },
  {
   "cell_type": "code",
   "execution_count": null,
   "metadata": {},
   "outputs": [
    {
     "name": "stdout",
     "output_type": "stream",
     "text": [
      "\n"
     ]
    }
   ],
   "source": [
    "#| hide\n",
    "#| eval: False\n",
    "test_fail(better_pdataframe_from_data, kwargs=dict(obs=range(1000)))"
   ]
  },
  {
   "cell_type": "code",
   "execution_count": null,
   "metadata": {},
   "outputs": [
    {
     "data": {
      "text/html": [
       "<div>\n",
       "<style scoped>\n",
       "    .dataframe tbody tr th:only-of-type {\n",
       "        vertical-align: middle;\n",
       "    }\n",
       "\n",
       "    .dataframe tbody tr th {\n",
       "        vertical-align: top;\n",
       "    }\n",
       "\n",
       "    .dataframe thead th {\n",
       "        text-align: right;\n",
       "    }\n",
       "</style>\n",
       "<table border=\"1\" class=\"dataframe\">\n",
       "  <thead>\n",
       "    <tr style=\"text-align: right;\">\n",
       "      <th></th>\n",
       "      <th>year</th>\n",
       "      <th>le</th>\n",
       "      <th>str_var</th>\n",
       "      <th>date</th>\n",
       "      <th>date_tc</th>\n",
       "      <th>date_tC</th>\n",
       "    </tr>\n",
       "  </thead>\n",
       "  <tbody>\n",
       "    <tr>\n",
       "      <th>1</th>\n",
       "      <td>2022</td>\n",
       "      <td>47.299999</td>\n",
       "      <td>test string</td>\n",
       "      <td>22646.0</td>\n",
       "      <td>1.956614e+12</td>\n",
       "      <td>1.956614e+12</td>\n",
       "    </tr>\n",
       "    <tr>\n",
       "      <th>2</th>\n",
       "      <td>1901</td>\n",
       "      <td>49.099998</td>\n",
       "      <td>test string</td>\n",
       "      <td>-21549.0</td>\n",
       "      <td>-1.861834e+12</td>\n",
       "      <td>-1.861834e+12</td>\n",
       "    </tr>\n",
       "    <tr>\n",
       "      <th>3</th>\n",
       "      <td>1902</td>\n",
       "      <td>51.5</td>\n",
       "      <td>test string</td>\n",
       "      <td>-21184.0</td>\n",
       "      <td>-1.830298e+12</td>\n",
       "      <td>-1.830298e+12</td>\n",
       "    </tr>\n",
       "    <tr>\n",
       "      <th>4</th>\n",
       "      <td>1903</td>\n",
       "      <td>50.5</td>\n",
       "      <td>test string</td>\n",
       "      <td>-20819.0</td>\n",
       "      <td>-1.798762e+12</td>\n",
       "      <td>-1.798762e+12</td>\n",
       "    </tr>\n",
       "    <tr>\n",
       "      <th>5</th>\n",
       "      <td>1904</td>\n",
       "      <td>.</td>\n",
       "      <td></td>\n",
       "      <td>-20454.0</td>\n",
       "      <td>-1.767226e+12</td>\n",
       "      <td>-1.767226e+12</td>\n",
       "    </tr>\n",
       "  </tbody>\n",
       "</table>\n",
       "</div>"
      ],
      "text/plain": [
       "   year         le      str_var     date       date_tc       date_tC\n",
       "1  2022  47.299999  test string  22646.0  1.956614e+12  1.956614e+12\n",
       "2  1901  49.099998  test string -21549.0 -1.861834e+12 -1.861834e+12\n",
       "3  1902       51.5  test string -21184.0 -1.830298e+12 -1.830298e+12\n",
       "4  1903       50.5  test string -20819.0 -1.798762e+12 -1.798762e+12\n",
       "5  1904          .              -20454.0 -1.767226e+12 -1.767226e+12"
      ]
     },
     "execution_count": null,
     "metadata": {},
     "output_type": "execute_result"
    }
   ],
   "source": [
    "#| hide\n",
    "#| eval: False\n",
    "better_pdataframe_from_data(missingval='.').head()"
   ]
  },
  {
   "cell_type": "code",
   "execution_count": null,
   "metadata": {},
   "outputs": [
    {
     "data": {
      "text/html": [
       "<div>\n",
       "<style scoped>\n",
       "    .dataframe tbody tr th:only-of-type {\n",
       "        vertical-align: middle;\n",
       "    }\n",
       "\n",
       "    .dataframe tbody tr th {\n",
       "        vertical-align: top;\n",
       "    }\n",
       "\n",
       "    .dataframe thead th {\n",
       "        text-align: right;\n",
       "    }\n",
       "</style>\n",
       "<table border=\"1\" class=\"dataframe\">\n",
       "  <thead>\n",
       "    <tr style=\"text-align: right;\">\n",
       "      <th></th>\n",
       "      <th>year</th>\n",
       "      <th>date_tc</th>\n",
       "      <th>date_tC</th>\n",
       "    </tr>\n",
       "  </thead>\n",
       "  <tbody>\n",
       "    <tr>\n",
       "      <th>1</th>\n",
       "      <td>2022</td>\n",
       "      <td>1.956614e+12</td>\n",
       "      <td>1.956614e+12</td>\n",
       "    </tr>\n",
       "    <tr>\n",
       "      <th>2</th>\n",
       "      <td>1901</td>\n",
       "      <td>-1.861834e+12</td>\n",
       "      <td>-1.861834e+12</td>\n",
       "    </tr>\n",
       "    <tr>\n",
       "      <th>3</th>\n",
       "      <td>1902</td>\n",
       "      <td>-1.830298e+12</td>\n",
       "      <td>-1.830298e+12</td>\n",
       "    </tr>\n",
       "    <tr>\n",
       "      <th>4</th>\n",
       "      <td>1903</td>\n",
       "      <td>-1.798762e+12</td>\n",
       "      <td>-1.798762e+12</td>\n",
       "    </tr>\n",
       "    <tr>\n",
       "      <th>5</th>\n",
       "      <td>1904</td>\n",
       "      <td>-1.767226e+12</td>\n",
       "      <td>-1.767226e+12</td>\n",
       "    </tr>\n",
       "  </tbody>\n",
       "</table>\n",
       "</div>"
      ],
      "text/plain": [
       "   year       date_tc       date_tC\n",
       "1  2022  1.956614e+12  1.956614e+12\n",
       "2  1901 -1.861834e+12 -1.861834e+12\n",
       "3  1902 -1.830298e+12 -1.830298e+12\n",
       "4  1903 -1.798762e+12 -1.798762e+12\n",
       "5  1904 -1.767226e+12 -1.767226e+12"
      ]
     },
     "execution_count": null,
     "metadata": {},
     "output_type": "execute_result"
    }
   ],
   "source": [
    "#| hide\n",
    "#| eval: False\n",
    "better_pdataframe_from_data(varlist='y date_*').head()"
   ]
  },
  {
   "cell_type": "code",
   "execution_count": null,
   "metadata": {},
   "outputs": [],
   "source": [
    "#| hide\n",
    "import nbdev; nbdev.nbdev_export()"
   ]
  }
 ],
 "metadata": {
  "kernelspec": {
   "display_name": "Python 3 (ipykernel)",
   "language": "python",
   "name": "python3"
  }
 },
 "nbformat": 4,
 "nbformat_minor": 4
}
