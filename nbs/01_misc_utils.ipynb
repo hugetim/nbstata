{
 "cells": [
  {
   "cell_type": "markdown",
   "id": "2c184729",
   "metadata": {},
   "source": [
    "# misc_utils\n",
    "\n",
    "> General helper functions with no Jupyter or pystata dependence"
   ]
  },
  {
   "cell_type": "code",
   "execution_count": null,
   "id": "c7fb586a",
   "metadata": {},
   "outputs": [],
   "source": [
    "#| default_exp misc_utils\n",
    "%load_ext autoreload\n",
    "%autoreload 2"
   ]
  },
  {
   "cell_type": "code",
   "execution_count": null,
   "id": "026b00b7",
   "metadata": {},
   "outputs": [],
   "source": [
    "#| hide\n",
    "from nbdev.showdoc import *"
   ]
  },
  {
   "cell_type": "code",
   "execution_count": null,
   "id": "4b35edd5",
   "metadata": {},
   "outputs": [],
   "source": [
    "#| export\n",
    "import sys\n",
    "from io import StringIO"
   ]
  },
  {
   "cell_type": "code",
   "execution_count": null,
   "id": "db3c94f8",
   "metadata": {},
   "outputs": [],
   "source": [
    "#| export\n",
    "def print_red(text):\n",
    "    print(f\"\\x1b[31m{text}\\x1b[0m\")"
   ]
  },
  {
   "cell_type": "markdown",
   "id": "f902489a",
   "metadata": {},
   "source": [
    "`print_red` source: https://stackoverflow.com/a/16816874/10637373"
   ]
  },
  {
   "cell_type": "code",
   "execution_count": null,
   "id": "92ac02eb",
   "metadata": {},
   "outputs": [
    {
     "name": "stdout",
     "output_type": "stream",
     "text": [
      "\u001b[31mtest_red\u001b[0m\n"
     ]
    }
   ],
   "source": [
    "print_red(\"test_red\")"
   ]
  },
  {
   "cell_type": "code",
   "execution_count": null,
   "id": "dceaddd7",
   "metadata": {},
   "outputs": [],
   "source": [
    "#| export\n",
    "class DivertedPrints:\n",
    "    \"\"\"A context manager for suppressing `print` output\"\"\"\n",
    "    def __enter__(self):\n",
    "        self._original_stdout = sys.stdout\n",
    "        self.diverted = StringIO()\n",
    "        sys.stdout = self.diverted\n",
    "        return self.diverted\n",
    "    def __exit__(self, exc_type, exc_val, exc_tb):\n",
    "        sys.stdout = self._original_stdout\n",
    "        self.diverted.close()"
   ]
  },
  {
   "cell_type": "code",
   "execution_count": null,
   "id": "7bfe2b08",
   "metadata": {},
   "outputs": [
    {
     "name": "stdout",
     "output_type": "stream",
     "text": [
      "diverted:\n",
      "test print output\n",
      "\n"
     ]
    }
   ],
   "source": [
    "with DivertedPrints() as diverted:\n",
    "    print(\"test print output\")\n",
    "    out = diverted.getvalue()\n",
    "print(f\"diverted:\\n{out}\")"
   ]
  },
  {
   "cell_type": "code",
   "execution_count": null,
   "id": "1c6dd777",
   "metadata": {},
   "outputs": [],
   "source": [
    "#| hide\n",
    "import nbdev; nbdev.nbdev_export()"
   ]
  }
 ],
 "metadata": {
  "kernelspec": {
   "display_name": "Python 3 (ipykernel)",
   "language": "python",
   "name": "python3"
  }
 },
 "nbformat": 4,
 "nbformat_minor": 5
}
