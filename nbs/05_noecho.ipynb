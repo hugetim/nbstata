{
 "cells": [
  {
   "cell_type": "markdown",
   "id": "2c184729",
   "metadata": {},
   "source": [
    "# noecho\n",
    "\n",
    "> For running multi-line Stata code without echoing the commands"
   ]
  },
  {
   "cell_type": "markdown",
   "id": "acbefef5",
   "metadata": {},
   "source": [
    "We can run multi-line Stata code as a [Stata program](https://www.stata.com/manuals/u18.pdf) to prevent the echo of commands. But this approach requires special care for handling both local macros and valid Stata code that cannot be run inside a Stata program. \n",
    "\n",
    "(Note: An alternative approach, prepending each Stata command with `noisily` and placing them inside a `quietly` block, was [rejected at a certain point](https://github.com/ticoneva/pystata-kernel/pull/18#issuecomment-1275223836) as more difficult overall, but it may be worth revisiting if unanticipated issues with the current run-as-program approach arise.) "
   ]
  },
  {
   "cell_type": "code",
   "execution_count": null,
   "id": "c7fb586a",
   "metadata": {},
   "outputs": [],
   "source": [
    "#| default_exp noecho\n",
    "%load_ext autoreload\n",
    "%autoreload 2"
   ]
  },
  {
   "cell_type": "code",
   "execution_count": null,
   "id": "026b00b7",
   "metadata": {},
   "outputs": [],
   "source": [
    "#| hide\n",
    "from nbdev.showdoc import *"
   ]
  },
  {
   "cell_type": "code",
   "execution_count": null,
   "id": "4b35edd5",
   "metadata": {},
   "outputs": [],
   "source": [
    "#| export\n",
    "from nbstata.code_utils import break_out_prog_blocks\n",
    "from nbstata.stata import run_direct, set_local, run_single\n",
    "from nbstata import stata_more as sm \n",
    "from textwrap import dedent\n",
    "import re"
   ]
  },
  {
   "cell_type": "markdown",
   "id": "960a2d17",
   "metadata": {},
   "source": [
    "## Run as program but with main-scope locals"
   ]
  },
  {
   "cell_type": "markdown",
   "id": "99a48e8f",
   "metadata": {},
   "source": [
    "We aim to run Stata code inside a Stata program, yet handling locals as if the code were run normally (rather than inside the program scope).\n",
    "\n",
    "We accomplish this by first grabbing any previously-defined locals (with `stata_more.get_local_dict`) and artificially defining their values at the start of the program (using `stata_more.locals_code_from_dict`). \n",
    "\n",
    "Then we also want to artificially transfer any locals created within the program to the outside scope. We do this by making the program an [s-class program](https://www.stata.com/help.cgi?sreturn) and storing any locals present at the end of the program via `sreturn`. These locals can then be quietly defined in the main scope after the program run has completed."
   ]
  },
  {
   "cell_type": "code",
   "execution_count": null,
   "id": "327f266a",
   "metadata": {},
   "outputs": [],
   "source": [
    "#| export\n",
    "def _run_as_program_w_locals_sreturned(std_code):\n",
    "    sreturn_code = dedent(\"\"\"\\\n",
    "        \n",
    "        mata : st_local(\"temp_nbstata_all_locals\", invtokens(st_dir(\"local\", \"macro\", \"*\")'))\n",
    "        foreach lname in `temp_nbstata_all_locals' {\n",
    "            sreturn local `lname' \"``lname''\"\n",
    "        }\n",
    "        \"\"\")\n",
    "    store_new_locals_code = (\"sreturn clear\\n\" \n",
    "                             + std_code\n",
    "                             + sreturn_code)                          \n",
    "    sm.run_as_program(store_new_locals_code, \"sclass\")"
   ]
  },
  {
   "cell_type": "code",
   "execution_count": null,
   "id": "21aadf85",
   "metadata": {},
   "outputs": [],
   "source": [
    "#| hide\n",
    "#| eval: false\n",
    "from nbstata.config import launch_stata"
   ]
  },
  {
   "cell_type": "code",
   "execution_count": null,
   "id": "4762f9de",
   "metadata": {},
   "outputs": [],
   "source": [
    "#| hide\n",
    "#| eval: false\n",
    "launch_stata(splash=False)"
   ]
  },
  {
   "cell_type": "code",
   "execution_count": null,
   "id": "9888c4c6",
   "metadata": {},
   "outputs": [
    {
     "name": "stdout",
     "output_type": "stream",
     "text": [
      "\n",
      "macros:\n",
      "              s(test3) : \"3\"\n"
     ]
    }
   ],
   "source": [
    "#| hide\n",
    "#| eval: False\n",
    "_run_as_program_w_locals_sreturned('local test3 \"3\"')\n",
    "run_single(\"sreturn list\")"
   ]
  },
  {
   "cell_type": "code",
   "execution_count": null,
   "id": "63bd761d",
   "metadata": {},
   "outputs": [],
   "source": [
    "#| export\n",
    "#| hide\n",
    "parse_sreturn = re.compile(\n",
    "    r'^\\s*?(?:\\ss\\((?P<name>\\w+)\\) : \\\"(?P<value>.+)\\\"\\s)', flags=re.MULTILINE\n",
    ").findall"
   ]
  },
  {
   "cell_type": "code",
   "execution_count": null,
   "id": "efd4eafa",
   "metadata": {},
   "outputs": [
    {
     "data": {
      "text/plain": [
       "[('test1', 'blah'), ('test2', 'blah blah')]"
      ]
     },
     "execution_count": null,
     "metadata": {},
     "output_type": "execute_result"
    }
   ],
   "source": [
    "#| hide\n",
    "output = \"\"\"\n",
    "macros:\n",
    "              s(test1) : \"blah\"\n",
    "              s(test2) : \"blah blah\"\n",
    "\n",
    "\"\"\"\n",
    "parse_sreturn(output)"
   ]
  },
  {
   "cell_type": "code",
   "execution_count": null,
   "id": "5dfd7754",
   "metadata": {},
   "outputs": [],
   "source": [
    "#| export\n",
    "def _local_dict_from_sreturn(sreturn_output):\n",
    "    matches = parse_sreturn(sreturn_output)\n",
    "    return {m[0]: m[1] for m in matches}"
   ]
  },
  {
   "cell_type": "code",
   "execution_count": null,
   "id": "6ee5a662",
   "metadata": {},
   "outputs": [
    {
     "data": {
      "text/plain": [
       "{'test1': 'blah', 'test2': 'blah blah'}"
      ]
     },
     "execution_count": null,
     "metadata": {},
     "output_type": "execute_result"
    }
   ],
   "source": [
    "#| hide\n",
    "_local_dict_from_sreturn(output)"
   ]
  },
  {
   "cell_type": "code",
   "execution_count": null,
   "id": "139ce425",
   "metadata": {},
   "outputs": [],
   "source": [
    "#| export\n",
    "def _after_local_dict():\n",
    "    sreturn_output = sm.diverted_stata_output_quicker(\"sreturn list\")\n",
    "    return _local_dict_from_sreturn(sreturn_output)"
   ]
  },
  {
   "cell_type": "code",
   "execution_count": null,
   "id": "02a0430a",
   "metadata": {},
   "outputs": [],
   "source": [
    "#| export\n",
    "def _restore_locals_and_clear_sreturn():\n",
    "    for lname, value in _after_local_dict().items():\n",
    "        set_local(lname, value)\n",
    "    run_single(\"sreturn clear\", show_exc_warning=False)"
   ]
  },
  {
   "cell_type": "code",
   "execution_count": null,
   "id": "51cd5904",
   "metadata": {},
   "outputs": [],
   "source": [
    "#| export\n",
    "#| hide\n",
    "pre = (\n",
    "    r'(cap(t|tu|tur|ture)?'\n",
    "    r'|qui(e|et|etl|etly)?'\n",
    "    r'|n(o|oi|ois|oisi|oisil|oisily)?)')\n",
    "kwargs = {'flags': re.MULTILINE}\n",
    "local_def_in = re.compile(\n",
    "    r\"(^({0} )*(loc(a|al)?|tempname|tempvar|tempfile|gettoken|token(i|iz|ize)?)\\s)|st_local\\(\".format(pre),\n",
    "    **kwargs,\n",
    ").search"
   ]
  },
  {
   "cell_type": "code",
   "execution_count": null,
   "id": "88842fa8",
   "metadata": {},
   "outputs": [],
   "source": [
    "#| hide\n",
    "from fastcore.test import test_eq"
   ]
  },
  {
   "cell_type": "code",
   "execution_count": null,
   "id": "ed1a6d8e",
   "metadata": {},
   "outputs": [],
   "source": [
    "#| hide\n",
    "test_eq(bool(local_def_in(\"sysuse auto\")), False)\n",
    "test_eq(bool(local_def_in(\"loc auto=1\")), True)\n",
    "test_eq(bool(local_def_in(\"qui n cap local auto=1\")), True)\n",
    "test_eq(bool(local_def_in(\"list local auto\")), False)\n",
    "test_eq(bool(local_def_in(\"tempfile file1\")), True)\n",
    "test_eq(bool(local_def_in(\"capture token file1\")), True)\n",
    "test_eq(bool(local_def_in(\"mata: st_local(test1, 2)\")), True)"
   ]
  },
  {
   "cell_type": "code",
   "execution_count": null,
   "id": "e3e81b91",
   "metadata": {},
   "outputs": [],
   "source": [
    "#| export\n",
    "def run_as_program_w_locals(std_code, local_dict=None):\n",
    "    if local_dict is None:\n",
    "        local_dict = sm.get_local_dict()\n",
    "    locals_code = sm.locals_code_from_dict(local_dict)\n",
    "    if not local_def_in(std_code):\n",
    "        sm.run_as_program(f\"\"\"{locals_code}\\n{std_code}\"\"\")\n",
    "    else:\n",
    "        _run_as_program_w_locals_sreturned(f\"\"\"{locals_code}\\n{std_code}\"\"\")\n",
    "        _restore_locals_and_clear_sreturn()"
   ]
  },
  {
   "cell_type": "code",
   "execution_count": null,
   "id": "4e25ab7f",
   "metadata": {},
   "outputs": [
    {
     "name": "stdout",
     "output_type": "stream",
     "text": [
      "1 two \"3\"\n"
     ]
    }
   ],
   "source": [
    "#| eval: false\n",
    "sm.run_sfi(dedent(\"\"\"\n",
    "    macro drop _all\n",
    "    local local1 = 1\n",
    "    local local2 \"two\"\n",
    "    local local3 `\"\"3\"\"' \"\"\"))\n",
    "run_as_program_w_locals(\"\"\"disp `\"`local1' `local2' `local3'\"' \"\"\")"
   ]
  },
  {
   "cell_type": "code",
   "execution_count": null,
   "id": "ec9c70ae",
   "metadata": {},
   "outputs": [
    {
     "name": "stdout",
     "output_type": "stream",
     "text": [
      "1 two \"3\"\n"
     ]
    }
   ],
   "source": [
    "#| eval: false\n",
    "code = '''\\\n",
    "local test1 \"blah blah\"\n",
    "local test2 \"blah\"\n",
    "'''\n",
    "run_as_program_w_locals(\"\"\"disp `\"`local1' `local2' `local3'\"' \\n\"\"\" + code)\n",
    "test_eq(sm.get_local_dict(), \n",
    "        {'test2': 'blah',\n",
    "         'test1': 'blah blah',\n",
    "         'local1': '1',\n",
    "         'local2': 'two',\n",
    "         'local3': '\"3\"'})"
   ]
  },
  {
   "cell_type": "code",
   "execution_count": null,
   "id": "4d735745",
   "metadata": {},
   "outputs": [],
   "source": [
    "#| export\n",
    "def run_non_prog_noecho(std_non_prog_code, run_as_prog=run_as_program_w_locals):\n",
    "    if len(std_non_prog_code.splitlines()) <= 1:  # to keep it simple when we can\n",
    "        run_direct(std_non_prog_code, quietly=False, inline=True, echo=False)\n",
    "    else:\n",
    "        run_as_prog(std_non_prog_code)"
   ]
  },
  {
   "cell_type": "code",
   "execution_count": null,
   "id": "0c9f6f82",
   "metadata": {},
   "outputs": [
    {
     "name": "stdout",
     "output_type": "stream",
     "text": [
      "test 1\n"
     ]
    }
   ],
   "source": [
    "#| eval: false\n",
    "run_non_prog_noecho('disp \"test 1\"')"
   ]
  },
  {
   "cell_type": "code",
   "execution_count": null,
   "id": "5fc42e5a",
   "metadata": {},
   "outputs": [
    {
     "name": "stdout",
     "output_type": "stream",
     "text": [
      "test 1\n",
      "test 2\n"
     ]
    }
   ],
   "source": [
    "#| eval: false\n",
    "two_lines_of_code = dedent('''\\\n",
    "    disp \"test 1\"\n",
    "    disp \"test 2\"\n",
    "    ''')\n",
    "run_non_prog_noecho(two_lines_of_code)"
   ]
  },
  {
   "cell_type": "markdown",
   "id": "557b8c50",
   "metadata": {},
   "source": [
    "## Run any Stata code noecho"
   ]
  },
  {
   "cell_type": "markdown",
   "id": "d92a1b4f",
   "metadata": {},
   "source": [
    "Certain valid Stata code (referred to here as `prog_code` because it defines Stata programs--or runs mata or python code blocks) cannot be run inside a Stata program, so we need to identify such code and run it separately. "
   ]
  },
  {
   "cell_type": "code",
   "execution_count": null,
   "id": "ab3c099f",
   "metadata": {},
   "outputs": [],
   "source": [
    "#| export\n",
    "def run_prog_noecho(std_prog_code):\n",
    "    if std_prog_code.splitlines()[0] in {'mata', 'mata:'}:  # b/c 'quietly' blocks mata output\n",
    "        run_direct(std_prog_code, quietly=False, inline=True, echo=False)\n",
    "    else:\n",
    "        run_direct(std_prog_code, quietly=True, inline=True, echo=False)"
   ]
  },
  {
   "cell_type": "markdown",
   "id": "109f2460",
   "metadata": {},
   "source": [
    "Other programs (that is, Stata's `program define`, as well as [mata](https://www.stata.com/manuals/m-1first.pdf) or [python](https://www.stata.com/stata-news/news35-3/python-blogs/) blocks) cannot be defined/run within a Stata program, however. Instead, we will just run them directly, quietly to prevent echo, except for the case of mata programs, in which case `quietly` would block the output."
   ]
  },
  {
   "cell_type": "code",
   "execution_count": null,
   "id": "4d6b899c",
   "metadata": {},
   "outputs": [],
   "source": [
    "#| eval: false\n",
    "#| hide\n",
    "sm.run_as_program(\"capture program drop display1\")"
   ]
  },
  {
   "cell_type": "code",
   "execution_count": null,
   "id": "6be68f3c",
   "metadata": {},
   "outputs": [
    {
     "name": "stdout",
     "output_type": "stream",
     "text": [
      "display1 output\n"
     ]
    }
   ],
   "source": [
    "#| eval: false\n",
    "prog_block_code = dedent(\"\"\"\\\n",
    "    program define display1\n",
    "        disp \"display1 output\"\n",
    "    end\n",
    "    \"\"\")\n",
    "run_prog_noecho(prog_block_code)\n",
    "run_single(\"display1\")"
   ]
  },
  {
   "cell_type": "code",
   "execution_count": null,
   "id": "f8d834fa",
   "metadata": {},
   "outputs": [
    {
     "name": "stdout",
     "output_type": "stream",
     "text": [
      "hello\n"
     ]
    }
   ],
   "source": [
    "#| eval: false\n",
    "python_block_code = dedent(\"\"\"\\\n",
    "    python:\n",
    "    print(\"hello\")\n",
    "    end\n",
    "    \"\"\")\n",
    "run_prog_noecho(python_block_code)"
   ]
  },
  {
   "cell_type": "code",
   "execution_count": null,
   "id": "6a3ab406",
   "metadata": {},
   "outputs": [
    {
     "name": "stdout",
     "output_type": "stream",
     "text": [
      "\n",
      ". mata:\n",
      "------------------------------------------------- mata (type end to exit) -----\n",
      ": display(\"hello\")\n",
      "hello\n",
      "\n",
      ": end\n",
      "-------------------------------------------------------------------------------\n",
      "\n",
      ". \n"
     ]
    }
   ],
   "source": [
    "#| eval: false\n",
    "mata_block_code = dedent(\"\"\"\\\n",
    "    mata:\n",
    "    display(\"hello\")\n",
    "    end\n",
    "    \"\"\")\n",
    "run_prog_noecho(mata_block_code)"
   ]
  },
  {
   "cell_type": "code",
   "execution_count": null,
   "id": "2e995de1",
   "metadata": {},
   "outputs": [],
   "source": [
    "#| export\n",
    "def run_noecho(code, sc_delimiter=False, run_as_prog=run_as_program_w_locals):\n",
    "    \"\"\"After `break_out_prog_blocks`, run each prog and non-prog block noecho\"\"\"\n",
    "    for block in break_out_prog_blocks(code, sc_delimiter):\n",
    "        if block['is_prog']:\n",
    "            run_prog_noecho(block['std_code'])\n",
    "        else:\n",
    "            run_non_prog_noecho(block['std_code'], run_as_prog=run_as_prog)"
   ]
  },
  {
   "cell_type": "code",
   "execution_count": null,
   "id": "20188a1c",
   "metadata": {},
   "outputs": [
    {
     "name": "stdout",
     "output_type": "stream",
     "text": [
      "ender output\n"
     ]
    }
   ],
   "source": [
    "#| eval: false\n",
    "run_noecho(dedent('''\\\n",
    "    capture program drop ender\n",
    "    program define ender\n",
    "        disp \"ender output\"\n",
    "    end\n",
    "    capture program drop display2\n",
    "    program define display2\n",
    "        ender\n",
    "    end\n",
    "    display2\n",
    "    '''))"
   ]
  },
  {
   "cell_type": "code",
   "execution_count": null,
   "id": "40cbd83e",
   "metadata": {},
   "outputs": [
    {
     "name": "stdout",
     "output_type": "stream",
     "text": [
      "1 two \"3\"\n",
      "1 two \"3\" blah blah\n"
     ]
    }
   ],
   "source": [
    "#| eval: false\n",
    "run_noecho(dedent(\"\"\"\\\n",
    "    disp `\"`local1' `local2' `local3'\"'\n",
    "    disp `\"`local1' `local2' `local3' `test1'\"'\n",
    "    \"\"\"), run_as_prog=run_as_program_w_locals)"
   ]
  },
  {
   "cell_type": "code",
   "execution_count": null,
   "id": "21720ff6",
   "metadata": {},
   "outputs": [
    {
     "name": "stdout",
     "output_type": "stream",
     "text": [
      "foo bar \"3\"\n",
      "foo bar \"3\" blah blah\n"
     ]
    }
   ],
   "source": [
    "#| eval: false\n",
    "code = \"\"\"\\\n",
    "local local1 \"foo\"\n",
    "local local2 \"bar\"\n",
    "local abcd \"foo bar\"\n",
    "\"\"\"\n",
    "run_noecho(code, run_as_prog=run_as_program_w_locals)\n",
    "run_noecho(dedent(\"\"\"\\\n",
    "    disp `\"`local1' `local2' `local3'\"'\n",
    "    disp `\"`local1' `local2' `local3' `test1'\"'\n",
    "    \"\"\"), run_as_prog=run_as_program_w_locals)"
   ]
  },
  {
   "cell_type": "code",
   "execution_count": null,
   "id": "1c6dd777",
   "metadata": {},
   "outputs": [],
   "source": [
    "#| hide\n",
    "import nbdev; nbdev.nbdev_export()"
   ]
  }
 ],
 "metadata": {
  "kernelspec": {
   "display_name": "Python 3 (ipykernel)",
   "language": "python",
   "name": "python3"
  }
 },
 "nbformat": 4,
 "nbformat_minor": 5
}
