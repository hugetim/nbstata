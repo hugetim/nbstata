{
 "cells": [
  {
   "cell_type": "markdown",
   "id": "2c184729",
   "metadata": {},
   "source": [
    "# completion_env\n",
    "\n",
    "> Autocomplete helper: determine context of the token to be autocompleted"
   ]
  },
  {
   "cell_type": "markdown",
   "id": "e2014567",
   "metadata": {},
   "source": [
    "Adapted from the [stata_kernel version](https://github.com/kylebarron/stata_kernel/blob/master/stata_kernel/completions.py) (omitting mata-specific stuff)."
   ]
  },
  {
   "cell_type": "code",
   "execution_count": null,
   "id": "c7fb586a",
   "metadata": {},
   "outputs": [],
   "source": [
    "#| default_exp completion_env\n",
    "%load_ext autoreload\n",
    "%autoreload 2"
   ]
  },
  {
   "cell_type": "code",
   "execution_count": null,
   "id": "026b00b7",
   "metadata": {},
   "outputs": [],
   "source": [
    "#| hide\n",
    "from nbdev.showdoc import *"
   ]
  },
  {
   "cell_type": "code",
   "execution_count": null,
   "id": "e335395e",
   "metadata": {},
   "outputs": [],
   "source": [
    "#| export\n",
    "from nbstata.utils import ending_delimiter, is_cr_delimiter\n",
    "from fastcore.basics import patch_to\n",
    "from enum import IntEnum\n",
    "from typing import Tuple\n",
    "import re"
   ]
  },
  {
   "cell_type": "code",
   "execution_count": null,
   "id": "cdfde140",
   "metadata": {},
   "outputs": [],
   "source": [
    "#| export\n",
    "class CompletionEnv():\n",
    "    def __init__(self):\n",
    "        \"\"\"\"\"\"        \n",
    "        # any non-space/\"/= 'word' at the end of the string after the last \", =, or white space\n",
    "        self.last_chunk = re.compile(\n",
    "            r'[\\s\"=][^\\s\"=]*?\\Z', flags=re.MULTILINE).search\n",
    "        \n",
    "        # Path completion\n",
    "        self.path_search = re.compile(\n",
    "            r'^(?P<fluff>.*\")(?P<path>[^\"]*)\\Z').search\n",
    "\n",
    "        # Magic completion\n",
    "        self.magic_completion = re.compile(\n",
    "            r'\\A\\*?%(?P<magic>\\S*)\\Z', flags=re.DOTALL + re.MULTILINE).match\n",
    "\n",
    "        # Match context; this is used to determine if the line starts\n",
    "        # with matrix or scalar. It also matches constructs like\n",
    "        #\n",
    "        #     (`=)?scalar(\n",
    "        pre = (\n",
    "            r'(cap(t|tu|tur|ture)?'\n",
    "            r'|qui(e|et|etl|etly)?'\n",
    "            r'|n(o|oi|ois|oisi|oisil|oisily)?)')\n",
    "        kwargs = {'flags': re.MULTILINE}\n",
    "        self.fcontext = {\n",
    "            'function':\n",
    "                re.compile(\n",
    "                    r\"(\\s+|\\=|`=)\\s*(?P<name>\\w+?)\"\n",
    "                    r\"\\([^\\)]*?(?P<last_word>\\w*)\\Z\", **kwargs).search,\n",
    "        }\n",
    "        self.context = {\n",
    "            'line':\n",
    "                re.compile(\n",
    "                    r\"^(?P<last_line>\\s*({0}\\s+)*(?P<first_word>\\S+) .*?)\\Z\".format(pre),\n",
    "                    **kwargs).search,\n",
    "            'delimit_line':\n",
    "                re.compile(\n",
    "                    r\"(?:\\A|;)(?P<last_line>\\s*({0}\\s+)*(?P<first_word>[^\\s;]+)\\s[^;]*?)\\Z\".format(pre),\n",
    "                    **kwargs).search\n",
    "        }"
   ]
  },
  {
   "cell_type": "code",
   "execution_count": null,
   "id": "13b70fb0",
   "metadata": {},
   "outputs": [],
   "source": [
    "#| export\n",
    "@patch_to(CompletionEnv)\n",
    "def _scalar_f_pos_rcomp(self, code, r2chars):\n",
    "    scalar_f = False\n",
    "    funcontext = self.fcontext['function'](code)\n",
    "    if funcontext:\n",
    "        function = funcontext.group('name')\n",
    "        if function == 'scalar':\n",
    "            scalar_f = True\n",
    "            pos = funcontext.start('last_word') if funcontext.start('last_word') else len(code)\n",
    "            rcomp = \"\" if (r2chars[0:1] == \")\" or r2chars == \" )\") else \")\"\n",
    "    if scalar_f:\n",
    "        return True, pos, rcomp\n",
    "    else:\n",
    "        return False, None, None"
   ]
  },
  {
   "cell_type": "code",
   "execution_count": null,
   "id": "8a4015a3",
   "metadata": {},
   "outputs": [],
   "source": [
    "#| hide\n",
    "test_instance = CompletionEnv()"
   ]
  },
  {
   "cell_type": "code",
   "execution_count": null,
   "id": "68fa0bd8",
   "metadata": {},
   "outputs": [
    {
     "data": {
      "text/plain": [
       "(True, 27, ')')"
      ]
     },
     "execution_count": null,
     "metadata": {},
     "output_type": "execute_result"
    }
   ],
   "source": [
    "#| hide\n",
    "code = \"\"\"\\\n",
    "sysuse lifeexp\n",
    "disp scalar(\"\"\"\n",
    "test_instance._scalar_f_pos_rcomp(code, \"\")"
   ]
  },
  {
   "cell_type": "code",
   "execution_count": null,
   "id": "2e622247",
   "metadata": {},
   "outputs": [
    {
     "data": {
      "text/plain": [
       "(True, 27, ')')"
      ]
     },
     "execution_count": null,
     "metadata": {},
     "output_type": "execute_result"
    }
   ],
   "source": [
    "#| hide\n",
    "code = \"\"\"\\\n",
    "sysuse lifeexp\n",
    "disp scalar(te\"\"\"\n",
    "test_instance._scalar_f_pos_rcomp(code, \"\")"
   ]
  },
  {
   "cell_type": "code",
   "execution_count": null,
   "id": "171ace4a",
   "metadata": {},
   "outputs": [
    {
     "data": {
      "text/plain": [
       "(True, 28, ')')"
      ]
     },
     "execution_count": null,
     "metadata": {},
     "output_type": "execute_result"
    }
   ],
   "source": [
    "#| hide\n",
    "code = \"\"\"\\\n",
    "sysuse lifeexp\n",
    "disp scalar( te\"\"\"\n",
    "test_instance._scalar_f_pos_rcomp(code, \"\")"
   ]
  },
  {
   "cell_type": "code",
   "execution_count": null,
   "id": "6a21dcbc",
   "metadata": {},
   "outputs": [
    {
     "data": {
      "text/plain": [
       "(True, 28, ')')"
      ]
     },
     "execution_count": null,
     "metadata": {},
     "output_type": "execute_result"
    }
   ],
   "source": [
    "#| hide\n",
    "code = \"\"\"\\\n",
    "sysuse lifeexp\n",
    "disp scalar(\n",
    "te\"\"\"\n",
    "test_instance._scalar_f_pos_rcomp(code, \"\")"
   ]
  },
  {
   "cell_type": "code",
   "execution_count": null,
   "id": "5ae61597",
   "metadata": {},
   "outputs": [
    {
     "data": {
      "text/plain": [
       "(True, 28, ')')"
      ]
     },
     "execution_count": null,
     "metadata": {},
     "output_type": "execute_result"
    }
   ],
   "source": [
    "#| hide\n",
    "code = \"\"\"\\\n",
    "sysuse lifeexp\n",
    "disp\n",
    "scalar(\n",
    "te\"\"\"\n",
    "test_instance._scalar_f_pos_rcomp(code, \"\")"
   ]
  },
  {
   "cell_type": "code",
   "execution_count": null,
   "id": "a9ecc29a",
   "metadata": {},
   "outputs": [],
   "source": [
    "#| export\n",
    "@patch_to(CompletionEnv)\n",
    "def _start_of_last_chunk(self, code):\n",
    "    search = self.last_chunk(code)\n",
    "    return search.start() + 1 if search else 0"
   ]
  },
  {
   "cell_type": "code",
   "execution_count": null,
   "id": "c078982e",
   "metadata": {},
   "outputs": [
    {
     "data": {
      "text/plain": [
       "28"
      ]
     },
     "execution_count": null,
     "metadata": {},
     "output_type": "execute_result"
    }
   ],
   "source": [
    "#| hide\n",
    "code = \"\"\"\\\n",
    "sysuse lifeexp\n",
    "disp\n",
    "scalar(\n",
    "te\"\"\"\n",
    "test_instance._start_of_last_chunk(code)"
   ]
  },
  {
   "cell_type": "code",
   "execution_count": null,
   "id": "e293cd20",
   "metadata": {},
   "outputs": [],
   "source": [
    "#| hide\n",
    "from fastcore.test import test_eq"
   ]
  },
  {
   "cell_type": "code",
   "execution_count": null,
   "id": "997e34ca",
   "metadata": {},
   "outputs": [],
   "source": [
    "#| hide\n",
    "def _word(code):\n",
    "    return code[test_instance._start_of_last_chunk(code):]\n",
    "\n",
    "test_eq(_word(\"\"\"use  00\"\"\"), \"\"\"00\"\"\")\n",
    "\n",
    "test_eq(_word(\"\"\"use `00\"\"\"), \"\"\"`00\"\"\")\n",
    "test_eq(_word(\"\"\"use $00\"\"\"), \"\"\"$00\"\"\")\n",
    "test_eq(_word(\"\"\"use ${00\"\"\"), \"\"\"${00\"\"\")\n",
    "test_eq(_word(\"\"\"use {00\"\"\"), \"\"\"{00\"\"\")\n",
    "test_eq(_word(\"\"\"use /00\"\"\"), \"\"\"/00\"\"\")\n",
    "\n",
    "test_eq(_word(\"\"\"use \"00\"\"\"), \"\"\"00\"\"\")\n",
    "test_eq(_word(\"\"\"use\"00\"\"\"), \"\"\"00\"\"\")\n",
    "test_eq(_word(\"\"\"use `\"00\"\"\"), \"\"\"00\"\"\")\n",
    "test_eq(_word('''use `\"00\"'''), \"\")\n",
    "test_eq(_word(\"\"\"use `\"00\"'\"\"\"), \"'\")\n",
    "\n",
    "test_eq(_word(\"\"\"use \"\"\"), \"\")\n",
    "test_eq(_word(\"\"\"use\"\"\"), \"use\")\n",
    "\n",
    "test_eq(_word(\"\"\"use `tes\"\"\"), \"\"\"`tes\"\"\")\n",
    "test_eq(_word(\"\"\"use `tes'\"\"\"), \"\"\"`tes'\"\"\")\n",
    "test_eq(_word(\"\"\"use ${tes}\"\"\"), \"\"\"${tes}\"\"\")\n",
    "\n",
    "test_eq(_word(\"\\n\".join([\"use\", \"${tes}\"])), \"${tes}\")\n",
    "\n",
    "test_eq(_word(\"`=tes\"), \"tes\")\n",
    "test_eq(_word(\"disp `=tes\"), \"tes\")"
   ]
  },
  {
   "cell_type": "code",
   "execution_count": null,
   "id": "91e230d2",
   "metadata": {},
   "outputs": [],
   "source": [
    "#| export\n",
    "@patch_to(CompletionEnv)\n",
    "def _last_line_first_word(self, code, sc_delimit_mode=False):\n",
    "    if sc_delimit_mode:\n",
    "        linecontext = self.context['delimit_line'](code)\n",
    "    else:\n",
    "        linecontext = self.context['line'](code)\n",
    "    if linecontext:\n",
    "        last_line = linecontext.groupdict()['last_line']\n",
    "        first_word = linecontext.groupdict()['first_word']\n",
    "        return last_line, first_word\n",
    "    else:\n",
    "        return None, None"
   ]
  },
  {
   "cell_type": "code",
   "execution_count": null,
   "id": "708fcc67",
   "metadata": {},
   "outputs": [
    {
     "data": {
      "text/plain": [
       "('list lex', 'list')"
      ]
     },
     "execution_count": null,
     "metadata": {},
     "output_type": "execute_result"
    }
   ],
   "source": [
    "#| hide\n",
    "code = \"\"\"\\\n",
    "sysuse lifeexp\n",
    "list lex\"\"\"\n",
    "test_instance._last_line_first_word(code, False)"
   ]
  },
  {
   "cell_type": "code",
   "execution_count": null,
   "id": "315340c6",
   "metadata": {},
   "outputs": [
    {
     "data": {
      "text/plain": [
       "('sysuse lifeexp\\nlist lex', 'sysuse')"
      ]
     },
     "execution_count": null,
     "metadata": {},
     "output_type": "execute_result"
    }
   ],
   "source": [
    "#| hide\n",
    "code = \"\"\"\\\n",
    "sysuse lifeexp\n",
    "list lex\"\"\"\n",
    "test_instance._last_line_first_word(code, True)"
   ]
  },
  {
   "cell_type": "code",
   "execution_count": null,
   "id": "dd68c26d",
   "metadata": {},
   "outputs": [
    {
     "data": {
      "text/plain": [
       "('list lex', 'list')"
      ]
     },
     "execution_count": null,
     "metadata": {},
     "output_type": "execute_result"
    }
   ],
   "source": [
    "#| hide\n",
    "code = \"\"\"\\\n",
    "sysuse lifeexp;list lex\"\"\"\n",
    "test_instance._last_line_first_word(code, True)"
   ]
  },
  {
   "cell_type": "code",
   "execution_count": null,
   "id": "2c7ce8ab",
   "metadata": {},
   "outputs": [
    {
     "data": {
      "text/plain": [
       "(None, None)"
      ]
     },
     "execution_count": null,
     "metadata": {},
     "output_type": "execute_result"
    }
   ],
   "source": [
    "#| hide\n",
    "code = \"\"\"\\\n",
    "sysuse lifeexp\n",
    "lis\"\"\"\n",
    "test_instance._last_line_first_word(code, False)"
   ]
  },
  {
   "cell_type": "code",
   "execution_count": null,
   "id": "f20c3a69",
   "metadata": {},
   "outputs": [
    {
     "data": {
      "text/plain": [
       "('\\nsysuse lifeexp\\nlist lex', 'sysuse')"
      ]
     },
     "execution_count": null,
     "metadata": {},
     "output_type": "execute_result"
    }
   ],
   "source": [
    "#| hide\n",
    "code = \"\"\"\\\n",
    "#delimit;\n",
    "sysuse lifeexp\n",
    "list lex\"\"\"\n",
    "test_instance._last_line_first_word(code, True)"
   ]
  },
  {
   "cell_type": "code",
   "execution_count": null,
   "id": "019bc84c",
   "metadata": {},
   "outputs": [],
   "source": [
    "#| export\n",
    "class Env(IntEnum):\n",
    "    MAGIC = -1     # magics, %x*\n",
    "    GENERAL = 0    # varlist and/or file path\n",
    "    LOCAL = 1      # `x* completed with `x*'\n",
    "    GLOBAL = 2     # $x* completed with $x* or ${x* completed with ${x*}\n",
    "    SCALAR = 4     # scalar .* x* completed with x* or scalar(x* completed with scalar(x*)\n",
    "    MATRIX = 6     # matrix .* x* completed with x*\n",
    "    SCALAR_VAR = 7 # scalars and varlist, scalar .* = x* completed with x*\n",
    "    MATRIX_VAR = 8 # matrices and varlist, matrix .* = x* completed with x*\n",
    "    MATA = 9       # inline or in mata environment"
   ]
  },
  {
   "cell_type": "code",
   "execution_count": null,
   "id": "9fc698ba",
   "metadata": {},
   "outputs": [],
   "source": [
    "#| export\n",
    "@patch_to(CompletionEnv)\n",
    "def get_env(self, \n",
    "            code: str, # Right-truncated to cursor position\n",
    "            r2chars: str, # The two characters immediately after `code`, used to accurately determine rcomp\n",
    "            starting_delimiter,\n",
    "           ) -> Tuple[Env, int, str, str]:\n",
    "    \"\"\"Returns completions environment\n",
    "    \n",
    "    Returns\n",
    "    -------\n",
    "    env : Env    \n",
    "    pos : int\n",
    "        Where the completions start. This is set to the start of the word to be completed.\n",
    "    out_chunk : str\n",
    "        Word to match.\n",
    "    rcomp : str\n",
    "        How to finish the completion (defaulting to nothing):\n",
    "        locals: '\n",
    "        globals (if start with ${): }\n",
    "        scalars: )\n",
    "        scalars (if start with `): )'\n",
    "    \"\"\"\n",
    "    lcode = code.lstrip()\n",
    "    if self.magic_completion(lcode):\n",
    "        pos = code.rfind(\"%\") + 1\n",
    "        env = Env.MAGIC\n",
    "        rcomp = \"\"\n",
    "        return env, pos, code[pos:], rcomp\n",
    "    \n",
    "    delimiter = ending_delimiter(code, starting_delimiter)\n",
    "    env = Env.GENERAL\n",
    "    rcomp = ''\n",
    "    \n",
    "    # Detect last \"word\" delimited by white space, a double-quote, or =.\n",
    "    pos = self._start_of_last_chunk(code)\n",
    "\n",
    "    if pos >= 1:\n",
    "        # Figure out if current statement is a matrix or scalar\n",
    "        # statement. If so, will add them to completions list.\n",
    "        last_line, first_word = self._last_line_first_word(code, not is_cr_delimiter(delimiter))\n",
    "        if first_word:\n",
    "            equals_present = (last_line.find('=') > 0)\n",
    "            if re.match(r'^sca(lar|la|l)?$', first_word): #.strip()\n",
    "                env = Env.SCALAR_VAR if equals_present else Env.SCALAR\n",
    "            elif re.match(r'^mat(rix|ri|r)?$', first_word): #.strip()\n",
    "                env = Env.MATRIX_VAR if equals_present else Env.MATRIX\n",
    "\n",
    "        # Constructs of the form scalar(x<tab> will be filled only\n",
    "        # with scalars. This can be preceded by = or `=\n",
    "        if env is Env.GENERAL:\n",
    "            scalar_f, new_pos, new_rcomp = self._scalar_f_pos_rcomp(code, r2chars)\n",
    "            if scalar_f:\n",
    "                env = Env.SCALAR\n",
    "                pos = new_pos\n",
    "                rcomp = new_rcomp\n",
    "\n",
    "    # Figure out if this is a local or global; env = 0 (default)\n",
    "    # will suggest variables in memory.\n",
    "    chunk = code[pos:]\n",
    "    lfind = chunk.rfind('`')\n",
    "    gfind = chunk.rfind('$')\n",
    "    path_chars = any(x in chunk for x in ['/', '\\\\', '~'])\n",
    "\n",
    "    if lfind >= 0 and (lfind > gfind):\n",
    "        pos += lfind + 1\n",
    "        env = Env.LOCAL\n",
    "        rcomp = \"\" if r2chars[0:1] == \"'\" else \"'\"\n",
    "    elif gfind >= 0 and not path_chars:\n",
    "        bfind = chunk.rfind('{')\n",
    "        if bfind >= 0 and (bfind == gfind+1):\n",
    "            pos += bfind + 1\n",
    "            env = Env.GLOBAL\n",
    "            rcomp = \"\" if r2chars[0:1] == \"}\" else \"}\"\n",
    "        else:\n",
    "            env = Env.GLOBAL\n",
    "            pos += gfind + 1\n",
    "\n",
    "    closing_symbol = True #config.get('autocomplete_closing_symbol', 'False')\n",
    "#     closing_symbol = closing_symbol.lower() == 'true'\n",
    "    if not closing_symbol:\n",
    "        rcomp = ''\n",
    "    out_chunk = code[pos:]\n",
    "    return env, pos, out_chunk, rcomp"
   ]
  },
  {
   "cell_type": "code",
   "execution_count": null,
   "id": "73a4fc25",
   "metadata": {},
   "outputs": [
    {
     "data": {
      "text/plain": [
       "(<Env.SCALAR: 4>, 12, 'x', '')"
      ]
     },
     "execution_count": null,
     "metadata": {},
     "output_type": "execute_result"
    }
   ],
   "source": [
    "#| hide\n",
    "test_instance.get_env(\"\"\"\\\n",
    "scalar\n",
    "list x\"\"\", \"\", \";\")"
   ]
  },
  {
   "cell_type": "code",
   "execution_count": null,
   "id": "954d7473",
   "metadata": {},
   "outputs": [],
   "source": [
    "#| hide\n",
    "test_eq(\n",
    "    [test_instance.get_env(\"\"\"\\\n",
    "#delimit;\n",
    "scalar\n",
    "list x\"\"\", \"\", None)[i] for i in [0, 2, 3]],\n",
    "    [test_instance.get_env(\"\"\"\\\n",
    "scalar\n",
    "list x\"\"\", \"\", \";\")[i] for i in [0, 2, 3]])"
   ]
  },
  {
   "cell_type": "code",
   "execution_count": null,
   "id": "d6072451",
   "metadata": {},
   "outputs": [],
   "source": [
    "test_eq(\n",
    "    test_instance.get_env(\"`\", \"\", None)[0:3],\n",
    "    (Env.LOCAL, 1, \"\"))"
   ]
  },
  {
   "cell_type": "code",
   "execution_count": null,
   "id": "c2fd8ac4",
   "metadata": {},
   "outputs": [],
   "source": [
    "#| hide\n",
    "test_eq(\n",
    "    test_instance.get_env(\"disp 1\\n`\", \"\", None)[0],\n",
    "    Env.LOCAL)"
   ]
  },
  {
   "cell_type": "code",
   "execution_count": null,
   "id": "c0e524c0",
   "metadata": {},
   "outputs": [],
   "source": [
    "test_eq(\n",
    "    test_instance.get_env(\"*%e\", \"\", None)[0:2],\n",
    "    (Env.MAGIC, 2))"
   ]
  },
  {
   "cell_type": "code",
   "execution_count": null,
   "id": "c6fdc41a",
   "metadata": {},
   "outputs": [],
   "source": [
    "#| hide\n",
    "test_eq(\n",
    "    test_instance.get_env(\"%e\", \"\", None)[0:2],\n",
    "    (Env.MAGIC, 1))"
   ]
  },
  {
   "cell_type": "code",
   "execution_count": null,
   "id": "1c6dd777",
   "metadata": {},
   "outputs": [],
   "source": [
    "#| hide\n",
    "import nbdev; nbdev.nbdev_export()"
   ]
  }
 ],
 "metadata": {
  "kernelspec": {
   "display_name": "Python 3 (ipykernel)",
   "language": "python",
   "name": "python3"
  }
 },
 "nbformat": 4,
 "nbformat_minor": 5
}
