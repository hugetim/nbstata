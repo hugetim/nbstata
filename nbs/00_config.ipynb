{
 "cells": [
  {
   "cell_type": "markdown",
   "id": "abed9e7c",
   "metadata": {},
   "source": [
    "# config\n",
    "\n",
    "> Utilities for loading Stata and nbstata"
   ]
  },
  {
   "cell_type": "markdown",
   "id": "859370f6",
   "metadata": {},
   "source": [
    "Before we can use [pystata](https://www.stata.com/python/pystata/index.html), we need to find the local Stata path (i.e., `find_path`) and then [add pystata to sys.path](https://www.stata.com/python/pystata/install.html#method-2-adding-pystata-to-sys-path) (i.e., `set_pystata_path`) so it can be imported.\n",
    "\n",
    "The `get_config` function handles nbstata configuration, more broadly."
   ]
  },
  {
   "cell_type": "code",
   "execution_count": null,
   "id": "a7dee8dc",
   "metadata": {},
   "outputs": [],
   "source": [
    "#| default_exp config\n",
    "%load_ext autoreload\n",
    "%autoreload 2"
   ]
  },
  {
   "cell_type": "code",
   "execution_count": null,
   "id": "73a0307c",
   "metadata": {},
   "outputs": [],
   "source": [
    "#| hide\n",
    "from nbdev.showdoc import *"
   ]
  },
  {
   "cell_type": "markdown",
   "id": "671329e6",
   "metadata": {},
   "source": [
    "## pystata configuration"
   ]
  },
  {
   "cell_type": "code",
   "execution_count": null,
   "id": "d60e7ec0",
   "metadata": {},
   "outputs": [],
   "source": [
    "#| export\n",
    "import os\n",
    "import sys\n",
    "import platform\n",
    "from shutil import which\n",
    "from pathlib import Path\n",
    "from packaging import version\n",
    "from configparser import ConfigParser, NoSectionError"
   ]
  },
  {
   "cell_type": "code",
   "execution_count": null,
   "id": "5d5c692c",
   "metadata": {},
   "outputs": [],
   "source": [
    "#| export\n",
    "def win_find_path():\n",
    "    import winreg\n",
    "    reg = winreg.ConnectRegistry(None, winreg.HKEY_CLASSES_ROOT)\n",
    "    subkeys = [r'Stata17Do\\shell\\do\\command',\n",
    "                r'Stata18Do\\shell\\do\\command',\n",
    "                r'Stata19Do\\shell\\do\\command']\n",
    "\n",
    "    fpath = ''\n",
    "    for subkey in subkeys:\n",
    "        try:\n",
    "            key = winreg.OpenKey(reg, subkey)\n",
    "            fpath = winreg.QueryValue(key, None).split('\"')[1]\n",
    "        except FileNotFoundError:\n",
    "            pass\n",
    "        if fpath:\n",
    "            break\n",
    "\n",
    "    return fpath\n",
    "\n",
    "\n",
    "def mac_find_path():\n",
    "    \"\"\"\n",
    "    Attempt to find Stata path on macOS when not on user's PATH.\n",
    "    Modified from stata_kernel's original to only location \"Applications/Stata\". \n",
    "\n",
    "    Returns:\n",
    "        (str): Path to Stata. Empty string if not found.\n",
    "    \"\"\"\n",
    "    path = Path('/Applications/Stata')\n",
    "    if not path.exists():\n",
    "        return ''\n",
    "    else:\n",
    "        return str(path)"
   ]
  },
  {
   "cell_type": "code",
   "execution_count": null,
   "id": "04507c46",
   "metadata": {},
   "outputs": [],
   "source": [
    "#| export\n",
    "def find_path():\n",
    "    if os.getenv('CONTINUOUS_INTEGRATION'):\n",
    "        print('WARNING: Running as CI; Stata path not set correctly')\n",
    "        return 'stata'\n",
    "    if platform.system() == 'Windows':\n",
    "        return win_find_path()\n",
    "    elif platform.system() == 'Darwin':\n",
    "        return mac_find_path()\n",
    "    else:\n",
    "        for i in ['stata-mp', 'stata-se', 'stata']:\n",
    "            stata_path = which(i)\n",
    "            if stata_path:\n",
    "                break\n",
    "        return stata_path"
   ]
  },
  {
   "cell_type": "code",
   "execution_count": null,
   "id": "e120d11a",
   "metadata": {},
   "outputs": [
    {
     "data": {
      "text/plain": [
       "'C:\\\\Program Files\\\\Stata17\\\\StataMP-64.exe'"
      ]
     },
     "execution_count": null,
     "metadata": {},
     "output_type": "execute_result"
    }
   ],
   "source": [
    "find_path()"
   ]
  },
  {
   "cell_type": "code",
   "execution_count": null,
   "id": "0d722b47",
   "metadata": {},
   "outputs": [],
   "source": [
    "#| export\n",
    "def find_dir_edition():\n",
    "    stata_path = find_path()\n",
    "    if stata_path is None:\n",
    "        raise OSError(\"Stata path not found.\")\n",
    "    stata_dir = str(os.path.dirname(stata_path))\n",
    "    stata_exe = str(os.path.basename(stata_path)).lower()\n",
    "\n",
    "    edition = 'be'\n",
    "    for e in ('se','mp'):\n",
    "        if stata_exe.find(e) > -1:\n",
    "            edition = e            \n",
    "    return (stata_dir,edition)"
   ]
  },
  {
   "cell_type": "code",
   "execution_count": null,
   "id": "47010d9c",
   "metadata": {},
   "outputs": [],
   "source": [
    "#| export\n",
    "def set_pystata_path(path=None):\n",
    "    if path == None:\n",
    "        path, _ = find_dir_edition()\n",
    "    if not os.path.isdir(path):\n",
    "        raise OSError(path + ' is invalid')\n",
    "    if not os.path.isdir(os.path.join(path, 'utilities')):\n",
    "        raise OSError(path + \" is not Stata's installation path\")\n",
    "    sys.path.append(os.path.join(path, 'utilities'))"
   ]
  },
  {
   "cell_type": "code",
   "execution_count": null,
   "id": "8731f21a",
   "metadata": {},
   "outputs": [],
   "source": [
    "#| export\n",
    "def launch_stata(path=None, edition=None, splash=True):\n",
    "    \"\"\"\n",
    "    We modify stata_setup to make splash screen optional\n",
    "    \"\"\"\n",
    "    if path == None or edition == None:\n",
    "        path_found, edition_found = find_dir_edition()\n",
    "        path = path_found if path==None else path\n",
    "        edition = edition_found if edition==None else edition\n",
    "    set_pystata_path(path)\n",
    "    import pystata\n",
    "    if version.parse(pystata.__version__) >= version.parse(\"0.1.1\"):\n",
    "        # Splash message control is a new feature of pystata-0.1.1\n",
    "        pystata.config.init(edition,splash=splash)\n",
    "    else:\n",
    "        pystata.config.init(edition)"
   ]
  },
  {
   "cell_type": "code",
   "execution_count": null,
   "id": "9645738d",
   "metadata": {},
   "outputs": [
    {
     "name": "stdout",
     "output_type": "stream",
     "text": [
      "    System information\n",
      "      Python version         3.10.4\n",
      "      Stata version          Stata 17.0 (MP)\n",
      "      Stata library path     C:\\Program Files\\Stata17\\mp-64.dll\n",
      "      Stata initialized      True\n",
      "      sfi initialized        True\n",
      "\n",
      "    Settings\n",
      "      graphic display        True\n",
      "      graphic size           width = default, height = default\n",
      "      graphic format         svg\n"
     ]
    }
   ],
   "source": [
    "#|eval: false\n",
    "launch_stata(splash=False)\n",
    "import pystata\n",
    "pystata.config.status()"
   ]
  },
  {
   "cell_type": "markdown",
   "id": "0a5fddbf",
   "metadata": {},
   "source": [
    "## nbstata configuration"
   ]
  },
  {
   "cell_type": "code",
   "execution_count": null,
   "id": "0a1aaa5d",
   "metadata": {},
   "outputs": [],
   "source": [
    "#| export\n",
    "def get_config():\n",
    "    \"\"\"First check if a configuration file exists. If not, try `find_dir_edition`.\"\"\"\n",
    "    global_config_path = Path(os.path.join(sys.prefix,'etc','nbstata.conf'))\n",
    "    user_config_path = Path('~/.nbstata.conf').expanduser()\n",
    "    env = {'stata_dir': None,\n",
    "           'edition': None,\n",
    "           'graph_format': 'png',\n",
    "           'echo': 'None',\n",
    "           'splash': 'False',\n",
    "           'missing': '.',\n",
    "          }\n",
    "    for cpath in (global_config_path, user_config_path):\n",
    "        try:\n",
    "            if cpath.is_file():\n",
    "                config = ConfigParser()\n",
    "                config.read(str(cpath))\n",
    "                env.update(dict(config.items('nbstata')))\n",
    "        except:\n",
    "            pass\n",
    "    if env['stata_dir']==None or env['edition']==None:     \n",
    "        stata_dir,stata_ed = find_dir_edition()     \n",
    "        default_env = {'stata_dir': stata_dir, 'edition': stata_ed}\n",
    "        env.update(default_env)\n",
    "    if env['echo'] not in {'True', 'False', 'None'}:\n",
    "        env['echo'] = 'None'\n",
    "    return env"
   ]
  },
  {
   "cell_type": "code",
   "execution_count": null,
   "id": "d9f66a87",
   "metadata": {},
   "outputs": [
    {
     "data": {
      "text/plain": [
       "{'stata_dir': 'C:\\\\Program Files\\\\Stata17',\n",
       " 'edition': 'mp',\n",
       " 'graph_format': 'png',\n",
       " 'echo': 'None',\n",
       " 'splash': 'False',\n",
       " 'missing': '.'}"
      ]
     },
     "execution_count": null,
     "metadata": {},
     "output_type": "execute_result"
    }
   ],
   "source": [
    "#|eval: false\n",
    "get_config()"
   ]
  },
  {
   "cell_type": "code",
   "execution_count": null,
   "id": "c454ba5b",
   "metadata": {},
   "outputs": [],
   "source": [
    "#| hide\n",
    "import nbdev; nbdev.nbdev_export()"
   ]
  }
 ],
 "metadata": {
  "kernelspec": {
   "display_name": "Python 3 (ipykernel)",
   "language": "python",
   "name": "python3"
  }
 },
 "nbformat": 4,
 "nbformat_minor": 5
}
