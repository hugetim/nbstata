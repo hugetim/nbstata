{
 "cells": [
  {
   "cell_type": "markdown",
   "id": "abed9e7c",
   "metadata": {},
   "source": [
    "# config\n",
    "\n",
    "> Utilities for loading Stata and nbstata"
   ]
  },
  {
   "cell_type": "markdown",
   "id": "006737c7",
   "metadata": {},
   "source": [
    "Before we can use [pystata](https://www.stata.com/python/pystata/index.html), we need to find the local Stata path (i.e., `find_path`) and then [add pystata to sys.path](https://www.stata.com/python/pystata/install.html#method-2-adding-pystata-to-sys-path) (i.e., `set_pystata_path`) so it can be imported.\n",
    "\n",
    "The `get_config` function handles nbstata configuration, more broadly."
   ]
  },
  {
   "cell_type": "code",
   "execution_count": null,
   "id": "a7dee8dc",
   "metadata": {},
   "outputs": [],
   "source": [
    "#| default_exp config\n",
    "%load_ext autoreload\n",
    "%autoreload 2"
   ]
  },
  {
   "cell_type": "code",
   "execution_count": null,
   "id": "73a0307c",
   "metadata": {},
   "outputs": [],
   "source": [
    "#| hide\n",
    "from nbdev.showdoc import *\n",
    "from fastcore.test import test_eq"
   ]
  },
  {
   "cell_type": "markdown",
   "id": "5f1b4592",
   "metadata": {},
   "source": [
    "## pystata configuration"
   ]
  },
  {
   "cell_type": "code",
   "execution_count": null,
   "id": "d60e7ec0",
   "metadata": {},
   "outputs": [],
   "source": [
    "#| export\n",
    "import os\n",
    "import sys\n",
    "import platform\n",
    "\n",
    "from shutil import which\n",
    "from pathlib import Path\n",
    "from configparser import ConfigParser, NoSectionError"
   ]
  },
  {
   "cell_type": "code",
   "execution_count": null,
   "id": "fa4ba7b1",
   "metadata": {},
   "outputs": [],
   "source": [
    "#| export\n",
    "def win_find_path():\n",
    "    import winreg\n",
    "    reg = winreg.ConnectRegistry(None, winreg.HKEY_CLASSES_ROOT)\n",
    "    subkeys = [r'Stata17Do\\shell\\do\\command',\n",
    "                r'Stata18Do\\shell\\do\\command',\n",
    "                r'Stata19Do\\shell\\do\\command']\n",
    "\n",
    "    fpath = ''\n",
    "    for subkey in subkeys:\n",
    "        try:\n",
    "            key = winreg.OpenKey(reg, subkey)\n",
    "            fpath = winreg.QueryValue(key, None).split('\"')[1]\n",
    "        except FileNotFoundError:\n",
    "            pass\n",
    "        if fpath:\n",
    "            break\n",
    "\n",
    "    return fpath\n",
    "\n",
    "\n",
    "def mac_find_path():\n",
    "    \"\"\"\n",
    "    Attempt to find Stata path on macOS when not on user's PATH.\n",
    "    Modified from stata_kernel's original to only location \"Applications/Stata\". \n",
    "\n",
    "    Returns:\n",
    "        (str): Path to Stata. Empty string if not found.\n",
    "    \"\"\"\n",
    "    path = Path('/Applications/Stata')\n",
    "    if not path.exists():\n",
    "        return ''\n",
    "    else:\n",
    "        return str(path)"
   ]
  },
  {
   "cell_type": "code",
   "execution_count": null,
   "id": "6b5fd424",
   "metadata": {},
   "outputs": [],
   "source": [
    "#| export\n",
    "def find_path():\n",
    "    if os.getenv('CONTINUOUS_INTEGRATION'):\n",
    "        print('WARNING: Running as CI; Stata path not set correctly')\n",
    "        return 'stata'\n",
    "    if platform.system() == 'Windows':\n",
    "        return win_find_path()\n",
    "    elif platform.system() == 'Darwin':\n",
    "        return mac_find_path()\n",
    "    else:\n",
    "        for i in ['stata-mp', 'stata-se', 'stata']:\n",
    "            stata_path = which(i)\n",
    "            if stata_path:\n",
    "                break\n",
    "        return stata_path"
   ]
  },
  {
   "cell_type": "code",
   "execution_count": null,
   "id": "49452f4e",
   "metadata": {},
   "outputs": [
    {
     "data": {
      "text/plain": [
       "'C:\\\\Program Files\\\\Stata17\\\\StataMP-64.exe'"
      ]
     },
     "execution_count": null,
     "metadata": {},
     "output_type": "execute_result"
    }
   ],
   "source": [
    "find_path()"
   ]
  },
  {
   "cell_type": "code",
   "execution_count": null,
   "id": "b1cd266d",
   "metadata": {},
   "outputs": [],
   "source": [
    "#| export\n",
    "def find_dir_edition():\n",
    "    stata_path = find_path()\n",
    "    stata_dir = str(os.path.dirname(stata_path))\n",
    "    stata_exe = str(os.path.basename(stata_path)).lower()\n",
    "\n",
    "    edition = 'be'\n",
    "    for e in ('se','mp'):\n",
    "        if stata_exe.find(e) > -1:\n",
    "            edition = e            \n",
    "    return (stata_dir,edition)"
   ]
  },
  {
   "cell_type": "code",
   "execution_count": null,
   "id": "47010d9c",
   "metadata": {},
   "outputs": [],
   "source": [
    "#| export\n",
    "def set_pystata_path(path=None):\n",
    "    if path == None:\n",
    "        path, _ = find_dir_edition()\n",
    "    if not os.path.isdir(path):\n",
    "        raise OSError(path + ' is invalid')\n",
    "    if not os.path.isdir(os.path.join(path, 'utilities')):\n",
    "        raise OSError(path + \" is not Stata's installation path\")\n",
    "    sys.path.append(os.path.join(path, 'utilities'))"
   ]
  },
  {
   "cell_type": "markdown",
   "id": "6f450522",
   "metadata": {},
   "source": [
    "## nbstata configuration"
   ]
  },
  {
   "cell_type": "code",
   "execution_count": null,
   "id": "4d2ce44e",
   "metadata": {},
   "outputs": [],
   "source": [
    "#| export\n",
    "def get_config():\n",
    "    \"\"\"\n",
    "    Version 1.10:\n",
    "    First check if a configuration file exists, if not, query the system.    \n",
    "    \"\"\"\n",
    "    global_config_path = Path(os.path.join(sys.prefix,'etc','pystata-kernel.conf'))\n",
    "    user_config_path = Path('~/.pystata-kernel.conf').expanduser()\n",
    "\n",
    "    env = {'stata_dir': None,\n",
    "           'edition': None,\n",
    "           'graph_format': 'png',\n",
    "           'echo': 'False',\n",
    "           'splash': 'True',\n",
    "           'missing': '.',\n",
    "          }\n",
    "\n",
    "    for cpath in (global_config_path, user_config_path):\n",
    "        try:\n",
    "            if cpath.is_file():\n",
    "                config = ConfigParser()\n",
    "                config.read(str(cpath))\n",
    "                env.update(dict(config.items('pystata-kernel')))\n",
    "        except:\n",
    "            pass\n",
    "\n",
    "    if env['stata_dir']==None or env['edition']==None:     \n",
    "        stata_dir,stata_ed = find_dir_edition()     \n",
    "        default_env = {'stata_dir': stata_dir, 'edition': stata_ed}\n",
    "        env.update(default_env)\n",
    "    return env"
   ]
  }
 ],
 "metadata": {
  "kernelspec": {
   "display_name": "Python 3 (ipykernel)",
   "language": "python",
   "name": "python3"
  }
 },
 "nbformat": 4,
 "nbformat_minor": 5
}
