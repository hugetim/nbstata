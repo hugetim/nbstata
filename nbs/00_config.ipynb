{
 "cells": [
  {
   "cell_type": "markdown",
   "id": "abed9e7c",
   "metadata": {},
   "source": [
    "# config\n",
    "\n",
    "> Utilities for loading Stata and nbstata"
   ]
  },
  {
   "cell_type": "code",
   "execution_count": null,
   "id": "a7dee8dc",
   "metadata": {},
   "outputs": [],
   "source": [
    "#| default_exp config\n",
    "%load_ext autoreload\n",
    "%autoreload 2"
   ]
  },
  {
   "cell_type": "code",
   "execution_count": null,
   "id": "73a0307c",
   "metadata": {},
   "outputs": [],
   "source": [
    "#| hide\n",
    "from nbdev.showdoc import *\n",
    "from fastcore.test import test_eq"
   ]
  },
  {
   "cell_type": "code",
   "execution_count": null,
   "id": "d60e7ec0",
   "metadata": {},
   "outputs": [],
   "source": [
    "#| export\n",
    "import os\n",
    "import sys\n",
    "import platform\n",
    "\n",
    "from shutil import which\n",
    "from pathlib import Path"
   ]
  },
  {
   "cell_type": "code",
   "execution_count": null,
   "id": "08a78ef9",
   "metadata": {},
   "outputs": [],
   "source": [
    "#| export\n",
    "def win_find_path():\n",
    "    import winreg\n",
    "    reg = winreg.ConnectRegistry(None, winreg.HKEY_CLASSES_ROOT)\n",
    "    subkeys = [r'Stata17Do\\shell\\do\\command',\n",
    "                r'Stata18Do\\shell\\do\\command',\n",
    "                r'Stata19Do\\shell\\do\\command']\n",
    "\n",
    "    fpath = ''\n",
    "    for subkey in subkeys:\n",
    "        try:\n",
    "            key = winreg.OpenKey(reg, subkey)\n",
    "            fpath = winreg.QueryValue(key, None).split('\"')[1]\n",
    "        except FileNotFoundError:\n",
    "            pass\n",
    "        if fpath:\n",
    "            break\n",
    "\n",
    "    return fpath\n",
    "\n",
    "\n",
    "def mac_find_path():\n",
    "    \"\"\"\n",
    "    Attempt to find Stata path on macOS when not on user's PATH.\n",
    "    Modified from stata_kernel's original to only location \"Applications/Stata\". \n",
    "\n",
    "    Returns:\n",
    "        (str): Path to Stata. Empty string if not found.\n",
    "    \"\"\"\n",
    "    path = Path('/Applications/Stata')\n",
    "    if not path.exists():\n",
    "        return ''\n",
    "    else:\n",
    "        return str(path)"
   ]
  },
  {
   "cell_type": "code",
   "execution_count": null,
   "id": "f3473e9d",
   "metadata": {},
   "outputs": [],
   "source": [
    "#| export\n",
    "def find_path():\n",
    "    if os.getenv('CONTINUOUS_INTEGRATION'):\n",
    "        print('WARNING: Running as CI; Stata path not set correctly')\n",
    "        return 'stata'\n",
    "    if platform.system() == 'Windows':\n",
    "        return win_find_path()\n",
    "    elif platform.system() == 'Darwin':\n",
    "        return mac_find_path()\n",
    "    else:\n",
    "        for i in ['stata-mp', 'stata-se', 'stata']:\n",
    "            stata_path = which(i)\n",
    "            if stata_path:\n",
    "                break\n",
    "        return stata_path"
   ]
  },
  {
   "cell_type": "code",
   "execution_count": null,
   "id": "fb330128",
   "metadata": {},
   "outputs": [
    {
     "data": {
      "text/plain": [
       "'C:\\\\Program Files\\\\Stata17\\\\StataMP-64.exe'"
      ]
     },
     "execution_count": null,
     "metadata": {},
     "output_type": "execute_result"
    }
   ],
   "source": [
    "find_path()"
   ]
  },
  {
   "cell_type": "code",
   "execution_count": null,
   "id": "b85837a7",
   "metadata": {},
   "outputs": [],
   "source": [
    "#| export\n",
    "def find_dir_edition():\n",
    "    stata_path = find_path()\n",
    "    stata_dir = str(os.path.dirname(stata_path))\n",
    "    stata_exe = str(os.path.basename(stata_path)).lower()\n",
    "\n",
    "    edition = 'be'\n",
    "    for e in ('se','mp'):\n",
    "        if stata_exe.find(e) > -1:\n",
    "            edition = e            \n",
    "    return (stata_dir,edition)"
   ]
  },
  {
   "cell_type": "code",
   "execution_count": null,
   "id": "47010d9c",
   "metadata": {},
   "outputs": [],
   "source": [
    "#| export\n",
    "def set_pystata_path(path=None):\n",
    "    if path == None:\n",
    "        path, _ = find_dir_edition()\n",
    "    if not os.path.isdir(path):\n",
    "        raise OSError(path + ' is invalid')\n",
    "    if not os.path.isdir(os.path.join(path, 'utilities')):\n",
    "        raise OSError(path + \" is not Stata's installation path\")\n",
    "    sys.path.append(os.path.join(path, 'utilities'))"
   ]
  }
 ],
 "metadata": {
  "kernelspec": {
   "display_name": "Python 3 (ipykernel)",
   "language": "python",
   "name": "python3"
  }
 },
 "nbformat": 4,
 "nbformat_minor": 5
}
