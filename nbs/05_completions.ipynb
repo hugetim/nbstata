{
 "cells": [
  {
   "cell_type": "markdown",
   "id": "2c184729",
   "metadata": {},
   "source": [
    "# completions\n",
    "\n",
    "> Autocomplete functionality"
   ]
  },
  {
   "cell_type": "markdown",
   "id": "e2014567",
   "metadata": {},
   "source": [
    "Adapted from the [stata_kernel version](https://github.com/kylebarron/stata_kernel/blob/master/stata_kernel/completions.py), limited for now to variables, globals, locals, scalars, matrices, and file names."
   ]
  },
  {
   "cell_type": "code",
   "execution_count": null,
   "id": "c7fb586a",
   "metadata": {},
   "outputs": [],
   "source": [
    "#| default_exp completions\n",
    "%load_ext autoreload\n",
    "%autoreload 2"
   ]
  },
  {
   "cell_type": "code",
   "execution_count": null,
   "id": "026b00b7",
   "metadata": {},
   "outputs": [],
   "source": [
    "#| hide\n",
    "from nbdev.showdoc import *"
   ]
  },
  {
   "cell_type": "code",
   "execution_count": null,
   "id": "e335395e",
   "metadata": {},
   "outputs": [],
   "source": [
    "#| export\n",
    "from nbstata.utils import ending_delimiter, is_cr_delimiter\n",
    "from nbstata.helpers import run_noecho\n",
    "from nbstata.stata_session import StataSession\n",
    "from fastcore.basics import patch_to\n",
    "from enum import IntEnum\n",
    "from typing import Tuple\n",
    "import os\n",
    "import re\n",
    "import platform"
   ]
  },
  {
   "cell_type": "code",
   "execution_count": null,
   "id": "cdfde140",
   "metadata": {},
   "outputs": [],
   "source": [
    "#| export\n",
    "class CompletionsManager():\n",
    "    def __init__(self, stata_session: StataSession):\n",
    "        \"\"\"\"\"\"\n",
    "        self.stata_session = stata_session\n",
    "\n",
    "        self.last_chunk = re.compile(\n",
    "            r'[\\s\"=][^\\s\"=]*?\\Z', flags=re.MULTILINE).search\n",
    "        \n",
    "        # Path completion\n",
    "        self.path_search = re.compile(\n",
    "            r'^(?P<fluff>.*\")(?P<path>[^\"]*)\\Z').search\n",
    "\n",
    "#         # Magic completion\n",
    "#         self.magic_completion = re.compile(\n",
    "#             r'\\A%(?P<magic>\\S*)\\Z', flags=re.DOTALL + re.MULTILINE).match\n",
    "\n",
    "#         self.set_magic_completion = re.compile(\n",
    "#             r'\\A%set (?P<setting>\\S*)\\Z', flags=re.DOTALL + re.MULTILINE).match\n",
    "\n",
    "#         self.matainline = re.compile(r\"^m(ata)?\\b\").search\n",
    "\n",
    "#         self.matacontext = re.compile(\n",
    "#             r'(^|\\s+)(?P<st>_?st_)'\n",
    "#             r'(?P<context>\\S+?)\\('\n",
    "#             r'(?P<quote>[^\\)]*?\")'\n",
    "#             r'(?P<pre>[^\\)]*?)\\Z', flags=re.MULTILINE + re.DOTALL).search\n",
    "\n",
    "        # Match context; this is used to determine if the line starts\n",
    "        # with matrix or scalar. It also matches constructs like\n",
    "        #\n",
    "        #     (`=)?scalar(\n",
    "        pre = (\n",
    "            r'(cap(t|tu|tur|ture)?'\n",
    "            r'|qui(e|et|etl|etly)?'\n",
    "            r'|n(o|oi|ois|oisi|oisil|oisily)?)')\n",
    "        kwargs = {'flags': re.MULTILINE}\n",
    "        self.fcontext = {\n",
    "            'function':\n",
    "                re.compile(\n",
    "                    r\"(\\s+|\\=|`=)\\s*(?P<name>\\w+?)\"\n",
    "                    r\"\\([^\\)]*?(?P<last_word>\\w*)\\Z\", **kwargs).search,\n",
    "#             'local_function':\n",
    "#                 re.compile(\n",
    "#                     r\"\\s.*?`\\=\\s*(?P<name>\\w+?)\"\n",
    "#                     r\"\\([^\\)]*?\\Z\", **kwargs).search,\n",
    "        }\n",
    "        self.context = {\n",
    "            'line':\n",
    "                re.compile(\n",
    "                    r\"^(?P<last_line>\\s*({0}\\s+)*(?P<first_word>\\S+) .*?)\\Z\".format(pre),\n",
    "                    **kwargs).search,\n",
    "            'delimit_line':\n",
    "                re.compile(\n",
    "                    r\"(?:\\A|;)(?P<last_line>\\s*({0}\\s+)*(?P<first_word>[^\\s;]+)\\s[^;]*?)\\Z\".format(pre),\n",
    "                    **kwargs).search\n",
    "        }"
   ]
  },
  {
   "cell_type": "code",
   "execution_count": null,
   "id": "13b70fb0",
   "metadata": {},
   "outputs": [],
   "source": [
    "#| export\n",
    "@patch_to(CompletionsManager)\n",
    "def _scalar_f_pos_rcomp(self, code, r2chars):\n",
    "    scalar_f = False\n",
    "#     lfuncontext = self.fcontext['local_function'](code)\n",
    "#     if lfuncontext:\n",
    "#         lfunction = lfuncontext.groupdict()['name']\n",
    "#         if lfunction == 'scalar':\n",
    "#             scalar_f = True\n",
    "#             pos =\n",
    "#             if r2chars == \")'\":\n",
    "#                 rcomp = \"\"\n",
    "#             elif r2chars[0:1] == \")\":\n",
    "#                 rcomp = \"\"\n",
    "#             elif r2chars[0:1] == \"'\":\n",
    "#                 rcomp = \")\"\n",
    "#             else:\n",
    "#                 rcomp = \")'\"\n",
    "#     else:\n",
    "    funcontext = self.fcontext['function'](code)\n",
    "    if funcontext:\n",
    "        function = funcontext.group('name')\n",
    "        if function == 'scalar':\n",
    "            scalar_f = True\n",
    "            pos = funcontext.start('last_word') if funcontext.start('last_word') else len(code)\n",
    "            rcomp = \"\" if (r2chars[0:1] == \")\" or r2chars == \" )\") else \")\"\n",
    "    if scalar_f:\n",
    "        return True, pos, rcomp\n",
    "    else:\n",
    "        return False, None, None"
   ]
  },
  {
   "cell_type": "code",
   "execution_count": null,
   "id": "9d085610",
   "metadata": {},
   "outputs": [],
   "source": [
    "#| hide\n",
    "from unittest.mock import Mock"
   ]
  },
  {
   "cell_type": "code",
   "execution_count": null,
   "id": "68fa0bd8",
   "metadata": {},
   "outputs": [
    {
     "data": {
      "text/plain": [
       "(True, 27, ')')"
      ]
     },
     "execution_count": null,
     "metadata": {},
     "output_type": "execute_result"
    }
   ],
   "source": [
    "#| hide\n",
    "test_instance = CompletionsManager(Mock())\n",
    "code = \"\"\"\\\n",
    "sysuse lifeexp\n",
    "disp scalar(\"\"\"\n",
    "test_instance._scalar_f_pos_rcomp(code, \"\")"
   ]
  },
  {
   "cell_type": "code",
   "execution_count": null,
   "id": "2e622247",
   "metadata": {},
   "outputs": [
    {
     "data": {
      "text/plain": [
       "(True, 27, ')')"
      ]
     },
     "execution_count": null,
     "metadata": {},
     "output_type": "execute_result"
    }
   ],
   "source": [
    "#| hide\n",
    "code = \"\"\"\\\n",
    "sysuse lifeexp\n",
    "disp scalar(te\"\"\"\n",
    "test_instance._scalar_f_pos_rcomp(code, \"\")"
   ]
  },
  {
   "cell_type": "code",
   "execution_count": null,
   "id": "171ace4a",
   "metadata": {},
   "outputs": [
    {
     "data": {
      "text/plain": [
       "(True, 28, ')')"
      ]
     },
     "execution_count": null,
     "metadata": {},
     "output_type": "execute_result"
    }
   ],
   "source": [
    "#| hide\n",
    "code = \"\"\"\\\n",
    "sysuse lifeexp\n",
    "disp scalar( te\"\"\"\n",
    "test_instance._scalar_f_pos_rcomp(code, \"\")"
   ]
  },
  {
   "cell_type": "code",
   "execution_count": null,
   "id": "6a21dcbc",
   "metadata": {},
   "outputs": [
    {
     "data": {
      "text/plain": [
       "(True, 28, ')')"
      ]
     },
     "execution_count": null,
     "metadata": {},
     "output_type": "execute_result"
    }
   ],
   "source": [
    "#| hide\n",
    "code = \"\"\"\\\n",
    "sysuse lifeexp\n",
    "disp scalar(\n",
    "te\"\"\"\n",
    "test_instance._scalar_f_pos_rcomp(code, \"\")"
   ]
  },
  {
   "cell_type": "code",
   "execution_count": null,
   "id": "5ae61597",
   "metadata": {},
   "outputs": [
    {
     "data": {
      "text/plain": [
       "(True, 28, ')')"
      ]
     },
     "execution_count": null,
     "metadata": {},
     "output_type": "execute_result"
    }
   ],
   "source": [
    "#| hide\n",
    "code = \"\"\"\\\n",
    "sysuse lifeexp\n",
    "disp\n",
    "scalar(\n",
    "te\"\"\"\n",
    "test_instance._scalar_f_pos_rcomp(code, \"\")"
   ]
  },
  {
   "cell_type": "code",
   "execution_count": null,
   "id": "91e230d2",
   "metadata": {},
   "outputs": [],
   "source": [
    "#| export\n",
    "@patch_to(CompletionsManager)\n",
    "def _last_line_first_word(self, code, sc_delimit_mode=False):\n",
    "    if sc_delimit_mode:\n",
    "        linecontext = self.context['delimit_line'](code)\n",
    "    else:\n",
    "        linecontext = self.context['line'](code)\n",
    "    if linecontext:\n",
    "        last_line = linecontext.groupdict()['last_line']\n",
    "        first_word = linecontext.groupdict()['first_word']\n",
    "        return last_line, first_word\n",
    "    else:\n",
    "        return None, None"
   ]
  },
  {
   "cell_type": "code",
   "execution_count": null,
   "id": "708fcc67",
   "metadata": {},
   "outputs": [
    {
     "data": {
      "text/plain": [
       "('list lex', 'list')"
      ]
     },
     "execution_count": null,
     "metadata": {},
     "output_type": "execute_result"
    }
   ],
   "source": [
    "#| hide\n",
    "code = \"\"\"\\\n",
    "sysuse lifeexp\n",
    "list lex\"\"\"\n",
    "test_instance._last_line_first_word(code, False)"
   ]
  },
  {
   "cell_type": "code",
   "execution_count": null,
   "id": "315340c6",
   "metadata": {},
   "outputs": [
    {
     "data": {
      "text/plain": [
       "('sysuse lifeexp\\nlist lex', 'sysuse')"
      ]
     },
     "execution_count": null,
     "metadata": {},
     "output_type": "execute_result"
    }
   ],
   "source": [
    "#| hide\n",
    "code = \"\"\"\\\n",
    "sysuse lifeexp\n",
    "list lex\"\"\"\n",
    "test_instance._last_line_first_word(code, True)"
   ]
  },
  {
   "cell_type": "code",
   "execution_count": null,
   "id": "dd68c26d",
   "metadata": {},
   "outputs": [
    {
     "data": {
      "text/plain": [
       "('list lex', 'list')"
      ]
     },
     "execution_count": null,
     "metadata": {},
     "output_type": "execute_result"
    }
   ],
   "source": [
    "#| hide\n",
    "code = \"\"\"\\\n",
    "sysuse lifeexp;list lex\"\"\"\n",
    "test_instance._last_line_first_word(code, True)"
   ]
  },
  {
   "cell_type": "code",
   "execution_count": null,
   "id": "2c7ce8ab",
   "metadata": {},
   "outputs": [
    {
     "data": {
      "text/plain": [
       "(None, None)"
      ]
     },
     "execution_count": null,
     "metadata": {},
     "output_type": "execute_result"
    }
   ],
   "source": [
    "#| hide\n",
    "code = \"\"\"\\\n",
    "sysuse lifeexp\n",
    "lis\"\"\"\n",
    "test_instance._last_line_first_word(code, False)"
   ]
  },
  {
   "cell_type": "code",
   "execution_count": null,
   "id": "f20c3a69",
   "metadata": {},
   "outputs": [
    {
     "data": {
      "text/plain": [
       "('\\nsysuse lifeexp\\nlist lex', 'sysuse')"
      ]
     },
     "execution_count": null,
     "metadata": {},
     "output_type": "execute_result"
    }
   ],
   "source": [
    "#| hide\n",
    "code = \"\"\"\\\n",
    "#delimit;\n",
    "sysuse lifeexp\n",
    "list lex\"\"\"\n",
    "test_instance._last_line_first_word(code, True)"
   ]
  },
  {
   "cell_type": "code",
   "execution_count": null,
   "id": "99382f7f",
   "metadata": {},
   "outputs": [],
   "source": [
    "#| export\n",
    "@patch_to(CompletionsManager)\n",
    "def get_file_paths(self, chunk):\n",
    "    \"\"\"Get file paths based on chunk\n",
    "    Args:\n",
    "        chunk (str): chunk of text after last space. Doesn't include string\n",
    "            punctuation characters\n",
    "    Returns:\n",
    "        (List[str]): folders and files at that location\n",
    "    \"\"\"\n",
    "    from sfi import SFIToolkit\n",
    "    # If local exists, return empty list\n",
    "    if re.search(r'[`\\']', chunk):\n",
    "        return []\n",
    "\n",
    "    # Define directory separator\n",
    "    dir_sep = '/'\n",
    "    if platform.system() == 'Windows':\n",
    "        if '/' not in chunk:\n",
    "            dir_sep = '\\\\'\n",
    "\n",
    "    # Get directory without ending file, and without / or \\\n",
    "    if any(x in chunk for x in ['/', '\\\\']):\n",
    "        ind = max(chunk.rfind('/'), chunk.rfind('\\\\'))\n",
    "        user_folder = chunk[:ind + 1]\n",
    "        user_starts = chunk[ind + 1:]\n",
    "\n",
    "        # Replace multiple consecutive / with a single /\n",
    "        user_folder = re.sub(r'/+', '/', user_folder)\n",
    "        user_folder = re.sub(r'\\\\+', r'\\\\', user_folder)\n",
    "\n",
    "    else:\n",
    "        user_folder = ''\n",
    "        user_starts = chunk\n",
    "\n",
    "    # Replace globals with their values\n",
    "    globals_re = r'\\$\\{?((?![0-9_])\\w{1,32})\\}?'\n",
    "    try:\n",
    "        folder = re.sub(\n",
    "            globals_re, lambda x: self.globals[x.group(1)], user_folder)\n",
    "    except KeyError:\n",
    "        # If the global doesn't exist in self.globals (aka it hasn't been\n",
    "        # defined in the Stata environment yet), then there are no paths to\n",
    "        # check\n",
    "        return []\n",
    "\n",
    "    # Use Stata's relative path\n",
    "    abspath = re.search(r'^([/~]|[a-zA-Z]:)', folder)\n",
    "    if not abspath:\n",
    "        folder = SFIToolkit.getWorkingDir() + '/' + folder\n",
    "\n",
    "    try:\n",
    "        top_dir, dirs, files = next(os.walk(os.path.expanduser(folder)))\n",
    "        results = [x + dir_sep for x in dirs] + files\n",
    "        results = [\n",
    "            user_folder + x for x in results if not x.startswith('.')\n",
    "            and re.match(re.escape(user_starts), x, re.I)]\n",
    "\n",
    "    except StopIteration:\n",
    "        results = []\n",
    "\n",
    "    return sorted(results)"
   ]
  },
  {
   "cell_type": "code",
   "execution_count": null,
   "id": "4b362150",
   "metadata": {},
   "outputs": [],
   "source": [
    "#| eval: false\n",
    "from nbstata.config import launch_stata"
   ]
  },
  {
   "cell_type": "code",
   "execution_count": null,
   "id": "bacb5efe",
   "metadata": {},
   "outputs": [
    {
     "data": {
      "text/plain": [
       "['00_config.ipynb',\n",
       " '01_utils.ipynb',\n",
       " '02_helpers.ipynb',\n",
       " '03_stata_session.ipynb',\n",
       " '04_magics.ipynb',\n",
       " '05_completions.ipynb',\n",
       " '06_kernel.ipynb']"
      ]
     },
     "execution_count": null,
     "metadata": {},
     "output_type": "execute_result"
    }
   ],
   "source": [
    "#| eval: false\n",
    "launch_stata(splash=False)\n",
    "test_stata = StataSession()\n",
    "test_instance = CompletionsManager(test_stata)\n",
    "test_instance.get_file_paths(\"0\")"
   ]
  },
  {
   "cell_type": "code",
   "execution_count": null,
   "id": "019bc84c",
   "metadata": {},
   "outputs": [],
   "source": [
    "#| export\n",
    "class Env(IntEnum):\n",
    "#     -2: %set magic, %set x*\n",
    "#     -1: magics, %x*\n",
    "    GENERAL = 0    # varlist and/or file path\n",
    "    LOCAL = 1      # `x* completed with `x*'\n",
    "    GLOBAL = 2     # $x* completed with $x* or ${x* completed with ${x*}\n",
    "    SCALAR = 4     # scalar .* x* completed with x* or scalar(x* completed with scalar(x*)\n",
    "    MATRIX = 6     # matrix .* x* completed with x*\n",
    "    SCALAR_VAR = 7 # scalars and varlist, scalar .* = x* completed with x*\n",
    "    MATRIX_VAR = 8 # matrices and varlist, matrix .* = x* completed with x*\n",
    "    MATA = 9       # inline or in mata environment"
   ]
  },
  {
   "cell_type": "code",
   "execution_count": null,
   "id": "a9ecc29a",
   "metadata": {},
   "outputs": [],
   "source": [
    "#| export\n",
    "@patch_to(CompletionsManager)\n",
    "def _start_of_last_chunk(self, code):\n",
    "    #any word at the end of a string that is not immediately preceded by one of the characters `, $, \", {, or /\n",
    "#     search = re.search(r'(?<![`$\"{/])\\b\\w+\\Z', code, flags=re.MULTILINE)   \n",
    "#     searchpos = -1 #if search is None else search.start() - 1\n",
    "#     return max(code.rfind(' '), code.rfind('\"'), searchpos) + 1\n",
    "    search = self.last_chunk(code)\n",
    "    return search.start() + 1 if search else 0"
   ]
  },
  {
   "cell_type": "code",
   "execution_count": null,
   "id": "997e34ca",
   "metadata": {},
   "outputs": [],
   "source": [
    "#| hide\n",
    "from fastcore.test import test_eq"
   ]
  },
  {
   "cell_type": "code",
   "execution_count": null,
   "id": "33e4070c",
   "metadata": {},
   "outputs": [],
   "source": [
    "#| hide\n",
    "def _word(code):\n",
    "    return code[test_instance._start_of_last_chunk(code):]\n",
    "\n",
    "test_eq(_word(\"\"\"use  00\"\"\"), \"\"\"00\"\"\")\n",
    "\n",
    "test_eq(_word(\"\"\"use `00\"\"\"), \"\"\"`00\"\"\")\n",
    "test_eq(_word(\"\"\"use $00\"\"\"), \"\"\"$00\"\"\")\n",
    "test_eq(_word(\"\"\"use ${00\"\"\"), \"\"\"${00\"\"\")\n",
    "test_eq(_word(\"\"\"use {00\"\"\"), \"\"\"{00\"\"\")\n",
    "test_eq(_word(\"\"\"use /00\"\"\"), \"\"\"/00\"\"\")\n",
    "\n",
    "test_eq(_word(\"\"\"use \"00\"\"\"), \"\"\"00\"\"\")\n",
    "test_eq(_word(\"\"\"use\"00\"\"\"), \"\"\"00\"\"\")\n",
    "test_eq(_word(\"\"\"use `\"00\"\"\"), \"\"\"00\"\"\")\n",
    "test_eq(_word('''use `\"00\"'''), \"\")\n",
    "test_eq(_word(\"\"\"use `\"00\"'\"\"\"), \"'\")\n",
    "\n",
    "test_eq(_word(\"\"\"use \"\"\"), \"\")\n",
    "test_eq(_word(\"\"\"use\"\"\"), \"use\")\n",
    "\n",
    "test_eq(_word(\"\"\"use `tes\"\"\"), \"\"\"`tes\"\"\")\n",
    "test_eq(_word(\"\"\"use `tes'\"\"\"), \"\"\"`tes'\"\"\")\n",
    "test_eq(_word(\"\"\"use ${tes}\"\"\"), \"\"\"${tes}\"\"\")\n",
    "\n",
    "test_eq(_word(\"\\n\".join([\"use\", \"${tes}\"])), \"${tes}\")\n",
    "\n",
    "test_eq(_word(\"`=tes\"), \"tes\")\n",
    "test_eq(_word(\"disp `=tes\"), \"tes\")"
   ]
  },
  {
   "cell_type": "code",
   "execution_count": null,
   "id": "9fc698ba",
   "metadata": {},
   "outputs": [],
   "source": [
    "#| export\n",
    "@patch_to(CompletionsManager)\n",
    "def get_env(self, \n",
    "            code: str, # Right-truncated to cursor position\n",
    "            r2chars: str, # The two characters immediately after `code`, used to accurately determine rcomp\n",
    "            starting_delimiter,\n",
    "            mata_mode: bool = False, # Whether mata is on\n",
    "           ) -> Tuple[Env, int, str, str]:\n",
    "    \"\"\"Returns completions environment\n",
    "    \n",
    "    Returns\n",
    "    -------\n",
    "    env : Env    \n",
    "    pos : int\n",
    "        Where the completions start. This is set to the start of the word to be completed.\n",
    "    out_chunk : str\n",
    "        Word to match.\n",
    "    rcomp : str\n",
    "        How to finish the completion (defaulting to nothing):\n",
    "        locals: '\n",
    "        globals (if start with ${): }\n",
    "        scalars: )\n",
    "        scalars (if start with `): )'\n",
    "    \"\"\"\n",
    "\n",
    "#     lcode = code.lstrip()\n",
    "#     if self.magic_completion(lcode):\n",
    "#         pos = code.rfind(\"%\") + 1\n",
    "#         env = -1\n",
    "#         rcomp = \"\"\n",
    "#         return env, pos, code[pos:], rcomp\n",
    "#     elif self.set_magic_completion(lcode):\n",
    "#         pos = max(code.rfind(' '), code.rfind('\"')) + 1\n",
    "#         env = -2\n",
    "#         rcomp = \"\"\n",
    "#         return env, pos, code[pos:], rcomp\n",
    "    delimiter = ending_delimiter(code, starting_delimiter)\n",
    "    env = Env.GENERAL\n",
    "    rcomp = ''\n",
    "    \n",
    "    # Detect space-delimited word.\n",
    "    pos = self._start_of_last_chunk(code)\n",
    "\n",
    "#     if mata_mode:\n",
    "#         env = Env.MATA\n",
    "#     else:\n",
    "    if pos >= 1:\n",
    "        # Figure out if current statement is a matrix or scalar\n",
    "        # statement. If so, will add them to completions list.\n",
    "        last_line, first_word = self._last_line_first_word(code, not is_cr_delimiter(delimiter))\n",
    "        if first_word:\n",
    "            equals_present = (last_line.find('=') > 0)\n",
    "            if re.match(r'^sca(lar|la|l)?$', first_word): #.strip()\n",
    "                env = Env.SCALAR_VAR if equals_present else Env.SCALAR\n",
    "            elif re.match(r'^mat(rix|ri|r)?$', first_word): #.strip()\n",
    "                env = Env.MATRIX_VAR if equals_present else Env.MATRIX\n",
    "    #                 elif self.matainline(first_word.strip()):\n",
    "    #                     env = 9\n",
    "\n",
    "        # Constructs of the form scalar(x<tab> will be filled only\n",
    "        # with scalars. This can be preceded by = or `=\n",
    "        if env is Env.GENERAL:\n",
    "            scalar_f, new_pos, new_rcomp = self._scalar_f_pos_rcomp(code, r2chars)\n",
    "            if scalar_f:\n",
    "                env = Env.SCALAR\n",
    "                pos = new_pos\n",
    "                rcomp = new_rcomp\n",
    "\n",
    "    # Figure out if this is a local or global; env = 0 (default)\n",
    "    # will suggest variables in memory.\n",
    "    chunk = code[pos:]\n",
    "    lfind = chunk.rfind('`')\n",
    "    gfind = chunk.rfind('$')\n",
    "    path_chars = any(x in chunk for x in ['/', '\\\\', '~'])\n",
    "    chunk_quoted = chunk[lfind:].startswith('`\"')\n",
    "\n",
    "    if lfind >= 0 and (lfind > gfind) and not chunk_quoted:\n",
    "        pos += lfind + 1\n",
    "        env = Env.LOCAL\n",
    "        rcomp = \"\" if r2chars[0:1] == \"'\" else \"'\"\n",
    "    elif gfind >= 0 and not path_chars:\n",
    "        bfind = chunk.rfind('{')\n",
    "        if bfind >= 0 and (bfind == gfind+1):\n",
    "            pos += bfind + 1\n",
    "            env = Env.GLOBAL\n",
    "            rcomp = \"\" if r2chars[0:1] == \"}\" else \"}\"\n",
    "        else:\n",
    "            env = Env.GLOBAL\n",
    "            pos += gfind + 1\n",
    "    elif chunk.startswith('\"'):\n",
    "        pos += 1\n",
    "    elif chunk.startswith('`\"'):\n",
    "        pos += 2\n",
    "    else:\n",
    "        # Set to matrix or scalar environment, if applicable. Note\n",
    "        # that matrices and scalars can be set to variable values,\n",
    "        # so varlist is still a valid completion in a matrix or\n",
    "        # scalar context.\n",
    "        pass\n",
    "\n",
    "#     if env == 9:\n",
    "#         matacontext = self.matacontext(code)\n",
    "#         if matacontext:\n",
    "#             st, context, quote, pre = matacontext.groupdict().values()\n",
    "#             varlist = [\n",
    "#                 'data', 'sdata', 'store', 'sstore', 'view', 'sview',\n",
    "#                 'varindex', 'varrename', 'vartype', 'isnumvar', 'isstrvar',\n",
    "#                 'vartype', 'varformat', 'varlabel', 'varvaluelabel',\n",
    "#                 'dropvar', 'keepvar']\n",
    "#             _globals = ['global', 'global_hcat']\n",
    "#             _locals = ['local']\n",
    "#             scalars = ['numscalar', 'strscalar', 'numscalar_hcat']\n",
    "#             matrices = [\n",
    "#                 'matrix', 'matrix_hcat', 'matrixrowstripe',\n",
    "#                 'matrixcolstripe', 'replacematrix']\n",
    "\n",
    "#             posextra = 0\n",
    "#             # if st:\n",
    "#             #     posextra += len(st)\n",
    "#             # if context:\n",
    "#             #     posextra += len(context)\n",
    "#             # if quote:\n",
    "#             #     posextra += len(quote) + 1\n",
    "\n",
    "#             if context in varlist:\n",
    "#                 env = 0\n",
    "#             elif context in _globals:\n",
    "#                 env = 2\n",
    "#                 rcomp = ''\n",
    "#             elif context in _locals:\n",
    "#                 env = 1\n",
    "#                 rcomp = ''\n",
    "#             elif context in scalars:\n",
    "#                 env = 4\n",
    "#                 rcomp = ''\n",
    "#             elif context in matrices:\n",
    "#                 env = 6\n",
    "#                 rcomp = ''\n",
    "#             else:\n",
    "#                 posextra = 0\n",
    "\n",
    "#             pos += posextra\n",
    "\n",
    "    closing_symbol = True #config.get('autocomplete_closing_symbol', 'False')\n",
    "#     closing_symbol = closing_symbol.lower() == 'true'\n",
    "    if not closing_symbol:\n",
    "        rcomp = ''\n",
    "    out_chunk = code[pos:]\n",
    "    return env, pos, out_chunk, rcomp"
   ]
  },
  {
   "cell_type": "code",
   "execution_count": null,
   "id": "73a4fc25",
   "metadata": {},
   "outputs": [
    {
     "data": {
      "text/plain": [
       "(<Env.SCALAR: 4>, 12, 'x', '')"
      ]
     },
     "execution_count": null,
     "metadata": {},
     "output_type": "execute_result"
    }
   ],
   "source": [
    "#| hide\n",
    "test_instance.get_env(\"\"\"\\\n",
    "scalar\n",
    "list x\"\"\", \"\", \";\")"
   ]
  },
  {
   "cell_type": "code",
   "execution_count": null,
   "id": "954d7473",
   "metadata": {},
   "outputs": [],
   "source": [
    "#| hide\n",
    "test_eq(\n",
    "    [test_instance.get_env(\"\"\"\\\n",
    "#delimit;\n",
    "scalar\n",
    "list x\"\"\", \"\", None)[i] for i in [0, 2, 3]],\n",
    "    [test_instance.get_env(\"\"\"\\\n",
    "scalar\n",
    "list x\"\"\", \"\", \";\")[i] for i in [0, 2, 3]])"
   ]
  },
  {
   "cell_type": "code",
   "execution_count": null,
   "id": "d6072451",
   "metadata": {},
   "outputs": [],
   "source": [
    "test_eq(\n",
    "    test_instance.get_env(\"`\", \"\", None)[0:3],\n",
    "    (Env.LOCAL, 1, \"\"))"
   ]
  },
  {
   "cell_type": "code",
   "execution_count": null,
   "id": "c2fd8ac4",
   "metadata": {},
   "outputs": [],
   "source": [
    "#| hide\n",
    "test_eq(\n",
    "    test_instance.get_env(\"disp 1\\n`\", \"\", None)[0],\n",
    "    Env.LOCAL)"
   ]
  },
  {
   "cell_type": "code",
   "execution_count": null,
   "id": "e320f350",
   "metadata": {},
   "outputs": [],
   "source": [
    "#| export\n",
    "\n",
    "relevant_suggestion_keys = {\n",
    "    Env.GENERAL: ['varlist', 'scalars'],\n",
    "    Env.LOCAL: ['locals'],\n",
    "    Env.GLOBAL: ['globals'],\n",
    "    Env.SCALAR: ['scalars'],\n",
    "    Env.MATRIX: ['matrices'],\n",
    "    Env.SCALAR_VAR: ['scalars', 'varlist'],\n",
    "    Env.MATRIX_VAR: ['matrices', 'varlist'],\n",
    "}\n",
    "\n",
    "@patch_to(CompletionsManager)\n",
    "def get(self, starts, env, rcomp):\n",
    "    \"\"\"Return environment-aware completions list.\"\"\"\n",
    "    relevant_suggestions = [var + rcomp \n",
    "                            for key in relevant_suggestion_keys[env]\n",
    "                            for var in self.stata_session.suggestions[key]\n",
    "                            if var.startswith(starts)]\n",
    "    if env is Env.GENERAL:\n",
    "        relevant_suggestions += self.get_file_paths(starts)\n",
    "    return relevant_suggestions\n",
    "\n",
    "#     elif env == 9:\n",
    "#         if len(starts) > 1:\n",
    "#             builtins = [\n",
    "#                 var for var in mata_builtins if var.startswith(starts)]\n",
    "#         else:\n",
    "#             builtins = []\n",
    "\n",
    "#         if re.search(r'[/\\\\]', starts):\n",
    "#             paths = self.get_file_paths(starts)\n",
    "#         else:\n",
    "#             paths = []\n",
    "\n",
    "#         return [\n",
    "#             var for var in self.stata_session.suggestions['mata']\n",
    "#             if var.startswith(starts)] + builtins + paths"
   ]
  },
  {
   "cell_type": "code",
   "execution_count": null,
   "id": "0e92736b",
   "metadata": {},
   "outputs": [],
   "source": [
    "#| export\n",
    "@patch_to(CompletionsManager)\n",
    "def do(self, code, cursor_pos, starting_delimiter=None):\n",
    "    if self.stata_session.suggestions is None:\n",
    "        self.stata_session.refresh_suggestions()\n",
    "    env, pos, chunk, rcomp = self.get_env(\n",
    "        code[:cursor_pos], \n",
    "        code[cursor_pos:(cursor_pos + 2)],\n",
    "        starting_delimiter,\n",
    "    )\n",
    "    return pos, cursor_pos, self.get(chunk, env, rcomp)"
   ]
  },
  {
   "cell_type": "code",
   "execution_count": null,
   "id": "19528a4b",
   "metadata": {},
   "outputs": [],
   "source": [
    "#| eval: False\n",
    "from fastcore.test import test_eq\n",
    "from pystata import stata"
   ]
  },
  {
   "cell_type": "code",
   "execution_count": null,
   "id": "647e2c0d",
   "metadata": {},
   "outputs": [],
   "source": [
    "#| eval: False\n",
    "def completions_test_setup(code):\n",
    "    global test_instance\n",
    "    stata.run(\"clear all\", quietly=True)\n",
    "    run_noecho(code)\n",
    "    test_instance.stata_session.clear_suggestions()\n",
    "    \n",
    "\n",
    "def _complete(code, cursor_pos):\n",
    "    _, _, matches = test_instance.do(code, cursor_pos)\n",
    "    return matches"
   ]
  },
  {
   "cell_type": "code",
   "execution_count": null,
   "id": "b1ff4e8b",
   "metadata": {},
   "outputs": [],
   "source": [
    "#| eval: False\n",
    "completions_test_setup(\"gen var1 = 1\")\n",
    "code = \"list va\"\n",
    "cursor_pos = 7\n",
    "\n",
    "test_eq(\n",
    "    test_instance.get_env(\n",
    "        code[:cursor_pos], code[cursor_pos:(cursor_pos + 2)],\n",
    "        False),\n",
    "    (0, 5, 'va', ''),\n",
    ") \n",
    "test_eq(\n",
    "    _complete(code, cursor_pos),\n",
    "    ['var1'],\n",
    ")"
   ]
  },
  {
   "cell_type": "code",
   "execution_count": null,
   "id": "9c9abdf5",
   "metadata": {},
   "outputs": [],
   "source": [
    "#| hide\n",
    "#| eval: False\n",
    "completions_test_setup('')\n",
    "test_eq(\n",
    "    _complete(\"use 00\", 6),\n",
    "    [\"00_config.ipynb\"],\n",
    ")"
   ]
  },
  {
   "cell_type": "code",
   "execution_count": null,
   "id": "99955c3f",
   "metadata": {},
   "outputs": [],
   "source": [
    "#| eval: False\n",
    "completions_test_setup('local test_local \"test value\"')\n",
    "test_eq(\n",
    "    _complete(\"list `t\", 7),\n",
    "    [\"test_local'\"],\n",
    ")"
   ]
  },
  {
   "cell_type": "code",
   "execution_count": null,
   "id": "7aaae188",
   "metadata": {},
   "outputs": [],
   "source": [
    "#| hide\n",
    "#| eval: False\n",
    "test_eq(\n",
    "    _complete(\"list `t'\", 7),\n",
    "    [\"test_local\"],\n",
    ")\n",
    "test_eq(\n",
    "    _complete(\"list `t'\", 8),\n",
    "    [],\n",
    ")"
   ]
  },
  {
   "cell_type": "code",
   "execution_count": null,
   "id": "62abc389",
   "metadata": {},
   "outputs": [],
   "source": [
    "#| eval: False\n",
    "completions_test_setup('global test_global \"test value\"')\n",
    "test_eq(\n",
    "    _complete(\"list ${tes}\", 10),\n",
    "    ['test_global'],\n",
    ")"
   ]
  },
  {
   "cell_type": "code",
   "execution_count": null,
   "id": "fc5bf252",
   "metadata": {},
   "outputs": [],
   "source": [
    "#| hide\n",
    "#| eval: False\n",
    "test_eq(\n",
    "    _complete(\"list $tes\", 9),\n",
    "    ['test_global'],\n",
    ")\n",
    "test_eq(\n",
    "    _complete(\"list ${tes\", 10),\n",
    "    ['test_global}'],\n",
    ")"
   ]
  },
  {
   "cell_type": "code",
   "execution_count": null,
   "id": "56d21ba9",
   "metadata": {},
   "outputs": [],
   "source": [
    "#| hide\n",
    "#| eval: False\n",
    "completions_test_setup('scalar test_scalar = 5')\n",
    "test_eq(\n",
    "    _complete(\"disp scalar(tes\", 15),\n",
    "    ['test_scalar)'],\n",
    ")\n",
    "test_eq(\n",
    "    _complete(\"disp scalar(tes)\", 15),\n",
    "    ['test_scalar'],\n",
    ")\n",
    "test_eq(\n",
    "    _complete(\"disp `=scalar(tes\", 17),\n",
    "    [\"test_scalar)\"],\n",
    ")\n",
    "test_eq(\n",
    "    _complete(\"disp `=scalar(tes'\", 17),\n",
    "    [\"test_scalar)\"],\n",
    ")\n",
    "test_eq(\n",
    "    _complete(\"disp `=tes\", 10),\n",
    "    [\"test_scalar\"],\n",
    ")"
   ]
  },
  {
   "cell_type": "code",
   "execution_count": null,
   "id": "1578e279",
   "metadata": {},
   "outputs": [],
   "source": [
    "#| hide\n",
    "#| eval: False\n",
    "completions_test_setup('gen var1 = 1')\n",
    "test_eq(\n",
    "    _complete(\"disp `=va\", 10),\n",
    "    [\"var1\"],\n",
    ")"
   ]
  },
  {
   "cell_type": "code",
   "execution_count": null,
   "id": "d389357a",
   "metadata": {},
   "outputs": [],
   "source": [
    "#| hide\n",
    "#| eval: False\n",
    "completions_test_setup(r'matrix test_matrix = (1,2,3\\4,5,6)')\n",
    "test_eq(\n",
    "    _complete(\"matrix A = tes\", 14),\n",
    "    ['test_matrix'],\n",
    ")"
   ]
  },
  {
   "cell_type": "code",
   "execution_count": null,
   "id": "1f46ab09",
   "metadata": {},
   "outputs": [],
   "source": [
    "#| hide\n",
    "#| eval: False\n",
    "completions_test_setup('gen x1 = 1 \\n scalar x2 = 2')\n",
    "code = \"\"\"\\\n",
    "#delimit;\n",
    "scalar\n",
    "list x\"\"\"\n",
    "test_eq(\n",
    "    _complete(code, len(code)),\n",
    "    ['x2'],\n",
    ")"
   ]
  },
  {
   "cell_type": "code",
   "execution_count": null,
   "id": "1c6dd777",
   "metadata": {},
   "outputs": [],
   "source": [
    "#| hide\n",
    "import nbdev; nbdev.nbdev_export()"
   ]
  }
 ],
 "metadata": {
  "kernelspec": {
   "display_name": "Python 3 (ipykernel)",
   "language": "python",
   "name": "python3"
  }
 },
 "nbformat": 4,
 "nbformat_minor": 5
}
