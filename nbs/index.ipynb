{
 "cells": [
  {
   "cell_type": "markdown",
   "metadata": {},
   "source": [
    "# nbstata\n",
    "\n",
    "> A Jupyter kernel for Stata based on pystata"
   ]
  },
  {
   "cell_type": "markdown",
   "metadata": {},
   "source": [
    "## What is Jupyter?"
   ]
  },
  {
   "cell_type": "markdown",
   "metadata": {},
   "source": [
    "[JupyterLab](https://jupyterlab.readthedocs.io/en/stable/getting_started/overview.html) is a browser-based editor that allows you to combine interactive code and results with [Markdown](https://daringfireball.net/projects/markdown/basics) in a single document (called a Jupyter notebook). It is open source and widely used. Though it is named after the three core programming languages it supports (Julia, Python, and R), it can be used with with a wide variety of languages. \n",
    "\n",
    "`nbstata` allows you to create Stata notebooks (as opposed to using Stata within a *Python* notebook, which is a nice way to [embed Stata commands within Python code](https://www.stata.com/python/pystata/notebook/Example2.html) but is needlessly clunky if you are working primarily with Stata). \n",
    "\n",
    "<img align=\"center\" width=\"650\" src=\"https://github.com/kylebarron/stata_kernel/raw/master/docs/src/img/jupyter_notebook_example.gif\">"
   ]
  },
  {
   "cell_type": "markdown",
   "metadata": {},
   "source": [
    "### `nbstata` features\n",
    "\n",
    "- [x] Works with Stata 17 (only).\n",
    "- [x] Autocompletion for variables, macros, matrices, and file paths.\n",
    "- [x] DataGrid widget with `browse`-like capabilities (e.g., interactive filtering).\n",
    "- [x] Variable and data properties (`describe` and `return`/`ereturn list`) available in a side panel.\n",
    "- [x] Interactive help files available within notebook.\n",
    "- [x] `#delimit ;` interactive support (along with all types of comments).\n",
    "- [ ] Mata interactive support."
   ]
  },
  {
   "attachments": {
    "image-2.png": {
     "image/png": "[encoded data removed]"
    }
   },
   "cell_type": "markdown",
   "metadata": {},
   "source": [
    "### What do Stata notebooks allow that the official Stata IDE doesn't?\n",
    "\n",
    "* Exploratory analysis that is both:\n",
    "    * interactive\n",
    "    * preserved for future reference/editing\n",
    "    \n",
    "* Presenting results in a way that interweaves:\n",
    "    * code\n",
    "    * results (including graphs)\n",
    "    * rich text: \n",
    "        1. lists\n",
    "        2. **Headings**\n",
    "        3. <img align=\"left\" width=\"54\" height=\"18.6\" src=\"attachment:image-2.png\">\n",
    "        4. [links](https://hugetim.github.io/nbstata/) \n",
    "        5. math: $y_{it}=\\beta_0+\\varepsilon_{it}$"
   ]
  },
  {
   "cell_type": "markdown",
   "metadata": {},
   "source": [
    "## Install"
   ]
  },
  {
   "cell_type": "markdown",
   "metadata": {},
   "source": [
    "*Because it uses [pystata](https://www.stata.com/python/pystata/) under the hood, `nbstata` requires Stata 17 to be installed locally.\n",
    "(If you have an older version of Stata, consider [stata_kernel](https://github.com/kylebarron/stata_kernel) instead.)*"
   ]
  },
  {
   "cell_type": "markdown",
   "metadata": {},
   "source": [
    "To install `nbstata`, run:\n",
    "\n",
    "```sh\n",
    "pip install nbstata\n",
    "python -m nbstata.install [--sys-prefix] [--prefix PREFIX] [--conf-file]\n",
    "```\n",
    "\n",
    "Include `--sys-prefix` to install to `sys.prefix` (e.g. a virtualenv or conda env),\n",
    "or `--prefix PREFIX` if you want to specify the install path yourself.\n",
    "\n",
    "### Configuration file\n",
    "The `--conf-file` option creates a configuration file for you.\n",
    "(Note: If the installer cannot find the location of your Stata installation, a configuration file will be created \n",
    "even if you do not include the `--conf-file` option to allow you to manually specify the Stata location.) The location of the configuration file will be:\n",
    "\n",
    "- `[prefix]/etc/nbstata.conf` if `--sys-prefix` or `--prefix` is specified.\n",
    "-  `~/.nbstata.conf` otherwise.\n",
    "\n",
    "(Note: If a configuration file exists in both locations at kernel runtime, the user version takes precedence.)\n",
    "\n",
    "### Updating\n",
    "\n",
    "To update from a previous version of `nbstata`, run:\n",
    "\n",
    "```sh\n",
    "pip install nbstata --upgrade\n",
    "```\n",
    "\n",
    "When updating, you don't have to run `python -m nbstata.install` again.\n",
    "\n",
    "\n",
    "### Syntax highlighting\n",
    "Stata syntax highlighting can be installed for Jupyter Lab:\n",
    "\n",
    "```sh\n",
    "pip install jupyterlab_stata_highlight2\n",
    "```"
   ]
  },
  {
   "cell_type": "markdown",
   "metadata": {},
   "source": [
    "## Configuration"
   ]
  },
  {
   "cell_type": "markdown",
   "metadata": {},
   "source": [
    "The following settings are permitted inside the configuration file:\n",
    "\n",
    "- `stata_dir`: Stata installation directory.\n",
    "- `edition`: Stata edition. Acceptable values are 'be', 'se' and 'mp'.\n",
    "    Default is 'be'.\n",
    "- `graph_format`: Acceptable values are 'png' (the default), 'pdf', 'svg' and 'pystata'.\n",
    "    Specify the last option if you want to use `pystata`'s [default setting](https://www.stata.com/python/pystata/config.html#pystata.config.set_graph_format). \n",
    "- `echo`: controls the echo of commands, with the default being 'None':\n",
    "    - 'True': the kernel will echo all commands. \n",
    "    - 'False': the kernel will not echo single-line commands.\n",
    "    - 'None': the kernel will not echo any command. \n",
    "- `splash`: controls display of the splash message during Stata startup. Default is 'False'.\n",
    "- `missing`: What should be displayed in the output of the `*%head` and `*%tail` magics for a missing value. Default is '.', following Stata. To defer to pandas' format for `NA`, specify 'pandas'.\n",
    "\n",
    "Settings must be under the title `[nbstata]`. Example:\n",
    "\n",
    "```\n",
    "[nbstata]\n",
    "stata_dir = /opt/stata\n",
    "edition = mp\n",
    "graph_format = svg\n",
    "echo = False\n",
    "splash = True\n",
    "missing = NA\n",
    "```"
   ]
  },
  {
   "cell_type": "markdown",
   "metadata": {},
   "source": [
    "### Default Graph Format"
   ]
  },
  {
   "cell_type": "markdown",
   "metadata": {},
   "source": [
    "Both `pystata` and `stata_kernel` default to the SVG image format. \n",
    "`nbstata` defaults to the PNG image format instead for several reasons:\n",
    "\n",
    "- Jupyter does not show SVG images from untrusted notebooks ([link 1](https://stackoverflow.com/questions/68398033/svg-figures-hidden-in-jupyterlab-after-some-time)).\n",
    "- Notebooks with empty cells are untrusted ([link 2](https://github.com/jupyterlab/jupyterlab/issues/9765)).\n",
    "- SVG images cannot be copied and pasted directly into Word or PowerPoint."
   ]
  },
  {
   "cell_type": "markdown",
   "metadata": {},
   "source": [
    "## Magics"
   ]
  },
  {
   "cell_type": "markdown",
   "metadata": {},
   "source": [
    "Magics are commands that only work in `nbstata` and are not part of Stata's syntax. \n",
    "Magics normally start with `%`, but this will cause errors when the notebook\n",
    "is exported and run as a Stata script. As an alternative, you may prefix the \n",
    "magic name with `*%`, which will then be treated by Stata as a single-line comment.\n",
    "\n",
    "`nbstata` currently supports the following magics:\n",
    "\n",
    "| Magic | Description | Full Syntax |\n",
    "| :-- | :-- | :-- |\n",
    "| *%browse | Interactively view dataset | `*%browse [-h] [varlist] [if] [in] [, nolabel noformat]` |\n",
    "| *%head | View first 5 (or N) rows | `*%head [-h] [N] [varlist] [if] [, nolabel noformat]` |\n",
    "| *%tail | View last 5 (or N) rows | `*%tail [-h] [N] [varlist] [if] [, nolabel noformat]` |\n",
    "| *%locals | List locals with their values | `*%locals` |\n",
    "| *%delimit | Print the current delimiter | `*%delimit` |\n",
    "| *%help | Display Stata help | `*%help [-h] command_or_topic_name` |\n",
    "| *%echo | Ensure echo from cell | `*%echo` |\n",
    "| *%noecho | Suppress echo from cell | `*%noecho` |\n",
    "| *%quietly | Suppress all output from cell | `*%quietly` |\n",
    "\n",
    "The `%browse` magic requires JupyterLab with the `@finos/perspective-jupyterlab` extension \n",
    "[correctly installed](https://perspective.finos.org/docs/python/#jupyterlab).\n",
    "\n",
    "By default, the `%browse`, `%head`, and `%tail` magics convert numeric Stata values to strings \n",
    "using their Stata format (or value labels). To prevent this behavior, \n",
    "specify the `noformat` and/or `nolabel` options."
   ]
  },
  {
   "cell_type": "markdown",
   "metadata": {},
   "source": [
    "## Stata Implementation Details"
   ]
  },
  {
   "cell_type": "markdown",
   "metadata": {},
   "source": [
    "### `#delimit` behavior"
   ]
  },
  {
   "cell_type": "markdown",
   "metadata": {},
   "source": [
    "A [`#delimit;`](https://www.stata.com/manuals/pdelimit.pdf) command in one cell will persist into other cells, until `#delimit cr` is called. For example, see [delimit tests.ipynb](https://github.com/hugetim/nbstata/blob/master/manual_test_nbs/delimit%20tests.ipynb)."
   ]
  },
  {
   "cell_type": "markdown",
   "metadata": {},
   "source": [
    "### `echo = None`: potential for unanticipated errors"
   ]
  },
  {
   "cell_type": "markdown",
   "metadata": {},
   "source": [
    "The default `echo = None` configuration does some complicated things under the hood to emulate functionality that `pystata` does not directly support: running multi-line Stata code without echoing the commands. While extensive automatic tests are in place to help ensure its reliability, unanticipated issues may arise. If, while using this mode, a particular code cell is not working as expected, try placing the `%noecho` magic at the top of it to see if that resolves the issue. (If so, please report that [here](https://github.com/hugetim/nbstata/issues/new?labels=bug).) You can also avoid such potential issues by setting the config `echo = False`, which will at least not echo single-line Stata commands though it will echo multiple commands."
   ]
  },
  {
   "cell_type": "markdown",
   "metadata": {},
   "source": [
    "## Contributing"
   ]
  },
  {
   "cell_type": "markdown",
   "metadata": {},
   "source": [
    "`nbstata` is being developed using [nbdev](https://nbdev.fast.ai/). The `/nbs` directory is where edits to the source code should be made. (The python code is then exported to the `/nbdev` library folder.) The one exception is `install.py`.\n",
    "\n",
    "The [@patch_to](https://fastcore.fast.ai/basics.html#patch_to) decorator is occasionally used to break up class definitions into separate cells.\n",
    "\n",
    "For more, see [CONTRIBUTING.md](https://github.com/hugetim/nbstata/blob/master/CONTRIBUTING.md)."
   ]
  },
  {
   "cell_type": "markdown",
   "metadata": {},
   "source": [
    "## Acknowledgements"
   ]
  },
  {
   "cell_type": "markdown",
   "metadata": {},
   "source": [
    "Kyle Barron authored the original `stata_kernel` and Vinci Chow carried that work forward for Stata 17, converting the backend to use [pystata](https://www.stata.com/python/pystata/). `nbstata` is directly derived from his [pystata-kernel](https://github.com/ticoneva/pystata-kernel)."
   ]
  }
 ],
 "metadata": {
  "kernelspec": {
   "display_name": "Python 3 (ipykernel)",
   "language": "python",
   "name": "python3"
  }
 },
 "nbformat": 4,
 "nbformat_minor": 4
}
