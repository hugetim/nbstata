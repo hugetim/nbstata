{
 "cells": [
  {
   "cell_type": "markdown",
   "metadata": {},
   "source": [
    "# nbstata\n",
    "\n",
    "> A Jupyter kernel for Stata based on pystata"
   ]
  },
  {
   "cell_type": "markdown",
   "metadata": {},
   "source": [
    "*[Click here for the nbstata User Guide](https://hugetim.github.io/nbstata/user_guide.html)*"
   ]
  },
  {
   "cell_type": "markdown",
   "metadata": {},
   "source": [
    "## What is Jupyter?"
   ]
  },
  {
   "cell_type": "markdown",
   "metadata": {},
   "source": [
    "[JupyterLab](https://jupyterlab.readthedocs.io/en/stable/getting_started/overview.html) is a browser-based editor that allows you to combine interactive code and results with [Markdown](https://daringfireball.net/projects/markdown/basics) in a single document (called a Jupyter notebook). It is open source and widely used. Though it is named after the three core programming languages it supports (Julia, Python, and R), it can be used with with a wide variety of languages. \n",
    "\n",
    "`nbstata` allows you to create Stata notebooks (as opposed to using Stata within a *Python* notebook, which is a nice way to [embed Stata commands within Python code](https://www.stata.com/python/pystata/notebook/Example2.html) but is needlessly clunky if you are working primarily with Stata). \n",
    "\n",
    "<img align=\"center\" width=\"650\" src=\"https://github.com/kylebarron/stata_kernel/raw/master/docs/src/img/jupyter_notebook_example.gif\">"
   ]
  },
  {
   "cell_type": "markdown",
   "metadata": {},
   "source": [
    "### `nbstata` features\n",
    "\n",
    "- [x] Works with Stata 17 (only).\n",
    "- [x] Can display output from Stata code without an \"echo\" of multi-line commands\n",
    "- [x] Autocompletion for variables, macros, matrices, and file paths.\n",
    "- [x] DataGrid widget with `browse`-like capabilities (e.g., interactive filtering).\n",
    "- [x] Variable and data properties (`describe` and `e`/`return list`) available in a \"contextual help\" side panel.\n",
    "- [x] Interactive help files available within notebook.\n",
    "- [x] `#delimit ;` interactive support (along with all types of comments)."
   ]
  },
  {
   "attachments": {
    "image-2.png": {
     "image/png": "[encoded data removed]"
    }
   },
   "cell_type": "markdown",
   "metadata": {},
   "source": [
    "### What can you do with Stata notebooks...\n",
    "...that you can't do with the [official Stata interface](https://www.stata.com/features/overview/graphical-user-interface/)?\n",
    "\n",
    "* Exploratory analysis that is both:\n",
    "    * interactive\n",
    "    * preserved for future reference/editing\n",
    "    \n",
    "* Present results in a way that interweaves:[1]\n",
    "    * code\n",
    "    * results (including graphs)\n",
    "    * rich text: \n",
    "        1. lists\n",
    "        2. **Headings**\n",
    "        3. <img align=\"left\" width=\"54\" height=\"18.6\" src=\"attachment:image-2.png\">\n",
    "        4. [links](https://hugetim.github.io/nbstata/) \n",
    "        5. math: $y_{it}=\\beta_0+\\varepsilon_{it}$\n",
    "\n",
    "[1] Stata [dynamic documents](https://www.stata.com/manuals/rptdynamicdocumentsintro.pdf) can do something similar, but with a very different workflow."
   ]
  },
  {
   "cell_type": "markdown",
   "metadata": {},
   "source": [
    "## Contributing"
   ]
  },
  {
   "cell_type": "markdown",
   "metadata": {},
   "source": [
    "`nbstata` is being developed using [nbdev](https://nbdev.fast.ai/blog/posts/2022-07-28-nbdev2/#whats-nbdev). The `/nbs` directory is where edits to the source code should be made. (The python code is then exported to the `/nbdev` library folder.) The one exception is `install.py`.\n",
    "\n",
    "The [@patch_to](https://fastcore.fast.ai/basics.html#patch_to) decorator is occasionally used to break up class definitions into separate cells.\n",
    "\n",
    "For more, see [CONTRIBUTING.md](https://github.com/hugetim/nbstata/blob/master/CONTRIBUTING.md)."
   ]
  },
  {
   "cell_type": "markdown",
   "metadata": {},
   "source": [
    "## Acknowledgements"
   ]
  },
  {
   "cell_type": "markdown",
   "metadata": {},
   "source": [
    "Kyle Barron authored the original `stata_kernel` and Vinci Chow carried that work forward for Stata 17, converting the backend to use [pystata](https://www.stata.com/python/pystata/). `nbstata` is directly derived from his [pystata-kernel](https://github.com/ticoneva/pystata-kernel)."
   ]
  }
 ],
 "metadata": {
  "kernelspec": {
   "display_name": "Python 3 (ipykernel)",
   "language": "python",
   "name": "python3"
  }
 },
 "nbformat": 4,
 "nbformat_minor": 4
}
