{
 "cells": [
  {
   "cell_type": "code",
   "execution_count": null,
   "metadata": {},
   "outputs": [],
   "source": [
    "#| hide\n",
    "from nbstata.helpers import *"
   ]
  },
  {
   "cell_type": "markdown",
   "metadata": {},
   "source": [
    "# nbstata\n",
    "\n",
    "> Jupyter kernel for Stata based on pystata"
   ]
  },
  {
   "cell_type": "markdown",
   "metadata": {},
   "source": [
    "Because it uses [pystata](https://www.stata.com/python/pystata/) under the hood, `nbstata` requires Stata 17 to be installed locally.\n",
    "(If you have an older version of Stata, consider [stata_kernel](https://github.com/kylebarron/stata_kernel) instead.)"
   ]
  },
  {
   "cell_type": "markdown",
   "metadata": {},
   "source": [
    "## Install"
   ]
  },
  {
   "cell_type": "markdown",
   "metadata": {},
   "source": [
    "To install, run:\n",
    "\n",
    "```sh\n",
    "pip install nbstata\n",
    "python -m nbstata.install [--sys-prefix] [--prefix PREFIX] [--conf-file]\n",
    "```\n",
    "\n",
    "Include `--sys-prefix` to install to `sys.prefix` (e.g. a virtualenv or conda env),\n",
    "or `--prefix PREFIX` if you want to specify the install path yourself.\n",
    "\n",
    "### Configuration file\n",
    "The `--conf-file` option creates a configuration file for you.\n",
    "(Note: If the installer cannot find the location of your Stata installation, a configuration file will be created \n",
    "even if you do not include the `--conf-file` option to allow you to manually specify the Stata location.) The location of the configuration file will be:\n",
    "\n",
    "- `[prefix]/etc/nbstata.conf` if `--sys-prefix` or `--prefix` is specified.\n",
    "-  `~/.nbstata.conf` otherwise.\n",
    "\n",
    "(Note: If a configuration file exists in both locations at kernel runtime, the user version takes precedence.)\n",
    "\n",
    "### Syntax highlighting\n",
    "Stata syntax highlighting can be installed for Jupyter Lab ([just as for stata_kernel](https://kylebarron.dev/stata_kernel/getting_started/#jupyter)):\n",
    "\n",
    "```sh\n",
    "conda install nodejs -c conda-forge --repodata-fn=repodata.json\n",
    "jupyter labextension install jupyterlab-stata-highlight\n",
    "```"
   ]
  },
  {
   "cell_type": "markdown",
   "metadata": {},
   "source": [
    "## Configuration"
   ]
  },
  {
   "cell_type": "markdown",
   "metadata": {},
   "source": [
    "The following settings are permitted inside the configuration file:\n",
    "\n",
    "- `stata_dir`: Stata installation directory.\n",
    "- `edition`: Stata edition. Acceptable values are 'be', 'se' and 'mp'.\n",
    "    Default is 'be'.\n",
    "- `graph_format`: Graph format. Acceptable values are 'png', 'pdf', 'svg' and 'pystata'.\n",
    "    Specify the last option if you want to use `nbstata`'s setting. Default is 'png'. \n",
    "- `echo`: controls the echo of commands, with the default being 'None':\n",
    "    - 'True': the kernel will echo all commands. \n",
    "    - 'False': the kernel will not echo single-line commands.\n",
    "    - 'None': the kernel will not echo any command. \n",
    "- `splash`: controls display of the splash message during Stata startup. Default is 'False'.\n",
    "- `missing`: What should be displayed in the output of the `*%browse` magic for a missing value. Default is '.', following Stata. To defer to pandas' format for `NA`, specify 'pandas'.\n",
    "\n",
    "Settings must be under the title `[nbstata]`. Example:\n",
    "\n",
    "```\n",
    "[nbstata]\n",
    "stata_dir = /opt/stata\n",
    "edition = mp\n",
    "graph_format = svg\n",
    "echo = True\n",
    "splash = False\n",
    "missing = NA\n",
    "```"
   ]
  },
  {
   "cell_type": "markdown",
   "metadata": {},
   "source": [
    "### Default Graph Format"
   ]
  },
  {
   "cell_type": "markdown",
   "metadata": {},
   "source": [
    "Both `pystata` and `stata_kernel` default to the SVG image format. \n",
    "`nbstata` defaults to the PNG image format instead for several reasons:\n",
    "\n",
    "- Jupyter does not show SVG images from untrusted notebooks ([link 1](https://stackoverflow.com/questions/68398033/svg-figures-hidden-in-jupyterlab-after-some-time)).\n",
    "- Notebooks with empty cells are untrusted ([link 2](https://github.com/jupyterlab/jupyterlab/issues/9765)).\n",
    "- SVG images cannot be copied and pasted directly into Word or PowerPoint."
   ]
  },
  {
   "cell_type": "markdown",
   "metadata": {},
   "source": [
    "## Magics"
   ]
  },
  {
   "cell_type": "markdown",
   "metadata": {},
   "source": [
    "Magics are commands that only work in `nbstata` and are not part of Stata's syntax. \n",
    "Magics normally start with `%`, but this will cause errors when the notebook\n",
    "is exported and run as a Stata script. As an alternative, you can prefix the \n",
    "magic name with `*%`, which will simply be treated by Stata as a single-line comment.\n",
    "\n",
    "`nbstata` currently supports the following magics:\n",
    "\n",
    "| Magic | Description | Full Syntax |\n",
    "| :-- | :-- | :-- |\n",
    "| `*%browse` | View dataset | `*%browse [-h] [N] [varlist] [if] [in]` |\n",
    "| `*%help` | Display a help file in rich text| `*%help [-h] command_or_topic_name` |\n",
    "| `*%echo` | Ensure echo in current cell | `*%echo` |\n",
    "| `*%noecho` | Suppress echo in current cell | `*%noecho` |\n",
    "| `*%quietly` | Suppress all output from current cell | `*%quietly` |"
   ]
  },
  {
   "cell_type": "markdown",
   "metadata": {},
   "source": [
    "## Stata Implementation Details"
   ]
  },
  {
   "cell_type": "markdown",
   "metadata": {},
   "source": [
    "### #delimit behavior"
   ]
  },
  {
   "cell_type": "markdown",
   "metadata": {},
   "source": [
    "A [`#delimit;`](https://www.stata.com/manuals/pdelimit.pdf) command in one cell will persist into other cells, until `#delimit cr` is called. For example, see [delimit tests.ipynb](https://github.com/hugetim/nbstata/blob/master/manual_test_nbs/delimit%20tests.ipynb). (If anyone desires each cell to instead be treated as a separate .do file, so that every cell defaults to `#delimit cr` at the start, please raise an Issue to request this as a configuration option.)"
   ]
  },
  {
   "cell_type": "markdown",
   "metadata": {},
   "source": [
    "## Contributing"
   ]
  },
  {
   "cell_type": "markdown",
   "metadata": {},
   "source": [
    "`nbstata` is being developed using [nbdev](https://nbdev.fast.ai/). The `/nbs` directory is where edits to the source code should be made. (The python code is then exported to the `/nbdev` library folder.) The one exception is `install.py`.\n",
    "\n",
    "The [@patch_to](https://fastcore.fast.ai/basics.html#patch_to) decorator is occasionally used to break up class definitions into separate cells.\n",
    "\n",
    "For more, see [CONTRIBUTING.md](https://github.com/hugetim/nbstata/blob/master/CONTRIBUTING.md)."
   ]
  },
  {
   "cell_type": "markdown",
   "metadata": {},
   "source": [
    "## Acknowledgements"
   ]
  },
  {
   "cell_type": "markdown",
   "metadata": {},
   "source": [
    "Kyle Barron authored the original `stata_kernel` and Vinci Chow carried that work forward for Stata 17, converting the backend to use [pystata](https://www.stata.com/python/pystata/). `nbstata` is directly derived from his [pystata-kernel](https://github.com/ticoneva/pystata-kernel)."
   ]
  }
 ],
 "metadata": {
  "kernelspec": {
   "display_name": "Python 3 (ipykernel)",
   "language": "python",
   "name": "python3"
  }
 },
 "nbformat": 4,
 "nbformat_minor": 4
}
