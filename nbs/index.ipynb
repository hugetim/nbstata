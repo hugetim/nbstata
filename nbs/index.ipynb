{
 "cells": [
  {
   "cell_type": "markdown",
   "metadata": {},
   "source": [
    "# nbstata: a new Stata kernel\n",
    "\n",
    "> A Jupyter kernel for Stata built on pystata"
   ]
  },
  {
   "cell_type": "markdown",
   "metadata": {},
   "source": [
    "&nbsp;\n",
    "\n",
    "*nbstata* is a [Jupyter kernel](https://docs.jupyter.org/en/latest/projects/kernels.html) for [Stata](https://www.stata.com/why-use-stata/) built on top of [pystata](https://www.stata.com/python/pystata18/index.html)."
   ]
  },
  {
   "cell_type": "markdown",
   "metadata": {},
   "source": [
    "**[*For the User Guide, click here.*](https://hugetim.github.io/nbstata/user_guide.html)**\n",
    "\n",
    "&nbsp;"
   ]
  },
  {
   "cell_type": "markdown",
   "metadata": {},
   "source": [
    "## What is Jupyter?"
   ]
  },
  {
   "cell_type": "markdown",
   "metadata": {},
   "source": [
    "A Jupyter notebook allows you to combine interactive code and results with [Markdown](https://daringfireball.net/projects/markdown/basics) in a single document. Though it is named after the three core programming languages it supports (Julia, Python, and R), it can be used with with a wide variety of languages. \n",
    "\n",
    "*nbstata* allows you to create Stata notebooks (as opposed to [using Stata within a *Python* notebook](https://www.stata.com/python/pystata18/notebook/Example2.html), which is needlessly clunky if you are working primarily with Stata)."
   ]
  },
  {
   "cell_type": "markdown",
   "metadata": {},
   "source": [
    "### Key *nbstata* features\n",
    "\n",
    "- [x] [Easy setup](https://hugetim.github.io/nbstata/user_guide.html#install)\n",
    "- [x] Works with Stata 17+ (only).\n",
    "- [x] DataGrid widget with `browse`-like capabilities (e.g., interactive filtering)\n",
    "- [x] Variable and data properties available in a 'contextual help' side panel\n",
    "- [x] Quarto [inline code](https://quarto.org/docs/computations/inline-code.html) support\n",
    "\n",
    "Users of Stata 17 or 18.0 also get these features only built-in natively to Stata 18.5+:\n",
    "\n",
    "- Displays Stata output without the redundant 'echo' of (multi-line) commands\n",
    "- Autocompletion for variables, macros, matrices, and file paths\n",
    "- Interactive/richtext help files accessible within notebook\n",
    "- `#delimit ;` interactive support (along with all types of comments)"
   ]
  },
  {
   "cell_type": "markdown",
   "metadata": {},
   "source": [
    "The video below demonstrates using Stata in a Jupyter notebook. In addition to the [NBClassic](https://nbclassic.readthedocs.io/en/stable/notebook.html) application shown there, *nbstata* can also be used with [JupyterLab](https://jupyterlab.readthedocs.io/en/stable/getting_started/overview.html), [VS Code](https://code.visualstudio.com/docs/datascience/jupyter-notebooks), or [Quarto](https://quarto.org/).\n",
    "\n",
    "<img align=\"center\" width=\"650\" src=\"https://github.com/kylebarron/stata_kernel/raw/master/docs/src/img/jupyter_notebook_example.gif\" alt=\"Animated GIF demoing major Stata kernel features\">"
   ]
  },
  {
   "cell_type": "markdown",
   "metadata": {},
   "source": [
    "### What can you do with Stata notebooks...\n",
    "...that you can't do with the [official Stata interface](https://www.stata.com/features/overview/graphical-user-interface/)?\n",
    "\n",
    "* Exploratory analysis that is both:\n",
    "    * interactive\n",
    "    * preserved for future reference/editing"
   ]
  },
  {
   "cell_type": "markdown",
   "metadata": {},
   "source": [
    "* Present results in a way that interweaves:[^1]\n",
    "    * code\n",
    "    * results (including graphs)\n",
    "    * rich text: \n",
    "        1. lists\n",
    "        2. **Headings**\n",
    "        3. <img align=\"left\" width=\"54\" height=\"18.6\" src=\"https://raw.githubusercontent.com/hugetim/nbstata/master/index_files/figure-commonmark/226326ec-1-image-2.png\" alt=\"WordArt of the word 'images'\">\n",
    "        4. [links](https://hugetim.github.io/nbstata/) \n",
    "        5. math: $y_{it}=\\beta_0+\\varepsilon_{it}$\n",
    "\n",
    "[^1]: Stata [dynamic documents](https://www.stata.com/manuals/rptdynamicdocumentsintro.pdf) can do this part, though with a less interactive workflow. (See also: [markstat](https://grodri.github.io/markstat/), [stmd](https://www.ssc.wisc.edu/~hemken/Stataworkshops/stmd/Usage/stmdusage.html), and [Statamarkdown](https://ssc.wisc.edu/~hemken/Stataworkshops/Statamarkdown/stata-and-r-markdown.html)) Using *nbstata* with [Quarto](https://www.statalist.org/forums/forum/general-stata-discussion/general/1703835-ado-files-and-literate-programming) instead gives you a similar workflow, with greater flexibility of output."
   ]
  },
  {
   "cell_type": "markdown",
   "metadata": {},
   "source": [
    "## Contributing"
   ]
  },
  {
   "cell_type": "markdown",
   "metadata": {},
   "source": [
    "*nbstata* is being developed using [nbdev](https://nbdev.fast.ai/blog/posts/2022-07-28-nbdev2/#whats-nbdev). The `/nbs` directory is where edits to the source code should be made. (The python code is then exported to the `/nbdev` library folder.)\n",
    "\n",
    "For more, see [CONTRIBUTING.md](https://github.com/hugetim/nbstata/blob/master/CONTRIBUTING.md)."
   ]
  },
  {
   "cell_type": "markdown",
   "metadata": {},
   "source": [
    "## Acknowledgements"
   ]
  },
  {
   "cell_type": "markdown",
   "metadata": {},
   "source": [
    "Kyle Barron authored the original *stata_kernel*, which works for older versions of Stata. Vinci Chow created a Stata kernel that instead uses [pystata](https://www.stata.com/python/pystata18/), which first became available with Stata 17. *nbstata* was originally derived from his [*pystata-kernel*](https://github.com/ticoneva/pystata-kernel), but much of the docs and newer features are derived from *stata_kernel*."
   ]
  }
 ],
 "metadata": {
  "kernelspec": {
   "display_name": "python3",
   "language": "python",
   "name": "python3"
  }
 },
 "nbformat": 4,
 "nbformat_minor": 4
}
