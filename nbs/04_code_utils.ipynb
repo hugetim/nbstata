{
 "cells": [
  {
   "cell_type": "markdown",
   "metadata": {},
   "source": [
    "# code_utils\n",
    "\n",
    "> Stata-related helper functions with no Jupyter or pystata dependence"
   ]
  },
  {
   "cell_type": "markdown",
   "metadata": {},
   "source": [
    "These are mostly intended for use in the `noecho` module."
   ]
  },
  {
   "cell_type": "code",
   "execution_count": null,
   "metadata": {},
   "outputs": [],
   "source": [
    "#| default_exp code_utils\n",
    "%load_ext autoreload\n",
    "%autoreload 2"
   ]
  },
  {
   "cell_type": "code",
   "execution_count": null,
   "metadata": {},
   "outputs": [],
   "source": [
    "#| hide\n",
    "from nbdev.showdoc import *"
   ]
  },
  {
   "cell_type": "code",
   "execution_count": null,
   "metadata": {},
   "outputs": [],
   "source": [
    "#| export\n",
    "import re"
   ]
  },
  {
   "cell_type": "code",
   "execution_count": null,
   "metadata": {},
   "outputs": [],
   "source": [
    "from fastcore.test import test_eq\n",
    "from textwrap import dedent"
   ]
  },
  {
   "cell_type": "markdown",
   "metadata": {},
   "source": [
    "## Handling Stata comments and `#delimit;`"
   ]
  },
  {
   "cell_type": "code",
   "execution_count": null,
   "metadata": {},
   "outputs": [],
   "source": [
    "#| export\n",
    "\n",
    "# Detect comments spanning multiple lines\n",
    "comment_regex = re.compile(r'(((?: |\\t)\\/\\/\\/)(.)*(\\n|\\r)|(\\/\\*)(.|\\s)*?(\\*\\/))')\n",
    "\n",
    "def _remove_multi_line_comments(code):\n",
    "    return comment_regex.sub(' ',code)"
   ]
  },
  {
   "cell_type": "code",
   "execution_count": null,
   "metadata": {},
   "outputs": [
    {
     "data": {
      "text/markdown": [
       "---\n",
       "\n",
       "[source](https://github.com/hugetim/nbstata/blob/main/nbstata/utils.py#L17){target=\"_blank\" style=\"float:right; font-size:smaller\"}\n",
       "\n",
       "### _remove_multi_line_comments\n",
       "\n",
       ">      _remove_multi_line_comments (code)"
      ],
      "text/plain": [
       "---\n",
       "\n",
       "[source](https://github.com/hugetim/nbstata/blob/main/nbstata/utils.py#L17){target=\"_blank\" style=\"float:right; font-size:smaller\"}\n",
       "\n",
       "### _remove_multi_line_comments\n",
       "\n",
       ">      _remove_multi_line_comments (code)"
      ]
     },
     "execution_count": null,
     "metadata": {},
     "output_type": "execute_result"
    }
   ],
   "source": [
    "show_doc(_remove_multi_line_comments)"
   ]
  },
  {
   "cell_type": "code",
   "execution_count": null,
   "metadata": {},
   "outputs": [],
   "source": [
    "test_eq(\n",
    "    _remove_multi_line_comments(dedent(\"\"\"\\\n",
    "        disp ///\n",
    "        1\"\"\")),\n",
    "    \"disp 1\")"
   ]
  },
  {
   "cell_type": "markdown",
   "metadata": {},
   "source": [
    "Correctly ignores \"///\" when not preceded by a space:"
   ]
  },
  {
   "cell_type": "code",
   "execution_count": null,
   "metadata": {},
   "outputs": [],
   "source": [
    "test_eq(\n",
    "    _remove_multi_line_comments(dedent(\"\"\"\\\n",
    "        disp///\n",
    "        1\n",
    "        \"\"\")),\n",
    "    dedent(\"\"\"\\\n",
    "        disp///\n",
    "        1\n",
    "        \"\"\")\n",
    ")"
   ]
  },
  {
   "cell_type": "code",
   "execution_count": null,
   "metadata": {},
   "outputs": [],
   "source": [
    "test_eq(\n",
    "    _remove_multi_line_comments(dedent(\"\"\"\\\n",
    "        /*\n",
    "        blah\n",
    "        blah\n",
    "        */\n",
    "        list var\n",
    "        \"\"\")),\n",
    "    \"\"\"\\\n",
    " \n",
    "list var\n",
    "\"\"\"\n",
    ")"
   ]
  },
  {
   "cell_type": "code",
   "execution_count": null,
   "metadata": {},
   "outputs": [],
   "source": [
    "#| export\n",
    "delimit_regex = re.compile(r'#delimit(.*$)', flags=re.MULTILINE)\n",
    "def _replace_delimiter(code, sc_delimiter=False):\n",
    "    # Recursively replace custom delimiter with newline\n",
    "\n",
    "    split = delimit_regex.split(code.strip(),maxsplit=1)\n",
    "\n",
    "    if len(split) == 3:\n",
    "        before = split[0]\n",
    "        after = _replace_delimiter(split[2],split[1].strip())\n",
    "    else:\n",
    "        before = code\n",
    "        after = ''\n",
    "\n",
    "    if sc_delimiter:\n",
    "        before = before.replace('\\r', ' ').replace('\\n', ' ')\n",
    "        before = before.replace(';','\\n')\n",
    "\n",
    "    return before + after"
   ]
  },
  {
   "cell_type": "code",
   "execution_count": null,
   "metadata": {},
   "outputs": [
    {
     "data": {
      "text/markdown": [
       "---\n",
       "\n",
       "[source](https://github.com/hugetim/nbstata/blob/main/nbstata/utils.py#L22){target=\"_blank\" style=\"float:right; font-size:smaller\"}\n",
       "\n",
       "### _replace_delimiter\n",
       "\n",
       ">      _replace_delimiter (code, sc_delimiter=False)"
      ],
      "text/plain": [
       "---\n",
       "\n",
       "[source](https://github.com/hugetim/nbstata/blob/main/nbstata/utils.py#L22){target=\"_blank\" style=\"float:right; font-size:smaller\"}\n",
       "\n",
       "### _replace_delimiter\n",
       "\n",
       ">      _replace_delimiter (code, sc_delimiter=False)"
      ]
     },
     "execution_count": null,
     "metadata": {},
     "output_type": "execute_result"
    }
   ],
   "source": [
    "show_doc(_replace_delimiter)"
   ]
  },
  {
   "cell_type": "markdown",
   "metadata": {},
   "source": [
    "Note: the following more-complicated regex would detect valid delimiters plus macros: \n",
    "```python\n",
    "delimit_regex = re.compile(r'#delimit( |\\t)+(;|cr|`.+\\'|\\$_.+|\\$.+)')\n",
    "```\n",
    "but that's unnecessary, since Stata's `#delimit x` interprets any `x` other than 'cr' as switching the delimiter to ';'."
   ]
  },
  {
   "cell_type": "code",
   "execution_count": null,
   "metadata": {},
   "outputs": [],
   "source": [
    "test_eq(\n",
    "    _replace_delimiter(dedent(\"\"\"\\\n",
    "        list var1\n",
    "        #delimit;\n",
    "        list var2;list var3;\n",
    "        list\n",
    "        var4;\n",
    "        \"\"\")),\n",
    "    dedent(\"\"\"\\\n",
    "        list var1\n",
    "         list var2\n",
    "        list var3\n",
    "         list var4\n",
    "        \"\"\")\n",
    ")"
   ]
  },
  {
   "cell_type": "code",
   "execution_count": null,
   "metadata": {},
   "outputs": [],
   "source": [
    "#| export\n",
    "def _is_cr_delimiter(delimiter):\n",
    "    return delimiter in {'cr', None}"
   ]
  },
  {
   "cell_type": "code",
   "execution_count": null,
   "metadata": {},
   "outputs": [],
   "source": [
    "#| export\n",
    "def ending_sc_delimiter(code, sc_delimiter=False):\n",
    "    code = _remove_multi_line_comments(code)\n",
    "    # Recursively determine ending delimiter\n",
    "    split = delimit_regex.split(code.strip(),maxsplit=1)\n",
    "    if len(split) == 3:\n",
    "        sc_delimiter = ending_sc_delimiter(split[2], not _is_cr_delimiter(split[1].strip()))\n",
    "    elif len(split) == 2:\n",
    "        sc_delimiter = not _is_cr_delimiter(split[1].strip())\n",
    "    return sc_delimiter"
   ]
  },
  {
   "cell_type": "code",
   "execution_count": null,
   "metadata": {},
   "outputs": [],
   "source": [
    "test_eq(\n",
    "    ending_sc_delimiter(dedent(\"\"\"\\\n",
    "        list var1\n",
    "        #delimit;\n",
    "        list var2;list var3;\n",
    "        \"\"\")),\n",
    "    True)"
   ]
  },
  {
   "cell_type": "code",
   "execution_count": null,
   "metadata": {},
   "outputs": [],
   "source": [
    "test_eq(\n",
    "    ending_sc_delimiter(dedent(\"\"\"\\\n",
    "        /*\n",
    "        #delimit;\n",
    "        */\n",
    "        disp 1\n",
    "        disp 2\"\"\")),\n",
    "    False)"
   ]
  },
  {
   "cell_type": "code",
   "execution_count": null,
   "metadata": {},
   "outputs": [],
   "source": [
    "#| hide\n",
    "test_eq(\n",
    "    ending_sc_delimiter(dedent(\"\"\"\\\n",
    "        #delimit;\n",
    "        scalar\n",
    "        list x\"\"\")),\n",
    "    True)"
   ]
  },
  {
   "cell_type": "code",
   "execution_count": null,
   "metadata": {},
   "outputs": [],
   "source": [
    "#| export\n",
    "\n",
    "# Detect Multiple whitespace\n",
    "multi_regex = re.compile(r' +')\n",
    "\n",
    "def standardize_code(code, sc_delimiter=False):\n",
    "    \"\"\"Remove comments spanning multiple lines and replace custom delimiters\"\"\"\n",
    "    code = _remove_multi_line_comments(code)\n",
    "    \n",
    "    # After removing multi-line comments, which could include \"#delimit;\"\n",
    "    code = _replace_delimiter(code, sc_delimiter) \n",
    "    \n",
    "    # Replace multiple whitespace with one\n",
    "    code = multi_regex.sub(' ',code)\n",
    "    \n",
    "    # Delete blank lines and whitespace at start and end of lines\n",
    "    code_lines = code.splitlines()\n",
    "    std_lines = []\n",
    "    for code_line in code_lines:\n",
    "        cs = code_line.strip()\n",
    "        if cs:\n",
    "            std_lines.append(cs)\n",
    "    return '\\n'.join(std_lines)"
   ]
  },
  {
   "cell_type": "code",
   "execution_count": null,
   "metadata": {},
   "outputs": [],
   "source": [
    "test_eq(\n",
    "    standardize_code(dedent(\"\"\"\\\n",
    "        list var1\n",
    "        #delimit;\n",
    "        list var2; list var3;\n",
    "        list\n",
    "        var4;\n",
    "        \"\"\")), \n",
    "    dedent(\"\"\"\\\n",
    "        list var1\n",
    "        list var2\n",
    "        list var3\n",
    "        list var4\"\"\")\n",
    ")"
   ]
  },
  {
   "cell_type": "code",
   "execution_count": null,
   "metadata": {},
   "outputs": [],
   "source": [
    "test_eq(\n",
    "    standardize_code(dedent(\"\"\"\\\n",
    "        /*\n",
    "        blah\n",
    "        blah\n",
    "        */\n",
    "        list var\n",
    "        \"\"\")), \n",
    "    \"list var\")"
   ]
  },
  {
   "cell_type": "code",
   "execution_count": null,
   "metadata": {},
   "outputs": [],
   "source": [
    "#| hide\n",
    "test_eq(\n",
    "    standardize_code(dedent(\"\"\"\\\n",
    "        /*\n",
    "        #delimit;\n",
    "        */\n",
    "        disp 1\n",
    "        disp 2\n",
    "        \"\"\")), \n",
    "    dedent(\"\"\"\\\n",
    "        disp 1\n",
    "        disp 2\"\"\")\n",
    ")"
   ]
  },
  {
   "cell_type": "code",
   "execution_count": null,
   "metadata": {},
   "outputs": [],
   "source": [
    "#| hide\n",
    "test_eq(\n",
    "    standardize_code(dedent(\"\"\"\\\n",
    "        disp ///\n",
    "        1\n",
    "        \"\"\")),\n",
    "    \"disp 1\")"
   ]
  },
  {
   "cell_type": "code",
   "execution_count": null,
   "metadata": {},
   "outputs": [],
   "source": [
    "test_eq(\n",
    "    standardize_code(dedent(\"\"\"\\\n",
    "        disp /// comment\n",
    "        1\n",
    "        \"\"\")),\n",
    "    \"disp 1\")"
   ]
  },
  {
   "cell_type": "code",
   "execution_count": null,
   "metadata": {},
   "outputs": [],
   "source": [
    "#| hide\n",
    "test_eq(\n",
    "    standardize_code(dedent(\"\"\"\\\n",
    "        list var\n",
    "        \"\"\")), \n",
    "    \"list var\")"
   ]
  },
  {
   "cell_type": "code",
   "execution_count": null,
   "metadata": {},
   "outputs": [],
   "source": [
    "test_eq(standardize_code(\"list    var\"), \"list var\")"
   ]
  },
  {
   "cell_type": "markdown",
   "metadata": {},
   "source": [
    "## Separate out Stata program code\n",
    "...because [such code](https://www.stata.com/manuals/pprogram.pdf) (as well as [python](https://www.stata.com/stata-news/news35-3/python-blogs/)/[mata](https://www.stata.com/manuals/m-1first.pdf) blocks) is unsuitable for `run_as_program`"
   ]
  },
  {
   "cell_type": "code",
   "execution_count": null,
   "metadata": {},
   "outputs": [],
   "source": [
    "#| export\n",
    "def _startswith_stata_abbrev(string, full_command, shortest_abbrev):\n",
    "    for j in range(len(shortest_abbrev), len(full_command)+1):\n",
    "        if string.startswith(full_command[0:j] + ' '):\n",
    "            return True\n",
    "    return False"
   ]
  },
  {
   "cell_type": "code",
   "execution_count": null,
   "metadata": {},
   "outputs": [],
   "source": [
    "#| hide\n",
    "test_eq(_startswith_stata_abbrev(\"q list var\", \"quietly\", \"q\"), True)\n",
    "test_eq(_startswith_stata_abbrev(\"qui list var\", \"quietly\", \"q\"), True)"
   ]
  },
  {
   "cell_type": "code",
   "execution_count": null,
   "metadata": {},
   "outputs": [],
   "source": [
    "#| export\n",
    "def _remove_prog_prefixes(cs):\n",
    "    if (_startswith_stata_abbrev(cs, 'quietly', 'qui')\n",
    "        or cs.startswith('capture ')\n",
    "        or _startswith_stata_abbrev(cs, 'noisily', 'n')):\n",
    "        return _remove_prog_prefixes(cs.split(None, maxsplit=1)[1])\n",
    "    else:\n",
    "        return cs"
   ]
  },
  {
   "cell_type": "code",
   "execution_count": null,
   "metadata": {},
   "outputs": [],
   "source": [
    "#| hide\n",
    "test_eq(_remove_prog_prefixes(\"capture noisily program test_program\"), \"program test_program\")"
   ]
  },
  {
   "cell_type": "code",
   "execution_count": null,
   "metadata": {},
   "outputs": [],
   "source": [
    "#| export\n",
    "def is_start_of_program_block(std_code_line):\n",
    "    cs = _remove_prog_prefixes(std_code_line)\n",
    "    _starts_program = (_startswith_stata_abbrev(cs, 'program', 'pr')\n",
    "                       and not (cs == 'program di'\n",
    "                                or cs == 'program dir'\n",
    "                                or cs.startswith('program drop ')\n",
    "                                or _startswith_stata_abbrev(cs, 'program list', 'program l')))\n",
    "    return (_starts_program\n",
    "            or (cs in {'mata', 'mata:'})\n",
    "            or (cs in {'python', 'python:'}))"
   ]
  },
  {
   "cell_type": "code",
   "execution_count": null,
   "metadata": {},
   "outputs": [],
   "source": [
    "test_eq(is_start_of_program_block(\"capture noisily program test_program\"), True)\n",
    "test_eq(is_start_of_program_block(\"capture noisily list var\"), False)"
   ]
  },
  {
   "cell_type": "code",
   "execution_count": null,
   "metadata": {},
   "outputs": [],
   "source": [
    "#| export\n",
    "def break_out_prog_blocks(code, sc_delimiter=False):\n",
    "    std_code_lines = standardize_code(code, sc_delimiter).splitlines()\n",
    "    return list(_prog_blocks(std_code_lines))"
   ]
  },
  {
   "cell_type": "code",
   "execution_count": null,
   "metadata": {},
   "outputs": [],
   "source": [
    "#| export\n",
    "def _prog_blocks(std_code_lines):\n",
    "    next_block_lines = []\n",
    "    in_program = False\n",
    "    for std_code_line in std_code_lines:         \n",
    "        if is_start_of_program_block(std_code_line):\n",
    "            if next_block_lines: # previous lines\n",
    "                yield _block(next_block_lines, is_prog=in_program)\n",
    "                next_block_lines = []\n",
    "            in_program = True\n",
    "        next_block_lines.append(std_code_line)\n",
    "        if std_code_line == 'end': # regardless of whether in_program\n",
    "            yield _block(next_block_lines, is_prog=True)\n",
    "            next_block_lines = []\n",
    "            in_program = False\n",
    "    if next_block_lines:\n",
    "        yield _block(next_block_lines, in_program)\n",
    "        \n",
    "\n",
    "def _block(block_lines, is_prog):\n",
    "    return {\"is_prog\": is_prog, \"std_code\": '\\n'.join(block_lines)}"
   ]
  },
  {
   "cell_type": "code",
   "execution_count": null,
   "metadata": {},
   "outputs": [],
   "source": [
    "test_eq(\n",
    "    break_out_prog_blocks(dedent('''\\\n",
    "        capture program drop ender\n",
    "        program define ender\n",
    "            disp \"ender output\"\n",
    "        end\n",
    "        capture program drop display2\n",
    "        program define display2\n",
    "            ender\n",
    "        end\n",
    "        display2\n",
    "        ''')),\n",
    "    [{'is_prog': False, 'std_code': 'capture program drop ender'},\n",
    "     {'is_prog': True,\n",
    "      'std_code': 'program define ender\\ndisp \"ender output\"\\nend'},\n",
    "     {'is_prog': False, 'std_code': 'capture program drop display2'},\n",
    "     {'is_prog': True, 'std_code': 'program define display2\\nender\\nend'},\n",
    "     {'is_prog': False, 'std_code': 'display2'}]\n",
    ")"
   ]
  },
  {
   "cell_type": "code",
   "execution_count": null,
   "metadata": {},
   "outputs": [],
   "source": [
    "#| hide\n",
    "test_eq(\n",
    "    break_out_prog_blocks(dedent('''\\\n",
    "        program define ender\n",
    "            disp \"ender output\"\n",
    "        ''')),\n",
    "    [{'is_prog': True,\n",
    "      'std_code': 'program define ender\\ndisp \"ender output\"'}]\n",
    ")"
   ]
  },
  {
   "cell_type": "code",
   "execution_count": null,
   "metadata": {},
   "outputs": [],
   "source": [
    "#| hide\n",
    "import nbdev; nbdev.nbdev_export()"
   ]
  }
 ],
 "metadata": {
  "kernelspec": {
   "display_name": "Python 3 (ipykernel)",
   "language": "python",
   "name": "python3"
  }
 },
 "nbformat": 4,
 "nbformat_minor": 4
}
