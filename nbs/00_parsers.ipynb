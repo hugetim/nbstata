{
 "cells": [
  {
   "cell_type": "markdown",
   "metadata": {},
   "source": [
    "# parsers\n",
    "\n",
    "> Stata-related helper functions with no Jupyter or pystata dependence"
   ]
  },
  {
   "cell_type": "code",
   "execution_count": null,
   "metadata": {},
   "outputs": [],
   "source": [
    "#| default_exp parsers\n",
    "%load_ext autoreload\n",
    "%autoreload 2"
   ]
  },
  {
   "cell_type": "code",
   "execution_count": null,
   "metadata": {},
   "outputs": [],
   "source": [
    "#| hide\n",
    "from nbdev.showdoc import *\n",
    "from fastcore.test import test_eq"
   ]
  },
  {
   "cell_type": "code",
   "execution_count": null,
   "metadata": {},
   "outputs": [],
   "source": [
    "#| export\n",
    "import re"
   ]
  },
  {
   "cell_type": "code",
   "execution_count": null,
   "metadata": {},
   "outputs": [],
   "source": [
    "#| export\n",
    "parse_code_if_in_regex = re.compile(\n",
    "    r'\\A(?P<code>(?!if\\s)(?!\\sif)(?!in\\s)(?!\\sin).+?)?(?P<if>\\s*if\\s+.+?)?(?P<in>\\s*in\\s.+?)?\\Z',\n",
    "    flags=re.DOTALL + re.MULTILINE\n",
    ")"
   ]
  },
  {
   "cell_type": "code",
   "execution_count": null,
   "metadata": {},
   "outputs": [],
   "source": [
    "#| export\n",
    "def parse_code_if_in(code):\n",
    "    \"\"\"Parse line of Stata code into code, if, in\"\"\"\n",
    "    match = parse_code_if_in_regex.match(code.strip())\n",
    "    if match:\n",
    "        args = match.groupdict()\n",
    "        for k in args:\n",
    "            args[k] = args[k] if isinstance(args[k],str) else ''   \n",
    "    else:\n",
    "        args = {'code':code,\n",
    "                'if':'',\n",
    "                'in':''}    \n",
    "    return args"
   ]
  },
  {
   "cell_type": "code",
   "execution_count": null,
   "metadata": {},
   "outputs": [],
   "source": [
    "code = \"list var1 if var1==0 in 1/10\"\n",
    "test_eq(parse_code_if_in(code), {'code': 'list var1', 'if': ' if var1==0', 'in': ' in 1/10'})"
   ]
  },
  {
   "cell_type": "markdown",
   "metadata": {},
   "source": [
    "Not robust to reversing the if/in order:"
   ]
  },
  {
   "cell_type": "code",
   "execution_count": null,
   "metadata": {},
   "outputs": [
    {
     "data": {
      "text/plain": [
       "{'code': 'list var1', 'if': '', 'in': ' in 1/10 if var1==0'}"
      ]
     },
     "execution_count": null,
     "metadata": {},
     "output_type": "execute_result"
    }
   ],
   "source": [
    "parse_code_if_in(\"list var1 in 1/10 if var1==0\")"
   ]
  },
  {
   "cell_type": "code",
   "execution_count": null,
   "metadata": {},
   "outputs": [],
   "source": [
    "#| export\n",
    "def in_range(stata_in_code):\n",
    "    \"\"\"Return in-statement range\"\"\"    \n",
    "    stata_range_code = stata_in_code.replace(' in ','').strip()\n",
    "    slash_pos = stata_range_code.find('/')\n",
    "    if slash_pos == -1:\n",
    "        return (None, None)\n",
    "    start = stata_range_code[:slash_pos]\n",
    "    end = stata_range_code[slash_pos+1:]\n",
    "    if start.strip() == 'f': start = 1\n",
    "    if end.strip() == 'l': end = count()\n",
    "    return (int(start)-1, int(end))"
   ]
  },
  {
   "cell_type": "code",
   "execution_count": null,
   "metadata": {},
   "outputs": [],
   "source": [
    "test_eq(in_range(\" in 1/10\"), (0, 10))"
   ]
  },
  {
   "cell_type": "markdown",
   "metadata": {},
   "source": [
    "Non-default increments are not supported:"
   ]
  },
  {
   "cell_type": "code",
   "execution_count": null,
   "metadata": {},
   "outputs": [
    {
     "data": {
      "text/plain": [
       "(None, None)"
      ]
     },
     "execution_count": null,
     "metadata": {},
     "output_type": "execute_result"
    }
   ],
   "source": [
    "in_range(\" in 1(2)10\")"
   ]
  },
  {
   "cell_type": "code",
   "execution_count": null,
   "metadata": {},
   "outputs": [],
   "source": [
    "#| export\n",
    "class Selectvar():\n",
    "    \"\"\"Class for generating Stata selectvar for getAsDict\"\"\"\n",
    "    \n",
    "    varname = None\n",
    "    \n",
    "    def __init__(self, stata_if_code):\n",
    "        condition = stata_if_code.replace('if ', '', 1).strip()\n",
    "        if condition:\n",
    "            cmd = f\"tempvar __selectionVar\\ngenerate `__selectionVar' = cond({condition},1,0)\"\n",
    "            pystata.stata.run(cmd, quietly=True)      \n",
    "            self.varname = sfi.Macro.getLocal(\"__selectionVar\")  \n",
    "\n",
    "    def clear(self):\n",
    "        \"\"\"Remove temporary selectvar from Stata dataset\"\"\"\n",
    "        if self.varname != None:\n",
    "            pystata.stata.run(f\"capture drop {self.varname}\", quietly=True)  "
   ]
  },
  {
   "cell_type": "markdown",
   "metadata": {},
   "source": [
    "`Selectvar.varname` is a temp. Stata variable for use in `sfi.Data.getAsDict`"
   ]
  },
  {
   "cell_type": "code",
   "execution_count": null,
   "metadata": {},
   "outputs": [
    {
     "data": {
      "text/markdown": [
       "---\n",
       "\n",
       "[source](https://github.com/hugetim/nbstata/blob/main/nbstata/helpers.py#L38){target=\"_blank\" style=\"float:right; font-size:smaller\"}\n",
       "\n",
       "### Selectvar.clear\n",
       "\n",
       ">      Selectvar.clear ()\n",
       "\n",
       "Remove temporary selectvar from Stata dataset"
      ],
      "text/plain": [
       "---\n",
       "\n",
       "[source](https://github.com/hugetim/nbstata/blob/main/nbstata/helpers.py#L38){target=\"_blank\" style=\"float:right; font-size:smaller\"}\n",
       "\n",
       "### Selectvar.clear\n",
       "\n",
       ">      Selectvar.clear ()\n",
       "\n",
       "Remove temporary selectvar from Stata dataset"
      ]
     },
     "execution_count": null,
     "metadata": {},
     "output_type": "execute_result"
    }
   ],
   "source": [
    "show_doc(Selectvar.clear)"
   ]
  },
  {
   "cell_type": "code",
   "execution_count": null,
   "metadata": {},
   "outputs": [],
   "source": [
    "#| export\n",
    "### Regex's for clean_code() ###\n",
    "# Detect delimiter. This would detect valid delimiters plus macros:\n",
    "# delimit_regex = re.compile(r'#delimit( |\\t)+(;|cr|`.+\\'|\\$_.+|\\$.+)')\n",
    "# but it's unnecessary, since Stata's #delimit x interprets any x other \n",
    "# than 'cr' as switching the delimiter to ';'.\n",
    "delimit_regex = re.compile(r'#delimit(.*$)', flags=re.MULTILINE)\n",
    "# Detect comments spanning multiple lines\n",
    "comment_regex = re.compile(r'((\\/\\/\\/)(.)*(\\n|\\r)|(\\/\\*)(.|\\s)*?(\\*\\/))')\n",
    "# Detect left Whitespace\n",
    "left_regex = re.compile(r'\\n +')\n",
    "# Detect Multiple whitespace\n",
    "multi_regex = re.compile(r' +')\n",
    "\n",
    "def clean_code(code, noisily=False):\n",
    "    \"\"\"\n",
    "    Remove comments spanning multiple lines and replace custom delimiters\n",
    "    \"\"\"\n",
    "    \n",
    "    def _replace_delimiter(code,delimiter=None):\n",
    "        # Recursively replace custom delimiter with newline\n",
    "        \n",
    "        split = delimit_regex.split(code.strip(),maxsplit=1)\n",
    "\n",
    "        if len(split) == 3:\n",
    "            before = split[0]\n",
    "            after = _replace_delimiter(split[2],split[1].strip())\n",
    "        else:\n",
    "            before = code\n",
    "            after = ''\n",
    "            \n",
    "        if delimiter != 'cr' and delimiter != None:\n",
    "            before = before.replace('\\r', '').replace('\\n', '')\n",
    "            before = before.replace(';','\\n')\n",
    "\n",
    "        return before + after\n",
    "\n",
    "    # Apply custom delimiter\n",
    "    code = _replace_delimiter(code)\n",
    "    \n",
    "    # Delete comments spanning multiple lines\n",
    "    code = comment_regex.sub(' ',code)\n",
    "    \n",
    "    # Delete whitespace at start of line\n",
    "    code = left_regex.sub('\\n',code)\n",
    "    \n",
    "    # Replace multiple whitespace with one\n",
    "    code = multi_regex.sub(' ',code)\n",
    "\n",
    "    # Add 'noisily' to each newline\n",
    "    if noisily:\n",
    "        cl = code.splitlines()\n",
    "        co = []\n",
    "        in_program = False\n",
    "        for c in cl:\n",
    "            cs = c.strip()\n",
    "\n",
    "            # Are we starting a program definition?\n",
    "            if  'program define' in cs:\n",
    "                in_program = True\n",
    "\n",
    "            if not (cs.startswith('quietly') \n",
    "                    or cs.startswith('noisily') \n",
    "                    or cs.startswith('}')\n",
    "                    or cs.startswith('forv')\n",
    "                    or cs.startswith('foreach')\n",
    "                    or cs.startswith('while')\n",
    "                    or in_program):\n",
    "                c = 'noisily ' + c\n",
    "            co.append(c)\n",
    "\n",
    "            # Are we ending a program definition?\n",
    "            if cs.startswith('end'):\n",
    "                in_program = False\n",
    "\n",
    "        code = '\\n'.join(co)\n",
    "    \n",
    "    return code"
   ]
  },
  {
   "cell_type": "code",
   "execution_count": null,
   "metadata": {},
   "outputs": [],
   "source": [
    "#| hide\n",
    "import nbdev; nbdev.nbdev_export()"
   ]
  }
 ],
 "metadata": {
  "kernelspec": {
   "display_name": "Python 3 (ipykernel)",
   "language": "python",
   "name": "python3"
  }
 },
 "nbformat": 4,
 "nbformat_minor": 4
}
