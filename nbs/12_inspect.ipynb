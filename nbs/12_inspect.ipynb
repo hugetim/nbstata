{
 "cells": [
  {
   "cell_type": "markdown",
   "id": "2c184729",
   "metadata": {},
   "source": [
    "# inspect\n",
    "\n",
    "> Provides output for kernel.do_inspect()\n",
    "- order: 12"
   ]
  },
  {
   "cell_type": "code",
   "execution_count": null,
   "id": "c7fb586a",
   "metadata": {},
   "outputs": [],
   "source": [
    "#| default_exp inspect\n",
    "%load_ext autoreload\n",
    "%autoreload 2"
   ]
  },
  {
   "cell_type": "code",
   "execution_count": null,
   "id": "026b00b7",
   "metadata": {},
   "outputs": [],
   "source": [
    "#| hide\n",
    "from nbdev.showdoc import *"
   ]
  },
  {
   "cell_type": "code",
   "execution_count": null,
   "id": "4b35edd5",
   "metadata": {},
   "outputs": [],
   "source": [
    "#| export\n",
    "from nbstata.stata_more import run_as_program, run_sfi, diverted_stata_output\n",
    "import functools"
   ]
  },
  {
   "cell_type": "code",
   "execution_count": null,
   "id": "21aadf85",
   "metadata": {},
   "outputs": [],
   "source": [
    "#| hide\n",
    "#| eval: false\n",
    "from nbstata.config import launch_stata"
   ]
  },
  {
   "cell_type": "code",
   "execution_count": null,
   "id": "88842fa8",
   "metadata": {},
   "outputs": [],
   "source": [
    "#| hide\n",
    "from fastcore.test import test_eq"
   ]
  },
  {
   "cell_type": "code",
   "execution_count": null,
   "id": "3a30220b",
   "metadata": {},
   "outputs": [],
   "source": [
    "#| export\n",
    "def get_inspect(code=\"\", cursor_pos=0, detail_level=0, omit_sections=()):\n",
    "    runner = functools.partial(run_as_program, prog_def_option_code=\"rclass\")\n",
    "    inspect_code = \"\"\"\n",
    "        disp _newline \"*** Stored results:\"\n",
    "        return list\n",
    "        ereturn list\n",
    "        return add\n",
    "        display \"*** Last updated `c(current_time)' `c(current_date)' ***\"\n",
    "        describe, fullnames\n",
    "        \"\"\"\n",
    "    raw_output = diverted_stata_output(inspect_code, runner=runner)\n",
    "    desc_start = raw_output.find('*** Last updated ')\n",
    "    out = raw_output[desc_start:]\n",
    "    if desc_start > 21:\n",
    "        out += raw_output[:desc_start]\n",
    "    return out"
   ]
  },
  {
   "cell_type": "code",
   "execution_count": null,
   "id": "b6044d98",
   "metadata": {},
   "outputs": [
    {
     "name": "stdout",
     "output_type": "stream",
     "text": [
      "\n",
      "Contains data\n",
      " Observations:             5                  \n",
      "    Variables:             1                  \n",
      "-------------------------------------------------------------------------------\n",
      "Variable      Storage   Display    Value\n",
      "    name         type    format    label      Variable label\n",
      "-------------------------------------------------------------------------------\n",
      "var1            float   %9.0g                 \n",
      "-------------------------------------------------------------------------------\n",
      "Sorted by: \n",
      "     Note: Dataset has changed since last saved.\n"
     ]
    }
   ],
   "source": [
    "#| eval: false\n",
    "launch_stata(splash=False)\n",
    "run_sfi(\"\"\"\\\n",
    "quietly set obs 5\n",
    "quietly gen var1 = _n > 3\n",
    "desc\"\"\")"
   ]
  },
  {
   "cell_type": "code",
   "execution_count": null,
   "id": "5aca08d7",
   "metadata": {},
   "outputs": [
    {
     "name": "stdout",
     "output_type": "stream",
     "text": [
      "*** Last updated 13:09:56  4 Feb 2023 ***\n",
      "\n",
      "Contains data\n",
      " Observations:             5                  \n",
      "    Variables:             1                  \n",
      "-------------------------------------------------------------------------------\n",
      "Variable      Storage   Display    Value\n",
      "    name         type    format    label      Variable label\n",
      "-------------------------------------------------------------------------------\n",
      "var1            float   %9.0g                 \n",
      "-------------------------------------------------------------------------------\n",
      "Sorted by: \n",
      "     Note: Dataset has changed since last saved.\n",
      "\n",
      "*** Stored results:\n",
      "\n",
      "scalars:\n",
      "            r(changed) =  1\n",
      "              r(width) =  4\n",
      "                  r(k) =  1\n",
      "                  r(N) =  5\n",
      "\n"
     ]
    }
   ],
   "source": [
    "#| eval: false\n",
    "print(get_inspect())"
   ]
  },
  {
   "cell_type": "code",
   "execution_count": null,
   "id": "f309af8c",
   "metadata": {},
   "outputs": [
    {
     "name": "stdout",
     "output_type": "stream",
     "text": [
      "\n",
      "scalars:\n",
      "                  r(N) =  5\n",
      "              r(sum_w) =  5\n",
      "               r(mean) =  .4\n",
      "                r(Var) =  .3\n",
      "                 r(sd) =  .5477225575051662\n",
      "                r(min) =  0\n",
      "                r(max) =  1\n",
      "                r(sum) =  2\n"
     ]
    }
   ],
   "source": [
    "#| hide\n",
    "#| eval: false\n",
    "run_sfi('quietly sum')\n",
    "run_sfi('return list')"
   ]
  },
  {
   "cell_type": "markdown",
   "id": "5b62f62b",
   "metadata": {},
   "source": [
    "#| hide\n",
    "\n",
    "The `r()` `return list` values remain unchanged, except that the display order is reversed for some reason--there seems to be no way to avoid that."
   ]
  },
  {
   "cell_type": "code",
   "execution_count": null,
   "id": "dc34470f",
   "metadata": {},
   "outputs": [
    {
     "name": "stdout",
     "output_type": "stream",
     "text": [
      "*** Last updated 13:09:57  4 Feb 2023 ***\n",
      "\n",
      "Contains data\n",
      " Observations:             5                  \n",
      "    Variables:             1                  \n",
      "-------------------------------------------------------------------------------\n",
      "Variable      Storage   Display    Value\n",
      "    name         type    format    label      Variable label\n",
      "-------------------------------------------------------------------------------\n",
      "var1            float   %9.0g                 \n",
      "-------------------------------------------------------------------------------\n",
      "Sorted by: \n",
      "     Note: Dataset has changed since last saved.\n",
      "\n",
      "*** Stored results:\n",
      "\n",
      "scalars:\n",
      "                r(sum) =  2\n",
      "                r(max) =  1\n",
      "                r(min) =  0\n",
      "                 r(sd) =  .5477225575051662\n",
      "                r(Var) =  .3\n",
      "               r(mean) =  .4\n",
      "              r(sum_w) =  5\n",
      "                  r(N) =  5\n",
      "\n"
     ]
    }
   ],
   "source": [
    "#| eval: false\n",
    "run_sfi('quietly sum')\n",
    "print(get_inspect())"
   ]
  },
  {
   "cell_type": "code",
   "execution_count": null,
   "id": "04aa748f",
   "metadata": {},
   "outputs": [
    {
     "name": "stdout",
     "output_type": "stream",
     "text": [
      "\n",
      "scalars:\n",
      "                r(sum) =  2\n",
      "                r(max) =  1\n",
      "                r(min) =  0\n",
      "                 r(sd) =  .5477225575051662\n",
      "                r(Var) =  .3\n",
      "               r(mean) =  .4\n",
      "              r(sum_w) =  5\n",
      "                  r(N) =  5\n"
     ]
    }
   ],
   "source": [
    "#| hide\n",
    "#| eval: false\n",
    "run_sfi('return list')"
   ]
  },
  {
   "cell_type": "code",
   "execution_count": null,
   "id": "5c9e9f90",
   "metadata": {},
   "outputs": [
    {
     "name": "stdout",
     "output_type": "stream",
     "text": [
      "*** Last updated 13:09:58  4 Feb 2023 ***\n",
      "\n",
      "Contains data\n",
      " Observations:             5                  \n",
      "    Variables:             1                  \n",
      "-------------------------------------------------------------------------------\n",
      "Variable      Storage   Display    Value\n",
      "    name         type    format    label      Variable label\n",
      "-------------------------------------------------------------------------------\n",
      "var1            float   %9.0g                 \n",
      "-------------------------------------------------------------------------------\n",
      "Sorted by: \n",
      "     Note: Dataset has changed since last saved.\n",
      "\n",
      "*** Stored results:\n",
      "\n",
      "matrices:\n",
      "              r(table) :  9 x 1\n",
      "\n",
      "scalars:\n",
      "                  e(N) =  5\n",
      "               e(df_m) =  0\n",
      "               e(df_r) =  4\n",
      "                  e(F) =  0\n",
      "                 e(r2) =  0\n",
      "               e(rmse) =  .5477225575051662\n",
      "                e(mss) =  0\n",
      "                e(rss) =  1.2\n",
      "               e(r2_a) =  0\n",
      "                 e(ll) =  -3.526901776922999\n",
      "               e(ll_0) =  -3.526901776922999\n",
      "               e(rank) =  1\n",
      "\n",
      "macros:\n",
      "            e(cmdline) : \"regress var1\"\n",
      "              e(title) : \"Linear regression\"\n",
      "          e(marginsok) : \"XB default\"\n",
      "                e(vce) : \"ols\"\n",
      "             e(depvar) : \"var1\"\n",
      "                e(cmd) : \"regress\"\n",
      "         e(properties) : \"b V\"\n",
      "            e(predict) : \"regres_p\"\n",
      "              e(model) : \"ols\"\n",
      "          e(estat_cmd) : \"regress_estat\"\n",
      "\n",
      "matrices:\n",
      "                  e(b) :  1 x 1\n",
      "                  e(V) :  1 x 1\n",
      "\n",
      "functions:\n",
      "             e(sample)   \n",
      "\n"
     ]
    }
   ],
   "source": [
    "#| eval: false\n",
    "run_sfi('quietly reg var1')\n",
    "print(get_inspect())"
   ]
  },
  {
   "cell_type": "code",
   "execution_count": null,
   "id": "5f5dc4cb",
   "metadata": {},
   "outputs": [],
   "source": [
    "#| eval: false\n",
    "run_sfi('clear all')\n",
    "test_eq(get_inspect()[43:],\"\"\"\\\n",
    "Contains data\n",
    " Observations:             0                  \n",
    "    Variables:             0                  \n",
    "Sorted by: \n",
    "\"\"\")"
   ]
  },
  {
   "cell_type": "code",
   "execution_count": null,
   "id": "1c6dd777",
   "metadata": {},
   "outputs": [],
   "source": [
    "#| hide\n",
    "import nbdev; nbdev.nbdev_export()"
   ]
  }
 ],
 "metadata": {
  "kernelspec": {
   "display_name": "Python 3 (ipykernel)",
   "language": "python",
   "name": "python3"
  }
 },
 "nbformat": 4,
 "nbformat_minor": 5
}
