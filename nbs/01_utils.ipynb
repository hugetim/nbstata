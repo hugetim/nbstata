{
 "cells": [
  {
   "cell_type": "markdown",
   "metadata": {},
   "source": [
    "# utils\n",
    "\n",
    "> Stata-related helper functions with no Jupyter or pystata dependence"
   ]
  },
  {
   "cell_type": "code",
   "execution_count": null,
   "metadata": {},
   "outputs": [],
   "source": [
    "#| default_exp utils\n",
    "%load_ext autoreload\n",
    "%autoreload 2"
   ]
  },
  {
   "cell_type": "code",
   "execution_count": null,
   "metadata": {},
   "outputs": [],
   "source": [
    "#| hide\n",
    "from nbdev.showdoc import *\n",
    "from fastcore.test import test_eq"
   ]
  },
  {
   "cell_type": "code",
   "execution_count": null,
   "metadata": {},
   "outputs": [],
   "source": [
    "#| export\n",
    "import re\n",
    "import sys\n",
    "import os"
   ]
  },
  {
   "cell_type": "markdown",
   "metadata": {},
   "source": [
    "## Stata code parsers"
   ]
  },
  {
   "cell_type": "code",
   "execution_count": null,
   "metadata": {},
   "outputs": [],
   "source": [
    "#| export\n",
    "parse_code_if_in_regex = re.compile(\n",
    "    r'\\A(?P<code>(?!if\\s)(?!\\sif)(?!in\\s)(?!\\sin).+?)?(?P<if>\\s*if\\s+.+?)?(?P<in>\\s*in\\s.+?)?\\Z',\n",
    "    flags=re.DOTALL + re.MULTILINE\n",
    ")"
   ]
  },
  {
   "cell_type": "code",
   "execution_count": null,
   "metadata": {},
   "outputs": [],
   "source": [
    "#| export\n",
    "def parse_code_if_in(code):\n",
    "    \"\"\"Parse line of Stata code into code, if, in\"\"\"\n",
    "    match = parse_code_if_in_regex.match(code.strip())\n",
    "    if match:\n",
    "        args = match.groupdict()\n",
    "        for k in args:\n",
    "            args[k] = args[k] if isinstance(args[k],str) else ''   \n",
    "    else:\n",
    "        args = {'code':code,\n",
    "                'if':'',\n",
    "                'in':''}    \n",
    "    return args"
   ]
  },
  {
   "cell_type": "code",
   "execution_count": null,
   "metadata": {},
   "outputs": [],
   "source": [
    "code = \"list var1 if var1==0 in 1/10\"\n",
    "test_eq(parse_code_if_in(code), {'code': 'list var1', 'if': ' if var1==0', 'in': ' in 1/10'})"
   ]
  },
  {
   "cell_type": "markdown",
   "metadata": {},
   "source": [
    "Not robust to reversing the if/in order:"
   ]
  },
  {
   "cell_type": "code",
   "execution_count": null,
   "metadata": {},
   "outputs": [
    {
     "data": {
      "text/plain": [
       "{'code': 'list var1', 'if': '', 'in': ' in 1/10 if var1==0'}"
      ]
     },
     "execution_count": null,
     "metadata": {},
     "output_type": "execute_result"
    }
   ],
   "source": [
    "parse_code_if_in(\"list var1 in 1/10 if var1==0\")"
   ]
  },
  {
   "cell_type": "code",
   "execution_count": null,
   "metadata": {},
   "outputs": [],
   "source": [
    "#| export\n",
    "def in_range(stata_in_code):\n",
    "    \"\"\"Return in-statement range\"\"\"    \n",
    "    stata_range_code = stata_in_code.replace(' in ','').strip()\n",
    "    slash_pos = stata_range_code.find('/')\n",
    "    if slash_pos == -1:\n",
    "        return (None, None)\n",
    "    start = stata_range_code[:slash_pos]\n",
    "    end = stata_range_code[slash_pos+1:]\n",
    "    if start.strip() == 'f': start = 1\n",
    "    if end.strip() == 'l': end = count()\n",
    "    return (int(start)-1, int(end))"
   ]
  },
  {
   "cell_type": "code",
   "execution_count": null,
   "metadata": {},
   "outputs": [],
   "source": [
    "test_eq(in_range(\" in 1/10\"), (0, 10))"
   ]
  },
  {
   "cell_type": "markdown",
   "metadata": {},
   "source": [
    "Non-default increments are not supported:"
   ]
  },
  {
   "cell_type": "code",
   "execution_count": null,
   "metadata": {},
   "outputs": [
    {
     "data": {
      "text/plain": [
       "(None, None)"
      ]
     },
     "execution_count": null,
     "metadata": {},
     "output_type": "execute_result"
    }
   ],
   "source": [
    "in_range(\" in 1(2)10\")"
   ]
  },
  {
   "cell_type": "code",
   "execution_count": null,
   "metadata": {},
   "outputs": [],
   "source": [
    "#| export\n",
    "class Selectvar():\n",
    "    \"\"\"Class for generating Stata selectvar for getAsDict\"\"\"\n",
    "    \n",
    "    varname = None\n",
    "    \n",
    "    def __init__(self, stata_if_code):\n",
    "        condition = stata_if_code.replace('if ', '', 1).strip()\n",
    "        if condition:\n",
    "            cmd = f\"tempvar __selectionVar\\ngenerate `__selectionVar' = cond({condition},1,0)\"\n",
    "            pystata.stata.run(cmd, quietly=True)      \n",
    "            self.varname = sfi.Macro.getLocal(\"__selectionVar\")  \n",
    "\n",
    "    def clear(self):\n",
    "        \"\"\"Remove temporary selectvar from Stata dataset\"\"\"\n",
    "        if self.varname != None:\n",
    "            pystata.stata.run(f\"capture drop {self.varname}\", quietly=True)  "
   ]
  },
  {
   "cell_type": "markdown",
   "metadata": {},
   "source": [
    "`Selectvar.varname` is a temp. Stata variable for use in `sfi.Data.getAsDict`"
   ]
  },
  {
   "cell_type": "code",
   "execution_count": null,
   "metadata": {},
   "outputs": [
    {
     "data": {
      "text/markdown": [
       "---\n",
       "\n",
       "[source](https://github.com/hugetim/nbstata/blob/main/nbstata/utils.py#L59){target=\"_blank\" style=\"float:right; font-size:smaller\"}\n",
       "\n",
       "### Selectvar.clear\n",
       "\n",
       ">      Selectvar.clear ()\n",
       "\n",
       "Remove temporary selectvar from Stata dataset"
      ],
      "text/plain": [
       "---\n",
       "\n",
       "[source](https://github.com/hugetim/nbstata/blob/main/nbstata/utils.py#L59){target=\"_blank\" style=\"float:right; font-size:smaller\"}\n",
       "\n",
       "### Selectvar.clear\n",
       "\n",
       ">      Selectvar.clear ()\n",
       "\n",
       "Remove temporary selectvar from Stata dataset"
      ]
     },
     "execution_count": null,
     "metadata": {},
     "output_type": "execute_result"
    }
   ],
   "source": [
    "show_doc(Selectvar.clear)"
   ]
  },
  {
   "cell_type": "code",
   "execution_count": null,
   "metadata": {},
   "outputs": [],
   "source": [
    "#| export\n",
    "\n",
    "# Detect comments spanning multiple lines\n",
    "comment_regex = re.compile(r'((\\/\\/\\/)(.)*(\\n|\\r)|(\\/\\*)(.|\\s)*?(\\*\\/))')\n",
    "\n",
    "def _remove_multi_line_comments(code):\n",
    "    return comment_regex.sub(' ',code)"
   ]
  },
  {
   "cell_type": "code",
   "execution_count": null,
   "metadata": {},
   "outputs": [],
   "source": [
    "test_eq(\n",
    "    _remove_multi_line_comments(\"\"\"disp ///\n",
    "1\"\"\"\n",
    "                    ),\n",
    "    \"disp  1\")"
   ]
  },
  {
   "cell_type": "code",
   "execution_count": null,
   "metadata": {},
   "outputs": [],
   "source": [
    "test_eq(\n",
    "    _remove_multi_line_comments(\"\"\"/*\n",
    "blah\n",
    "blah\n",
    "*/\n",
    "list var\"\"\"\n",
    "                  ), \n",
    "    \"\"\" \n",
    "list var\"\"\")"
   ]
  },
  {
   "cell_type": "markdown",
   "metadata": {},
   "source": [
    "Note: the following more-complicated regex would detect valid delimiters plus macros: \n",
    "```python\n",
    "delimit_regex = re.compile(r'#delimit( |\\t)+(;|cr|`.+\\'|\\$_.+|\\$.+)')\n",
    "```\n",
    "but that's unnecessary, since Stata's `#delimit x` interprets any `x` other than 'cr' as switching the delimiter to ';'."
   ]
  },
  {
   "cell_type": "code",
   "execution_count": null,
   "metadata": {},
   "outputs": [],
   "source": [
    "#| export\n",
    "def is_cr_delimiter(delimiter):\n",
    "    return delimiter in {'cr', None}"
   ]
  },
  {
   "cell_type": "code",
   "execution_count": null,
   "metadata": {},
   "outputs": [],
   "source": [
    "#| export\n",
    "delimit_regex = re.compile(r'#delimit(.*$)', flags=re.MULTILINE)\n",
    "def _replace_delimiter(code, starting_delimiter=None):\n",
    "    # Recursively replace custom delimiter with newline\n",
    "\n",
    "    split = delimit_regex.split(code.strip(),maxsplit=1)\n",
    "\n",
    "    if len(split) == 3:\n",
    "        before = split[0]\n",
    "        after = _replace_delimiter(split[2],split[1].strip())\n",
    "    else:\n",
    "        before = code\n",
    "        after = ''\n",
    "\n",
    "    if not is_cr_delimiter(starting_delimiter):\n",
    "        before = before.replace('\\r', '').replace('\\n', '')\n",
    "        before = before.replace(';','\\n')\n",
    "\n",
    "    return before + after"
   ]
  },
  {
   "cell_type": "code",
   "execution_count": null,
   "metadata": {},
   "outputs": [],
   "source": [
    "test_eq(\n",
    "    _replace_delimiter(\n",
    "        \"\"\"list var1\n",
    "#delimit;\n",
    "list var2;list var3\"\"\"\n",
    "                  ), \n",
    "    \"\"\"list var1\n",
    "list var2\n",
    "list var3\"\"\")"
   ]
  },
  {
   "cell_type": "code",
   "execution_count": null,
   "metadata": {},
   "outputs": [],
   "source": [
    "#| export\n",
    "def ending_delimiter(code, starting_delimiter=None):\n",
    "    code = _remove_multi_line_comments(code)\n",
    "    # Recursively determine ending delimiter\n",
    "    split = delimit_regex.split(code.strip(),maxsplit=1)\n",
    "    if len(split) == 3:\n",
    "        delimiter = ending_delimiter(split[2],split[1].strip())\n",
    "    elif len(split) == 2:\n",
    "        delimiter = split[1].strip()\n",
    "    else:\n",
    "        delimiter = starting_delimiter\n",
    "    return None if is_cr_delimiter(delimiter) else ';'"
   ]
  },
  {
   "cell_type": "code",
   "execution_count": null,
   "metadata": {},
   "outputs": [],
   "source": [
    "test_eq(\n",
    "    ending_delimiter(\n",
    "        \"\"\"list var1\n",
    "#delimit;\n",
    "list var2;list var3\"\"\"\n",
    "                  ), \n",
    "    ';')"
   ]
  },
  {
   "cell_type": "code",
   "execution_count": null,
   "metadata": {},
   "outputs": [],
   "source": [
    "test_eq(\n",
    "    ending_delimiter(\"\"\"\n",
    "/*\n",
    "#delimit;\n",
    "*/\n",
    "disp 1\n",
    "disp 2\"\"\"\n",
    "                  ), \n",
    "    None)"
   ]
  },
  {
   "cell_type": "code",
   "execution_count": null,
   "metadata": {},
   "outputs": [],
   "source": [
    "#| export\n",
    "\n",
    "# Detect Multiple whitespace\n",
    "multi_regex = re.compile(r' +')\n",
    "\n",
    "def standardize_code(code, starting_delimiter=None):\n",
    "    \"\"\"Remove comments spanning multiple lines and replace custom delimiters\"\"\"\n",
    "    code = _remove_multi_line_comments(code)\n",
    "    \n",
    "    # After removing multi-line comments, which could include \"#delimit;\"\n",
    "    code = _replace_delimiter(code, starting_delimiter) \n",
    "    \n",
    "    # Replace multiple whitespace with one\n",
    "    code = multi_regex.sub(' ',code)\n",
    "    \n",
    "    # Delete blank lines and whitespace at start and end of lines\n",
    "    cl = code.splitlines()\n",
    "    co = []\n",
    "    for c in cl:\n",
    "        cs = c.strip()\n",
    "        if cs:\n",
    "            co.append(cs)\n",
    "    return '\\n'.join(co)"
   ]
  },
  {
   "cell_type": "code",
   "execution_count": null,
   "metadata": {},
   "outputs": [],
   "source": [
    "test_eq(\n",
    "    standardize_code(\"\"\"\n",
    "list var1\n",
    "#delimit;\n",
    "list var2; list var3;\n",
    "\"\"\"\n",
    "                  ), \n",
    "    \"\"\"list var1\n",
    "list var2\n",
    "list var3\"\"\")"
   ]
  },
  {
   "cell_type": "code",
   "execution_count": null,
   "metadata": {},
   "outputs": [],
   "source": [
    "test_eq(\n",
    "    standardize_code(\"\"\"\n",
    "/*\n",
    "blah\n",
    "blah\n",
    "*/\n",
    "list var\n",
    "\"\"\"\n",
    "                  ), \n",
    "    \"list var\")"
   ]
  },
  {
   "cell_type": "code",
   "execution_count": null,
   "metadata": {},
   "outputs": [],
   "source": [
    "test_eq(\n",
    "    standardize_code(\"\"\"\n",
    "/*\n",
    "#delimit;\n",
    "*/\n",
    "disp 1\n",
    "disp 2\"\"\"\n",
    "                  ), \n",
    "    \"\"\"disp 1\n",
    "disp 2\"\"\")"
   ]
  },
  {
   "cell_type": "code",
   "execution_count": null,
   "metadata": {},
   "outputs": [],
   "source": [
    "test_eq(\n",
    "    standardize_code(\"\"\"\n",
    "disp ///\n",
    "1\n",
    "\"\"\"\n",
    "                    ),\n",
    "    \"disp 1\")"
   ]
  },
  {
   "cell_type": "code",
   "execution_count": null,
   "metadata": {},
   "outputs": [],
   "source": [
    "test_eq(\n",
    "    standardize_code(\"\"\"\n",
    "disp /// comment\n",
    "1\n",
    "\"\"\"\n",
    "                    ),\n",
    "    \"disp 1\")"
   ]
  },
  {
   "cell_type": "code",
   "execution_count": null,
   "metadata": {},
   "outputs": [],
   "source": [
    "test_eq(\n",
    "    standardize_code(\"\"\"\n",
    " list var\n",
    "\"\"\"\n",
    "                  ), \n",
    "    \"list var\")"
   ]
  },
  {
   "cell_type": "code",
   "execution_count": null,
   "metadata": {},
   "outputs": [],
   "source": [
    "test_eq(standardize_code(\"list    var\"), \"list var\")"
   ]
  },
  {
   "cell_type": "code",
   "execution_count": null,
   "metadata": {},
   "outputs": [],
   "source": [
    "#| export\n",
    "def _startswith_stata_abbrev(string, full_command, shortest_abbrev):\n",
    "    for j in range(len(shortest_abbrev), len(full_command)+1):\n",
    "        if string.startswith(full_command[0:j] + ' '):\n",
    "            return True\n",
    "    return False"
   ]
  },
  {
   "cell_type": "code",
   "execution_count": null,
   "metadata": {},
   "outputs": [],
   "source": [
    "test_eq(_startswith_stata_abbrev(\"q list var\", \"quietly\", \"q\"), True)"
   ]
  },
  {
   "cell_type": "code",
   "execution_count": null,
   "metadata": {},
   "outputs": [],
   "source": [
    "test_eq(_startswith_stata_abbrev(\"qui list var\", \"quietly\", \"q\"), True)"
   ]
  },
  {
   "cell_type": "code",
   "execution_count": null,
   "metadata": {},
   "outputs": [],
   "source": [
    "#| export\n",
    "def _remove_prog_prefixes(cs):\n",
    "    if (_startswith_stata_abbrev(cs, 'quietly', 'qui')\n",
    "        or cs.startswith('capture ')\n",
    "        or _startswith_stata_abbrev(cs, 'noisily', 'n')):\n",
    "        return _remove_prog_prefixes(cs.split(None, maxsplit=1)[1])\n",
    "    else:\n",
    "        return cs"
   ]
  },
  {
   "cell_type": "code",
   "execution_count": null,
   "metadata": {},
   "outputs": [],
   "source": [
    "test_eq(_remove_prog_prefixes(\"capture noisily program test_program\"), \"program test_program\")"
   ]
  },
  {
   "cell_type": "code",
   "execution_count": null,
   "metadata": {},
   "outputs": [],
   "source": [
    "#| export\n",
    "def is_start_of_program_block(std_code_line):\n",
    "    cs = _remove_prog_prefixes(std_code_line)\n",
    "    _starts_program = (_startswith_stata_abbrev(cs, 'program', 'pr')\n",
    "                       and not (cs == 'program di'\n",
    "                                or cs == 'program dir'\n",
    "                                or cs.startswith('program drop ')\n",
    "                                or _startswith_stata_abbrev(cs, 'program list', 'program l')))\n",
    "    return (_starts_program\n",
    "            or (cs in {'mata', 'mata:'})\n",
    "            or (cs in {'python', 'python:'}))"
   ]
  },
  {
   "cell_type": "code",
   "execution_count": null,
   "metadata": {},
   "outputs": [],
   "source": [
    "test_eq(is_start_of_program_block(\"capture noisily program test_program\"), True)\n",
    "test_eq(is_start_of_program_block(\"capture noisily list var\"), False)"
   ]
  },
  {
   "cell_type": "code",
   "execution_count": null,
   "metadata": {},
   "outputs": [],
   "source": [
    "#| export\n",
    "def break_out_prog_blocks(code, starting_delimiter=None):\n",
    "    cl = standardize_code(code, starting_delimiter).splitlines()\n",
    "    co = []\n",
    "    blocks = []\n",
    "    for c in cl:\n",
    "        # Are we starting a program definition?\n",
    "        if is_start_of_program_block(c):\n",
    "            if co: # lines before the start of a program block\n",
    "                blocks.append({\"is_prog\": False, \"std_code\": '\\n'.join(co)})\n",
    "                co = []\n",
    "\n",
    "        co.append(c)\n",
    "\n",
    "        # Are we ending a program definition?\n",
    "        if c == 'end':\n",
    "            blocks.append({\"is_prog\": True, \"std_code\": '\\n'.join(co)})\n",
    "            co = []\n",
    "\n",
    "    if co: \n",
    "        blocks.append({\"is_prog\": False, \"std_code\": '\\n'.join(co)})\n",
    "    return blocks"
   ]
  },
  {
   "cell_type": "code",
   "execution_count": null,
   "metadata": {},
   "outputs": [
    {
     "data": {
      "text/plain": [
       "[{'is_prog': False, 'std_code': 'capture program drop ender'},\n",
       " {'is_prog': True,\n",
       "  'std_code': 'program define ender\\ndisp \"ender output\"\\nend'},\n",
       " {'is_prog': False, 'std_code': 'capture program drop display2'},\n",
       " {'is_prog': True, 'std_code': 'program define display2\\nender\\nend'},\n",
       " {'is_prog': False, 'std_code': 'display2'}]"
      ]
     },
     "execution_count": null,
     "metadata": {},
     "output_type": "execute_result"
    }
   ],
   "source": [
    "break_out_prog_blocks('''\n",
    "capture program drop ender\n",
    "program define ender\n",
    "    disp \"ender output\"\n",
    "end\n",
    "capture program drop display2\n",
    "program define display2\n",
    "    ender\n",
    "end\n",
    "display2\n",
    "''')"
   ]
  },
  {
   "cell_type": "markdown",
   "metadata": {},
   "source": [
    "## Other utils"
   ]
  },
  {
   "cell_type": "markdown",
   "metadata": {},
   "source": [
    "[A way to block print statements](https://stackoverflow.com/a/45669280/10637373):"
   ]
  },
  {
   "cell_type": "code",
   "execution_count": null,
   "metadata": {},
   "outputs": [],
   "source": [
    "#| export\n",
    "class HiddenPrints:\n",
    "    def __enter__(self):\n",
    "        self._original_stdout = sys.stdout\n",
    "        sys.stdout = open(os.devnull, 'w')\n",
    "    def __exit__(self, exc_type, exc_val, exc_tb):\n",
    "        sys.stdout.close()\n",
    "        sys.stdout = self._original_stdout"
   ]
  },
  {
   "cell_type": "code",
   "execution_count": null,
   "metadata": {},
   "outputs": [],
   "source": [
    "with HiddenPrints():\n",
    "    print(\"test print output\")"
   ]
  },
  {
   "cell_type": "code",
   "execution_count": null,
   "metadata": {},
   "outputs": [],
   "source": [
    "#| export\n",
    "def print_red(text):\n",
    "    print(f\"\\x1b[31m{text}\\x1b[0m\")"
   ]
  },
  {
   "cell_type": "markdown",
   "metadata": {},
   "source": [
    "print_red source: https://stackoverflow.com/a/16816874/10637373"
   ]
  },
  {
   "cell_type": "code",
   "execution_count": null,
   "metadata": {},
   "outputs": [
    {
     "name": "stdout",
     "output_type": "stream",
     "text": [
      "\u001b[31mtest_red\u001b[0m\n"
     ]
    }
   ],
   "source": [
    "print_red(\"test_red\")"
   ]
  },
  {
   "cell_type": "code",
   "execution_count": null,
   "metadata": {},
   "outputs": [],
   "source": [
    "#| hide\n",
    "import nbdev; nbdev.nbdev_export()"
   ]
  }
 ],
 "metadata": {
  "kernelspec": {
   "display_name": "Python 3 (ipykernel)",
   "language": "python",
   "name": "python3"
  }
 },
 "nbformat": 4,
 "nbformat_minor": 4
}
