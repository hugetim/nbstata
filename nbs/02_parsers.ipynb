{
 "cells": [
  {
   "cell_type": "markdown",
   "metadata": {},
   "source": [
    "# parsers\n",
    "\n",
    "> Stata-related helper functions with no Jupyter or pystata dependence"
   ]
  },
  {
   "cell_type": "code",
   "execution_count": null,
   "metadata": {},
   "outputs": [],
   "source": [
    "#| default_exp parsers\n",
    "%load_ext autoreload\n",
    "%autoreload 2"
   ]
  },
  {
   "cell_type": "code",
   "execution_count": null,
   "metadata": {},
   "outputs": [],
   "source": [
    "#| hide\n",
    "from nbdev.showdoc import *\n",
    "from fastcore.test import test_eq"
   ]
  },
  {
   "cell_type": "code",
   "execution_count": null,
   "metadata": {},
   "outputs": [],
   "source": [
    "#| export\n",
    "import re"
   ]
  },
  {
   "cell_type": "code",
   "execution_count": null,
   "metadata": {},
   "outputs": [],
   "source": [
    "#| export\n",
    "parse_code_if_in_regex = re.compile(\n",
    "    r'\\A(?P<code>(?!if\\s)(?!\\sif)(?!in\\s)(?!\\sin).+?)?(?P<if>\\s*if\\s+.+?)?(?P<in>\\s*in\\s.+?)?\\Z',\n",
    "    flags=re.DOTALL + re.MULTILINE\n",
    ")"
   ]
  },
  {
   "cell_type": "code",
   "execution_count": null,
   "metadata": {},
   "outputs": [],
   "source": [
    "#| export\n",
    "def parse_code_if_in(code):\n",
    "    \"\"\"Parse line of Stata code into code, if, in\"\"\"\n",
    "    match = parse_code_if_in_regex.match(code.strip())\n",
    "    if match:\n",
    "        args = match.groupdict()\n",
    "        for k in args:\n",
    "            args[k] = args[k] if isinstance(args[k],str) else ''   \n",
    "    else:\n",
    "        args = {'code':code,\n",
    "                'if':'',\n",
    "                'in':''}    \n",
    "    return args"
   ]
  },
  {
   "cell_type": "code",
   "execution_count": null,
   "metadata": {},
   "outputs": [],
   "source": [
    "code = \"list var1 if var1==0 in 1/10\"\n",
    "test_eq(parse_code_if_in(code), {'code': 'list var1', 'if': ' if var1==0', 'in': ' in 1/10'})"
   ]
  },
  {
   "cell_type": "markdown",
   "metadata": {},
   "source": [
    "Not robust to reversing the if/in order:"
   ]
  },
  {
   "cell_type": "code",
   "execution_count": null,
   "metadata": {},
   "outputs": [
    {
     "data": {
      "text/plain": [
       "{'code': 'list var1', 'if': '', 'in': ' in 1/10 if var1==0'}"
      ]
     },
     "execution_count": null,
     "metadata": {},
     "output_type": "execute_result"
    }
   ],
   "source": [
    "parse_code_if_in(\"list var1 in 1/10 if var1==0\")"
   ]
  },
  {
   "cell_type": "code",
   "execution_count": null,
   "metadata": {},
   "outputs": [],
   "source": [
    "#| export\n",
    "def in_range(stata_in_code):\n",
    "    \"\"\"Return in-statement range\"\"\"    \n",
    "    stata_range_code = stata_in_code.replace(' in ','').strip()\n",
    "    slash_pos = stata_range_code.find('/')\n",
    "    if slash_pos == -1:\n",
    "        return (None, None)\n",
    "    start = stata_range_code[:slash_pos]\n",
    "    end = stata_range_code[slash_pos+1:]\n",
    "    if start.strip() == 'f': start = 1\n",
    "    if end.strip() == 'l': end = count()\n",
    "    return (int(start)-1, int(end))"
   ]
  },
  {
   "cell_type": "code",
   "execution_count": null,
   "metadata": {},
   "outputs": [],
   "source": [
    "test_eq(in_range(\" in 1/10\"), (0, 10))"
   ]
  },
  {
   "cell_type": "markdown",
   "metadata": {},
   "source": [
    "Non-default increments are not supported:"
   ]
  },
  {
   "cell_type": "code",
   "execution_count": null,
   "metadata": {},
   "outputs": [
    {
     "data": {
      "text/plain": [
       "(None, None)"
      ]
     },
     "execution_count": null,
     "metadata": {},
     "output_type": "execute_result"
    }
   ],
   "source": [
    "in_range(\" in 1(2)10\")"
   ]
  },
  {
   "cell_type": "code",
   "execution_count": null,
   "metadata": {},
   "outputs": [],
   "source": [
    "#| export\n",
    "class Selectvar():\n",
    "    \"\"\"Class for generating Stata selectvar for getAsDict\"\"\"\n",
    "    \n",
    "    varname = None\n",
    "    \n",
    "    def __init__(self, stata_if_code):\n",
    "        condition = stata_if_code.replace('if ', '', 1).strip()\n",
    "        if condition:\n",
    "            cmd = f\"tempvar __selectionVar\\ngenerate `__selectionVar' = cond({condition},1,0)\"\n",
    "            pystata.stata.run(cmd, quietly=True)      \n",
    "            self.varname = sfi.Macro.getLocal(\"__selectionVar\")  \n",
    "\n",
    "    def clear(self):\n",
    "        \"\"\"Remove temporary selectvar from Stata dataset\"\"\"\n",
    "        if self.varname != None:\n",
    "            pystata.stata.run(f\"capture drop {self.varname}\", quietly=True)  "
   ]
  },
  {
   "cell_type": "markdown",
   "metadata": {},
   "source": [
    "`Selectvar.varname` is a temp. Stata variable for use in `sfi.Data.getAsDict`"
   ]
  },
  {
   "cell_type": "code",
   "execution_count": null,
   "metadata": {},
   "outputs": [
    {
     "data": {
      "text/markdown": [
       "---\n",
       "\n",
       "[source](https://github.com/hugetim/nbstata/blob/main/nbstata/parsers.py#L56){target=\"_blank\" style=\"float:right; font-size:smaller\"}\n",
       "\n",
       "### Selectvar.clear\n",
       "\n",
       ">      Selectvar.clear ()\n",
       "\n",
       "Remove temporary selectvar from Stata dataset"
      ],
      "text/plain": [
       "---\n",
       "\n",
       "[source](https://github.com/hugetim/nbstata/blob/main/nbstata/parsers.py#L56){target=\"_blank\" style=\"float:right; font-size:smaller\"}\n",
       "\n",
       "### Selectvar.clear\n",
       "\n",
       ">      Selectvar.clear ()\n",
       "\n",
       "Remove temporary selectvar from Stata dataset"
      ]
     },
     "execution_count": null,
     "metadata": {},
     "output_type": "execute_result"
    }
   ],
   "source": [
    "show_doc(Selectvar.clear)"
   ]
  },
  {
   "cell_type": "code",
   "execution_count": null,
   "metadata": {},
   "outputs": [],
   "source": [
    "#| export\n",
    "### Regex's for clean_code() ###\n",
    "# Detect delimiter. This would detect valid delimiters plus macros:\n",
    "# delimit_regex = re.compile(r'#delimit( |\\t)+(;|cr|`.+\\'|\\$_.+|\\$.+)')\n",
    "# but it's unnecessary, since Stata's #delimit x interprets any x other \n",
    "# than 'cr' as switching the delimiter to ';'.\n",
    "delimit_regex = re.compile(r'#delimit(.*$)', flags=re.MULTILINE)\n",
    "# Detect comments spanning multiple lines\n",
    "comment_regex = re.compile(r'((\\/\\/\\/)(.)*(\\n|\\r)|(\\/\\*)(.|\\s)*?(\\*\\/))')\n",
    "# Detect left Whitespace\n",
    "left_regex = re.compile(r'\\n +')\n",
    "# Detect Multiple whitespace\n",
    "multi_regex = re.compile(r' +')\n",
    "\n",
    "def clean_code(code):\n",
    "    \"\"\"Remove comments spanning multiple lines and replace custom delimiters\"\"\"\n",
    "\n",
    "    def _replace_delimiter(code,delimiter=None):\n",
    "        # Recursively replace custom delimiter with newline\n",
    "\n",
    "        split = delimit_regex.split(code.strip(),maxsplit=1)\n",
    "\n",
    "        if len(split) == 3:\n",
    "            before = split[0]\n",
    "            after = _replace_delimiter(split[2],split[1].strip())\n",
    "        else:\n",
    "            before = code\n",
    "            after = ''\n",
    "\n",
    "        if delimiter != 'cr' and delimiter != None:\n",
    "            before = before.replace('\\r', '').replace('\\n', '')\n",
    "            before = before.replace(';','\\n')\n",
    "\n",
    "        return before + after\n",
    "\n",
    "    # Apply custom delimiter\n",
    "    code = _replace_delimiter(code)\n",
    "\n",
    "    # Delete comments spanning multiple lines\n",
    "    code = comment_regex.sub(' ',code)\n",
    "\n",
    "    # Delete whitespace at start of line\n",
    "    code = left_regex.sub('\\n',code)\n",
    "\n",
    "    # Replace multiple whitespace with one\n",
    "    code = multi_regex.sub(' ',code)\n",
    "\n",
    "    return code"
   ]
  },
  {
   "cell_type": "code",
   "execution_count": null,
   "metadata": {},
   "outputs": [],
   "source": [
    "test_eq(\n",
    "    clean_code(\"\"\"\n",
    "list var1\n",
    "#delimit;\n",
    "list var2; list var3;\n",
    "\"\"\"\n",
    "                  ), \n",
    "    \"\"\"list var1\n",
    "list var2\n",
    "list var3\n",
    "\"\"\")"
   ]
  },
  {
   "cell_type": "code",
   "execution_count": null,
   "metadata": {},
   "outputs": [],
   "source": [
    "test_eq(\n",
    "    clean_code(\"\"\"/*\n",
    "blah\n",
    "blah\n",
    "*/\n",
    "list var\n",
    "\"\"\"\n",
    "                  ), \n",
    "    \" \\nlist var\\n\")"
   ]
  },
  {
   "cell_type": "code",
   "execution_count": null,
   "metadata": {},
   "outputs": [],
   "source": [
    "test_eq(\n",
    "    clean_code(\"\"\"\n",
    " list var\n",
    "\"\"\"\n",
    "                  ), \n",
    "    \"\\nlist var\\n\")"
   ]
  },
  {
   "cell_type": "code",
   "execution_count": null,
   "metadata": {},
   "outputs": [],
   "source": [
    "test_eq(clean_code(\"list    var\"), \"list var\")"
   ]
  },
  {
   "cell_type": "code",
   "execution_count": null,
   "metadata": {},
   "outputs": [],
   "source": [
    "#| export\n",
    "def _startswith_stata_abbrev(string, full_command, shortest_abbrev):\n",
    "    for j in range(len(shortest_abbrev), len(full_command)+1):\n",
    "        if string.startswith(full_command[0:j] + ' '):\n",
    "            return True\n",
    "    return False"
   ]
  },
  {
   "cell_type": "code",
   "execution_count": null,
   "metadata": {},
   "outputs": [],
   "source": [
    "test_eq(_startswith_stata_abbrev(\"q list var\", \"quietly\", \"q\"), True)"
   ]
  },
  {
   "cell_type": "code",
   "execution_count": null,
   "metadata": {},
   "outputs": [],
   "source": [
    "test_eq(_startswith_stata_abbrev(\"qui list var\", \"quietly\", \"q\"), True)"
   ]
  },
  {
   "cell_type": "code",
   "execution_count": null,
   "metadata": {},
   "outputs": [],
   "source": [
    "#| export\n",
    "def _remove_prog_prefixes(cs):\n",
    "    if (_startswith_stata_abbrev(cs, 'quietly', 'qui')\n",
    "        or cs.startswith('capture ')\n",
    "        or _startswith_stata_abbrev(cs, 'noisily', 'n')):\n",
    "        return _remove_prog_prefixes(cs.split(None, maxsplit=1)[1])\n",
    "    else:\n",
    "        return cs"
   ]
  },
  {
   "cell_type": "code",
   "execution_count": null,
   "metadata": {},
   "outputs": [],
   "source": [
    "test_eq(_remove_prog_prefixes(\"capture noisily program test_program\"), \"program test_program\")"
   ]
  },
  {
   "cell_type": "code",
   "execution_count": null,
   "metadata": {},
   "outputs": [],
   "source": [
    "#| export\n",
    "def is_start_of_program_block(clean_code_line_stripped):\n",
    "    cs = _remove_prog_prefixes(clean_code_line_stripped)\n",
    "    _starts_program = (_startswith_stata_abbrev(cs, 'program', 'pr')\n",
    "                       and not (cs == 'program di'\n",
    "                                or cs == 'program dir'\n",
    "                                or cs.startswith('program drop ')\n",
    "                                or _startswith_stata_abbrev(cs, 'program list', 'program l')))\n",
    "    return (_starts_program\n",
    "            or (cs in ['mata', 'mata:'])\n",
    "            or (cs in ['python', 'python:']))"
   ]
  },
  {
   "cell_type": "code",
   "execution_count": null,
   "metadata": {},
   "outputs": [],
   "source": [
    "test_eq(is_start_of_program_block(\"capture noisily program test_program\"), True)\n",
    "test_eq(is_start_of_program_block(\"capture noisily list var\"), False)"
   ]
  },
  {
   "cell_type": "code",
   "execution_count": null,
   "metadata": {},
   "outputs": [],
   "source": [
    "#| hide\n",
    "import nbdev; nbdev.nbdev_export()"
   ]
  }
 ],
 "metadata": {
  "kernelspec": {
   "display_name": "Python 3 (ipykernel)",
   "language": "python",
   "name": "python3"
  }
 },
 "nbformat": 4,
 "nbformat_minor": 4
}
