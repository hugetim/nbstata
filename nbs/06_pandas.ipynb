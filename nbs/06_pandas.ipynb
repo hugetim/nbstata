{
 "cells": [
  {
   "cell_type": "markdown",
   "metadata": {},
   "source": [
    "# pandas\n",
    "\n",
    "> Stata-to-pandas utilities, used in `nbstata.browse`"
   ]
  },
  {
   "cell_type": "code",
   "execution_count": null,
   "metadata": {},
   "outputs": [],
   "source": [
    "#| default_exp pandas\n",
    "%load_ext autoreload\n",
    "%autoreload 2"
   ]
  },
  {
   "cell_type": "code",
   "execution_count": null,
   "metadata": {},
   "outputs": [],
   "source": [
    "#| hide\n",
    "from nbdev.showdoc import *"
   ]
  },
  {
   "cell_type": "code",
   "execution_count": null,
   "metadata": {},
   "outputs": [],
   "source": [
    "#| export\n",
    "from nbstata.stata import stata_formatted\n",
    "from nbstata.stata_more import IndexVar"
   ]
  },
  {
   "cell_type": "markdown",
   "metadata": {},
   "source": [
    "## Better stata-to-pandas"
   ]
  },
  {
   "cell_type": "markdown",
   "metadata": {},
   "source": [
    "Improves on [pystata.stata.pdataframe_from_data](https://www.stata.com/python/pystata/stata.html#pystata.stata.pdataframe_from_data) (and \n",
    "[pystata.stata.pdataframe_from_frame](https://www.stata.com/python/pystata/stata.html#pystata.stata.pdataframe_from_frame)) by making the pandas DataFrame index correspond to Stata observation numbers and also providing an option to output numeric values as strings using their Stata formats."
   ]
  },
  {
   "cell_type": "code",
   "execution_count": null,
   "metadata": {},
   "outputs": [],
   "source": [
    "#| export\n",
    "def _better_dataframe(hdl, var, obs, selectvar, valuelabel, missingval):\n",
    "    import pandas as pd\n",
    "    with IndexVar() as idx_var:\n",
    "        data = hdl.getAsDict(var, obs, selectvar, valuelabel, missingval)\n",
    "        if not data:\n",
    "            return pd.DataFrame()\n",
    "    \n",
    "        if idx_var in data:\n",
    "            idx = data.pop(idx_var)\n",
    "        else:\n",
    "            temp_var = [idx_var, selectvar] if selectvar else idx_var\n",
    "            idx = hdl.getAsDict(temp_var, obs, selectvar, valuelabel, missingval).pop(idx_var)\n",
    "        idx = pd.array(idx, dtype='int64')\n",
    "\n",
    "        return pd.DataFrame(data=data, index=idx)"
   ]
  },
  {
   "cell_type": "markdown",
   "metadata": {},
   "source": [
    "#| hide\n",
    "\n",
    "Reference Stata docs: [getAsDict example](https://blog.stata.com/2020/11/05/stata-python-integration-part-8-using-the-stata-function-interface-to-copy-data-from-stata-to-python/)"
   ]
  },
  {
   "cell_type": "code",
   "execution_count": null,
   "metadata": {},
   "outputs": [],
   "source": [
    "#| hide\n",
    "#| eval: False\n",
    "from nbstata.config import launch_stata\n",
    "from nbstata.stata_more import run_sfi"
   ]
  },
  {
   "cell_type": "code",
   "execution_count": null,
   "metadata": {},
   "outputs": [],
   "source": [
    "#| hide\n",
    "#| eval: False\n",
    "launch_stata(splash=False)"
   ]
  },
  {
   "cell_type": "code",
   "execution_count": null,
   "metadata": {},
   "outputs": [],
   "source": [
    "#| hide\n",
    "#| eval: False\n",
    "import sfi"
   ]
  },
  {
   "cell_type": "code",
   "execution_count": null,
   "metadata": {},
   "outputs": [],
   "source": [
    "#| hide\n",
    "from fastcore.test import test_eq, test_fail\n",
    "import numpy as np"
   ]
  },
  {
   "cell_type": "code",
   "execution_count": null,
   "metadata": {},
   "outputs": [
    {
     "name": "stdout",
     "output_type": "stream",
     "text": [
      "(U.S. life expectancy, 1900-1940)\n"
     ]
    }
   ],
   "source": [
    "#| hide\n",
    "#| eval: False\n",
    "run_sfi(\"\"\"\\\n",
    "sysuse uslifeexp2, clear\n",
    "gen sel_var = year==1920\"\"\")"
   ]
  },
  {
   "cell_type": "code",
   "execution_count": null,
   "metadata": {},
   "outputs": [
    {
     "data": {
      "text/html": [
       "<div>\n",
       "<style scoped>\n",
       "    .dataframe tbody tr th:only-of-type {\n",
       "        vertical-align: middle;\n",
       "    }\n",
       "\n",
       "    .dataframe tbody tr th {\n",
       "        vertical-align: top;\n",
       "    }\n",
       "\n",
       "    .dataframe thead th {\n",
       "        text-align: right;\n",
       "    }\n",
       "</style>\n",
       "<table border=\"1\" class=\"dataframe\">\n",
       "  <thead>\n",
       "    <tr style=\"text-align: right;\">\n",
       "      <th></th>\n",
       "      <th>le</th>\n",
       "    </tr>\n",
       "  </thead>\n",
       "  <tbody>\n",
       "    <tr>\n",
       "      <th>21</th>\n",
       "      <td>54.099998</td>\n",
       "    </tr>\n",
       "  </tbody>\n",
       "</table>\n",
       "</div>"
      ],
      "text/plain": [
       "           le\n",
       "21  54.099998"
      ]
     },
     "execution_count": null,
     "metadata": {},
     "output_type": "execute_result"
    }
   ],
   "source": [
    "#| hide\n",
    "#| eval: False\n",
    "_better_dataframe(sfi.Data, 'le', None, 'sel_var', True, np.NaN)"
   ]
  },
  {
   "cell_type": "code",
   "execution_count": null,
   "metadata": {},
   "outputs": [
    {
     "data": {
      "text/html": [
       "<div>\n",
       "<style scoped>\n",
       "    .dataframe tbody tr th:only-of-type {\n",
       "        vertical-align: middle;\n",
       "    }\n",
       "\n",
       "    .dataframe tbody tr th {\n",
       "        vertical-align: top;\n",
       "    }\n",
       "\n",
       "    .dataframe thead th {\n",
       "        text-align: right;\n",
       "    }\n",
       "</style>\n",
       "<table border=\"1\" class=\"dataframe\">\n",
       "  <thead>\n",
       "    <tr style=\"text-align: right;\">\n",
       "      <th></th>\n",
       "    </tr>\n",
       "  </thead>\n",
       "  <tbody>\n",
       "  </tbody>\n",
       "</table>\n",
       "</div>"
      ],
      "text/plain": [
       "Empty DataFrame\n",
       "Columns: []\n",
       "Index: []"
      ]
     },
     "execution_count": null,
     "metadata": {},
     "output_type": "execute_result"
    }
   ],
   "source": [
    "#| hide\n",
    "#| eval: False\n",
    "_better_dataframe(sfi.Data, None, range(0, 10), 'sel_var', True, np.NaN)"
   ]
  },
  {
   "cell_type": "code",
   "execution_count": null,
   "metadata": {},
   "outputs": [
    {
     "data": {
      "text/html": [
       "<div>\n",
       "<style scoped>\n",
       "    .dataframe tbody tr th:only-of-type {\n",
       "        vertical-align: middle;\n",
       "    }\n",
       "\n",
       "    .dataframe tbody tr th {\n",
       "        vertical-align: top;\n",
       "    }\n",
       "\n",
       "    .dataframe thead th {\n",
       "        text-align: right;\n",
       "    }\n",
       "</style>\n",
       "<table border=\"1\" class=\"dataframe\">\n",
       "  <thead>\n",
       "    <tr style=\"text-align: right;\">\n",
       "      <th></th>\n",
       "      <th>year</th>\n",
       "      <th>le</th>\n",
       "      <th>sel_var</th>\n",
       "    </tr>\n",
       "  </thead>\n",
       "  <tbody>\n",
       "    <tr>\n",
       "      <th>21</th>\n",
       "      <td>1920</td>\n",
       "      <td>54.099998</td>\n",
       "      <td>1.0</td>\n",
       "    </tr>\n",
       "  </tbody>\n",
       "</table>\n",
       "</div>"
      ],
      "text/plain": [
       "    year         le  sel_var\n",
       "21  1920  54.099998      1.0"
      ]
     },
     "execution_count": null,
     "metadata": {},
     "output_type": "execute_result"
    }
   ],
   "source": [
    "#| hide\n",
    "#| eval: False\n",
    "_better_dataframe(sfi.Data, None, range(-31, -1), 'sel_var', True, np.NaN)"
   ]
  },
  {
   "cell_type": "code",
   "execution_count": null,
   "metadata": {},
   "outputs": [],
   "source": [
    "#| hide\n",
    "#| eval: False\n",
    "run_sfi(\"drop sel_var\")"
   ]
  },
  {
   "cell_type": "code",
   "execution_count": null,
   "metadata": {},
   "outputs": [],
   "source": [
    "#| export\n",
    "def _simple_dataframe_from_stata(stfr, var, valuelabel, missingval):\n",
    "    from pystata import stata\n",
    "    if stfr is None:\n",
    "        df = stata.pdataframe_from_data(var=var, valuelabel=valuelabel, missingval=missingval)\n",
    "    else:\n",
    "        df = stata.pdataframe_from_frame(stfr, var=var, valuelabel=valuelabel, missingval=missingval)\n",
    "    df.index += 1\n",
    "    return df"
   ]
  },
  {
   "cell_type": "code",
   "execution_count": null,
   "metadata": {},
   "outputs": [],
   "source": [
    "#| hide\n",
    "#| eval: False\n",
    "from pystata.stata import _DefaultMissing"
   ]
  },
  {
   "cell_type": "code",
   "execution_count": null,
   "metadata": {},
   "outputs": [
    {
     "ename": "NameError",
     "evalue": "name 'run_direct' is not defined",
     "output_type": "error",
     "traceback": [
      "\u001b[1;31m---------------------------------------------------------------------------\u001b[0m",
      "\u001b[1;31mNameError\u001b[0m                                 Traceback (most recent call last)",
      "Input \u001b[1;32mIn [16]\u001b[0m, in \u001b[0;36m<cell line: 3>\u001b[1;34m()\u001b[0m\n\u001b[0;32m      1\u001b[0m \u001b[38;5;66;03m#| hide\u001b[39;00m\n\u001b[0;32m      2\u001b[0m \u001b[38;5;66;03m#| eval: False\u001b[39;00m\n\u001b[1;32m----> 3\u001b[0m \u001b[43mrun_direct\u001b[49m(\u001b[38;5;124m\"\"\"\u001b[39m\u001b[38;5;130;01m\\\u001b[39;00m\n\u001b[0;32m      4\u001b[0m \u001b[38;5;124msysuse lifeexp, clear\u001b[39m\n\u001b[0;32m      5\u001b[0m \u001b[38;5;124mkeep in 1/5\u001b[39m\u001b[38;5;124m\"\"\"\u001b[39m)\n\u001b[0;32m      6\u001b[0m _simple_dataframe_from_stata(\u001b[38;5;28;01mNone\u001b[39;00m, \u001b[38;5;28;01mNone\u001b[39;00m, \u001b[38;5;28;01mFalse\u001b[39;00m, _DefaultMissing())\n",
      "\u001b[1;31mNameError\u001b[0m: name 'run_direct' is not defined"
     ]
    }
   ],
   "source": [
    "#| hide\n",
    "#| eval: False\n",
    "run_sfi(\"\"\"\\\n",
    "sysuse lifeexp, clear\n",
    "keep in 1/5\"\"\")\n",
    "_simple_dataframe_from_stata(None, None, False, _DefaultMissing())"
   ]
  },
  {
   "cell_type": "code",
   "execution_count": null,
   "metadata": {},
   "outputs": [],
   "source": [
    "#| export\n",
    "def better_dataframe_from_stata(stfr, var, obs, selectvar, valuelabel, missingval, sformat):\n",
    "    import numpy as np\n",
    "    import pandas as pd\n",
    "    import sfi\n",
    "    hdl = sfi.Data if stfr is None else sfi.Frame.connect(stfr)\n",
    "    custom_index_not_needed = obs is None and not selectvar\n",
    "    if custom_index_not_needed:\n",
    "        df = _simple_dataframe_from_stata(stfr, var, valuelabel, missingval)\n",
    "    else:\n",
    "        if hdl.getObsTotal() <= 0:\n",
    "            return pd.DataFrame()\n",
    "        df = _better_dataframe(hdl, var, obs, selectvar, valuelabel, missingval)\n",
    "    if sformat:\n",
    "        for v in list(df.columns):\n",
    "            if hdl.isVarTypeString(v) or (valuelabel and missingval==np.NaN\n",
    "                                          and pd.api.types.is_string_dtype(df[v])):\n",
    "                continue\n",
    "            v_format = hdl.getVarFormat(v)\n",
    "            if missingval != np.NaN and pd.api.types.is_string_dtype(df[v]):\n",
    "                def format_value(x):\n",
    "                    return stata_formatted(x, v_format) if type(x)!=str else x\n",
    "            else:\n",
    "                def format_value(x):\n",
    "                    return stata_formatted(x, v_format)\n",
    "            df[v] = df[v].apply(format_value)\n",
    "    return df"
   ]
  },
  {
   "cell_type": "code",
   "execution_count": null,
   "metadata": {},
   "outputs": [],
   "source": [
    "#| export\n",
    "def better_pdataframe_from_data(var=None, obs=None, selectvar=None, valuelabel=False, missingval=None, sformat=False):\n",
    "    import numpy as np\n",
    "    if missingval is None:\n",
    "        missingval = np.NaN\n",
    "    return better_dataframe_from_stata(None, var, obs, selectvar, valuelabel, missingval, sformat)"
   ]
  },
  {
   "cell_type": "code",
   "execution_count": null,
   "metadata": {},
   "outputs": [],
   "source": [
    "#| export\n",
    "def better_pdataframe_from_frame(stfr, var=None, obs=None, selectvar=None, valuelabel=False, missingval=None, sformat=False):\n",
    "    import numpy as np\n",
    "    if missingval is None:\n",
    "        missingval = np.NaN\n",
    "    return better_dataframe_from_stata(stfr, var, obs, selectvar, valuelabel, missingval, sformat)"
   ]
  },
  {
   "cell_type": "code",
   "execution_count": null,
   "metadata": {},
   "outputs": [],
   "source": [
    "#| eval: False\n",
    "run_sfi(\"\"\"\\\n",
    "replace le = . if _n==5\n",
    "replace year = 2022 if year==1900\n",
    "format year %-ty\n",
    "gen str_var = \"test string\" if _n!=5\n",
    "gen date = dofy(year)\n",
    "format date %td\n",
    "gen double date_tc = cofd(date)\n",
    "format date_tc %tc\n",
    "gen double date_tC = Cofd(date)\n",
    "format date_tC %tC\"\"\")\n",
    "better_pdataframe_from_data().head()"
   ]
  },
  {
   "cell_type": "code",
   "execution_count": null,
   "metadata": {},
   "outputs": [],
   "source": [
    "#| eval: False\n",
    "better_pdataframe_from_data(sformat=True).head()"
   ]
  },
  {
   "cell_type": "code",
   "execution_count": null,
   "metadata": {},
   "outputs": [],
   "source": [
    "#| hide\n",
    "#| eval: False\n",
    "better_pdataframe_from_data(valuelabel=True, sformat=True, missingval=\".\").head()"
   ]
  },
  {
   "cell_type": "code",
   "execution_count": null,
   "metadata": {},
   "outputs": [],
   "source": [
    "#| hide\n",
    "#| eval: False\n",
    "better_pdataframe_from_data(sformat=True, missingval=\".\").head()"
   ]
  },
  {
   "cell_type": "code",
   "execution_count": null,
   "metadata": {},
   "outputs": [],
   "source": [
    "#| hide\n",
    "#| eval: False\n",
    "better_pdataframe_from_data(obs=range(1, 3)).head()"
   ]
  },
  {
   "cell_type": "code",
   "execution_count": null,
   "metadata": {},
   "outputs": [],
   "source": [
    "#| hide\n",
    "#| eval: False\n",
    "test_fail(better_pdataframe_from_data, kwargs=dict(obs=range(1000)))"
   ]
  },
  {
   "cell_type": "code",
   "execution_count": null,
   "metadata": {},
   "outputs": [],
   "source": [
    "#| hide\n",
    "#| eval: False\n",
    "better_pdataframe_from_data(missingval='.').head()"
   ]
  },
  {
   "cell_type": "code",
   "execution_count": null,
   "metadata": {},
   "outputs": [],
   "source": [
    "#| hide\n",
    "#| eval: False\n",
    "better_pdataframe_from_data(var=['year', 'date_tc', 'date_tC']).head()"
   ]
  },
  {
   "cell_type": "code",
   "execution_count": null,
   "metadata": {},
   "outputs": [],
   "source": [
    "#| hide\n",
    "import nbdev; nbdev.nbdev_export()"
   ]
  }
 ],
 "metadata": {
  "kernelspec": {
   "display_name": "Python 3 (ipykernel)",
   "language": "python",
   "name": "python3"
  }
 },
 "nbformat": 4,
 "nbformat_minor": 4
}
