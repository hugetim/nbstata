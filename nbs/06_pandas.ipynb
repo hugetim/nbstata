{
 "cells": [
  {
   "cell_type": "markdown",
   "metadata": {},
   "source": [
    "# pandas\n",
    "\n",
    "> Stata-to-pandas utilities, used in `nbstata.browse`\n",
    "- order: 6"
   ]
  },
  {
   "cell_type": "code",
   "execution_count": null,
   "metadata": {},
   "outputs": [],
   "source": [
    "#| default_exp pandas\n",
    "%load_ext autoreload\n",
    "%autoreload 2"
   ]
  },
  {
   "cell_type": "code",
   "execution_count": null,
   "metadata": {},
   "outputs": [],
   "source": [
    "#| hide\n",
    "from nbdev.showdoc import *"
   ]
  },
  {
   "cell_type": "code",
   "execution_count": null,
   "metadata": {},
   "outputs": [],
   "source": [
    "#| export\n",
    "from nbstata.stata import stata_formatted\n",
    "from nbstata.stata_more import IndexVar"
   ]
  },
  {
   "cell_type": "markdown",
   "metadata": {},
   "source": [
    "## Better stata-to-pandas"
   ]
  },
  {
   "cell_type": "markdown",
   "metadata": {},
   "source": [
    "Improves on [pystata.stata.pdataframe_from_data](https://www.stata.com/python/pystata/stata.html#pystata.stata.pdataframe_from_data) (and \n",
    "[pystata.stata.pdataframe_from_frame](https://www.stata.com/python/pystata/stata.html#pystata.stata.pdataframe_from_frame)) by making the pandas DataFrame index correspond to Stata observation numbers and also providing an option to output numeric values as strings using their Stata formats."
   ]
  },
  {
   "cell_type": "code",
   "execution_count": null,
   "metadata": {},
   "outputs": [],
   "source": [
    "#| export\n",
    "def _better_dataframe(hdl, var, obs, selectvar, valuelabel, missingval):\n",
    "    import pandas as pd\n",
    "    with IndexVar() as idx_var:\n",
    "        data = hdl.getAsDict(var, obs, selectvar, valuelabel, missingval)\n",
    "        if not data:\n",
    "            return pd.DataFrame()\n",
    "    \n",
    "        if idx_var in data:\n",
    "            idx = data.pop(idx_var)\n",
    "        else:\n",
    "            temp_var = [idx_var, selectvar] if selectvar else idx_var\n",
    "            idx = hdl.getAsDict(temp_var, obs, selectvar, valuelabel, missingval).pop(idx_var)\n",
    "        idx = pd.array(idx, dtype='int64')\n",
    "\n",
    "        return pd.DataFrame(data=data, index=idx)"
   ]
  },
  {
   "cell_type": "markdown",
   "metadata": {},
   "source": [
    "#| hide\n",
    "\n",
    "Reference Stata docs: [getAsDict example](https://blog.stata.com/2020/11/05/stata-python-integration-part-8-using-the-stata-function-interface-to-copy-data-from-stata-to-python/)"
   ]
  },
  {
   "cell_type": "code",
   "execution_count": null,
   "metadata": {},
   "outputs": [],
   "source": [
    "#| hide\n",
    "#| eval: False\n",
    "from nbstata.config import launch_stata\n",
    "from nbstata.stata_more import run_sfi"
   ]
  },
  {
   "cell_type": "code",
   "execution_count": null,
   "metadata": {},
   "outputs": [],
   "source": [
    "#| hide\n",
    "#| eval: False\n",
    "launch_stata(splash=False)"
   ]
  },
  {
   "cell_type": "code",
   "execution_count": null,
   "metadata": {},
   "outputs": [],
   "source": [
    "#| hide\n",
    "#| eval: False\n",
    "import sfi"
   ]
  },
  {
   "cell_type": "code",
   "execution_count": null,
   "metadata": {},
   "outputs": [],
   "source": [
    "#| hide\n",
    "from fastcore.test import test_eq, test_fail\n",
    "import numpy as np"
   ]
  },
  {
   "cell_type": "code",
   "execution_count": null,
   "metadata": {},
   "outputs": [
    {
     "name": "stdout",
     "output_type": "stream",
     "text": [
      "(U.S. life expectancy, 1900-1940)\n"
     ]
    }
   ],
   "source": [
    "#| hide\n",
    "#| eval: False\n",
    "run_sfi(\"\"\"\\\n",
    "sysuse uslifeexp2, clear\n",
    "gen sel_var = year==1920\"\"\")"
   ]
  },
  {
   "cell_type": "code",
   "execution_count": null,
   "metadata": {},
   "outputs": [
    {
     "data": {
      "text/html": [
       "<div>\n",
       "<style scoped>\n",
       "    .dataframe tbody tr th:only-of-type {\n",
       "        vertical-align: middle;\n",
       "    }\n",
       "\n",
       "    .dataframe tbody tr th {\n",
       "        vertical-align: top;\n",
       "    }\n",
       "\n",
       "    .dataframe thead th {\n",
       "        text-align: right;\n",
       "    }\n",
       "</style>\n",
       "<table border=\"1\" class=\"dataframe\">\n",
       "  <thead>\n",
       "    <tr style=\"text-align: right;\">\n",
       "      <th></th>\n",
       "      <th>le</th>\n",
       "    </tr>\n",
       "  </thead>\n",
       "  <tbody>\n",
       "    <tr>\n",
       "      <th>21</th>\n",
       "      <td>54.099998</td>\n",
       "    </tr>\n",
       "  </tbody>\n",
       "</table>\n",
       "</div>"
      ],
      "text/plain": [
       "           le\n",
       "21  54.099998"
      ]
     },
     "execution_count": null,
     "metadata": {},
     "output_type": "execute_result"
    }
   ],
   "source": [
    "#| hide\n",
    "#| eval: False\n",
    "_better_dataframe(sfi.Data, 'le', None, 'sel_var', True, np.NaN)"
   ]
  },
  {
   "cell_type": "code",
   "execution_count": null,
   "metadata": {},
   "outputs": [
    {
     "data": {
      "text/html": [
       "<div>\n",
       "<style scoped>\n",
       "    .dataframe tbody tr th:only-of-type {\n",
       "        vertical-align: middle;\n",
       "    }\n",
       "\n",
       "    .dataframe tbody tr th {\n",
       "        vertical-align: top;\n",
       "    }\n",
       "\n",
       "    .dataframe thead th {\n",
       "        text-align: right;\n",
       "    }\n",
       "</style>\n",
       "<table border=\"1\" class=\"dataframe\">\n",
       "  <thead>\n",
       "    <tr style=\"text-align: right;\">\n",
       "      <th></th>\n",
       "    </tr>\n",
       "  </thead>\n",
       "  <tbody>\n",
       "  </tbody>\n",
       "</table>\n",
       "</div>"
      ],
      "text/plain": [
       "Empty DataFrame\n",
       "Columns: []\n",
       "Index: []"
      ]
     },
     "execution_count": null,
     "metadata": {},
     "output_type": "execute_result"
    }
   ],
   "source": [
    "#| hide\n",
    "#| eval: False\n",
    "_better_dataframe(sfi.Data, None, range(0, 10), 'sel_var', True, np.NaN)"
   ]
  },
  {
   "cell_type": "code",
   "execution_count": null,
   "metadata": {},
   "outputs": [
    {
     "data": {
      "text/html": [
       "<div>\n",
       "<style scoped>\n",
       "    .dataframe tbody tr th:only-of-type {\n",
       "        vertical-align: middle;\n",
       "    }\n",
       "\n",
       "    .dataframe tbody tr th {\n",
       "        vertical-align: top;\n",
       "    }\n",
       "\n",
       "    .dataframe thead th {\n",
       "        text-align: right;\n",
       "    }\n",
       "</style>\n",
       "<table border=\"1\" class=\"dataframe\">\n",
       "  <thead>\n",
       "    <tr style=\"text-align: right;\">\n",
       "      <th></th>\n",
       "      <th>year</th>\n",
       "      <th>le</th>\n",
       "      <th>sel_var</th>\n",
       "    </tr>\n",
       "  </thead>\n",
       "  <tbody>\n",
       "    <tr>\n",
       "      <th>21</th>\n",
       "      <td>1920</td>\n",
       "      <td>54.099998</td>\n",
       "      <td>1.0</td>\n",
       "    </tr>\n",
       "  </tbody>\n",
       "</table>\n",
       "</div>"
      ],
      "text/plain": [
       "    year         le  sel_var\n",
       "21  1920  54.099998      1.0"
      ]
     },
     "execution_count": null,
     "metadata": {},
     "output_type": "execute_result"
    }
   ],
   "source": [
    "#| hide\n",
    "#| eval: False\n",
    "_better_dataframe(sfi.Data, None, range(-31, -1), 'sel_var', True, np.NaN)"
   ]
  },
  {
   "cell_type": "code",
   "execution_count": null,
   "metadata": {},
   "outputs": [],
   "source": [
    "#| hide\n",
    "#| eval: False\n",
    "run_sfi(\"drop sel_var\")"
   ]
  },
  {
   "cell_type": "code",
   "execution_count": null,
   "metadata": {},
   "outputs": [],
   "source": [
    "#| export\n",
    "def _simple_dataframe_from_stata(stfr, var, valuelabel, missingval):\n",
    "    from pystata import stata\n",
    "    if stfr is None:\n",
    "        df = stata.pdataframe_from_data(var=var, valuelabel=valuelabel, missingval=missingval)\n",
    "    else:\n",
    "        df = stata.pdataframe_from_frame(stfr, var=var, valuelabel=valuelabel, missingval=missingval)\n",
    "    df.index += 1\n",
    "    return df"
   ]
  },
  {
   "cell_type": "code",
   "execution_count": null,
   "metadata": {},
   "outputs": [],
   "source": [
    "#| hide\n",
    "#| eval: False\n",
    "from pystata.stata import _DefaultMissing"
   ]
  },
  {
   "cell_type": "code",
   "execution_count": null,
   "metadata": {},
   "outputs": [
    {
     "name": "stdout",
     "output_type": "stream",
     "text": [
      "(Life expectancy, 1998)\n",
      "(63 observations deleted)\n"
     ]
    },
    {
     "data": {
      "text/html": [
       "<div>\n",
       "<style scoped>\n",
       "    .dataframe tbody tr th:only-of-type {\n",
       "        vertical-align: middle;\n",
       "    }\n",
       "\n",
       "    .dataframe tbody tr th {\n",
       "        vertical-align: top;\n",
       "    }\n",
       "\n",
       "    .dataframe thead th {\n",
       "        text-align: right;\n",
       "    }\n",
       "</style>\n",
       "<table border=\"1\" class=\"dataframe\">\n",
       "  <thead>\n",
       "    <tr style=\"text-align: right;\">\n",
       "      <th></th>\n",
       "      <th>region</th>\n",
       "      <th>country</th>\n",
       "      <th>popgrowth</th>\n",
       "      <th>lexp</th>\n",
       "      <th>gnppc</th>\n",
       "      <th>safewater</th>\n",
       "    </tr>\n",
       "  </thead>\n",
       "  <tbody>\n",
       "    <tr>\n",
       "      <th>1</th>\n",
       "      <td>1</td>\n",
       "      <td>Albania</td>\n",
       "      <td>1.2</td>\n",
       "      <td>72</td>\n",
       "      <td>810.0</td>\n",
       "      <td>7.600000e+01</td>\n",
       "    </tr>\n",
       "    <tr>\n",
       "      <th>2</th>\n",
       "      <td>1</td>\n",
       "      <td>Armenia</td>\n",
       "      <td>1.1</td>\n",
       "      <td>74</td>\n",
       "      <td>460.0</td>\n",
       "      <td>8.988466e+307</td>\n",
       "    </tr>\n",
       "    <tr>\n",
       "      <th>3</th>\n",
       "      <td>1</td>\n",
       "      <td>Austria</td>\n",
       "      <td>0.4</td>\n",
       "      <td>79</td>\n",
       "      <td>26830.0</td>\n",
       "      <td>8.988466e+307</td>\n",
       "    </tr>\n",
       "    <tr>\n",
       "      <th>4</th>\n",
       "      <td>1</td>\n",
       "      <td>Azerbaijan</td>\n",
       "      <td>1.4</td>\n",
       "      <td>71</td>\n",
       "      <td>480.0</td>\n",
       "      <td>8.988466e+307</td>\n",
       "    </tr>\n",
       "    <tr>\n",
       "      <th>5</th>\n",
       "      <td>1</td>\n",
       "      <td>Belarus</td>\n",
       "      <td>0.3</td>\n",
       "      <td>68</td>\n",
       "      <td>2180.0</td>\n",
       "      <td>8.988466e+307</td>\n",
       "    </tr>\n",
       "  </tbody>\n",
       "</table>\n",
       "</div>"
      ],
      "text/plain": [
       "   region     country  popgrowth  lexp    gnppc      safewater\n",
       "1       1     Albania        1.2    72    810.0   7.600000e+01\n",
       "2       1     Armenia        1.1    74    460.0  8.988466e+307\n",
       "3       1     Austria        0.4    79  26830.0  8.988466e+307\n",
       "4       1  Azerbaijan        1.4    71    480.0  8.988466e+307\n",
       "5       1     Belarus        0.3    68   2180.0  8.988466e+307"
      ]
     },
     "execution_count": null,
     "metadata": {},
     "output_type": "execute_result"
    }
   ],
   "source": [
    "#| hide\n",
    "#| eval: False\n",
    "run_sfi(\"\"\"\\\n",
    "sysuse lifeexp, clear\n",
    "keep in 1/5\"\"\")\n",
    "_simple_dataframe_from_stata(None, None, False, _DefaultMissing())"
   ]
  },
  {
   "cell_type": "code",
   "execution_count": null,
   "metadata": {},
   "outputs": [],
   "source": [
    "#| export\n",
    "def better_dataframe_from_stata(stfr, var, obs, selectvar, valuelabel, missingval, sformat):\n",
    "    import numpy as np\n",
    "    import pandas as pd\n",
    "    import sfi\n",
    "    hdl = sfi.Data if stfr is None else sfi.Frame.connect(stfr)\n",
    "    custom_index_not_needed = obs is None and not selectvar\n",
    "    if custom_index_not_needed:\n",
    "        df = _simple_dataframe_from_stata(stfr, var, valuelabel, missingval)\n",
    "    else:\n",
    "        if hdl.getObsTotal() <= 0:\n",
    "            return pd.DataFrame()\n",
    "        df = _better_dataframe(hdl, var, obs, selectvar, valuelabel, missingval)\n",
    "    if sformat:\n",
    "        for v in list(df.columns):\n",
    "            if hdl.isVarTypeString(v) or (valuelabel and missingval==np.NaN\n",
    "                                          and not pd.api.types.is_numeric_dtype(df[v])):\n",
    "                continue\n",
    "            v_format = hdl.getVarFormat(v)\n",
    "            if missingval != np.NaN and not pd.api.types.is_numeric_dtype(df[v]):\n",
    "                def format_value(x):\n",
    "                    return stata_formatted(x, v_format).lstrip() if type(x)!=str else x\n",
    "            else:\n",
    "                def format_value(x):\n",
    "                    return stata_formatted(x, v_format).lstrip()\n",
    "            df[v] = df[v].apply(format_value)\n",
    "    return df"
   ]
  },
  {
   "cell_type": "code",
   "execution_count": null,
   "metadata": {},
   "outputs": [],
   "source": [
    "#| export\n",
    "def better_pdataframe_from_data(var=None, obs=None, selectvar=None, valuelabel=False, missingval=None, sformat=False):\n",
    "    import numpy as np\n",
    "    if missingval is None:\n",
    "        missingval = np.NaN\n",
    "    return better_dataframe_from_stata(None, var, obs, selectvar, valuelabel, missingval, sformat)"
   ]
  },
  {
   "cell_type": "code",
   "execution_count": null,
   "metadata": {},
   "outputs": [],
   "source": [
    "#| export\n",
    "def better_pdataframe_from_frame(stfr, var=None, obs=None, selectvar=None, valuelabel=False, missingval=None, sformat=False):\n",
    "    import numpy as np\n",
    "    if missingval is None:\n",
    "        missingval = np.NaN\n",
    "    return better_dataframe_from_stata(stfr, var, obs, selectvar, valuelabel, missingval, sformat)"
   ]
  },
  {
   "cell_type": "code",
   "execution_count": null,
   "metadata": {},
   "outputs": [
    {
     "name": "stdout",
     "output_type": "stream",
     "text": [
      "(U.S. life expectancy, 1900-1940)\n",
      "(1 real change made, 1 to missing)\n",
      "(1 real change made)\n",
      "(1 missing value generated)\n"
     ]
    },
    {
     "data": {
      "text/html": [
       "<div>\n",
       "<style scoped>\n",
       "    .dataframe tbody tr th:only-of-type {\n",
       "        vertical-align: middle;\n",
       "    }\n",
       "\n",
       "    .dataframe tbody tr th {\n",
       "        vertical-align: top;\n",
       "    }\n",
       "\n",
       "    .dataframe thead th {\n",
       "        text-align: right;\n",
       "    }\n",
       "</style>\n",
       "<table border=\"1\" class=\"dataframe\">\n",
       "  <thead>\n",
       "    <tr style=\"text-align: right;\">\n",
       "      <th></th>\n",
       "      <th>year</th>\n",
       "      <th>le</th>\n",
       "      <th>str_var</th>\n",
       "      <th>date</th>\n",
       "      <th>date_tc</th>\n",
       "      <th>date_tC</th>\n",
       "    </tr>\n",
       "  </thead>\n",
       "  <tbody>\n",
       "    <tr>\n",
       "      <th>1</th>\n",
       "      <td>2022</td>\n",
       "      <td>47.299999</td>\n",
       "      <td>test string</td>\n",
       "      <td>22646.0</td>\n",
       "      <td>1.956614e+12</td>\n",
       "      <td>1.956614e+12</td>\n",
       "    </tr>\n",
       "    <tr>\n",
       "      <th>2</th>\n",
       "      <td>1901</td>\n",
       "      <td>49.099998</td>\n",
       "      <td>test string</td>\n",
       "      <td>-21549.0</td>\n",
       "      <td>-1.861834e+12</td>\n",
       "      <td>-1.861834e+12</td>\n",
       "    </tr>\n",
       "    <tr>\n",
       "      <th>3</th>\n",
       "      <td>1902</td>\n",
       "      <td>51.500000</td>\n",
       "      <td>test string</td>\n",
       "      <td>-21184.0</td>\n",
       "      <td>-1.830298e+12</td>\n",
       "      <td>-1.830298e+12</td>\n",
       "    </tr>\n",
       "    <tr>\n",
       "      <th>4</th>\n",
       "      <td>1903</td>\n",
       "      <td>50.500000</td>\n",
       "      <td>test string</td>\n",
       "      <td>-20819.0</td>\n",
       "      <td>-1.798762e+12</td>\n",
       "      <td>-1.798762e+12</td>\n",
       "    </tr>\n",
       "    <tr>\n",
       "      <th>5</th>\n",
       "      <td>1904</td>\n",
       "      <td>NaN</td>\n",
       "      <td></td>\n",
       "      <td>-20454.0</td>\n",
       "      <td>-1.767226e+12</td>\n",
       "      <td>-1.767226e+12</td>\n",
       "    </tr>\n",
       "  </tbody>\n",
       "</table>\n",
       "</div>"
      ],
      "text/plain": [
       "   year         le      str_var     date       date_tc       date_tC\n",
       "1  2022  47.299999  test string  22646.0  1.956614e+12  1.956614e+12\n",
       "2  1901  49.099998  test string -21549.0 -1.861834e+12 -1.861834e+12\n",
       "3  1902  51.500000  test string -21184.0 -1.830298e+12 -1.830298e+12\n",
       "4  1903  50.500000  test string -20819.0 -1.798762e+12 -1.798762e+12\n",
       "5  1904        NaN              -20454.0 -1.767226e+12 -1.767226e+12"
      ]
     },
     "execution_count": null,
     "metadata": {},
     "output_type": "execute_result"
    }
   ],
   "source": [
    "#| eval: False\n",
    "run_sfi(\"\"\"\\\n",
    "sysuse uslifeexp2, clear\n",
    "replace le = . if _n==5\n",
    "replace year = 2022 if year==1900\n",
    "format year %-ty\n",
    "gen str_var = \"test string\" if _n!=5\n",
    "gen date = dofy(year)\n",
    "format date %td\n",
    "gen double date_tc = cofd(date)\n",
    "format date_tc %tc\n",
    "gen double date_tC = Cofd(date)\n",
    "format date_tC %tC\"\"\")\n",
    "better_pdataframe_from_data().head()"
   ]
  },
  {
   "cell_type": "code",
   "execution_count": null,
   "metadata": {},
   "outputs": [
    {
     "data": {
      "text/html": [
       "<div>\n",
       "<style scoped>\n",
       "    .dataframe tbody tr th:only-of-type {\n",
       "        vertical-align: middle;\n",
       "    }\n",
       "\n",
       "    .dataframe tbody tr th {\n",
       "        vertical-align: top;\n",
       "    }\n",
       "\n",
       "    .dataframe thead th {\n",
       "        text-align: right;\n",
       "    }\n",
       "</style>\n",
       "<table border=\"1\" class=\"dataframe\">\n",
       "  <thead>\n",
       "    <tr style=\"text-align: right;\">\n",
       "      <th></th>\n",
       "      <th>year</th>\n",
       "      <th>le</th>\n",
       "      <th>str_var</th>\n",
       "      <th>date</th>\n",
       "      <th>date_tc</th>\n",
       "      <th>date_tC</th>\n",
       "    </tr>\n",
       "  </thead>\n",
       "  <tbody>\n",
       "    <tr>\n",
       "      <th>1</th>\n",
       "      <td>2022</td>\n",
       "      <td>47.3</td>\n",
       "      <td>test string</td>\n",
       "      <td>01jan2022</td>\n",
       "      <td>01jan2022 00:00:00</td>\n",
       "      <td>01jan2022 00:00:00</td>\n",
       "    </tr>\n",
       "    <tr>\n",
       "      <th>2</th>\n",
       "      <td>1901</td>\n",
       "      <td>49.1</td>\n",
       "      <td>test string</td>\n",
       "      <td>01jan1901</td>\n",
       "      <td>01jan1901 00:00:00</td>\n",
       "      <td>01jan1901 00:00:00</td>\n",
       "    </tr>\n",
       "    <tr>\n",
       "      <th>3</th>\n",
       "      <td>1902</td>\n",
       "      <td>51.5</td>\n",
       "      <td>test string</td>\n",
       "      <td>01jan1902</td>\n",
       "      <td>01jan1902 00:00:00</td>\n",
       "      <td>01jan1902 00:00:00</td>\n",
       "    </tr>\n",
       "    <tr>\n",
       "      <th>4</th>\n",
       "      <td>1903</td>\n",
       "      <td>50.5</td>\n",
       "      <td>test string</td>\n",
       "      <td>01jan1903</td>\n",
       "      <td>01jan1903 00:00:00</td>\n",
       "      <td>01jan1903 00:00:00</td>\n",
       "    </tr>\n",
       "    <tr>\n",
       "      <th>5</th>\n",
       "      <td>1904</td>\n",
       "      <td>.</td>\n",
       "      <td></td>\n",
       "      <td>01jan1904</td>\n",
       "      <td>01jan1904 00:00:00</td>\n",
       "      <td>01jan1904 00:00:00</td>\n",
       "    </tr>\n",
       "  </tbody>\n",
       "</table>\n",
       "</div>"
      ],
      "text/plain": [
       "   year    le      str_var       date             date_tc             date_tC\n",
       "1  2022  47.3  test string  01jan2022  01jan2022 00:00:00  01jan2022 00:00:00\n",
       "2  1901  49.1  test string  01jan1901  01jan1901 00:00:00  01jan1901 00:00:00\n",
       "3  1902  51.5  test string  01jan1902  01jan1902 00:00:00  01jan1902 00:00:00\n",
       "4  1903  50.5  test string  01jan1903  01jan1903 00:00:00  01jan1903 00:00:00\n",
       "5  1904     .               01jan1904  01jan1904 00:00:00  01jan1904 00:00:00"
      ]
     },
     "execution_count": null,
     "metadata": {},
     "output_type": "execute_result"
    }
   ],
   "source": [
    "#| eval: False\n",
    "better_pdataframe_from_data(sformat=True).head()"
   ]
  },
  {
   "cell_type": "code",
   "execution_count": null,
   "metadata": {},
   "outputs": [
    {
     "data": {
      "text/html": [
       "<div>\n",
       "<style scoped>\n",
       "    .dataframe tbody tr th:only-of-type {\n",
       "        vertical-align: middle;\n",
       "    }\n",
       "\n",
       "    .dataframe tbody tr th {\n",
       "        vertical-align: top;\n",
       "    }\n",
       "\n",
       "    .dataframe thead th {\n",
       "        text-align: right;\n",
       "    }\n",
       "</style>\n",
       "<table border=\"1\" class=\"dataframe\">\n",
       "  <thead>\n",
       "    <tr style=\"text-align: right;\">\n",
       "      <th></th>\n",
       "      <th>year</th>\n",
       "      <th>le</th>\n",
       "      <th>str_var</th>\n",
       "      <th>date</th>\n",
       "      <th>date_tc</th>\n",
       "      <th>date_tC</th>\n",
       "    </tr>\n",
       "  </thead>\n",
       "  <tbody>\n",
       "    <tr>\n",
       "      <th>1</th>\n",
       "      <td>2022</td>\n",
       "      <td>47.3</td>\n",
       "      <td>test string</td>\n",
       "      <td>01jan2022</td>\n",
       "      <td>01jan2022 00:00:00</td>\n",
       "      <td>01jan2022 00:00:00</td>\n",
       "    </tr>\n",
       "    <tr>\n",
       "      <th>2</th>\n",
       "      <td>1901</td>\n",
       "      <td>49.1</td>\n",
       "      <td>test string</td>\n",
       "      <td>01jan1901</td>\n",
       "      <td>01jan1901 00:00:00</td>\n",
       "      <td>01jan1901 00:00:00</td>\n",
       "    </tr>\n",
       "    <tr>\n",
       "      <th>3</th>\n",
       "      <td>1902</td>\n",
       "      <td>51.5</td>\n",
       "      <td>test string</td>\n",
       "      <td>01jan1902</td>\n",
       "      <td>01jan1902 00:00:00</td>\n",
       "      <td>01jan1902 00:00:00</td>\n",
       "    </tr>\n",
       "    <tr>\n",
       "      <th>4</th>\n",
       "      <td>1903</td>\n",
       "      <td>50.5</td>\n",
       "      <td>test string</td>\n",
       "      <td>01jan1903</td>\n",
       "      <td>01jan1903 00:00:00</td>\n",
       "      <td>01jan1903 00:00:00</td>\n",
       "    </tr>\n",
       "    <tr>\n",
       "      <th>5</th>\n",
       "      <td>1904</td>\n",
       "      <td>.</td>\n",
       "      <td></td>\n",
       "      <td>01jan1904</td>\n",
       "      <td>01jan1904 00:00:00</td>\n",
       "      <td>01jan1904 00:00:00</td>\n",
       "    </tr>\n",
       "  </tbody>\n",
       "</table>\n",
       "</div>"
      ],
      "text/plain": [
       "   year    le      str_var       date             date_tc             date_tC\n",
       "1  2022  47.3  test string  01jan2022  01jan2022 00:00:00  01jan2022 00:00:00\n",
       "2  1901  49.1  test string  01jan1901  01jan1901 00:00:00  01jan1901 00:00:00\n",
       "3  1902  51.5  test string  01jan1902  01jan1902 00:00:00  01jan1902 00:00:00\n",
       "4  1903  50.5  test string  01jan1903  01jan1903 00:00:00  01jan1903 00:00:00\n",
       "5  1904     .               01jan1904  01jan1904 00:00:00  01jan1904 00:00:00"
      ]
     },
     "execution_count": null,
     "metadata": {},
     "output_type": "execute_result"
    }
   ],
   "source": [
    "#| hide\n",
    "#| eval: False\n",
    "better_pdataframe_from_data(valuelabel=True, sformat=True, missingval=\".\").head()"
   ]
  },
  {
   "cell_type": "code",
   "execution_count": null,
   "metadata": {},
   "outputs": [
    {
     "data": {
      "text/html": [
       "<div>\n",
       "<style scoped>\n",
       "    .dataframe tbody tr th:only-of-type {\n",
       "        vertical-align: middle;\n",
       "    }\n",
       "\n",
       "    .dataframe tbody tr th {\n",
       "        vertical-align: top;\n",
       "    }\n",
       "\n",
       "    .dataframe thead th {\n",
       "        text-align: right;\n",
       "    }\n",
       "</style>\n",
       "<table border=\"1\" class=\"dataframe\">\n",
       "  <thead>\n",
       "    <tr style=\"text-align: right;\">\n",
       "      <th></th>\n",
       "      <th>year</th>\n",
       "      <th>le</th>\n",
       "      <th>str_var</th>\n",
       "      <th>date</th>\n",
       "      <th>date_tc</th>\n",
       "      <th>date_tC</th>\n",
       "    </tr>\n",
       "  </thead>\n",
       "  <tbody>\n",
       "    <tr>\n",
       "      <th>1</th>\n",
       "      <td>2022</td>\n",
       "      <td>47.3</td>\n",
       "      <td>test string</td>\n",
       "      <td>01jan2022</td>\n",
       "      <td>01jan2022 00:00:00</td>\n",
       "      <td>01jan2022 00:00:00</td>\n",
       "    </tr>\n",
       "    <tr>\n",
       "      <th>2</th>\n",
       "      <td>1901</td>\n",
       "      <td>49.1</td>\n",
       "      <td>test string</td>\n",
       "      <td>01jan1901</td>\n",
       "      <td>01jan1901 00:00:00</td>\n",
       "      <td>01jan1901 00:00:00</td>\n",
       "    </tr>\n",
       "    <tr>\n",
       "      <th>3</th>\n",
       "      <td>1902</td>\n",
       "      <td>51.5</td>\n",
       "      <td>test string</td>\n",
       "      <td>01jan1902</td>\n",
       "      <td>01jan1902 00:00:00</td>\n",
       "      <td>01jan1902 00:00:00</td>\n",
       "    </tr>\n",
       "    <tr>\n",
       "      <th>4</th>\n",
       "      <td>1903</td>\n",
       "      <td>50.5</td>\n",
       "      <td>test string</td>\n",
       "      <td>01jan1903</td>\n",
       "      <td>01jan1903 00:00:00</td>\n",
       "      <td>01jan1903 00:00:00</td>\n",
       "    </tr>\n",
       "    <tr>\n",
       "      <th>5</th>\n",
       "      <td>1904</td>\n",
       "      <td>.</td>\n",
       "      <td></td>\n",
       "      <td>01jan1904</td>\n",
       "      <td>01jan1904 00:00:00</td>\n",
       "      <td>01jan1904 00:00:00</td>\n",
       "    </tr>\n",
       "  </tbody>\n",
       "</table>\n",
       "</div>"
      ],
      "text/plain": [
       "   year    le      str_var       date             date_tc             date_tC\n",
       "1  2022  47.3  test string  01jan2022  01jan2022 00:00:00  01jan2022 00:00:00\n",
       "2  1901  49.1  test string  01jan1901  01jan1901 00:00:00  01jan1901 00:00:00\n",
       "3  1902  51.5  test string  01jan1902  01jan1902 00:00:00  01jan1902 00:00:00\n",
       "4  1903  50.5  test string  01jan1903  01jan1903 00:00:00  01jan1903 00:00:00\n",
       "5  1904     .               01jan1904  01jan1904 00:00:00  01jan1904 00:00:00"
      ]
     },
     "execution_count": null,
     "metadata": {},
     "output_type": "execute_result"
    }
   ],
   "source": [
    "#| hide\n",
    "#| eval: False\n",
    "better_pdataframe_from_data(sformat=True, missingval=\".\").head()"
   ]
  },
  {
   "cell_type": "code",
   "execution_count": null,
   "metadata": {},
   "outputs": [
    {
     "data": {
      "text/html": [
       "<div>\n",
       "<style scoped>\n",
       "    .dataframe tbody tr th:only-of-type {\n",
       "        vertical-align: middle;\n",
       "    }\n",
       "\n",
       "    .dataframe tbody tr th {\n",
       "        vertical-align: top;\n",
       "    }\n",
       "\n",
       "    .dataframe thead th {\n",
       "        text-align: right;\n",
       "    }\n",
       "</style>\n",
       "<table border=\"1\" class=\"dataframe\">\n",
       "  <thead>\n",
       "    <tr style=\"text-align: right;\">\n",
       "      <th></th>\n",
       "      <th>year</th>\n",
       "      <th>le</th>\n",
       "      <th>str_var</th>\n",
       "      <th>date</th>\n",
       "      <th>date_tc</th>\n",
       "      <th>date_tC</th>\n",
       "    </tr>\n",
       "  </thead>\n",
       "  <tbody>\n",
       "    <tr>\n",
       "      <th>2</th>\n",
       "      <td>1901</td>\n",
       "      <td>49.099998</td>\n",
       "      <td>test string</td>\n",
       "      <td>-21549.0</td>\n",
       "      <td>-1.861834e+12</td>\n",
       "      <td>-1.861834e+12</td>\n",
       "    </tr>\n",
       "    <tr>\n",
       "      <th>3</th>\n",
       "      <td>1902</td>\n",
       "      <td>51.500000</td>\n",
       "      <td>test string</td>\n",
       "      <td>-21184.0</td>\n",
       "      <td>-1.830298e+12</td>\n",
       "      <td>-1.830298e+12</td>\n",
       "    </tr>\n",
       "  </tbody>\n",
       "</table>\n",
       "</div>"
      ],
      "text/plain": [
       "   year         le      str_var     date       date_tc       date_tC\n",
       "2  1901  49.099998  test string -21549.0 -1.861834e+12 -1.861834e+12\n",
       "3  1902  51.500000  test string -21184.0 -1.830298e+12 -1.830298e+12"
      ]
     },
     "execution_count": null,
     "metadata": {},
     "output_type": "execute_result"
    }
   ],
   "source": [
    "#| hide\n",
    "#| eval: False\n",
    "better_pdataframe_from_data(obs=range(1, 3)).head()"
   ]
  },
  {
   "cell_type": "code",
   "execution_count": null,
   "metadata": {},
   "outputs": [],
   "source": [
    "#| hide\n",
    "#| eval: False\n",
    "test_fail(better_pdataframe_from_data, kwargs=dict(obs=range(1000)))"
   ]
  },
  {
   "cell_type": "code",
   "execution_count": null,
   "metadata": {},
   "outputs": [
    {
     "data": {
      "text/html": [
       "<div>\n",
       "<style scoped>\n",
       "    .dataframe tbody tr th:only-of-type {\n",
       "        vertical-align: middle;\n",
       "    }\n",
       "\n",
       "    .dataframe tbody tr th {\n",
       "        vertical-align: top;\n",
       "    }\n",
       "\n",
       "    .dataframe thead th {\n",
       "        text-align: right;\n",
       "    }\n",
       "</style>\n",
       "<table border=\"1\" class=\"dataframe\">\n",
       "  <thead>\n",
       "    <tr style=\"text-align: right;\">\n",
       "      <th></th>\n",
       "      <th>year</th>\n",
       "      <th>le</th>\n",
       "      <th>str_var</th>\n",
       "      <th>date</th>\n",
       "      <th>date_tc</th>\n",
       "      <th>date_tC</th>\n",
       "    </tr>\n",
       "  </thead>\n",
       "  <tbody>\n",
       "    <tr>\n",
       "      <th>1</th>\n",
       "      <td>2022</td>\n",
       "      <td>47.299999</td>\n",
       "      <td>test string</td>\n",
       "      <td>22646.0</td>\n",
       "      <td>1.956614e+12</td>\n",
       "      <td>1.956614e+12</td>\n",
       "    </tr>\n",
       "    <tr>\n",
       "      <th>2</th>\n",
       "      <td>1901</td>\n",
       "      <td>49.099998</td>\n",
       "      <td>test string</td>\n",
       "      <td>-21549.0</td>\n",
       "      <td>-1.861834e+12</td>\n",
       "      <td>-1.861834e+12</td>\n",
       "    </tr>\n",
       "    <tr>\n",
       "      <th>3</th>\n",
       "      <td>1902</td>\n",
       "      <td>51.5</td>\n",
       "      <td>test string</td>\n",
       "      <td>-21184.0</td>\n",
       "      <td>-1.830298e+12</td>\n",
       "      <td>-1.830298e+12</td>\n",
       "    </tr>\n",
       "    <tr>\n",
       "      <th>4</th>\n",
       "      <td>1903</td>\n",
       "      <td>50.5</td>\n",
       "      <td>test string</td>\n",
       "      <td>-20819.0</td>\n",
       "      <td>-1.798762e+12</td>\n",
       "      <td>-1.798762e+12</td>\n",
       "    </tr>\n",
       "    <tr>\n",
       "      <th>5</th>\n",
       "      <td>1904</td>\n",
       "      <td>.</td>\n",
       "      <td></td>\n",
       "      <td>-20454.0</td>\n",
       "      <td>-1.767226e+12</td>\n",
       "      <td>-1.767226e+12</td>\n",
       "    </tr>\n",
       "  </tbody>\n",
       "</table>\n",
       "</div>"
      ],
      "text/plain": [
       "   year         le      str_var     date       date_tc       date_tC\n",
       "1  2022  47.299999  test string  22646.0  1.956614e+12  1.956614e+12\n",
       "2  1901  49.099998  test string -21549.0 -1.861834e+12 -1.861834e+12\n",
       "3  1902       51.5  test string -21184.0 -1.830298e+12 -1.830298e+12\n",
       "4  1903       50.5  test string -20819.0 -1.798762e+12 -1.798762e+12\n",
       "5  1904          .              -20454.0 -1.767226e+12 -1.767226e+12"
      ]
     },
     "execution_count": null,
     "metadata": {},
     "output_type": "execute_result"
    }
   ],
   "source": [
    "#| hide\n",
    "#| eval: False\n",
    "better_pdataframe_from_data(missingval='.').head()"
   ]
  },
  {
   "cell_type": "code",
   "execution_count": null,
   "metadata": {},
   "outputs": [
    {
     "data": {
      "text/html": [
       "<div>\n",
       "<style scoped>\n",
       "    .dataframe tbody tr th:only-of-type {\n",
       "        vertical-align: middle;\n",
       "    }\n",
       "\n",
       "    .dataframe tbody tr th {\n",
       "        vertical-align: top;\n",
       "    }\n",
       "\n",
       "    .dataframe thead th {\n",
       "        text-align: right;\n",
       "    }\n",
       "</style>\n",
       "<table border=\"1\" class=\"dataframe\">\n",
       "  <thead>\n",
       "    <tr style=\"text-align: right;\">\n",
       "      <th></th>\n",
       "      <th>year</th>\n",
       "      <th>date_tc</th>\n",
       "      <th>date_tC</th>\n",
       "    </tr>\n",
       "  </thead>\n",
       "  <tbody>\n",
       "    <tr>\n",
       "      <th>1</th>\n",
       "      <td>2022</td>\n",
       "      <td>1.956614e+12</td>\n",
       "      <td>1.956614e+12</td>\n",
       "    </tr>\n",
       "    <tr>\n",
       "      <th>2</th>\n",
       "      <td>1901</td>\n",
       "      <td>-1.861834e+12</td>\n",
       "      <td>-1.861834e+12</td>\n",
       "    </tr>\n",
       "    <tr>\n",
       "      <th>3</th>\n",
       "      <td>1902</td>\n",
       "      <td>-1.830298e+12</td>\n",
       "      <td>-1.830298e+12</td>\n",
       "    </tr>\n",
       "    <tr>\n",
       "      <th>4</th>\n",
       "      <td>1903</td>\n",
       "      <td>-1.798762e+12</td>\n",
       "      <td>-1.798762e+12</td>\n",
       "    </tr>\n",
       "    <tr>\n",
       "      <th>5</th>\n",
       "      <td>1904</td>\n",
       "      <td>-1.767226e+12</td>\n",
       "      <td>-1.767226e+12</td>\n",
       "    </tr>\n",
       "  </tbody>\n",
       "</table>\n",
       "</div>"
      ],
      "text/plain": [
       "   year       date_tc       date_tC\n",
       "1  2022  1.956614e+12  1.956614e+12\n",
       "2  1901 -1.861834e+12 -1.861834e+12\n",
       "3  1902 -1.830298e+12 -1.830298e+12\n",
       "4  1903 -1.798762e+12 -1.798762e+12\n",
       "5  1904 -1.767226e+12 -1.767226e+12"
      ]
     },
     "execution_count": null,
     "metadata": {},
     "output_type": "execute_result"
    }
   ],
   "source": [
    "#| hide\n",
    "#| eval: False\n",
    "better_pdataframe_from_data(var=['year', 'date_tc', 'date_tC']).head()"
   ]
  },
  {
   "cell_type": "code",
   "execution_count": null,
   "metadata": {},
   "outputs": [],
   "source": [
    "#| hide\n",
    "import nbdev; nbdev.nbdev_export()"
   ]
  }
 ],
 "metadata": {
  "kernelspec": {
   "display_name": "python3",
   "language": "python",
   "name": "python3"
  }
 },
 "nbformat": 4,
 "nbformat_minor": 4
}
