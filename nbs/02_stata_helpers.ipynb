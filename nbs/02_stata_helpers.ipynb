{
 "cells": [
  {
   "cell_type": "markdown",
   "id": "2c184729",
   "metadata": {},
   "source": [
    "# stata helpers\n",
    "\n",
    "> Helper functions that require Stata to be running (no Jupyter dependence)"
   ]
  },
  {
   "cell_type": "code",
   "execution_count": null,
   "id": "c7fb586a",
   "metadata": {},
   "outputs": [],
   "source": [
    "#| default_exp stata_helpers\n",
    "%load_ext autoreload\n",
    "%autoreload 2"
   ]
  },
  {
   "cell_type": "code",
   "execution_count": null,
   "id": "026b00b7",
   "metadata": {},
   "outputs": [],
   "source": [
    "#| hide\n",
    "from nbdev.showdoc import *\n",
    "from fastcore.test import test_eq"
   ]
  },
  {
   "cell_type": "code",
   "execution_count": null,
   "id": "4b35edd5",
   "metadata": {},
   "outputs": [],
   "source": [
    "#| export\n",
    "import pandas as pd\n",
    "import numpy as np\n",
    "from nbstata.config import set_pystata_path\n",
    "from nbstata.helpers import launch_stata"
   ]
  },
  {
   "cell_type": "code",
   "execution_count": null,
   "id": "8171f6ca",
   "metadata": {},
   "outputs": [],
   "source": [
    "#| export\n",
    "set_pystata_path()\n",
    "import pystata"
   ]
  },
  {
   "cell_type": "code",
   "execution_count": null,
   "id": "d154ce49",
   "metadata": {},
   "outputs": [],
   "source": [
    "#| export\n",
    "def count():\n",
    "    \"\"\"Count the number of observations\"\"\"\n",
    "    import sfi\n",
    "    return sfi.Data.getObsTotal()"
   ]
  },
  {
   "cell_type": "code",
   "execution_count": null,
   "id": "2134bd06",
   "metadata": {},
   "outputs": [
    {
     "ename": "NameError",
     "evalue": "name 'set_pystata_path' is not defined",
     "output_type": "error",
     "traceback": [
      "\u001b[1;31m---------------------------------------------------------------------------\u001b[0m",
      "\u001b[1;31mNameError\u001b[0m                                 Traceback (most recent call last)",
      "Input \u001b[1;32mIn [6]\u001b[0m, in \u001b[0;36m<cell line: 2>\u001b[1;34m()\u001b[0m\n\u001b[0;32m      1\u001b[0m \u001b[38;5;66;03m#|eval: false\u001b[39;00m\n\u001b[1;32m----> 2\u001b[0m \u001b[43mlaunch_stata\u001b[49m\u001b[43m(\u001b[49m\u001b[43msplash\u001b[49m\u001b[38;5;241;43m=\u001b[39;49m\u001b[38;5;28;43;01mFalse\u001b[39;49;00m\u001b[43m)\u001b[49m\n\u001b[0;32m      3\u001b[0m count()\n",
      "File \u001b[1;32mc:\\users\\tjhuegerich\\onedrive - lrca\\nbstata\\nbstata\\helpers.py:19\u001b[0m, in \u001b[0;36mlaunch_stata\u001b[1;34m(path, edition, splash)\u001b[0m\n\u001b[0;32m     17\u001b[0m     path \u001b[38;5;241m=\u001b[39m path_found \u001b[38;5;28;01mif\u001b[39;00m path\u001b[38;5;241m==\u001b[39m\u001b[38;5;28;01mNone\u001b[39;00m \u001b[38;5;28;01melse\u001b[39;00m path\n\u001b[0;32m     18\u001b[0m     edition \u001b[38;5;241m=\u001b[39m edition_found \u001b[38;5;28;01mif\u001b[39;00m edition\u001b[38;5;241m==\u001b[39m\u001b[38;5;28;01mNone\u001b[39;00m \u001b[38;5;28;01melse\u001b[39;00m edition\n\u001b[1;32m---> 19\u001b[0m \u001b[43mset_pystata_path\u001b[49m(path)\n\u001b[0;32m     20\u001b[0m \u001b[38;5;28;01mimport\u001b[39;00m \u001b[38;5;21;01mpystata\u001b[39;00m\n\u001b[0;32m     21\u001b[0m \u001b[38;5;28;01mif\u001b[39;00m version\u001b[38;5;241m.\u001b[39mparse(pystata\u001b[38;5;241m.\u001b[39m__version__) \u001b[38;5;241m>\u001b[39m\u001b[38;5;241m=\u001b[39m version\u001b[38;5;241m.\u001b[39mparse(\u001b[38;5;124m\"\u001b[39m\u001b[38;5;124m0.1.1\u001b[39m\u001b[38;5;124m\"\u001b[39m):\n\u001b[0;32m     22\u001b[0m     \u001b[38;5;66;03m# Splash message control is a new feature of pystata-0.1.1\u001b[39;00m\n",
      "\u001b[1;31mNameError\u001b[0m: name 'set_pystata_path' is not defined"
     ]
    }
   ],
   "source": [
    "#|eval: false\n",
    "launch_stata(splash=False)\n",
    "count()"
   ]
  },
  {
   "cell_type": "code",
   "execution_count": null,
   "id": "29843e02",
   "metadata": {},
   "outputs": [],
   "source": [
    "#| export\n",
    "def resolve_macro(macro):\n",
    "    import sfi\n",
    "    macro = macro.strip()\n",
    "    if macro.startswith(\"`\") and macro.endswith(\"'\"):\n",
    "        macro = sfi.Macro.getLocal(macro[1:-1])\n",
    "    elif macro.startswith(\"$_\"):\n",
    "        macro = sfi.Macro.getLocal(macro[2:])\n",
    "    elif macro.startswith(\"$\"):\n",
    "        macro = sfi.Macro.getGlobal(macro[1:])\n",
    "    return macro"
   ]
  },
  {
   "cell_type": "code",
   "execution_count": null,
   "id": "40084cb1",
   "metadata": {},
   "outputs": [],
   "source": [
    "#|eval: false\n",
    "%stata global test = \"hello world\"\n",
    "resolve_macro(\"$test\")"
   ]
  },
  {
   "cell_type": "code",
   "execution_count": null,
   "id": "0d9eea74",
   "metadata": {},
   "outputs": [],
   "source": [
    "#| export\n",
    "def better_dataframe_from_stata(stfr, var, obs, selectvar, valuelabel, missingval):\n",
    "    import sfi\n",
    "    hdl = sfi.Data if stfr is None else sfi.Frame.connect(stfr)\n",
    "\n",
    "    if hdl.getObsTotal() <= 0:\n",
    "        return None\n",
    "\n",
    "    pystata.stata.run(\"\"\"tempvar indexvar\n",
    "                         generate `indexvar' = _n\"\"\", quietly=True)\n",
    "    idx_var = sfi.Macro.getLocal('indexvar')\n",
    "\n",
    "    data = hdl.getAsDict(var, obs, selectvar, valuelabel, missingval)\n",
    "    if idx_var in data:\n",
    "        idx = data.pop(idx_var)\n",
    "    else:\n",
    "        idx = hdl.getAsDict(idx_var, obs, selectvar, valuelabel, missingval).pop(idx_var)\n",
    "\n",
    "    idx = pd.array(idx, dtype='Int64')\n",
    "\n",
    "    pystata.stata.run(\"drop `indexvar'\")\n",
    "\n",
    "    return pd.DataFrame(data=data, index=idx).convert_dtypes()"
   ]
  },
  {
   "cell_type": "code",
   "execution_count": null,
   "id": "c291c4bf",
   "metadata": {},
   "outputs": [],
   "source": [
    "#| export\n",
    "def better_pdataframe_from_data(var=None, obs=None, selectvar=None, valuelabel=False, missingval=np.NaN):\n",
    "    import sfi\n",
    "    pystata.config.check_initialized()\n",
    "\n",
    "    return better_dataframe_from_stata(None, var, obs, selectvar, valuelabel, missingval)"
   ]
  },
  {
   "cell_type": "code",
   "execution_count": null,
   "id": "c8ff52de",
   "metadata": {},
   "outputs": [],
   "source": [
    "#| export\n",
    "def better_pdataframe_from_frame(stfr, var=None, obs=None, selectvar=None, valuelabel=False, missingval=np.NaN):\n",
    "    import sfi\n",
    "    pystata.config.check_initialized()\n",
    "\n",
    "    return better_dataframe_from_stata(stfr, var, obs, selectvar, valuelabel, missingval)"
   ]
  }
 ],
 "metadata": {
  "kernelspec": {
   "display_name": "Python 3 (ipykernel)",
   "language": "python",
   "name": "python3"
  }
 },
 "nbformat": 4,
 "nbformat_minor": 5
}
