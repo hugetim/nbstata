{
 "cells": [
  {
   "cell_type": "markdown",
   "id": "2c184729",
   "metadata": {},
   "source": [
    "# completions\n",
    "\n",
    "> Autocomplete functionality\n",
    "- order: 11"
   ]
  },
  {
   "cell_type": "markdown",
   "id": "e2014567",
   "metadata": {},
   "source": [
    "Adapted from the [stata_kernel version](https://github.com/kylebarron/stata_kernel/blob/master/stata_kernel/completions.py)."
   ]
  },
  {
   "cell_type": "code",
   "execution_count": null,
   "id": "c7fb586a",
   "metadata": {},
   "outputs": [],
   "source": [
    "#| default_exp completions\n",
    "%load_ext autoreload\n",
    "%autoreload 2"
   ]
  },
  {
   "cell_type": "code",
   "execution_count": null,
   "id": "026b00b7",
   "metadata": {},
   "outputs": [],
   "source": [
    "#| hide\n",
    "from nbdev.showdoc import *"
   ]
  },
  {
   "cell_type": "code",
   "execution_count": null,
   "id": "e335395e",
   "metadata": {},
   "outputs": [],
   "source": [
    "#| export\n",
    "from nbstata.stata import get_global, pwd\n",
    "from nbstata.stata_session import StataSession\n",
    "from nbstata.magics import StataMagics\n",
    "from nbstata.completion_env import CompletionEnv, Env\n",
    "from fastcore.basics import patch_to\n",
    "import os\n",
    "import re\n",
    "import platform"
   ]
  },
  {
   "cell_type": "code",
   "execution_count": null,
   "id": "cdfde140",
   "metadata": {},
   "outputs": [],
   "source": [
    "#| export\n",
    "class CompletionsManager():\n",
    "    def __init__(self, stata_session: StataSession):\n",
    "        \"\"\"\"\"\"\n",
    "        self.stata_session = stata_session\n",
    "        self.available_magics = list(StataMagics.available_magics.keys())\n",
    "        self.env_helper = CompletionEnv()"
   ]
  },
  {
   "cell_type": "code",
   "execution_count": null,
   "id": "9d085610",
   "metadata": {},
   "outputs": [],
   "source": [
    "#| hide\n",
    "from unittest.mock import Mock"
   ]
  },
  {
   "cell_type": "code",
   "execution_count": null,
   "id": "8a4015a3",
   "metadata": {},
   "outputs": [
    {
     "data": {
      "text/plain": [
       "['browse',\n",
       " 'head',\n",
       " 'tail',\n",
       " 'locals',\n",
       " 'delimit',\n",
       " 'help',\n",
       " 'quietly',\n",
       " 'noecho',\n",
       " 'echo']"
      ]
     },
     "execution_count": null,
     "metadata": {},
     "output_type": "execute_result"
    }
   ],
   "source": [
    "#| hide\n",
    "test_instance = CompletionsManager(Mock())\n",
    "test_instance.available_magics"
   ]
  },
  {
   "cell_type": "code",
   "execution_count": null,
   "id": "f1c728ba",
   "metadata": {},
   "outputs": [],
   "source": [
    "#| export\n",
    "@patch_to(CompletionsManager)\n",
    "def get_globals(self):\n",
    "    if self.stata_session.suggestions:\n",
    "        return {k: get_global(k) for k in self.stata_session.suggestions['globals']}\n",
    "    else:\n",
    "        return {}"
   ]
  },
  {
   "cell_type": "code",
   "execution_count": null,
   "id": "99382f7f",
   "metadata": {},
   "outputs": [],
   "source": [
    "#| export\n",
    "@patch_to(CompletionsManager)\n",
    "def get_file_paths(self, chunk):\n",
    "    \"\"\"Get file paths based on chunk\n",
    "    Args:\n",
    "        chunk (str): chunk of text after last space. Doesn't include string\n",
    "            punctuation characters\n",
    "    Returns:\n",
    "        (List[str]): folders and files at that location\n",
    "    \"\"\"\n",
    "    # If local exists, return empty list\n",
    "    if re.search(r'[`\\']', chunk):\n",
    "        return []\n",
    "\n",
    "    # Define directory separator\n",
    "    dir_sep = '/'\n",
    "    if platform.system() == 'Windows':\n",
    "        if '/' not in chunk:\n",
    "            dir_sep = '\\\\'\n",
    "\n",
    "    # Get directory without ending file, and without / or \\\n",
    "    if any(x in chunk for x in ['/', '\\\\']):\n",
    "        ind = max(chunk.rfind('/'), chunk.rfind('\\\\'))\n",
    "        user_folder = chunk[:ind + 1]\n",
    "        user_starts = chunk[ind + 1:]\n",
    "\n",
    "        # Replace multiple consecutive / with a single /\n",
    "        user_folder = re.sub(r'/+', '/', user_folder)\n",
    "        user_folder = re.sub(r'\\\\+', r'\\\\', user_folder)\n",
    "\n",
    "    else:\n",
    "        user_folder = ''\n",
    "        user_starts = chunk\n",
    "\n",
    "    # Replace globals with their values\n",
    "    globals_re = r'\\$\\{?((?![0-9_])\\w{1,32})\\}?'\n",
    "    try:\n",
    "        folder = re.sub(\n",
    "            globals_re, \n",
    "            lambda x: self.get_globals()[x.group(1)], \n",
    "            user_folder\n",
    "        )\n",
    "    except KeyError:\n",
    "        # If the global doesn't exist (aka it hasn't been defined in \n",
    "        # the Stata environment yet), then there are no paths to check\n",
    "        return []\n",
    "\n",
    "    # Use Stata's relative path\n",
    "    abspath = re.search(r'^([/~]|[a-zA-Z]:)', folder)\n",
    "    if not abspath:\n",
    "        folder = pwd() + '/' + folder\n",
    "\n",
    "    try:\n",
    "        top_dir, dirs, files = next(os.walk(os.path.expanduser(folder)))\n",
    "        results = [x + dir_sep for x in dirs] + files\n",
    "        results = [\n",
    "            user_folder + x for x in results if not x.startswith('.')\n",
    "            and re.match(re.escape(user_starts), x, re.I)]\n",
    "\n",
    "    except StopIteration:\n",
    "        results = []\n",
    "\n",
    "    return sorted(results)"
   ]
  },
  {
   "cell_type": "code",
   "execution_count": null,
   "id": "4b362150",
   "metadata": {},
   "outputs": [],
   "source": [
    "#| eval: false\n",
    "from nbstata.config import launch_stata\n",
    "from nbstata.stata_more import run_sfi"
   ]
  },
  {
   "cell_type": "code",
   "execution_count": null,
   "id": "bacb5efe",
   "metadata": {},
   "outputs": [
    {
     "data": {
      "text/plain": [
       "['00_misc_utils.ipynb',\n",
       " '01_config.ipynb',\n",
       " '02_stata.ipynb',\n",
       " '03_stata_more.ipynb',\n",
       " '04_code_utils.ipynb',\n",
       " '05_noecho.ipynb',\n",
       " '06_pandas.ipynb',\n",
       " '07_browse.ipynb',\n",
       " '08_stata_session.ipynb',\n",
       " '09_magics.ipynb']"
      ]
     },
     "execution_count": null,
     "metadata": {},
     "output_type": "execute_result"
    }
   ],
   "source": [
    "#| eval: false\n",
    "launch_stata(splash=False)\n",
    "test_stata = StataSession()\n",
    "test_instance = CompletionsManager(test_stata)\n",
    "test_instance.get_file_paths(\"0\")"
   ]
  },
  {
   "cell_type": "code",
   "execution_count": null,
   "id": "1f98847d",
   "metadata": {},
   "outputs": [
    {
     "data": {
      "text/plain": [
       "['$in_path/completion_env.py', '$in_path/completions.py']"
      ]
     },
     "execution_count": null,
     "metadata": {},
     "output_type": "execute_result"
    }
   ],
   "source": [
    "#| eval: false\n",
    "run_sfi('global in_path \"../nbstata\"')\n",
    "test_instance.stata_session.refresh_suggestions()\n",
    "test_instance.get_file_paths(\"$in_path/com\")"
   ]
  },
  {
   "cell_type": "code",
   "execution_count": null,
   "id": "e320f350",
   "metadata": {},
   "outputs": [],
   "source": [
    "#| export\n",
    "\n",
    "relevant_suggestion_keys = {\n",
    "    Env.NONE: [],\n",
    "    Env.GENERAL: ['varlist', 'scalars'],\n",
    "    Env.LOCAL: ['locals'],\n",
    "    Env.GLOBAL: ['globals'],\n",
    "    Env.SCALAR: ['scalars'],\n",
    "    Env.MATRIX: ['matrices'],\n",
    "    Env.SCALAR_VAR: ['scalars', 'varlist'],\n",
    "    Env.MATRIX_VAR: ['matrices', 'varlist'],\n",
    "    Env.STRING: [],\n",
    "}\n",
    "\n",
    "@patch_to(CompletionsManager)\n",
    "def get(self, starts, env, rcomp):\n",
    "    \"\"\"Return environment-aware completions list.\"\"\"\n",
    "    if env is Env.MAGIC:\n",
    "        candidate_suggestions = self.available_magics\n",
    "    else:\n",
    "        candidate_suggestions = [suggestion\n",
    "                                 for key in relevant_suggestion_keys[env]\n",
    "                                 for suggestion in self.stata_session.suggestions[key]]\n",
    "    relevant_suggestions = [candidate + rcomp \n",
    "                            for candidate in candidate_suggestions\n",
    "                            if candidate.startswith(starts)]\n",
    "    if env in [Env.GENERAL, Env.STRING]:\n",
    "        relevant_suggestions += self.get_file_paths(starts)\n",
    "    return relevant_suggestions\n",
    "\n",
    "#     elif env == 9:\n",
    "#         if len(starts) > 1:\n",
    "#             builtins = [\n",
    "#                 var for var in mata_builtins if var.startswith(starts)]\n",
    "#         else:\n",
    "#             builtins = []\n",
    "\n",
    "#         if re.search(r'[/\\\\]', starts):\n",
    "#             paths = self.get_file_paths(starts)\n",
    "#         else:\n",
    "#             paths = []\n",
    "\n",
    "#         return [\n",
    "#             var for var in self.stata_session.suggestions['mata']\n",
    "#             if var.startswith(starts)] + builtins + paths"
   ]
  },
  {
   "cell_type": "code",
   "execution_count": null,
   "id": "0e92736b",
   "metadata": {},
   "outputs": [],
   "source": [
    "#| export\n",
    "@patch_to(CompletionsManager)\n",
    "def do(self, code, cursor_pos, sc_delimiter=False):\n",
    "    if self.stata_session.suggestions is None:\n",
    "        self.stata_session.refresh_suggestions()\n",
    "    env, pos, chunk, rcomp = self.env_helper.get_env(\n",
    "        code[:cursor_pos], \n",
    "        code[cursor_pos:(cursor_pos + 2)],\n",
    "        sc_delimiter,\n",
    "    )\n",
    "    return pos, cursor_pos, self.get(chunk, env, rcomp)"
   ]
  },
  {
   "cell_type": "code",
   "execution_count": null,
   "id": "19528a4b",
   "metadata": {},
   "outputs": [],
   "source": [
    "#| eval: False\n",
    "from fastcore.test import test_eq"
   ]
  },
  {
   "cell_type": "code",
   "execution_count": null,
   "id": "647e2c0d",
   "metadata": {},
   "outputs": [],
   "source": [
    "#| eval: False\n",
    "def completions_test_setup(code):\n",
    "    global test_instance\n",
    "    run_sfi(\"clear all\")\n",
    "    run_sfi(code)\n",
    "    test_instance.stata_session.clear_suggestions()\n",
    "    \n",
    "\n",
    "def _complete(code, cursor_pos):\n",
    "    _, _, matches = test_instance.do(code, cursor_pos)\n",
    "    return matches"
   ]
  },
  {
   "cell_type": "code",
   "execution_count": null,
   "id": "b1ff4e8b",
   "metadata": {},
   "outputs": [],
   "source": [
    "#| eval: False\n",
    "completions_test_setup(\"gen var1 = 1\")\n",
    "code = \"list va\"\n",
    "cursor_pos = 7\n",
    "\n",
    "test_eq(\n",
    "    test_instance.env_helper.get_env(\n",
    "        code[:cursor_pos], code[cursor_pos:(cursor_pos + 2)],\n",
    "        False),\n",
    "    (0, 5, 'va', ''),\n",
    ") \n",
    "test_eq(\n",
    "    _complete(code, cursor_pos),\n",
    "    ['var1'],\n",
    ")"
   ]
  },
  {
   "cell_type": "code",
   "execution_count": null,
   "id": "9c9abdf5",
   "metadata": {},
   "outputs": [],
   "source": [
    "#| hide\n",
    "#| eval: False\n",
    "completions_test_setup('')\n",
    "test_eq(\n",
    "    _complete(\"use sideb\", 9),\n",
    "    [\"sidebar.yml\"],\n",
    ")"
   ]
  },
  {
   "cell_type": "code",
   "execution_count": null,
   "id": "a8304d09",
   "metadata": {},
   "outputs": [],
   "source": [
    "#| hide\n",
    "#| eval: False\n",
    "code = 'use \"../manual_test_nbs/delimit t'\n",
    "test_eq(\n",
    "    _complete(code, len(code)),\n",
    "    [\"../manual_test_nbs/delimit tests.ipynb\"],\n",
    ")"
   ]
  },
  {
   "cell_type": "code",
   "execution_count": null,
   "id": "b0a9caae",
   "metadata": {},
   "outputs": [],
   "source": [
    "#| hide\n",
    "#| eval: False\n",
    "completions_test_setup('global indir \"../manual_test_nbs\"')\n",
    "code = 'use \"$indir/delimit t'\n",
    "test_eq(\n",
    "    _complete(code, len(code)),\n",
    "    [\"$indir/delimit tests.ipynb\"],\n",
    ")"
   ]
  },
  {
   "cell_type": "code",
   "execution_count": null,
   "id": "99955c3f",
   "metadata": {},
   "outputs": [],
   "source": [
    "#| eval: False\n",
    "completions_test_setup('local test_local \"test value\"')\n",
    "test_eq(\n",
    "    _complete(\"list `t\", 7),\n",
    "    [\"test_local'\"],\n",
    ")\n",
    "run_sfi('local test_local \"\"')"
   ]
  },
  {
   "cell_type": "code",
   "execution_count": null,
   "id": "7aaae188",
   "metadata": {},
   "outputs": [],
   "source": [
    "#| hide\n",
    "#| eval: False\n",
    "test_eq(\n",
    "    _complete(\"list `t'\", 7),\n",
    "    [\"test_local\"],\n",
    ")\n",
    "test_eq(\n",
    "    _complete(\"list `t'\", 8),\n",
    "    [],\n",
    ")"
   ]
  },
  {
   "cell_type": "code",
   "execution_count": null,
   "id": "62abc389",
   "metadata": {},
   "outputs": [],
   "source": [
    "#| eval: False\n",
    "completions_test_setup('global test_global \"test value\"')\n",
    "test_eq(\n",
    "    _complete(\"list ${tes}\", 10),\n",
    "    ['test_global'],\n",
    ")"
   ]
  },
  {
   "cell_type": "code",
   "execution_count": null,
   "id": "fc5bf252",
   "metadata": {},
   "outputs": [],
   "source": [
    "#| hide\n",
    "#| eval: False\n",
    "test_eq(\n",
    "    _complete(\"list $tes\", 9),\n",
    "    ['test_global'],\n",
    ")\n",
    "test_eq(\n",
    "    _complete(\"list ${tes\", 10),\n",
    "    ['test_global}'],\n",
    ")"
   ]
  },
  {
   "cell_type": "code",
   "execution_count": null,
   "id": "56d21ba9",
   "metadata": {},
   "outputs": [],
   "source": [
    "#| hide\n",
    "#| eval: False\n",
    "completions_test_setup('scalar test_scalar = 5')\n",
    "test_eq(\n",
    "    _complete(\"disp scalar(tes\", 15),\n",
    "    ['test_scalar)'],\n",
    ")\n",
    "test_eq(\n",
    "    _complete(\"disp scalar(tes)\", 15),\n",
    "    ['test_scalar'],\n",
    ")\n",
    "test_eq(\n",
    "    _complete(\"disp `=scalar(tes\", 17),\n",
    "    [\"test_scalar)\"],\n",
    ")\n",
    "test_eq(\n",
    "    _complete(\"disp `=scalar(tes'\", 17),\n",
    "    [\"test_scalar)\"],\n",
    ")\n",
    "test_eq(\n",
    "    _complete(\"disp `=tes\", 10),\n",
    "    [\"test_scalar\"],\n",
    ")"
   ]
  },
  {
   "cell_type": "code",
   "execution_count": null,
   "id": "1578e279",
   "metadata": {},
   "outputs": [],
   "source": [
    "#| hide\n",
    "#| eval: False\n",
    "completions_test_setup('gen var1 = 1')\n",
    "test_eq(\n",
    "    _complete(\"disp `=va\", 10),\n",
    "    [\"var1\"],\n",
    ")"
   ]
  },
  {
   "cell_type": "code",
   "execution_count": null,
   "id": "d389357a",
   "metadata": {},
   "outputs": [],
   "source": [
    "#| hide\n",
    "#| eval: False\n",
    "completions_test_setup(r'matrix test_matrix = (1,2,3\\4,5,6)')\n",
    "test_eq(\n",
    "    _complete(\"matrix A = tes\", 14),\n",
    "    ['test_matrix'],\n",
    ")"
   ]
  },
  {
   "cell_type": "code",
   "execution_count": null,
   "id": "1f46ab09",
   "metadata": {},
   "outputs": [],
   "source": [
    "#| hide\n",
    "#| eval: False\n",
    "completions_test_setup('gen x1 = 1 \\n scalar x2 = 2')\n",
    "code = \"\"\"\\\n",
    "#delimit;\n",
    "scalar\n",
    "list x\"\"\"\n",
    "test_eq(\n",
    "    _complete(code, len(code)),\n",
    "    ['x2'],\n",
    ")"
   ]
  },
  {
   "cell_type": "code",
   "execution_count": null,
   "id": "8fb8a58c",
   "metadata": {},
   "outputs": [],
   "source": [
    "#| hide\n",
    "#| eval: False\n",
    "code = \"*%ec\"\n",
    "test_eq(\n",
    "    _complete(code, len(code)),\n",
    "    [\"echo\"],\n",
    ")"
   ]
  },
  {
   "cell_type": "code",
   "execution_count": null,
   "id": "1c6dd777",
   "metadata": {},
   "outputs": [],
   "source": [
    "#| hide\n",
    "import nbdev; nbdev.nbdev_export()"
   ]
  }
 ],
 "metadata": {
  "kernelspec": {
   "display_name": "Python 3 (ipykernel)",
   "language": "python",
   "name": "python3"
  }
 },
 "nbformat": 4,
 "nbformat_minor": 5
}
