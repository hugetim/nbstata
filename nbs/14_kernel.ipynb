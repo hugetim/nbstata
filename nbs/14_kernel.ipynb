{
 "cells": [
  {
   "cell_type": "markdown",
   "metadata": {},
   "source": [
    "# kernel\n",
    "\n",
    "> IPythonKernel based on pystata\n",
    "- order: 14"
   ]
  },
  {
   "cell_type": "markdown",
   "metadata": {},
   "source": [
    "The latest documentation for implementing a wrapper kernel is [here](https://jupyter-client.readthedocs.io/en/latest/wrapperkernels.html), but the current code deviates from those instructions (which call for inheriting from [kernelbase.Kernel](https://github.com/ipython/ipykernel/blob/main/ipykernel/kernelbase.py)), instead inheriting from the IPython kernel implementation, [IPythonKernel](https://github.com/ipython/ipykernel/blob/main/ipykernel/ipkernel.py)."
   ]
  },
  {
   "cell_type": "code",
   "execution_count": null,
   "metadata": {},
   "outputs": [],
   "source": [
    "#| default_exp kernel\n",
    "%load_ext autoreload\n",
    "%autoreload 2"
   ]
  },
  {
   "cell_type": "code",
   "execution_count": null,
   "metadata": {},
   "outputs": [],
   "source": [
    "#| hide\n",
    "from nbdev.showdoc import *"
   ]
  },
  {
   "cell_type": "code",
   "execution_count": null,
   "metadata": {},
   "outputs": [],
   "source": [
    "#| export\n",
    "from nbstata.config import Config\n",
    "from nbstata.misc_utils import print_red\n",
    "from nbstata.stata_more import user_expression\n",
    "from nbstata.inspect import get_inspect\n",
    "from nbstata.stata_session import StataSession\n",
    "from nbstata.completions import CompletionsManager\n",
    "from nbstata.cell import Cell\n",
    "import nbstata # for __version__\n",
    "from fastcore.basics import patch_to\n",
    "from ipykernel.ipkernel import IPythonKernel"
   ]
  },
  {
   "cell_type": "markdown",
   "metadata": {},
   "source": [
    "For a diagram of the main dependencies among the principal nbstata modules, [click here](https://hugetim.github.io/nbstata/dev_docs_index.html)."
   ]
  },
  {
   "cell_type": "code",
   "execution_count": null,
   "metadata": {},
   "outputs": [],
   "source": [
    "#| export\n",
    "class PyStataKernel(IPythonKernel):\n",
    "    \"\"\"A jupyter kernel based on pystata\"\"\"\n",
    "    implementation = 'nbstata'\n",
    "    implementation_version = nbstata.__version__\n",
    "    language_info = {\n",
    "        'name': 'stata',\n",
    "        'version': '17',\n",
    "        'mimetype': 'text/x-stata',\n",
    "        'file_extension': '.do',\n",
    "    }\n",
    "    banner = \"nbstata: a Jupyter kernel for Stata based on pystata\"\n",
    "    help_links = [\n",
    "        {\n",
    "            \"text\": \"Stata Documentation\",\n",
    "            \"url\": \"https://www.stata.com/features/documentation/\",\n",
    "        },\n",
    "        {\n",
    "            \"text\": \"nbstata Help\",\n",
    "            \"url\": \"https://hugetim.github.io/nbstata/\",\n",
    "        },\n",
    "    ]\n",
    "\n",
    "    def __init__(self, **kwargs):\n",
    "        super().__init__(**kwargs)\n",
    "        self.stata_ready = False\n",
    "        self.ipydatagrid_height_set = False\n",
    "        self.shell.execution_count = 0\n",
    "        self.inspect_output = \"Stata not yet initialized.\"\n",
    "        self.nbstata_config = Config()\n",
    "        self.stata_session = StataSession()\n",
    "        self.completions = CompletionsManager(self.stata_session)\n",
    "        self.inspect_output = \"\""
   ]
  },
  {
   "cell_type": "markdown",
   "metadata": {},
   "source": [
    "## Config and Stata initialization\n",
    "Stata is initialized during the execution of the first cell (in `PyStataKernel.do_execute` below) so that any configuration errors can be displayed in the notebook."
   ]
  },
  {
   "cell_type": "code",
   "execution_count": null,
   "metadata": {},
   "outputs": [],
   "source": [
    "#| export\n",
    "@patch_to(PyStataKernel)\n",
    "def init_session(self):\n",
    "    self.nbstata_config.process_config_file()\n",
    "    self.nbstata_config.init_stata()\n",
    "    self.stata_ready = True"
   ]
  },
  {
   "cell_type": "code",
   "execution_count": null,
   "metadata": {},
   "outputs": [],
   "source": [
    "#| export\n",
    "def _stata_error_reply(ename, evalue, execution_count=None):\n",
    "    reply_content = {\n",
    "        'status': \"error\",\n",
    "        \"traceback\": [],\n",
    "        \"ename\": ename,\n",
    "        \"evalue\": evalue,\n",
    "    }\n",
    "    if execution_count is not None:\n",
    "        reply_content['execution_count'] = execution_count\n",
    "    return reply_content"
   ]
  },
  {
   "cell_type": "code",
   "execution_count": null,
   "metadata": {},
   "outputs": [],
   "source": [
    "#| export\n",
    "_missing_stata_message = (\n",
    "    \"pystata path not found\\n\"\n",
    "    \"A Stata 17+ installation is required to use the nbstata Stata kernel. \"\n",
    "    \"If you already have Stata 17+ installed, \"\n",
    "    \"please specify its path in your configuration file.\"\n",
    ")"
   ]
  },
  {
   "cell_type": "code",
   "execution_count": null,
   "metadata": {},
   "outputs": [
    {
     "name": "stdout",
     "output_type": "stream",
     "text": [
      "pystata path not found\n",
      "A Stata 17+ installation is required to use the nbstata Stata kernel. If you already have Stata 17+ installed, please specify its path in your configuration file.\n"
     ]
    }
   ],
   "source": [
    "#| hide\n",
    "print(_missing_stata_message)"
   ]
  },
  {
   "cell_type": "code",
   "execution_count": null,
   "metadata": {},
   "outputs": [],
   "source": [
    "#| export\n",
    "def _handle_stata_import_error(err, silent, execution_count):\n",
    "    if not silent:\n",
    "        print_red(f\"ModuleNotFoundError: {_missing_stata_message}\")\n",
    "    return _stata_error_reply(\n",
    "        ename = \"ModuleNotFoundError\", \n",
    "        evalue = _missing_stata_message, \n",
    "        execution_count = execution_count,\n",
    "    )"
   ]
  },
  {
   "cell_type": "code",
   "execution_count": null,
   "metadata": {},
   "outputs": [],
   "source": [
    "#| export\n",
    "def _handle_stata_init_error(err, silent, execution_count):\n",
    "    reply_content = _stata_error_reply(\n",
    "        ename = \"Stata init error\", \n",
    "        evalue = str(err), \n",
    "        execution_count = execution_count,\n",
    "    )\n",
    "    if not silent:\n",
    "        print_red(reply_content['evalue'])\n",
    "    return reply_content"
   ]
  },
  {
   "cell_type": "markdown",
   "metadata": {},
   "source": [
    "## Stata code execution (and error display)"
   ]
  },
  {
   "cell_type": "code",
   "execution_count": null,
   "metadata": {},
   "outputs": [],
   "source": [
    "#| hide\n",
    "#| eval: False\n",
    "from nbstata.config import launch_stata\n",
    "from nbstata.stata import run_direct"
   ]
  },
  {
   "cell_type": "code",
   "execution_count": null,
   "metadata": {},
   "outputs": [],
   "source": [
    "#| hide\n",
    "#| eval: False\n",
    "launch_stata(splash=False)"
   ]
  },
  {
   "cell_type": "code",
   "execution_count": null,
   "metadata": {},
   "outputs": [],
   "source": [
    "#| export\n",
    "def print_stata_error(text):\n",
    "    lines = text.splitlines()\n",
    "    if len(lines) >= 2 and lines[-2] == lines[-1]:\n",
    "        lines.pop(-1) # remove duplicate error code glitch in pystata.stata.run multi-line (ex. below)\n",
    "    if len(lines) > 2:\n",
    "        print(\"\\n\".join(lines[:-2]))\n",
    "    print_red(\"\\n\".join(lines[-2:]))"
   ]
  },
  {
   "cell_type": "code",
   "execution_count": null,
   "metadata": {},
   "outputs": [],
   "source": [
    "from textwrap import dedent"
   ]
  },
  {
   "cell_type": "code",
   "execution_count": null,
   "metadata": {},
   "outputs": [
    {
     "name": "stdout",
     "output_type": "stream",
     "text": [
      "\n",
      ". disp 1\n",
      "1\n",
      "\n",
      ". disp error\n",
      "error not found\n",
      "r(111);\n",
      "r(111);\n",
      "\n"
     ]
    }
   ],
   "source": [
    "#| hide\n",
    "#| eval: False\n",
    "try:\n",
    "    run_direct(dedent(\"\"\"\\\n",
    "        disp 1\n",
    "        disp error\"\"\"), echo=False)\n",
    "except SystemError as err:\n",
    "    print(str(err))"
   ]
  },
  {
   "cell_type": "code",
   "execution_count": null,
   "metadata": {},
   "outputs": [
    {
     "name": "stdout",
     "output_type": "stream",
     "text": [
      "\n",
      ". disp 1\n",
      "1\n",
      "\n",
      ". disp error\n",
      "\u001b[31merror not found\n",
      "r(111);\u001b[0m\n"
     ]
    }
   ],
   "source": [
    "#| hide\n",
    "#| eval: False\n",
    "try:\n",
    "    run_direct(dedent(\"\"\"\\\n",
    "        disp 1\n",
    "        disp error\"\"\"), echo=False)\n",
    "except SystemError as err:\n",
    "    print_stata_error(str(err))"
   ]
  },
  {
   "cell_type": "code",
   "execution_count": null,
   "metadata": {},
   "outputs": [
    {
     "name": "stdout",
     "output_type": "stream",
     "text": [
      "output prior to error\n",
      "\u001b[31merror message\n",
      "error code\u001b[0m\n"
     ]
    }
   ],
   "source": [
    "print_stata_error(dedent(\"\"\"\\\n",
    "    output prior to error\n",
    "    error message\n",
    "    error code\n",
    "    \"\"\"))"
   ]
  },
  {
   "cell_type": "code",
   "execution_count": null,
   "metadata": {},
   "outputs": [
    {
     "name": "stdout",
     "output_type": "stream",
     "text": [
      "\u001b[31mone line\u001b[0m\n"
     ]
    }
   ],
   "source": [
    "#| hide\n",
    "print_stata_error(\"one line\")"
   ]
  },
  {
   "cell_type": "code",
   "execution_count": null,
   "metadata": {},
   "outputs": [],
   "source": [
    "#| export\n",
    "def _handle_stata_error(err, silent=False, execution_count=None):\n",
    "    reply_content = _stata_error_reply(\n",
    "        ename = \"Stata error\", \n",
    "        evalue = str(err), \n",
    "        execution_count = execution_count,\n",
    "    )\n",
    "    if not silent:\n",
    "        print_stata_error(reply_content['evalue'])\n",
    "    return reply_content"
   ]
  },
  {
   "cell_type": "code",
   "execution_count": null,
   "metadata": {},
   "outputs": [],
   "source": [
    "#| export\n",
    "def _format_user_obj(user_expr_output):\n",
    "    return dict(\n",
    "        status='ok',\n",
    "        data={'text/plain': user_expr_output},\n",
    "        metadata={},\n",
    "    )"
   ]
  },
  {
   "cell_type": "code",
   "execution_count": null,
   "metadata": {},
   "outputs": [],
   "source": [
    "#| export\n",
    "def _user_expressions(expressions):\n",
    "    results = {}\n",
    "    for key, expr in expressions.items():\n",
    "        try:\n",
    "            value = _format_user_obj(user_expression(expr))\n",
    "        except Exception as err:\n",
    "            value = _stata_error_reply(\n",
    "                ename = \"Stata user expression error\",\n",
    "                evalue = str(err)\n",
    "            )\n",
    "            print_red(value['evalue'])\n",
    "        results[key] = value\n",
    "    return results"
   ]
  },
  {
   "cell_type": "code",
   "execution_count": null,
   "metadata": {},
   "outputs": [
    {
     "data": {
      "text/plain": [
       "{'1': {'status': 'ok', 'data': {'text/plain': '6'}, 'metadata': {}}}"
      ]
     },
     "execution_count": null,
     "metadata": {},
     "output_type": "execute_result"
    }
   ],
   "source": [
    "#| eval: False\n",
    "_user_expressions({\"1\": \"5 + 1\"})"
   ]
  },
  {
   "cell_type": "code",
   "execution_count": null,
   "metadata": {},
   "outputs": [
    {
     "name": "stdout",
     "output_type": "stream",
     "text": [
      "\u001b[31msam not found\n",
      "\n",
      "Invalid Stata '[%fmt] [=]exp' display expression: sam\u001b[0m\n"
     ]
    },
    {
     "data": {
      "text/plain": [
       "{'1': {'status': 'error',\n",
       "  'traceback': [],\n",
       "  'ename': 'Stata user expression error',\n",
       "  'evalue': \"sam not found\\n\\nInvalid Stata '[%fmt] [=]exp' display expression: sam\"}}"
      ]
     },
     "execution_count": null,
     "metadata": {},
     "output_type": "execute_result"
    }
   ],
   "source": [
    "#| eval: False\n",
    "_user_expressions({\"1\": \"sam\"})"
   ]
  },
  {
   "cell_type": "code",
   "execution_count": null,
   "metadata": {},
   "outputs": [
    {
     "data": {
      "text/plain": [
       "{}"
      ]
     },
     "execution_count": null,
     "metadata": {},
     "output_type": "execute_result"
    }
   ],
   "source": [
    "#| hide\n",
    "#| eval: False\n",
    "_user_expressions({})"
   ]
  },
  {
   "cell_type": "code",
   "execution_count": null,
   "metadata": {},
   "outputs": [],
   "source": [
    "#| export\n",
    "@patch_to(PyStataKernel)\n",
    "def post_do_hook(self):\n",
    "    self.inspect_output = \"\""
   ]
  },
  {
   "cell_type": "code",
   "execution_count": null,
   "metadata": {},
   "outputs": [],
   "source": [
    "#| export\n",
    "@patch_to(PyStataKernel)\n",
    "def do_execute(self, code, silent,\n",
    "               store_history=True, user_expressions=None, allow_stdin=False):\n",
    "    \"\"\"Execute Stata code cell\"\"\"\n",
    "    if not self.stata_ready:\n",
    "        try:\n",
    "            self.init_session() # do this here so config error messages displayed in notebook\n",
    "        except OSError as err:\n",
    "            return _handle_stata_init_error(err, silent, self.execution_count)\n",
    "        except ModuleNotFoundError as err: # this should almost always be preempted by OSErrors now\n",
    "            return _handle_stata_import_error(err, silent, self.execution_count)\n",
    "        \n",
    "    self.shell.execution_count += 1\n",
    "    code_cell = Cell(self, code, silent)\n",
    "    try:\n",
    "        code_cell.run()\n",
    "    except SystemError as err:\n",
    "        return _handle_stata_error(err, silent, self.execution_count)\n",
    "    self.post_do_hook()\n",
    "    return {\n",
    "        'status': \"ok\",\n",
    "        'execution_count': self.execution_count,\n",
    "        'payload': [],\n",
    "        'user_expressions': _user_expressions(user_expressions or {}),\n",
    "    }"
   ]
  },
  {
   "cell_type": "markdown",
   "metadata": {},
   "source": [
    "## Other kernel capabilities"
   ]
  },
  {
   "cell_type": "code",
   "execution_count": null,
   "metadata": {},
   "outputs": [],
   "source": [
    "#| export\n",
    "@patch_to(PyStataKernel)\n",
    "def do_inspect(self, code, cursor_pos, detail_level=0, omit_sections=()):\n",
    "    \"\"\"Display Stata 'describe' output (regardless of cursor position)\"\"\"\n",
    "    if self.stata_ready:\n",
    "        if not self.inspect_output:\n",
    "            self.inspect_output = get_inspect(code, cursor_pos, detail_level, omit_sections)\n",
    "        data = {'text/plain': self.inspect_output}\n",
    "    else:\n",
    "        data = {}\n",
    "    return {\"status\": \"ok\", \"data\": data, \"metadata\": {}, \"found\": True}"
   ]
  },
  {
   "cell_type": "code",
   "execution_count": null,
   "metadata": {},
   "outputs": [],
   "source": [
    "#| export\n",
    "@patch_to(PyStataKernel)\n",
    "def do_complete(self, code, cursor_pos):\n",
    "    \"\"\"Provide context-aware tab-autocomplete suggestions\"\"\"\n",
    "    if self.stata_ready:\n",
    "        cursor_start, cursor_end, matches = self.completions.do(\n",
    "            code,\n",
    "            cursor_pos,\n",
    "        )\n",
    "    else:\n",
    "        cursor_start = cursor_end = cursor_pos\n",
    "        matches = []\n",
    "    return {\n",
    "        'status': \"ok\",\n",
    "        'cursor_start': cursor_start,\n",
    "        'cursor_end': cursor_end,\n",
    "        'metadata': {},\n",
    "        'matches': matches,\n",
    "    }"
   ]
  },
  {
   "cell_type": "code",
   "execution_count": null,
   "metadata": {},
   "outputs": [],
   "source": [
    "#| export\n",
    "@patch_to(PyStataKernel)\n",
    "def do_is_complete(self, code):\n",
    "    \"\"\"Overrides IPythonKernel with kernelbase default\"\"\"\n",
    "    return {\"status\": \"unknown\"}"
   ]
  },
  {
   "cell_type": "code",
   "execution_count": null,
   "metadata": {},
   "outputs": [],
   "source": [
    "#| export\n",
    "@patch_to(PyStataKernel)\n",
    "def do_history(\n",
    "    self,\n",
    "    hist_access_type,\n",
    "    output,\n",
    "    raw,\n",
    "    session=None,\n",
    "    start=None,\n",
    "    stop=None,\n",
    "    n=None,\n",
    "    pattern=None,\n",
    "    unique=False,\n",
    "):\n",
    "    \"\"\"Overrides IPythonKernel with kernelbase default\"\"\"\n",
    "    return {\"status\": \"ok\", \"history\": []}"
   ]
  },
  {
   "cell_type": "code",
   "execution_count": null,
   "metadata": {},
   "outputs": [
    {
     "ename": "error",
     "evalue": "multiple repeat at position 3",
     "output_type": "error",
     "traceback": [
      "\u001b[1;31m---------------------------------------------------------------------------\u001b[0m",
      "\u001b[1;31merror\u001b[0m                                     Traceback (most recent call last)",
      "Cell \u001b[1;32mIn[31], line 2\u001b[0m\n\u001b[0;32m      1\u001b[0m \u001b[38;5;66;03m#| hide\u001b[39;00m\n\u001b[1;32m----> 2\u001b[0m \u001b[38;5;28;01mimport\u001b[39;00m \u001b[38;5;21;01mnbdev\u001b[39;00m; \u001b[43mnbdev\u001b[49m\u001b[38;5;241;43m.\u001b[39;49m\u001b[43mnbdev_export\u001b[49m\u001b[43m(\u001b[49m\u001b[43m)\u001b[49m\n",
      "File \u001b[1;32m~\\AppData\\Local\\anaconda3\\envs\\Python2022-05a\\lib\\site-packages\\fastcore\\script.py:110\u001b[0m, in \u001b[0;36mcall_parse.<locals>._f\u001b[1;34m(*args, **kwargs)\u001b[0m\n\u001b[0;32m    107\u001b[0m \u001b[38;5;129m@wraps\u001b[39m(func)\n\u001b[0;32m    108\u001b[0m \u001b[38;5;28;01mdef\u001b[39;00m \u001b[38;5;21m_f\u001b[39m(\u001b[38;5;241m*\u001b[39margs, \u001b[38;5;241m*\u001b[39m\u001b[38;5;241m*\u001b[39mkwargs):\n\u001b[0;32m    109\u001b[0m     mod \u001b[38;5;241m=\u001b[39m inspect\u001b[38;5;241m.\u001b[39mgetmodule(inspect\u001b[38;5;241m.\u001b[39mcurrentframe()\u001b[38;5;241m.\u001b[39mf_back)\n\u001b[1;32m--> 110\u001b[0m     \u001b[38;5;28;01mif\u001b[39;00m \u001b[38;5;129;01mnot\u001b[39;00m mod: \u001b[38;5;28;01mreturn\u001b[39;00m func(\u001b[38;5;241m*\u001b[39margs, \u001b[38;5;241m*\u001b[39m\u001b[38;5;241m*\u001b[39mkwargs)\n\u001b[0;32m    111\u001b[0m     \u001b[38;5;28;01mif\u001b[39;00m \u001b[38;5;129;01mnot\u001b[39;00m SCRIPT_INFO\u001b[38;5;241m.\u001b[39mfunc \u001b[38;5;129;01mand\u001b[39;00m mod\u001b[38;5;241m.\u001b[39m\u001b[38;5;18m__name__\u001b[39m\u001b[38;5;241m==\u001b[39m\u001b[38;5;124m\"\u001b[39m\u001b[38;5;124m__main__\u001b[39m\u001b[38;5;124m\"\u001b[39m: SCRIPT_INFO\u001b[38;5;241m.\u001b[39mfunc \u001b[38;5;241m=\u001b[39m func\u001b[38;5;241m.\u001b[39m\u001b[38;5;18m__name__\u001b[39m\n\u001b[0;32m    112\u001b[0m     \u001b[38;5;28;01mif\u001b[39;00m \u001b[38;5;28mlen\u001b[39m(sys\u001b[38;5;241m.\u001b[39margv)\u001b[38;5;241m>\u001b[39m\u001b[38;5;241m1\u001b[39m \u001b[38;5;129;01mand\u001b[39;00m sys\u001b[38;5;241m.\u001b[39margv[\u001b[38;5;241m1\u001b[39m]\u001b[38;5;241m==\u001b[39m\u001b[38;5;124m'\u001b[39m\u001b[38;5;124m'\u001b[39m: sys\u001b[38;5;241m.\u001b[39margv\u001b[38;5;241m.\u001b[39mpop(\u001b[38;5;241m1\u001b[39m)\n",
      "File \u001b[1;32m~\\AppData\\Local\\anaconda3\\envs\\Python2022-05a\\lib\\site-packages\\nbdev\\doclinks.py:151\u001b[0m, in \u001b[0;36mnbdev_export\u001b[1;34m(path, procs, **kwargs)\u001b[0m\n\u001b[0;32m    149\u001b[0m     procs \u001b[38;5;241m=\u001b[39m [\u001b[38;5;28mgetattr\u001b[39m(nbdev\u001b[38;5;241m.\u001b[39mexport, p) \u001b[38;5;28;01mfor\u001b[39;00m p \u001b[38;5;129;01min\u001b[39;00m L(procs)]\n\u001b[0;32m    150\u001b[0m files \u001b[38;5;241m=\u001b[39m nbglob(path\u001b[38;5;241m=\u001b[39mpath, as_path\u001b[38;5;241m=\u001b[39m\u001b[38;5;28;01mTrue\u001b[39;00m, \u001b[38;5;241m*\u001b[39m\u001b[38;5;241m*\u001b[39mkwargs)\u001b[38;5;241m.\u001b[39msorted(\u001b[38;5;124m'\u001b[39m\u001b[38;5;124mname\u001b[39m\u001b[38;5;124m'\u001b[39m)\n\u001b[1;32m--> 151\u001b[0m \u001b[38;5;28;01mfor\u001b[39;00m f \u001b[38;5;129;01min\u001b[39;00m files: \u001b[43mnb_export\u001b[49m\u001b[43m(\u001b[49m\u001b[43mf\u001b[49m\u001b[43m,\u001b[49m\u001b[43m \u001b[49m\u001b[43mprocs\u001b[49m\u001b[38;5;241;43m=\u001b[39;49m\u001b[43mprocs\u001b[49m\u001b[43m)\u001b[49m\n\u001b[0;32m    152\u001b[0m add_init(get_config()\u001b[38;5;241m.\u001b[39mlib_path)\n\u001b[0;32m    153\u001b[0m _build_modidx()\n",
      "File \u001b[1;32m~\\AppData\\Local\\anaconda3\\envs\\Python2022-05a\\lib\\site-packages\\nbdev\\export.py:73\u001b[0m, in \u001b[0;36mnb_export\u001b[1;34m(nbname, lib_path, procs, debug, mod_maker, name)\u001b[0m\n\u001b[0;32m     71\u001b[0m \u001b[38;5;28;01mif\u001b[39;00m lib_path \u001b[38;5;129;01mis\u001b[39;00m \u001b[38;5;28;01mNone\u001b[39;00m: lib_path \u001b[38;5;241m=\u001b[39m get_config()\u001b[38;5;241m.\u001b[39mlib_path\n\u001b[0;32m     72\u001b[0m exp \u001b[38;5;241m=\u001b[39m ExportModuleProc()\n\u001b[1;32m---> 73\u001b[0m nb \u001b[38;5;241m=\u001b[39m \u001b[43mNBProcessor\u001b[49m\u001b[43m(\u001b[49m\u001b[43mnbname\u001b[49m\u001b[43m,\u001b[49m\u001b[43m \u001b[49m\u001b[43m[\u001b[49m\u001b[43mexp\u001b[49m\u001b[43m]\u001b[49m\u001b[38;5;241;43m+\u001b[39;49m\u001b[43mL\u001b[49m\u001b[43m(\u001b[49m\u001b[43mprocs\u001b[49m\u001b[43m)\u001b[49m\u001b[43m,\u001b[49m\u001b[43m \u001b[49m\u001b[43mdebug\u001b[49m\u001b[38;5;241;43m=\u001b[39;49m\u001b[43mdebug\u001b[49m\u001b[43m)\u001b[49m\n\u001b[0;32m     74\u001b[0m nb\u001b[38;5;241m.\u001b[39mprocess()\n\u001b[0;32m     75\u001b[0m \u001b[38;5;28;01mfor\u001b[39;00m mod,cells \u001b[38;5;129;01min\u001b[39;00m exp\u001b[38;5;241m.\u001b[39mmodules\u001b[38;5;241m.\u001b[39mitems():\n",
      "File \u001b[1;32m~\\AppData\\Local\\anaconda3\\envs\\Python2022-05a\\lib\\site-packages\\nbdev\\process.py:97\u001b[0m, in \u001b[0;36mNBProcessor.__init__\u001b[1;34m(self, path, procs, nb, debug, rm_directives, process)\u001b[0m\n\u001b[0;32m     95\u001b[0m \u001b[38;5;28mself\u001b[39m\u001b[38;5;241m.\u001b[39mnb \u001b[38;5;241m=\u001b[39m read_nb(path) \u001b[38;5;28;01mif\u001b[39;00m nb \u001b[38;5;129;01mis\u001b[39;00m \u001b[38;5;28;01mNone\u001b[39;00m \u001b[38;5;28;01melse\u001b[39;00m nb\n\u001b[0;32m     96\u001b[0m \u001b[38;5;28mself\u001b[39m\u001b[38;5;241m.\u001b[39mlang \u001b[38;5;241m=\u001b[39m nb_lang(\u001b[38;5;28mself\u001b[39m\u001b[38;5;241m.\u001b[39mnb)\n\u001b[1;32m---> 97\u001b[0m \u001b[38;5;28;01mfor\u001b[39;00m cell \u001b[38;5;129;01min\u001b[39;00m \u001b[38;5;28mself\u001b[39m\u001b[38;5;241m.\u001b[39mnb\u001b[38;5;241m.\u001b[39mcells: cell\u001b[38;5;241m.\u001b[39mdirectives_ \u001b[38;5;241m=\u001b[39m \u001b[43mextract_directives\u001b[49m\u001b[43m(\u001b[49m\u001b[43mcell\u001b[49m\u001b[43m,\u001b[49m\u001b[43m \u001b[49m\u001b[43mremove\u001b[49m\u001b[38;5;241;43m=\u001b[39;49m\u001b[43mrm_directives\u001b[49m\u001b[43m,\u001b[49m\u001b[43m \u001b[49m\u001b[43mlang\u001b[49m\u001b[38;5;241;43m=\u001b[39;49m\u001b[38;5;28;43mself\u001b[39;49m\u001b[38;5;241;43m.\u001b[39;49m\u001b[43mlang\u001b[49m\u001b[43m)\u001b[49m\n\u001b[0;32m     98\u001b[0m \u001b[38;5;28mself\u001b[39m\u001b[38;5;241m.\u001b[39mprocs \u001b[38;5;241m=\u001b[39m _mk_procs(procs, nb\u001b[38;5;241m=\u001b[39m\u001b[38;5;28mself\u001b[39m\u001b[38;5;241m.\u001b[39mnb)\n\u001b[0;32m     99\u001b[0m \u001b[38;5;28mself\u001b[39m\u001b[38;5;241m.\u001b[39mdebug,\u001b[38;5;28mself\u001b[39m\u001b[38;5;241m.\u001b[39mrm_directives \u001b[38;5;241m=\u001b[39m debug,rm_directives\n",
      "File \u001b[1;32m~\\AppData\\Local\\anaconda3\\envs\\Python2022-05a\\lib\\site-packages\\nbdev\\process.py:69\u001b[0m, in \u001b[0;36mextract_directives\u001b[1;34m(cell, remove, lang)\u001b[0m\n\u001b[0;32m     67\u001b[0m \u001b[38;5;28;01mdef\u001b[39;00m \u001b[38;5;21mextract_directives\u001b[39m(cell, remove\u001b[38;5;241m=\u001b[39m\u001b[38;5;28;01mTrue\u001b[39;00m, lang\u001b[38;5;241m=\u001b[39m\u001b[38;5;124m'\u001b[39m\u001b[38;5;124mpython\u001b[39m\u001b[38;5;124m'\u001b[39m):\n\u001b[0;32m     68\u001b[0m     \u001b[38;5;124m\"\u001b[39m\u001b[38;5;124mTake leading comment directives from lines of code in `ss`, remove `#|`, and split\u001b[39m\u001b[38;5;124m\"\u001b[39m\n\u001b[1;32m---> 69\u001b[0m     dirs,code \u001b[38;5;241m=\u001b[39m \u001b[43m_partition_cell\u001b[49m\u001b[43m(\u001b[49m\u001b[43mcell\u001b[49m\u001b[43m,\u001b[49m\u001b[43m \u001b[49m\u001b[43mlang\u001b[49m\u001b[43m)\u001b[49m\n\u001b[0;32m     70\u001b[0m     \u001b[38;5;28;01mif\u001b[39;00m \u001b[38;5;129;01mnot\u001b[39;00m dirs: \u001b[38;5;28;01mreturn\u001b[39;00m {}\n\u001b[0;32m     71\u001b[0m     \u001b[38;5;28;01mif\u001b[39;00m remove:\n\u001b[0;32m     72\u001b[0m         \u001b[38;5;66;03m# Leave Quarto directives and cell magic in place for later processing\u001b[39;00m\n",
      "File \u001b[1;32m~\\AppData\\Local\\anaconda3\\envs\\Python2022-05a\\lib\\site-packages\\nbdev\\process.py:63\u001b[0m, in \u001b[0;36m_partition_cell\u001b[1;34m(cell, lang)\u001b[0m\n\u001b[0;32m     61\u001b[0m \u001b[38;5;28;01mif\u001b[39;00m \u001b[38;5;129;01mnot\u001b[39;00m cell\u001b[38;5;241m.\u001b[39msource: \u001b[38;5;28;01mreturn\u001b[39;00m [],[]\n\u001b[0;32m     62\u001b[0m lines \u001b[38;5;241m=\u001b[39m cell\u001b[38;5;241m.\u001b[39msource\u001b[38;5;241m.\u001b[39msplitlines(\u001b[38;5;28;01mTrue\u001b[39;00m)\n\u001b[1;32m---> 63\u001b[0m first_code \u001b[38;5;241m=\u001b[39m \u001b[43mfirst_code_ln\u001b[49m\u001b[43m(\u001b[49m\u001b[43mlines\u001b[49m\u001b[43m,\u001b[49m\u001b[43m \u001b[49m\u001b[43mlang\u001b[49m\u001b[38;5;241;43m=\u001b[39;49m\u001b[43mlang\u001b[49m\u001b[43m)\u001b[49m\n\u001b[0;32m     64\u001b[0m \u001b[38;5;28;01mreturn\u001b[39;00m lines[:first_code],lines[first_code:]\n",
      "File \u001b[1;32m~\\AppData\\Local\\anaconda3\\envs\\Python2022-05a\\lib\\site-packages\\nbdev\\process.py:57\u001b[0m, in \u001b[0;36mfirst_code_ln\u001b[1;34m(code_list, re_pattern, lang)\u001b[0m\n\u001b[0;32m     55\u001b[0m \u001b[38;5;124m\"\u001b[39m\u001b[38;5;124mget first line number where code occurs, where `code_list` is a list of code\u001b[39m\u001b[38;5;124m\"\u001b[39m\n\u001b[0;32m     56\u001b[0m \u001b[38;5;28;01mif\u001b[39;00m re_pattern \u001b[38;5;129;01mis\u001b[39;00m \u001b[38;5;28;01mNone\u001b[39;00m: re_pattern \u001b[38;5;241m=\u001b[39m _dir_pre(lang)\n\u001b[1;32m---> 57\u001b[0m \u001b[38;5;28;01mreturn\u001b[39;00m \u001b[43mfirst\u001b[49m\u001b[43m(\u001b[49m\u001b[43mi\u001b[49m\u001b[43m \u001b[49m\u001b[38;5;28;43;01mfor\u001b[39;49;00m\u001b[43m \u001b[49m\u001b[43mi\u001b[49m\u001b[43m,\u001b[49m\u001b[43mo\u001b[49m\u001b[43m \u001b[49m\u001b[38;5;129;43;01min\u001b[39;49;00m\u001b[43m \u001b[49m\u001b[38;5;28;43menumerate\u001b[39;49m\u001b[43m(\u001b[49m\u001b[43mcode_list\u001b[49m\u001b[43m)\u001b[49m\u001b[43m \u001b[49m\u001b[38;5;28;43;01mif\u001b[39;49;00m\u001b[43m \u001b[49m\u001b[43mo\u001b[49m\u001b[38;5;241;43m.\u001b[39;49m\u001b[43mstrip\u001b[49m\u001b[43m(\u001b[49m\u001b[43m)\u001b[49m\u001b[43m \u001b[49m\u001b[38;5;241;43m!=\u001b[39;49m\u001b[43m \u001b[49m\u001b[38;5;124;43m'\u001b[39;49m\u001b[38;5;124;43m'\u001b[39;49m\u001b[43m \u001b[49m\u001b[38;5;129;43;01mand\u001b[39;49;00m\u001b[43m \u001b[49m\u001b[38;5;129;43;01mnot\u001b[39;49;00m\u001b[43m \u001b[49m\u001b[43mre\u001b[49m\u001b[38;5;241;43m.\u001b[39;49m\u001b[43mmatch\u001b[49m\u001b[43m(\u001b[49m\u001b[43mre_pattern\u001b[49m\u001b[43m,\u001b[49m\u001b[43m \u001b[49m\u001b[43mo\u001b[49m\u001b[43m)\u001b[49m\u001b[43m \u001b[49m\u001b[38;5;129;43;01mand\u001b[39;49;00m\u001b[43m \u001b[49m\u001b[38;5;129;43;01mnot\u001b[39;49;00m\u001b[43m \u001b[49m\u001b[43m_cell_mgc\u001b[49m\u001b[38;5;241;43m.\u001b[39;49m\u001b[43mmatch\u001b[49m\u001b[43m(\u001b[49m\u001b[43mo\u001b[49m\u001b[43m)\u001b[49m\u001b[43m)\u001b[49m\n",
      "File \u001b[1;32m~\\AppData\\Local\\anaconda3\\envs\\Python2022-05a\\lib\\site-packages\\fastcore\\basics.py:660\u001b[0m, in \u001b[0;36mfirst\u001b[1;34m(x, f, negate, **kwargs)\u001b[0m\n\u001b[0;32m    658\u001b[0m x \u001b[38;5;241m=\u001b[39m \u001b[38;5;28miter\u001b[39m(x)\n\u001b[0;32m    659\u001b[0m \u001b[38;5;28;01mif\u001b[39;00m f: x \u001b[38;5;241m=\u001b[39m filter_ex(x, f\u001b[38;5;241m=\u001b[39mf, negate\u001b[38;5;241m=\u001b[39mnegate, gen\u001b[38;5;241m=\u001b[39m\u001b[38;5;28;01mTrue\u001b[39;00m, \u001b[38;5;241m*\u001b[39m\u001b[38;5;241m*\u001b[39mkwargs)\n\u001b[1;32m--> 660\u001b[0m \u001b[38;5;28;01mreturn\u001b[39;00m \u001b[38;5;28;43mnext\u001b[39;49m\u001b[43m(\u001b[49m\u001b[43mx\u001b[49m\u001b[43m,\u001b[49m\u001b[43m \u001b[49m\u001b[38;5;28;43;01mNone\u001b[39;49;00m\u001b[43m)\u001b[49m\n",
      "File \u001b[1;32m~\\AppData\\Local\\anaconda3\\envs\\Python2022-05a\\lib\\site-packages\\nbdev\\process.py:57\u001b[0m, in \u001b[0;36m<genexpr>\u001b[1;34m(.0)\u001b[0m\n\u001b[0;32m     55\u001b[0m \u001b[38;5;124m\"\u001b[39m\u001b[38;5;124mget first line number where code occurs, where `code_list` is a list of code\u001b[39m\u001b[38;5;124m\"\u001b[39m\n\u001b[0;32m     56\u001b[0m \u001b[38;5;28;01mif\u001b[39;00m re_pattern \u001b[38;5;129;01mis\u001b[39;00m \u001b[38;5;28;01mNone\u001b[39;00m: re_pattern \u001b[38;5;241m=\u001b[39m _dir_pre(lang)\n\u001b[1;32m---> 57\u001b[0m \u001b[38;5;28;01mreturn\u001b[39;00m first(i \u001b[38;5;28;01mfor\u001b[39;00m i,o \u001b[38;5;129;01min\u001b[39;00m \u001b[38;5;28menumerate\u001b[39m(code_list) \u001b[38;5;28;01mif\u001b[39;00m o\u001b[38;5;241m.\u001b[39mstrip() \u001b[38;5;241m!=\u001b[39m \u001b[38;5;124m'\u001b[39m\u001b[38;5;124m'\u001b[39m \u001b[38;5;129;01mand\u001b[39;00m \u001b[38;5;129;01mnot\u001b[39;00m \u001b[43mre\u001b[49m\u001b[38;5;241;43m.\u001b[39;49m\u001b[43mmatch\u001b[49m\u001b[43m(\u001b[49m\u001b[43mre_pattern\u001b[49m\u001b[43m,\u001b[49m\u001b[43m \u001b[49m\u001b[43mo\u001b[49m\u001b[43m)\u001b[49m \u001b[38;5;129;01mand\u001b[39;00m \u001b[38;5;129;01mnot\u001b[39;00m _cell_mgc\u001b[38;5;241m.\u001b[39mmatch(o))\n",
      "File \u001b[1;32m~\\AppData\\Local\\anaconda3\\envs\\Python2022-05a\\lib\\re.py:190\u001b[0m, in \u001b[0;36mmatch\u001b[1;34m(pattern, string, flags)\u001b[0m\n\u001b[0;32m    187\u001b[0m \u001b[38;5;28;01mdef\u001b[39;00m \u001b[38;5;21mmatch\u001b[39m(pattern, string, flags\u001b[38;5;241m=\u001b[39m\u001b[38;5;241m0\u001b[39m):\n\u001b[0;32m    188\u001b[0m \u001b[38;5;250m    \u001b[39m\u001b[38;5;124;03m\"\"\"Try to apply the pattern at the start of the string, returning\u001b[39;00m\n\u001b[0;32m    189\u001b[0m \u001b[38;5;124;03m    a Match object, or None if no match was found.\"\"\"\u001b[39;00m\n\u001b[1;32m--> 190\u001b[0m     \u001b[38;5;28;01mreturn\u001b[39;00m \u001b[43m_compile\u001b[49m\u001b[43m(\u001b[49m\u001b[43mpattern\u001b[49m\u001b[43m,\u001b[49m\u001b[43m \u001b[49m\u001b[43mflags\u001b[49m\u001b[43m)\u001b[49m\u001b[38;5;241m.\u001b[39mmatch(string)\n",
      "File \u001b[1;32m~\\AppData\\Local\\anaconda3\\envs\\Python2022-05a\\lib\\re.py:303\u001b[0m, in \u001b[0;36m_compile\u001b[1;34m(pattern, flags)\u001b[0m\n\u001b[0;32m    301\u001b[0m \u001b[38;5;28;01mif\u001b[39;00m \u001b[38;5;129;01mnot\u001b[39;00m sre_compile\u001b[38;5;241m.\u001b[39misstring(pattern):\n\u001b[0;32m    302\u001b[0m     \u001b[38;5;28;01mraise\u001b[39;00m \u001b[38;5;167;01mTypeError\u001b[39;00m(\u001b[38;5;124m\"\u001b[39m\u001b[38;5;124mfirst argument must be string or compiled pattern\u001b[39m\u001b[38;5;124m\"\u001b[39m)\n\u001b[1;32m--> 303\u001b[0m p \u001b[38;5;241m=\u001b[39m \u001b[43msre_compile\u001b[49m\u001b[38;5;241;43m.\u001b[39;49m\u001b[43mcompile\u001b[49m\u001b[43m(\u001b[49m\u001b[43mpattern\u001b[49m\u001b[43m,\u001b[49m\u001b[43m \u001b[49m\u001b[43mflags\u001b[49m\u001b[43m)\u001b[49m\n\u001b[0;32m    304\u001b[0m \u001b[38;5;28;01mif\u001b[39;00m \u001b[38;5;129;01mnot\u001b[39;00m (flags \u001b[38;5;241m&\u001b[39m DEBUG):\n\u001b[0;32m    305\u001b[0m     \u001b[38;5;28;01mif\u001b[39;00m \u001b[38;5;28mlen\u001b[39m(_cache) \u001b[38;5;241m>\u001b[39m\u001b[38;5;241m=\u001b[39m _MAXCACHE:\n\u001b[0;32m    306\u001b[0m         \u001b[38;5;66;03m# Drop the oldest item\u001b[39;00m\n",
      "File \u001b[1;32m~\\AppData\\Local\\anaconda3\\envs\\Python2022-05a\\lib\\sre_compile.py:788\u001b[0m, in \u001b[0;36mcompile\u001b[1;34m(p, flags)\u001b[0m\n\u001b[0;32m    786\u001b[0m \u001b[38;5;28;01mif\u001b[39;00m isstring(p):\n\u001b[0;32m    787\u001b[0m     pattern \u001b[38;5;241m=\u001b[39m p\n\u001b[1;32m--> 788\u001b[0m     p \u001b[38;5;241m=\u001b[39m \u001b[43msre_parse\u001b[49m\u001b[38;5;241;43m.\u001b[39;49m\u001b[43mparse\u001b[49m\u001b[43m(\u001b[49m\u001b[43mp\u001b[49m\u001b[43m,\u001b[49m\u001b[43m \u001b[49m\u001b[43mflags\u001b[49m\u001b[43m)\u001b[49m\n\u001b[0;32m    789\u001b[0m \u001b[38;5;28;01melse\u001b[39;00m:\n\u001b[0;32m    790\u001b[0m     pattern \u001b[38;5;241m=\u001b[39m \u001b[38;5;28;01mNone\u001b[39;00m\n",
      "File \u001b[1;32m~\\AppData\\Local\\anaconda3\\envs\\Python2022-05a\\lib\\sre_parse.py:955\u001b[0m, in \u001b[0;36mparse\u001b[1;34m(str, flags, state)\u001b[0m\n\u001b[0;32m    952\u001b[0m state\u001b[38;5;241m.\u001b[39mstr \u001b[38;5;241m=\u001b[39m \u001b[38;5;28mstr\u001b[39m\n\u001b[0;32m    954\u001b[0m \u001b[38;5;28;01mtry\u001b[39;00m:\n\u001b[1;32m--> 955\u001b[0m     p \u001b[38;5;241m=\u001b[39m \u001b[43m_parse_sub\u001b[49m\u001b[43m(\u001b[49m\u001b[43msource\u001b[49m\u001b[43m,\u001b[49m\u001b[43m \u001b[49m\u001b[43mstate\u001b[49m\u001b[43m,\u001b[49m\u001b[43m \u001b[49m\u001b[43mflags\u001b[49m\u001b[43m \u001b[49m\u001b[38;5;241;43m&\u001b[39;49m\u001b[43m \u001b[49m\u001b[43mSRE_FLAG_VERBOSE\u001b[49m\u001b[43m,\u001b[49m\u001b[43m \u001b[49m\u001b[38;5;241;43m0\u001b[39;49m\u001b[43m)\u001b[49m\n\u001b[0;32m    956\u001b[0m \u001b[38;5;28;01mexcept\u001b[39;00m Verbose:\n\u001b[0;32m    957\u001b[0m     \u001b[38;5;66;03m# the VERBOSE flag was switched on inside the pattern.  to be\u001b[39;00m\n\u001b[0;32m    958\u001b[0m     \u001b[38;5;66;03m# on the safe side, we'll parse the whole thing again...\u001b[39;00m\n\u001b[0;32m    959\u001b[0m     state \u001b[38;5;241m=\u001b[39m State()\n",
      "File \u001b[1;32m~\\AppData\\Local\\anaconda3\\envs\\Python2022-05a\\lib\\sre_parse.py:444\u001b[0m, in \u001b[0;36m_parse_sub\u001b[1;34m(source, state, verbose, nested)\u001b[0m\n\u001b[0;32m    442\u001b[0m start \u001b[38;5;241m=\u001b[39m source\u001b[38;5;241m.\u001b[39mtell()\n\u001b[0;32m    443\u001b[0m \u001b[38;5;28;01mwhile\u001b[39;00m \u001b[38;5;28;01mTrue\u001b[39;00m:\n\u001b[1;32m--> 444\u001b[0m     itemsappend(\u001b[43m_parse\u001b[49m\u001b[43m(\u001b[49m\u001b[43msource\u001b[49m\u001b[43m,\u001b[49m\u001b[43m \u001b[49m\u001b[43mstate\u001b[49m\u001b[43m,\u001b[49m\u001b[43m \u001b[49m\u001b[43mverbose\u001b[49m\u001b[43m,\u001b[49m\u001b[43m \u001b[49m\u001b[43mnested\u001b[49m\u001b[43m \u001b[49m\u001b[38;5;241;43m+\u001b[39;49m\u001b[43m \u001b[49m\u001b[38;5;241;43m1\u001b[39;49m\u001b[43m,\u001b[49m\n\u001b[0;32m    445\u001b[0m \u001b[43m                       \u001b[49m\u001b[38;5;129;43;01mnot\u001b[39;49;00m\u001b[43m \u001b[49m\u001b[43mnested\u001b[49m\u001b[43m \u001b[49m\u001b[38;5;129;43;01mand\u001b[39;49;00m\u001b[43m \u001b[49m\u001b[38;5;129;43;01mnot\u001b[39;49;00m\u001b[43m \u001b[49m\u001b[43mitems\u001b[49m\u001b[43m)\u001b[49m)\n\u001b[0;32m    446\u001b[0m     \u001b[38;5;28;01mif\u001b[39;00m \u001b[38;5;129;01mnot\u001b[39;00m sourcematch(\u001b[38;5;124m\"\u001b[39m\u001b[38;5;124m|\u001b[39m\u001b[38;5;124m\"\u001b[39m):\n\u001b[0;32m    447\u001b[0m         \u001b[38;5;28;01mbreak\u001b[39;00m\n",
      "File \u001b[1;32m~\\AppData\\Local\\anaconda3\\envs\\Python2022-05a\\lib\\sre_parse.py:672\u001b[0m, in \u001b[0;36m_parse\u001b[1;34m(source, state, verbose, nested, first)\u001b[0m\n\u001b[0;32m    669\u001b[0m     \u001b[38;5;28;01mraise\u001b[39;00m source\u001b[38;5;241m.\u001b[39merror(\u001b[38;5;124m\"\u001b[39m\u001b[38;5;124mnothing to repeat\u001b[39m\u001b[38;5;124m\"\u001b[39m,\n\u001b[0;32m    670\u001b[0m                        source\u001b[38;5;241m.\u001b[39mtell() \u001b[38;5;241m-\u001b[39m here \u001b[38;5;241m+\u001b[39m \u001b[38;5;28mlen\u001b[39m(this))\n\u001b[0;32m    671\u001b[0m \u001b[38;5;28;01mif\u001b[39;00m item[\u001b[38;5;241m0\u001b[39m][\u001b[38;5;241m0\u001b[39m] \u001b[38;5;129;01min\u001b[39;00m _REPEATCODES:\n\u001b[1;32m--> 672\u001b[0m     \u001b[38;5;28;01mraise\u001b[39;00m source\u001b[38;5;241m.\u001b[39merror(\u001b[38;5;124m\"\u001b[39m\u001b[38;5;124mmultiple repeat\u001b[39m\u001b[38;5;124m\"\u001b[39m,\n\u001b[0;32m    673\u001b[0m                        source\u001b[38;5;241m.\u001b[39mtell() \u001b[38;5;241m-\u001b[39m here \u001b[38;5;241m+\u001b[39m \u001b[38;5;28mlen\u001b[39m(this))\n\u001b[0;32m    674\u001b[0m \u001b[38;5;28;01mif\u001b[39;00m item[\u001b[38;5;241m0\u001b[39m][\u001b[38;5;241m0\u001b[39m] \u001b[38;5;129;01mis\u001b[39;00m SUBPATTERN:\n\u001b[0;32m    675\u001b[0m     group, add_flags, del_flags, p \u001b[38;5;241m=\u001b[39m item[\u001b[38;5;241m0\u001b[39m][\u001b[38;5;241m1\u001b[39m]\n",
      "\u001b[1;31merror\u001b[0m: multiple repeat at position 3"
     ]
    }
   ],
   "source": [
    "#| hide\n",
    "import nbdev; nbdev.nbdev_export()"
   ]
  }
 ],
 "metadata": {
  "kernelspec": {
   "display_name": "python3",
   "language": "python",
   "name": "python3"
  }
 },
 "nbformat": 4,
 "nbformat_minor": 4
}
