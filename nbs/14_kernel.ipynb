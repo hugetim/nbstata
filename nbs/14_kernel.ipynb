{
 "cells": [
  {
   "cell_type": "markdown",
   "metadata": {},
   "source": [
    "# kernel\n",
    "\n",
    "> IPythonKernel based on pystata\n",
    "- order: 14"
   ]
  },
  {
   "cell_type": "markdown",
   "metadata": {},
   "source": [
    "The latest documentation for implementing a wrapper kernel is [here](https://jupyter-client.readthedocs.io/en/latest/wrapperkernels.html), but the current code deviates from those instructions (which call for inheriting from [kernelbase.Kernel](https://github.com/ipython/ipykernel/blob/main/ipykernel/kernelbase.py)), instead inheriting from the IPython kernel implementation, [IPythonKernel](https://github.com/ipython/ipykernel/blob/main/ipykernel/ipkernel.py)."
   ]
  },
  {
   "cell_type": "code",
   "execution_count": null,
   "metadata": {},
   "outputs": [],
   "source": [
    "#| default_exp kernel\n",
    "%load_ext autoreload\n",
    "%autoreload 2"
   ]
  },
  {
   "cell_type": "code",
   "execution_count": null,
   "metadata": {},
   "outputs": [],
   "source": [
    "#| hide\n",
    "from nbdev.showdoc import *"
   ]
  },
  {
   "cell_type": "code",
   "execution_count": null,
   "metadata": {},
   "outputs": [],
   "source": [
    "#| export\n",
    "from nbstata.config import Config\n",
    "from nbstata.misc_utils import print_red\n",
    "from nbstata.stata import set_global\n",
    "from nbstata.stata_more import user_expression\n",
    "from nbstata.inspect import get_inspect\n",
    "from nbstata.stata_session import StataSession\n",
    "from nbstata.completions import CompletionsManager\n",
    "from nbstata.cell import Cell\n",
    "import nbstata # for __version__\n",
    "from fastcore.basics import patch_to\n",
    "from ipykernel.ipkernel import IPythonKernel"
   ]
  },
  {
   "cell_type": "markdown",
   "metadata": {},
   "source": [
    "For a diagram of the main dependencies among the principal nbstata modules, [click here](https://hugetim.github.io/nbstata/dev_docs_index.html)."
   ]
  },
  {
   "cell_type": "code",
   "execution_count": null,
   "metadata": {},
   "outputs": [],
   "source": [
    "#| export\n",
    "class PyStataKernel(IPythonKernel):\n",
    "    \"\"\"A jupyter kernel based on pystata\"\"\"\n",
    "    implementation = 'nbstata'\n",
    "    implementation_version = nbstata.__version__\n",
    "    language_info = {\n",
    "        'name': 'stata',\n",
    "        'version': '17',\n",
    "        'mimetype': 'text/x-stata',\n",
    "        'file_extension': '.do',\n",
    "    }\n",
    "    banner = \"nbstata: a Jupyter kernel for Stata based on pystata\"\n",
    "    help_links = [\n",
    "        {\n",
    "            \"text\": \"Stata Documentation\",\n",
    "            \"url\": \"https://www.stata.com/features/documentation/\",\n",
    "        },\n",
    "        {\n",
    "            \"text\": \"nbstata Help\",\n",
    "            \"url\": \"https://hugetim.github.io/nbstata/\",\n",
    "        },\n",
    "    ]\n",
    "\n",
    "    # for communication from Quarto\n",
    "    def comm_open(self, stream, ident, msg):\n",
    "        msg = msg['content']\n",
    "        if msg['target_name'] == \"quarto_kernel_setup\":\n",
    "            for key, value in msg['data']['options']['params'].items():\n",
    "                set_global(key, value)\n",
    "            # here, msg['data']['options'] has all quarto setup options\n",
    "    \n",
    "    def __init__(self, **kwargs):\n",
    "        super().__init__(**kwargs)\n",
    "        self.stata_ready = False\n",
    "        self.ipydatagrid_height_set = False\n",
    "        self.shell.execution_count = 0\n",
    "        self.inspect_output = \"Stata not yet initialized.\"\n",
    "        self.nbstata_config = Config()\n",
    "        self.stata_session = StataSession()\n",
    "        self.completions = CompletionsManager(self.stata_session)\n",
    "        self.inspect_output = \"\"\n",
    "        self.shell_handlers['comm_open'] = self.comm_open"
   ]
  },
  {
   "cell_type": "markdown",
   "metadata": {},
   "source": [
    "## Config and Stata initialization\n",
    "Stata is initialized during the execution of the first cell (in `PyStataKernel.do_execute` below) so that any configuration errors can be displayed in the notebook."
   ]
  },
  {
   "cell_type": "code",
   "execution_count": null,
   "metadata": {},
   "outputs": [],
   "source": [
    "#| export\n",
    "@patch_to(PyStataKernel)\n",
    "def init_session(self):\n",
    "    self.nbstata_config.process_config_file()\n",
    "    self.nbstata_config.init_stata()\n",
    "    self.stata_ready = True"
   ]
  },
  {
   "cell_type": "code",
   "execution_count": null,
   "metadata": {},
   "outputs": [],
   "source": [
    "#| export\n",
    "def _stata_error_reply(ename, evalue, execution_count=None):\n",
    "    reply_content = {\n",
    "        'status': \"error\",\n",
    "        \"traceback\": [],\n",
    "        \"ename\": ename,\n",
    "        \"evalue\": evalue,\n",
    "    }\n",
    "    if execution_count is not None:\n",
    "        reply_content['execution_count'] = execution_count\n",
    "    return reply_content"
   ]
  },
  {
   "cell_type": "code",
   "execution_count": null,
   "metadata": {},
   "outputs": [],
   "source": [
    "#| export\n",
    "_missing_stata_message = (\n",
    "    \"pystata path not found\\n\"\n",
    "    \"A Stata 17+ installation is required to use the nbstata Stata kernel. \"\n",
    "    \"If you already have Stata 17+ installed, \"\n",
    "    \"please specify its path in your configuration file.\"\n",
    ")"
   ]
  },
  {
   "cell_type": "code",
   "execution_count": null,
   "metadata": {},
   "outputs": [
    {
     "name": "stdout",
     "output_type": "stream",
     "text": [
      "pystata path not found\n",
      "A Stata 17+ installation is required to use the nbstata Stata kernel. If you already have Stata 17+ installed, please specify its path in your configuration file.\n"
     ]
    }
   ],
   "source": [
    "#| hide\n",
    "print(_missing_stata_message)"
   ]
  },
  {
   "cell_type": "code",
   "execution_count": null,
   "metadata": {},
   "outputs": [],
   "source": [
    "#| export\n",
    "def _handle_stata_import_error(err, silent, execution_count):\n",
    "    if not silent:\n",
    "        print_red(f\"ModuleNotFoundError: {_missing_stata_message}\")\n",
    "    return _stata_error_reply(\n",
    "        ename = \"ModuleNotFoundError\", \n",
    "        evalue = _missing_stata_message, \n",
    "        execution_count = execution_count,\n",
    "    )"
   ]
  },
  {
   "cell_type": "code",
   "execution_count": null,
   "metadata": {},
   "outputs": [],
   "source": [
    "#| export\n",
    "def _handle_stata_init_error(err, silent, execution_count):\n",
    "    reply_content = _stata_error_reply(\n",
    "        ename = \"Stata init error\", \n",
    "        evalue = str(err), \n",
    "        execution_count = execution_count,\n",
    "    )\n",
    "    if not silent:\n",
    "        print_red(reply_content['evalue'])\n",
    "    return reply_content"
   ]
  },
  {
   "cell_type": "markdown",
   "metadata": {},
   "source": [
    "## Stata code execution (and error display)"
   ]
  },
  {
   "cell_type": "code",
   "execution_count": null,
   "metadata": {},
   "outputs": [],
   "source": [
    "#| hide\n",
    "#| eval: False\n",
    "from nbstata.config import launch_stata\n",
    "from nbstata.stata import run_direct"
   ]
  },
  {
   "cell_type": "code",
   "execution_count": null,
   "metadata": {},
   "outputs": [],
   "source": [
    "#| hide\n",
    "#| eval: False\n",
    "launch_stata(splash=False)"
   ]
  },
  {
   "cell_type": "code",
   "execution_count": null,
   "metadata": {},
   "outputs": [],
   "source": [
    "#| export\n",
    "def print_stata_error(text):\n",
    "    lines = text.splitlines()\n",
    "    if len(lines) >= 2 and lines[-2] == lines[-1]:\n",
    "        lines.pop(-1) # remove duplicate error code glitch in pystata.stata.run multi-line (ex. below)\n",
    "    if len(lines) > 2:\n",
    "        print(\"\\n\".join(lines[:-2]))\n",
    "    print_red(\"\\n\".join(lines[-2:]))"
   ]
  },
  {
   "cell_type": "code",
   "execution_count": null,
   "metadata": {},
   "outputs": [],
   "source": [
    "from textwrap import dedent"
   ]
  },
  {
   "cell_type": "code",
   "execution_count": null,
   "metadata": {},
   "outputs": [
    {
     "name": "stdout",
     "output_type": "stream",
     "text": [
      "\n",
      ". disp 1\n",
      "1\n",
      "\n",
      ". disp error\n",
      "error not found\n",
      "r(111);\n",
      "r(111);\n",
      "\n"
     ]
    }
   ],
   "source": [
    "#| hide\n",
    "#| eval: False\n",
    "try:\n",
    "    run_direct(dedent(\"\"\"\\\n",
    "        disp 1\n",
    "        disp error\"\"\"), echo=False)\n",
    "except SystemError as err:\n",
    "    print(str(err))"
   ]
  },
  {
   "cell_type": "code",
   "execution_count": null,
   "metadata": {},
   "outputs": [
    {
     "name": "stdout",
     "output_type": "stream",
     "text": [
      "\n",
      ". disp 1\n",
      "1\n",
      "\n",
      ". disp error\n",
      "\u001b[31merror not found\n",
      "r(111);\u001b[0m\n"
     ]
    }
   ],
   "source": [
    "#| hide\n",
    "#| eval: False\n",
    "try:\n",
    "    run_direct(dedent(\"\"\"\\\n",
    "        disp 1\n",
    "        disp error\"\"\"), echo=False)\n",
    "except SystemError as err:\n",
    "    print_stata_error(str(err))"
   ]
  },
  {
   "cell_type": "code",
   "execution_count": null,
   "metadata": {},
   "outputs": [
    {
     "name": "stdout",
     "output_type": "stream",
     "text": [
      "output prior to error\n",
      "\u001b[31merror message\n",
      "error code\u001b[0m\n"
     ]
    }
   ],
   "source": [
    "print_stata_error(dedent(\"\"\"\\\n",
    "    output prior to error\n",
    "    error message\n",
    "    error code\n",
    "    \"\"\"))"
   ]
  },
  {
   "cell_type": "code",
   "execution_count": null,
   "metadata": {},
   "outputs": [
    {
     "name": "stdout",
     "output_type": "stream",
     "text": [
      "\u001b[31mone line\u001b[0m\n"
     ]
    }
   ],
   "source": [
    "#| hide\n",
    "print_stata_error(\"one line\")"
   ]
  },
  {
   "cell_type": "code",
   "execution_count": null,
   "metadata": {},
   "outputs": [],
   "source": [
    "#| export\n",
    "def _handle_stata_error(err, silent=False, execution_count=None):\n",
    "    reply_content = _stata_error_reply(\n",
    "        ename = \"Stata error\", \n",
    "        evalue = str(err), \n",
    "        execution_count = execution_count,\n",
    "    )\n",
    "    if not silent:\n",
    "        print_stata_error(reply_content['evalue'])\n",
    "    return reply_content"
   ]
  },
  {
   "cell_type": "code",
   "execution_count": null,
   "metadata": {},
   "outputs": [],
   "source": [
    "#| export\n",
    "def _format_user_obj(user_expr_output):\n",
    "    return dict(\n",
    "        status='ok',\n",
    "        data={'text/plain': user_expr_output},\n",
    "        metadata={},\n",
    "    )"
   ]
  },
  {
   "cell_type": "code",
   "execution_count": null,
   "metadata": {},
   "outputs": [],
   "source": [
    "#| export\n",
    "def _user_expressions(expressions):\n",
    "    results = {}\n",
    "    for key, expr in expressions.items():\n",
    "        try:\n",
    "            value = _format_user_obj(user_expression(expr))\n",
    "        except Exception as err:\n",
    "            value = _stata_error_reply(\n",
    "                ename = \"Stata user expression error\",\n",
    "                evalue = str(err)\n",
    "            )\n",
    "            print_red(value['evalue'])\n",
    "        results[key] = value\n",
    "    return results"
   ]
  },
  {
   "cell_type": "code",
   "execution_count": null,
   "metadata": {},
   "outputs": [
    {
     "data": {
      "text/plain": [
       "{'1': {'status': 'ok', 'data': {'text/plain': '6'}, 'metadata': {}}}"
      ]
     },
     "execution_count": null,
     "metadata": {},
     "output_type": "execute_result"
    }
   ],
   "source": [
    "#| eval: False\n",
    "_user_expressions({\"1\": \"5 + 1\"})"
   ]
  },
  {
   "cell_type": "code",
   "execution_count": null,
   "metadata": {},
   "outputs": [
    {
     "name": "stdout",
     "output_type": "stream",
     "text": [
      "\u001b[31msam not found\n",
      "\n",
      "Invalid Stata '[%fmt] [=]exp' display expression: sam\u001b[0m\n"
     ]
    },
    {
     "data": {
      "text/plain": [
       "{'1': {'status': 'error',\n",
       "  'traceback': [],\n",
       "  'ename': 'Stata user expression error',\n",
       "  'evalue': \"sam not found\\n\\nInvalid Stata '[%fmt] [=]exp' display expression: sam\"}}"
      ]
     },
     "execution_count": null,
     "metadata": {},
     "output_type": "execute_result"
    }
   ],
   "source": [
    "#| eval: False\n",
    "_user_expressions({\"1\": \"sam\"})"
   ]
  },
  {
   "cell_type": "code",
   "execution_count": null,
   "metadata": {},
   "outputs": [
    {
     "data": {
      "text/plain": [
       "{}"
      ]
     },
     "execution_count": null,
     "metadata": {},
     "output_type": "execute_result"
    }
   ],
   "source": [
    "#| hide\n",
    "#| eval: False\n",
    "_user_expressions({})"
   ]
  },
  {
   "cell_type": "code",
   "execution_count": null,
   "metadata": {},
   "outputs": [],
   "source": [
    "#| export\n",
    "@patch_to(PyStataKernel)\n",
    "def post_do_hook(self):\n",
    "    self.inspect_output = \"\""
   ]
  },
  {
   "cell_type": "code",
   "execution_count": null,
   "metadata": {},
   "outputs": [],
   "source": [
    "#| export\n",
    "@patch_to(PyStataKernel)\n",
    "def do_execute(self, code, silent,\n",
    "               store_history=True, user_expressions=None, allow_stdin=False):\n",
    "    \"\"\"Execute Stata code cell\"\"\"\n",
    "    if not self.stata_ready:\n",
    "        try:\n",
    "            self.init_session() # do this here so config error messages displayed in notebook\n",
    "        except OSError as err:\n",
    "            return _handle_stata_init_error(err, silent, self.execution_count)\n",
    "        except ModuleNotFoundError as err: # this should almost always be preempted by OSErrors now\n",
    "            return _handle_stata_import_error(err, silent, self.execution_count)\n",
    "        \n",
    "    self.shell.execution_count += 1\n",
    "    is_setup_cell = code.strip() == \"56ed7992-3715-4d16-a6c0-e5f98c12799d\"       \n",
    "    if is_setup_cell:\n",
    "        code = \"\"\n",
    "        # If this is a setup cell, quarto will ignore the output\n",
    "        # (except for the metadata). Still, `execute_result` needs\n",
    "        # something to send, so we send an empty string\n",
    "        self.send_response(self.iopub_socket, 'execute_result', {\n",
    "            'data': {\"text/plain\": \"\"}, \n",
    "            'metadata': {'quarto': {'daemonize': False}},\n",
    "            'execution_count': self.shell.execution_count,\n",
    "            })\n",
    "    \n",
    "    code_cell = Cell(self, code, silent)\n",
    "    try:\n",
    "        code_cell.run()\n",
    "    except SystemError as err:\n",
    "        return _handle_stata_error(err, silent, self.execution_count)\n",
    "    self.post_do_hook()\n",
    "    return {\n",
    "        'status': \"ok\",\n",
    "        'execution_count': self.execution_count,\n",
    "        'payload': [],\n",
    "        'user_expressions': _user_expressions(user_expressions or {}),\n",
    "    }"
   ]
  },
  {
   "cell_type": "markdown",
   "metadata": {},
   "source": [
    "## Other kernel capabilities"
   ]
  },
  {
   "cell_type": "code",
   "execution_count": null,
   "metadata": {},
   "outputs": [],
   "source": [
    "#| export\n",
    "@patch_to(PyStataKernel)\n",
    "def do_inspect(self, code, cursor_pos, detail_level=0, omit_sections=()):\n",
    "    \"\"\"Display Stata 'describe' output (regardless of cursor position)\"\"\"\n",
    "    if self.stata_ready:\n",
    "        if not self.inspect_output:\n",
    "            self.inspect_output = get_inspect(code, cursor_pos, detail_level, omit_sections)\n",
    "        data = {'text/plain': self.inspect_output}\n",
    "    else:\n",
    "        data = {}\n",
    "    return {\"status\": \"ok\", \"data\": data, \"metadata\": {}, \"found\": True}"
   ]
  },
  {
   "cell_type": "code",
   "execution_count": null,
   "metadata": {},
   "outputs": [],
   "source": [
    "#| export\n",
    "@patch_to(PyStataKernel)\n",
    "def do_complete(self, code, cursor_pos):\n",
    "    \"\"\"Provide context-aware tab-autocomplete suggestions\"\"\"\n",
    "    if self.stata_ready:\n",
    "        cursor_start, cursor_end, matches = self.completions.do(\n",
    "            code,\n",
    "            cursor_pos,\n",
    "        )\n",
    "    else:\n",
    "        cursor_start = cursor_end = cursor_pos\n",
    "        matches = []\n",
    "    return {\n",
    "        'status': \"ok\",\n",
    "        'cursor_start': cursor_start,\n",
    "        'cursor_end': cursor_end,\n",
    "        'metadata': {},\n",
    "        'matches': matches,\n",
    "    }"
   ]
  },
  {
   "cell_type": "code",
   "execution_count": null,
   "metadata": {},
   "outputs": [],
   "source": [
    "#| export\n",
    "@patch_to(PyStataKernel)\n",
    "def do_is_complete(self, code):\n",
    "    \"\"\"Overrides IPythonKernel with kernelbase default\"\"\"\n",
    "    return {\"status\": \"unknown\"}"
   ]
  },
  {
   "cell_type": "code",
   "execution_count": null,
   "metadata": {},
   "outputs": [],
   "source": [
    "#| export\n",
    "@patch_to(PyStataKernel)\n",
    "def do_history(\n",
    "    self,\n",
    "    hist_access_type,\n",
    "    output,\n",
    "    raw,\n",
    "    session=None,\n",
    "    start=None,\n",
    "    stop=None,\n",
    "    n=None,\n",
    "    pattern=None,\n",
    "    unique=False,\n",
    "):\n",
    "    \"\"\"Overrides IPythonKernel with kernelbase default\"\"\"\n",
    "    return {\"status\": \"ok\", \"history\": []}"
   ]
  },
  {
   "cell_type": "code",
   "execution_count": null,
   "metadata": {},
   "outputs": [],
   "source": [
    "#| hide\n",
    "import nbdev; nbdev.nbdev_export()"
   ]
  }
 ],
 "metadata": {
  "kernelspec": {
   "display_name": "python3",
   "language": "python",
   "name": "python3"
  }
 },
 "nbformat": 4,
 "nbformat_minor": 4
}
