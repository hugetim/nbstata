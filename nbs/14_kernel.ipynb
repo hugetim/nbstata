{
 "cells": [
  {
   "cell_type": "markdown",
   "metadata": {},
   "source": [
    "# kernel\n",
    "\n",
    "> IPythonKernel based on pystata\n",
    "- order: 14"
   ]
  },
  {
   "cell_type": "markdown",
   "metadata": {},
   "source": [
    "The latest documentation for implementing a wrapper kernel is [here](https://jupyter-client.readthedocs.io/en/latest/wrapperkernels.html), but the current code deviates from those instructions (which call for inheriting from [kernelbase.Kernel](https://github.com/ipython/ipykernel/blob/main/ipykernel/kernelbase.py)), instead inheriting from the IPython kernel implementation, [IPythonKernel](https://github.com/ipython/ipykernel/blob/main/ipykernel/ipkernel.py)."
   ]
  },
  {
   "cell_type": "code",
   "execution_count": null,
   "metadata": {},
   "outputs": [],
   "source": [
    "#| default_exp kernel\n",
    "%load_ext autoreload\n",
    "%autoreload 2"
   ]
  },
  {
   "cell_type": "code",
   "execution_count": null,
   "metadata": {},
   "outputs": [],
   "source": [
    "#| hide\n",
    "from nbdev.showdoc import *"
   ]
  },
  {
   "cell_type": "code",
   "execution_count": null,
   "metadata": {},
   "outputs": [],
   "source": [
    "#| export\n",
    "from nbstata.config import get_config\n",
    "from nbstata.misc_utils import print_red\n",
    "from nbstata.inspect import get_inspect\n",
    "from nbstata.stata_session import StataSession\n",
    "from nbstata.completions import CompletionsManager\n",
    "from nbstata.cell import Cell\n",
    "import nbstata # for __version__\n",
    "from fastcore.basics import patch_to\n",
    "from ipykernel.ipkernel import IPythonKernel"
   ]
  },
  {
   "cell_type": "markdown",
   "metadata": {},
   "source": [
    "For a diagram of the main dependencies among the principal nbstata modules, [click here](https://hugetim.github.io/nbstata/dev_docs_index.html)."
   ]
  },
  {
   "cell_type": "code",
   "execution_count": null,
   "metadata": {},
   "outputs": [],
   "source": [
    "#| export\n",
    "class PyStataKernel(IPythonKernel):\n",
    "    \"\"\"A jupyter kernel based on pystata\"\"\"\n",
    "    implementation = 'nbstata'\n",
    "    implementation_version = nbstata.__version__\n",
    "    language_info = {\n",
    "        'name': 'stata',\n",
    "        'version': '17',\n",
    "        'mimetype': 'text/x-stata',\n",
    "        'file_extension': '.do',\n",
    "    }\n",
    "    banner = \"nbstata: a Jupyter kernel for Stata based on pystata\"\n",
    "    help_links = [\n",
    "        {\n",
    "            \"text\": \"Stata Documentation\",\n",
    "            \"url\": \"https://www.stata.com/features/documentation/\",\n",
    "        },\n",
    "        {\n",
    "            \"text\": \"nbstata Help\",\n",
    "            \"url\": \"https://hugetim.github.io/nbstata/\",\n",
    "        },\n",
    "    ]\n",
    "\n",
    "    def __init__(self, **kwargs):\n",
    "        super().__init__(**kwargs)\n",
    "        self.stata_ready = False\n",
    "        self.shell.execution_count = 0\n",
    "        self.perspective_enabled = None\n",
    "        self.inspect_output = \"Stata not yet initialized.\"\n",
    "        try:\n",
    "            self.init_stata()\n",
    "        except ModuleNotFoundError as err:\n",
    "            pass # wait for first do_execute so error message can be displayed under cell"
   ]
  },
  {
   "cell_type": "code",
   "execution_count": null,
   "metadata": {},
   "outputs": [],
   "source": [
    "#| export\n",
    "@patch_to(PyStataKernel)\n",
    "def init_stata(self):\n",
    "    self.env = get_config()\n",
    "    self.stata_session = StataSession()\n",
    "    self.stata_session.launch_stata(self.env)\n",
    "    self.completions = CompletionsManager(self.stata_session)\n",
    "    self.inspect_output = \"\"\n",
    "    self.stata_ready = True"
   ]
  },
  {
   "cell_type": "code",
   "execution_count": null,
   "metadata": {},
   "outputs": [],
   "source": [
    "#| export\n",
    "_missing_stata_message = (\n",
    "    \"pystata path not found\\n\"\n",
    "    \"A Stata 17 installation is required to use the nbstata Stata kernel. \"\n",
    "    \"If you already have Stata 17 installed, \"\n",
    "    \"please specify its path in your configuration file.\"\n",
    ")"
   ]
  },
  {
   "cell_type": "code",
   "execution_count": null,
   "metadata": {},
   "outputs": [
    {
     "name": "stdout",
     "output_type": "stream",
     "text": [
      "pystata path not found\n",
      "A Stata 17 installation is required to use the nbstata Stata kernel. If you already have Stata 17 installed, please specify its path in your configuration file.\n"
     ]
    }
   ],
   "source": [
    "#| hide\n",
    "print(_missing_stata_message)"
   ]
  },
  {
   "cell_type": "code",
   "execution_count": null,
   "metadata": {},
   "outputs": [],
   "source": [
    "#| export\n",
    "def _handle_stata_import_error(err, silent, execution_count):\n",
    "    if not silent:\n",
    "        print_red(f\"ModuleNotFoundError: {_missing_stata_message}\")\n",
    "    return {\n",
    "        \"traceback\": [],\n",
    "        \"ename\": \"ModuleNotFoundError\",\n",
    "        \"evalue\": _missing_stata_message,\n",
    "        'status': \"error\",\n",
    "        'execution_count': execution_count,\n",
    "    }"
   ]
  },
  {
   "cell_type": "code",
   "execution_count": null,
   "metadata": {},
   "outputs": [],
   "source": [
    "#| hide\n",
    "#| eval: False\n",
    "from nbstata.config import launch_stata\n",
    "from nbstata.stata import run_direct"
   ]
  },
  {
   "cell_type": "code",
   "execution_count": null,
   "metadata": {},
   "outputs": [],
   "source": [
    "#| hide\n",
    "#| eval: False\n",
    "launch_stata(splash=False)"
   ]
  },
  {
   "cell_type": "code",
   "execution_count": null,
   "metadata": {},
   "outputs": [],
   "source": [
    "#| export\n",
    "def print_stata_error(text):\n",
    "    lines = text.splitlines()\n",
    "    if len(lines) >= 2 and lines[-2] == lines[-1]:\n",
    "        lines.pop(-1) # remove duplicate error code glitch in pystata.stata.run multi-line (ex. below)\n",
    "    if len(lines) > 2:\n",
    "        print(\"\\n\".join(lines[:-2]))\n",
    "    print_red(\"\\n\".join(lines[-2:]))"
   ]
  },
  {
   "cell_type": "code",
   "execution_count": null,
   "metadata": {},
   "outputs": [],
   "source": [
    "from textwrap import dedent"
   ]
  },
  {
   "cell_type": "code",
   "execution_count": null,
   "metadata": {},
   "outputs": [
    {
     "name": "stdout",
     "output_type": "stream",
     "text": [
      "\n",
      ". disp 1\n",
      "1\n",
      "\n",
      ". disp error\n",
      "error not found\n",
      "r(111);\n",
      "r(111);\n",
      "\n"
     ]
    }
   ],
   "source": [
    "#| hide\n",
    "#| eval: False\n",
    "try:\n",
    "    run_direct(dedent(\"\"\"\\\n",
    "        disp 1\n",
    "        disp error\"\"\"), echo=False)\n",
    "except SystemError as err:\n",
    "    print(str(err))"
   ]
  },
  {
   "cell_type": "code",
   "execution_count": null,
   "metadata": {},
   "outputs": [
    {
     "name": "stdout",
     "output_type": "stream",
     "text": [
      "\n",
      ". disp 1\n",
      "1\n",
      "\n",
      ". disp error\n",
      "\u001b[31merror not found\n",
      "r(111);\u001b[0m\n"
     ]
    }
   ],
   "source": [
    "#| hide\n",
    "#| eval: False\n",
    "try:\n",
    "    run_direct(dedent(\"\"\"\\\n",
    "        disp 1\n",
    "        disp error\"\"\"), echo=False)\n",
    "except SystemError as err:\n",
    "    print_stata_error(str(err))"
   ]
  },
  {
   "cell_type": "code",
   "execution_count": null,
   "metadata": {},
   "outputs": [
    {
     "name": "stdout",
     "output_type": "stream",
     "text": [
      "output prior to error\n",
      "\u001b[31merror message\n",
      "error code\u001b[0m\n"
     ]
    }
   ],
   "source": [
    "print_stata_error(dedent(\"\"\"\\\n",
    "    output prior to error\n",
    "    error message\n",
    "    error code\n",
    "    \"\"\"))"
   ]
  },
  {
   "cell_type": "code",
   "execution_count": null,
   "metadata": {},
   "outputs": [
    {
     "name": "stdout",
     "output_type": "stream",
     "text": [
      "\u001b[31mone line\u001b[0m\n"
     ]
    }
   ],
   "source": [
    "#| hide\n",
    "print_stata_error(\"one line\")"
   ]
  },
  {
   "cell_type": "code",
   "execution_count": null,
   "metadata": {},
   "outputs": [],
   "source": [
    "#| export\n",
    "def _handle_stata_error(err, silent, execution_count):\n",
    "    reply_content = {\n",
    "        \"traceback\": [],\n",
    "        \"ename\": \"Stata error\",\n",
    "        \"evalue\": str(err),\n",
    "    }\n",
    "    if not silent:\n",
    "        print_stata_error(reply_content['evalue'])\n",
    "#         self.send_response(\n",
    "#             self.iopub_socket,\n",
    "#             \"error\",\n",
    "#             reply_content,\n",
    "#         )\n",
    "    reply_content.update({\n",
    "        'status': \"error\",\n",
    "        'execution_count': execution_count,\n",
    "    })\n",
    "    return reply_content"
   ]
  },
  {
   "cell_type": "code",
   "execution_count": null,
   "metadata": {},
   "outputs": [],
   "source": [
    "#| export\n",
    "@patch_to(PyStataKernel)\n",
    "def post_do_hook(self):\n",
    "    self.inspect_output = \"\""
   ]
  },
  {
   "cell_type": "code",
   "execution_count": null,
   "metadata": {},
   "outputs": [],
   "source": [
    "#| export\n",
    "@patch_to(PyStataKernel)\n",
    "def do_execute(self, code, silent,\n",
    "               store_history=True, user_expressions=None, allow_stdin=False):\n",
    "    \"\"\"Execute Stata code cell\"\"\"\n",
    "    if not self.stata_ready:\n",
    "        try:\n",
    "            self.init_stata()\n",
    "        except ModuleNotFoundError as err:\n",
    "            return _handle_stata_import_error(err, silent, self.execution_count)\n",
    "    self.shell.execution_count += 1\n",
    "    code_cell = Cell(self, code, silent)\n",
    "    try:\n",
    "        code_cell.run()\n",
    "    except SystemError as err:\n",
    "        return _handle_stata_error(err, silent, self.execution_count)\n",
    "    self.post_do_hook()\n",
    "    return {\n",
    "        'status': \"ok\",\n",
    "        'execution_count': self.execution_count,\n",
    "        'payload': [],\n",
    "        'user_expressions': {},\n",
    "    }"
   ]
  },
  {
   "cell_type": "code",
   "execution_count": null,
   "metadata": {},
   "outputs": [],
   "source": [
    "#| export\n",
    "@patch_to(PyStataKernel)\n",
    "def do_complete(self, code, cursor_pos):\n",
    "    \"\"\"Provide context-aware suggestions\"\"\"\n",
    "    if self.stata_ready:\n",
    "        cursor_start, cursor_end, matches = self.completions.do(\n",
    "            code,\n",
    "            cursor_pos,\n",
    "        )\n",
    "    else:\n",
    "        cursor_start = cursor_end = cursor_pos\n",
    "        matches = []\n",
    "    return {\n",
    "        'status': \"ok\",\n",
    "        'cursor_start': cursor_start,\n",
    "        'cursor_end': cursor_end,\n",
    "        'metadata': {},\n",
    "        'matches': matches,\n",
    "    }"
   ]
  },
  {
   "cell_type": "code",
   "execution_count": null,
   "metadata": {},
   "outputs": [],
   "source": [
    "#| export\n",
    "@patch_to(PyStataKernel)\n",
    "def do_is_complete(self, code):\n",
    "    \"\"\"Overrides IPythonKernel with kernelbase default\"\"\"\n",
    "    return {\"status\": \"unknown\"}"
   ]
  },
  {
   "cell_type": "code",
   "execution_count": null,
   "metadata": {},
   "outputs": [],
   "source": [
    "#| export\n",
    "@patch_to(PyStataKernel)\n",
    "def do_inspect(self, code, cursor_pos, detail_level=0, omit_sections=()):\n",
    "    \"\"\"Display Stata 'describe' output regardless of cursor position\"\"\"\n",
    "    if not self.inspect_output:\n",
    "        self.inspect_output = get_inspect(code, cursor_pos, detail_level, omit_sections)\n",
    "    data = {'text/plain': self.inspect_output}\n",
    "    return {\"status\": \"ok\", \"data\": data, \"metadata\": {}, \"found\": True}"
   ]
  },
  {
   "cell_type": "code",
   "execution_count": null,
   "metadata": {},
   "outputs": [],
   "source": [
    "#| export\n",
    "@patch_to(PyStataKernel)\n",
    "def do_history(\n",
    "    self,\n",
    "    hist_access_type,\n",
    "    output,\n",
    "    raw,\n",
    "    session=None,\n",
    "    start=None,\n",
    "    stop=None,\n",
    "    n=None,\n",
    "    pattern=None,\n",
    "    unique=False,\n",
    "):\n",
    "    \"\"\"Overrides IPythonKernel with kernelbase default\"\"\"\n",
    "    return {\"status\": \"ok\", \"history\": []}"
   ]
  },
  {
   "cell_type": "code",
   "execution_count": null,
   "metadata": {},
   "outputs": [],
   "source": [
    "#| hide\n",
    "import nbdev; nbdev.nbdev_export()"
   ]
  }
 ],
 "metadata": {
  "kernelspec": {
   "display_name": "python3",
   "language": "python",
   "name": "python3"
  }
 },
 "nbformat": 4,
 "nbformat_minor": 4
}
