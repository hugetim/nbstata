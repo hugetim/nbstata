{
 "cells": [
  {
   "cell_type": "markdown",
   "id": "abed9e7c",
   "metadata": {},
   "source": [
    "# config\n",
    "\n",
    "> Utilities for loading Stata and nbstata\n",
    "- order: 1"
   ]
  },
  {
   "cell_type": "markdown",
   "id": "859370f6",
   "metadata": {},
   "source": [
    "Before we can use [pystata](https://www.stata.com/python/pystata/index.html), we need to find the local Stata path (i.e., `find_path`) and then [add pystata to sys.path](https://www.stata.com/python/pystata/install.html#method-2-adding-pystata-to-sys-path) (i.e., `set_pystata_path`) so it can be imported.\n",
    "\n",
    "The `get_config` function handles nbstata configuration, more broadly."
   ]
  },
  {
   "cell_type": "code",
   "execution_count": null,
   "id": "a7dee8dc",
   "metadata": {},
   "outputs": [],
   "source": [
    "#| default_exp config\n",
    "%load_ext autoreload\n",
    "%autoreload 2"
   ]
  },
  {
   "cell_type": "code",
   "execution_count": null,
   "id": "73a0307c",
   "metadata": {},
   "outputs": [],
   "source": [
    "#| hide\n",
    "from nbdev.showdoc import *"
   ]
  },
  {
   "cell_type": "code",
   "execution_count": null,
   "id": "16c10ae2",
   "metadata": {},
   "outputs": [],
   "source": [
    "from fastcore.test import test_eq, ExceptionExpected"
   ]
  },
  {
   "cell_type": "markdown",
   "id": "671329e6",
   "metadata": {},
   "source": [
    "## pystata configuration"
   ]
  },
  {
   "cell_type": "code",
   "execution_count": null,
   "id": "d60e7ec0",
   "metadata": {},
   "outputs": [],
   "source": [
    "#| export\n",
    "from nbstata.misc_utils import print_red\n",
    "from fastcore.basics import patch_to\n",
    "import os\n",
    "import sys\n",
    "import platform\n",
    "from shutil import which\n",
    "from pathlib import Path\n",
    "from packaging import version\n",
    "import configparser"
   ]
  },
  {
   "cell_type": "code",
   "execution_count": null,
   "id": "0f124fe2-229e-424c-8001-1635ee96f095",
   "metadata": {},
   "outputs": [],
   "source": [
    "#| export\n",
    "def _win_find_path(_dir=None):\n",
    "    import winreg\n",
    "    if _dir is None:\n",
    "        dirs = [r'C:\\Program Files\\Stata19',\n",
    "                r'C:\\Program Files\\Stata18',\n",
    "                r'C:\\Program Files\\Stata17']\n",
    "    else:\n",
    "        dirs = [_dir]\n",
    "    for this_dir in dirs:\n",
    "        path = Path(this_dir)\n",
    "        if os.path.exists(path):\n",
    "            executables = [exe for exe in path.glob(\"Stata*.exe\") if exe not in set(path.glob(\"Stata*_old.exe\"))]\n",
    "            if executables:\n",
    "                return str(executables[0])\n",
    "    # Otherwise, try old way\n",
    "    reg = winreg.ConnectRegistry(None, winreg.HKEY_CLASSES_ROOT)\n",
    "    subkey = r'Stata17Do\\shell\\do\\command'\n",
    "    try:\n",
    "        key = winreg.OpenKey(reg, subkey)\n",
    "        return winreg.QueryValue(key, None).split('\"')[1]\n",
    "    except FileNotFoundError:\n",
    "        return ''"
   ]
  },
  {
   "cell_type": "code",
   "execution_count": null,
   "id": "f37251ab-9639-46e8-a410-7330bcce4562",
   "metadata": {},
   "outputs": [
    {
     "data": {
      "text/plain": [
       "'C:\\\\Program Files\\\\Stata18\\\\StataMP-64.exe'"
      ]
     },
     "execution_count": null,
     "metadata": {},
     "output_type": "execute_result"
    }
   ],
   "source": [
    "#| hide\n",
    "#|eval: false\n",
    "_win_find_path()"
   ]
  },
  {
   "cell_type": "code",
   "execution_count": null,
   "id": "aa9269cb-3ead-42f9-8c92-b3b18a779d5a",
   "metadata": {},
   "outputs": [],
   "source": [
    "#| export\n",
    "def _mac_find_path(_dir=None):\n",
    "    \"\"\"\n",
    "    Attempt to find Stata path on macOS when not on user's PATH.\n",
    "    Modified from stata_kernel's original to only location \"Applications/Stata\". \n",
    "\n",
    "    Returns:\n",
    "        (str): Path to Stata. Empty string if not found.\n",
    "    \"\"\"\n",
    "    if _dir is None:\n",
    "        _dir = '/Applications/Stata'\n",
    "    path = Path(_dir)\n",
    "    if not os.path.exists(path):\n",
    "        return ''\n",
    "    else:\n",
    "        try:\n",
    "            # find the application with the suffix .app\n",
    "            # example path: /Applications/Stata/StataMP.app\n",
    "            return str(next(path.glob(\"Stata*.app\")))\n",
    "        except StopIteration:\n",
    "            return ''"
   ]
  },
  {
   "cell_type": "code",
   "execution_count": null,
   "id": "e85ed892-02f9-45c4-8c3f-e0f0afa039b8",
   "metadata": {},
   "outputs": [
    {
     "data": {
      "text/plain": [
       "''"
      ]
     },
     "execution_count": null,
     "metadata": {},
     "output_type": "execute_result"
    }
   ],
   "source": [
    "#| hide\n",
    "_mac_find_path()"
   ]
  },
  {
   "cell_type": "code",
   "execution_count": null,
   "id": "b5d488d9-f728-4804-98f6-b2c13ff205c3",
   "metadata": {},
   "outputs": [],
   "source": [
    "#| export\n",
    "def _other_find_path():\n",
    "    for i in ['stata-mp', 'stata-se', 'stata']:\n",
    "        stata_path = which(i)\n",
    "        if stata_path:\n",
    "            return stata_path\n",
    "    return ''"
   ]
  },
  {
   "cell_type": "code",
   "execution_count": null,
   "id": "8b48663e-11aa-4ea1-8a84-6d76a2356024",
   "metadata": {},
   "outputs": [
    {
     "data": {
      "text/plain": [
       "''"
      ]
     },
     "execution_count": null,
     "metadata": {},
     "output_type": "execute_result"
    }
   ],
   "source": [
    "#| hide\n",
    "_other_find_path()"
   ]
  },
  {
   "cell_type": "code",
   "execution_count": null,
   "id": "04507c46",
   "metadata": {},
   "outputs": [],
   "source": [
    "#| export\n",
    "def _find_path(_dir=None):\n",
    "    if os.getenv('CONTINUOUS_INTEGRATION'):\n",
    "        print('WARNING: Running as CI; Stata path not set correctly')\n",
    "        return 'stata'\n",
    "    path = ''\n",
    "    if platform.system() == 'Windows':\n",
    "        path = _win_find_path(_dir)\n",
    "    elif platform.system() == 'Darwin':\n",
    "        path = _mac_find_path(_dir)\n",
    "    return path if path else _other_find_path()"
   ]
  },
  {
   "cell_type": "code",
   "execution_count": null,
   "id": "e120d11a",
   "metadata": {},
   "outputs": [
    {
     "data": {
      "text/plain": [
       "'C:\\\\Program Files\\\\Stata18\\\\StataMP-64.exe'"
      ]
     },
     "execution_count": null,
     "metadata": {},
     "output_type": "execute_result"
    }
   ],
   "source": [
    "#| hide\n",
    "#|eval: false\n",
    "_find_path()"
   ]
  },
  {
   "cell_type": "code",
   "execution_count": null,
   "id": "e6fb6a87-e043-4bc7-9717-44464449555e",
   "metadata": {},
   "outputs": [],
   "source": [
    "#| export\n",
    "def _edition(stata_exe):\n",
    "    edition = 'be'\n",
    "    for e in ('be', 'se', 'mp'):\n",
    "        if stata_exe.find(e) > -1:\n",
    "            edition = e\n",
    "            break\n",
    "    return edition"
   ]
  },
  {
   "cell_type": "code",
   "execution_count": null,
   "id": "c9e65be2-b45a-4fd9-afc8-077bdac09f08",
   "metadata": {},
   "outputs": [],
   "source": [
    "#| hide\n",
    "test_eq(_edition(os.path.basename(\"/Applications/Stata/StataMP.app\").lower()), \"mp\")\n",
    "test_eq(_edition('StataMP-64.exe'.lower()), \"mp\")\n",
    "test_eq(_edition(''), \"be\")\n",
    "test_eq(_edition('...be...mp'), \"be\")"
   ]
  },
  {
   "cell_type": "code",
   "execution_count": null,
   "id": "0d722b47",
   "metadata": {},
   "outputs": [],
   "source": [
    "#| export\n",
    "def find_dir_edition(stata_path=None):\n",
    "    if stata_path is None:\n",
    "        stata_path = _find_path()\n",
    "    if not stata_path:\n",
    "        raise OSError(\"Stata path not found.\")\n",
    "    stata_dir = str(os.path.dirname(stata_path))\n",
    "    stata_exe = str(os.path.basename(stata_path)).lower()\n",
    "    return stata_dir, _edition(stata_exe)"
   ]
  },
  {
   "cell_type": "code",
   "execution_count": null,
   "id": "437a3d33-6753-45eb-91f6-b19fc4b24db4",
   "metadata": {},
   "outputs": [],
   "source": [
    "test_eq(find_dir_edition('C:/Program Files/Stata17/StataMP-64.exe'), ('C:/Program Files/Stata17', \"mp\"))\n",
    "with ExceptionExpected(OSError):\n",
    "    find_dir_edition('')"
   ]
  },
  {
   "cell_type": "code",
   "execution_count": null,
   "id": "a9230eae-f81c-430d-bfcd-7e2ff7e4d384",
   "metadata": {},
   "outputs": [],
   "source": [
    "#| export\n",
    "def find_edition(stata_dir):\n",
    "    stata_path = _find_path(stata_dir)\n",
    "    stata_exe = str(os.path.basename(stata_path)).lower()\n",
    "    return _edition(stata_exe)"
   ]
  },
  {
   "cell_type": "code",
   "execution_count": null,
   "id": "f17e3f6d-197a-4818-93c0-aca2be1223b3",
   "metadata": {},
   "outputs": [
    {
     "data": {
      "text/plain": [
       "'mp'"
      ]
     },
     "execution_count": null,
     "metadata": {},
     "output_type": "execute_result"
    }
   ],
   "source": [
    "test_eq(find_edition(''), \"be\")\n",
    "find_edition('C:\\\\Program Files\\\\Stata18')"
   ]
  },
  {
   "cell_type": "code",
   "execution_count": null,
   "id": "fdd1ac79",
   "metadata": {},
   "outputs": [],
   "source": [
    "from nbstata.misc_utils import Timer"
   ]
  },
  {
   "cell_type": "code",
   "execution_count": null,
   "id": "44f19171",
   "metadata": {},
   "outputs": [
    {
     "name": "stdout",
     "output_type": "stream",
     "text": [
      "('C:\\\\Program Files\\\\Stata18', 'mp')\n",
      "Elapsed time: 0.0004 seconds\n"
     ]
    }
   ],
   "source": [
    "#|eval: false\n",
    "with Timer():\n",
    "    print(find_dir_edition())"
   ]
  },
  {
   "cell_type": "code",
   "execution_count": null,
   "id": "47010d9c",
   "metadata": {},
   "outputs": [],
   "source": [
    "#| export\n",
    "def set_pystata_path(stata_dir=None):\n",
    "    if stata_dir is None:\n",
    "        stata_dir, _ = find_dir_edition()\n",
    "    if not os.path.isdir(stata_dir):\n",
    "        raise OSError(f'Specified stata_dir, \"{stata_dir}\", is not a valid directory path')\n",
    "    if not os.path.isdir(os.path.join(stata_dir, 'utilities')):\n",
    "        raise OSError(f'Specified stata_dir, \"{stata_dir}\", is not Stata\\'s installation path')\n",
    "    sys.path.append(os.path.join(stata_dir, 'utilities'))"
   ]
  },
  {
   "cell_type": "code",
   "execution_count": null,
   "id": "bf343c84",
   "metadata": {},
   "outputs": [
    {
     "name": "stdout",
     "output_type": "stream",
     "text": [
      "Elapsed time: 0.0032 seconds\n"
     ]
    }
   ],
   "source": [
    "#|eval: false\n",
    "with Timer():\n",
    "    set_pystata_path()\n",
    "    import pystata"
   ]
  },
  {
   "cell_type": "code",
   "execution_count": null,
   "id": "93ce26cf-ff06-4314-982a-717564c861d1",
   "metadata": {},
   "outputs": [],
   "source": [
    "#|eval: false\n",
    "#| hide\n",
    "set_pystata_path('C:\\\\Program Files\\\\Stata18')"
   ]
  },
  {
   "cell_type": "code",
   "execution_count": null,
   "id": "91c2f563",
   "metadata": {},
   "outputs": [],
   "source": [
    "#|eval: false\n",
    "with ExceptionExpected(): import sfi"
   ]
  },
  {
   "cell_type": "code",
   "execution_count": null,
   "id": "8731f21a",
   "metadata": {},
   "outputs": [],
   "source": [
    "#| export\n",
    "def launch_stata(stata_dir=None, edition=None, splash=True):\n",
    "    \"\"\"\n",
    "    We modify stata_setup to make splash screen optional\n",
    "    \"\"\"\n",
    "    if stata_dir is None:\n",
    "        stata_dir, edition_found = find_dir_edition()\n",
    "        edition = edition_found if edition is None else edition\n",
    "    elif edition is None:\n",
    "        edition = find_edition(stata_dir)\n",
    "    set_pystata_path(stata_dir)\n",
    "    import pystata\n",
    "    try:\n",
    "        if version.parse(pystata.__version__) >= version.parse(\"0.1.1\"):\n",
    "            # Splash message control is a new feature of pystata-0.1.1\n",
    "            pystata.config.init(edition, splash=splash)\n",
    "        else:\n",
    "            pystata.config.init(edition)\n",
    "    except FileNotFoundError as err:\n",
    "        raise OSError(f'Specified edition, \"{edition}\", is not present at \"{stata_dir}\"')"
   ]
  },
  {
   "cell_type": "code",
   "execution_count": null,
   "id": "9645738d",
   "metadata": {},
   "outputs": [
    {
     "name": "stdout",
     "output_type": "stream",
     "text": [
      "    System information\n",
      "      Python version         3.10.4\n",
      "      Stata version          Stata 18.0 (MP)\n",
      "      Stata library path     C:\\Program Files\\Stata18\\mp-64.dll\n",
      "      Stata initialized      True\n",
      "      sfi initialized        True\n",
      "\n",
      "    Settings\n",
      "      graphic display        True\n",
      "      graphic size           width = default, height = default\n",
      "      graphic format         svg\n",
      "Elapsed time: 0.4785 seconds\n"
     ]
    }
   ],
   "source": [
    "#|eval: false\n",
    "with Timer():\n",
    "    launch_stata(splash=False)\n",
    "    pystata.config.status()"
   ]
  },
  {
   "cell_type": "markdown",
   "id": "682998a6",
   "metadata": {},
   "source": [
    "`sfi` can only be imported after Stata is launched:"
   ]
  },
  {
   "cell_type": "code",
   "execution_count": null,
   "id": "5596a0c9",
   "metadata": {},
   "outputs": [],
   "source": [
    "#|eval: false\n",
    "import sfi"
   ]
  },
  {
   "cell_type": "markdown",
   "id": "bc8bd3d4",
   "metadata": {},
   "source": [
    "https://www.stata.com/python/pystata/config.html#pystata.config.set_graph_format"
   ]
  },
  {
   "cell_type": "code",
   "execution_count": null,
   "id": "83f69b0d",
   "metadata": {},
   "outputs": [],
   "source": [
    "#| export\n",
    "def set_graph_format(gformat):\n",
    "    import pystata\n",
    "    if gformat == 'pystata':\n",
    "        gformat = 'svg' # pystata default\n",
    "    pystata.config.set_graph_format(gformat)"
   ]
  },
  {
   "cell_type": "code",
   "execution_count": null,
   "id": "59928cca",
   "metadata": {},
   "outputs": [
    {
     "name": "stdout",
     "output_type": "stream",
     "text": [
      "Elapsed time: 0.0000 seconds\n",
      "    System information\n",
      "      Python version         3.10.4\n",
      "      Stata version          Stata 18.0 (MP)\n",
      "      Stata library path     C:\\Program Files\\Stata18\\mp-64.dll\n",
      "      Stata initialized      True\n",
      "      sfi initialized        True\n",
      "\n",
      "    Settings\n",
      "      graphic display        True\n",
      "      graphic size           width = default, height = default\n",
      "      graphic format         png\n"
     ]
    }
   ],
   "source": [
    "#| eval: False\n",
    "with Timer():\n",
    "    set_graph_format('png')\n",
    "pystata.config.status()"
   ]
  },
  {
   "cell_type": "code",
   "execution_count": null,
   "id": "cc3a55fd",
   "metadata": {},
   "outputs": [],
   "source": [
    "#| export\n",
    "def _set_graph_size(width, height):\n",
    "    import pystata\n",
    "    pystata.config.set_graph_size(width, height)"
   ]
  },
  {
   "cell_type": "code",
   "execution_count": null,
   "id": "dc954719",
   "metadata": {},
   "outputs": [
    {
     "name": "stdout",
     "output_type": "stream",
     "text": [
      "    System information\n",
      "      Python version         3.10.4\n",
      "      Stata version          Stata 18.0 (MP)\n",
      "      Stata library path     C:\\Program Files\\Stata18\\mp-64.dll\n",
      "      Stata initialized      True\n",
      "      sfi initialized        True\n",
      "\n",
      "    Settings\n",
      "      graphic display        True\n",
      "      graphic size           width = 2.0in, height = 4in\n",
      "      graphic format         png\n"
     ]
    }
   ],
   "source": [
    "#| eval: False\n",
    "_set_graph_size('2in', '4')\n",
    "pystata.config.status()\n",
    "_set_graph_size('default', 'default')"
   ]
  },
  {
   "cell_type": "markdown",
   "id": "0a5fddbf",
   "metadata": {},
   "source": [
    "## nbstata configuration"
   ]
  },
  {
   "cell_type": "code",
   "execution_count": null,
   "id": "66c0c779",
   "metadata": {},
   "outputs": [],
   "source": [
    "#| export\n",
    "def _get_config_settings(cpath):\n",
    "    parser = configparser.ConfigParser(\n",
    "        empty_lines_in_values=False,\n",
    "        comment_prefixes=('*','//'),\n",
    "        inline_comment_prefixes=('//',),\n",
    "    )\n",
    "    parser.read(str(cpath))\n",
    "    return dict(parser.items('nbstata'))"
   ]
  },
  {
   "cell_type": "code",
   "execution_count": null,
   "id": "de82e91e",
   "metadata": {},
   "outputs": [],
   "source": [
    "#| export\n",
    "class Config:\n",
    "    env = {'stata_dir': None,\n",
    "           'edition': None,\n",
    "           'graph_format': 'png',\n",
    "           'graph_width': '5.5in',\n",
    "           'graph_height': '4in',\n",
    "           'echo': 'None',\n",
    "           'splash': 'False',\n",
    "           'missing': '.',\n",
    "          }\n",
    "    valid_values_of = dict(\n",
    "        edition={None, 'mp', 'se', 'be'},\n",
    "        graph_format={'pystata', 'svg', 'png', 'pdf'},\n",
    "        echo={'True', 'False', 'None'},\n",
    "        splash={'True', 'False'},\n",
    "    )\n",
    "    \n",
    "    @property\n",
    "    def splash(self):\n",
    "        return False if self.env['splash'] == 'False' else True\n",
    "    \n",
    "    @property\n",
    "    def noecho(self):\n",
    "        return self.env['echo'] == 'None'\n",
    "    \n",
    "    @property\n",
    "    def echo(self):\n",
    "        return self.env['echo'] == 'True'\n",
    "    \n",
    "    def __init__(self):\n",
    "        \"\"\"First check if a configuration file exists. If not, try `find_dir_edition`.\"\"\"\n",
    "        self.errors = []\n",
    "        self._update_backup_graph_size()\n",
    "        self.config_path = None\n",
    "        self._process_config_file()\n",
    "\n",
    "    def _update_backup_graph_size(self):\n",
    "        self.backup_graph_size = {key: self.env[key] for key in {'graph_width', 'graph_height'}}\n",
    "                \n",
    "    def _process_config_file(self):\n",
    "        global_config_path = Path(os.path.join(sys.prefix, 'etc', 'nbstata.conf'))\n",
    "        user_config_path = Path('~/.nbstata.conf').expanduser()\n",
    "        for cpath in (user_config_path, global_config_path):      \n",
    "            if cpath.is_file():\n",
    "                self._get_config_env(cpath)\n",
    "                break\n",
    "            \n",
    "    def _get_config_env(self, cpath):\n",
    "        try:\n",
    "            settings = _get_config_settings(cpath)\n",
    "        except configparser.Error as err:\n",
    "            print_red(f\"Configuration error in {cpath}:\\n\"\n",
    "                      f\"    {str(err)}\")\n",
    "        else:\n",
    "            self.config_path = str(cpath)\n",
    "            self.update(\n",
    "                settings, \n",
    "                init=True, \n",
    "                error_header=f\"Configuration errors in {self.config_path}:\"  \n",
    "            )\n",
    "            \n",
    "    def update(self, env, init=False, error_header=\"%set error(s):\"):\n",
    "        init_only_settings = {'stata_dir','edition','splash'}\n",
    "        allowed_settings = self.env if init else set(self.env)-init_only_settings\n",
    "        for key in list(env):\n",
    "            if key not in allowed_settings:\n",
    "                explanation = (\n",
    "                    \"is only allowed in a configuration file.\" if key in init_only_settings\n",
    "                    else \"is not a valid setting.\"\n",
    "                )\n",
    "                self.errors.append(f\"    '{key}' {explanation}\")\n",
    "                env.pop(key)\n",
    "            elif key in self.valid_values_of and env[key] not in self.valid_values_of[key]:\n",
    "                self.errors.append(\n",
    "                    f\"    '{key}' configuration invalid: '{env[key]}' is not a valid value. \"\n",
    "                    f\"Reverting to: {key} = {self.env[key]}\"\n",
    "                )\n",
    "                env.pop(key)\n",
    "        self._display_and_clear_update_errors(error_header)\n",
    "        for key in set(env)-{'graph_width', 'graph_height'}:\n",
    "            if not init: print(f\"{key} was {self.env[key]}, is now {env[key]}\")\n",
    "        self.env.update(env)\n",
    "  \n",
    "    def _display_and_clear_update_errors(self, error_header):\n",
    "        if self.errors:\n",
    "            print_red(error_header)\n",
    "        for message in self.errors:\n",
    "            print_red(message)\n",
    "        self.errors = []\n",
    "        \n",
    "    def display_status(self):\n",
    "        import pystata\n",
    "        pystata.config.status()\n",
    "        print(f\"\"\"\n",
    "      echo                   {self.env['echo']}\n",
    "      missing                {self.env['missing']}\"\"\")"
   ]
  },
  {
   "cell_type": "markdown",
   "id": "fe7db73d",
   "metadata": {},
   "source": [
    "The below example reads in from a sample configuration file:"
   ]
  },
  {
   "cell_type": "code",
   "execution_count": null,
   "id": "d9f66a87",
   "metadata": {},
   "outputs": [
    {
     "data": {
      "text/plain": [
       "{'stata_dir': 'C:\\\\Program Files\\\\Stata18',\n",
       " 'edition': 'mp',\n",
       " 'graph_format': 'png',\n",
       " 'graph_width': '5.5in',\n",
       " 'graph_height': '4in',\n",
       " 'echo': 'None',\n",
       " 'splash': 'False',\n",
       " 'missing': '.'}"
      ]
     },
     "execution_count": null,
     "metadata": {},
     "output_type": "execute_result"
    }
   ],
   "source": [
    "config = Config()\n",
    "config.env"
   ]
  },
  {
   "cell_type": "markdown",
   "id": "7184770c",
   "metadata": {},
   "source": [
    "Testing out error messages explaining invalid keys:"
   ]
  },
  {
   "cell_type": "code",
   "execution_count": null,
   "id": "bcb28332",
   "metadata": {},
   "outputs": [
    {
     "name": "stdout",
     "output_type": "stream",
     "text": [
      "\u001b[31m%set error(s):\u001b[0m\n",
      "\u001b[31m    'splash' is only allowed in a configuration file.\u001b[0m\n"
     ]
    }
   ],
   "source": [
    "#| eval: False\n",
    "config.update({'splash': 'True'})"
   ]
  },
  {
   "cell_type": "code",
   "execution_count": null,
   "id": "bb288aca",
   "metadata": {},
   "outputs": [],
   "source": [
    "#| eval: False\n",
    "config.update({'splash': 'True'}, init=True)"
   ]
  },
  {
   "cell_type": "code",
   "execution_count": null,
   "id": "10b0c30d",
   "metadata": {},
   "outputs": [
    {
     "name": "stdout",
     "output_type": "stream",
     "text": [
      "\u001b[31m%set error(s):\u001b[0m\n",
      "\u001b[31m    'not_a_key' is not a valid setting.\u001b[0m\n"
     ]
    }
   ],
   "source": [
    "#| eval: False\n",
    "config.update({'not_a_key': 'True'})"
   ]
  },
  {
   "cell_type": "markdown",
   "id": "02901a28",
   "metadata": {},
   "source": [
    "The configuration file is read in prior to loading Stata (since it can contain a path to the desired Stata executable). But checking the validity of graph size configuration settings uses Stata, so that can't be done in the same step in which the configuration file is read in. Thus, the following workaround is used: hold the read-in graph size settings until they are actually applied, reverting to previous valid settings if they don't work:"
   ]
  },
  {
   "cell_type": "code",
   "execution_count": null,
   "id": "648a597d",
   "metadata": {},
   "outputs": [],
   "source": [
    "#| export\n",
    "@patch_to(Config)\n",
    "def set_graph_size(self, init=False):\n",
    "    try:\n",
    "        _set_graph_size(self.env['graph_width'], self.env['graph_height'])\n",
    "    except ValueError as err:\n",
    "        self.env.update(self.backup_graph_size)\n",
    "        print_red(f\"Configuration error: {str(err)}. Graph size not changed.\")\n",
    "        if init: self.set_graph_size() # ensures set to definite measures rather than \"default\"\n",
    "    else:\n",
    "        if {key: self.env[key] for key in {'graph_width', 'graph_height'}} != self.backup_graph_size:\n",
    "            if not init:\n",
    "                print(f\"graph size was ({self.backup_graph_size['graph_width']}, \"\n",
    "                      f\"{self.backup_graph_size['graph_height']}), \"\n",
    "                      f\"is now ({self.env['graph_width']}, {self.env['graph_height']}).\")\n",
    "            self._update_backup_graph_size()"
   ]
  },
  {
   "cell_type": "markdown",
   "id": "88a18fec",
   "metadata": {},
   "source": [
    "If the configuration file has invalid width/height, the error message says \"Graph size not changed\" even though, under the hood, the `pystata` graph size configuration is changing from \"default\" to definite measures. This behavior ensures that using the %set magic to change just one of the size values, width or height, always exhibits the behavior described in the `nbstata` [user guide](https://hugetim.github.io/nbstata/user_guide.html#configuration-optional) rather than the (maintained aspect ratio) [behavior described in the pystata docs](https://www.stata.com/python/pystata18/config.html#pystata.config.set_graph_size). "
   ]
  },
  {
   "cell_type": "code",
   "execution_count": null,
   "id": "d1940f13",
   "metadata": {},
   "outputs": [
    {
     "name": "stdout",
     "output_type": "stream",
     "text": [
      "    System information\n",
      "      Python version         3.10.4\n",
      "      Stata version          Stata 18.0 (MP)\n",
      "      Stata library path     C:\\Program Files\\Stata18\\mp-64.dll\n",
      "      Stata initialized      True\n",
      "      sfi initialized        True\n",
      "\n",
      "    Settings\n",
      "      graphic display        True\n",
      "      graphic size           width = default, height = default\n",
      "      graphic format         png\n",
      "\n",
      "      echo                   None\n",
      "      missing                .\n",
      "    System information\n",
      "      Python version         3.10.4\n",
      "      Stata version          Stata 18.0 (MP)\n",
      "      Stata library path     C:\\Program Files\\Stata18\\mp-64.dll\n",
      "      Stata initialized      True\n",
      "      sfi initialized        True\n",
      "\n",
      "    Settings\n",
      "      graphic display        True\n",
      "      graphic size           width = 5.5in, height = 4.0in\n",
      "      graphic format         png\n",
      "\n",
      "      echo                   None\n",
      "      missing                .\n"
     ]
    }
   ],
   "source": [
    "#| eval: False\n",
    "config.display_status()\n",
    "config.set_graph_size(init=True)\n",
    "config.display_status()"
   ]
  },
  {
   "cell_type": "code",
   "execution_count": null,
   "id": "9e5f80e5",
   "metadata": {},
   "outputs": [
    {
     "name": "stdout",
     "output_type": "stream",
     "text": [
      "graph size was (5.5in, 4in), is now (3, 4in).\n"
     ]
    }
   ],
   "source": [
    "#| eval: False\n",
    "config.update({'graph_width': '3'})\n",
    "config.set_graph_size()"
   ]
  },
  {
   "cell_type": "code",
   "execution_count": null,
   "id": "01d21b74",
   "metadata": {},
   "outputs": [
    {
     "name": "stdout",
     "output_type": "stream",
     "text": [
      "    System information\n",
      "      Python version         3.10.4\n",
      "      Stata version          Stata 18.0 (MP)\n",
      "      Stata library path     C:\\Program Files\\Stata18\\mp-64.dll\n",
      "      Stata initialized      True\n",
      "      sfi initialized        True\n",
      "\n",
      "    Settings\n",
      "      graphic display        True\n",
      "      graphic size           width = 3in, height = 4.0in\n",
      "      graphic format         png\n",
      "\n",
      "      echo                   None\n",
      "      missing                .\n"
     ]
    },
    {
     "data": {
      "text/plain": [
       "{'stata_dir': 'C:\\\\Program Files\\\\Stata18',\n",
       " 'edition': 'mp',\n",
       " 'graph_format': 'png',\n",
       " 'graph_width': '3',\n",
       " 'graph_height': '4in',\n",
       " 'echo': 'None',\n",
       " 'splash': 'True',\n",
       " 'missing': '.'}"
      ]
     },
     "execution_count": null,
     "metadata": {},
     "output_type": "execute_result"
    }
   ],
   "source": [
    "#| eval: False\n",
    "config.display_status()\n",
    "config.env"
   ]
  },
  {
   "cell_type": "code",
   "execution_count": null,
   "id": "4397c74f",
   "metadata": {},
   "outputs": [
    {
     "name": "stdout",
     "output_type": "stream",
     "text": [
      "\u001b[31mConfiguration error: graph height is invalid. Graph size not changed.\u001b[0m\n"
     ]
    },
    {
     "data": {
      "text/plain": [
       "{'stata_dir': 'C:\\\\Program Files\\\\Stata18',\n",
       " 'edition': 'mp',\n",
       " 'graph_format': 'png',\n",
       " 'graph_width': '3',\n",
       " 'graph_height': '4in',\n",
       " 'echo': 'None',\n",
       " 'splash': 'True',\n",
       " 'missing': '.'}"
      ]
     },
     "execution_count": null,
     "metadata": {},
     "output_type": "execute_result"
    }
   ],
   "source": [
    "#| eval: False\n",
    "config.update({'graph_height': '-3'})\n",
    "config.set_graph_size()\n",
    "config.env"
   ]
  },
  {
   "cell_type": "code",
   "execution_count": null,
   "id": "2b5dc1e0",
   "metadata": {},
   "outputs": [],
   "source": [
    "#| export\n",
    "@patch_to(Config)\n",
    "def update_graph_config(self, init=False):\n",
    "    graph_format = self.env['graph_format']\n",
    "    if graph_format == 'pystata':\n",
    "        graph_format = 'svg'\n",
    "    set_graph_format(graph_format)\n",
    "    self.set_graph_size(init)"
   ]
  },
  {
   "cell_type": "code",
   "execution_count": null,
   "id": "a08b70bf",
   "metadata": {},
   "outputs": [],
   "source": [
    "#| eval: False\n",
    "config.update_graph_config()"
   ]
  },
  {
   "cell_type": "code",
   "execution_count": null,
   "id": "84b0436e",
   "metadata": {},
   "outputs": [],
   "source": [
    "#| export\n",
    "@patch_to(Config)\n",
    "def init_stata(self):\n",
    "    launch_stata(self.env['stata_dir'],\n",
    "                 self.env['edition'],\n",
    "                 self.splash,\n",
    "                )\n",
    "    self.update_graph_config(init=True)"
   ]
  },
  {
   "cell_type": "code",
   "execution_count": null,
   "id": "c454ba5b",
   "metadata": {},
   "outputs": [],
   "source": [
    "#| hide\n",
    "import nbdev; nbdev.nbdev_export()"
   ]
  }
 ],
 "metadata": {
  "kernelspec": {
   "display_name": "python3",
   "language": "python",
   "name": "python3"
  }
 },
 "nbformat": 4,
 "nbformat_minor": 5
}
