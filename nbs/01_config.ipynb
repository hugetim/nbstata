{
 "cells": [
  {
   "cell_type": "markdown",
   "id": "abed9e7c",
   "metadata": {},
   "source": [
    "# config\n",
    "\n",
    "> Utilities for loading Stata and nbstata\n",
    "- order: 1"
   ]
  },
  {
   "cell_type": "markdown",
   "id": "859370f6",
   "metadata": {},
   "source": [
    "Before we can use [pystata](https://www.stata.com/python/pystata/index.html), we need to find the local Stata path (i.e., `find_path`) and then [add pystata to sys.path](https://www.stata.com/python/pystata/install.html#method-2-adding-pystata-to-sys-path) (i.e., `set_pystata_path`) so it can be imported.\n",
    "\n",
    "The `get_config` function handles nbstata configuration, more broadly."
   ]
  },
  {
   "cell_type": "code",
   "execution_count": null,
   "id": "a7dee8dc",
   "metadata": {},
   "outputs": [],
   "source": [
    "#| default_exp config\n",
    "%load_ext autoreload\n",
    "%autoreload 2"
   ]
  },
  {
   "cell_type": "code",
   "execution_count": null,
   "id": "73a0307c",
   "metadata": {},
   "outputs": [],
   "source": [
    "#| hide\n",
    "from nbdev.showdoc import *"
   ]
  },
  {
   "cell_type": "markdown",
   "id": "671329e6",
   "metadata": {},
   "source": [
    "## pystata configuration"
   ]
  },
  {
   "cell_type": "code",
   "execution_count": null,
   "id": "d60e7ec0",
   "metadata": {},
   "outputs": [],
   "source": [
    "#| export\n",
    "from nbstata.misc_utils import print_red\n",
    "import os\n",
    "import sys\n",
    "import platform\n",
    "from shutil import which\n",
    "from pathlib import Path\n",
    "from packaging import version\n",
    "from configparser import ConfigParser, NoSectionError"
   ]
  },
  {
   "cell_type": "code",
   "execution_count": null,
   "id": "5d5c692c",
   "metadata": {},
   "outputs": [],
   "source": [
    "#| export\n",
    "def _win_find_path():\n",
    "    import winreg\n",
    "    reg = winreg.ConnectRegistry(None, winreg.HKEY_CLASSES_ROOT)\n",
    "    subkeys = [r'Stata17Do\\shell\\do\\command',\n",
    "                r'Stata18Do\\shell\\do\\command',\n",
    "                r'Stata19Do\\shell\\do\\command']\n",
    "\n",
    "    fpath = ''\n",
    "    for subkey in subkeys:\n",
    "        try:\n",
    "            key = winreg.OpenKey(reg, subkey)\n",
    "            fpath = winreg.QueryValue(key, None).split('\"')[1]\n",
    "        except FileNotFoundError:\n",
    "            pass\n",
    "        if fpath:\n",
    "            break\n",
    "\n",
    "    return fpath\n",
    "\n",
    "\n",
    "def _mac_find_path():\n",
    "    \"\"\"\n",
    "    Attempt to find Stata path on macOS when not on user's PATH.\n",
    "    Modified from stata_kernel's original to only location \"Applications/Stata\". \n",
    "\n",
    "    Returns:\n",
    "        (str): Path to Stata. Empty string if not found.\n",
    "    \"\"\"\n",
    "    path = Path('/Applications/Stata')\n",
    "    if not path.exists():\n",
    "        return ''\n",
    "    else:\n",
    "        return str(path)"
   ]
  },
  {
   "cell_type": "code",
   "execution_count": null,
   "id": "04507c46",
   "metadata": {},
   "outputs": [],
   "source": [
    "#| export\n",
    "def _find_path():\n",
    "    if os.getenv('CONTINUOUS_INTEGRATION'):\n",
    "        print('WARNING: Running as CI; Stata path not set correctly')\n",
    "        return 'stata'\n",
    "    if platform.system() == 'Windows':\n",
    "        return _win_find_path()\n",
    "    elif platform.system() == 'Darwin':\n",
    "        return _mac_find_path()\n",
    "    else:\n",
    "        for i in ['stata-mp', 'stata-se', 'stata']:\n",
    "            stata_path = which(i)\n",
    "            if stata_path:\n",
    "                break\n",
    "        return stata_path"
   ]
  },
  {
   "cell_type": "code",
   "execution_count": null,
   "id": "e120d11a",
   "metadata": {},
   "outputs": [
    {
     "data": {
      "text/plain": [
       "'C:\\\\Program Files\\\\Stata17\\\\StataMP-64.exe'"
      ]
     },
     "execution_count": null,
     "metadata": {},
     "output_type": "execute_result"
    }
   ],
   "source": [
    "#| hide\n",
    "_find_path()"
   ]
  },
  {
   "cell_type": "code",
   "execution_count": null,
   "id": "0d722b47",
   "metadata": {},
   "outputs": [],
   "source": [
    "#| export\n",
    "def find_dir_edition():\n",
    "    stata_path = _find_path()\n",
    "    if stata_path is None:\n",
    "        raise OSError(\"Stata path not found.\")\n",
    "    stata_dir = str(os.path.dirname(stata_path))\n",
    "    stata_exe = str(os.path.basename(stata_path)).lower()\n",
    "\n",
    "    edition = 'be'\n",
    "    for e in ('se','mp'):\n",
    "        if stata_exe.find(e) > -1:\n",
    "            edition = e            \n",
    "    return stata_dir, edition"
   ]
  },
  {
   "cell_type": "code",
   "execution_count": null,
   "id": "fdd1ac79",
   "metadata": {},
   "outputs": [],
   "source": [
    "from nbstata.misc_utils import Timer"
   ]
  },
  {
   "cell_type": "code",
   "execution_count": null,
   "id": "44f19171",
   "metadata": {},
   "outputs": [
    {
     "name": "stdout",
     "output_type": "stream",
     "text": [
      "Elapsed time: 0.0002 seconds\n"
     ]
    }
   ],
   "source": [
    "#|eval: false\n",
    "with Timer():\n",
    "    find_dir_edition()"
   ]
  },
  {
   "cell_type": "code",
   "execution_count": null,
   "id": "47010d9c",
   "metadata": {},
   "outputs": [],
   "source": [
    "#| export\n",
    "def set_pystata_path(path=None):\n",
    "    if path == None:\n",
    "        path, _ = find_dir_edition()\n",
    "    if not os.path.isdir(path):\n",
    "        raise OSError(path + ' is invalid')\n",
    "    if not os.path.isdir(os.path.join(path, 'utilities')):\n",
    "        raise OSError(path + \" is not Stata's installation path\")\n",
    "    sys.path.append(os.path.join(path, 'utilities'))"
   ]
  },
  {
   "cell_type": "code",
   "execution_count": null,
   "id": "bf343c84",
   "metadata": {},
   "outputs": [
    {
     "name": "stdout",
     "output_type": "stream",
     "text": [
      "Elapsed time: 0.0040 seconds\n"
     ]
    }
   ],
   "source": [
    "#|eval: false\n",
    "with Timer():\n",
    "    set_pystata_path()\n",
    "    import pystata"
   ]
  },
  {
   "cell_type": "code",
   "execution_count": null,
   "id": "16c10ae2",
   "metadata": {},
   "outputs": [],
   "source": [
    "#|eval: false\n",
    "from fastcore.test import ExceptionExpected"
   ]
  },
  {
   "cell_type": "code",
   "execution_count": null,
   "id": "91c2f563",
   "metadata": {},
   "outputs": [],
   "source": [
    "#|eval: false\n",
    "with ExceptionExpected(): import sfi"
   ]
  },
  {
   "cell_type": "code",
   "execution_count": null,
   "id": "8731f21a",
   "metadata": {},
   "outputs": [],
   "source": [
    "#| export\n",
    "def launch_stata(path=None, edition=None, splash=True):\n",
    "    \"\"\"\n",
    "    We modify stata_setup to make splash screen optional\n",
    "    \"\"\"\n",
    "    try:\n",
    "        if path == None or edition == None:\n",
    "            path_found, edition_found = find_dir_edition()\n",
    "            path = path_found if path==None else path\n",
    "            edition = edition_found if edition==None else edition\n",
    "        set_pystata_path(path)\n",
    "    except OSError as err:\n",
    "        pass\n",
    "    import pystata\n",
    "    if version.parse(pystata.__version__) >= version.parse(\"0.1.1\"):\n",
    "        # Splash message control is a new feature of pystata-0.1.1\n",
    "        pystata.config.init(edition,splash=splash)\n",
    "    else:\n",
    "        pystata.config.init(edition)"
   ]
  },
  {
   "cell_type": "code",
   "execution_count": null,
   "id": "9645738d",
   "metadata": {},
   "outputs": [
    {
     "name": "stdout",
     "output_type": "stream",
     "text": [
      "    System information\n",
      "      Python version         3.10.4\n",
      "      Stata version          Stata 17.0 (MP)\n",
      "      Stata library path     C:\\Program Files\\Stata17\\mp-64.dll\n",
      "      Stata initialized      True\n",
      "      sfi initialized        True\n",
      "\n",
      "    Settings\n",
      "      graphic display        True\n",
      "      graphic size           width = default, height = default\n",
      "      graphic format         svg\n",
      "Elapsed time: 0.9244 seconds\n"
     ]
    }
   ],
   "source": [
    "#|eval: false\n",
    "with Timer():\n",
    "    launch_stata(splash=False)\n",
    "    pystata.config.status()"
   ]
  },
  {
   "cell_type": "markdown",
   "id": "682998a6",
   "metadata": {},
   "source": [
    "`sfi` can only be imported after Stata is launched:"
   ]
  },
  {
   "cell_type": "code",
   "execution_count": null,
   "id": "5596a0c9",
   "metadata": {},
   "outputs": [],
   "source": [
    "#|eval: false\n",
    "import sfi"
   ]
  },
  {
   "cell_type": "markdown",
   "id": "bc8bd3d4",
   "metadata": {},
   "source": [
    "https://www.stata.com/python/pystata/config.html#pystata.config.set_graph_format"
   ]
  },
  {
   "cell_type": "code",
   "execution_count": null,
   "id": "83f69b0d",
   "metadata": {},
   "outputs": [],
   "source": [
    "#| export\n",
    "def set_graph_format(gformat):\n",
    "    import pystata\n",
    "    if gformat == 'pystata':\n",
    "        gformat = 'svg' # pystata default\n",
    "    pystata.config.set_graph_format(gformat)"
   ]
  },
  {
   "cell_type": "code",
   "execution_count": null,
   "id": "59928cca",
   "metadata": {},
   "outputs": [
    {
     "name": "stdout",
     "output_type": "stream",
     "text": [
      "Elapsed time: 0.0000 seconds\n",
      "    System information\n",
      "      Python version         3.10.4\n",
      "      Stata version          Stata 17.0 (MP)\n",
      "      Stata library path     C:\\Program Files\\Stata17\\mp-64.dll\n",
      "      Stata initialized      True\n",
      "      sfi initialized        True\n",
      "\n",
      "    Settings\n",
      "      graphic display        True\n",
      "      graphic size           width = default, height = default\n",
      "      graphic format         png\n"
     ]
    }
   ],
   "source": [
    "#| eval: False\n",
    "with Timer():\n",
    "    set_graph_format('png')\n",
    "pystata.config.status()"
   ]
  },
  {
   "cell_type": "code",
   "execution_count": null,
   "id": "cc3a55fd",
   "metadata": {},
   "outputs": [],
   "source": [
    "#| export\n",
    "def set_graph_size(width, height):\n",
    "    import pystata\n",
    "    pystata.config.set_graph_size(width, height)"
   ]
  },
  {
   "cell_type": "code",
   "execution_count": null,
   "id": "dc954719",
   "metadata": {},
   "outputs": [
    {
     "name": "stdout",
     "output_type": "stream",
     "text": [
      "    System information\n",
      "      Python version         3.10.4\n",
      "      Stata version          Stata 17.0 (MP)\n",
      "      Stata library path     C:\\Program Files\\Stata17\\mp-64.dll\n",
      "      Stata initialized      True\n",
      "      sfi initialized        True\n",
      "\n",
      "    Settings\n",
      "      graphic display        True\n",
      "      graphic size           width = 2.0in, height = 4in\n",
      "      graphic format         png\n"
     ]
    }
   ],
   "source": [
    "#| eval: False\n",
    "set_graph_size('2in', '4')\n",
    "pystata.config.status()"
   ]
  },
  {
   "cell_type": "code",
   "execution_count": null,
   "id": "704c211e",
   "metadata": {},
   "outputs": [],
   "source": [
    "#| export\n",
    "def is_graph_size_valid(size):\n",
    "    import pystata\n",
    "    try:\n",
    "        size = pystata.config._get_figure_size_info(str(size))\n",
    "        if size[0] == 'default' or size[0] < 0:\n",
    "            raise ValueError('graph size is invalid')\n",
    "    except ValueError:\n",
    "        return False\n",
    "    else:\n",
    "        return True"
   ]
  },
  {
   "cell_type": "code",
   "execution_count": null,
   "id": "38ccf25c",
   "metadata": {},
   "outputs": [],
   "source": [
    "#| hide\n",
    "from fastcore.test import test_eq, ExceptionExpected"
   ]
  },
  {
   "cell_type": "code",
   "execution_count": null,
   "id": "28667084",
   "metadata": {},
   "outputs": [],
   "source": [
    "#| eval: False\n",
    "test_eq(is_graph_size_valid('default'), False) # pystata allows, but not nbstata to avoid confusion\n",
    "test_eq(is_graph_size_valid('4mi'), False)\n",
    "test_eq(is_graph_size_valid('4in'), True)\n",
    "test_eq(is_graph_size_valid('3.2 cm'), True)\n",
    "test_eq(is_graph_size_valid('70px'), True)\n",
    "test_eq(is_graph_size_valid('20'), True)\n",
    "test_eq(is_graph_size_valid('-3'), False)"
   ]
  },
  {
   "cell_type": "markdown",
   "id": "0a5fddbf",
   "metadata": {},
   "source": [
    "## nbstata configuration"
   ]
  },
  {
   "cell_type": "code",
   "execution_count": null,
   "id": "66c0c779",
   "metadata": {},
   "outputs": [],
   "source": [
    "#| export\n",
    "def _get_config_settings(cpath):\n",
    "    parser = ConfigParser(\n",
    "        empty_lines_in_values=False,\n",
    "        comment_prefixes=('*','//'),\n",
    "        inline_comment_prefixes=('//',),\n",
    "    )\n",
    "    parser.read(str(cpath))\n",
    "    return dict(parser.items('nbstata'))"
   ]
  },
  {
   "cell_type": "code",
   "execution_count": null,
   "id": "de82e91e",
   "metadata": {},
   "outputs": [],
   "source": [
    "#| export\n",
    "class Config:\n",
    "    env = {'stata_dir': None,\n",
    "           'edition': 'be',\n",
    "           'graph_format': 'png',\n",
    "           'graph_width': '5.5in',\n",
    "           'graph_height': '4in',\n",
    "           'echo': 'None',\n",
    "           'splash': 'False',\n",
    "           'missing': '.',\n",
    "          }\n",
    "    valid_values_of = dict(\n",
    "        graph_format={'pystata', 'svg', 'png', 'pdf'},\n",
    "        echo={'True', 'False', 'None'},\n",
    "        splash={'True', 'False'},\n",
    "    )\n",
    "    \n",
    "    @property\n",
    "    def splash(self):\n",
    "        return False if self.env['splash']=='False' else True\n",
    "    \n",
    "    @property\n",
    "    def noecho(self):\n",
    "        return self.env['echo'] == 'None'\n",
    "    \n",
    "    @property\n",
    "    def echo(self):\n",
    "        return self.env['echo'] == 'True'\n",
    "    \n",
    "    def __init__(self):\n",
    "        \"\"\"First check if a configuration file exists. If not, try `find_dir_edition`.\"\"\"\n",
    "        self.errors = []\n",
    "        self.config_path = None\n",
    "        self._process_config_file()\n",
    "        if self.env['stata_dir'] == None or self.env['edition'] == None:\n",
    "            try:    \n",
    "                stata_dir, stata_ed = find_dir_edition()     \n",
    "            except OSError:\n",
    "                pass\n",
    "            else:\n",
    "                self.env.update({'stata_dir': stata_dir, 'edition': stata_ed})\n",
    "\n",
    "    def _process_config_file(self):\n",
    "        global_config_path = Path(os.path.join(sys.prefix, 'etc', 'nbstata.conf'))\n",
    "        user_config_path = Path('~/.nbstata.conf').expanduser()\n",
    "        for cpath in (user_config_path, global_config_path):      \n",
    "            if cpath.is_file():\n",
    "                self._get_config_env(cpath)\n",
    "                break\n",
    "            \n",
    "    def _get_config_env(self, cpath):\n",
    "        try:\n",
    "            settings = _get_config_settings(cpath)\n",
    "        except ParsingError:\n",
    "            print_red(f\"Configuration error in {cpath}:\\n\"\n",
    "                      \"    invalid syntax\")\n",
    "        except DuplicateOptionError:\n",
    "            print_red(f\"Configuration error in {cpath}:\\n\"\n",
    "                      \"    attempted to set the same thing twice\")\n",
    "        except ConfigParserError:\n",
    "            print_red(f\"Configuration error in {cpath}\")\n",
    "        else:\n",
    "            self.config_path = str(cpath)\n",
    "            self.update(\n",
    "                settings, \n",
    "                init=True, \n",
    "                error_header=f\"Configuration errors in {self.config_path}:\"  \n",
    "            )\n",
    "            \n",
    "    def update(self, env, init=False, error_header=\"%set error(s):\"):\n",
    "        allowed_settings = self.env if init else set(self.env)-{'stata_dir','edition'}\n",
    "        for key in list(env):\n",
    "            if key not in allowed_settings:\n",
    "                self.errors.append(f\"    '{key}' is not a valid setting.\")\n",
    "                env.pop(key)\n",
    "            elif (\n",
    "                (key in self.valid_values_of and env[key] not in self.valid_values_of[key])\n",
    "                or (key in {'graph_width', 'graph_height'} and not is_graph_size_valid(env[key]))\n",
    "            ):\n",
    "                self.errors.append(\n",
    "                    f\"    '{key}' configuration invalid. \"\n",
    "                    f\"Reverting to: {key} = {self.env[key]}\"\n",
    "                )\n",
    "                env.pop(key)\n",
    "        self._display_and_clear_update_errors(error_header)\n",
    "        for key in env:\n",
    "            if not init: print(f\"{key} was {self.env[key]}, is now {env[key]}\")\n",
    "        self.env.update(env)\n",
    "  \n",
    "    def _display_and_clear_update_errors(self, error_header):\n",
    "        if self.errors:\n",
    "            print_red(error_header)\n",
    "        for message in self.errors:\n",
    "            print_red(message)\n",
    "        self.errors = []\n",
    "        \n",
    "    def display_status(self):\n",
    "        import pystata\n",
    "        pystata.config.status()\n",
    "        print(f\"\"\"\n",
    "      echo                   {self.env['echo']}\n",
    "      missing                {self.env['missing']}\"\"\")"
   ]
  },
  {
   "cell_type": "code",
   "execution_count": null,
   "id": "d9f66a87",
   "metadata": {},
   "outputs": [
    {
     "data": {
      "text/plain": [
       "{'stata_dir': 'C:\\\\Program Files\\\\Stata17',\n",
       " 'edition': 'mp',\n",
       " 'graph_format': 'png',\n",
       " 'graph_width': '5.5in',\n",
       " 'graph_height': '4in',\n",
       " 'echo': 'None',\n",
       " 'splash': 'False',\n",
       " 'missing': '.'}"
      ]
     },
     "execution_count": null,
     "metadata": {},
     "output_type": "execute_result"
    }
   ],
   "source": [
    "config = Config()\n",
    "config.env"
   ]
  },
  {
   "cell_type": "code",
   "execution_count": null,
   "id": "e09a2ee8",
   "metadata": {},
   "outputs": [
    {
     "name": "stdout",
     "output_type": "stream",
     "text": [
      "    System information\n",
      "      Python version         3.10.4\n",
      "      Stata version          Stata 17.0 (MP)\n",
      "      Stata library path     C:\\Program Files\\Stata17\\mp-64.dll\n",
      "      Stata initialized      True\n",
      "      sfi initialized        True\n",
      "\n",
      "    Settings\n",
      "      graphic display        True\n",
      "      graphic size           width = 2.0in, height = 4in\n",
      "      graphic format         png\n",
      "\n",
      "      echo                   None\n",
      "      missing                .\n"
     ]
    }
   ],
   "source": [
    "#| eval: False\n",
    "config.display_status()"
   ]
  },
  {
   "cell_type": "code",
   "execution_count": null,
   "id": "9e5f80e5",
   "metadata": {},
   "outputs": [
    {
     "name": "stdout",
     "output_type": "stream",
     "text": [
      "graph_height was 4in, is now 3\n"
     ]
    }
   ],
   "source": [
    "#| eval: False\n",
    "config.update({'graph_height': '3'})"
   ]
  },
  {
   "cell_type": "code",
   "execution_count": null,
   "id": "4397c74f",
   "metadata": {},
   "outputs": [
    {
     "name": "stdout",
     "output_type": "stream",
     "text": [
      "\u001b[31m%set error(s):\u001b[0m\n",
      "\u001b[31m    'graph_height' configuration invalid. Reverting to: graph_height = 3\u001b[0m\n"
     ]
    }
   ],
   "source": [
    "#| eval: False\n",
    "config.update({'graph_height': '-3'})"
   ]
  },
  {
   "cell_type": "code",
   "execution_count": null,
   "id": "c454ba5b",
   "metadata": {},
   "outputs": [],
   "source": [
    "#| hide\n",
    "import nbdev; nbdev.nbdev_export()"
   ]
  }
 ],
 "metadata": {
  "kernelspec": {
   "display_name": "python3",
   "language": "python",
   "name": "python3"
  }
 },
 "nbformat": 4,
 "nbformat_minor": 5
}
