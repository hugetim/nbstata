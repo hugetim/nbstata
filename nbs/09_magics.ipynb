{
 "cells": [
  {
   "cell_type": "markdown",
   "metadata": {},
   "source": [
    "# magics\n",
    "\n",
    "> IPython magics for nbstata\n",
    "- order: 9"
   ]
  },
  {
   "cell_type": "code",
   "execution_count": null,
   "metadata": {},
   "outputs": [],
   "source": [
    "#| default_exp magics\n",
    "%load_ext autoreload\n",
    "%autoreload 2"
   ]
  },
  {
   "cell_type": "code",
   "execution_count": null,
   "metadata": {},
   "outputs": [],
   "source": [
    "#| hide\n",
    "from nbdev.showdoc import *"
   ]
  },
  {
   "cell_type": "code",
   "execution_count": null,
   "metadata": {},
   "outputs": [],
   "source": [
    "#| export\n",
    "from nbstata.misc_utils import print_red\n",
    "from nbstata.stata import obs_count\n",
    "import nbstata.browse as browse\n",
    "from fastcore.basics import patch_to\n",
    "import re\n",
    "import urllib\n",
    "from pkg_resources import resource_filename\n",
    "from bs4 import BeautifulSoup as bs"
   ]
  },
  {
   "cell_type": "code",
   "execution_count": null,
   "metadata": {},
   "outputs": [],
   "source": [
    "#| export\n",
    "def print_kernel(msg, kernel):\n",
    "    msg = re.sub(r'$', r'\\r\\n', msg, flags=re.MULTILINE)\n",
    "    msg = re.sub(r'[\\r\\n]{1,2}[\\r\\n]{1,2}', r'\\r\\n', msg, flags=re.MULTILINE)\n",
    "    stream_content = {'text': msg, 'name': 'stdout'}\n",
    "    kernel.send_response(kernel.iopub_socket, 'stream', stream_content)"
   ]
  },
  {
   "cell_type": "code",
   "execution_count": null,
   "metadata": {},
   "outputs": [],
   "source": [
    "#| export\n",
    "class StataMagics():\n",
    "    \"\"\"Class for handling magics\"\"\"\n",
    "    html_base = \"https://www.stata.com\"\n",
    "    html_help = urllib.parse.urljoin(html_base, \"help.cgi?{}\")\n",
    "\n",
    "    magic_regex = re.compile(\n",
    "        r'\\A\\*?(?P<magic>%%?\\w+?)(?P<code>[\\s,]+.*?)?\\Z', flags=re.DOTALL + re.MULTILINE)\n",
    "\n",
    "    # Format: magic_name: help_content\n",
    "    available_magics = {\n",
    "        '%browse': '{} [-h] [varlist] [if] [in] [, nolabel noformat]',\n",
    "        '%head': '{} [-h] [N] [varlist] [if] [, nolabel noformat]',\n",
    "        '%tail': '{} [-h] [N] [varlist] [if] [, nolabel noformat]',\n",
    "        '%locals': '',\n",
    "        '%delimit': '',\n",
    "        '%help': '{} [-h] command_or_topic_name',\n",
    "        '%%quietly': '',\n",
    "        '%%noecho': '',\n",
    "        '%%echo': '',\n",
    "    }\n",
    "    \n",
    "    csshelp_default = resource_filename(\n",
    "        'nbstata', 'css/_StataKernelHelpDefault.css'\n",
    "    )\n",
    "\n",
    "    def magic_quietly(self, code, kernel, cell):\n",
    "        \"\"\"Suppress all display for the current cell.\"\"\"\n",
    "        cell.quietly = True\n",
    "        return code\n",
    "\n",
    "    def magic_noecho(self, code, kernel, cell):\n",
    "        \"\"\"Suppress echo for the current cell.\"\"\"\n",
    "        cell.noecho = True\n",
    "        cell.echo = False\n",
    "        return code\n",
    "    \n",
    "    def magic_echo(self, code, kernel, cell):\n",
    "        \"\"\"Suppress echo for the current cell.\"\"\"\n",
    "        cell.noecho = False\n",
    "        cell.echo = True\n",
    "        return code\n",
    "    \n",
    "    def magic_delimit(self, code, kernel, cell):\n",
    "        delim = ';' if kernel.stata_session.sc_delimiter else 'cr'\n",
    "        print_kernel(f'Current Stata command delimiter: {delim}', kernel)\n",
    "        return ''"
   ]
  },
  {
   "cell_type": "code",
   "execution_count": null,
   "metadata": {},
   "outputs": [],
   "source": [
    "#| export\n",
    "def _parse_magic_name_code(match):\n",
    "    v = match.groupdict()\n",
    "    for k in v:\n",
    "        v[k] = v[k] if v[k] is not None else ''                \n",
    "    name = v['magic'].strip()\n",
    "    code = v['code'].strip()\n",
    "    return name, code"
   ]
  },
  {
   "cell_type": "code",
   "execution_count": null,
   "metadata": {},
   "outputs": [],
   "source": [
    "#| export\n",
    "@patch_to(StataMagics)\n",
    "def _parse_code_for_magic(self, code):\n",
    "    match = self.magic_regex.match(code.strip())\n",
    "    if match:\n",
    "        name, code = _parse_magic_name_code(match)\n",
    "        if name in {'%quietly', '%noecho', '%echo'}:\n",
    "            print_red(\n",
    "                f\"Warning: The correct syntax for a cell magic is '%{name}', not '{name}'. \"\n",
    "                \"In v1.0, nbstata may trigger an error instead of just a warning.\"\n",
    "            )\n",
    "            name = '%' + name\n",
    "        elif name not in self.available_magics:\n",
    "            raise ValueError(f\"Unknown magic {name}.\")\n",
    "        return name, code\n",
    "    else:\n",
    "        return None, code"
   ]
  },
  {
   "cell_type": "code",
   "execution_count": null,
   "metadata": {},
   "outputs": [
    {
     "data": {
      "text/markdown": [
       "---\n",
       "\n",
       "[source](https://github.com/hugetim/nbstata/blob/master/nbstata/magics.py#L82){target=\"_blank\" style=\"float:right; font-size:smaller\"}\n",
       "\n",
       "### StataMagics._parse_code_for_magic\n",
       "\n",
       ">      StataMagics._parse_code_for_magic (code)"
      ],
      "text/plain": [
       "---\n",
       "\n",
       "[source](https://github.com/hugetim/nbstata/blob/master/nbstata/magics.py#L82){target=\"_blank\" style=\"float:right; font-size:smaller\"}\n",
       "\n",
       "### StataMagics._parse_code_for_magic\n",
       "\n",
       ">      StataMagics._parse_code_for_magic (code)"
      ]
     },
     "execution_count": null,
     "metadata": {},
     "output_type": "execute_result"
    }
   ],
   "source": [
    "show_doc(StataMagics._parse_code_for_magic)"
   ]
  },
  {
   "cell_type": "code",
   "execution_count": null,
   "metadata": {},
   "outputs": [],
   "source": [
    "#| hide\n",
    "from fastcore.test import test_eq, test_fail"
   ]
  },
  {
   "cell_type": "code",
   "execution_count": null,
   "metadata": {},
   "outputs": [],
   "source": [
    "test_instance = StataMagics()\n",
    "test_eq(test_instance._parse_code_for_magic(\"%browse\"), ('%browse', \"\"))\n",
    "test_eq(test_instance._parse_code_for_magic(\"*%browse\"), ('%browse', \"\"))\n",
    "test_eq(test_instance._parse_code_for_magic(\"*%browse,\"), ('%browse', \",\"))\n",
    "test_fail(test_instance._parse_code_for_magic, args=(\"*%blah\\nreg var1\"))"
   ]
  },
  {
   "cell_type": "code",
   "execution_count": null,
   "metadata": {},
   "outputs": [
    {
     "name": "stdout",
     "output_type": "stream",
     "text": [
      "\u001b[31mWarning: The correct syntax for a cell magic is '%%echo', not '%echo'. In v1.0, nbstata may trigger an error instead of just a warning.\u001b[0m\n"
     ]
    }
   ],
   "source": [
    "#| hide\n",
    "test_eq(test_instance._parse_code_for_magic(\"*%browse, noformat\"), ('%browse', \", noformat\"))\n",
    "test_eq(test_instance._parse_code_for_magic(\"%browse -h\"), ('%browse', \"-h\"))\n",
    "test_eq(test_instance._parse_code_for_magic(\"*%browse var1, nolabel\"), ('%browse', \"var1, nolabel\"))\n",
    "test_eq(test_instance._parse_code_for_magic(\"*%help reg\"), ('%help', \"reg\"))\n",
    "test_eq(test_instance._parse_code_for_magic(\"*%%echo\\nreg var1\"), ('%%echo', \"reg var1\"))\n",
    "test_eq(test_instance._parse_code_for_magic(\"*%echo\\nreg var1\"), ('%%echo', \"reg var1\"))"
   ]
  },
  {
   "cell_type": "code",
   "execution_count": null,
   "metadata": {},
   "outputs": [
    {
     "data": {
      "text/plain": [
       "('%browse', 'in 1/10')"
      ]
     },
     "execution_count": null,
     "metadata": {},
     "output_type": "execute_result"
    }
   ],
   "source": [
    "test_instance._parse_code_for_magic(\"*%browse in 1/10\")"
   ]
  },
  {
   "cell_type": "code",
   "execution_count": null,
   "metadata": {},
   "outputs": [],
   "source": [
    "#| export\n",
    "@patch_to(StataMagics)\n",
    "def _do_magic(self, name, code, kernel, cell):\n",
    "    if code.startswith('-h') or code.startswith('--help'):\n",
    "        print_kernel(self.available_magics[name].format(name), kernel)\n",
    "        return ''\n",
    "    else:\n",
    "        return getattr(self, \"magic_\" + name.lstrip('%'))(code, kernel, cell)"
   ]
  },
  {
   "cell_type": "code",
   "execution_count": null,
   "metadata": {},
   "outputs": [],
   "source": [
    "#| export\n",
    "@patch_to(StataMagics)\n",
    "def magic(self, code, kernel, cell):\n",
    "    try:\n",
    "        name, code = self._parse_code_for_magic(code)\n",
    "    except ValueError as e:\n",
    "        print_kernel(str(e), kernel)\n",
    "    else:\n",
    "        if name:\n",
    "            code = self._do_magic(name, code, kernel, cell)\n",
    "    return code        "
   ]
  },
  {
   "cell_type": "code",
   "execution_count": null,
   "metadata": {},
   "outputs": [],
   "source": [
    "#| export\n",
    "def _formatted_local_list(local_dict):\n",
    "    std_len = 14\n",
    "    str_reps = []\n",
    "    for n in local_dict:\n",
    "        if len(n) <= std_len:\n",
    "            str_reps.append(f\"{n}:{' '*(std_len-len(n))} {local_dict[n]}\")\n",
    "        else:\n",
    "            str_reps.append(f\"{n}:\\n{' '*std_len}  {local_dict[n]}\")\n",
    "    return \"\\n\".join(str_reps)"
   ]
  },
  {
   "cell_type": "code",
   "execution_count": null,
   "metadata": {},
   "outputs": [
    {
     "name": "stdout",
     "output_type": "stream",
     "text": [
      "test1:          blah blah\n",
      "long_name_local:\n",
      "                s\n",
      "local2:         1234\n"
     ]
    }
   ],
   "source": [
    "#| hide\n",
    "fake_locals = {'test1': \"blah blah\", 'long_name_local': 's', 'local2': 1234}\n",
    "print(_formatted_local_list(fake_locals))"
   ]
  },
  {
   "cell_type": "code",
   "execution_count": null,
   "metadata": {},
   "outputs": [
    {
     "name": "stdout",
     "output_type": "stream",
     "text": [
      "\n"
     ]
    }
   ],
   "source": [
    "#| hide\n",
    "print(_formatted_local_list({}))"
   ]
  },
  {
   "cell_type": "code",
   "execution_count": null,
   "metadata": {},
   "outputs": [],
   "source": [
    "#| export\n",
    "@patch_to(StataMagics)\n",
    "def magic_locals(self, code, kernel, cell):\n",
    "    local_dict = kernel.stata_session.get_local_dict()\n",
    "    print_kernel(_formatted_local_list(local_dict), kernel)\n",
    "    return ''"
   ]
  },
  {
   "cell_type": "markdown",
   "metadata": {},
   "source": [
    "## Browse magic"
   ]
  },
  {
   "cell_type": "code",
   "execution_count": null,
   "metadata": {},
   "outputs": [],
   "source": [
    "#| export\n",
    "@patch_to(StataMagics)\n",
    "def magic_browse(self, code, kernel, cell):\n",
    "    \"\"\"Display data interactively.\"\"\"\n",
    "    if kernel.perspective_enabled is None:\n",
    "        kernel.perspective_enabled = browse.perspective_is_enabled()\n",
    "    if not kernel.perspective_enabled:\n",
    "        return browse.browse_not_enabled(kernel)\n",
    "    try:\n",
    "        params = browse.browse_df_params(code, obs_count())\n",
    "        sformat = params[-1]\n",
    "        df = browse.get_df(*params)\n",
    "        browse.display_perspective(df, sformat)\n",
    "    except Exception as e:\n",
    "        print_kernel(f\"Browse failed.\\r\\n{e}\", kernel)\n",
    "    return ''"
   ]
  },
  {
   "cell_type": "markdown",
   "metadata": {},
   "source": [
    "## Head/tail magics"
   ]
  },
  {
   "cell_type": "markdown",
   "metadata": {},
   "source": [
    "Modeled after [pandas](https://pandas.pydata.org/docs/reference/api/pandas.DataFrame.head.html)."
   ]
  },
  {
   "cell_type": "code",
   "execution_count": null,
   "metadata": {},
   "outputs": [],
   "source": [
    "#| export\n",
    "def _get_html_data(df):\n",
    "    html = df.convert_dtypes().to_html(notebook=True)\n",
    "    return {'text/html': html}"
   ]
  },
  {
   "cell_type": "code",
   "execution_count": null,
   "metadata": {},
   "outputs": [],
   "source": [
    "#| export\n",
    "@patch_to(StataMagics)\n",
    "def _headtail_html(self, df, kernel):\n",
    "    content = {\n",
    "        'data': _get_html_data(df),\n",
    "        'metadata': {},\n",
    "    }\n",
    "    kernel.send_response(kernel.iopub_socket, 'display_data', content)"
   ]
  },
  {
   "cell_type": "code",
   "execution_count": null,
   "metadata": {},
   "outputs": [],
   "source": [
    "#| export\n",
    "@patch_to(StataMagics)\n",
    "def _magic_headtail(self, code, kernel, cell, tail=False):\n",
    "    try:\n",
    "        df = browse.headtail_get_df(*browse.headtail_df_params(\n",
    "            code, obs_count(), kernel.env['missing'], tail=tail\n",
    "        ))\n",
    "        self._headtail_html(df, kernel)\n",
    "    except Exception as e:\n",
    "        print_kernel(f\"{'Tail' if tail else 'Head'} failed.\\r\\n{e}\", kernel)\n",
    "    return ''"
   ]
  },
  {
   "cell_type": "code",
   "execution_count": null,
   "metadata": {},
   "outputs": [],
   "source": [
    "#| export\n",
    "@patch_to(StataMagics)\n",
    "def magic_head(self, code, kernel, cell):\n",
    "    \"\"\"Display data in a nicely-formatted table.\"\"\"\n",
    "    return self._magic_headtail(code, kernel, cell, tail=False)"
   ]
  },
  {
   "cell_type": "code",
   "execution_count": null,
   "metadata": {},
   "outputs": [],
   "source": [
    "#| export\n",
    "@patch_to(StataMagics)\n",
    "def magic_tail(self, code, kernel, cell):\n",
    "    \"\"\"Display data in a nicely-formatted table.\"\"\"\n",
    "    return self._magic_headtail(code, kernel, cell, tail=True)"
   ]
  },
  {
   "cell_type": "markdown",
   "metadata": {},
   "source": [
    "## Help magic"
   ]
  },
  {
   "cell_type": "code",
   "execution_count": null,
   "metadata": {},
   "outputs": [],
   "source": [
    "#| export\n",
    "@patch_to(StataMagics)\n",
    "def magic_help(self,code,kernel,cell):\n",
    "    \"\"\"Show help file from stata.com/help.cgi?\\{\\}\"\"\"\n",
    "    try:\n",
    "        reply = urllib.request.urlopen(self.html_help.format(code))\n",
    "        html = reply.read().decode(\"utf-8\")\n",
    "        soup = bs(html, 'html.parser')\n",
    "\n",
    "        # Set root for links to https://www.stata.com\n",
    "        for a in soup.find_all('a', href=True):\n",
    "            href = a.get('href')\n",
    "            match = re.search(r'{}(.*?)#'.format(code), href)\n",
    "            if match:\n",
    "                hrelative = href.find('#')\n",
    "                a['href'] = href[hrelative:]\n",
    "            elif not href.startswith('http'):\n",
    "                link = a['href']\n",
    "                match = re.search(r'/help.cgi\\?(.+)$', link)\n",
    "                # URL encode bad characters like %\n",
    "                if match:\n",
    "                    link = '/help.cgi?'\n",
    "                    link += urllib.parse.quote_plus(match.group(1))\n",
    "                a['href'] = urllib.parse.urljoin(self.html_base, link)\n",
    "                a['target'] = '_blank'\n",
    "\n",
    "        # Remove header 'Stata 15 help for ...'\n",
    "        soup.find('h2').decompose()\n",
    "\n",
    "        # Remove Stata help menu\n",
    "        soup.find('div', id='menu').decompose()\n",
    "\n",
    "        # Remove Copyright notice\n",
    "        tags = ['a', 'font']\n",
    "        for tag in tags:\n",
    "            copyright = soup.find(tag, text='Copyright')\n",
    "            if copyright:\n",
    "                copyright.find_parent(\"table\").decompose()\n",
    "                break\n",
    "\n",
    "        # Remove last hrule\n",
    "        soup.find_all('hr')[-1].decompose()\n",
    "\n",
    "        # Set all the backgrounds to transparent\n",
    "        for color in ['#ffffff', '#FFFFFF']:\n",
    "            for bg in ['bgcolor', 'background', 'background-color']:\n",
    "                for tag in soup.find_all(attrs={bg: color}):\n",
    "                    if tag.get(bg):\n",
    "                        tag[bg] = 'transparent'\n",
    "\n",
    "        # Set html\n",
    "        css = soup.find('style', {'type': 'text/css'})\n",
    "        with open(self.csshelp_default, 'r') as default:\n",
    "            css.string = default.read()\n",
    "\n",
    "        fallback = 'This front-end cannot display HTML help.'\n",
    "        resp = {\n",
    "            'data': {\n",
    "                'text/html': str(soup),\n",
    "                'text/plain': fallback},\n",
    "            'metadata': {}}\n",
    "        kernel.send_response(kernel.iopub_socket, 'display_data', resp)\n",
    "    except (urllib.error.HTTPError, urllib.error.URLError) as e:\n",
    "        msg = \"Failed to fetch HTML help.\\r\\n{0}\"\n",
    "        print_kernel(msg.format(e), kernel)\n",
    "\n",
    "    return ''"
   ]
  },
  {
   "cell_type": "code",
   "execution_count": null,
   "metadata": {},
   "outputs": [],
   "source": [
    "#| hide\n",
    "import nbdev; nbdev.nbdev_export()"
   ]
  }
 ],
 "metadata": {
  "kernelspec": {
   "display_name": "Python 3 (ipykernel)",
   "language": "python",
   "name": "python3"
  }
 },
 "nbformat": 4,
 "nbformat_minor": 4
}
