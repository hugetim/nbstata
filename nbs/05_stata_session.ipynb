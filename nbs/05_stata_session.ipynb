{
 "cells": [
  {
   "cell_type": "markdown",
   "id": "2c184729",
   "metadata": {},
   "source": [
    "# stata_session\n",
    "\n",
    "> A class for representing a Stata session"
   ]
  },
  {
   "cell_type": "markdown",
   "id": "2fa1a627",
   "metadata": {},
   "source": [
    "Some parts adapted from the [stata_kernel version](https://github.com/kylebarron/stata_kernel/blob/master/stata_kernel/completions.py), limited for now to variables, globals, locals, scalars, matrices, and file names."
   ]
  },
  {
   "cell_type": "code",
   "execution_count": null,
   "id": "c7fb586a",
   "metadata": {},
   "outputs": [],
   "source": [
    "#| default_exp stata_session\n",
    "%load_ext autoreload\n",
    "%autoreload 2"
   ]
  },
  {
   "cell_type": "code",
   "execution_count": null,
   "id": "026b00b7",
   "metadata": {},
   "outputs": [],
   "source": [
    "#| hide\n",
    "from nbdev.showdoc import *"
   ]
  },
  {
   "cell_type": "code",
   "execution_count": null,
   "id": "4b35edd5",
   "metadata": {},
   "outputs": [],
   "source": [
    "#| export\n",
    "from nbstata.helpers import diverted_stata_output, run_as_program\n",
    "from fastcore.basics import patch_to\n",
    "from textwrap import dedent\n",
    "import re"
   ]
  },
  {
   "cell_type": "code",
   "execution_count": null,
   "id": "d3be7f0a",
   "metadata": {},
   "outputs": [],
   "source": [
    "#| export\n",
    "class StataSession():\n",
    "    def __init__(self):\n",
    "        \"\"\"\"\"\"\n",
    "        self.matchall = re.compile(\n",
    "            r\"\\A.*?\"\n",
    "            r\"^%varlist%(?P<varlist>.*?)\"\n",
    "            r\"%globals%(?P<globals>.*?)\"\n",
    "            r\"%locals%(?P<locals>.*?)\"\n",
    "            r\"%scalars%(?P<scalars>.*?)\"\n",
    "            r\"%matrices%(?P<matrices>.*?)%end%\", #\"(\\Z|---+\\s*end)\",\n",
    "            flags=re.DOTALL + re.MULTILINE).match\n",
    "\n",
    "        # Varlist-style matching; applies to most\n",
    "        self.varlist = re.compile(r\"(?:\\s+)(\\S+)\", flags=re.MULTILINE)\n",
    "\n",
    "        # file-style matching\n",
    "        self.filelist = re.compile(r\"[\\r\\n]{1,2}\", flags=re.MULTILINE)\n",
    "\n",
    "        # Clean line-breaks.\n",
    "        self.varclean = re.compile(\n",
    "            r\"(?=\\s*)[\\r\\n]{1,2}?^>\\s\", flags=re.MULTILINE).sub\n",
    "        \n",
    "        pre = (\n",
    "            r'(cap(t|tu|tur|ture)?'\n",
    "            r'|qui(e|et|etl|etly)?'\n",
    "            r'|n(o|oi|ois|oisi|oisil|oisily)?)')\n",
    "        kwargs = {'flags': re.MULTILINE}\n",
    "        self.local_def_in = re.compile(\n",
    "            r\"^({0} )*(loc|loca|local)\\s\".format(pre),\n",
    "            **kwargs,\n",
    "        ).search\n",
    "\n",
    "        self.parse_sreturn = re.compile(\n",
    "            r'^\\s*?(?:\\ss\\((?P<name>\\w+)\\) : \\\"(?P<value>.+)\\\"\\s)', flags=re.MULTILINE\n",
    "        ).findall\n",
    "        \n",
    "        #         # Match output from mata mata desc\n",
    "#         self.matadesc = re.compile(\n",
    "#             r\"(\\A.*?---+|---+[\\r\\n]*\\Z)\", flags=re.MULTILINE + re.DOTALL)\n",
    "\n",
    "#         self.matalist = re.compile(\n",
    "#             r\"(?:.*?)\\s(\\S+)\\s*$\", flags=re.MULTILINE + re.DOTALL)\n",
    "\n",
    "#         self.mataclean = re.compile(r\"\\W.*?(\\b|$)\")\n",
    "#         self.matasearch = re.compile(r\"(?P<kw>\\w.*?(?=\\W|\\b|$))\").search\n",
    "\n",
    "        self.clear_suggestions()\n",
    "#         self.suggestions = self.get_suggestions(kernel)\n",
    "#         self.suggestions['magics'] = kernel.magics.available_magics\n",
    "#         self.suggestions['magics_set'] = config.all_settings\n",
    "\n",
    "    def clear_suggestions(self):\n",
    "        self.suggestions = None"
   ]
  },
  {
   "cell_type": "code",
   "execution_count": null,
   "id": "15f1756a",
   "metadata": {},
   "outputs": [],
   "source": [
    "from fastcore.test import test_eq"
   ]
  },
  {
   "cell_type": "code",
   "execution_count": null,
   "id": "67f092a1",
   "metadata": {},
   "outputs": [],
   "source": [
    "test_instance = StataSession()\n",
    "test_eq(bool(test_instance.local_def_in(\"sysuse auto\")), False)\n",
    "test_eq(bool(test_instance.local_def_in(\"loc auto=1\")), True)\n",
    "test_eq(bool(test_instance.local_def_in(\"qui n cap local auto=1\")), True)\n",
    "test_eq(bool(test_instance.local_def_in(\"list local auto\")), False)"
   ]
  },
  {
   "cell_type": "code",
   "execution_count": null,
   "id": "32d58f0d",
   "metadata": {},
   "outputs": [],
   "source": [
    "#| export\n",
    "@patch_to(StataSession)\n",
    "def refresh_suggestions(self):\n",
    "    self.suggestions = self.get_suggestions()\n",
    "#     self.suggestions['magics_set'] = config.all_settings\n",
    "#     self.globals = self.get_globals(kernel)"
   ]
  },
  {
   "cell_type": "code",
   "execution_count": null,
   "id": "f76b7049",
   "metadata": {},
   "outputs": [],
   "source": [
    "#| export\n",
    "def variable_names():\n",
    "    from sfi import Data\n",
    "    return [Data.getVarName(i) for i in range(Data.getVarCount())]"
   ]
  },
  {
   "cell_type": "code",
   "execution_count": null,
   "id": "04613d78",
   "metadata": {},
   "outputs": [],
   "source": [
    "#| eval: false\n",
    "from nbstata.config import launch_stata"
   ]
  },
  {
   "cell_type": "code",
   "execution_count": null,
   "id": "e478d103",
   "metadata": {},
   "outputs": [],
   "source": [
    "#| eval: false\n",
    "launch_stata(splash=False)"
   ]
  },
  {
   "cell_type": "code",
   "execution_count": null,
   "id": "5efca538",
   "metadata": {},
   "outputs": [],
   "source": [
    "#| eval: false\n",
    "from pystata.stata import run"
   ]
  },
  {
   "cell_type": "code",
   "execution_count": null,
   "id": "4d535e9a",
   "metadata": {},
   "outputs": [
    {
     "data": {
      "text/plain": [
       "['var1']"
      ]
     },
     "execution_count": null,
     "metadata": {},
     "output_type": "execute_result"
    }
   ],
   "source": [
    "#| eval: false\n",
    "run(\"gen var1 = 1\", quietly=True)\n",
    "variable_names()"
   ]
  },
  {
   "cell_type": "code",
   "execution_count": null,
   "id": "0ce69eb3",
   "metadata": {},
   "outputs": [],
   "source": [
    "#| export\n",
    "@patch_to(StataSession)\n",
    "def _completions(self):\n",
    "#     return dedent(f\"\"\"\\\n",
    "#     %varlist%\n",
    "#     {' '.join(variable_names())}\n",
    "#     %globals%\n",
    "#     {' '.join(global_names())}\n",
    "#     \"\"\"\n",
    "    return diverted_stata_output(dedent(\"\"\"\\\n",
    "        local _temp_completions_while_local_ = 1\n",
    "        while `_temp_completions_while_local_' {\n",
    "        set more off\n",
    "        set trace off\n",
    "        if `\"`varlist'\"' != \"\" {\n",
    "        local _temp_completions_varlist_loc_ `\"`varlist'\"'\n",
    "        }\n",
    "        syntax [varlist]\n",
    "        disp \"%varlist%\"\n",
    "        disp `\"`varlist'\"'\n",
    "        macro drop _varlist __temp_completions_while_local_\n",
    "        if `\"`_temp_completions_varlist_loc_'\"' != \"\" {\n",
    "        local varlist `\"`_temp_completions_varlist_loc_'\"'\n",
    "        macro drop __temp_completions_varlist_loc_\n",
    "        }\n",
    "        disp \"%globals%\"\n",
    "        disp `\"`:all globals'\"'\n",
    "        disp \"%locals%\"\n",
    "        mata : invtokens(st_dir(\"local\", \"macro\", \"*\")')\n",
    "        disp \"%scalars%\"\n",
    "        disp `\"`:all scalars'\"'\n",
    "        disp \"%matrices%\"\n",
    "        disp `\"`:all matrices'\"'\n",
    "        disp \"%end%\"\n",
    "        local _temp_completions_while_local_ = 0\n",
    "        }\n",
    "        macro drop _temp_completions_while_local_\n",
    "    \"\"\"), noecho=False)"
   ]
  },
  {
   "cell_type": "code",
   "execution_count": null,
   "id": "d31022b8",
   "metadata": {},
   "outputs": [
    {
     "data": {
      "text/markdown": [
       "---\n",
       "\n",
       "[source](https://github.com/hugetim/nbstata/blob/main/nbstata/stata_session.py#L81){target=\"_blank\" style=\"float:right; font-size:smaller\"}\n",
       "\n",
       "### StataSession._completions\n",
       "\n",
       ">      StataSession._completions ()"
      ],
      "text/plain": [
       "---\n",
       "\n",
       "[source](https://github.com/hugetim/nbstata/blob/main/nbstata/stata_session.py#L81){target=\"_blank\" style=\"float:right; font-size:smaller\"}\n",
       "\n",
       "### StataSession._completions\n",
       "\n",
       ">      StataSession._completions ()"
      ]
     },
     "execution_count": null,
     "metadata": {},
     "output_type": "execute_result"
    }
   ],
   "source": [
    "show_doc(StataSession._completions)"
   ]
  },
  {
   "cell_type": "code",
   "execution_count": null,
   "id": "d7e96a31",
   "metadata": {},
   "outputs": [],
   "source": [
    "#| eval: False\n",
    "import pystata\n",
    "pystata.stata.run(\"local varlist = 5\")\n",
    "pystata.stata.run(\"local varlist1 = 5\")"
   ]
  },
  {
   "cell_type": "code",
   "execution_count": null,
   "id": "4b093b91",
   "metadata": {},
   "outputs": [
    {
     "name": "stdout",
     "output_type": "stream",
     "text": [
      "\n",
      ". local _temp_completions_while_local_ = 1\n",
      "\n",
      ". while `_temp_completions_while_local_' {\n",
      "  2. set more off\n",
      "  3. set trace off\n",
      "  4. if `\"`varlist'\"' != \"\" {\n",
      "  5. local _temp_completions_varlist_loc_ `\"`varlist'\"'\n",
      "  6. }\n",
      "  7. syntax [varlist]\n",
      "  8. disp \"%varlist%\"\n",
      "  9. disp `\"`varlist'\"'\n",
      " 10. macro drop _varlist __temp_completions_while_local_\n",
      " 11. if `\"`_temp_completions_varlist_loc_'\"' != \"\" {\n",
      " 12. local varlist `\"`_temp_completions_varlist_loc_'\"'\n",
      " 13. macro drop __temp_completions_varlist_loc_\n",
      " 14. }\n",
      " 15. disp \"%globals%\"\n",
      " 16. disp `\"`:all globals'\"'\n",
      " 17. disp \"%locals%\"\n",
      " 18. mata : invtokens(st_dir(\"local\", \"macro\", \"*\")')\n",
      " 19. disp \"%scalars%\"\n",
      " 20. disp `\"`:all scalars'\"'\n",
      " 21. disp \"%matrices%\"\n",
      " 22. disp `\"`:all matrices'\"'\n",
      " 23. disp \"%end%\"\n",
      " 24. local _temp_completions_while_local_ = 0\n",
      " 25. }\n",
      "%varlist%\n",
      "var1\n",
      "%globals%\n",
      "S_level F1 F2 F7 F8 S_ADO S_StataMP S_StataSE S_CONSOLE S_FLAVOR S_OS S_OSDTL S\n",
      "> _MACH\n",
      "%locals%\n",
      "  varlist varlist1\n",
      "%scalars%\n",
      "\n",
      "%matrices%\n",
      "\n",
      "%end%\n",
      "\n",
      ". macro drop _temp_completions_while_local_\n",
      "\n",
      ". \n",
      ". capture log on\n",
      "\n",
      ". \n",
      "\n"
     ]
    }
   ],
   "source": [
    "#| hide\n",
    "#| eval: False\n",
    "print(test_instance._completions())"
   ]
  },
  {
   "cell_type": "code",
   "execution_count": null,
   "id": "21aaa54d",
   "metadata": {},
   "outputs": [],
   "source": [
    "#| export\n",
    "@patch_to(StataSession)\n",
    "def get_suggestions(self):\n",
    "    match = self.matchall(self._completions())\n",
    "    suggestions = match.groupdict()\n",
    "#         suggestions['mata'] = self._parse_mata_desc(suggestions['mata'])\n",
    "#         suggestions['programs'] = self._parse_programs_desc(\n",
    "#             suggestions['programs'])\n",
    "    for k, v in suggestions.items():\n",
    "#             if k in ['mata', 'programs']:\n",
    "#                 continue\n",
    "#             elif k in ['logfiles']:\n",
    "#                 suggestions[k] = [\n",
    "#                     f for f in self.filelist.split(v.strip()) if f]\n",
    "#             else:\n",
    "        suggestions[k] = self.varlist.findall(self.varclean('', v))\n",
    "    #suggestions['locals'] = self.get_locals()\n",
    "    return suggestions"
   ]
  },
  {
   "cell_type": "code",
   "execution_count": null,
   "id": "24d8e5ac",
   "metadata": {},
   "outputs": [
    {
     "data": {
      "text/plain": [
       "{'varlist': ['var1'],\n",
       " 'globals': ['S_level',\n",
       "  'F1',\n",
       "  'F2',\n",
       "  'F7',\n",
       "  'F8',\n",
       "  'S_ADO',\n",
       "  'S_StataMP',\n",
       "  'S_StataSE',\n",
       "  'S_CONSOLE',\n",
       "  'S_FLAVOR',\n",
       "  'S_OS',\n",
       "  'S_OSDTL',\n",
       "  'S_MACH'],\n",
       " 'locals': ['varlist', 'varlist1'],\n",
       " 'scalars': [],\n",
       " 'matrices': []}"
      ]
     },
     "execution_count": null,
     "metadata": {},
     "output_type": "execute_result"
    }
   ],
   "source": [
    "#| eval: false\n",
    "test_instance.refresh_suggestions()\n",
    "test_instance.suggestions"
   ]
  },
  {
   "cell_type": "code",
   "execution_count": null,
   "id": "297e889b",
   "metadata": {},
   "outputs": [],
   "source": [
    "#| export\n",
    "@patch_to(StataSession)\n",
    "def get_locals(self):\n",
    "    suggestions = self.get_suggestions() if self.suggestions is None else self.suggestions\n",
    "    return suggestions['locals']\n",
    "#     all_locals = \"\"\"mata : invtokens(st_dir(\"local\", \"macro\", \"*\")')\"\"\"\n",
    "#     res = '\\r\\n'.join(\n",
    "#         re.split(r'[\\r\\n]{1,2}', diverted_stata_output(all_locals)))\n",
    "#     if res.strip():\n",
    "#         return self.varlist.findall(self.varclean('', res))\n",
    "#     else:\n",
    "#         return []"
   ]
  },
  {
   "cell_type": "code",
   "execution_count": null,
   "id": "97d813d4",
   "metadata": {},
   "outputs": [],
   "source": [
    "#| hide\n",
    "#| eval: False\n",
    "test_eq(test_instance.get_locals(), ['varlist', 'varlist1'])"
   ]
  },
  {
   "cell_type": "code",
   "execution_count": null,
   "id": "cc2a38e1",
   "metadata": {},
   "outputs": [
    {
     "name": "stdout",
     "output_type": "stream",
     "text": [
      "\n",
      "'1'\n",
      "'two'\n",
      "'\"3\"'\n"
     ]
    }
   ],
   "source": [
    "#| eval: false\n",
    "from sfi import Macro\n",
    "run(dedent(\"\"\"\n",
    "    local local1 = 1\n",
    "    local local2 \"two\"\n",
    "    local local3 `\"\"3\"\"' \n",
    "    \"\"\"), quietly=True)\n",
    "print(repr(Macro.getLocal(\"local1\")))\n",
    "print(repr(Macro.getLocal(\"local2\")))\n",
    "print(repr(Macro.getLocal(\"local3\")))"
   ]
  },
  {
   "cell_type": "code",
   "execution_count": null,
   "id": "d49dfe7d",
   "metadata": {},
   "outputs": [],
   "source": [
    "#| export\n",
    "@patch_to(StataSession)\n",
    "def get_local_dict(self):\n",
    "    from sfi import Macro\n",
    "    local_names = self.get_locals()\n",
    "    return {n: Macro.getLocal(n) for n in local_names}"
   ]
  },
  {
   "cell_type": "code",
   "execution_count": null,
   "id": "565092ee",
   "metadata": {},
   "outputs": [],
   "source": [
    "#| eval: false\n",
    "from nbstata.helpers import run_noecho"
   ]
  },
  {
   "cell_type": "code",
   "execution_count": null,
   "id": "5c5275fd",
   "metadata": {},
   "outputs": [],
   "source": [
    "from fastcore.test import test_eq"
   ]
  },
  {
   "cell_type": "code",
   "execution_count": null,
   "id": "ca0a0e25",
   "metadata": {},
   "outputs": [],
   "source": [
    "#| eval: False\n",
    "run_noecho('macro drop _all')\n",
    "run_noecho('local test1 \"blah blah\"')\n",
    "test_instance.clear_suggestions()\n",
    "test_eq(test_instance.get_local_dict(), {'test1': 'blah blah'})\n",
    "run_noecho('local test1 \"\"')"
   ]
  },
  {
   "cell_type": "code",
   "execution_count": null,
   "id": "4c3cdd87",
   "metadata": {},
   "outputs": [],
   "source": [
    "#| hide\n",
    "output = \"\"\"\n",
    "macros:\n",
    "              s(test1) : \"blah\"\n",
    "              s(test2) : \"blah blah\"\n",
    "\n",
    "\"\"\""
   ]
  },
  {
   "cell_type": "code",
   "execution_count": null,
   "id": "f66d3649",
   "metadata": {},
   "outputs": [
    {
     "data": {
      "text/plain": [
       "[('test1', 'blah'), ('test2', 'blah blah')]"
      ]
     },
     "execution_count": null,
     "metadata": {},
     "output_type": "execute_result"
    }
   ],
   "source": [
    "#| hide\n",
    "test_instance.parse_sreturn(\"\"\"\n",
    "macros:\n",
    "              s(test1) : \"blah\"\n",
    "              s(test2) : \"blah blah\"\n",
    "\n",
    "\"\"\")"
   ]
  },
  {
   "cell_type": "code",
   "execution_count": null,
   "id": "9ac065f7",
   "metadata": {},
   "outputs": [],
   "source": [
    "#| export\n",
    "@patch_to(StataSession)\n",
    "def _local_dict_from_sreturn(self, sreturn_output):\n",
    "    matches = self.parse_sreturn(sreturn_output)\n",
    "    return {m[0]: m[1] for m in matches}"
   ]
  },
  {
   "cell_type": "code",
   "execution_count": null,
   "id": "a5ddb766",
   "metadata": {},
   "outputs": [
    {
     "data": {
      "text/plain": [
       "{'test1': 'blah', 'test2': 'blah blah'}"
      ]
     },
     "execution_count": null,
     "metadata": {},
     "output_type": "execute_result"
    }
   ],
   "source": [
    "#| hide\n",
    "test_instance._local_dict_from_sreturn(output)"
   ]
  },
  {
   "cell_type": "code",
   "execution_count": null,
   "id": "ed128348",
   "metadata": {},
   "outputs": [],
   "source": [
    "#| export\n",
    "def _run_as_program_w_locals_sreturned(std_code):\n",
    "    sreturn_code = dedent(\"\"\"\\\n",
    "        mata : st_local(\"all_locals\", invtokens(st_dir(\"local\", \"macro\", \"*\")'))\n",
    "        foreach lname in `all_locals' {\n",
    "            sreturn local `lname' \"``lname''\"\n",
    "        }\"\"\")\n",
    "    store_new_locals_code = (\"sreturn clear\\n\" \n",
    "                             + std_code\n",
    "                             + sreturn_code)                          \n",
    "    run_as_program(store_new_locals_code, \"sclass\")"
   ]
  },
  {
   "cell_type": "code",
   "execution_count": null,
   "id": "602eb91a",
   "metadata": {},
   "outputs": [],
   "source": [
    "#| export\n",
    "def _locals_code_from_dict(preexisting_local_dict):\n",
    "    local_defs = (f\"\"\"local {name} `\"{preexisting_local_dict[name]}\"'\"\"\"\n",
    "                  for name in preexisting_local_dict)\n",
    "    return \"\\n\".join(local_defs)"
   ]
  },
  {
   "cell_type": "code",
   "execution_count": null,
   "id": "b09f4987",
   "metadata": {},
   "outputs": [
    {
     "data": {
      "text/plain": [
       "'local test1 `\"blah\"\\'\\nlocal test2 `\"blah blah\"\\''"
      ]
     },
     "execution_count": null,
     "metadata": {},
     "output_type": "execute_result"
    }
   ],
   "source": [
    "_locals_code_from_dict({'test1': 'blah', 'test2': 'blah blah'})"
   ]
  },
  {
   "cell_type": "code",
   "execution_count": null,
   "id": "9610897c",
   "metadata": {},
   "outputs": [],
   "source": [
    "#| hide\n",
    "test_eq(_locals_code_from_dict({'test1': 'blah', 'test2': 'blah blah'}),\n",
    "        \"\"\"local test1 `\"blah\"\\'\\nlocal test2 `\"blah blah\"\\'\"\"\")"
   ]
  },
  {
   "cell_type": "code",
   "execution_count": null,
   "id": "b583a332",
   "metadata": {},
   "outputs": [],
   "source": [
    "#| export\n",
    "@patch_to(StataSession)\n",
    "def _restore_locals_and_clear_sreturn(self):\n",
    "    sreturn_output = diverted_stata_output(\"sreturn list\") # one line to avoid clearing locals\n",
    "    after_local_dict = self._local_dict_from_sreturn(sreturn_output)\n",
    "    after_locals_code = _locals_code_from_dict(after_local_dict)\n",
    "    if after_local_dict:\n",
    "        after_locals_code += \"\\n\" + \"sreturn clear\"\n",
    "    run(after_locals_code, quietly=True)"
   ]
  },
  {
   "cell_type": "code",
   "execution_count": null,
   "id": "442b1ea4",
   "metadata": {},
   "outputs": [],
   "source": [
    "#| export\n",
    "@patch_to(StataSession)\n",
    "def run_as_prog_with_locals(self, std_code):\n",
    "    \"\"\"After `break_out_prog_blocks`, run noecho, inserting locals when needed\"\"\"\n",
    "    from sfi import Macro\n",
    "    from pystata.stata import run\n",
    "    preexisting_local_dict = self.get_local_dict()\n",
    "    locals_code = _locals_code_from_dict(preexisting_local_dict)\n",
    "    if not self.local_def_in(std_code):\n",
    "        run_as_program(f\"\"\"{locals_code}\\n{std_code}\"\"\")\n",
    "    else:\n",
    "        _run_as_program_w_locals_sreturned(f\"\"\"{locals_code}\\n{std_code}\"\"\")\n",
    "        self._restore_locals_and_clear_sreturn()"
   ]
  },
  {
   "cell_type": "code",
   "execution_count": null,
   "id": "4e25ab7f",
   "metadata": {},
   "outputs": [
    {
     "name": "stdout",
     "output_type": "stream",
     "text": [
      "\n",
      "1 two \"3\"\n"
     ]
    }
   ],
   "source": [
    "#| eval: false\n",
    "run(dedent(\"\"\"\n",
    "    macro drop _all\n",
    "    local local1 = 1\n",
    "    local local2 \"two\"\n",
    "    local local3 `\"\"3\"\"' \n",
    "    \"\"\"), quietly=True)\n",
    "test_instance.clear_suggestions()\n",
    "test_instance.run_as_prog_with_locals(\"\"\"disp `\"`local1' `local2' `local3'\"' \"\"\")"
   ]
  },
  {
   "cell_type": "code",
   "execution_count": null,
   "id": "da0b5c92",
   "metadata": {},
   "outputs": [
    {
     "name": "stdout",
     "output_type": "stream",
     "text": [
      "1 two \"3\"\n",
      "\n"
     ]
    },
    {
     "data": {
      "text/plain": [
       "{'test2': 'blah',\n",
       " 'test1': 'blah blah',\n",
       " 'local1': '1',\n",
       " 'local2': 'two',\n",
       " 'local3': '\"3\"'}"
      ]
     },
     "execution_count": null,
     "metadata": {},
     "output_type": "execute_result"
    }
   ],
   "source": [
    "#| eval: false\n",
    "code = '''\\\n",
    "local test1 \"blah blah\"\n",
    "local test2 \"blah\"\n",
    "'''\n",
    "test_instance.clear_suggestions()\n",
    "test_instance.run_as_prog_with_locals(\"\"\"disp `\"`local1' `local2' `local3'\"' \\n\"\"\" + code)\n",
    "test_instance.get_local_dict()"
   ]
  },
  {
   "cell_type": "code",
   "execution_count": null,
   "id": "40cbd83e",
   "metadata": {},
   "outputs": [
    {
     "name": "stdout",
     "output_type": "stream",
     "text": [
      "1 two \"3\"\n",
      "1 two \"3\" blah blah\n"
     ]
    }
   ],
   "source": [
    "#| eval: false\n",
    "test_instance.clear_suggestions()\n",
    "run_noecho(dedent(\"\"\"\\\n",
    "    disp `\"`local1' `local2' `local3'\"'\n",
    "    disp `\"`local1' `local2' `local3' `test1'\"'\n",
    "    \"\"\"), run_as_prog=test_instance.run_as_prog_with_locals)"
   ]
  },
  {
   "cell_type": "code",
   "execution_count": null,
   "id": "1c6dd777",
   "metadata": {},
   "outputs": [],
   "source": [
    "#| hide\n",
    "import nbdev; nbdev.nbdev_export()"
   ]
  }
 ],
 "metadata": {
  "kernelspec": {
   "display_name": "Python 3 (ipykernel)",
   "language": "python",
   "name": "python3"
  }
 },
 "nbformat": 4,
 "nbformat_minor": 5
}
