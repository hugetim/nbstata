{
 "cells": [
  {
   "cell_type": "markdown",
   "id": "2c184729",
   "metadata": {},
   "source": [
    "# stata_more\n",
    "\n",
    "> Helper functions that expand on `pystata`/`sfi` functionality\n",
    "- order: 3"
   ]
  },
  {
   "cell_type": "markdown",
   "id": "cc7becc9",
   "metadata": {},
   "source": [
    "For a diagram of the how the principal nbstata modules depend on this one, [click here](https://hugetim.github.io/nbstata/dev_docs_index.html)."
   ]
  },
  {
   "cell_type": "code",
   "execution_count": null,
   "id": "c7fb586a",
   "metadata": {},
   "outputs": [],
   "source": [
    "#| default_exp stata_more\n",
    "%load_ext autoreload\n",
    "%autoreload 2"
   ]
  },
  {
   "cell_type": "code",
   "execution_count": null,
   "id": "026b00b7",
   "metadata": {},
   "outputs": [],
   "source": [
    "#| hide\n",
    "from nbdev.showdoc import *"
   ]
  },
  {
   "cell_type": "code",
   "execution_count": null,
   "id": "4b35edd5",
   "metadata": {},
   "outputs": [],
   "source": [
    "#| export\n",
    "from nbstata.misc_utils import print_red\n",
    "from nbstata.stata import run_direct, run_single, get_local, set_local, drop_var\n",
    "from textwrap import dedent\n",
    "import functools\n",
    "from contextlib import redirect_stdout\n",
    "from io import StringIO"
   ]
  },
  {
   "cell_type": "code",
   "execution_count": null,
   "id": "21aadf85",
   "metadata": {},
   "outputs": [],
   "source": [
    "#| hide\n",
    "#| eval: false\n",
    "from nbstata.misc_utils import Timer\n",
    "from nbstata.config import launch_stata"
   ]
  },
  {
   "cell_type": "code",
   "execution_count": null,
   "id": "fc8944c8",
   "metadata": {},
   "outputs": [],
   "source": [
    "#| hide\n",
    "#| eval: false\n",
    "launch_stata(splash=False)"
   ]
  },
  {
   "cell_type": "markdown",
   "id": "b622c378",
   "metadata": {},
   "source": [
    "## Simple Helpers"
   ]
  },
  {
   "cell_type": "code",
   "execution_count": null,
   "id": "79f90aad",
   "metadata": {},
   "outputs": [],
   "source": [
    "#| export\n",
    "def run_direct_cleaned(cmds, quietly=False, echo=False, inline=True):\n",
    "    if quietly:\n",
    "        with redirect_stdout(StringIO()) as diverted: # to prevent blank line output, as with `program define`\n",
    "            out = run_direct(cmds, quietly, echo, inline)\n",
    "            prints = diverted.getvalue()\n",
    "        for line in prints.splitlines():\n",
    "            if line.strip():\n",
    "                print(line)\n",
    "        return out\n",
    "    elif len(cmds.splitlines()) > 1:\n",
    "        with redirect_stdout(StringIO()) as diverted:\n",
    "            run_direct(cmds, quietly, echo, inline)\n",
    "            output_lines = diverted.getvalue().splitlines()\n",
    "        if (len(output_lines) >= 2 \n",
    "            and not output_lines[0].strip() \n",
    "            and \"\\n\".join(output_lines[-2:]).strip() == \".\"):\n",
    "            print(\"\\n\".join(output_lines[1:-2]))\n",
    "        else:\n",
    "            print(\"\\n\".join(output_lines))\n",
    "    else:\n",
    "        return run_direct(cmds, quietly, echo, inline)"
   ]
  },
  {
   "cell_type": "markdown",
   "id": "41d25ea7",
   "metadata": {},
   "source": [
    "`run_direct_cleaned` is a `run_direct`/`pystata.stata.run` wrapper function that removes extraneous blank lines from the output."
   ]
  },
  {
   "cell_type": "markdown",
   "id": "517eb526",
   "metadata": {},
   "source": [
    "When given multi-line Stata code, `run_direct` outputs an extra blank line at the start and two extra lines at the end:"
   ]
  },
  {
   "cell_type": "code",
   "execution_count": null,
   "id": "77268cd8",
   "metadata": {},
   "outputs": [
    {
     "name": "stdout",
     "output_type": "stream",
     "text": [
      ". disp 1\n",
      "1\n"
     ]
    }
   ],
   "source": [
    "#| eval: False\n",
    "run_direct(\"\"\"\\\n",
    "disp 1\"\"\", echo=True) # single-line Stata code"
   ]
  },
  {
   "cell_type": "code",
   "execution_count": null,
   "id": "d1a2c35b",
   "metadata": {},
   "outputs": [
    {
     "name": "stdout",
     "output_type": "stream",
     "text": [
      "\n",
      ". disp 1\n",
      "1\n",
      "\n",
      ". disp 2\n",
      "2\n",
      "\n",
      ". \n"
     ]
    }
   ],
   "source": [
    "#| eval: False\n",
    "run_direct(\"\"\"\\\n",
    "disp 1\n",
    "disp 2\"\"\", echo=True) # multi-line Stata code"
   ]
  },
  {
   "cell_type": "markdown",
   "id": "23f3c302",
   "metadata": {},
   "source": [
    "We can clean it up like this:"
   ]
  },
  {
   "cell_type": "code",
   "execution_count": null,
   "id": "7f87219b",
   "metadata": {},
   "outputs": [
    {
     "name": "stdout",
     "output_type": "stream",
     "text": [
      ". disp 1\n",
      "1\n",
      "\n",
      ". disp 2\n",
      "2\n"
     ]
    }
   ],
   "source": [
    "#| eval: False\n",
    "with redirect_stdout(StringIO()) as diverted:\n",
    "    run_direct(dedent(\"\"\"\\\n",
    "        disp 1\n",
    "        disp 2\"\"\"))\n",
    "    output = diverted.getvalue()\n",
    "print(\"\\n\".join(output.splitlines()[1:-2]))"
   ]
  },
  {
   "cell_type": "code",
   "execution_count": null,
   "id": "e2260b0f",
   "metadata": {},
   "outputs": [
    {
     "name": "stdout",
     "output_type": "stream",
     "text": [
      ". disp 1\n",
      "1\n",
      "\n",
      ". disp 2\n",
      "2\n"
     ]
    }
   ],
   "source": [
    "#| eval: False\n",
    "run_direct_cleaned(\"\"\"\\\n",
    "disp 1\n",
    "disp 2\"\"\", echo=True)"
   ]
  },
  {
   "cell_type": "code",
   "execution_count": null,
   "id": "4ad19471",
   "metadata": {},
   "outputs": [
    {
     "name": "stdout",
     "output_type": "stream",
     "text": [
      ". disp 1\n",
      "1\n",
      "\n",
      ". disp 2\n",
      "2\n"
     ]
    }
   ],
   "source": [
    "#| hide\n",
    "#| eval: False\n",
    "run_direct_cleaned(\"\"\"\\\n",
    "disp 1\n",
    "disp 2\"\"\", echo=False)"
   ]
  },
  {
   "cell_type": "code",
   "execution_count": null,
   "id": "ae387622",
   "metadata": {},
   "outputs": [
    {
     "name": "stdout",
     "output_type": "stream",
     "text": [
      ". quietly {\n"
     ]
    }
   ],
   "source": [
    "#| hide\n",
    "#| eval: False\n",
    "run_direct_cleaned(\"\"\"\\\n",
    "quietly {\n",
    "    disp 2\n",
    "}\"\"\", echo=False)"
   ]
  },
  {
   "cell_type": "code",
   "execution_count": null,
   "id": "7b375dbe",
   "metadata": {},
   "outputs": [
    {
     "name": "stdout",
     "output_type": "stream",
     "text": [
      ". python:\n",
      "----------------------------------------------- python (type end to exit) -----\n",
      ">>> print(\"hello\")\n",
      "hello\n",
      ">>> end\n",
      "-------------------------------------------------------------------------------\n"
     ]
    }
   ],
   "source": [
    "#| hide\n",
    "#| eval: False\n",
    "run_direct_cleaned(dedent('''\\\n",
    "    python:\n",
    "    print(\"hello\")\n",
    "    end\n",
    "    '''), echo=False)"
   ]
  },
  {
   "cell_type": "markdown",
   "id": "3257de50",
   "metadata": {},
   "source": [
    "`run_direct_cleaned` also removes the blank line output by `run_direct` with `quietly=True`"
   ]
  },
  {
   "cell_type": "code",
   "execution_count": null,
   "id": "5069eccf",
   "metadata": {},
   "outputs": [
    {
     "name": "stdout",
     "output_type": "stream",
     "text": [
      "\n"
     ]
    }
   ],
   "source": [
    "#| eval: False\n",
    "prog_code = \"program define _temp_prog \\n disp 1 \\n end\"\n",
    "run_direct(prog_code, quietly=True)"
   ]
  },
  {
   "cell_type": "code",
   "execution_count": null,
   "id": "d8233e0f",
   "metadata": {},
   "outputs": [],
   "source": [
    "#| eval: False\n",
    "run_direct(\"capture program drop _temp_prog\", quietly=True)\n",
    "run_direct_cleaned(prog_code, quietly=True)"
   ]
  },
  {
   "cell_type": "code",
   "execution_count": null,
   "id": "a7b6edf5",
   "metadata": {},
   "outputs": [],
   "source": [
    "#| hide\n",
    "#| eval: False\n",
    "code = dedent('''\\\n",
    "    python:\n",
    "    do_nothin = 3\n",
    "    end\n",
    "    ''')\n",
    "run_direct_cleaned(code, quietly=True)"
   ]
  },
  {
   "cell_type": "markdown",
   "id": "66e02d03",
   "metadata": {},
   "source": [
    "#| hide\n",
    "- But it does pass on any non-blank output by `run_direct` with `quietly=True`"
   ]
  },
  {
   "cell_type": "code",
   "execution_count": null,
   "id": "0ef3ec2e",
   "metadata": {},
   "outputs": [
    {
     "name": "stdout",
     "output_type": "stream",
     "text": [
      "hello\n"
     ]
    }
   ],
   "source": [
    "#| hide\n",
    "#| eval: False\n",
    "code = dedent('''\\\n",
    "    python:\n",
    "    print(\"hello\")\n",
    "    end\n",
    "    ''')\n",
    "run_direct_cleaned(code, quietly=True)"
   ]
  },
  {
   "cell_type": "markdown",
   "id": "5824a58d",
   "metadata": {},
   "source": [
    "Note however that `run_direct_cleaned` delays text output until the code finishes running:"
   ]
  },
  {
   "cell_type": "code",
   "execution_count": null,
   "id": "c8ac57b9",
   "metadata": {},
   "outputs": [
    {
     "name": "stdout",
     "output_type": "stream",
     "text": [
      "1\n",
      "2\n",
      "\n",
      "1\n",
      "2\n"
     ]
    }
   ],
   "source": [
    "#| eval: False\n",
    "code = dedent('''\\\n",
    "    python:\n",
    "    import time\n",
    "    print(1)\n",
    "    time.sleep(1)\n",
    "    print(2)\n",
    "    end\n",
    "    ''')\n",
    "run_direct(code, quietly=True)\n",
    "run_direct_cleaned(code, quietly=True)"
   ]
  },
  {
   "cell_type": "markdown",
   "id": "8dc90cca",
   "metadata": {},
   "source": [
    "`run_direct_cleaned` may also misalign text output relative to graph output:"
   ]
  },
  {
   "cell_type": "code",
   "execution_count": null,
   "id": "1ede5ddb",
   "metadata": {},
   "outputs": [
    {
     "data": {
      "image/svg+xml": [
       "<svg xmlns=\"http://www.w3.org/2000/svg\" xmlns:xlink=\"http://www.w3.org/1999/xlink\" version=\"1.1\" width=\"5.500in\" height=\"4.000in\" viewBox=\"0 0 3960 2880\">\n",
       "\t<desc>Stata Graph - Graph</desc>\n",
       "\t<rect x=\"0\" y=\"0\" width=\"3960\" height=\"2880\" style=\"fill:#EAF2F3;stroke:none\"/>\n",
       "\t<rect x=\"0.00\" y=\"0.00\" width=\"3959.88\" height=\"2880.00\" style=\"fill:#EAF2F3\"/>\n",
       "\t<rect x=\"2.88\" y=\"2.88\" width=\"3954.12\" height=\"2874.24\" style=\"fill:none;stroke:#EAF2F3;stroke-opacity:0.00;stroke-width:5.76\"/>\n",
       "\t<rect x=\"130.80\" y=\"275.35\" width=\"3728.22\" height=\"2359.37\" style=\"fill:#FFFFFF\"/>\n",
       "\t<rect x=\"133.68\" y=\"278.23\" width=\"3722.46\" height=\"2353.61\" style=\"fill:none;stroke:#FFFFFF;stroke-width:5.76\"/>\n",
       "\t<circle cx=\"942.98\" cy=\"617.78\" r=\"47.51\" style=\"fill:#1A476F\"/>\n",
       "\t<circle cx=\"942.98\" cy=\"617.78\" r=\"43.19\" style=\"fill:none;stroke:#1A476F;stroke-width:8.64\"/>\n",
       "\t<text x=\"1072.54\" y=\"658.14\" style=\"font-family:'Helvetica';font-size:115.21px;fill:#1A476f\">O</text>\n",
       "\t<circle cx=\"1656.15\" cy=\"617.78\" r=\"43.19\" style=\"fill:none;stroke:#1A476F;stroke-width:8.64\"/>\n",
       "\t<text x=\"1785.71\" y=\"658.14\" style=\"font-family:'Helvetica';font-size:115.21px;fill:#1A476f\">Oh</text>\n",
       "\t<circle cx=\"2369.32\" cy=\"617.78\" r=\"34.89\" style=\"fill:#1A476F\"/>\n",
       "\t<circle cx=\"2369.32\" cy=\"617.78\" r=\"30.57\" style=\"fill:none;stroke:#1A476F;stroke-width:8.64\"/>\n",
       "\t<text x=\"2498.88\" y=\"658.14\" style=\"font-family:'Helvetica';font-size:115.21px;fill:#1A476f\">o</text>\n",
       "\t<circle cx=\"3082.49\" cy=\"617.78\" r=\"30.57\" style=\"fill:none;stroke:#1A476F;stroke-width:8.64\"/>\n",
       "\t<text x=\"3212.06\" y=\"658.14\" style=\"font-family:'Helvetica';font-size:115.21px;fill:#1A476f\">oh</text>\n",
       "\t<polygon points=\"875.73,896.84 942.98,829.60 1010.22,896.84 942.98,964.09\" style=\"fill:#1A476F\"/>\n",
       "\t<polygon points=\"881.84,896.84 942.98,835.71 1004.11,896.84 942.98,957.98\" style=\"fill:none;stroke:#1A476F;stroke-width:8.64\"/>\n",
       "\t<text x=\"1072.54\" y=\"937.20\" style=\"font-family:'Helvetica';font-size:115.21px;fill:#1A476f\">D</text>\n",
       "\t<polygon points=\"1595.01,896.84 1656.15,835.71 1717.28,896.84 1656.15,957.98\" style=\"fill:none;stroke:#1A476F;stroke-width:8.64\"/>\n",
       "\t<text x=\"1785.71\" y=\"937.20\" style=\"font-family:'Helvetica';font-size:115.21px;fill:#1A476f\">Dh</text>\n",
       "\t<polygon points=\"2320.02,896.84 2369.32,847.55 2418.62,896.84 2369.32,946.14\" style=\"fill:#1A476F\"/>\n",
       "\t<polygon points=\"2326.13,896.84 2369.32,853.66 2412.51,896.84 2369.32,940.03\" style=\"fill:none;stroke:#1A476F;stroke-width:8.64\"/>\n",
       "\t<text x=\"2498.88\" y=\"937.20\" style=\"font-family:'Helvetica';font-size:115.21px;fill:#1A476f\">d</text>\n",
       "\t<polygon points=\"3039.30,896.84 3082.49,853.66 3125.68,896.84 3082.49,940.03\" style=\"fill:none;stroke:#1A476F;stroke-width:8.64\"/>\n",
       "\t<text x=\"3212.06\" y=\"937.20\" style=\"font-family:'Helvetica';font-size:115.21px;fill:#1A476f\">dh</text>\n",
       "\t<polygon points=\"942.98,1109.73 885.66,1209.00 1000.29,1209.00\" style=\"fill:#1A476F\"/>\n",
       "\t<polygon points=\"942.98,1118.37 893.14,1204.68 992.81,1204.68\" style=\"fill:none;stroke:#1A476F;stroke-width:8.64\"/>\n",
       "\t<text x=\"1072.54\" y=\"1216.27\" style=\"font-family:'Helvetica';font-size:115.21px;fill:#1A476f\">T</text>\n",
       "\t<polygon points=\"1656.15,1118.37 1606.31,1204.68 1705.98,1204.68\" style=\"fill:none;stroke:#1A476F;stroke-width:8.64\"/>\n",
       "\t<text x=\"1785.71\" y=\"1216.27\" style=\"font-family:'Helvetica';font-size:115.21px;fill:#1A476f\">Th</text>\n",
       "\t<polygon points=\"2369.32,1124.08 2324.43,1201.82 2414.20,1201.82\" style=\"fill:#1A476F\"/>\n",
       "\t<polygon points=\"2369.32,1132.72 2331.91,1197.50 2406.72,1197.50\" style=\"fill:none;stroke:#1A476F;stroke-width:8.64\"/>\n",
       "\t<text x=\"2498.88\" y=\"1216.27\" style=\"font-family:'Helvetica';font-size:115.21px;fill:#1A476f\">t</text>\n",
       "\t<polygon points=\"3082.49,1132.72 3045.09,1197.50 3119.89,1197.50\" style=\"fill:none;stroke:#1A476F;stroke-width:8.64\"/>\n",
       "\t<text x=\"3212.06\" y=\"1216.27\" style=\"font-family:'Helvetica';font-size:115.21px;fill:#1A476f\">th</text>\n",
       "\t<rect x=\"895.47\" y=\"1407.46\" width=\"95.02\" height=\"95.02\" style=\"fill:#1A476F\"/>\n",
       "\t<rect x=\"899.79\" y=\"1411.78\" width=\"86.38\" height=\"86.38\" style=\"fill:none;stroke:#1A476F;stroke-width:8.64\"/>\n",
       "\t<text x=\"1072.54\" y=\"1495.33\" style=\"font-family:'Helvetica';font-size:115.21px;fill:#1A476f\">S</text>\n",
       "\t<rect x=\"1612.96\" y=\"1411.78\" width=\"86.38\" height=\"86.38\" style=\"fill:none;stroke:#1A476F;stroke-width:8.64\"/>\n",
       "\t<text x=\"1785.71\" y=\"1495.33\" style=\"font-family:'Helvetica';font-size:115.21px;fill:#1A476f\">Sh</text>\n",
       "\t<rect x=\"2334.43\" y=\"1420.09\" width=\"69.77\" height=\"69.77\" style=\"fill:#1A476F\"/>\n",
       "\t<rect x=\"2338.75\" y=\"1424.41\" width=\"61.13\" height=\"61.13\" style=\"fill:none;stroke:#1A476F;stroke-width:8.64\"/>\n",
       "\t<text x=\"2498.88\" y=\"1495.33\" style=\"font-family:'Helvetica';font-size:115.21px;fill:#1A476f\">s</text>\n",
       "\t<rect x=\"3051.92\" y=\"1424.41\" width=\"61.13\" height=\"61.13\" style=\"fill:none;stroke:#1A476F;stroke-width:8.64\"/>\n",
       "\t<text x=\"3212.06\" y=\"1495.33\" style=\"font-family:'Helvetica';font-size:115.21px;fill:#1A476f\">sh</text>\n",
       "\t<line x1=\"899.79\" y1=\"1734.04\" x2=\"986.16\" y2=\"1734.04\" stroke-linecap=\"round\" style=\"fill:none;stroke:#1A476F;stroke-width:8.64\"/>\n",
       "\t<line x1=\"942.98\" y1=\"1777.23\" x2=\"942.98\" y2=\"1690.85\" stroke-linecap=\"round\" style=\"fill:none;stroke:#1A476F;stroke-width:8.64\"/>\n",
       "\t<text x=\"1072.54\" y=\"1774.40\" style=\"font-family:'Helvetica';font-size:115.21px;fill:#1A476f\">+</text>\n",
       "\t<line x1=\"1625.58\" y1=\"1734.04\" x2=\"1686.71\" y2=\"1734.04\" stroke-linecap=\"round\" style=\"fill:none;stroke:#1A476F;stroke-width:8.64\"/>\n",
       "\t<line x1=\"1656.15\" y1=\"1764.61\" x2=\"1656.15\" y2=\"1703.47\" stroke-linecap=\"round\" style=\"fill:none;stroke:#1A476F;stroke-width:8.64\"/>\n",
       "\t<text x=\"1785.71\" y=\"1774.40\" style=\"font-family:'Helvetica';font-size:115.21px;fill:#1A476f\">smplus</text>\n",
       "\t<line x1=\"2338.78\" y1=\"1764.58\" x2=\"2399.86\" y2=\"1703.50\" stroke-linecap=\"round\" style=\"fill:none;stroke:#1A476F;stroke-width:8.64\"/>\n",
       "\t<line x1=\"2399.86\" y1=\"1764.58\" x2=\"2338.78\" y2=\"1703.50\" stroke-linecap=\"round\" style=\"fill:none;stroke:#1A476F;stroke-width:8.64\"/>\n",
       "\t<text x=\"2498.88\" y=\"1774.40\" style=\"font-family:'Helvetica';font-size:115.21px;fill:#1A476f\">X</text>\n",
       "\t<line x1=\"3060.88\" y1=\"1755.65\" x2=\"3104.10\" y2=\"1712.43\" stroke-linecap=\"round\" style=\"fill:none;stroke:#1A476F;stroke-width:8.64\"/>\n",
       "\t<line x1=\"3104.10\" y1=\"1755.65\" x2=\"3060.88\" y2=\"1712.43\" stroke-linecap=\"round\" style=\"fill:none;stroke:#1A476F;stroke-width:8.64\"/>\n",
       "\t<text x=\"3212.06\" y=\"1774.40\" style=\"font-family:'Helvetica';font-size:115.21px;fill:#1A476f\">x</text>\n",
       "\t<path d=\"M921.38 2013.10 L942.98 1969.92 L964.57 2013.10 Z M942.98 2013.10 L942.98 2056.29\" style=\"fill:#1A476F;stroke:#1A476F;stroke-width:8.64\"/>\n",
       "\t<text x=\"1072.54\" y=\"2053.46\" style=\"font-family:'Helvetica';font-size:115.21px;fill:#1A476f\">A</text>\n",
       "\t<path d=\"M1627.35 2013.10 L1656.15 1969.92 L1684.94 2013.10 M1656.15 1969.92 L1656.15 2056.29\" stroke-linecap=\"round\" stroke-linejoin=\"round\" style=\"fill:none;stroke:#1A476F;stroke-width:8.64\"/>\n",
       "\t<text x=\"1785.71\" y=\"2053.46\" style=\"font-family:'Helvetica';font-size:115.21px;fill:#1A476f\">a</text>\n",
       "\t<path d=\"M2319.48 1955.56 L2369.32 2041.88 L2419.15 1955.56\" style=\"fill:none;stroke:#1A476F;stroke-width:8.64\"/>\n",
       "\t<text x=\"2498.88\" y=\"2053.46\" style=\"font-family:'Helvetica';font-size:115.21px;fill:#1A476f\">V</text>\n",
       "\t<path d=\"M3045.09 1969.92 L3082.49 2034.70 L3119.89 1969.92\" style=\"fill:none;stroke:#1A476F;stroke-width:8.64\"/>\n",
       "\t<text x=\"3212.06\" y=\"2053.46\" style=\"font-family:'Helvetica';font-size:115.21px;fill:#1A476f\">v</text>\n",
       "\t<line x1=\"942.98\" y1=\"2335.48\" x2=\"942.98\" y2=\"2249.10\" stroke-linecap=\"round\" style=\"fill:none;stroke:#1A476F;stroke-width:8.64\"/>\n",
       "\t<text x=\"1072.54\" y=\"2332.65\" style=\"font-family:'Helvetica';font-size:115.21px;fill:#1A476f\">|</text>\n",
       "\t<circle cx=\"1656.15\" cy=\"2292.29\" r=\"1.00\" style=\"fill:#1A476F;stroke:none\"/>\n",
       "\t<text x=\"1785.71\" y=\"2332.65\" style=\"font-family:'Helvetica';font-size:115.21px;fill:#1A476f\">p</text>\n",
       "\t<line x1=\"130.80\" y1=\"2634.72\" x2=\"130.80\" y2=\"275.35\" style=\"stroke:#000000;stroke-width:5.76\"/>\n",
       "\t<line x1=\"130.80\" y1=\"2634.72\" x2=\"3859.02\" y2=\"2634.72\" style=\"stroke:#000000;stroke-width:5.76\"/>\n",
       "\t<text x=\"148.13\" y=\"2737.89\" style=\"font-family:'Helvetica';font-size:79.94px;fill:#000000\">(symbols shown at larger than default size)</text>\n",
       "\t<text x=\"1994.97\" y=\"215.98\" style=\"font-family:'Helvetica';font-size:139.96px;fill:#1E2D53\" text-anchor=\"middle\">Symbol palette</text>\n",
       "</svg>"
      ],
      "text/plain": [
       "<IPython.core.display.SVG object>"
      ]
     },
     "metadata": {},
     "output_type": "display_data"
    },
    {
     "name": "stdout",
     "output_type": "stream",
     "text": [
      ". disp \"the problem arises with multi-line Stata code\"\n",
      "the problem arises with multi-line Stata code\n",
      "\n",
      ". palette symbolpalette\n"
     ]
    }
   ],
   "source": [
    "#| eval: False\n",
    "run_direct_cleaned(dedent('''\\\n",
    "    disp \"the problem arises with multi-line Stata code\"\n",
    "    palette symbolpalette'''), echo=True)"
   ]
  },
  {
   "cell_type": "markdown",
   "id": "00188ba2",
   "metadata": {},
   "source": [
    "`run_sfi` should only be used for standardized code in which each line is a command suitable for the `sfi.SFIToolkit.stata` function. For such code, it provides much faster execution (with a `noecho` option). But it shares the limitations of `run_single`."
   ]
  },
  {
   "cell_type": "code",
   "execution_count": null,
   "id": "74799d8d",
   "metadata": {},
   "outputs": [],
   "source": [
    "#| export\n",
    "def run_sfi(std_code, echo=False, show_exc_warning=True):\n",
    "    import sfi\n",
    "    cmds = std_code.splitlines()\n",
    "    for i, cmd in enumerate(cmds):\n",
    "        try:\n",
    "            sfi.SFIToolkit.stata(cmd, echo)\n",
    "        except Exception as e:\n",
    "            if show_exc_warning:\n",
    "                print_red(f\"run_sfi (sfi.SFIToolkit.stata) error: {repr(e)}\")\n",
    "            remaining_code = \"\\n\".join(cmds[i:])\n",
    "            run_direct(remaining_code, echo=echo)\n",
    "            break"
   ]
  },
  {
   "cell_type": "code",
   "execution_count": null,
   "id": "b6044d98",
   "metadata": {},
   "outputs": [
    {
     "name": "stdout",
     "output_type": "stream",
     "text": [
      "\n",
      "Contains data\n",
      " Observations:             5                  \n",
      "    Variables:             1                  \n",
      "-------------------------------------------------------------------------------\n",
      "Variable      Storage   Display    Value\n",
      "    name         type    format    label      Variable label\n",
      "-------------------------------------------------------------------------------\n",
      "var1            float   %9.0g                 \n",
      "-------------------------------------------------------------------------------\n",
      "Sorted by: \n",
      "     Note: Dataset has changed since last saved.\n"
     ]
    }
   ],
   "source": [
    "#| eval: false\n",
    "run_sfi(\"\"\"\\\n",
    "quietly set obs 5\n",
    "quietly gen var1 = _n > 3\n",
    "desc\"\"\")"
   ]
  },
  {
   "cell_type": "code",
   "execution_count": null,
   "id": "88842fa8",
   "metadata": {},
   "outputs": [],
   "source": [
    "#| hide\n",
    "from fastcore.test import test_eq, ExceptionExpected"
   ]
  },
  {
   "cell_type": "code",
   "execution_count": null,
   "id": "522e8079",
   "metadata": {},
   "outputs": [
    {
     "name": "stdout",
     "output_type": "stream",
     "text": [
      "\u001b[31mrun_sfi (sfi.SFIToolkit.stata) error: SyntaxError('failed to execute the specified Stata command')\u001b[0m\n"
     ]
    }
   ],
   "source": [
    "#| hide\n",
    "#| eval: false\n",
    "with ExceptionExpected(ex=SystemError):\n",
    "    run_sfi(dedent(\"\"\"\\\n",
    "        dip 1\n",
    "        disp 2\"\"\"))"
   ]
  },
  {
   "cell_type": "code",
   "execution_count": null,
   "id": "0fdb97b1",
   "metadata": {},
   "outputs": [
    {
     "name": "stdout",
     "output_type": "stream",
     "text": [
      "1\n",
      "2\n"
     ]
    }
   ],
   "source": [
    "#| hide\n",
    "#| eval: false\n",
    "run_sfi(dedent(\"\"\"\\\n",
    "    disp 1\n",
    "    disp 2\"\"\"))"
   ]
  },
  {
   "cell_type": "code",
   "execution_count": null,
   "id": "e545a82a",
   "metadata": {},
   "outputs": [],
   "source": [
    "#| export\n",
    "class SelectVar():\n",
    "    \"\"\"Class for generating Stata select_var for getAsDict\"\"\"\n",
    "    varname = None\n",
    "    \n",
    "    def __init__(self, stata_if_code):\n",
    "        import sfi\n",
    "        condition = stata_if_code.replace('if ', '', 1).strip()\n",
    "        if condition:\n",
    "            self.varname = sfi.SFIToolkit.getTempName()\n",
    "            cmd = f\"quietly gen {self.varname} = cond({condition},1,0)\"\n",
    "            run_single(cmd, show_exc_warning=False)\n",
    "\n",
    "    def clear(self):\n",
    "        \"\"\"Remove temporary select_var from Stata dataset\"\"\"\n",
    "        if self.varname:\n",
    "            drop_var(self.varname)\n",
    "            \n",
    "    def __enter__(self):\n",
    "        return self.varname\n",
    "    \n",
    "    def __exit__(self, exc_type, exc_value, exc_tb):\n",
    "        self.clear()"
   ]
  },
  {
   "cell_type": "markdown",
   "id": "3d343d3b",
   "metadata": {},
   "source": [
    "`Selectvar.varname` is a temporary Stata variable for use in `sfi.Data.getAsDict`"
   ]
  },
  {
   "cell_type": "code",
   "execution_count": null,
   "id": "4762f9de",
   "metadata": {},
   "outputs": [
    {
     "name": "stdout",
     "output_type": "stream",
     "text": [
      "varname: __000000\n",
      "\n",
      "       var1   __000000  \n",
      "  1.      0          1  \n",
      "  2.      0          1  \n",
      "  3.      0          1  \n",
      "  4.      1          0  \n",
      "  5.      1          0  \n",
      "var1\n"
     ]
    }
   ],
   "source": [
    "#| eval: false\n",
    "with SelectVar(\" if var1==0\") as sel_varname:\n",
    "    print(f\"varname: {sel_varname}\")\n",
    "    run_single(\"list, clean\")\n",
    "run_single(\"desc, simple\")"
   ]
  },
  {
   "cell_type": "code",
   "execution_count": null,
   "id": "71889c69",
   "metadata": {},
   "outputs": [],
   "source": [
    "#| export\n",
    "class IndexVar:\n",
    "    \"\"\"Class for generating Stata index var for use with pandas\"\"\"\n",
    "    def __enter__(self):\n",
    "        import sfi\n",
    "        self.idx_var = sfi.SFIToolkit.getTempName()\n",
    "        run_single(f\"gen {self.idx_var} = _n\", show_exc_warning=False)\n",
    "        return self.idx_var\n",
    "    \n",
    "    def __exit__(self, exc_type, exc_value, exc_tb):\n",
    "        drop_var(self.idx_var)"
   ]
  },
  {
   "cell_type": "code",
   "execution_count": null,
   "id": "2be1139e",
   "metadata": {},
   "outputs": [
    {
     "name": "stdout",
     "output_type": "stream",
     "text": [
      "var1      __000001\n",
      "var1\n",
      "Elapsed time: 0.0005 seconds\n"
     ]
    }
   ],
   "source": [
    "#| eval: False\n",
    "with Timer():\n",
    "    with IndexVar() as idx_var:\n",
    "        run_single(\"desc, simple\")\n",
    "    run_single(\"desc, simple\")"
   ]
  },
  {
   "cell_type": "code",
   "execution_count": null,
   "id": "b48400f7",
   "metadata": {},
   "outputs": [],
   "source": [
    "#| hide\n",
    "#| eval: false\n",
    "import sfi"
   ]
  },
  {
   "cell_type": "code",
   "execution_count": null,
   "id": "439ac36d",
   "metadata": {},
   "outputs": [
    {
     "data": {
      "text/plain": [
       "'__000002'"
      ]
     },
     "execution_count": null,
     "metadata": {},
     "output_type": "execute_result"
    }
   ],
   "source": [
    "#| hide\n",
    "#| eval: false\n",
    "test = sfi.SFIToolkit.getTempName()\n",
    "test"
   ]
  },
  {
   "cell_type": "markdown",
   "id": "b696a14f",
   "metadata": {},
   "source": [
    "## Run commands as a Stata program"
   ]
  },
  {
   "cell_type": "markdown",
   "id": "7f47df15",
   "metadata": {},
   "source": [
    "The original motivation for adding this functionality is that `run_direct`/`pystata.stata.run` can only suppress the \"echo\" of single commands, not multi-line Stata code:"
   ]
  },
  {
   "cell_type": "code",
   "execution_count": null,
   "id": "0c1295e5",
   "metadata": {},
   "outputs": [
    {
     "name": "stdout",
     "output_type": "stream",
     "text": [
      "test 1\n"
     ]
    }
   ],
   "source": [
    "#| eval: false\n",
    "run_direct('disp \"test 1\"', echo=False)"
   ]
  },
  {
   "cell_type": "code",
   "execution_count": null,
   "id": "2d84d303",
   "metadata": {},
   "outputs": [
    {
     "name": "stdout",
     "output_type": "stream",
     "text": [
      "\n",
      ". disp \"test 1\"\n",
      "test 1\n",
      "\n",
      ". disp \"test 2\"\n",
      "test 2\n",
      "\n",
      ". \n"
     ]
    }
   ],
   "source": [
    "#| eval: false\n",
    "two_lines_of_code = dedent('''\\\n",
    "    disp \"test 1\"\n",
    "    disp \"test 2\"\n",
    "    ''')\n",
    "run_direct(two_lines_of_code, echo=False)"
   ]
  },
  {
   "cell_type": "markdown",
   "id": "4a8083d2",
   "metadata": {},
   "source": [
    "As a workaround when echo is not desired, we can run multiple commands as a Stata program:"
   ]
  },
  {
   "cell_type": "code",
   "execution_count": null,
   "id": "b56783cb",
   "metadata": {},
   "outputs": [],
   "source": [
    "#| eval: false\n",
    "run_direct_cleaned(f\"\"\"\\\n",
    "program temp_nbstata_program_name\n",
    "    {two_lines_of_code}\n",
    "end\"\"\", quietly=True)"
   ]
  },
  {
   "cell_type": "code",
   "execution_count": null,
   "id": "64126d40",
   "metadata": {},
   "outputs": [
    {
     "name": "stdout",
     "output_type": "stream",
     "text": [
      "test 1\n",
      "test 2\n"
     ]
    }
   ],
   "source": [
    "#| eval: false\n",
    "run_direct(\"temp_nbstata_program_name\", quietly=False, inline=True, echo=False)"
   ]
  },
  {
   "cell_type": "code",
   "execution_count": null,
   "id": "21725d86",
   "metadata": {},
   "outputs": [],
   "source": [
    "#| eval: false\n",
    "run_single(f\"quietly program drop temp_nbstata_program_name\")"
   ]
  },
  {
   "cell_type": "markdown",
   "id": "5462968a",
   "metadata": {},
   "source": [
    "(Note: This and the following two functions assume input Stata code standardized by `standardize_code`, which will be ensured by the `break_out_prog_blocks` within the ultimate `dispatch_run` wrapper function.)"
   ]
  },
  {
   "cell_type": "code",
   "execution_count": null,
   "id": "6a262b11",
   "metadata": {},
   "outputs": [],
   "source": [
    "#| export\n",
    "def run_as_program(std_non_prog_code, prog_def_option_code=\"\"):\n",
    "    _program_name = \"temp_nbstata_program_name\"\n",
    "    _options = f\", {prog_def_option_code}\" if prog_def_option_code else \"\"\n",
    "    _program_define_code = (\n",
    "        f\"program {_program_name}{_options}\\n\"\n",
    "        f\"{std_non_prog_code}\\n\"\n",
    "        \"end\\n\"\n",
    "    )\n",
    "    try:\n",
    "        run_direct_cleaned(_program_define_code, quietly=True)\n",
    "        run_direct(_program_name, quietly=False, inline=True, echo=False)\n",
    "    finally:\n",
    "        run_single(f\"quietly program drop {_program_name}\", show_exc_warning=False)"
   ]
  },
  {
   "cell_type": "code",
   "execution_count": null,
   "id": "703e855d",
   "metadata": {},
   "outputs": [
    {
     "name": "stdout",
     "output_type": "stream",
     "text": [
      "test 1\n",
      "test 2\n"
     ]
    }
   ],
   "source": [
    "#| eval: false\n",
    "run_as_program(two_lines_of_code)"
   ]
  },
  {
   "cell_type": "code",
   "execution_count": null,
   "id": "c59aa4a2",
   "metadata": {},
   "outputs": [
    {
     "name": "stdout",
     "output_type": "stream",
     "text": [
      "test 1\n",
      "test 2\n"
     ]
    }
   ],
   "source": [
    "#| hide\n",
    "#| eval: false\n",
    "run_as_program(two_lines_of_code, \"sclass\")"
   ]
  },
  {
   "cell_type": "markdown",
   "id": "fa3044ce",
   "metadata": {},
   "source": [
    "Not all code can be run within a program without modification, however: \n",
    "1. Programs cannot be defined within another program, nor can python or mata blocks be run.\n",
    "2. A program definition is a different scope for locals, so:\n",
    "    * the program code does not have access to locals defined previously, and\n",
    "    * locals set within the program code do not persist outside of it.\n",
    "    \n",
    "(These issues are addressed by `run_noecho`.)"
   ]
  },
  {
   "cell_type": "code",
   "execution_count": null,
   "id": "51829023",
   "metadata": {},
   "outputs": [],
   "source": [
    "#| eval: false\n",
    "with ExceptionExpected(SystemError):\n",
    "    run_as_program(\"\"\"\\\n",
    "        program define prog1\n",
    "            disp 1\n",
    "        end\n",
    "        \"\"\")"
   ]
  },
  {
   "cell_type": "code",
   "execution_count": null,
   "id": "ebb5e507",
   "metadata": {},
   "outputs": [
    {
     "name": "stdout",
     "output_type": "stream",
     "text": [
      "test1: 1\n"
     ]
    }
   ],
   "source": [
    "#| eval: false\n",
    "run_sfi('''\\\n",
    "local test1 = 1\n",
    "disp \"test1: `test1'\" ''')"
   ]
  },
  {
   "cell_type": "code",
   "execution_count": null,
   "id": "d704bb18",
   "metadata": {},
   "outputs": [
    {
     "name": "stdout",
     "output_type": "stream",
     "text": [
      "test1: \n"
     ]
    }
   ],
   "source": [
    "#| eval: false\n",
    "run_as_program(\"\"\"\\\n",
    "    disp \"test1: `test1'\"\n",
    "    local test2 = 2 \"\"\")"
   ]
  },
  {
   "cell_type": "code",
   "execution_count": null,
   "id": "40d87d37",
   "metadata": {},
   "outputs": [
    {
     "name": "stdout",
     "output_type": "stream",
     "text": [
      "test1: 1\n",
      "test2: \n"
     ]
    }
   ],
   "source": [
    "#| eval: false\n",
    "run_sfi('''\\\n",
    "disp \"test1: `test1'\"\n",
    "disp \"test2: `test2'\" ''')"
   ]
  },
  {
   "cell_type": "markdown",
   "id": "f890e04a",
   "metadata": {},
   "source": [
    "## Divert Stata output to string"
   ]
  },
  {
   "cell_type": "markdown",
   "id": "104e167a",
   "metadata": {},
   "source": [
    "The goal here is to get output from some Stata commands without changing the Stata environment. Three challenges arise:\n",
    "\n",
    "1. Preserving `r()` return values requires special treatment because the `log on`/`off` commands needed to ensure this output is not logged are themselves r-class. \n",
    "2. The input `std_code` may also contain r-class commands. \n",
    "3. Capturing multi-line Stata output without the commands being echoed poses additional `run_as_program`-related challenges with regard to local variables."
   ]
  },
  {
   "cell_type": "markdown",
   "id": "1fd1e352",
   "metadata": {},
   "source": [
    "To start, we set aside the latter two issues and simply use `run_direct` to run the Stata code. We handle the first issue by running the `log` commands inside an r-class program with [`return add`](https://www.stata.com/help.cgi?return) at the start."
   ]
  },
  {
   "cell_type": "markdown",
   "id": "ae774c40",
   "metadata": {},
   "source": [
    "A custom code `runner` may be specified. This may be useful if, for instance, the input `std_code` needs to access pre-existing `r()` results."
   ]
  },
  {
   "cell_type": "code",
   "execution_count": null,
   "id": "1a226b12",
   "metadata": {},
   "outputs": [],
   "source": [
    "#| export\n",
    "def diverted_stata_output(std_code, runner=None):\n",
    "    if runner is None:\n",
    "        runner = functools.partial(run_direct, quietly=False, inline=True, echo=False)\n",
    "    with redirect_stdout(StringIO()) as diverted:\n",
    "        run_as_program(\"return add\\ncapture log off\", prog_def_option_code=\"rclass\")\n",
    "        try:\n",
    "            runner(std_code)\n",
    "        finally:\n",
    "            run_as_program(\"return add\\ncapture log on\", prog_def_option_code=\"rclass\")\n",
    "        out = diverted.getvalue()\n",
    "    return out"
   ]
  },
  {
   "cell_type": "code",
   "execution_count": null,
   "id": "aa86bc1f",
   "metadata": {},
   "outputs": [],
   "source": [
    "from textwrap import dedent"
   ]
  },
  {
   "cell_type": "code",
   "execution_count": null,
   "id": "7ad2b425",
   "metadata": {},
   "outputs": [],
   "source": [
    "#| eval: false\n",
    "two_lines_of_code = dedent('''\\\n",
    "    disp \"test 1\"\n",
    "    disp \"test 2\"\n",
    "    ''')\n",
    "out = diverted_stata_output(two_lines_of_code)"
   ]
  },
  {
   "cell_type": "code",
   "execution_count": null,
   "id": "b084971d",
   "metadata": {},
   "outputs": [
    {
     "name": "stdout",
     "output_type": "stream",
     "text": [
      "\n",
      ". disp \"test 1\"\n",
      "test 1\n",
      "\n",
      ". disp \"test 2\"\n",
      "test 2\n",
      "\n",
      ". \n",
      "\n"
     ]
    }
   ],
   "source": [
    "#| eval: false\n",
    "print(out)"
   ]
  },
  {
   "cell_type": "code",
   "execution_count": null,
   "id": "7af60e01",
   "metadata": {},
   "outputs": [
    {
     "name": "stdout",
     "output_type": "stream",
     "text": [
      "test 1\n",
      "\n"
     ]
    }
   ],
   "source": [
    "#| eval: false\n",
    "print(diverted_stata_output('disp \"test 1\"', run_as_program))"
   ]
  },
  {
   "cell_type": "markdown",
   "id": "5eff1e30",
   "metadata": {},
   "source": [
    "If we know the code we're running is non-program code, we can get a speed improvement by running the `log` code together with the input `std_non_prog_code`."
   ]
  },
  {
   "cell_type": "code",
   "execution_count": null,
   "id": "c5d72fda",
   "metadata": {},
   "outputs": [],
   "source": [
    "#| export\n",
    "def diverted_stata_output_quicker(std_non_prog_code):\n",
    "    with redirect_stdout(StringIO()) as diverted:\n",
    "        code = f\"return add\\ncapture log off\\n{std_non_prog_code}\\ncapture log on\"\"\"\n",
    "        try:\n",
    "            run_as_program(code, prog_def_option_code=\"rclass\")\n",
    "        except SystemError as e:\n",
    "            run_as_program(\"return add\\ncapture log on\", prog_def_option_code=\"rclass\")\n",
    "            raise(e)\n",
    "        out = diverted.getvalue()\n",
    "    return out"
   ]
  },
  {
   "cell_type": "code",
   "execution_count": null,
   "id": "2cab62d2",
   "metadata": {},
   "outputs": [
    {
     "name": "stdout",
     "output_type": "stream",
     "text": [
      "test 1\n",
      "test 2\n",
      "\n"
     ]
    }
   ],
   "source": [
    "#| eval: false\n",
    "print(diverted_stata_output_quicker(two_lines_of_code))"
   ]
  },
  {
   "cell_type": "code",
   "execution_count": null,
   "id": "f83f5096",
   "metadata": {},
   "outputs": [
    {
     "name": "stdout",
     "output_type": "stream",
     "text": [
      "Elapsed time: 0.2083 seconds\n",
      "Elapsed time: 0.0912 seconds\n"
     ]
    }
   ],
   "source": [
    "#| eval: false\n",
    "with Timer():\n",
    "    out1 = diverted_stata_output(two_lines_of_code, runner=run_sfi)\n",
    "with Timer():\n",
    "    out2 = diverted_stata_output_quicker(two_lines_of_code)\n",
    "test_eq(out1, out2)"
   ]
  },
  {
   "cell_type": "code",
   "execution_count": null,
   "id": "edf70e12",
   "metadata": {},
   "outputs": [
    {
     "name": "stdout",
     "output_type": "stream",
     "text": [
      "Elapsed time: 0.3145 seconds\n"
     ]
    }
   ],
   "source": [
    "#| hide\n",
    "#| eval: false\n",
    "with Timer():\n",
    "    out3 = diverted_stata_output(two_lines_of_code, run_as_program)\n",
    "test_eq(out1, out3)"
   ]
  },
  {
   "cell_type": "markdown",
   "id": "3485eb90",
   "metadata": {},
   "source": [
    "#| hide\n",
    "## varlist utility\n",
    "\n",
    "(not currently used) Takes a [Stata `varlist`](https://www.stata.com/help.cgi?varlist) and returns a list of full variable names, as required by [sfi.Data.getAsDict()](https://www.stata.com/python/api17/Data.html#sfi.Data.getAsDict). Frames (`strf`) not yet properly supported."
   ]
  },
  {
   "cell_type": "code",
   "execution_count": null,
   "id": "4781df5a",
   "metadata": {},
   "outputs": [],
   "source": [
    "#| hide\n",
    "#| export\n",
    "def var_from_varlist(varlist, stfr=None):\n",
    "    if stfr:\n",
    "        var_code = varlist.strip()\n",
    "    else:\n",
    "        _program_name = \"temp_nbstata_varlist_name\"\n",
    "        run_direct_cleaned((\n",
    "            f\"program define {_program_name}\\n\"\n",
    "            \"\"\" syntax [varlist(default=none)]\n",
    "                foreach var in `varlist' {\n",
    "                    disp \"`var'\"\n",
    "                }\n",
    "            end\n",
    "            \"\"\"), quietly=True)\n",
    "        try:\n",
    "            var_code = diverted_stata_output_quicker(f\"\"\"\\\n",
    "                {_program_name} {varlist}\n",
    "                program drop {_program_name}\n",
    "                \"\"\").strip()\n",
    "        except Exception as e:\n",
    "            run_single(f\"capture program drop {_program_name}\", show_exc_warning=True)\n",
    "            raise(e)\n",
    "    return [c.strip() for c in var_code.split() if c] if var_code else None"
   ]
  },
  {
   "cell_type": "code",
   "execution_count": null,
   "id": "66d94a3a",
   "metadata": {},
   "outputs": [
    {
     "name": "stdout",
     "output_type": "stream",
     "text": [
      "program define temp_nbstata_varlist_name\\            \n",
      "                syntax [varlist(default=none)]\n",
      "                foreach var in `varlist' {\n",
      "                    disp \"`var'\"\n",
      "                }\n",
      "            end\n",
      "            \n"
     ]
    }
   ],
   "source": [
    "#| hide\n",
    "#| hide\n",
    "_program_name = \"temp_nbstata_varlist_name\"\n",
    "print(\n",
    "            f\"program define {_program_name}\"\n",
    "            \"\"\"\\            \n",
    "                syntax [varlist(default=none)]\n",
    "                foreach var in `varlist' {\n",
    "                    disp \"`var'\"\n",
    "                }\n",
    "            end\n",
    "            \"\"\")"
   ]
  },
  {
   "cell_type": "code",
   "execution_count": null,
   "id": "599ef01f",
   "metadata": {},
   "outputs": [
    {
     "name": "stdout",
     "output_type": "stream",
     "text": [
      "\n",
      "    Variable |        Obs        Mean    Std. dev.       Min        Max\n",
      "-------------+---------------------------------------------------------\n",
      "        var1 |          5          .4    .5477226          0          1\n",
      "\n",
      "scalars:\n",
      "                  r(N) =  5\n",
      "              r(sum_w) =  5\n",
      "               r(mean) =  .4\n",
      "                r(Var) =  .3\n",
      "                 r(sd) =  .5477225575051662\n",
      "                r(min) =  0\n",
      "                r(max) =  1\n",
      "                r(sum) =  2\n"
     ]
    }
   ],
   "source": [
    "#| hide\n",
    "#| hide\n",
    "#| eval: False\n",
    "run_sfi(\"\"\"\\\n",
    "sum\n",
    "return list\"\"\")"
   ]
  },
  {
   "cell_type": "code",
   "execution_count": null,
   "id": "29f66ae4",
   "metadata": {},
   "outputs": [
    {
     "name": "stdout",
     "output_type": "stream",
     "text": [
      "\n",
      "scalars:\n",
      "                  r(N) =  5\n",
      "              r(sum_w) =  5\n",
      "               r(mean) =  .4\n",
      "                r(Var) =  .3\n",
      "                 r(sd) =  .5477225575051662\n",
      "                r(min) =  0\n",
      "                r(max) =  1\n",
      "                r(sum) =  2\n"
     ]
    }
   ],
   "source": [
    "#| hide\n",
    "#| hide\n",
    "#| eval: False\n",
    "run_sfi(\"return list\")"
   ]
  },
  {
   "cell_type": "code",
   "execution_count": null,
   "id": "4796c4b6",
   "metadata": {},
   "outputs": [
    {
     "name": "stdout",
     "output_type": "stream",
     "text": [
      "['var1']\n"
     ]
    }
   ],
   "source": [
    "#| hide\n",
    "#| eval: False\n",
    "print(var_from_varlist(\"v\", None))"
   ]
  },
  {
   "cell_type": "code",
   "execution_count": null,
   "id": "22f0bf82",
   "metadata": {},
   "outputs": [
    {
     "name": "stdout",
     "output_type": "stream",
     "text": [
      "\n",
      "scalars:\n",
      "                r(sum) =  2\n",
      "                r(max) =  1\n",
      "                r(min) =  0\n",
      "                 r(sd) =  .5477225575051662\n",
      "                r(Var) =  .3\n",
      "               r(mean) =  .4\n",
      "              r(sum_w) =  5\n",
      "                  r(N) =  5\n"
     ]
    }
   ],
   "source": [
    "#| hide\n",
    "#| hide\n",
    "#| eval: False\n",
    "run_sfi(\"return list\")"
   ]
  },
  {
   "cell_type": "code",
   "execution_count": null,
   "id": "2a2c825e",
   "metadata": {},
   "outputs": [
    {
     "name": "stdout",
     "output_type": "stream",
     "text": [
      "\n"
     ]
    }
   ],
   "source": [
    "#| hide\n",
    "#| eval: False\n",
    "run_direct(\"\"\"\\\n",
    "forval i = 2/20 {\n",
    "    gen var`i' = var1\n",
    "}\"\"\", quietly=True)\n",
    "test_eq(var_from_varlist(\"v*\", None),\n",
    "        ['var1', 'var2', 'var3', 'var4', \n",
    "         'var5', 'var6', 'var7', 'var8', \n",
    "         'var9', 'var10', 'var11', 'var12', \n",
    "         'var13', 'var14', 'var15', 'var16', \n",
    "         'var17', 'var18', 'var19', 'var20'])"
   ]
  },
  {
   "cell_type": "code",
   "execution_count": null,
   "id": "76dae104",
   "metadata": {},
   "outputs": [],
   "source": [
    "#| hide\n",
    "#| eval: False\n",
    "run_sfi(\"drop var2-var20\")"
   ]
  },
  {
   "cell_type": "markdown",
   "id": "4578c173",
   "metadata": {},
   "source": [
    "## Get local macro info"
   ]
  },
  {
   "cell_type": "markdown",
   "id": "cc1e6920",
   "metadata": {},
   "source": [
    "[https://www.statalist.org/forums/forum/general-stata-discussion/general/1457792-how-to-list-all-locals-and-store-them-in-a-macro](https://www.statalist.org/forums/forum/general-stata-discussion/general/1457792-how-to-list-all-locals-and-store-them-in-a-macro)"
   ]
  },
  {
   "cell_type": "code",
   "execution_count": null,
   "id": "ce50d33d",
   "metadata": {},
   "outputs": [],
   "source": [
    "#| export\n",
    "def local_names():\n",
    "    run_single(\"\"\"\\\n",
    "        mata : st_local(\"temp_nbstata_all_locals\", invtokens(st_dir(\"local\", \"macro\", \"*\")'))\"\"\",\n",
    "        show_exc_warning=False)\n",
    "    out = get_local('temp_nbstata_all_locals')\n",
    "    set_local('temp_nbstata_all_locals', \"\")\n",
    "    return out.split()"
   ]
  },
  {
   "cell_type": "code",
   "execution_count": null,
   "id": "9e9d81eb",
   "metadata": {},
   "outputs": [],
   "source": [
    "#| hide\n",
    "def _local_names_old():\n",
    "    out = diverted_stata_output(\"\"\"mata : invtokens(st_dir(\"local\", \"macro\", \"*\")')\"\"\")\n",
    "#     run_direct(\"\"\"\\\n",
    "#         mata : st_local(\"temp_nbstata_all_locals\", invtokens(st_dir(\"local\", \"macro\", \"*\")'))\n",
    "#         \"\"\", quietly=True)\n",
    "#     out = get_local('temp_nbstata_all_locals')\n",
    "#     set_local('temp_nbstata_all_locals', \"\")\n",
    "    return out.split()"
   ]
  },
  {
   "cell_type": "code",
   "execution_count": null,
   "id": "ea696f4c",
   "metadata": {},
   "outputs": [
    {
     "name": "stdout",
     "output_type": "stream",
     "text": [
      "Elapsed time: 0.0011 seconds\n",
      "Elapsed time: 0.2424 seconds\n"
     ]
    }
   ],
   "source": [
    "#| hide\n",
    "#| eval: False\n",
    "with Timer():\n",
    "    local_names()\n",
    "with Timer():\n",
    "    _local_names_old()"
   ]
  },
  {
   "cell_type": "code",
   "execution_count": null,
   "id": "f81f6049",
   "metadata": {},
   "outputs": [],
   "source": [
    "#| eval: False\n",
    "run_sfi(\"\"\"\\\n",
    "local test1 = 1\n",
    "local test2 = 2\"\"\")\n",
    "test_eq(set(local_names()), {'test1', 'test2'})"
   ]
  },
  {
   "cell_type": "code",
   "execution_count": null,
   "id": "a618807d",
   "metadata": {},
   "outputs": [],
   "source": [
    "#| export\n",
    "def get_local_dict(_local_names=None):\n",
    "    if _local_names is None:\n",
    "        _local_names = local_names()\n",
    "    return {n: get_local(n) for n in _local_names}"
   ]
  },
  {
   "cell_type": "code",
   "execution_count": null,
   "id": "279d8676",
   "metadata": {},
   "outputs": [],
   "source": [
    "#| eval: False\n",
    "test_eq(get_local_dict(), {'test1': '1', 'test2': '2'})"
   ]
  },
  {
   "cell_type": "code",
   "execution_count": null,
   "id": "023d61bd",
   "metadata": {},
   "outputs": [],
   "source": [
    "#| export\n",
    "def locals_code_from_dict(preexisting_local_dict):\n",
    "    local_defs = (f\"\"\"local {name} `\"{preexisting_local_dict[name]}\"'\"\"\"\n",
    "                  for name in preexisting_local_dict)\n",
    "    return \"\\n\".join(local_defs)"
   ]
  },
  {
   "cell_type": "code",
   "execution_count": null,
   "id": "e1dfdfba",
   "metadata": {},
   "outputs": [
    {
     "name": "stdout",
     "output_type": "stream",
     "text": [
      "local test1 `\"blah\"'\n",
      "local test2 `\"blah blah\"'\n"
     ]
    }
   ],
   "source": [
    "#| hide\n",
    "print(locals_code_from_dict({'test1': 'blah', 'test2': 'blah blah'}))"
   ]
  },
  {
   "cell_type": "code",
   "execution_count": null,
   "id": "d80c03d6",
   "metadata": {},
   "outputs": [],
   "source": [
    "#| hide\n",
    "test_eq(locals_code_from_dict({'test1': 'blah', 'test2': 'blah blah'}),\n",
    "        \"\"\"local test1 `\"blah\"\\'\\nlocal test2 `\"blah blah\"\\'\"\"\")"
   ]
  },
  {
   "cell_type": "code",
   "execution_count": null,
   "id": "9e08ba84",
   "metadata": {},
   "outputs": [
    {
     "name": "stdout",
     "output_type": "stream",
     "text": [
      "local test2 `\"2\"'\n",
      "local test1 `\"1\"'\n"
     ]
    }
   ],
   "source": [
    "#| eval: False\n",
    "print(locals_code_from_dict(get_local_dict()))"
   ]
  },
  {
   "cell_type": "code",
   "execution_count": null,
   "id": "1c6dd777",
   "metadata": {},
   "outputs": [],
   "source": [
    "#| hide\n",
    "import nbdev; nbdev.nbdev_export()"
   ]
  }
 ],
 "metadata": {
  "kernelspec": {
   "display_name": "Python 3 (ipykernel)",
   "language": "python",
   "name": "python3"
  }
 },
 "nbformat": 4,
 "nbformat_minor": 5
}
