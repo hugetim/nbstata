{
 "cells": [
  {
   "cell_type": "markdown",
   "id": "2c184729",
   "metadata": {},
   "source": [
    "# stata_more\n",
    "\n",
    "> Helper functions that expand on `pystata`/`sfi` functionality"
   ]
  },
  {
   "cell_type": "code",
   "execution_count": null,
   "id": "c7fb586a",
   "metadata": {},
   "outputs": [],
   "source": [
    "#| default_exp stata_more\n",
    "%load_ext autoreload\n",
    "%autoreload 2"
   ]
  },
  {
   "cell_type": "code",
   "execution_count": null,
   "id": "026b00b7",
   "metadata": {},
   "outputs": [],
   "source": [
    "#| hide\n",
    "from nbdev.showdoc import *"
   ]
  },
  {
   "cell_type": "code",
   "execution_count": null,
   "id": "4b35edd5",
   "metadata": {},
   "outputs": [],
   "source": [
    "#| export\n",
    "from nbstata.misc_utils import DivertedPrints\n",
    "from nbstata.stata import run_direct, get_local, set_local, drop_var\n",
    "from textwrap import dedent\n",
    "import functools"
   ]
  },
  {
   "cell_type": "code",
   "execution_count": null,
   "id": "21aadf85",
   "metadata": {},
   "outputs": [],
   "source": [
    "#| eval: false\n",
    "from nbstata.config import launch_stata"
   ]
  },
  {
   "cell_type": "markdown",
   "id": "b622c378",
   "metadata": {},
   "source": [
    "## Simple Helpers"
   ]
  },
  {
   "cell_type": "code",
   "execution_count": null,
   "id": "e545a82a",
   "metadata": {},
   "outputs": [],
   "source": [
    "#| export\n",
    "class SelectVar():\n",
    "    \"\"\"Class for generating Stata select_var for getAsDict\"\"\"\n",
    "    varname = None\n",
    "    \n",
    "    def __init__(self, stata_if_code):\n",
    "        condition = stata_if_code.replace('if ', '', 1).strip()\n",
    "        if condition:\n",
    "            cmd = dedent(f\"\"\"\\\n",
    "                tempvar __selectionVar\n",
    "                generate `__selectionVar' = cond({condition},1,0)\"\"\")\n",
    "            run_direct(cmd, quietly=True)      \n",
    "            self.varname = get_local(\"__selectionVar\")  \n",
    "\n",
    "    def clear(self):\n",
    "        \"\"\"Remove temporary select_var from Stata dataset\"\"\"\n",
    "        if self.varname:\n",
    "            drop_var(self.varname)\n",
    "            set_local(\"__selectionVar\", \"\")\n",
    "            \n",
    "    def __enter__(self):\n",
    "        return self.varname\n",
    "    \n",
    "    def __exit__(self, exc_type, exc_value, exc_tb):\n",
    "        self.clear()"
   ]
  },
  {
   "cell_type": "markdown",
   "id": "3d343d3b",
   "metadata": {},
   "source": [
    "`Selectvar.varname` is a temporary Stata variable for use in `sfi.Data.getAsDict`"
   ]
  },
  {
   "cell_type": "code",
   "execution_count": null,
   "id": "88842fa8",
   "metadata": {},
   "outputs": [],
   "source": [
    "from fastcore.test import test_eq, ExceptionExpected"
   ]
  },
  {
   "cell_type": "code",
   "execution_count": null,
   "id": "4762f9de",
   "metadata": {},
   "outputs": [
    {
     "name": "stdout",
     "output_type": "stream",
     "text": [
      "varname: __000000\n",
      "\n",
      "       var1   __000000  \n",
      "  1.      0          1  \n",
      "  2.      0          1  \n",
      "  3.      0          1  \n",
      "  4.      1          0  \n",
      "  5.      1          0  \n",
      "var1\n"
     ]
    }
   ],
   "source": [
    "#| eval: false\n",
    "launch_stata(splash=False)\n",
    "run_direct(\"\"\"\\\n",
    "set obs 5\n",
    "gen var1 = _n > 3\n",
    "\"\"\", quietly=True)\n",
    "with SelectVar(\" if var1==0\") as sel_varname:\n",
    "    print(f\"varname: {sel_varname}\")\n",
    "    run_direct(\"list, clean\")\n",
    "    test_eq(bool(get_local(\"__selectionVar\")), True)\n",
    "run_direct(\"desc, simple\")\n",
    "test_eq(get_local(\"__selectionVar\"), \"\")"
   ]
  },
  {
   "cell_type": "code",
   "execution_count": null,
   "id": "71889c69",
   "metadata": {},
   "outputs": [],
   "source": [
    "#| export\n",
    "class IndexVar:\n",
    "    def __enter__(self):\n",
    "        run_direct(\"\"\"\\\n",
    "            tempvar indexvar\n",
    "            generate `indexvar' = _n\"\"\", quietly=True)\n",
    "        self.idx_var = get_local('indexvar')\n",
    "        return self.idx_var\n",
    "    \n",
    "    def __exit__(self, exc_type, exc_value, exc_tb):\n",
    "        drop_var(self.idx_var)\n",
    "        set_local('indexvar', \"\")"
   ]
  },
  {
   "cell_type": "code",
   "execution_count": null,
   "id": "2be1139e",
   "metadata": {},
   "outputs": [
    {
     "name": "stdout",
     "output_type": "stream",
     "text": [
      "var1      __000001\n",
      "var1\n"
     ]
    }
   ],
   "source": [
    "#| eval: False\n",
    "with IndexVar() as idx_var:\n",
    "    run_direct(\"desc, simple\")\n",
    "    test_eq(bool(get_local('indexvar')), True)\n",
    "run_direct(\"desc, simple\")\n",
    "test_eq(get_local('indexvar'), \"\")"
   ]
  },
  {
   "cell_type": "markdown",
   "id": "b696a14f",
   "metadata": {},
   "source": [
    "## Run commands as a Stata program"
   ]
  },
  {
   "cell_type": "markdown",
   "id": "7f47df15",
   "metadata": {},
   "source": [
    "The original motivation for adding this functionality is that `pystata.stata.run` can only suppress the \"echo\" of single commands, not multi-line Stata code:"
   ]
  },
  {
   "cell_type": "code",
   "execution_count": null,
   "id": "0c1295e5",
   "metadata": {},
   "outputs": [
    {
     "name": "stdout",
     "output_type": "stream",
     "text": [
      "test 1\n"
     ]
    }
   ],
   "source": [
    "#| eval: false\n",
    "run_direct('disp \"test 1\"', echo=False)"
   ]
  },
  {
   "cell_type": "code",
   "execution_count": null,
   "id": "2d84d303",
   "metadata": {},
   "outputs": [
    {
     "name": "stdout",
     "output_type": "stream",
     "text": [
      "\n",
      ". disp \"test 1\"\n",
      "test 1\n",
      "\n",
      ". disp \"test 2\"\n",
      "test 2\n",
      "\n",
      ". \n"
     ]
    }
   ],
   "source": [
    "#| eval: false\n",
    "two_lines_of_code = dedent('''\\\n",
    "    disp \"test 1\"\n",
    "    disp \"test 2\"\n",
    "    ''')\n",
    "run_direct(two_lines_of_code, echo=False)"
   ]
  },
  {
   "cell_type": "markdown",
   "id": "4a8083d2",
   "metadata": {},
   "source": [
    "As a workaround when echo is not desired, we can run multiple commands as a Stata program:"
   ]
  },
  {
   "cell_type": "code",
   "execution_count": null,
   "id": "b56783cb",
   "metadata": {},
   "outputs": [],
   "source": [
    "#| eval: false\n",
    "run_direct(f\"program temp_nbstata_program_name\\n{two_lines_of_code}\\nend\\n\", quietly=True)"
   ]
  },
  {
   "cell_type": "code",
   "execution_count": null,
   "id": "64126d40",
   "metadata": {},
   "outputs": [
    {
     "name": "stdout",
     "output_type": "stream",
     "text": [
      "test 1\n",
      "test 2\n"
     ]
    }
   ],
   "source": [
    "#| eval: false\n",
    "run_direct(\"temp_nbstata_program_name\", quietly=False, inline=True, echo=False)"
   ]
  },
  {
   "cell_type": "code",
   "execution_count": null,
   "id": "21725d86",
   "metadata": {},
   "outputs": [],
   "source": [
    "#| eval: false\n",
    "run_direct(f\"program drop temp_nbstata_program_name\", quietly=True)"
   ]
  },
  {
   "cell_type": "markdown",
   "id": "5462968a",
   "metadata": {},
   "source": [
    "(Note: This and the following two functions assume input Stata code standardized by `standardize_code`, which will be ensured by the `break_out_prog_blocks` within the ultimate `dispatch_run` wrapper function.)"
   ]
  },
  {
   "cell_type": "code",
   "execution_count": null,
   "id": "6a262b11",
   "metadata": {},
   "outputs": [],
   "source": [
    "#| export\n",
    "def run_as_program(std_non_prog_code, prog_def_option_code=\"\"):\n",
    "    _program_name = \"temp_nbstata_program_name\"\n",
    "    _options = f\", {prog_def_option_code}\" if prog_def_option_code else \"\"\n",
    "    _program_define_code = (\n",
    "        f\"program {_program_name}{_options}\\n\"\n",
    "        f\"{std_non_prog_code}\\n\"\n",
    "        \"end\\n\"\n",
    "    )\n",
    "    try:\n",
    "        run_direct(_program_define_code, quietly=True)\n",
    "        run_direct(_program_name, quietly=False, inline=True, echo=False)\n",
    "    finally:\n",
    "        run_direct(f\"program drop {_program_name}\", quietly=True)"
   ]
  },
  {
   "cell_type": "code",
   "execution_count": null,
   "id": "703e855d",
   "metadata": {},
   "outputs": [
    {
     "name": "stdout",
     "output_type": "stream",
     "text": [
      "test 1\n",
      "test 2\n"
     ]
    }
   ],
   "source": [
    "#| eval: false\n",
    "run_as_program(two_lines_of_code)"
   ]
  },
  {
   "cell_type": "code",
   "execution_count": null,
   "id": "c59aa4a2",
   "metadata": {},
   "outputs": [
    {
     "name": "stdout",
     "output_type": "stream",
     "text": [
      "test 1\n",
      "test 2\n"
     ]
    }
   ],
   "source": [
    "#| hide\n",
    "#| eval: false\n",
    "run_as_program(two_lines_of_code, \"sclass\")"
   ]
  },
  {
   "cell_type": "markdown",
   "id": "fa3044ce",
   "metadata": {},
   "source": [
    "Not all code can be run within a program without modification, however: \n",
    "1. Programs cannot be defined within another program, nor can python or mata blocks be run.\n",
    "2. A program definition is a different scope for locals, so:\n",
    "    * the program code does not have access to locals defined previously, and\n",
    "    * locals set within the program code do not persist outside of it."
   ]
  },
  {
   "cell_type": "code",
   "execution_count": null,
   "id": "51829023",
   "metadata": {},
   "outputs": [],
   "source": [
    "#| eval: false\n",
    "with ExceptionExpected(SystemError):\n",
    "    run_as_program(\"\"\"\\\n",
    "        program define prog1\n",
    "            disp 1\n",
    "        end\n",
    "        \"\"\")"
   ]
  },
  {
   "cell_type": "code",
   "execution_count": null,
   "id": "ebb5e507",
   "metadata": {},
   "outputs": [
    {
     "name": "stdout",
     "output_type": "stream",
     "text": [
      "1\n"
     ]
    }
   ],
   "source": [
    "#| eval: false\n",
    "run_direct(\"local test1 = 1\")\n",
    "run_direct(\"disp `test1'\")"
   ]
  },
  {
   "cell_type": "code",
   "execution_count": null,
   "id": "d704bb18",
   "metadata": {},
   "outputs": [
    {
     "name": "stdout",
     "output_type": "stream",
     "text": [
      "\n"
     ]
    }
   ],
   "source": [
    "#| eval: false\n",
    "run_as_program(\"\"\"\\\n",
    "    disp `test1'\n",
    "    local test2 = 2\"\"\")"
   ]
  },
  {
   "cell_type": "code",
   "execution_count": null,
   "id": "40d87d37",
   "metadata": {},
   "outputs": [
    {
     "name": "stdout",
     "output_type": "stream",
     "text": [
      "\n",
      ".     disp `test1'\n",
      "1\n",
      "\n",
      ".     disp `test2' \n",
      "\n",
      "\n",
      ". \n"
     ]
    }
   ],
   "source": [
    "#| eval: false\n",
    "run_direct(\"\"\"\\\n",
    "    disp `test1'\n",
    "    disp `test2' \"\"\")"
   ]
  },
  {
   "cell_type": "markdown",
   "id": "f890e04a",
   "metadata": {},
   "source": [
    "## Divert Stata output to string"
   ]
  },
  {
   "cell_type": "markdown",
   "id": "104e167a",
   "metadata": {},
   "source": [
    "The goal here is to get output from some Stata commands without changing the Stata environment. Preserving `r()` return values requires special treatment because the `log on`/`off` commands needed to ensure this output is not logged are themselves r-class. But the input `std_code` may also contain rclass commands. And capturing multi-line Stata output without the commands being echoed poses additional `run_as_program`-related challenges with regard to local variables."
   ]
  },
  {
   "cell_type": "markdown",
   "id": "1fd1e352",
   "metadata": {},
   "source": [
    "To start, we set aside the latter two issues and simply use `run_direct` to run the Stata code. We handle the first issue by running the `log` commands inside an r-class program with [`return add`](https://www.stata.com/help.cgi?return) at the start."
   ]
  },
  {
   "cell_type": "markdown",
   "id": "ae774c40",
   "metadata": {},
   "source": [
    "A custom code `runner` may be specified. This may be useful if, for instance, the input `std_code` needs to access the `r()` results."
   ]
  },
  {
   "cell_type": "code",
   "execution_count": null,
   "id": "1a226b12",
   "metadata": {},
   "outputs": [],
   "source": [
    "#| export\n",
    "def diverted_stata_output(std_code, runner=None):\n",
    "    if runner is None:\n",
    "        runner = functools.partial(run_direct, quietly=False, inline=True, echo=False)\n",
    "    with DivertedPrints() as diverted:\n",
    "        run_as_program(\"return add\\ncapture log off\", prog_def_option_code=\"rclass\")\n",
    "        try:\n",
    "            runner(std_code)\n",
    "        finally:\n",
    "            run_as_program(\"return add\\ncapture log on\", prog_def_option_code=\"rclass\")\n",
    "        out = diverted.getvalue()\n",
    "    return out"
   ]
  },
  {
   "cell_type": "code",
   "execution_count": null,
   "id": "aa86bc1f",
   "metadata": {},
   "outputs": [],
   "source": [
    "from textwrap import dedent"
   ]
  },
  {
   "cell_type": "code",
   "execution_count": null,
   "id": "7ad2b425",
   "metadata": {},
   "outputs": [],
   "source": [
    "#| eval: false\n",
    "two_lines_of_code = dedent('''\\\n",
    "    disp \"test 1\"\n",
    "    disp \"test 2\"\n",
    "    ''')\n",
    "out = diverted_stata_output(two_lines_of_code)"
   ]
  },
  {
   "cell_type": "code",
   "execution_count": null,
   "id": "b084971d",
   "metadata": {},
   "outputs": [
    {
     "name": "stdout",
     "output_type": "stream",
     "text": [
      "\n",
      ". disp \"test 1\"\n",
      "test 1\n",
      "\n",
      ". disp \"test 2\"\n",
      "test 2\n",
      "\n",
      ". \n",
      "\n"
     ]
    }
   ],
   "source": [
    "#| eval: false\n",
    "print(out)"
   ]
  },
  {
   "cell_type": "code",
   "execution_count": null,
   "id": "7af60e01",
   "metadata": {},
   "outputs": [
    {
     "name": "stdout",
     "output_type": "stream",
     "text": [
      "test 1\n",
      "\n"
     ]
    }
   ],
   "source": [
    "#| eval: false\n",
    "print(diverted_stata_output('disp \"test 1\"', run_as_program))"
   ]
  },
  {
   "cell_type": "markdown",
   "id": "5eff1e30",
   "metadata": {},
   "source": [
    "If we know the code we're running is non-program code, we can get a speed improvement by running the `log` code together with the input `std_non_prog_code`."
   ]
  },
  {
   "cell_type": "code",
   "execution_count": null,
   "id": "c5d72fda",
   "metadata": {},
   "outputs": [],
   "source": [
    "#| export\n",
    "def diverted_stata_output_quicker(std_non_prog_code):\n",
    "    with DivertedPrints() as diverted:\n",
    "        code = f\"return add\\ncapture log off\\n{std_non_prog_code}\\ncapture log on\"\"\"\n",
    "        try:\n",
    "            run_as_program(code, prog_def_option_code=\"rclass\")\n",
    "        except SystemError as e:\n",
    "            run_as_rclass_prog(\"return add\\ncapture log on\")\n",
    "            raise(e)\n",
    "        out = diverted.getvalue()\n",
    "    return out"
   ]
  },
  {
   "cell_type": "code",
   "execution_count": null,
   "id": "2cab62d2",
   "metadata": {},
   "outputs": [
    {
     "name": "stdout",
     "output_type": "stream",
     "text": [
      "test 1\n",
      "test 2\n",
      "\n"
     ]
    }
   ],
   "source": [
    "#| eval: false\n",
    "print(diverted_stata_output_quicker(two_lines_of_code))"
   ]
  },
  {
   "cell_type": "code",
   "execution_count": null,
   "id": "f83f5096",
   "metadata": {},
   "outputs": [
    {
     "name": "stdout",
     "output_type": "stream",
     "text": [
      "diverted_stata_output_direct run in 0.3325 seconds\n",
      "diverted_stata_output_quicker run in 0.1559 seconds\n"
     ]
    }
   ],
   "source": [
    "#| eval: false\n",
    "import time\n",
    "tic = time.perf_counter()\n",
    "diverted_stata_output(two_lines_of_code)\n",
    "toc = time.perf_counter()\n",
    "print(f\"diverted_stata_output_direct run in {toc - tic:0.4f} seconds\")\n",
    "tic = time.perf_counter()\n",
    "diverted_stata_output_quicker(two_lines_of_code)\n",
    "toc = time.perf_counter()\n",
    "print(f\"diverted_stata_output_quicker run in {toc - tic:0.4f} seconds\")"
   ]
  },
  {
   "cell_type": "code",
   "execution_count": null,
   "id": "edf70e12",
   "metadata": {},
   "outputs": [
    {
     "name": "stdout",
     "output_type": "stream",
     "text": [
      "diverted_stata_output(run_as_program) run in 0.4741 seconds\n"
     ]
    }
   ],
   "source": [
    "#| hide\n",
    "#| eval: false\n",
    "tic = time.perf_counter()\n",
    "diverted_stata_output(two_lines_of_code, run_as_program)\n",
    "toc = time.perf_counter()\n",
    "print(f\"diverted_stata_output(run_as_program) run in {toc - tic:0.4f} seconds\")"
   ]
  },
  {
   "cell_type": "markdown",
   "id": "3485eb90",
   "metadata": {},
   "source": [
    "## varlist utility"
   ]
  },
  {
   "cell_type": "markdown",
   "id": "c18100d3",
   "metadata": {},
   "source": [
    "Takes a [Stata `varlist`](https://www.stata.com/help.cgi?varlist) and returns a list of full variable names, as required by [sfi.Data.getAsDict()](https://www.stata.com/python/api16/Data.html#sfi.Data.getAsDict). Frames (`strf`) not yet properly supported."
   ]
  },
  {
   "cell_type": "code",
   "execution_count": null,
   "id": "4781df5a",
   "metadata": {},
   "outputs": [],
   "source": [
    "#| export\n",
    "def var_from_varlist(varlist, stfr=None):\n",
    "    if stfr:\n",
    "        var_code = varlist.strip()\n",
    "    else:\n",
    "        _program_name = \"temp_nbstata_varlist_name\"\n",
    "        run_direct(f\"\"\"\\\n",
    "            program define {_program_name}\n",
    "                syntax [varlist(default=none)]\n",
    "                disp \"`varlist'\"\n",
    "            end\n",
    "            \"\"\", quietly=True)\n",
    "        try:\n",
    "            var_code = diverted_stata_output_quicker(f\"\"\"\\\n",
    "                {_program_name} {varlist}\n",
    "                program drop {_program_name}\n",
    "                \"\"\").strip()\n",
    "        except Exception as e:\n",
    "            run_direct(f\"capture program drop {_program_name}\", quietly=True)\n",
    "            raise(e)\n",
    "    return [c.strip() for c in var_code.split() if c] if var_code else None"
   ]
  },
  {
   "cell_type": "code",
   "execution_count": null,
   "id": "599ef01f",
   "metadata": {},
   "outputs": [
    {
     "name": "stdout",
     "output_type": "stream",
     "text": [
      "\n",
      "    Variable |        Obs        Mean    Std. dev.       Min        Max\n",
      "-------------+---------------------------------------------------------\n",
      "        var1 |          5          .4    .5477226          0          1\n",
      "\n",
      "scalars:\n",
      "                  r(N) =  5\n",
      "              r(sum_w) =  5\n",
      "               r(mean) =  .4\n",
      "                r(Var) =  .3\n",
      "                 r(sd) =  .5477225575051662\n",
      "                r(min) =  0\n",
      "                r(max) =  1\n",
      "                r(sum) =  2\n"
     ]
    }
   ],
   "source": [
    "#| hide\n",
    "#| eval: False\n",
    "run_as_program(\"sum\\nreturn list\")"
   ]
  },
  {
   "cell_type": "code",
   "execution_count": null,
   "id": "29f66ae4",
   "metadata": {},
   "outputs": [
    {
     "name": "stdout",
     "output_type": "stream",
     "text": [
      "\n",
      "scalars:\n",
      "                  r(N) =  5\n",
      "              r(sum_w) =  5\n",
      "               r(mean) =  .4\n",
      "                r(Var) =  .3\n",
      "                 r(sd) =  .5477225575051662\n",
      "                r(min) =  0\n",
      "                r(max) =  1\n",
      "                r(sum) =  2\n"
     ]
    }
   ],
   "source": [
    "#| hide\n",
    "#| eval: False\n",
    "run_direct(\"return list\")"
   ]
  },
  {
   "cell_type": "code",
   "execution_count": null,
   "id": "4796c4b6",
   "metadata": {},
   "outputs": [
    {
     "name": "stdout",
     "output_type": "stream",
     "text": [
      "['var1']\n"
     ]
    }
   ],
   "source": [
    "#| eval: False\n",
    "print(var_from_varlist(\"v\", None))"
   ]
  },
  {
   "cell_type": "code",
   "execution_count": null,
   "id": "22f0bf82",
   "metadata": {},
   "outputs": [
    {
     "name": "stdout",
     "output_type": "stream",
     "text": [
      "\n",
      "scalars:\n",
      "                r(sum) =  2\n",
      "                r(max) =  1\n",
      "                r(min) =  0\n",
      "                 r(sd) =  .5477225575051662\n",
      "                r(Var) =  .3\n",
      "               r(mean) =  .4\n",
      "              r(sum_w) =  5\n",
      "                  r(N) =  5\n"
     ]
    }
   ],
   "source": [
    "#| hide\n",
    "#| eval: False\n",
    "run_direct(\"return list\")"
   ]
  },
  {
   "cell_type": "markdown",
   "id": "4578c173",
   "metadata": {},
   "source": [
    "## Get local macro info"
   ]
  },
  {
   "cell_type": "markdown",
   "id": "cc1e6920",
   "metadata": {},
   "source": [
    "https://www.statalist.org/forums/forum/general-stata-discussion/general/1457792-how-to-list-all-locals-and-store-them-in-a-macro"
   ]
  },
  {
   "cell_type": "code",
   "execution_count": null,
   "id": "ce50d33d",
   "metadata": {},
   "outputs": [],
   "source": [
    "#| export\n",
    "def local_names():\n",
    "    run_direct(\"\"\"\\\n",
    "        mata : st_local(\"temp_nbstata_all_locals\", invtokens(st_dir(\"local\", \"macro\", \"*\")'))\n",
    "        \"\"\", quietly=True)\n",
    "    out = get_local('temp_nbstata_all_locals')\n",
    "    set_local('temp_nbstata_all_locals', \"\")\n",
    "    return out.split()"
   ]
  },
  {
   "cell_type": "code",
   "execution_count": null,
   "id": "9e9d81eb",
   "metadata": {},
   "outputs": [],
   "source": [
    "#| hide\n",
    "def _local_names_old():\n",
    "    out = diverted_stata_output(\"\"\"mata : invtokens(st_dir(\"local\", \"macro\", \"*\")')\"\"\")\n",
    "#     run_direct(\"\"\"\\\n",
    "#         mata : st_local(\"temp_nbstata_all_locals\", invtokens(st_dir(\"local\", \"macro\", \"*\")'))\n",
    "#         \"\"\", quietly=True)\n",
    "#     out = get_local('temp_nbstata_all_locals')\n",
    "#     set_local('temp_nbstata_all_locals', \"\")\n",
    "    return out.split()"
   ]
  },
  {
   "cell_type": "code",
   "execution_count": null,
   "id": "ea696f4c",
   "metadata": {},
   "outputs": [
    {
     "name": "stdout",
     "output_type": "stream",
     "text": [
      "new run in 0.0374 seconds\n",
      "old run in 0.3268 seconds\n"
     ]
    }
   ],
   "source": [
    "#| hide\n",
    "#| eval: False\n",
    "import time\n",
    "tic = time.perf_counter()\n",
    "local_names()\n",
    "toc = time.perf_counter()\n",
    "print(f\"new run in {toc - tic:0.4f} seconds\")\n",
    "tic = time.perf_counter()\n",
    "_local_names_old()\n",
    "toc = time.perf_counter()\n",
    "print(f\"old run in {toc - tic:0.4f} seconds\")"
   ]
  },
  {
   "cell_type": "code",
   "execution_count": null,
   "id": "f81f6049",
   "metadata": {},
   "outputs": [],
   "source": [
    "#| eval: False\n",
    "run_direct(\"local test1 = 1 \\n local test2 = 2\", quietly=True)\n",
    "test_eq(set(local_names()), {'test1', 'test2'})"
   ]
  },
  {
   "cell_type": "code",
   "execution_count": null,
   "id": "a618807d",
   "metadata": {},
   "outputs": [],
   "source": [
    "#| export\n",
    "def get_local_dict(_local_names=None):\n",
    "    if _local_names is None:\n",
    "        _local_names = local_names()\n",
    "    return {n: get_local(n) for n in _local_names}"
   ]
  },
  {
   "cell_type": "code",
   "execution_count": null,
   "id": "279d8676",
   "metadata": {},
   "outputs": [],
   "source": [
    "#| eval: False\n",
    "test_eq(get_local_dict(), {'test1': '1', 'test2': '2'})"
   ]
  },
  {
   "cell_type": "code",
   "execution_count": null,
   "id": "023d61bd",
   "metadata": {},
   "outputs": [],
   "source": [
    "#| export\n",
    "def locals_code_from_dict(preexisting_local_dict):\n",
    "    local_defs = (f\"\"\"local {name} `\"{preexisting_local_dict[name]}\"'\"\"\"\n",
    "                  for name in preexisting_local_dict)\n",
    "    return \"\\n\".join(local_defs)"
   ]
  },
  {
   "cell_type": "code",
   "execution_count": null,
   "id": "e1dfdfba",
   "metadata": {},
   "outputs": [
    {
     "name": "stdout",
     "output_type": "stream",
     "text": [
      "local test1 `\"blah\"'\n",
      "local test2 `\"blah blah\"'\n"
     ]
    }
   ],
   "source": [
    "#| hide\n",
    "print(locals_code_from_dict({'test1': 'blah', 'test2': 'blah blah'}))"
   ]
  },
  {
   "cell_type": "code",
   "execution_count": null,
   "id": "d80c03d6",
   "metadata": {},
   "outputs": [],
   "source": [
    "#| hide\n",
    "test_eq(locals_code_from_dict({'test1': 'blah', 'test2': 'blah blah'}),\n",
    "        \"\"\"local test1 `\"blah\"\\'\\nlocal test2 `\"blah blah\"\\'\"\"\")"
   ]
  },
  {
   "cell_type": "code",
   "execution_count": null,
   "id": "9e08ba84",
   "metadata": {},
   "outputs": [
    {
     "name": "stdout",
     "output_type": "stream",
     "text": [
      "local test2 `\"2\"'\n",
      "local test1 `\"1\"'\n"
     ]
    }
   ],
   "source": [
    "#| eval: False\n",
    "print(locals_code_from_dict(get_local_dict()))"
   ]
  },
  {
   "cell_type": "markdown",
   "id": "fdce4810",
   "metadata": {},
   "source": [
    "## Output for kernel.do_inspect()"
   ]
  },
  {
   "cell_type": "code",
   "execution_count": null,
   "id": "3a30220b",
   "metadata": {},
   "outputs": [],
   "source": [
    "#| export\n",
    "def get_inspect(code=\"\", cursor_pos=0, detail_level=0, omit_sections=()):\n",
    "    runner = functools.partial(run_as_program, prog_def_option_code=\"rclass\")\n",
    "    inspect_code = \"\"\"\\\n",
    "        return list\n",
    "        ereturn list\n",
    "        return add\n",
    "        display \"*** Last updated `c(current_time)' `c(current_date)' ***\"\n",
    "        describe, fullnames\n",
    "        \"\"\"\n",
    "    raw_output = diverted_stata_output(inspect_code, runner=runner)\n",
    "    desc_start = raw_output.find('*** Last updated ')\n",
    "    return raw_output[desc_start:] + raw_output[:desc_start]"
   ]
  },
  {
   "cell_type": "code",
   "execution_count": null,
   "id": "512b900e",
   "metadata": {},
   "outputs": [
    {
     "name": "stdout",
     "output_type": "stream",
     "text": [
      "\n",
      "    Variable |        Obs        Mean    Std. dev.       Min        Max\n",
      "-------------+---------------------------------------------------------\n",
      "        var1 |          5          .4    .5477226          0          1\n"
     ]
    }
   ],
   "source": [
    "#| eval: false\n",
    "run_direct('sum')"
   ]
  },
  {
   "cell_type": "code",
   "execution_count": null,
   "id": "f309af8c",
   "metadata": {},
   "outputs": [
    {
     "name": "stdout",
     "output_type": "stream",
     "text": [
      "\n",
      "scalars:\n",
      "                  r(N) =  5\n",
      "              r(sum_w) =  5\n",
      "               r(mean) =  .4\n",
      "                r(Var) =  .3\n",
      "                 r(sd) =  .5477225575051662\n",
      "                r(min) =  0\n",
      "                r(max) =  1\n",
      "                r(sum) =  2\n"
     ]
    }
   ],
   "source": [
    "#| hide\n",
    "#| eval: false\n",
    "run_direct('return list')"
   ]
  },
  {
   "cell_type": "markdown",
   "id": "5b62f62b",
   "metadata": {},
   "source": [
    "The `r()` `return list` values remain unchanged, except that the display order is reversed for some reason--there seems to be no way to avoid that."
   ]
  },
  {
   "cell_type": "code",
   "execution_count": null,
   "id": "04aa748f",
   "metadata": {},
   "outputs": [
    {
     "name": "stdout",
     "output_type": "stream",
     "text": [
      "*** Last updated 10:26:01 13 Jan 2023 ***\n",
      "\n",
      "Contains data\n",
      " Observations:             5                  \n",
      "    Variables:             1                  \n",
      "-------------------------------------------------------------------------------\n",
      "Variable      Storage   Display    Value\n",
      "    name         type    format    label      Variable label\n",
      "-------------------------------------------------------------------------------\n",
      "var1            float   %9.0g                 \n",
      "-------------------------------------------------------------------------------\n",
      "Sorted by: \n",
      "     Note: Dataset has changed since last saved.\n",
      "\n",
      "scalars:\n",
      "                r(sum) =  2\n",
      "                r(max) =  1\n",
      "                r(min) =  0\n",
      "                 r(sd) =  .5477225575051662\n",
      "                r(Var) =  .3\n",
      "               r(mean) =  .4\n",
      "              r(sum_w) =  5\n",
      "                  r(N) =  5\n",
      "\n",
      "--\n",
      "\n",
      "scalars:\n",
      "                r(sum) =  2\n",
      "                r(max) =  1\n",
      "                r(min) =  0\n",
      "                 r(sd) =  .5477225575051662\n",
      "                r(Var) =  .3\n",
      "               r(mean) =  .4\n",
      "              r(sum_w) =  5\n",
      "                  r(N) =  5\n"
     ]
    }
   ],
   "source": [
    "#| eval: false\n",
    "print(get_inspect())\n",
    "print(\"--\")\n",
    "run_direct('return list')"
   ]
  },
  {
   "cell_type": "code",
   "execution_count": null,
   "id": "1c6dd777",
   "metadata": {},
   "outputs": [],
   "source": [
    "#| hide\n",
    "import nbdev; nbdev.nbdev_export()"
   ]
  }
 ],
 "metadata": {
  "kernelspec": {
   "display_name": "Python 3 (ipykernel)",
   "language": "python",
   "name": "python3"
  }
 },
 "nbformat": 4,
 "nbformat_minor": 5
}
