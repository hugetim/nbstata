{
 "cells": [
  {
   "cell_type": "markdown",
   "id": "2c184729",
   "metadata": {},
   "source": [
    "# stata_more\n",
    "\n",
    "> Helper functions that expand on `pystata`/`sfi` functionality\n",
    "- order: 3"
   ]
  },
  {
   "cell_type": "markdown",
   "id": "cc7becc9",
   "metadata": {},
   "source": [
    "For a diagram of the how the principal nbstata modules depend on this one, [click here](https://hugetim.github.io/nbstata/dev_docs_index.html)."
   ]
  },
  {
   "cell_type": "code",
   "execution_count": null,
   "id": "c7fb586a",
   "metadata": {},
   "outputs": [],
   "source": [
    "#| default_exp stata_more\n",
    "%load_ext autoreload\n",
    "%autoreload 2"
   ]
  },
  {
   "cell_type": "code",
   "execution_count": null,
   "id": "026b00b7",
   "metadata": {},
   "outputs": [],
   "source": [
    "#| hide\n",
    "from nbdev.showdoc import *"
   ]
  },
  {
   "cell_type": "code",
   "execution_count": null,
   "id": "4b35edd5",
   "metadata": {},
   "outputs": [],
   "source": [
    "#| export\n",
    "from nbstata.misc_utils import print_red\n",
    "from nbstata.stata import run_direct, run_single, get_local, set_local, drop_var, stata_formatted\n",
    "from textwrap import dedent\n",
    "import functools\n",
    "from contextlib import redirect_stdout\n",
    "from io import StringIO\n",
    "import re"
   ]
  },
  {
   "cell_type": "code",
   "execution_count": null,
   "id": "21aadf85",
   "metadata": {},
   "outputs": [],
   "source": [
    "#| hide\n",
    "#| eval: false\n",
    "from nbstata.misc_utils import Timer\n",
    "from nbstata.config import launch_stata"
   ]
  },
  {
   "cell_type": "code",
   "execution_count": null,
   "id": "fc8944c8",
   "metadata": {},
   "outputs": [],
   "source": [
    "#| hide\n",
    "#| eval: false\n",
    "launch_stata(splash=False)"
   ]
  },
  {
   "cell_type": "markdown",
   "id": "b622c378",
   "metadata": {},
   "source": [
    "## Simple Helpers"
   ]
  },
  {
   "cell_type": "code",
   "execution_count": null,
   "id": "79f90aad",
   "metadata": {},
   "outputs": [],
   "source": [
    "#| export\n",
    "def run_direct_cleaned(cmds, quietly=False, echo=False, inline=True):\n",
    "    if quietly:\n",
    "        with redirect_stdout(StringIO()) as diverted: # to prevent blank line output, as with `program define`\n",
    "            out = run_direct(cmds, quietly, echo, inline)\n",
    "            prints = diverted.getvalue()\n",
    "        for line in prints.splitlines():\n",
    "            if line.strip():\n",
    "                print(line)\n",
    "        return out\n",
    "    elif len(cmds.splitlines()) > 1:\n",
    "        with redirect_stdout(StringIO()) as diverted:\n",
    "            run_direct(cmds, quietly, echo, inline)\n",
    "            output_lines = diverted.getvalue().splitlines()\n",
    "        if (len(output_lines) >= 2 \n",
    "            and not output_lines[0].strip() \n",
    "            and \"\\n\".join(output_lines[-2:]).strip() == \".\"):\n",
    "            print(\"\\n\".join(output_lines[1:-2]))\n",
    "        else:\n",
    "            print(\"\\n\".join(output_lines))\n",
    "    else:\n",
    "        return run_direct(cmds, quietly, echo, inline)"
   ]
  },
  {
   "cell_type": "markdown",
   "id": "41d25ea7",
   "metadata": {},
   "source": [
    "`run_direct_cleaned` is a `run_direct`/`pystata.stata.run` wrapper function that removes extraneous blank lines from the output."
   ]
  },
  {
   "cell_type": "markdown",
   "id": "517eb526",
   "metadata": {},
   "source": [
    "When given multi-line Stata code, `run_direct` outputs an extra blank line at the start and two extra lines at the end:"
   ]
  },
  {
   "cell_type": "code",
   "execution_count": null,
   "id": "77268cd8",
   "metadata": {},
   "outputs": [
    {
     "name": "stdout",
     "output_type": "stream",
     "text": [
      ". disp 1\n",
      "1\n"
     ]
    }
   ],
   "source": [
    "#| eval: False\n",
    "run_direct(\"\"\"\\\n",
    "disp 1\"\"\", echo=True) # single-line Stata code"
   ]
  },
  {
   "cell_type": "code",
   "execution_count": null,
   "id": "d1a2c35b",
   "metadata": {},
   "outputs": [
    {
     "name": "stdout",
     "output_type": "stream",
     "text": [
      "\n",
      ". disp 1\n",
      "1\n",
      "\n",
      ". disp 2\n",
      "2\n",
      "\n",
      ". \n"
     ]
    }
   ],
   "source": [
    "#| eval: False\n",
    "run_direct(\"\"\"\\\n",
    "disp 1\n",
    "disp 2\"\"\", echo=True) # multi-line Stata code"
   ]
  },
  {
   "cell_type": "markdown",
   "id": "23f3c302",
   "metadata": {},
   "source": [
    "We can clean it up like this:"
   ]
  },
  {
   "cell_type": "code",
   "execution_count": null,
   "id": "7f87219b",
   "metadata": {},
   "outputs": [
    {
     "name": "stdout",
     "output_type": "stream",
     "text": [
      ". disp 1\n",
      "1\n",
      "\n",
      ". disp 2\n",
      "2\n"
     ]
    }
   ],
   "source": [
    "#| eval: False\n",
    "with redirect_stdout(StringIO()) as diverted:\n",
    "    run_direct(dedent(\"\"\"\\\n",
    "        disp 1\n",
    "        disp 2\"\"\"))\n",
    "    output = diverted.getvalue()\n",
    "print(\"\\n\".join(output.splitlines()[1:-2]))"
   ]
  },
  {
   "cell_type": "code",
   "execution_count": null,
   "id": "e2260b0f",
   "metadata": {},
   "outputs": [
    {
     "name": "stdout",
     "output_type": "stream",
     "text": [
      ". disp 1\n",
      "1\n",
      "\n",
      ". disp 2\n",
      "2\n"
     ]
    }
   ],
   "source": [
    "#| eval: False\n",
    "run_direct_cleaned(\"\"\"\\\n",
    "disp 1\n",
    "disp 2\"\"\", echo=True)"
   ]
  },
  {
   "cell_type": "code",
   "execution_count": null,
   "id": "4ad19471",
   "metadata": {},
   "outputs": [
    {
     "name": "stdout",
     "output_type": "stream",
     "text": [
      ". disp 1\n",
      "1\n",
      "\n",
      ". disp 2\n",
      "2\n"
     ]
    }
   ],
   "source": [
    "#| hide\n",
    "#| eval: False\n",
    "run_direct_cleaned(\"\"\"\\\n",
    "disp 1\n",
    "disp 2\"\"\", echo=False)"
   ]
  },
  {
   "cell_type": "code",
   "execution_count": null,
   "id": "ae387622",
   "metadata": {},
   "outputs": [
    {
     "name": "stdout",
     "output_type": "stream",
     "text": [
      ". quietly {\n"
     ]
    }
   ],
   "source": [
    "#| hide\n",
    "#| eval: False\n",
    "run_direct_cleaned(\"\"\"\\\n",
    "quietly {\n",
    "    disp 2\n",
    "}\"\"\", echo=False)"
   ]
  },
  {
   "cell_type": "code",
   "execution_count": null,
   "id": "7b375dbe",
   "metadata": {},
   "outputs": [
    {
     "name": "stdout",
     "output_type": "stream",
     "text": [
      ". python:\n",
      "----------------------------------------------- python (type end to exit) -----\n",
      ">>> print(\"hello\")\n",
      "hello\n",
      ">>> end\n",
      "-------------------------------------------------------------------------------\n"
     ]
    }
   ],
   "source": [
    "#| hide\n",
    "#| eval: False\n",
    "run_direct_cleaned(dedent('''\\\n",
    "    python:\n",
    "    print(\"hello\")\n",
    "    end\n",
    "    '''), echo=False)"
   ]
  },
  {
   "cell_type": "markdown",
   "id": "3257de50",
   "metadata": {},
   "source": [
    "`run_direct_cleaned` also removes the blank line output by `run_direct` with `quietly=True`"
   ]
  },
  {
   "cell_type": "code",
   "execution_count": null,
   "id": "5069eccf",
   "metadata": {},
   "outputs": [
    {
     "name": "stdout",
     "output_type": "stream",
     "text": [
      "\n"
     ]
    }
   ],
   "source": [
    "#| eval: False\n",
    "prog_code = \"program define _temp_prog \\n disp 1 \\n end\"\n",
    "run_direct(prog_code, quietly=True)"
   ]
  },
  {
   "cell_type": "code",
   "execution_count": null,
   "id": "d8233e0f",
   "metadata": {},
   "outputs": [],
   "source": [
    "#| eval: False\n",
    "run_direct(\"capture program drop _temp_prog\", quietly=True)\n",
    "run_direct_cleaned(prog_code, quietly=True)"
   ]
  },
  {
   "cell_type": "code",
   "execution_count": null,
   "id": "a7b6edf5",
   "metadata": {},
   "outputs": [],
   "source": [
    "#| hide\n",
    "#| eval: False\n",
    "code = dedent('''\\\n",
    "    python:\n",
    "    do_nothin = 3\n",
    "    end\n",
    "    ''')\n",
    "run_direct_cleaned(code, quietly=True)"
   ]
  },
  {
   "cell_type": "markdown",
   "id": "66e02d03",
   "metadata": {},
   "source": [
    "#| hide\n",
    "- But it does pass on any non-blank output by `run_direct` with `quietly=True`"
   ]
  },
  {
   "cell_type": "code",
   "execution_count": null,
   "id": "0ef3ec2e",
   "metadata": {},
   "outputs": [
    {
     "name": "stdout",
     "output_type": "stream",
     "text": [
      "hello\n"
     ]
    }
   ],
   "source": [
    "#| hide\n",
    "#| eval: False\n",
    "code = dedent('''\\\n",
    "    python:\n",
    "    print(\"hello\")\n",
    "    end\n",
    "    ''')\n",
    "run_direct_cleaned(code, quietly=True)"
   ]
  },
  {
   "cell_type": "markdown",
   "id": "5824a58d",
   "metadata": {},
   "source": [
    "Note however that `run_direct_cleaned` delays text output until the code finishes running:"
   ]
  },
  {
   "cell_type": "code",
   "execution_count": null,
   "id": "c8ac57b9",
   "metadata": {},
   "outputs": [
    {
     "name": "stdout",
     "output_type": "stream",
     "text": [
      "1\n",
      "2\n",
      "\n",
      "1\n",
      "2\n"
     ]
    }
   ],
   "source": [
    "#| eval: False\n",
    "code = dedent('''\\\n",
    "    python:\n",
    "    import time\n",
    "    print(1)\n",
    "    time.sleep(1)\n",
    "    print(2)\n",
    "    end\n",
    "    ''')\n",
    "run_direct(code, quietly=True)\n",
    "run_direct_cleaned(code, quietly=True)"
   ]
  },
  {
   "cell_type": "markdown",
   "id": "8dc90cca",
   "metadata": {},
   "source": [
    "`run_direct_cleaned` may also misalign text output relative to graph output:"
   ]
  },
  {
   "cell_type": "code",
   "execution_count": null,
   "id": "1ede5ddb",
   "metadata": {},
   "outputs": [
    {
     "data": {
      "image/svg+xml": [
       "<svg xmlns=\"http://www.w3.org/2000/svg\" xmlns:xlink=\"http://www.w3.org/1999/xlink\" version=\"1.1\" width=\"7.500in\" height=\"4.500in\" viewBox=\"0 0 5400 3240\">\n",
       "\t<desc>Stata Graph - Graph</desc>\n",
       "\t<rect x=\"0\" y=\"0\" width=\"5400\" height=\"3240\" style=\"fill:#FFFFFF;stroke:none\"/>\n",
       "\t<rect x=\"0.00\" y=\"0.00\" width=\"5400.00\" height=\"3240.00\" style=\"fill:#FFFFFF\"/>\n",
       "\t<rect x=\"3.24\" y=\"3.24\" width=\"5393.52\" height=\"3233.52\" style=\"fill:none;stroke:#FFFFFF;stroke-opacity:0.00;stroke-width:6.48\"/>\n",
       "\t<rect x=\"180.90\" y=\"309.82\" width=\"5105.70\" height=\"2620.35\" style=\"fill:#FFFFFF\"/>\n",
       "\t<rect x=\"184.14\" y=\"313.06\" width=\"5099.22\" height=\"2613.87\" style=\"fill:none;stroke:#FFFFFF;stroke-width:6.48\"/>\n",
       "\t<circle cx=\"1284.19\" cy=\"690.86\" r=\"53.46\" style=\"fill:#1A85FF\"/>\n",
       "\t<circle cx=\"1284.19\" cy=\"690.86\" r=\"48.60\" style=\"fill:none;stroke:#1A85FF;stroke-width:9.72\"/>\n",
       "\t<text x=\"1429.99\" y=\"736.26\" style=\"font-family:'Helvetica';font-size:129.60px;fill:#1A85ff\">O</text>\n",
       "\t<circle cx=\"2266.99\" cy=\"690.86\" r=\"48.60\" style=\"fill:none;stroke:#1A85FF;stroke-width:9.72\"/>\n",
       "\t<text x=\"2412.79\" y=\"736.26\" style=\"font-family:'Helvetica';font-size:129.60px;fill:#1A85ff\">Oh</text>\n",
       "\t<circle cx=\"3249.79\" cy=\"690.86\" r=\"39.28\" style=\"fill:#1A85FF\"/>\n",
       "\t<circle cx=\"3249.79\" cy=\"690.86\" r=\"34.42\" style=\"fill:none;stroke:#1A85FF;stroke-width:9.72\"/>\n",
       "\t<text x=\"3395.59\" y=\"736.26\" style=\"font-family:'Helvetica';font-size:129.60px;fill:#1A85ff\">o</text>\n",
       "\t<circle cx=\"4232.59\" cy=\"690.86\" r=\"34.42\" style=\"fill:none;stroke:#1A85FF;stroke-width:9.72\"/>\n",
       "\t<text x=\"4378.39\" y=\"736.26\" style=\"font-family:'Helvetica';font-size:129.60px;fill:#1A85ff\">oh</text>\n",
       "\t<polygon points=\"1208.63,1000.52 1284.19,924.96 1359.74,1000.52 1284.19,1076.07\" style=\"fill:#1A85FF\"/>\n",
       "\t<polygon points=\"1215.51,1000.52 1284.19,931.84 1352.87,1000.52 1284.19,1069.20\" style=\"fill:none;stroke:#1A85FF;stroke-width:9.72\"/>\n",
       "\t<text x=\"1429.99\" y=\"1045.92\" style=\"font-family:'Helvetica';font-size:129.60px;fill:#1A85ff\">D</text>\n",
       "\t<polygon points=\"2198.31,1000.52 2266.99,931.84 2335.67,1000.52 2266.99,1069.20\" style=\"fill:none;stroke:#1A85FF;stroke-width:9.72\"/>\n",
       "\t<text x=\"2412.79\" y=\"1045.92\" style=\"font-family:'Helvetica';font-size:129.60px;fill:#1A85ff\">Dh</text>\n",
       "\t<polygon points=\"3194.31,1000.52 3249.79,945.05 3305.26,1000.52 3249.79,1055.99\" style=\"fill:#1A85FF\"/>\n",
       "\t<polygon points=\"3201.19,1000.52 3249.79,951.92 3298.39,1000.52 3249.79,1049.12\" style=\"fill:none;stroke:#1A85FF;stroke-width:9.72\"/>\n",
       "\t<text x=\"3395.59\" y=\"1045.92\" style=\"font-family:'Helvetica';font-size:129.60px;fill:#1A85ff\">d</text>\n",
       "\t<polygon points=\"4183.99,1000.52 4232.59,951.92 4281.19,1000.52 4232.59,1049.12\" style=\"fill:none;stroke:#1A85FF;stroke-width:9.72\"/>\n",
       "\t<text x=\"4378.39\" y=\"1045.92\" style=\"font-family:'Helvetica';font-size:129.60px;fill:#1A85ff\">dh</text>\n",
       "\t<polygon points=\"1284.19,1235.82 1219.65,1347.60 1348.72,1347.60\" style=\"fill:#1A85FF\"/>\n",
       "\t<polygon points=\"1284.19,1245.54 1228.07,1342.74 1340.31,1342.74\" style=\"fill:none;stroke:#1A85FF;stroke-width:9.72\"/>\n",
       "\t<text x=\"1429.99\" y=\"1355.75\" style=\"font-family:'Helvetica';font-size:129.60px;fill:#1A85ff\">T</text>\n",
       "\t<polygon points=\"2266.99,1245.54 2210.87,1342.74 2323.11,1342.74\" style=\"fill:none;stroke:#1A85FF;stroke-width:9.72\"/>\n",
       "\t<text x=\"2412.79\" y=\"1355.75\" style=\"font-family:'Helvetica';font-size:129.60px;fill:#1A85ff\">Th</text>\n",
       "\t<polygon points=\"3249.79,1252.02 3199.28,1339.50 3300.29,1339.50\" style=\"fill:#1A85FF\"/>\n",
       "\t<polygon points=\"3249.79,1261.74 3207.70,1334.64 3291.88,1334.64\" style=\"fill:none;stroke:#1A85FF;stroke-width:9.72\"/>\n",
       "\t<text x=\"3395.59\" y=\"1355.75\" style=\"font-family:'Helvetica';font-size:129.60px;fill:#1A85ff\">t</text>\n",
       "\t<polygon points=\"4232.59,1261.74 4190.50,1334.64 4274.68,1334.64\" style=\"fill:none;stroke:#1A85FF;stroke-width:9.72\"/>\n",
       "\t<text x=\"4378.39\" y=\"1355.75\" style=\"font-family:'Helvetica';font-size:129.60px;fill:#1A85ff\">th</text>\n",
       "\t<rect x=\"1230.73\" y=\"1566.54\" width=\"106.92\" height=\"106.92\" style=\"fill:#1A85FF\"/>\n",
       "\t<rect x=\"1235.59\" y=\"1571.40\" width=\"97.20\" height=\"97.20\" style=\"fill:none;stroke:#1A85FF;stroke-width:9.72\"/>\n",
       "\t<text x=\"1429.99\" y=\"1665.40\" style=\"font-family:'Helvetica';font-size:129.60px;fill:#1A85ff\">S</text>\n",
       "\t<rect x=\"2218.39\" y=\"1571.40\" width=\"97.20\" height=\"97.20\" style=\"fill:none;stroke:#1A85FF;stroke-width:9.72\"/>\n",
       "\t<text x=\"2412.79\" y=\"1665.40\" style=\"font-family:'Helvetica';font-size:129.60px;fill:#1A85ff\">Sh</text>\n",
       "\t<rect x=\"3210.50\" y=\"1580.72\" width=\"78.57\" height=\"78.57\" style=\"fill:#1A85FF\"/>\n",
       "\t<rect x=\"3215.36\" y=\"1585.58\" width=\"68.85\" height=\"68.85\" style=\"fill:none;stroke:#1A85FF;stroke-width:9.72\"/>\n",
       "\t<text x=\"3395.59\" y=\"1665.40\" style=\"font-family:'Helvetica';font-size:129.60px;fill:#1A85ff\">s</text>\n",
       "\t<rect x=\"4198.16\" y=\"1585.58\" width=\"68.85\" height=\"68.85\" style=\"fill:none;stroke:#1A85FF;stroke-width:9.72\"/>\n",
       "\t<text x=\"4378.39\" y=\"1665.40\" style=\"font-family:'Helvetica';font-size:129.60px;fill:#1A85ff\">sh</text>\n",
       "\t<line x1=\"1235.59\" y1=\"1929.83\" x2=\"1332.79\" y2=\"1929.83\" stroke-linecap=\"round\" style=\"fill:none;stroke:#1A85FF;stroke-width:9.72\"/>\n",
       "\t<line x1=\"1284.19\" y1=\"1978.43\" x2=\"1284.19\" y2=\"1881.23\" stroke-linecap=\"round\" style=\"fill:none;stroke:#1A85FF;stroke-width:9.72\"/>\n",
       "\t<text x=\"1429.99\" y=\"1975.23\" style=\"font-family:'Helvetica';font-size:129.60px;fill:#1A85ff\">+</text>\n",
       "\t<line x1=\"2232.56\" y1=\"1929.83\" x2=\"2301.41\" y2=\"1929.83\" stroke-linecap=\"round\" style=\"fill:none;stroke:#1A85FF;stroke-width:9.72\"/>\n",
       "\t<line x1=\"2266.99\" y1=\"1964.25\" x2=\"2266.99\" y2=\"1895.40\" stroke-linecap=\"round\" style=\"fill:none;stroke:#1A85FF;stroke-width:9.72\"/>\n",
       "\t<text x=\"2412.79\" y=\"1975.23\" style=\"font-family:'Helvetica';font-size:129.60px;fill:#1A85ff\">smplus</text>\n",
       "\t<line x1=\"3215.42\" y1=\"1964.19\" x2=\"3284.15\" y2=\"1895.46\" stroke-linecap=\"round\" style=\"fill:none;stroke:#1A85FF;stroke-width:9.72\"/>\n",
       "\t<line x1=\"3284.15\" y1=\"1964.19\" x2=\"3215.42\" y2=\"1895.46\" stroke-linecap=\"round\" style=\"fill:none;stroke:#1A85FF;stroke-width:9.72\"/>\n",
       "\t<text x=\"3395.59\" y=\"1975.23\" style=\"font-family:'Helvetica';font-size:129.60px;fill:#1A85ff\">X</text>\n",
       "\t<line x1=\"4208.25\" y1=\"1954.17\" x2=\"4256.93\" y2=\"1905.48\" stroke-linecap=\"round\" style=\"fill:none;stroke:#1A85FF;stroke-width:9.72\"/>\n",
       "\t<line x1=\"4256.93\" y1=\"1954.17\" x2=\"4208.25\" y2=\"1905.48\" stroke-linecap=\"round\" style=\"fill:none;stroke:#1A85FF;stroke-width:9.72\"/>\n",
       "\t<text x=\"4378.39\" y=\"1975.23\" style=\"font-family:'Helvetica';font-size:129.60px;fill:#1A85ff\">x</text>\n",
       "\t<path d=\"M1259.89 2239.48 L1284.19 2190.88 L1308.49 2239.48 Z M1284.19 2239.48 L1284.19 2288.08\" style=\"fill:#1A85FF;stroke:#1A85FF;stroke-width:9.72\"/>\n",
       "\t<text x=\"1429.99\" y=\"2284.88\" style=\"font-family:'Helvetica';font-size:129.60px;fill:#1A85ff\">A</text>\n",
       "\t<path d=\"M2234.59 2239.48 L2266.99 2190.88 L2299.39 2239.48 M2266.99 2190.88 L2266.99 2288.08\" stroke-linecap=\"round\" stroke-linejoin=\"round\" style=\"fill:none;stroke:#1A85FF;stroke-width:9.72\"/>\n",
       "\t<text x=\"2412.79\" y=\"2284.88\" style=\"font-family:'Helvetica';font-size:129.60px;fill:#1A85ff\">a</text>\n",
       "\t<path d=\"M3193.67 2174.68 L3249.79 2271.88 L3305.91 2174.68\" style=\"fill:none;stroke:#1A85FF;stroke-width:9.72\"/>\n",
       "\t<text x=\"3395.59\" y=\"2284.88\" style=\"font-family:'Helvetica';font-size:129.60px;fill:#1A85ff\">V</text>\n",
       "\t<path d=\"M4190.50 2190.88 L4232.59 2263.78 L4274.68 2190.88\" style=\"fill:none;stroke:#1A85FF;stroke-width:9.72\"/>\n",
       "\t<text x=\"4378.39\" y=\"2284.88\" style=\"font-family:'Helvetica';font-size:129.60px;fill:#1A85ff\">v</text>\n",
       "\t<line x1=\"1284.19\" y1=\"2597.91\" x2=\"1284.19\" y2=\"2500.71\" stroke-linecap=\"round\" style=\"fill:none;stroke:#1A85FF;stroke-width:9.72\"/>\n",
       "\t<text x=\"1429.99\" y=\"2594.71\" style=\"font-family:'Helvetica';font-size:129.60px;fill:#1A85ff\">|</text>\n",
       "\t<circle cx=\"2266.99\" cy=\"2549.31\" r=\"1.00\" style=\"fill:#1A85FF;stroke:none\"/>\n",
       "\t<text x=\"2412.79\" y=\"2594.71\" style=\"font-family:'Helvetica';font-size:129.60px;fill:#1A85ff\">p</text>\n",
       "\t<line x1=\"180.90\" y1=\"2930.18\" x2=\"180.90\" y2=\"309.82\" style=\"stroke:#000000;stroke-width:6.48\"/>\n",
       "\t<line x1=\"180.90\" y1=\"2930.18\" x2=\"5286.60\" y2=\"2930.18\" style=\"stroke:#000000;stroke-width:6.48\"/>\n",
       "\t<text x=\"200.31\" y=\"3080.13\" style=\"font-family:'Helvetica';font-size:89.94px;fill:#000000\">(symbols shown at larger than default size)</text>\n",
       "\t<text x=\"2733.75\" y=\"243.10\" style=\"font-family:'Helvetica';font-size:157.44px;fill:#000000\" text-anchor=\"middle\">Symbol palette</text>\n",
       "</svg>"
      ],
      "text/plain": [
       "<IPython.core.display.SVG object>"
      ]
     },
     "metadata": {},
     "output_type": "display_data"
    },
    {
     "name": "stdout",
     "output_type": "stream",
     "text": [
      ". disp \"the problem arises with multi-line Stata code\"\n",
      "the problem arises with multi-line Stata code\n",
      "\n",
      ". palette symbolpalette\n"
     ]
    }
   ],
   "source": [
    "#| eval: False\n",
    "run_direct_cleaned(dedent('''\\\n",
    "    disp \"the problem arises with multi-line Stata code\"\n",
    "    palette symbolpalette'''), echo=True)"
   ]
  },
  {
   "cell_type": "markdown",
   "id": "00188ba2",
   "metadata": {},
   "source": [
    "`run_sfi` should only be used for standardized code in which each line is a command suitable for the `sfi.SFIToolkit.stata` function. For such code, it provides much faster execution (with a `noecho` option). But it shares the limitations of `run_single`."
   ]
  },
  {
   "cell_type": "code",
   "execution_count": null,
   "id": "74799d8d",
   "metadata": {},
   "outputs": [],
   "source": [
    "#| export\n",
    "def run_sfi(std_code, echo=False, show_exc_warning=True):\n",
    "    import sfi\n",
    "    cmds = std_code.splitlines()\n",
    "    for i, cmd in enumerate(cmds):\n",
    "        try:\n",
    "            sfi.SFIToolkit.stata(cmd, echo)\n",
    "        except Exception as e:\n",
    "            if show_exc_warning:\n",
    "                print_red(f\"run_sfi (sfi.SFIToolkit.stata) error: {repr(e)}\")\n",
    "            remaining_code = \"\\n\".join(cmds[i:])\n",
    "            run_direct(remaining_code, echo=echo)\n",
    "            break"
   ]
  },
  {
   "cell_type": "code",
   "execution_count": null,
   "id": "b6044d98",
   "metadata": {},
   "outputs": [
    {
     "name": "stdout",
     "output_type": "stream",
     "text": [
      "\n",
      "Contains data\n",
      " Observations:             5                  \n",
      "    Variables:             1                  \n",
      "-------------------------------------------------------------------------------\n",
      "Variable      Storage   Display    Value\n",
      "    name         type    format    label      Variable label\n",
      "-------------------------------------------------------------------------------\n",
      "var1            float   %9.0g                 \n",
      "-------------------------------------------------------------------------------\n",
      "Sorted by: \n",
      "     Note: Dataset has changed since last saved.\n"
     ]
    }
   ],
   "source": [
    "#| eval: false\n",
    "run_sfi(\"\"\"\\\n",
    "quietly set obs 5\n",
    "quietly gen var1 = _n > 3\n",
    "desc\"\"\")"
   ]
  },
  {
   "cell_type": "code",
   "execution_count": null,
   "id": "88842fa8",
   "metadata": {},
   "outputs": [],
   "source": [
    "#| hide\n",
    "from fastcore.test import test_eq, ExceptionExpected"
   ]
  },
  {
   "cell_type": "code",
   "execution_count": null,
   "id": "522e8079",
   "metadata": {},
   "outputs": [
    {
     "name": "stdout",
     "output_type": "stream",
     "text": [
      "\u001b[31mrun_sfi (sfi.SFIToolkit.stata) error: SyntaxError('failed to execute the specified Stata command')\u001b[0m\n"
     ]
    }
   ],
   "source": [
    "#| hide\n",
    "#| eval: false\n",
    "with ExceptionExpected(ex=SystemError):\n",
    "    run_sfi(dedent(\"\"\"\\\n",
    "        dip 1\n",
    "        disp 2\"\"\"))"
   ]
  },
  {
   "cell_type": "code",
   "execution_count": null,
   "id": "0fdb97b1",
   "metadata": {},
   "outputs": [
    {
     "name": "stdout",
     "output_type": "stream",
     "text": [
      "1\n",
      "2\n"
     ]
    }
   ],
   "source": [
    "#| hide\n",
    "#| eval: false\n",
    "run_sfi(dedent(\"\"\"\\\n",
    "    disp 1\n",
    "    disp 2\"\"\"))"
   ]
  },
  {
   "cell_type": "code",
   "execution_count": null,
   "id": "e545a82a",
   "metadata": {},
   "outputs": [],
   "source": [
    "#| export\n",
    "class SelectVar():\n",
    "    \"\"\"Class for generating Stata select_var for getAsDict\"\"\"\n",
    "    varname = None\n",
    "    \n",
    "    def __init__(self, stata_if_code):\n",
    "        import sfi\n",
    "        condition = stata_if_code.replace('if ', '', 1).strip()\n",
    "        if condition:\n",
    "            self.varname = sfi.SFIToolkit.getTempName()\n",
    "            cmd = f\"quietly gen {self.varname} = cond({condition},1,0)\"\n",
    "            run_single(cmd, show_exc_warning=False)\n",
    "\n",
    "    def clear(self):\n",
    "        \"\"\"Remove temporary select_var from Stata dataset\"\"\"\n",
    "        if self.varname:\n",
    "            drop_var(self.varname)\n",
    "            \n",
    "    def __enter__(self):\n",
    "        return self.varname\n",
    "    \n",
    "    def __exit__(self, exc_type, exc_value, exc_tb):\n",
    "        self.clear()"
   ]
  },
  {
   "cell_type": "markdown",
   "id": "3d343d3b",
   "metadata": {},
   "source": [
    "`Selectvar.varname` is a temporary Stata variable for use in `sfi.Data.getAsDict`"
   ]
  },
  {
   "cell_type": "code",
   "execution_count": null,
   "id": "4762f9de",
   "metadata": {},
   "outputs": [
    {
     "name": "stdout",
     "output_type": "stream",
     "text": [
      "varname: __000000\n",
      "\n",
      "       var1   __000000  \n",
      "  1.      0          1  \n",
      "  2.      0          1  \n",
      "  3.      0          1  \n",
      "  4.      1          0  \n",
      "  5.      1          0  \n",
      "var1\n"
     ]
    }
   ],
   "source": [
    "#| eval: false\n",
    "with SelectVar(\" if var1==0\") as sel_varname:\n",
    "    print(f\"varname: {sel_varname}\")\n",
    "    run_single(\"list, clean\")\n",
    "run_single(\"desc, simple\")"
   ]
  },
  {
   "cell_type": "code",
   "execution_count": null,
   "id": "71889c69",
   "metadata": {},
   "outputs": [],
   "source": [
    "#| export\n",
    "class IndexVar:\n",
    "    \"\"\"Class for generating Stata index var for use with pandas\"\"\"\n",
    "    def __enter__(self):\n",
    "        import sfi\n",
    "        self.idx_var = sfi.SFIToolkit.getTempName()\n",
    "        run_single(f\"gen {self.idx_var} = _n\", show_exc_warning=False)\n",
    "        return self.idx_var\n",
    "    \n",
    "    def __exit__(self, exc_type, exc_value, exc_tb):\n",
    "        drop_var(self.idx_var)"
   ]
  },
  {
   "cell_type": "code",
   "execution_count": null,
   "id": "2be1139e",
   "metadata": {},
   "outputs": [
    {
     "name": "stdout",
     "output_type": "stream",
     "text": [
      "var1      __000001\n",
      "var1\n",
      "Elapsed time: 0.0009 seconds\n"
     ]
    }
   ],
   "source": [
    "#| eval: False\n",
    "with Timer():\n",
    "    with IndexVar() as idx_var:\n",
    "        run_single(\"desc, simple\")\n",
    "    run_single(\"desc, simple\")"
   ]
  },
  {
   "cell_type": "code",
   "execution_count": null,
   "id": "b48400f7",
   "metadata": {},
   "outputs": [],
   "source": [
    "#| hide\n",
    "#| eval: false\n",
    "import sfi"
   ]
  },
  {
   "cell_type": "code",
   "execution_count": null,
   "id": "439ac36d",
   "metadata": {},
   "outputs": [
    {
     "data": {
      "text/plain": [
       "'__000002'"
      ]
     },
     "execution_count": null,
     "metadata": {},
     "output_type": "execute_result"
    }
   ],
   "source": [
    "#| hide\n",
    "#| eval: false\n",
    "test = sfi.SFIToolkit.getTempName()\n",
    "test"
   ]
  },
  {
   "cell_type": "markdown",
   "id": "b696a14f",
   "metadata": {},
   "source": [
    "## Run commands as a Stata program"
   ]
  },
  {
   "cell_type": "markdown",
   "id": "7f47df15",
   "metadata": {},
   "source": [
    "The original motivation for adding this functionality is that `run_direct`/`pystata.stata.run` can only suppress the \"echo\" of single commands, not multi-line Stata code:"
   ]
  },
  {
   "cell_type": "code",
   "execution_count": null,
   "id": "0c1295e5",
   "metadata": {},
   "outputs": [
    {
     "name": "stdout",
     "output_type": "stream",
     "text": [
      "test 1\n"
     ]
    }
   ],
   "source": [
    "#| eval: false\n",
    "run_direct('disp \"test 1\"', echo=False)"
   ]
  },
  {
   "cell_type": "code",
   "execution_count": null,
   "id": "2d84d303",
   "metadata": {},
   "outputs": [
    {
     "name": "stdout",
     "output_type": "stream",
     "text": [
      "\n",
      ". disp \"test 1\"\n",
      "test 1\n",
      "\n",
      ". disp \"test 2\"\n",
      "test 2\n",
      "\n",
      ". \n"
     ]
    }
   ],
   "source": [
    "#| eval: false\n",
    "two_lines_of_code = dedent('''\\\n",
    "    disp \"test 1\"\n",
    "    disp \"test 2\"\n",
    "    ''')\n",
    "run_direct(two_lines_of_code, echo=False)"
   ]
  },
  {
   "cell_type": "markdown",
   "id": "4a8083d2",
   "metadata": {},
   "source": [
    "As a workaround when echo is not desired, we can run multiple commands as a Stata program:"
   ]
  },
  {
   "cell_type": "code",
   "execution_count": null,
   "id": "b56783cb",
   "metadata": {},
   "outputs": [],
   "source": [
    "#| eval: false\n",
    "run_direct_cleaned(f\"\"\"\\\n",
    "program temp_nbstata_program_name\n",
    "    {two_lines_of_code}\n",
    "end\"\"\", quietly=True)"
   ]
  },
  {
   "cell_type": "code",
   "execution_count": null,
   "id": "64126d40",
   "metadata": {},
   "outputs": [
    {
     "name": "stdout",
     "output_type": "stream",
     "text": [
      "test 1\n",
      "test 2\n"
     ]
    }
   ],
   "source": [
    "#| eval: false\n",
    "run_direct(\"temp_nbstata_program_name\", quietly=False, inline=True, echo=False)"
   ]
  },
  {
   "cell_type": "code",
   "execution_count": null,
   "id": "21725d86",
   "metadata": {},
   "outputs": [],
   "source": [
    "#| eval: false\n",
    "run_single(f\"quietly program drop temp_nbstata_program_name\")"
   ]
  },
  {
   "cell_type": "markdown",
   "id": "5462968a",
   "metadata": {},
   "source": [
    "(Note: This and the following two functions assume input Stata code standardized by `standardize_code`, which will be ensured by the `break_out_prog_blocks` within the ultimate `dispatch_run` wrapper function.)"
   ]
  },
  {
   "cell_type": "code",
   "execution_count": null,
   "id": "6a262b11",
   "metadata": {},
   "outputs": [],
   "source": [
    "#| export\n",
    "def run_as_program(std_non_prog_code, prog_def_option_code=\"\"):\n",
    "    _program_name = \"temp_nbstata_program_name\"\n",
    "    _options = f\", {prog_def_option_code}\" if prog_def_option_code else \"\"\n",
    "    _program_define_code = (\n",
    "        f\"program {_program_name}{_options}\\n\"\n",
    "        f\"{std_non_prog_code}\\n\"\n",
    "        \"end\\n\"\n",
    "    )\n",
    "    try:\n",
    "        run_direct_cleaned(_program_define_code, quietly=True)\n",
    "        run_direct(_program_name, quietly=False, inline=True, echo=False)\n",
    "    finally:\n",
    "        run_single(f\"capture program drop {_program_name}\", show_exc_warning=False)"
   ]
  },
  {
   "cell_type": "code",
   "execution_count": null,
   "id": "703e855d",
   "metadata": {},
   "outputs": [
    {
     "name": "stdout",
     "output_type": "stream",
     "text": [
      "test 1\n",
      "test 2\n"
     ]
    }
   ],
   "source": [
    "#| eval: false\n",
    "run_as_program(two_lines_of_code)"
   ]
  },
  {
   "cell_type": "code",
   "execution_count": null,
   "id": "c59aa4a2",
   "metadata": {},
   "outputs": [
    {
     "name": "stdout",
     "output_type": "stream",
     "text": [
      "test 1\n",
      "test 2\n"
     ]
    }
   ],
   "source": [
    "#| hide\n",
    "#| eval: false\n",
    "run_as_program(two_lines_of_code, \"sclass\")"
   ]
  },
  {
   "cell_type": "markdown",
   "id": "fa3044ce",
   "metadata": {},
   "source": [
    "Not all code can be run within a program without modification, however: \n",
    "1. Programs cannot be defined within another program, nor can python or mata blocks be run.\n",
    "2. A program definition is a different scope for locals, so:\n",
    "    * the program code does not have access to locals defined previously, and\n",
    "    * locals set within the program code do not persist outside of it.\n",
    "    \n",
    "(These issues are addressed by `run_noecho`.)"
   ]
  },
  {
   "cell_type": "code",
   "execution_count": null,
   "id": "51829023",
   "metadata": {},
   "outputs": [],
   "source": [
    "#| eval: false\n",
    "with ExceptionExpected(SystemError):\n",
    "    run_as_program(\"\"\"\\\n",
    "        program define prog1\n",
    "            disp 1\n",
    "        end\n",
    "        \"\"\")"
   ]
  },
  {
   "cell_type": "code",
   "execution_count": null,
   "id": "ebb5e507",
   "metadata": {},
   "outputs": [
    {
     "name": "stdout",
     "output_type": "stream",
     "text": [
      "test1: 1\n"
     ]
    }
   ],
   "source": [
    "#| eval: false\n",
    "run_sfi('''\\\n",
    "local test1 = 1\n",
    "disp \"test1: `test1'\" ''')"
   ]
  },
  {
   "cell_type": "code",
   "execution_count": null,
   "id": "d704bb18",
   "metadata": {},
   "outputs": [
    {
     "name": "stdout",
     "output_type": "stream",
     "text": [
      "test1: \n"
     ]
    }
   ],
   "source": [
    "#| eval: false\n",
    "run_as_program(\"\"\"\\\n",
    "    disp \"test1: `test1'\"\n",
    "    local test2 = 2 \"\"\")"
   ]
  },
  {
   "cell_type": "code",
   "execution_count": null,
   "id": "40d87d37",
   "metadata": {},
   "outputs": [
    {
     "name": "stdout",
     "output_type": "stream",
     "text": [
      "test1: 1\n",
      "test2: \n"
     ]
    }
   ],
   "source": [
    "#| eval: false\n",
    "run_sfi('''\\\n",
    "disp \"test1: `test1'\"\n",
    "disp \"test2: `test2'\" ''')"
   ]
  },
  {
   "cell_type": "markdown",
   "id": "75182ca9",
   "metadata": {},
   "source": [
    "In the \"finally\" block, the `capture` ensures that an error in the program define code doesn't trigger another error in the \"program drop\" code due to the program not being defined (as in [Issue #25](https://github.com/hugetim/nbstata/issues/25)):"
   ]
  },
  {
   "cell_type": "code",
   "execution_count": null,
   "id": "1fa572d8",
   "metadata": {},
   "outputs": [],
   "source": [
    "#| eval: false\n",
    "with ExceptionExpected(SystemError):\n",
    "    run_as_program(\"/* disp 5\")"
   ]
  },
  {
   "cell_type": "markdown",
   "id": "f890e04a",
   "metadata": {},
   "source": [
    "## Divert Stata output to string"
   ]
  },
  {
   "cell_type": "markdown",
   "id": "104e167a",
   "metadata": {},
   "source": [
    "The goal here is to get output from some Stata commands without changing the Stata environment. Three challenges arise:\n",
    "\n",
    "1. Preserving `r()` return values requires special treatment because the `log on`/`off` commands needed to ensure this output is not logged are themselves r-class. \n",
    "2. The input `std_code` may also contain r-class commands. \n",
    "3. Capturing multi-line Stata output without the commands being echoed poses additional `run_as_program`-related challenges with regard to local variables."
   ]
  },
  {
   "cell_type": "markdown",
   "id": "1fd1e352",
   "metadata": {},
   "source": [
    "To start, we set aside the latter two issues and simply use `run_direct` to run the Stata code. We handle the first issue by running the `log` commands inside an r-class program with [`return add`](https://www.stata.com/help.cgi?return) at the start."
   ]
  },
  {
   "cell_type": "markdown",
   "id": "ae774c40",
   "metadata": {},
   "source": [
    "A custom code `runner` may be specified. This may be useful if, for instance, the input `std_code` needs to access pre-existing `r()` results."
   ]
  },
  {
   "cell_type": "code",
   "execution_count": null,
   "id": "1a226b12",
   "metadata": {},
   "outputs": [],
   "source": [
    "#| export\n",
    "def diverted_stata_output(std_code, runner=None):\n",
    "    if runner is None:\n",
    "        runner = functools.partial(run_direct, quietly=False, inline=True, echo=False)\n",
    "    with redirect_stdout(StringIO()) as diverted:\n",
    "        run_as_program(\"return add\\ncapture log off\", prog_def_option_code=\"rclass\")\n",
    "        try:\n",
    "            runner(std_code)\n",
    "        finally:\n",
    "            run_as_program(\"return add\\ncapture log on\", prog_def_option_code=\"rclass\")\n",
    "        out = diverted.getvalue()\n",
    "    return out"
   ]
  },
  {
   "cell_type": "code",
   "execution_count": null,
   "id": "aa86bc1f",
   "metadata": {},
   "outputs": [],
   "source": [
    "from textwrap import dedent"
   ]
  },
  {
   "cell_type": "code",
   "execution_count": null,
   "id": "7ad2b425",
   "metadata": {},
   "outputs": [],
   "source": [
    "#| eval: false\n",
    "two_lines_of_code = dedent('''\\\n",
    "    disp \"test 1\"\n",
    "    disp \"test 2\"\n",
    "    ''')\n",
    "out = diverted_stata_output(two_lines_of_code)"
   ]
  },
  {
   "cell_type": "code",
   "execution_count": null,
   "id": "b084971d",
   "metadata": {},
   "outputs": [
    {
     "name": "stdout",
     "output_type": "stream",
     "text": [
      "\n",
      ". disp \"test 1\"\n",
      "test 1\n",
      "\n",
      ". disp \"test 2\"\n",
      "test 2\n",
      "\n",
      ". \n",
      "\n"
     ]
    }
   ],
   "source": [
    "#| eval: false\n",
    "print(out)"
   ]
  },
  {
   "cell_type": "code",
   "execution_count": null,
   "id": "7af60e01",
   "metadata": {},
   "outputs": [
    {
     "name": "stdout",
     "output_type": "stream",
     "text": [
      "test 1\n",
      "\n"
     ]
    }
   ],
   "source": [
    "#| eval: false\n",
    "print(diverted_stata_output('disp \"test 1\"', run_as_program))"
   ]
  },
  {
   "cell_type": "markdown",
   "id": "5eff1e30",
   "metadata": {},
   "source": [
    "If we know the code we're running is non-program code, we can get a speed improvement by running the `log` code together with the input `std_non_prog_code`."
   ]
  },
  {
   "cell_type": "code",
   "execution_count": null,
   "id": "c5d72fda",
   "metadata": {},
   "outputs": [],
   "source": [
    "#| export\n",
    "def diverted_stata_output_quicker(std_non_prog_code):\n",
    "    with redirect_stdout(StringIO()) as diverted:\n",
    "        code = f\"return add\\ncapture log off\\n{std_non_prog_code}\\ncapture log on\"\"\"\n",
    "        try:\n",
    "            run_as_program(code, prog_def_option_code=\"rclass\")\n",
    "        except SystemError as e:\n",
    "            run_as_program(\"return add\\ncapture log on\", prog_def_option_code=\"rclass\")\n",
    "            raise(e)\n",
    "        out = diverted.getvalue()\n",
    "    return out"
   ]
  },
  {
   "cell_type": "code",
   "execution_count": null,
   "id": "2cab62d2",
   "metadata": {},
   "outputs": [
    {
     "name": "stdout",
     "output_type": "stream",
     "text": [
      "test 1\n",
      "test 2\n",
      "\n"
     ]
    }
   ],
   "source": [
    "#| eval: false\n",
    "print(diverted_stata_output_quicker(two_lines_of_code))"
   ]
  },
  {
   "cell_type": "code",
   "execution_count": null,
   "id": "f83f5096",
   "metadata": {},
   "outputs": [
    {
     "name": "stdout",
     "output_type": "stream",
     "text": [
      "Elapsed time: 0.1576 seconds\n",
      "Elapsed time: 0.0796 seconds\n"
     ]
    }
   ],
   "source": [
    "#| eval: false\n",
    "with Timer():\n",
    "    out1 = diverted_stata_output(two_lines_of_code, runner=run_sfi)\n",
    "with Timer():\n",
    "    out2 = diverted_stata_output_quicker(two_lines_of_code)\n",
    "test_eq(out1, out2)"
   ]
  },
  {
   "cell_type": "code",
   "execution_count": null,
   "id": "edf70e12",
   "metadata": {},
   "outputs": [
    {
     "name": "stdout",
     "output_type": "stream",
     "text": [
      "Elapsed time: 0.2360 seconds\n"
     ]
    }
   ],
   "source": [
    "#| hide\n",
    "#| eval: false\n",
    "with Timer():\n",
    "    out3 = diverted_stata_output(two_lines_of_code, run_as_program)\n",
    "test_eq(out1, out3)"
   ]
  },
  {
   "cell_type": "markdown",
   "id": "3485eb90",
   "metadata": {},
   "source": [
    "#| hide\n",
    "## varlist utility\n",
    "\n",
    "(not currently used) Takes a [Stata `varlist`](https://www.stata.com/help.cgi?varlist) and returns a list of full variable names, as required by [sfi.Data.getAsDict()](https://www.stata.com/python/api17/Data.html#sfi.Data.getAsDict). Frames (`strf`) not yet properly supported."
   ]
  },
  {
   "cell_type": "code",
   "execution_count": null,
   "id": "4781df5a",
   "metadata": {},
   "outputs": [],
   "source": [
    "#| hide\n",
    "#| export\n",
    "def var_from_varlist(varlist, stfr=None):\n",
    "    if stfr:\n",
    "        var_code = varlist.strip()\n",
    "    else:\n",
    "        _program_name = \"temp_nbstata_varlist_name\"\n",
    "        run_direct_cleaned((\n",
    "            f\"program define {_program_name}\\n\"\n",
    "            \"\"\" syntax [varlist(default=none)]\n",
    "                foreach var in `varlist' {\n",
    "                    disp \"`var'\"\n",
    "                }\n",
    "            end\n",
    "            \"\"\"), quietly=True)\n",
    "        try:\n",
    "            var_code = diverted_stata_output_quicker(f\"\"\"\\\n",
    "                {_program_name} {varlist}\n",
    "                program drop {_program_name}\n",
    "                \"\"\").strip()\n",
    "        except Exception as e:\n",
    "            run_single(f\"capture program drop {_program_name}\", show_exc_warning=True)\n",
    "            raise(e)\n",
    "    return [c.strip() for c in var_code.split() if c] if var_code else None"
   ]
  },
  {
   "cell_type": "code",
   "execution_count": null,
   "id": "66d94a3a",
   "metadata": {},
   "outputs": [
    {
     "name": "stdout",
     "output_type": "stream",
     "text": [
      "program define temp_nbstata_varlist_name\\            \n",
      "                syntax [varlist(default=none)]\n",
      "                foreach var in `varlist' {\n",
      "                    disp \"`var'\"\n",
      "                }\n",
      "            end\n",
      "            \n"
     ]
    }
   ],
   "source": [
    "#| hide\n",
    "#| hide\n",
    "_program_name = \"temp_nbstata_varlist_name\"\n",
    "print(\n",
    "            f\"program define {_program_name}\"\n",
    "            \"\"\"\\            \n",
    "                syntax [varlist(default=none)]\n",
    "                foreach var in `varlist' {\n",
    "                    disp \"`var'\"\n",
    "                }\n",
    "            end\n",
    "            \"\"\")"
   ]
  },
  {
   "cell_type": "code",
   "execution_count": null,
   "id": "599ef01f",
   "metadata": {},
   "outputs": [
    {
     "name": "stdout",
     "output_type": "stream",
     "text": [
      "\n",
      "    Variable |        Obs        Mean    Std. dev.       Min        Max\n",
      "-------------+---------------------------------------------------------\n",
      "        var1 |          5          .4    .5477226          0          1\n",
      "\n",
      "scalars:\n",
      "                  r(N) =  5\n",
      "              r(sum_w) =  5\n",
      "               r(mean) =  .4\n",
      "                r(Var) =  .3\n",
      "                 r(sd) =  .5477225575051662\n",
      "                r(min) =  0\n",
      "                r(max) =  1\n",
      "                r(sum) =  2\n"
     ]
    }
   ],
   "source": [
    "#| hide\n",
    "#| hide\n",
    "#| eval: False\n",
    "run_sfi(\"\"\"\\\n",
    "sum\n",
    "return list\"\"\")"
   ]
  },
  {
   "cell_type": "code",
   "execution_count": null,
   "id": "29f66ae4",
   "metadata": {},
   "outputs": [
    {
     "name": "stdout",
     "output_type": "stream",
     "text": [
      "\n",
      "scalars:\n",
      "                  r(N) =  5\n",
      "              r(sum_w) =  5\n",
      "               r(mean) =  .4\n",
      "                r(Var) =  .3\n",
      "                 r(sd) =  .5477225575051662\n",
      "                r(min) =  0\n",
      "                r(max) =  1\n",
      "                r(sum) =  2\n"
     ]
    }
   ],
   "source": [
    "#| hide\n",
    "#| hide\n",
    "#| eval: False\n",
    "run_sfi(\"return list\")"
   ]
  },
  {
   "cell_type": "code",
   "execution_count": null,
   "id": "4796c4b6",
   "metadata": {},
   "outputs": [
    {
     "name": "stdout",
     "output_type": "stream",
     "text": [
      "['var1']\n"
     ]
    }
   ],
   "source": [
    "#| hide\n",
    "#| eval: False\n",
    "print(var_from_varlist(\"v\", None))"
   ]
  },
  {
   "cell_type": "code",
   "execution_count": null,
   "id": "22f0bf82",
   "metadata": {},
   "outputs": [
    {
     "name": "stdout",
     "output_type": "stream",
     "text": [
      "\n",
      "scalars:\n",
      "                r(sum) =  2\n",
      "                r(max) =  1\n",
      "                r(min) =  0\n",
      "                 r(sd) =  .5477225575051662\n",
      "                r(Var) =  .3\n",
      "               r(mean) =  .4\n",
      "              r(sum_w) =  5\n",
      "                  r(N) =  5\n"
     ]
    }
   ],
   "source": [
    "#| hide\n",
    "#| hide\n",
    "#| eval: False\n",
    "run_sfi(\"return list\")"
   ]
  },
  {
   "cell_type": "code",
   "execution_count": null,
   "id": "2a2c825e",
   "metadata": {},
   "outputs": [
    {
     "name": "stdout",
     "output_type": "stream",
     "text": [
      "\n"
     ]
    }
   ],
   "source": [
    "#| hide\n",
    "#| eval: False\n",
    "run_direct(\"\"\"\\\n",
    "forval i = 2/20 {\n",
    "    gen var`i' = var1\n",
    "}\"\"\", quietly=True)\n",
    "test_eq(var_from_varlist(\"v*\", None),\n",
    "        ['var1', 'var2', 'var3', 'var4', \n",
    "         'var5', 'var6', 'var7', 'var8', \n",
    "         'var9', 'var10', 'var11', 'var12', \n",
    "         'var13', 'var14', 'var15', 'var16', \n",
    "         'var17', 'var18', 'var19', 'var20'])"
   ]
  },
  {
   "cell_type": "code",
   "execution_count": null,
   "id": "76dae104",
   "metadata": {},
   "outputs": [],
   "source": [
    "#| hide\n",
    "#| eval: False\n",
    "run_sfi(\"drop var2-var20\")"
   ]
  },
  {
   "cell_type": "markdown",
   "id": "4578c173",
   "metadata": {},
   "source": [
    "## Get local macro info"
   ]
  },
  {
   "cell_type": "markdown",
   "id": "cc1e6920",
   "metadata": {},
   "source": [
    "[https://www.statalist.org/forums/forum/general-stata-discussion/general/1457792-how-to-list-all-locals-and-store-them-in-a-macro](https://www.statalist.org/forums/forum/general-stata-discussion/general/1457792-how-to-list-all-locals-and-store-them-in-a-macro)"
   ]
  },
  {
   "cell_type": "code",
   "execution_count": null,
   "id": "ce50d33d",
   "metadata": {},
   "outputs": [],
   "source": [
    "#| export\n",
    "def local_names():\n",
    "    run_single(\"\"\"\\\n",
    "        mata : st_local(\"temp_nbstata_all_locals\", invtokens(st_dir(\"local\", \"macro\", \"*\")'))\"\"\",\n",
    "        show_exc_warning=False)\n",
    "    out = get_local('temp_nbstata_all_locals')\n",
    "    set_local('temp_nbstata_all_locals', \"\")\n",
    "    return out.split()"
   ]
  },
  {
   "cell_type": "code",
   "execution_count": null,
   "id": "9e9d81eb",
   "metadata": {},
   "outputs": [],
   "source": [
    "#| hide\n",
    "def _local_names_old():\n",
    "    out = diverted_stata_output(\"\"\"mata : invtokens(st_dir(\"local\", \"macro\", \"*\")')\"\"\")\n",
    "#     run_direct(\"\"\"\\\n",
    "#         mata : st_local(\"temp_nbstata_all_locals\", invtokens(st_dir(\"local\", \"macro\", \"*\")'))\n",
    "#         \"\"\", quietly=True)\n",
    "#     out = get_local('temp_nbstata_all_locals')\n",
    "#     set_local('temp_nbstata_all_locals', \"\")\n",
    "    return out.split()"
   ]
  },
  {
   "cell_type": "code",
   "execution_count": null,
   "id": "ea696f4c",
   "metadata": {},
   "outputs": [
    {
     "name": "stdout",
     "output_type": "stream",
     "text": [
      "Elapsed time: 0.0082 seconds\n",
      "Elapsed time: 0.1817 seconds\n"
     ]
    }
   ],
   "source": [
    "#| hide\n",
    "#| eval: False\n",
    "with Timer():\n",
    "    local_names()\n",
    "with Timer():\n",
    "    _local_names_old()"
   ]
  },
  {
   "cell_type": "code",
   "execution_count": null,
   "id": "f81f6049",
   "metadata": {},
   "outputs": [],
   "source": [
    "#| eval: False\n",
    "run_sfi(\"\"\"\\\n",
    "local test1 = 1\n",
    "local test2 = 2\"\"\")\n",
    "test_eq(set(local_names()), {'test1', 'test2'})"
   ]
  },
  {
   "cell_type": "code",
   "execution_count": null,
   "id": "a618807d",
   "metadata": {},
   "outputs": [],
   "source": [
    "#| export\n",
    "def get_local_dict(_local_names=None):\n",
    "    if _local_names is None:\n",
    "        _local_names = local_names()\n",
    "    return {n: get_local(n) for n in _local_names}"
   ]
  },
  {
   "cell_type": "code",
   "execution_count": null,
   "id": "279d8676",
   "metadata": {},
   "outputs": [],
   "source": [
    "#| eval: False\n",
    "test_eq(get_local_dict(), {'test1': '1', 'test2': '2'})"
   ]
  },
  {
   "cell_type": "code",
   "execution_count": null,
   "id": "023d61bd",
   "metadata": {},
   "outputs": [],
   "source": [
    "#| export\n",
    "def locals_code_from_dict(preexisting_local_dict):\n",
    "    local_defs = (f\"\"\"local {name} `\"{preexisting_local_dict[name]}\"'\"\"\"\n",
    "                  for name in preexisting_local_dict)\n",
    "    return \"\\n\".join(local_defs)"
   ]
  },
  {
   "cell_type": "code",
   "execution_count": null,
   "id": "e1dfdfba",
   "metadata": {},
   "outputs": [
    {
     "name": "stdout",
     "output_type": "stream",
     "text": [
      "local test1 `\"blah\"'\n",
      "local test2 `\"blah blah\"'\n"
     ]
    }
   ],
   "source": [
    "#| hide\n",
    "print(locals_code_from_dict({'test1': 'blah', 'test2': 'blah blah'}))"
   ]
  },
  {
   "cell_type": "code",
   "execution_count": null,
   "id": "d80c03d6",
   "metadata": {},
   "outputs": [],
   "source": [
    "#| hide\n",
    "test_eq(locals_code_from_dict({'test1': 'blah', 'test2': 'blah blah'}),\n",
    "        \"\"\"local test1 `\"blah\"\\'\\nlocal test2 `\"blah blah\"\\'\"\"\")"
   ]
  },
  {
   "cell_type": "code",
   "execution_count": null,
   "id": "9e08ba84",
   "metadata": {},
   "outputs": [
    {
     "name": "stdout",
     "output_type": "stream",
     "text": [
      "local test2 `\"2\"'\n",
      "local test1 `\"1\"'\n"
     ]
    }
   ],
   "source": [
    "#| eval: False\n",
    "print(locals_code_from_dict(get_local_dict()))"
   ]
  },
  {
   "cell_type": "markdown",
   "id": "f375e139",
   "metadata": {},
   "source": [
    "## User_expression"
   ]
  },
  {
   "cell_type": "markdown",
   "id": "79357092",
   "metadata": {},
   "source": [
    "Given a string '[%*fmt*] *exp*', replicate the output of a Stata `display` command (for just the one *display_directive*): https://www.stata.com/help.cgi?display"
   ]
  },
  {
   "cell_type": "code",
   "execution_count": null,
   "id": "263689a3",
   "metadata": {},
   "outputs": [],
   "source": [
    "#| export\n",
    "def user_expression(input_str):\n",
    "    run_single(\"tempname output\")\n",
    "    try:\n",
    "        run_single(f\"local `output': display {input_str}\")\n",
    "    except SyntaxError as e:\n",
    "        raise SyntaxError(f\"Invalid Stata '[%fmt] [=]exp' display expression: {input_str}\")\n",
    "    return get_local(get_local(\"output\"))"
   ]
  },
  {
   "cell_type": "code",
   "execution_count": null,
   "id": "82f89c42",
   "metadata": {},
   "outputs": [],
   "source": [
    "#| eval: False\n",
    "inputs_outputs = [\n",
    "    ('2+2',                     '4'),\n",
    "    ('= 2+2',                   '4'),\n",
    "    ('%9.2f 123.456',           '   123.46'),\n",
    "    ('%9.2f = 123.456',         '   123.46'),\n",
    "    ('% 9.2f 123.456',          '   123.46'),\n",
    "    ('%10s = \"Hello, World!\"',  'Hello, World!'),\n",
    "    ('   ',                     ''),            # Empty input after stripping\n",
    "]\n",
    "\n",
    "for input_str, expected_result in inputs_outputs:\n",
    "    result = user_expression(input_str)\n",
    "    test_eq(result, expected_result)"
   ]
  },
  {
   "cell_type": "code",
   "execution_count": null,
   "id": "bd69f0e9",
   "metadata": {},
   "outputs": [
    {
     "name": "stdout",
     "output_type": "stream",
     "text": [
      "=%y\n",
      "%y invalid name\n",
      "%9.2f = value\n",
      "value not found\n"
     ]
    }
   ],
   "source": [
    "#| hide\n",
    "#| eval: False\n",
    "inputs_outputs = [\n",
    "    ('=%y',                     '%y'),\n",
    "    ('%9.2f = value',          '% 9.2f = value'),  # Edge case: space after %\n",
    "]\n",
    "\n",
    "for input_str, expected_result in inputs_outputs:\n",
    "    print(input_str)\n",
    "    with ExceptionExpected(SyntaxError):\n",
    "        result = user_expression(input_str)"
   ]
  },
  {
   "cell_type": "code",
   "execution_count": null,
   "id": "1c6dd777",
   "metadata": {},
   "outputs": [],
   "source": [
    "#| hide\n",
    "import nbdev; nbdev.nbdev_export()"
   ]
  }
 ],
 "metadata": {
  "kernelspec": {
   "display_name": "python3",
   "language": "python",
   "name": "python3"
  }
 },
 "nbformat": 4,
 "nbformat_minor": 5
}
