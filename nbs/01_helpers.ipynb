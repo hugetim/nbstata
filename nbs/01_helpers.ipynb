{
 "cells": [
  {
   "cell_type": "markdown",
   "id": "2c184729",
   "metadata": {},
   "source": [
    "# helpers\n",
    "\n",
    "> Helper functions that require Stata to be running (but no Jupyter dependence)"
   ]
  },
  {
   "cell_type": "markdown",
   "id": "10895876",
   "metadata": {},
   "source": [
    "`sfi` is [Stata's python API](https://www.stata.com/python/api17/index.html), originally intended for interacting with Stata from python *within Stata*. As such, it can only be imported with Stata running.\n",
    "`pystata.stata.run` [enables running Stata code from python](https://www.stata.com/python/pystata/stata.html#pystata.stata.run)."
   ]
  },
  {
   "cell_type": "code",
   "execution_count": null,
   "id": "c7fb586a",
   "metadata": {},
   "outputs": [],
   "source": [
    "#| default_exp helpers\n",
    "%load_ext autoreload\n",
    "%autoreload 2"
   ]
  },
  {
   "cell_type": "code",
   "execution_count": null,
   "id": "026b00b7",
   "metadata": {},
   "outputs": [],
   "source": [
    "#| hide\n",
    "from nbdev.showdoc import *\n",
    "from fastcore.test import test_eq"
   ]
  },
  {
   "cell_type": "code",
   "execution_count": null,
   "id": "4b35edd5",
   "metadata": {},
   "outputs": [],
   "source": [
    "#| export\n",
    "from nbstata.config import launch_stata\n",
    "import pandas as pd\n",
    "import numpy as np"
   ]
  },
  {
   "cell_type": "code",
   "execution_count": null,
   "id": "d154ce49",
   "metadata": {},
   "outputs": [],
   "source": [
    "#| export\n",
    "def count():\n",
    "    \"\"\"Count the number of observations\"\"\"\n",
    "    import sfi\n",
    "    return sfi.Data.getObsTotal()"
   ]
  },
  {
   "cell_type": "code",
   "execution_count": null,
   "id": "4f08f29b",
   "metadata": {},
   "outputs": [
    {
     "data": {
      "text/plain": [
       "0"
      ]
     },
     "execution_count": null,
     "metadata": {},
     "output_type": "execute_result"
    }
   ],
   "source": [
    "#|eval: false\n",
    "launch_stata(splash=False)\n",
    "count()"
   ]
  },
  {
   "cell_type": "code",
   "execution_count": null,
   "id": "29843e02",
   "metadata": {},
   "outputs": [],
   "source": [
    "#| export\n",
    "def resolve_macro(macro):\n",
    "    import sfi\n",
    "    macro = macro.strip()\n",
    "    if macro.startswith(\"`\") and macro.endswith(\"'\"):\n",
    "        macro = sfi.Macro.getLocal(macro[1:-1])\n",
    "    elif macro.startswith(\"$_\"):\n",
    "        macro = sfi.Macro.getLocal(macro[2:])\n",
    "    elif macro.startswith(\"$\"):\n",
    "        macro = sfi.Macro.getGlobal(macro[1:])\n",
    "    return macro"
   ]
  },
  {
   "cell_type": "code",
   "execution_count": null,
   "id": "40084cb1",
   "metadata": {},
   "outputs": [
    {
     "data": {
      "text/plain": [
       "'hello world'"
      ]
     },
     "execution_count": null,
     "metadata": {},
     "output_type": "execute_result"
    }
   ],
   "source": [
    "#|eval: false\n",
    "import pystata\n",
    "pystata.stata.run('global test = \"hello world\"')\n",
    "resolve_macro(\"$test\")"
   ]
  },
  {
   "cell_type": "markdown",
   "id": "851585cf",
   "metadata": {},
   "source": [
    "[getAsDict example](https://blog.stata.com/2020/11/05/stata-python-integration-part-8-using-the-stata-function-interface-to-copy-data-from-stata-to-python/)"
   ]
  },
  {
   "cell_type": "code",
   "execution_count": null,
   "id": "0d9eea74",
   "metadata": {},
   "outputs": [],
   "source": [
    "#| export\n",
    "def better_dataframe_from_stata(stfr, var, obs, selectvar, valuelabel, missingval):\n",
    "    import sfi, pystata\n",
    "    hdl = sfi.Data if stfr is None else sfi.Frame.connect(stfr)\n",
    "\n",
    "    if hdl.getObsTotal() <= 0:\n",
    "        return None\n",
    "\n",
    "    pystata.stata.run(\"\"\"tempvar indexvar\n",
    "                         generate `indexvar' = _n\"\"\", quietly=True)\n",
    "    idx_var = sfi.Macro.getLocal('indexvar')\n",
    "\n",
    "    data = hdl.getAsDict(var, obs, selectvar, valuelabel, missingval)\n",
    "    if idx_var in data:\n",
    "        idx = data.pop(idx_var)\n",
    "    else:\n",
    "        idx = hdl.getAsDict(idx_var, obs, selectvar, valuelabel, missingval).pop(idx_var)\n",
    "\n",
    "    idx = pd.array(idx, dtype='Int64')\n",
    "\n",
    "    pystata.stata.run(\"drop `indexvar'\")\n",
    "\n",
    "    return pd.DataFrame(data=data, index=idx).convert_dtypes()"
   ]
  },
  {
   "cell_type": "code",
   "execution_count": null,
   "id": "c291c4bf",
   "metadata": {},
   "outputs": [],
   "source": [
    "#| export\n",
    "def better_pdataframe_from_data(var=None, obs=None, selectvar=None, valuelabel=False, missingval=np.NaN):\n",
    "    import pystata\n",
    "    pystata.config.check_initialized()\n",
    "\n",
    "    return better_dataframe_from_stata(None, var, obs, selectvar, valuelabel, missingval)"
   ]
  },
  {
   "cell_type": "code",
   "execution_count": null,
   "id": "c8ff52de",
   "metadata": {},
   "outputs": [],
   "source": [
    "#| export\n",
    "def better_pdataframe_from_frame(stfr, var=None, obs=None, selectvar=None, valuelabel=False, missingval=np.NaN):\n",
    "    import pystata\n",
    "    pystata.config.check_initialized()\n",
    "\n",
    "    return better_dataframe_from_stata(stfr, var, obs, selectvar, valuelabel, missingval)"
   ]
  },
  {
   "cell_type": "code",
   "execution_count": null,
   "id": "1c6dd777",
   "metadata": {},
   "outputs": [],
   "source": [
    "#| hide\n",
    "import nbdev; nbdev.nbdev_export()"
   ]
  }
 ],
 "metadata": {
  "kernelspec": {
   "display_name": "Python 3 (ipykernel)",
   "language": "python",
   "name": "python3"
  }
 },
 "nbformat": 4,
 "nbformat_minor": 5
}
