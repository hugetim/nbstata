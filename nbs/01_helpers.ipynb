{
 "cells": [
  {
   "cell_type": "markdown",
   "id": "abed9e7c",
   "metadata": {},
   "source": [
    "# helpers\n",
    "\n",
    "> Helper functions with pystata dependence but no Jupyter dependence"
   ]
  },
  {
   "cell_type": "code",
   "execution_count": null,
   "id": "a7dee8dc",
   "metadata": {},
   "outputs": [],
   "source": [
    "#| default_exp helpers\n",
    "%load_ext autoreload\n",
    "%autoreload 2"
   ]
  },
  {
   "cell_type": "code",
   "execution_count": null,
   "id": "73a0307c",
   "metadata": {},
   "outputs": [],
   "source": [
    "#| hide\n",
    "from nbdev.showdoc import *\n",
    "from fastcore.test import test_eq"
   ]
  },
  {
   "cell_type": "code",
   "execution_count": null,
   "id": "d60e7ec0",
   "metadata": {},
   "outputs": [],
   "source": [
    "#| export\n",
    "import os\n",
    "import sys\n",
    "from packaging import version\n",
    "from nbstata import utils"
   ]
  },
  {
   "cell_type": "code",
   "execution_count": null,
   "id": "47010d9c",
   "metadata": {},
   "outputs": [],
   "source": [
    "#| export\n",
    "def set_pystata_path(path=None):\n",
    "    if path == None:\n",
    "        path, _ = utils.find_dir_edition()\n",
    "    if not os.path.isdir(path):\n",
    "        raise OSError(path + ' is invalid')\n",
    "    if not os.path.isdir(os.path.join(path, 'utilities')):\n",
    "        raise OSError(path + \" is not Stata's installation path\")\n",
    "    sys.path.append(os.path.join(path, 'utilities'))"
   ]
  },
  {
   "cell_type": "code",
   "execution_count": null,
   "id": "4282faee",
   "metadata": {},
   "outputs": [],
   "source": [
    "#| export\n",
    "def launch_stata(path=None, edition=None, splash=True):\n",
    "    \"\"\"\n",
    "    We modify stata_setup to make splash screen optional\n",
    "    \"\"\"\n",
    "    if path == None or edition == None:\n",
    "        path_found, edition_found = utils.find_dir_edition()\n",
    "        path = path_found if path==None else path\n",
    "        edition = edition_found if edition==None else edition\n",
    "    set_pystata_path(path)\n",
    "    import pystata\n",
    "    if version.parse(pystata.__version__) >= version.parse(\"0.1.1\"):\n",
    "        # Splash message control is a new feature of pystata-0.1.1\n",
    "        pystata.config.init(edition,splash=splash)\n",
    "    else:\n",
    "        pystata.config.init(edition)"
   ]
  },
  {
   "cell_type": "code",
   "execution_count": null,
   "id": "7d0d04c7",
   "metadata": {},
   "outputs": [
    {
     "name": "stdout",
     "output_type": "stream",
     "text": [
      "\n",
      "  ___  ____  ____  ____  ____ ®\n",
      " /__    /   ____/   /   ____/      17.0\n",
      "___/   /   /___/   /   /___/       MP—Parallel Edition\n",
      "\n",
      " Statistics and Data Science       Copyright 1985-2021 StataCorp LLC\n",
      "                                   StataCorp\n",
      "                                   4905 Lakeway Drive\n",
      "                                   College Station, Texas 77845 USA\n",
      "                                   800-STATA-PC        https://www.stata.com\n",
      "                                   979-696-4600        stata@stata.com\n",
      "\n",
      "Stata license: 9-user 6-core network perpetual\n",
      "Serial number: 501706331613\n",
      "  Licensed to: Any User\n",
      "               Christensen Associates\n",
      "\n",
      "Notes:\n",
      "      1. Unicode is supported; see help unicode_advice.\n",
      "      2. More than 2 billion observations are allowed; see help obs_advice.\n",
      "      3. Maximum number of variables is set to 5,000; see help set_maxvar.\n"
     ]
    }
   ],
   "source": [
    "launch_stata()"
   ]
  }
 ],
 "metadata": {
  "kernelspec": {
   "display_name": "Python 3 (ipykernel)",
   "language": "python",
   "name": "python3"
  }
 },
 "nbformat": 4,
 "nbformat_minor": 5
}
