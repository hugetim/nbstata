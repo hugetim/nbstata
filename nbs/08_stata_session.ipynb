{
 "cells": [
  {
   "cell_type": "markdown",
   "id": "2c184729",
   "metadata": {},
   "source": [
    "# stata_session\n",
    "\n",
    "> A class for representing a Stata session\n",
    "- order: 8"
   ]
  },
  {
   "cell_type": "markdown",
   "id": "2fa1a627",
   "metadata": {},
   "source": [
    "Some parts adapted from the [stata_kernel version](https://github.com/kylebarron/stata_kernel/blob/master/stata_kernel/completions.py), limited for now to variables, globals, locals, scalars, matrices, and file names."
   ]
  },
  {
   "cell_type": "code",
   "execution_count": null,
   "id": "c7fb586a",
   "metadata": {},
   "outputs": [],
   "source": [
    "#| default_exp stata_session\n",
    "%load_ext autoreload\n",
    "%autoreload 2"
   ]
  },
  {
   "cell_type": "code",
   "execution_count": null,
   "id": "026b00b7",
   "metadata": {},
   "outputs": [],
   "source": [
    "#| hide\n",
    "from nbdev.showdoc import *"
   ]
  },
  {
   "cell_type": "code",
   "execution_count": null,
   "id": "4b35edd5",
   "metadata": {},
   "outputs": [],
   "source": [
    "#| export\n",
    "from nbstata.misc_utils import print_red\n",
    "from nbstata.stata import run_direct, get_local, get_scalar\n",
    "from nbstata.stata_more import diverted_stata_output_quicker, local_names, run_sfi\n",
    "from nbstata.stata_more import get_local_dict as _get_local_dict\n",
    "from nbstata.code_utils import (\n",
    "    valid_single_line_code,\n",
    "    ending_sc_delimiter,\n",
    "    ends_in_comment_block,\n",
    "    ending_code_version,\n",
    ")\n",
    "from nbstata.noecho import run_as_program_w_locals, run_noecho\n",
    "from fastcore.basics import patch_to\n",
    "from textwrap import dedent\n",
    "import re"
   ]
  },
  {
   "cell_type": "code",
   "execution_count": null,
   "id": "e21f168d",
   "metadata": {},
   "outputs": [],
   "source": [
    "from nbstata.config import launch_stata"
   ]
  },
  {
   "cell_type": "code",
   "execution_count": null,
   "id": "d3be7f0a",
   "metadata": {},
   "outputs": [],
   "source": [
    "#| export\n",
    "class StataSession():\n",
    "    def __init__(self):\n",
    "        \"\"\"\"\"\"\n",
    "        self.sc_delimiter = False\n",
    "        self.code_version = None\n",
    "        self.stata_version = None\n",
    "        self.clear_suggestions()\n",
    "        self._compile_re()\n",
    "\n",
    "    def clear_suggestions(self):\n",
    "        self.suggestions = None\n",
    "        \n",
    "    def _compile_re(self):\n",
    "        self.matchall = re.compile(\n",
    "            r\"\\A.*?\"\n",
    "            r\"^%varlist%(?P<varlist>.*?)\"\n",
    "            r\"%globals%(?P<globals>.*?)\"\n",
    "            #r\"%locals%(?P<locals>.*?)\"\n",
    "            r\"%scalars%(?P<scalars>.*?)\"\n",
    "            r\"%matrices%(?P<matrices>.*?)%end%\", #\"(\\Z|---+\\s*end)\",\n",
    "            flags=re.DOTALL + re.MULTILINE).match\n",
    "\n",
    "        # Varlist-style matching; applies to most\n",
    "        self.varlist = re.compile(r\"(?:\\s+)(\\S+)\", flags=re.MULTILINE)\n",
    "\n",
    "        # file-style matching\n",
    "        self.filelist = re.compile(r\"[\\r\\n]{1,2}\", flags=re.MULTILINE)\n",
    "\n",
    "        # Clean line-breaks.\n",
    "        self.varclean = re.compile(\n",
    "            r\"(?=\\s*)[\\r\\n]{1,2}?^>\\s\", flags=re.MULTILINE).sub\n",
    "        \n",
    "        #         # Match output from mata mata desc\n",
    "#         self.matadesc = re.compile(\n",
    "#             r\"(\\A.*?---+|---+[\\r\\n]*\\Z)\", flags=re.MULTILINE + re.DOTALL)\n",
    "\n",
    "#         self.matalist = re.compile(\n",
    "#             r\"(?:.*?)\\s(\\S+)\\s*$\", flags=re.MULTILINE + re.DOTALL)\n",
    "\n",
    "#         self.mataclean = re.compile(r\"\\W.*?(\\b|$)\")\n",
    "#         self.matasearch = re.compile(r\"(?P<kw>\\w.*?(?=\\W|\\b|$))\").search"
   ]
  },
  {
   "cell_type": "code",
   "execution_count": null,
   "id": "32d58f0d",
   "metadata": {},
   "outputs": [],
   "source": [
    "#| export\n",
    "@patch_to(StataSession)\n",
    "def refresh_suggestions(self):\n",
    "    self.suggestions = self.get_suggestions()"
   ]
  },
  {
   "cell_type": "code",
   "execution_count": null,
   "id": "0ce69eb3",
   "metadata": {},
   "outputs": [],
   "source": [
    "#| export\n",
    "@patch_to(StataSession)\n",
    "def _completions(self):\n",
    "    return diverted_stata_output_quicker(dedent(\"\"\"\\\n",
    "        local _temp_completions_while_local_ = 1\n",
    "        while `_temp_completions_while_local_' {\n",
    "        set more off\n",
    "        set trace off\n",
    "        if `\"`varlist'\"' != \"\" {\n",
    "        local _temp_completions_varlist_loc_ `\"`varlist'\"'\n",
    "        }\n",
    "        syntax [varlist]\n",
    "        disp \"%varlist%\"\n",
    "        disp `\"`varlist'\"'\n",
    "        macro drop _varlist __temp_completions_while_local_\n",
    "        if `\"`_temp_completions_varlist_loc_'\"' != \"\" {\n",
    "        local varlist `\"`_temp_completions_varlist_loc_'\"'\n",
    "        macro drop __temp_completions_varlist_loc_\n",
    "        }\n",
    "        disp \"%globals%\"\n",
    "        disp `\"`:all globals'\"'\n",
    "        *disp \"%locals%\"\n",
    "        *mata : invtokens(st_dir(\"local\", \"macro\", \"*\")')\n",
    "        disp \"%scalars%\"\n",
    "        disp `\"`:all scalars'\"'\n",
    "        disp \"%matrices%\"\n",
    "        disp `\"`:all matrices'\"'\n",
    "        disp \"%end%\"\n",
    "        local _temp_completions_while_local_ = 0\n",
    "        }\n",
    "        macro drop _temp_completions_while_local_\n",
    "    \"\"\"))"
   ]
  },
  {
   "cell_type": "code",
   "execution_count": null,
   "id": "e478d103",
   "metadata": {},
   "outputs": [],
   "source": [
    "#| hide\n",
    "test_instance = StataSession()"
   ]
  },
  {
   "cell_type": "code",
   "execution_count": null,
   "id": "4b093b91",
   "metadata": {},
   "outputs": [
    {
     "name": "stdout",
     "output_type": "stream",
     "text": [
      "%varlist%\n",
      "\n",
      "%globals%\n",
      "S_level F1 F2 F7 F8 S_ADO S_StataMP S_StataSE S_CONSOLE S_FLAVOR S_OS S_OSDTL S\n",
      "> _MACH\n",
      "%scalars%\n",
      "\n",
      "%matrices%\n",
      "\n",
      "%end%\n",
      "\n"
     ]
    }
   ],
   "source": [
    "#| hide\n",
    "#| eval: False\n",
    "launch_stata(splash=False)\n",
    "print(test_instance._completions())"
   ]
  },
  {
   "cell_type": "code",
   "execution_count": null,
   "id": "297e889b",
   "metadata": {},
   "outputs": [],
   "source": [
    "#| export\n",
    "@patch_to(StataSession)\n",
    "def _get_locals(self):\n",
    "    return self.suggestions['locals'] if self.suggestions else local_names()"
   ]
  },
  {
   "cell_type": "code",
   "execution_count": null,
   "id": "15f1756a",
   "metadata": {},
   "outputs": [],
   "source": [
    "#| hide\n",
    "from fastcore.test import test_eq"
   ]
  },
  {
   "cell_type": "code",
   "execution_count": null,
   "id": "d7e96a31",
   "metadata": {},
   "outputs": [],
   "source": [
    "#| eval: False\n",
    "run_sfi(\"\"\"\\\n",
    "local varlist = 5\n",
    "local varlist1 = 5\"\"\")"
   ]
  },
  {
   "cell_type": "code",
   "execution_count": null,
   "id": "97d813d4",
   "metadata": {},
   "outputs": [],
   "source": [
    "#| hide\n",
    "#| eval: False\n",
    "test_eq(set(test_instance._get_locals()), {'varlist', 'varlist1'})"
   ]
  },
  {
   "cell_type": "code",
   "execution_count": null,
   "id": "21aaa54d",
   "metadata": {},
   "outputs": [],
   "source": [
    "#| export\n",
    "@patch_to(StataSession)\n",
    "def get_suggestions(self):\n",
    "    match = self.matchall(self._completions())\n",
    "    suggestions = match.groupdict()\n",
    "#         suggestions['mata'] = self._parse_mata_desc(suggestions['mata'])\n",
    "#         suggestions['programs'] = self._parse_programs_desc(\n",
    "#             suggestions['programs'])\n",
    "    for k, v in suggestions.items():\n",
    "        suggestions[k] = self.varlist.findall(self.varclean('', v))\n",
    "    suggestions['locals'] = self._get_locals()\n",
    "    return suggestions"
   ]
  },
  {
   "cell_type": "code",
   "execution_count": null,
   "id": "24d8e5ac",
   "metadata": {},
   "outputs": [
    {
     "data": {
      "text/plain": [
       "{'varlist': [],\n",
       " 'globals': ['S_level',\n",
       "  'F1',\n",
       "  'F2',\n",
       "  'F7',\n",
       "  'F8',\n",
       "  'S_ADO',\n",
       "  'S_StataMP',\n",
       "  'S_StataSE',\n",
       "  'S_CONSOLE',\n",
       "  'S_FLAVOR',\n",
       "  'S_OS',\n",
       "  'S_OSDTL',\n",
       "  'S_MACH'],\n",
       " 'scalars': [],\n",
       " 'matrices': [],\n",
       " 'locals': ['varlist1', 'varlist']}"
      ]
     },
     "execution_count": null,
     "metadata": {},
     "output_type": "execute_result"
    }
   ],
   "source": [
    "#| eval: false\n",
    "test_instance.refresh_suggestions()\n",
    "test_instance.suggestions"
   ]
  },
  {
   "cell_type": "code",
   "execution_count": null,
   "id": "5d5278d2",
   "metadata": {},
   "outputs": [],
   "source": [
    "#| hide\n",
    "from nbstata.stata import get_local"
   ]
  },
  {
   "cell_type": "code",
   "execution_count": null,
   "id": "cc2a38e1",
   "metadata": {},
   "outputs": [
    {
     "name": "stdout",
     "output_type": "stream",
     "text": [
      "'1'\n",
      "'two'\n",
      "'\"3\"'\n"
     ]
    }
   ],
   "source": [
    "#| hide\n",
    "#| eval: false\n",
    "run_sfi(dedent(\"\"\"\n",
    "    local local1 = 1\n",
    "    local local2 \"two\"\n",
    "    local local3 `\"\"3\"\"' \"\"\"))\n",
    "print(repr(get_local(\"local1\")))\n",
    "print(repr(get_local(\"local2\")))\n",
    "print(repr(get_local(\"local3\")))"
   ]
  },
  {
   "cell_type": "code",
   "execution_count": null,
   "id": "0ff67313",
   "metadata": {},
   "outputs": [],
   "source": [
    "#| export\n",
    "@patch_to(StataSession)\n",
    "def get_local_dict(self):\n",
    "    return _get_local_dict(self._get_locals())"
   ]
  },
  {
   "cell_type": "code",
   "execution_count": null,
   "id": "dfeb22b0",
   "metadata": {},
   "outputs": [],
   "source": [
    "#| eval: False\n",
    "run_sfi('''\\\n",
    "macro drop _all\n",
    "local test1 \"blah blah\" ''')\n",
    "test_instance.clear_suggestions()\n",
    "test_eq(test_instance.get_local_dict(), {'test1': 'blah blah'})\n",
    "run_sfi('local test1 \"\"')"
   ]
  },
  {
   "cell_type": "code",
   "execution_count": null,
   "id": "442b1ea4",
   "metadata": {},
   "outputs": [],
   "source": [
    "#| export\n",
    "@patch_to(StataSession)\n",
    "def _run_as_program_w_locals(self, std_code):\n",
    "    \"\"\"After `break_out_prog_blocks`, run noecho, inserting locals when needed\"\"\"\n",
    "    return run_as_program_w_locals(std_code, local_dict=self.get_local_dict())"
   ]
  },
  {
   "cell_type": "code",
   "execution_count": null,
   "id": "4e25ab7f",
   "metadata": {},
   "outputs": [
    {
     "name": "stdout",
     "output_type": "stream",
     "text": [
      "1 two \"3\"\n"
     ]
    }
   ],
   "source": [
    "#| hide\n",
    "#| eval: false\n",
    "run_sfi(dedent(\"\"\"\n",
    "    macro drop _all\n",
    "    local local1 = 1\n",
    "    local local2 \"two\"\n",
    "    local local3 `\"\"3\"\"' \"\"\"))\n",
    "test_instance.clear_suggestions()\n",
    "test_instance._run_as_program_w_locals(\"\"\"disp `\"`local1' `local2' `local3'\"' \"\"\")"
   ]
  },
  {
   "cell_type": "code",
   "execution_count": null,
   "id": "ec9c70ae",
   "metadata": {},
   "outputs": [
    {
     "name": "stdout",
     "output_type": "stream",
     "text": [
      "1 two \"3\"\n"
     ]
    }
   ],
   "source": [
    "#| hide\n",
    "#| eval: false\n",
    "code = '''\\\n",
    "local test1 \"blah blah\"\n",
    "local test2 \"blah\"\n",
    "'''\n",
    "test_instance.clear_suggestions()\n",
    "test_instance._run_as_program_w_locals(\"\"\"disp `\"`local1' `local2' `local3'\"' \\n\"\"\" + code)\n",
    "test_eq(test_instance.get_local_dict(), \n",
    "        {'test2': 'blah',\n",
    "         'test1': 'blah blah',\n",
    "         'local1': '1',\n",
    "         'local2': 'two',\n",
    "         'local3': '\"3\"'})"
   ]
  },
  {
   "cell_type": "markdown",
   "id": "cefd1b39",
   "metadata": {},
   "source": [
    "## dispatch_run"
   ]
  },
  {
   "cell_type": "markdown",
   "id": "ee5edcc2",
   "metadata": {},
   "source": [
    "We incorporate `run_noecho` within a `dispatch_run` wrapper that can serve as an alternative to the official `pystata.stata.run` command, supporting any value of the `echo` or `quietly` parameters. The ordinary `run_direct` (for `echo != None`) is also prefaced to manage delimiters and prevent certain quirks of `pystata.stata.run` from biting."
   ]
  },
  {
   "cell_type": "code",
   "execution_count": null,
   "id": "680deaa8",
   "metadata": {},
   "outputs": [],
   "source": [
    "#| export\n",
    "def _run_simple(code, quietly=False, echo=False, sc_delimiter=False):\n",
    "    if sc_delimiter:\n",
    "        code = \"#delimit;\\n\" + code\n",
    "    if len(code.splitlines()) == 1:\n",
    "        code = valid_single_line_code(code)\n",
    "    run_direct(code, quietly=quietly, inline=not quietly, echo=echo)"
   ]
  },
  {
   "cell_type": "markdown",
   "id": "2aebac93",
   "metadata": {},
   "source": [
    "#| hide\n",
    "We remove comments from single-line code to avoid the error that [would otherwise result](https://www.stata.com/python/pystata/stata.html#pystata.stata.run)."
   ]
  },
  {
   "cell_type": "code",
   "execution_count": null,
   "id": "33796b7e",
   "metadata": {},
   "outputs": [
    {
     "name": "stdout",
     "output_type": "stream",
     "text": [
      "\n"
     ]
    }
   ],
   "source": [
    "#| eval: false\n",
    "_run_simple(dedent('''\\\n",
    "    capture program drop ender\n",
    "    program define ender\n",
    "        disp \"ender output\"\n",
    "    end\n",
    "    capture program drop display2\n",
    "    program define display2\n",
    "        ender\n",
    "    end\n",
    "    display2\n",
    "    '''), quietly=True)"
   ]
  },
  {
   "cell_type": "code",
   "execution_count": null,
   "id": "b1683f82",
   "metadata": {},
   "outputs": [],
   "source": [
    "#| export\n",
    "_final_delimiter_warning = (\n",
    "    \"Warning: Code cell (with #delimit; in effect) does not end in ';'. \"\n",
    "    \"Exported .do script may behave differently from notebook. \"\n",
    "    \"In v1.0, nbstata may trigger an error instead of just a warning.\"\n",
    ")"
   ]
  },
  {
   "cell_type": "code",
   "execution_count": null,
   "id": "d5e4965b",
   "metadata": {},
   "outputs": [],
   "source": [
    "#| export\n",
    "@patch_to(StataSession)    \n",
    "def _update_ending_delimiter(self, code):\n",
    "    self.sc_delimiter = ending_sc_delimiter(code, self.sc_delimiter)\n",
    "    _final_character = code.strip()[-1]\n",
    "    _code_missing_final_delimiter = (self.sc_delimiter\n",
    "                                     and _final_character != ';')\n",
    "    if _code_missing_final_delimiter:\n",
    "        print_red(_final_delimiter_warning)"
   ]
  },
  {
   "cell_type": "code",
   "execution_count": null,
   "id": "bcbe93b3",
   "metadata": {},
   "outputs": [
    {
     "name": "stdout",
     "output_type": "stream",
     "text": [
      "\u001b[31mWarning: Code cell (with #delimit; in effect) does not end in ';'. Exported .do script may behave differently from notebook. In v1.0, nbstata may trigger an error instead of just a warning.\u001b[0m\n"
     ]
    }
   ],
   "source": [
    "#| hide\n",
    "test_instance.sc_delimiter = True\n",
    "test_instance._update_ending_delimiter('''disp \"test output\"''')\n",
    "test_instance.sc_delimiter = False"
   ]
  },
  {
   "cell_type": "code",
   "execution_count": null,
   "id": "b66518fa",
   "metadata": {},
   "outputs": [],
   "source": [
    "#| export\n",
    "def warn_re_unclosed_comment_block_if_needed(code):\n",
    "    if ends_in_comment_block(code):\n",
    "        print_red(\"Warning: Code cell ends in a comment block without a \"\n",
    "                  \"closing '*/'. Exported .do script may behave differently \"\n",
    "                  \"from notebook. In v1.0, nbstata may trigger an error \"\n",
    "                  \"instead of just a warning.\"\n",
    "                 )"
   ]
  },
  {
   "cell_type": "code",
   "execution_count": null,
   "id": "714b32e0",
   "metadata": {},
   "outputs": [
    {
     "name": "stdout",
     "output_type": "stream",
     "text": [
      "\u001b[31mWarning: Code cell ends in a comment block without a closing '*/'. Exported .do script may behave differently from notebook. In v1.0, nbstata may trigger an error instead of just a warning.\u001b[0m\n"
     ]
    }
   ],
   "source": [
    "#| hide\n",
    "warn_re_unclosed_comment_block_if_needed(\"/*\")"
   ]
  },
  {
   "cell_type": "code",
   "execution_count": null,
   "id": "ef85d21f",
   "metadata": {},
   "outputs": [
    {
     "data": {
      "text/plain": [
       "'15.10'"
      ]
     },
     "execution_count": null,
     "metadata": {},
     "output_type": "execute_result"
    }
   ],
   "source": [
    "#| hide\n",
    "#| eval: False\n",
    "f\"{15.1:0.2f}\""
   ]
  },
  {
   "cell_type": "code",
   "execution_count": null,
   "id": "9188f72c",
   "metadata": {},
   "outputs": [],
   "source": [
    "#| export\n",
    "@patch_to(StataSession)\n",
    "def _post_run_hook(self, code):\n",
    "    self.clear_suggestions()\n",
    "    if self.stata_version is None:\n",
    "        self.stata_version = f\"{get_scalar('c(stata_version)'):0.2f}\"\n",
    "    self.code_version = ending_code_version(code, self.sc_delimiter, self.code_version, self.stata_version)\n",
    "    self._update_ending_delimiter(code) # after updating code_version (based on starting sc_delimiter)\n",
    "    warn_re_unclosed_comment_block_if_needed(code)"
   ]
  },
  {
   "cell_type": "code",
   "execution_count": null,
   "id": "3d484709",
   "metadata": {},
   "outputs": [],
   "source": [
    "#| export\n",
    "@patch_to(StataSession)\n",
    "def dispatch_run(self, code, quietly=False, echo=False, noecho=False):\n",
    "    if self.code_version:\n",
    "        version_prefix = \"capture version \" + self.code_version + (\";\" if self.sc_delimiter else \"\\n\")\n",
    "        code = version_prefix + code\n",
    "    if noecho and not quietly:\n",
    "        run_noecho(code, self.sc_delimiter, run_as_prog=self._run_as_program_w_locals)\n",
    "    else:\n",
    "        _run_simple(code, quietly, echo, self.sc_delimiter)\n",
    "    self._post_run_hook(code)"
   ]
  },
  {
   "cell_type": "code",
   "execution_count": null,
   "id": "ee4d67c7",
   "metadata": {},
   "outputs": [
    {
     "name": "stdout",
     "output_type": "stream",
     "text": [
      "\n"
     ]
    }
   ],
   "source": [
    "#| eval: false\n",
    "test_instance.dispatch_run(dedent('''\\\n",
    "    capture program drop ender\n",
    "    program define ender\n",
    "        disp \"ender output\"\n",
    "    end\n",
    "    capture program drop display2\n",
    "    program define display2\n",
    "        ender\n",
    "    end\n",
    "    display2\n",
    "    '''), quietly=True)"
   ]
  },
  {
   "cell_type": "code",
   "execution_count": null,
   "id": "5889dacb",
   "metadata": {},
   "outputs": [
    {
     "name": "stdout",
     "output_type": "stream",
     "text": [
      "\n",
      "\n",
      "ender output\n"
     ]
    }
   ],
   "source": [
    "#| eval: false\n",
    "test_instance.dispatch_run(dedent('''\\\n",
    "    capture program drop ender\n",
    "    program define ender\n",
    "        disp \"ender output\"\n",
    "    end\n",
    "    capture program drop display2\n",
    "    program define display2\n",
    "        ender\n",
    "    end\n",
    "    display2\n",
    "    '''), noecho=True)"
   ]
  },
  {
   "cell_type": "code",
   "execution_count": null,
   "id": "45314a8d",
   "metadata": {},
   "outputs": [
    {
     "name": "stdout",
     "output_type": "stream",
     "text": [
      "hello\n",
      "\n"
     ]
    }
   ],
   "source": [
    "#| eval: false\n",
    "code = dedent('''\\\n",
    "    python:\n",
    "    print(\"hello\")\n",
    "    end\n",
    "    ''')\n",
    "test_instance.dispatch_run(code, noecho=True)"
   ]
  },
  {
   "cell_type": "code",
   "execution_count": null,
   "id": "40cbd83e",
   "metadata": {},
   "outputs": [
    {
     "name": "stdout",
     "output_type": "stream",
     "text": [
      "1 two \"3\"\n",
      "1 two \"3\" blah blah\n"
     ]
    }
   ],
   "source": [
    "#| eval: false\n",
    "run_noecho(dedent(\"\"\"\\\n",
    "    disp `\"`local1' `local2' `local3'\"'\n",
    "    disp `\"`local1' `local2' `local3' `test1'\"'\n",
    "    \"\"\"), run_as_prog=test_instance._run_as_program_w_locals)"
   ]
  },
  {
   "cell_type": "code",
   "execution_count": null,
   "id": "21720ff6",
   "metadata": {},
   "outputs": [
    {
     "name": "stdout",
     "output_type": "stream",
     "text": [
      "foo bar \"3\"\n",
      "foo bar \"3\" blah blah\n"
     ]
    }
   ],
   "source": [
    "#| eval: false\n",
    "code = \"\"\"\\\n",
    "local local1 \"foo\"\n",
    "local local2 \"bar\"\n",
    "local abcd \"foo bar\"\n",
    "\"\"\"\n",
    "test_instance.clear_suggestions()\n",
    "run_noecho(code, run_as_prog=test_instance._run_as_program_w_locals)\n",
    "test_instance.clear_suggestions()\n",
    "run_noecho(dedent(\"\"\"\\\n",
    "    disp `\"`local1' `local2' `local3'\"'\n",
    "    disp `\"`local1' `local2' `local3' `test1'\"'\n",
    "    \"\"\"), run_as_prog=test_instance._run_as_program_w_locals)"
   ]
  },
  {
   "cell_type": "code",
   "execution_count": null,
   "id": "56c7ce83",
   "metadata": {},
   "outputs": [
    {
     "name": "stdout",
     "output_type": "stream",
     "text": [
      "line continuation comment\n"
     ]
    }
   ],
   "source": [
    "#| eval: false\n",
    "test_instance.clear_suggestions()\n",
    "code2 = '''\\\n",
    "display \"line continuation \" /// commented out\n",
    "    \"comment\"'''\n",
    "test_instance.dispatch_run(code2, noecho=True)"
   ]
  },
  {
   "cell_type": "code",
   "execution_count": null,
   "id": "b6ea8363",
   "metadata": {},
   "outputs": [
    {
     "name": "stdout",
     "output_type": "stream",
     "text": [
      "line continuation comment\n"
     ]
    }
   ],
   "source": [
    "#| eval: false\n",
    "test_instance.clear_suggestions()\n",
    "code2 = '''\\\n",
    "display \"line continuation \" /// commented out\n",
    "    \"comment\"'''\n",
    "test_instance.dispatch_run(code2, noecho=True)"
   ]
  },
  {
   "cell_type": "code",
   "execution_count": null,
   "id": "e64345ca",
   "metadata": {},
   "outputs": [
    {
     "name": "stdout",
     "output_type": "stream",
     "text": [
      "17\n",
      "1\n",
      "15.1\n"
     ]
    }
   ],
   "source": [
    "#| eval: false\n",
    "test_instance.clear_suggestions()\n",
    "code2 = '''\\\n",
    "disp c(version)\n",
    "version 15.1\n",
    "disp 1'''\n",
    "test_instance.dispatch_run(code2, noecho=True)\n",
    "test_instance.dispatch_run('disp c(version)', noecho=True)"
   ]
  },
  {
   "cell_type": "code",
   "execution_count": null,
   "id": "d9e6a914",
   "metadata": {},
   "outputs": [
    {
     "name": "stdout",
     "output_type": "stream",
     "text": [
      "\n",
      ". capture version 15.1\n",
      "\n",
      ". disp c(version)\n",
      "15.1\n",
      "\n",
      ". version 16\n",
      "\n",
      ". disp 1\n",
      "1\n",
      "\n",
      ". \n",
      "\n",
      ". capture version 16\n",
      "\n",
      ". disp c(version)\n",
      "16\n",
      "\n",
      ". \n"
     ]
    }
   ],
   "source": [
    "#| hide\n",
    "#| eval: false\n",
    "test_instance.clear_suggestions()\n",
    "code2 = '''\\\n",
    "disp c(version)\n",
    "version 16\n",
    "disp 1'''\n",
    "test_instance.dispatch_run(code2)\n",
    "test_instance.dispatch_run('disp c(version)')"
   ]
  },
  {
   "cell_type": "code",
   "execution_count": null,
   "id": "9f33685b",
   "metadata": {},
   "outputs": [
    {
     "name": "stdout",
     "output_type": "stream",
     "text": [
      "\n",
      ". capture version 16\n",
      "\n",
      ". disp c(version)\n",
      "16\n",
      "\n",
      ". version 17\n",
      "\n",
      ". disp 1\n",
      "1\n",
      "\n",
      ". \n",
      ". disp c(version)\n",
      "17\n"
     ]
    }
   ],
   "source": [
    "#| eval: false\n",
    "test_instance.clear_suggestions()\n",
    "code2 = '''\\\n",
    "disp c(version)\n",
    "version 17\n",
    "disp 1'''\n",
    "test_instance.dispatch_run(code2)\n",
    "test_instance.dispatch_run('disp c(version)', echo=True)"
   ]
  },
  {
   "cell_type": "code",
   "execution_count": null,
   "id": "1c6dd777",
   "metadata": {},
   "outputs": [],
   "source": [
    "#| hide\n",
    "import nbdev; nbdev.nbdev_export()"
   ]
  }
 ],
 "metadata": {
  "kernelspec": {
   "display_name": "python3",
   "language": "python",
   "name": "python3"
  }
 },
 "nbformat": 4,
 "nbformat_minor": 5
}
