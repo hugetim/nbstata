{
 "cells": [
  {
   "cell_type": "markdown",
   "id": "2c184729",
   "metadata": {},
   "source": [
    "# helpers\n",
    "\n",
    "> Helper functions that require Stata to be running (but no Jupyter dependence)"
   ]
  },
  {
   "cell_type": "markdown",
   "id": "e2014567",
   "metadata": {},
   "source": [
    "`sfi` is [Stata's python API](https://www.stata.com/python/api17/index.html), originally intended for interacting with Stata from python *within Stata*. As such, it can only be imported with Stata running.\n",
    "`pystata.stata.run` [enables running Stata code from python](https://www.stata.com/python/pystata/stata.html#pystata.stata.run)."
   ]
  },
  {
   "cell_type": "code",
   "execution_count": null,
   "id": "c7fb586a",
   "metadata": {},
   "outputs": [],
   "source": [
    "#| default_exp helpers\n",
    "%load_ext autoreload\n",
    "%autoreload 2"
   ]
  },
  {
   "cell_type": "code",
   "execution_count": null,
   "id": "026b00b7",
   "metadata": {},
   "outputs": [],
   "source": [
    "#| hide\n",
    "from nbdev.showdoc import *"
   ]
  },
  {
   "cell_type": "code",
   "execution_count": null,
   "id": "4b35edd5",
   "metadata": {},
   "outputs": [],
   "source": [
    "#| export\n",
    "from nbstata.config import launch_stata\n",
    "from nbstata.utils import break_out_prog_blocks, HiddenPrints\n",
    "import sys\n",
    "from io import StringIO\n",
    "from textwrap import dedent\n",
    "import pandas as pd\n",
    "import numpy as np"
   ]
  },
  {
   "cell_type": "markdown",
   "id": "a57b739a",
   "metadata": {},
   "source": [
    "## Simple helpers"
   ]
  },
  {
   "cell_type": "code",
   "execution_count": null,
   "id": "d154ce49",
   "metadata": {},
   "outputs": [],
   "source": [
    "#| export\n",
    "def count():\n",
    "    \"\"\"Count the number of observations\"\"\"\n",
    "    import sfi\n",
    "    return sfi.Data.getObsTotal()"
   ]
  },
  {
   "cell_type": "code",
   "execution_count": null,
   "id": "4f08f29b",
   "metadata": {},
   "outputs": [
    {
     "data": {
      "text/plain": [
       "0"
      ]
     },
     "execution_count": null,
     "metadata": {},
     "output_type": "execute_result"
    }
   ],
   "source": [
    "#| eval: false\n",
    "launch_stata(splash=False)\n",
    "count()"
   ]
  },
  {
   "cell_type": "code",
   "execution_count": null,
   "id": "29843e02",
   "metadata": {},
   "outputs": [],
   "source": [
    "#| export\n",
    "def resolve_macro(macro):\n",
    "    import sfi\n",
    "    macro = macro.strip()\n",
    "    if macro.startswith(\"`\") and macro.endswith(\"'\"):\n",
    "        macro = sfi.Macro.getLocal(macro[1:-1])\n",
    "    elif macro.startswith(\"$_\"):\n",
    "        macro = sfi.Macro.getLocal(macro[2:])\n",
    "    elif macro.startswith(\"$\"):\n",
    "        macro = sfi.Macro.getGlobal(macro[1:])\n",
    "    return macro"
   ]
  },
  {
   "cell_type": "code",
   "execution_count": null,
   "id": "40084cb1",
   "metadata": {},
   "outputs": [
    {
     "data": {
      "text/plain": [
       "'hello world'"
      ]
     },
     "execution_count": null,
     "metadata": {},
     "output_type": "execute_result"
    }
   ],
   "source": [
    "#| eval: false\n",
    "from pystata.stata import run\n",
    "run('global test = \"hello world\"')\n",
    "resolve_macro(\"$test\")"
   ]
  },
  {
   "cell_type": "code",
   "execution_count": null,
   "id": "e545a82a",
   "metadata": {},
   "outputs": [],
   "source": [
    "#| export\n",
    "class Selectvar():\n",
    "    \"\"\"Class for generating Stata selectvar for getAsDict\"\"\"\n",
    "    varname = None\n",
    "    \n",
    "    def __init__(self, stata_if_code):\n",
    "        import sfi, pystata\n",
    "        condition = stata_if_code.replace('if ', '', 1).strip()\n",
    "        if condition:\n",
    "            cmd = dedent(f\"\"\"\\\n",
    "                tempvar __selectionVar\n",
    "                generate `__selectionVar' = cond({condition},1,0)\"\"\")\n",
    "            pystata.stata.run(cmd, quietly=True)      \n",
    "            self.varname = sfi.Macro.getLocal(\"__selectionVar\")  \n",
    "\n",
    "    def clear(self):\n",
    "        \"\"\"Remove temporary selectvar from Stata dataset\"\"\"\n",
    "        import sfi\n",
    "        if self.varname:\n",
    "            sfi.Data.dropVar(self.varname)\n",
    "            \n",
    "    def __enter__(self):\n",
    "        return self.varname\n",
    "    \n",
    "    def __exit__(self, exc_type, exc_value, exc_tb):\n",
    "        self.clear()"
   ]
  },
  {
   "cell_type": "markdown",
   "id": "3d343d3b",
   "metadata": {},
   "source": [
    "`Selectvar.varname` is a temporary Stata variable for use in `sfi.Data.getAsDict`"
   ]
  },
  {
   "cell_type": "code",
   "execution_count": null,
   "id": "4762f9de",
   "metadata": {},
   "outputs": [
    {
     "name": "stdout",
     "output_type": "stream",
     "text": [
      "\n",
      "\n",
      "sel_var.varname: __000000\n",
      "\n",
      "       var1   __000000  \n",
      "  1.      0          1  \n",
      "  2.      0          1  \n",
      "  3.      0          1  \n",
      "  4.      1          0  \n",
      "  5.      1          0  \n"
     ]
    }
   ],
   "source": [
    "#| eval: false\n",
    "run(\"\"\"\\\n",
    "set obs 5\n",
    "gen var1 = _n > 3\n",
    "\"\"\", quietly=True)\n",
    "sel_var = Selectvar(\" if var1==0\")\n",
    "print(f\"sel_var.varname: {sel_var.varname}\")\n",
    "run(\"list, clean\", echo=False)"
   ]
  },
  {
   "cell_type": "code",
   "execution_count": null,
   "id": "b4b9acc6",
   "metadata": {},
   "outputs": [
    {
     "data": {
      "text/markdown": [
       "---\n",
       "\n",
       "[source](https://github.com/hugetim/nbstata/blob/main/nbstata/helpers.py#L50){target=\"_blank\" style=\"float:right; font-size:smaller\"}\n",
       "\n",
       "### Selectvar.clear\n",
       "\n",
       ">      Selectvar.clear ()\n",
       "\n",
       "Remove temporary selectvar from Stata dataset"
      ],
      "text/plain": [
       "---\n",
       "\n",
       "[source](https://github.com/hugetim/nbstata/blob/main/nbstata/helpers.py#L50){target=\"_blank\" style=\"float:right; font-size:smaller\"}\n",
       "\n",
       "### Selectvar.clear\n",
       "\n",
       ">      Selectvar.clear ()\n",
       "\n",
       "Remove temporary selectvar from Stata dataset"
      ]
     },
     "execution_count": null,
     "metadata": {},
     "output_type": "execute_result"
    }
   ],
   "source": [
    "show_doc(Selectvar.clear)"
   ]
  },
  {
   "cell_type": "code",
   "execution_count": null,
   "id": "bf20f222",
   "metadata": {},
   "outputs": [
    {
     "name": "stdout",
     "output_type": "stream",
     "text": [
      "var1\n"
     ]
    }
   ],
   "source": [
    "#| eval: false\n",
    "sel_var.clear()\n",
    "run(\"desc, simple\")"
   ]
  },
  {
   "cell_type": "markdown",
   "id": "56692d41",
   "metadata": {},
   "source": [
    "**As a context manager:**"
   ]
  },
  {
   "cell_type": "code",
   "execution_count": null,
   "id": "f3548955",
   "metadata": {},
   "outputs": [
    {
     "name": "stdout",
     "output_type": "stream",
     "text": [
      "\n",
      "\n",
      "       var1   __000001  \n",
      "  1.      0          1  \n",
      "  2.      0          1  \n",
      "  3.      0          1  \n",
      "  4.      1          0  \n",
      "  5.      1          0  \n",
      "var1\n"
     ]
    }
   ],
   "source": [
    "#| eval: false\n",
    "with Selectvar(\" if var1==0\") as sel_varname:\n",
    "    run(\"list, clean\", echo=False)\n",
    "run(\"desc, simple\")"
   ]
  },
  {
   "cell_type": "markdown",
   "id": "b696a14f",
   "metadata": {},
   "source": [
    "## Run multi-line Stata commands no-echo"
   ]
  },
  {
   "cell_type": "markdown",
   "id": "7f47df15",
   "metadata": {},
   "source": [
    "`pystata.stata.run` can only suppress the \"echo\" of single commands, not multi-line Stata code:"
   ]
  },
  {
   "cell_type": "code",
   "execution_count": null,
   "id": "0c1295e5",
   "metadata": {},
   "outputs": [
    {
     "name": "stdout",
     "output_type": "stream",
     "text": [
      "test 1\n"
     ]
    }
   ],
   "source": [
    "#| eval: false\n",
    "run('disp \"test 1\"', echo=False)"
   ]
  },
  {
   "cell_type": "code",
   "execution_count": null,
   "id": "2d84d303",
   "metadata": {},
   "outputs": [
    {
     "name": "stdout",
     "output_type": "stream",
     "text": [
      "\n",
      ". disp \"test 1\"\n",
      "test 1\n",
      "\n",
      ". disp \"test 2\"\n",
      "test 2\n",
      "\n",
      ". \n"
     ]
    }
   ],
   "source": [
    "#| eval: false\n",
    "two_lines_of_code = dedent('''\\\n",
    "    disp \"test 1\"\n",
    "    disp \"test 2\"\n",
    "    ''')\n",
    "run(two_lines_of_code, echo=False)"
   ]
  },
  {
   "cell_type": "markdown",
   "id": "4a8083d2",
   "metadata": {},
   "source": [
    "As a workaround when echo is not desired, we can run multiple commands as a Stata program:"
   ]
  },
  {
   "cell_type": "code",
   "execution_count": null,
   "id": "b56783cb",
   "metadata": {},
   "outputs": [
    {
     "name": "stdout",
     "output_type": "stream",
     "text": [
      "\n"
     ]
    }
   ],
   "source": [
    "#| eval: false\n",
    "run(f\"program temp_nbstata_program_name\\n{two_lines_of_code}\\nend\\n\", quietly=True)"
   ]
  },
  {
   "cell_type": "code",
   "execution_count": null,
   "id": "64126d40",
   "metadata": {},
   "outputs": [
    {
     "name": "stdout",
     "output_type": "stream",
     "text": [
      "test 1\n",
      "test 2\n"
     ]
    }
   ],
   "source": [
    "#| eval: false\n",
    "run(\"temp_nbstata_program_name\", quietly=False, inline=True, echo=False)"
   ]
  },
  {
   "cell_type": "code",
   "execution_count": null,
   "id": "21725d86",
   "metadata": {},
   "outputs": [],
   "source": [
    "#| eval: false\n",
    "run(f\"program drop temp_nbstata_program_name\", quietly=True)"
   ]
  },
  {
   "cell_type": "markdown",
   "id": "5462968a",
   "metadata": {},
   "source": [
    "The first `run` (defining the temp. program) prints an unwanted blank line despite setting \"quietly\" to True, so we block its printed output in the function version.\n",
    "\n",
    "(Note: This and the following two functions assume input Stata code standardized by `standardize_code`, which will be ensured by the `break_out_prog_blocks` within the final `run_noecho` wrapper function below.)"
   ]
  },
  {
   "cell_type": "code",
   "execution_count": null,
   "id": "6a262b11",
   "metadata": {},
   "outputs": [],
   "source": [
    "#| export\n",
    "def run_as_program(std_non_prog_code):\n",
    "    from pystata.stata import run\n",
    "    _program_name = \"temp_nbstata_program_name\"\n",
    "    _program_define_code = f\"program {_program_name}\\n{std_non_prog_code}\\nend\\n\"\n",
    "    with HiddenPrints():\n",
    "        run(_program_define_code, quietly=True)\n",
    "    try:\n",
    "        run(_program_name, quietly=False, inline=True, echo=False)\n",
    "    finally:\n",
    "        run(f\"program drop {_program_name}\", quietly=True)"
   ]
  },
  {
   "cell_type": "code",
   "execution_count": null,
   "id": "703e855d",
   "metadata": {},
   "outputs": [
    {
     "name": "stdout",
     "output_type": "stream",
     "text": [
      "test 1\n",
      "test 2\n"
     ]
    }
   ],
   "source": [
    "#| eval: false\n",
    "run_as_program(two_lines_of_code)"
   ]
  },
  {
   "cell_type": "markdown",
   "id": "8650b76d",
   "metadata": {},
   "source": [
    "To test resilience to Stata errors, let's intentionally run error-causing Stata code to ensure the error stays isolated to one code cell:"
   ]
  },
  {
   "cell_type": "code",
   "execution_count": null,
   "id": "ef18e7cd",
   "metadata": {},
   "outputs": [],
   "source": [
    "from fastcore.test import ExceptionExpected"
   ]
  },
  {
   "cell_type": "code",
   "execution_count": null,
   "id": "db4ea379",
   "metadata": {},
   "outputs": [],
   "source": [
    "#| eval: false\n",
    "with ExceptionExpected(SystemError):\n",
    "    run_as_program(\"error-causing code\")"
   ]
  },
  {
   "cell_type": "code",
   "execution_count": null,
   "id": "1f03bdf5",
   "metadata": {},
   "outputs": [
    {
     "name": "stdout",
     "output_type": "stream",
     "text": [
      "test 1\n",
      "test 2\n"
     ]
    }
   ],
   "source": [
    "#| eval: false\n",
    "run_as_program(two_lines_of_code)"
   ]
  },
  {
   "cell_type": "code",
   "execution_count": null,
   "id": "4d735745",
   "metadata": {},
   "outputs": [],
   "source": [
    "#| export\n",
    "def run_non_prog_noecho(std_non_prog_code, run_as_prog=run_as_program):\n",
    "    from pystata.stata import run\n",
    "    if len(std_non_prog_code.splitlines()) == 1:  # to keep it simple when we can\n",
    "        run(std_non_prog_code, quietly=False, inline=True, echo=False)\n",
    "    else:\n",
    "        run_as_prog(std_non_prog_code)"
   ]
  },
  {
   "cell_type": "code",
   "execution_count": null,
   "id": "0c9f6f82",
   "metadata": {},
   "outputs": [
    {
     "name": "stdout",
     "output_type": "stream",
     "text": [
      "test 1\n"
     ]
    }
   ],
   "source": [
    "#| eval: false\n",
    "run_non_prog_noecho('disp \"test 1\"')"
   ]
  },
  {
   "cell_type": "code",
   "execution_count": null,
   "id": "ab3c099f",
   "metadata": {},
   "outputs": [],
   "source": [
    "#| export\n",
    "def run_prog_noecho(std_prog_code):\n",
    "    from pystata.stata import run\n",
    "    if std_prog_code.splitlines()[0] in {'mata', 'mata:'}:  # b/c 'quietly' blocks mata output\n",
    "        run(std_prog_code, quietly=False, inline=True, echo=False)\n",
    "    else:\n",
    "        run(std_prog_code, quietly=True, inline=True, echo=False)"
   ]
  },
  {
   "cell_type": "markdown",
   "id": "109f2460",
   "metadata": {},
   "source": [
    "Other programs (that is, Stata's `program define`, as well as [mata](https://www.stata.com/manuals/m-1first.pdf) or [python](https://www.stata.com/stata-news/news35-3/python-blogs/) blocks) cannot be defined/run within a Stata program, however. Instead, we will just run them directly, quietly to prevent echo, except for the case of mata programs, in which case `quietly` would block the output."
   ]
  },
  {
   "cell_type": "code",
   "execution_count": null,
   "id": "4d6b899c",
   "metadata": {},
   "outputs": [],
   "source": [
    "#| eval: false\n",
    "#| hide\n",
    "run_as_program(\"capture program drop display1\")"
   ]
  },
  {
   "cell_type": "code",
   "execution_count": null,
   "id": "6be68f3c",
   "metadata": {},
   "outputs": [
    {
     "name": "stdout",
     "output_type": "stream",
     "text": [
      "\n",
      "display1 output\n"
     ]
    }
   ],
   "source": [
    "#| eval: false\n",
    "prog_block_code = dedent(\"\"\"\\\n",
    "    program define display1\n",
    "        disp \"display1 output\"\n",
    "    end\n",
    "    \"\"\")\n",
    "run_prog_noecho(prog_block_code)\n",
    "run(\"display1\", echo=False)"
   ]
  },
  {
   "cell_type": "code",
   "execution_count": null,
   "id": "f8d834fa",
   "metadata": {},
   "outputs": [
    {
     "name": "stdout",
     "output_type": "stream",
     "text": [
      "hello\n",
      "\n"
     ]
    }
   ],
   "source": [
    "#| eval: false\n",
    "python_block_code = dedent(\"\"\"\\\n",
    "    python:\n",
    "    print(\"hello\")\n",
    "    end\n",
    "    \"\"\")\n",
    "run_prog_noecho(python_block_code)"
   ]
  },
  {
   "cell_type": "code",
   "execution_count": null,
   "id": "6a3ab406",
   "metadata": {},
   "outputs": [
    {
     "name": "stdout",
     "output_type": "stream",
     "text": [
      "\n",
      ". mata:\n",
      "------------------------------------------------- mata (type end to exit) -----\n",
      ": display(\"hello\")\n",
      "hello\n",
      "\n",
      ": end\n",
      "-------------------------------------------------------------------------------\n",
      "\n",
      ". \n"
     ]
    }
   ],
   "source": [
    "#| eval: false\n",
    "mata_block_code = dedent(\"\"\"\\\n",
    "    mata:\n",
    "    display(\"hello\")\n",
    "    end\n",
    "    \"\"\")\n",
    "run_prog_noecho(mata_block_code)"
   ]
  },
  {
   "cell_type": "code",
   "execution_count": null,
   "id": "2e995de1",
   "metadata": {},
   "outputs": [],
   "source": [
    "#| export\n",
    "def run_noecho(code, starting_delimiter=None, run_as_prog=run_as_program):\n",
    "    \"\"\"After `break_out_prog_blocks`, run each prog and non-prog block noecho\"\"\"\n",
    "    for block in break_out_prog_blocks(code, starting_delimiter):\n",
    "        if block['is_prog']:\n",
    "            run_prog_noecho(block['std_code'])\n",
    "        else:\n",
    "            run_non_prog_noecho(block['std_code'], run_as_prog=run_as_prog)"
   ]
  },
  {
   "cell_type": "code",
   "execution_count": null,
   "id": "20188a1c",
   "metadata": {},
   "outputs": [
    {
     "name": "stdout",
     "output_type": "stream",
     "text": [
      "\n",
      "\n",
      "ender output\n"
     ]
    }
   ],
   "source": [
    "#| eval: false\n",
    "run_noecho(dedent('''\\\n",
    "    capture program drop ender\n",
    "    program define ender\n",
    "        disp \"ender output\"\n",
    "    end\n",
    "    capture program drop display2\n",
    "    program define display2\n",
    "        ender\n",
    "    end\n",
    "    display2\n",
    "    '''))"
   ]
  },
  {
   "cell_type": "markdown",
   "id": "f890e04a",
   "metadata": {},
   "source": [
    "## Divert Stata output to string"
   ]
  },
  {
   "cell_type": "code",
   "execution_count": null,
   "id": "c5d72fda",
   "metadata": {},
   "outputs": [],
   "source": [
    "#| export\n",
    "def diverted_stata_output(std_code, noecho=True):\n",
    "    import pystata\n",
    "    old_stdout = sys.stdout\n",
    "    diverted = StringIO()\n",
    "    sys.stdout = diverted\n",
    "    if noecho:\n",
    "        code = f\"capture log off\\n{std_code}\\ncapture log on\"\"\"\n",
    "        run_noecho(code) # multi-line code run as a program, which clears locals\n",
    "    else:\n",
    "        pystata.stata.run(\"capture log off\", quietly=True)\n",
    "        code = f\"{std_code}\\ncapture log on\"\"\"\n",
    "        pystata.stata.run(code, quietly=False, inline=True, echo=False)\n",
    "    sys.stdout = old_stdout\n",
    "    out = diverted.getvalue()\n",
    "    return out #.replace(\"\\n> \", \"\")"
   ]
  },
  {
   "cell_type": "code",
   "execution_count": null,
   "id": "2cab62d2",
   "metadata": {},
   "outputs": [
    {
     "name": "stdout",
     "output_type": "stream",
     "text": [
      "test 1\n",
      "test 2\n",
      "\n"
     ]
    }
   ],
   "source": [
    "#| eval: false\n",
    "print(diverted_stata_output(two_lines_of_code))"
   ]
  },
  {
   "cell_type": "code",
   "execution_count": null,
   "id": "f4ccfcfc",
   "metadata": {},
   "outputs": [
    {
     "name": "stdout",
     "output_type": "stream",
     "text": [
      "\n",
      ". disp \"test 1\"\n",
      "test 1\n",
      "\n",
      ". disp \"test 2\"\n",
      "test 2\n",
      "\n",
      ". \n",
      ". capture log on\n",
      "\n",
      ". \n",
      "\n"
     ]
    }
   ],
   "source": [
    "#| eval: false\n",
    "print(diverted_stata_output(two_lines_of_code, noecho=False))"
   ]
  },
  {
   "cell_type": "code",
   "execution_count": null,
   "id": "f83f5096",
   "metadata": {},
   "outputs": [
    {
     "name": "stdout",
     "output_type": "stream",
     "text": [
      "Noecho diverted run in 0.1297 seconds\n",
      "Echo diverted run in 0.0940 seconds\n"
     ]
    }
   ],
   "source": [
    "#| eval: false\n",
    "import time\n",
    "tic = time.perf_counter()\n",
    "diverted_stata_output(two_lines_of_code)\n",
    "toc = time.perf_counter()\n",
    "print(f\"Noecho diverted run in {toc - tic:0.4f} seconds\")\n",
    "tic = time.perf_counter()\n",
    "diverted_stata_output(two_lines_of_code, noecho=False)\n",
    "toc = time.perf_counter()\n",
    "print(f\"Echo diverted run in {toc - tic:0.4f} seconds\")"
   ]
  },
  {
   "cell_type": "code",
   "execution_count": null,
   "id": "edf70e12",
   "metadata": {},
   "outputs": [
    {
     "name": "stdout",
     "output_type": "stream",
     "text": [
      "Noecho diverted run in 0.1467 seconds\n"
     ]
    }
   ],
   "source": [
    "#| hide\n",
    "#| eval: false\n",
    "tic = time.perf_counter()\n",
    "diverted_stata_output(\"disp 1\")\n",
    "toc = time.perf_counter()\n",
    "print(f\"Noecho diverted run in {toc - tic:0.4f} seconds\")"
   ]
  },
  {
   "cell_type": "markdown",
   "id": "f4626645",
   "metadata": {},
   "source": [
    "## Stata-to-pandas"
   ]
  },
  {
   "cell_type": "markdown",
   "id": "502c8447",
   "metadata": {},
   "source": [
    "Reference Stata docs: [getAsDict example](https://blog.stata.com/2020/11/05/stata-python-integration-part-8-using-the-stata-function-interface-to-copy-data-from-stata-to-python/)"
   ]
  },
  {
   "cell_type": "code",
   "execution_count": null,
   "id": "c2e5195d",
   "metadata": {},
   "outputs": [],
   "source": [
    "#| export\n",
    "def simple_dataframe_from_stata(stfr, var, valuelabel, missingval):\n",
    "    from pystata import stata\n",
    "    if stfr is None:\n",
    "        df = stata.pdataframe_from_data(var=var, valuelabel=valuelabel, missingval=missingval)\n",
    "    else:\n",
    "        df = stata.pdataframe_from_frame(stfr, var=var, valuelabel=valuelabel, missingval=missingval)\n",
    "    df.index += 1\n",
    "    return df"
   ]
  },
  {
   "cell_type": "code",
   "execution_count": null,
   "id": "73eefe4f",
   "metadata": {},
   "outputs": [],
   "source": [
    "#| export\n",
    "def _better_dataframe(hdl, var, obs, selectvar, valuelabel, missingval):\n",
    "    import sfi, pystata\n",
    "    pystata.stata.run(\"\"\"tempvar indexvar\n",
    "                         generate `indexvar' = _n\"\"\", quietly=True)\n",
    "    idx_var = sfi.Macro.getLocal('indexvar')\n",
    "\n",
    "    data = hdl.getAsDict(var, obs, selectvar, valuelabel, missingval)\n",
    "\n",
    "    if idx_var in data:\n",
    "        idx = data.pop(idx_var)\n",
    "    else:\n",
    "        idx = hdl.getAsDict(idx_var, obs, selectvar, valuelabel, missingval).pop(idx_var)\n",
    "    idx = pd.array(idx, dtype='int64')\n",
    "    sfi.Data.dropVar(idx_var)\n",
    "\n",
    "    return pd.DataFrame(data=data, index=idx)"
   ]
  },
  {
   "cell_type": "code",
   "execution_count": null,
   "id": "993613b9",
   "metadata": {},
   "outputs": [],
   "source": [
    "#| export\n",
    "def _var_from_varlist(varlist, stfr):\n",
    "    if stfr:\n",
    "        var_code = varlist.strip()\n",
    "    else:\n",
    "        _program_name = \"temp_nbstata_varlist_name\"\n",
    "        var_code = diverted_stata_output(f\"\"\"\\\n",
    "            program {_program_name}\n",
    "                syntax [varlist(default=none)]\n",
    "                disp \"`varlist'\"\n",
    "            end\n",
    "            {_program_name} {varlist}\n",
    "            program drop {_program_name}\n",
    "            \"\"\").strip()\n",
    "    return [c.strip() for c in var_code.split() if c] if var_code else None"
   ]
  },
  {
   "cell_type": "code",
   "execution_count": null,
   "id": "0d9eea74",
   "metadata": {},
   "outputs": [],
   "source": [
    "#| export\n",
    "def better_dataframe_from_stata(stfr, varlist, obs, selectvar, valuelabel, missingval, sformat):\n",
    "    import sfi, pystata\n",
    "    hdl = sfi.Data if stfr is None else sfi.Frame.connect(stfr)\n",
    "    var = _var_from_varlist(varlist, stfr)\n",
    "    custom_index_not_needed = obs is None and not selectvar\n",
    "    if custom_index_not_needed:\n",
    "        df = simple_dataframe_from_stata(stfr, var, valuelabel, missingval)\n",
    "    else:\n",
    "        if hdl.getObsTotal() <= 0:\n",
    "            return pd.DataFrame()\n",
    "        df = _better_dataframe(hdl, var, obs, selectvar, valuelabel, missingval)\n",
    "    if sformat:\n",
    "        for v in list(df.columns):\n",
    "            if hdl.isVarTypeString(v) or (valuelabel and missingval==np.NaN\n",
    "                                          and pd.api.types.is_string_dtype(df[v])):\n",
    "                continue\n",
    "            v_format = hdl.getVarFormat(v)\n",
    "            if missingval != np.NaN and pd.api.types.is_string_dtype(df[v]):\n",
    "                def format_value(x):\n",
    "                    return sfi.SFIToolkit.formatValue(x, v_format) if type(x)!=str else x\n",
    "            else:\n",
    "                def format_value(x):\n",
    "                    return sfi.SFIToolkit.formatValue(x, v_format)\n",
    "            df[v] = df[v].apply(format_value)\n",
    "    return df"
   ]
  },
  {
   "cell_type": "code",
   "execution_count": null,
   "id": "c291c4bf",
   "metadata": {},
   "outputs": [],
   "source": [
    "#| export\n",
    "def better_pdataframe_from_data(varlist=\"\", obs=None, selectvar=None, valuelabel=False, missingval=np.NaN, sformat=False):\n",
    "    import pystata\n",
    "    pystata.config.check_initialized()\n",
    "\n",
    "    return better_dataframe_from_stata(None, varlist, obs, selectvar, valuelabel, missingval, sformat)"
   ]
  },
  {
   "cell_type": "code",
   "execution_count": null,
   "id": "c8ff52de",
   "metadata": {},
   "outputs": [],
   "source": [
    "#| export\n",
    "def better_pdataframe_from_frame(stfr, varlist=\"\", obs=None, selectvar=None, valuelabel=False, missingval=np.NaN, sformat=False):\n",
    "    import pystata\n",
    "    pystata.config.check_initialized()\n",
    "\n",
    "    return better_dataframe_from_stata(stfr, varlist, obs, selectvar, valuelabel, missingval, sformat)"
   ]
  },
  {
   "cell_type": "code",
   "execution_count": null,
   "id": "9248153a",
   "metadata": {},
   "outputs": [
    {
     "name": "stdout",
     "output_type": "stream",
     "text": [
      "(U.S. life expectancy, 1900-1940)\n",
      "(1 real change made, 1 to missing)\n",
      "(1 real change made)\n",
      "(1 missing value generated)\n"
     ]
    },
    {
     "data": {
      "text/html": [
       "<div>\n",
       "<style scoped>\n",
       "    .dataframe tbody tr th:only-of-type {\n",
       "        vertical-align: middle;\n",
       "    }\n",
       "\n",
       "    .dataframe tbody tr th {\n",
       "        vertical-align: top;\n",
       "    }\n",
       "\n",
       "    .dataframe thead th {\n",
       "        text-align: right;\n",
       "    }\n",
       "</style>\n",
       "<table border=\"1\" class=\"dataframe\">\n",
       "  <thead>\n",
       "    <tr style=\"text-align: right;\">\n",
       "      <th></th>\n",
       "      <th>year</th>\n",
       "      <th>le</th>\n",
       "      <th>str_var</th>\n",
       "      <th>date</th>\n",
       "      <th>date_tc</th>\n",
       "      <th>date_tC</th>\n",
       "    </tr>\n",
       "  </thead>\n",
       "  <tbody>\n",
       "    <tr>\n",
       "      <th>1</th>\n",
       "      <td>2022</td>\n",
       "      <td>47.299999</td>\n",
       "      <td>test string</td>\n",
       "      <td>22646.0</td>\n",
       "      <td>1.956614e+12</td>\n",
       "      <td>1.956614e+12</td>\n",
       "    </tr>\n",
       "    <tr>\n",
       "      <th>2</th>\n",
       "      <td>1901</td>\n",
       "      <td>49.099998</td>\n",
       "      <td>test string</td>\n",
       "      <td>-21549.0</td>\n",
       "      <td>-1.861834e+12</td>\n",
       "      <td>-1.861834e+12</td>\n",
       "    </tr>\n",
       "    <tr>\n",
       "      <th>3</th>\n",
       "      <td>1902</td>\n",
       "      <td>51.500000</td>\n",
       "      <td>test string</td>\n",
       "      <td>-21184.0</td>\n",
       "      <td>-1.830298e+12</td>\n",
       "      <td>-1.830298e+12</td>\n",
       "    </tr>\n",
       "    <tr>\n",
       "      <th>4</th>\n",
       "      <td>1903</td>\n",
       "      <td>50.500000</td>\n",
       "      <td>test string</td>\n",
       "      <td>-20819.0</td>\n",
       "      <td>-1.798762e+12</td>\n",
       "      <td>-1.798762e+12</td>\n",
       "    </tr>\n",
       "    <tr>\n",
       "      <th>5</th>\n",
       "      <td>1904</td>\n",
       "      <td>NaN</td>\n",
       "      <td></td>\n",
       "      <td>-20454.0</td>\n",
       "      <td>-1.767226e+12</td>\n",
       "      <td>-1.767226e+12</td>\n",
       "    </tr>\n",
       "  </tbody>\n",
       "</table>\n",
       "</div>"
      ],
      "text/plain": [
       "   year         le      str_var     date       date_tc       date_tC\n",
       "1  2022  47.299999  test string  22646.0  1.956614e+12  1.956614e+12\n",
       "2  1901  49.099998  test string -21549.0 -1.861834e+12 -1.861834e+12\n",
       "3  1902  51.500000  test string -21184.0 -1.830298e+12 -1.830298e+12\n",
       "4  1903  50.500000  test string -20819.0 -1.798762e+12 -1.798762e+12\n",
       "5  1904        NaN              -20454.0 -1.767226e+12 -1.767226e+12"
      ]
     },
     "execution_count": null,
     "metadata": {},
     "output_type": "execute_result"
    }
   ],
   "source": [
    "#| eval: False\n",
    "run_noecho(\"\"\"\\\n",
    "sysuse uslifeexp2, clear\n",
    "replace le = . if _n==5\n",
    "replace year = 2022 if year==1900\n",
    "format year %-ty\n",
    "gen str_var = \"test string\" if _n!=5\n",
    "gen date = dofy(year)\n",
    "format date %td\n",
    "gen double date_tc = cofd(date)\n",
    "format date_tc %tc\n",
    "gen double date_tC = Cofd(date)\n",
    "format date_tC %tC\n",
    "\"\"\")\n",
    "better_pdataframe_from_data().head()"
   ]
  },
  {
   "cell_type": "code",
   "execution_count": null,
   "id": "24920f54",
   "metadata": {},
   "outputs": [
    {
     "data": {
      "text/html": [
       "<div>\n",
       "<style scoped>\n",
       "    .dataframe tbody tr th:only-of-type {\n",
       "        vertical-align: middle;\n",
       "    }\n",
       "\n",
       "    .dataframe tbody tr th {\n",
       "        vertical-align: top;\n",
       "    }\n",
       "\n",
       "    .dataframe thead th {\n",
       "        text-align: right;\n",
       "    }\n",
       "</style>\n",
       "<table border=\"1\" class=\"dataframe\">\n",
       "  <thead>\n",
       "    <tr style=\"text-align: right;\">\n",
       "      <th></th>\n",
       "      <th>year</th>\n",
       "      <th>le</th>\n",
       "      <th>str_var</th>\n",
       "      <th>date</th>\n",
       "      <th>date_tc</th>\n",
       "      <th>date_tC</th>\n",
       "    </tr>\n",
       "  </thead>\n",
       "  <tbody>\n",
       "    <tr>\n",
       "      <th>1</th>\n",
       "      <td>2022</td>\n",
       "      <td>47.3</td>\n",
       "      <td>test string</td>\n",
       "      <td>01jan2022</td>\n",
       "      <td>01jan2022 00:00:00</td>\n",
       "      <td>01jan2022 00:00:00</td>\n",
       "    </tr>\n",
       "    <tr>\n",
       "      <th>2</th>\n",
       "      <td>1901</td>\n",
       "      <td>49.1</td>\n",
       "      <td>test string</td>\n",
       "      <td>01jan1901</td>\n",
       "      <td>01jan1901 00:00:00</td>\n",
       "      <td>01jan1901 00:00:00</td>\n",
       "    </tr>\n",
       "    <tr>\n",
       "      <th>3</th>\n",
       "      <td>1902</td>\n",
       "      <td>51.5</td>\n",
       "      <td>test string</td>\n",
       "      <td>01jan1902</td>\n",
       "      <td>01jan1902 00:00:00</td>\n",
       "      <td>01jan1902 00:00:00</td>\n",
       "    </tr>\n",
       "    <tr>\n",
       "      <th>4</th>\n",
       "      <td>1903</td>\n",
       "      <td>50.5</td>\n",
       "      <td>test string</td>\n",
       "      <td>01jan1903</td>\n",
       "      <td>01jan1903 00:00:00</td>\n",
       "      <td>01jan1903 00:00:00</td>\n",
       "    </tr>\n",
       "    <tr>\n",
       "      <th>5</th>\n",
       "      <td>1904</td>\n",
       "      <td>.</td>\n",
       "      <td></td>\n",
       "      <td>01jan1904</td>\n",
       "      <td>01jan1904 00:00:00</td>\n",
       "      <td>01jan1904 00:00:00</td>\n",
       "    </tr>\n",
       "  </tbody>\n",
       "</table>\n",
       "</div>"
      ],
      "text/plain": [
       "   year         le      str_var       date             date_tc  \\\n",
       "1  2022       47.3  test string  01jan2022  01jan2022 00:00:00   \n",
       "2  1901       49.1  test string  01jan1901  01jan1901 00:00:00   \n",
       "3  1902       51.5  test string  01jan1902  01jan1902 00:00:00   \n",
       "4  1903       50.5  test string  01jan1903  01jan1903 00:00:00   \n",
       "5  1904          .               01jan1904  01jan1904 00:00:00   \n",
       "\n",
       "              date_tC  \n",
       "1  01jan2022 00:00:00  \n",
       "2  01jan1901 00:00:00  \n",
       "3  01jan1902 00:00:00  \n",
       "4  01jan1903 00:00:00  \n",
       "5  01jan1904 00:00:00  "
      ]
     },
     "execution_count": null,
     "metadata": {},
     "output_type": "execute_result"
    }
   ],
   "source": [
    "#| eval: False\n",
    "better_pdataframe_from_data(sformat=True).head()"
   ]
  },
  {
   "cell_type": "code",
   "execution_count": null,
   "id": "18a1ba6b",
   "metadata": {},
   "outputs": [
    {
     "data": {
      "text/html": [
       "<div>\n",
       "<style scoped>\n",
       "    .dataframe tbody tr th:only-of-type {\n",
       "        vertical-align: middle;\n",
       "    }\n",
       "\n",
       "    .dataframe tbody tr th {\n",
       "        vertical-align: top;\n",
       "    }\n",
       "\n",
       "    .dataframe thead th {\n",
       "        text-align: right;\n",
       "    }\n",
       "</style>\n",
       "<table border=\"1\" class=\"dataframe\">\n",
       "  <thead>\n",
       "    <tr style=\"text-align: right;\">\n",
       "      <th></th>\n",
       "      <th>year</th>\n",
       "      <th>le</th>\n",
       "      <th>str_var</th>\n",
       "      <th>date</th>\n",
       "      <th>date_tc</th>\n",
       "      <th>date_tC</th>\n",
       "    </tr>\n",
       "  </thead>\n",
       "  <tbody>\n",
       "    <tr>\n",
       "      <th>1</th>\n",
       "      <td>2022</td>\n",
       "      <td>47.3</td>\n",
       "      <td>test string</td>\n",
       "      <td>01jan2022</td>\n",
       "      <td>01jan2022 00:00:00</td>\n",
       "      <td>01jan2022 00:00:00</td>\n",
       "    </tr>\n",
       "    <tr>\n",
       "      <th>2</th>\n",
       "      <td>1901</td>\n",
       "      <td>49.1</td>\n",
       "      <td>test string</td>\n",
       "      <td>01jan1901</td>\n",
       "      <td>01jan1901 00:00:00</td>\n",
       "      <td>01jan1901 00:00:00</td>\n",
       "    </tr>\n",
       "    <tr>\n",
       "      <th>3</th>\n",
       "      <td>1902</td>\n",
       "      <td>51.5</td>\n",
       "      <td>test string</td>\n",
       "      <td>01jan1902</td>\n",
       "      <td>01jan1902 00:00:00</td>\n",
       "      <td>01jan1902 00:00:00</td>\n",
       "    </tr>\n",
       "    <tr>\n",
       "      <th>4</th>\n",
       "      <td>1903</td>\n",
       "      <td>50.5</td>\n",
       "      <td>test string</td>\n",
       "      <td>01jan1903</td>\n",
       "      <td>01jan1903 00:00:00</td>\n",
       "      <td>01jan1903 00:00:00</td>\n",
       "    </tr>\n",
       "    <tr>\n",
       "      <th>5</th>\n",
       "      <td>1904</td>\n",
       "      <td>.</td>\n",
       "      <td></td>\n",
       "      <td>01jan1904</td>\n",
       "      <td>01jan1904 00:00:00</td>\n",
       "      <td>01jan1904 00:00:00</td>\n",
       "    </tr>\n",
       "  </tbody>\n",
       "</table>\n",
       "</div>"
      ],
      "text/plain": [
       "   year         le      str_var       date             date_tc  \\\n",
       "1  2022       47.3  test string  01jan2022  01jan2022 00:00:00   \n",
       "2  1901       49.1  test string  01jan1901  01jan1901 00:00:00   \n",
       "3  1902       51.5  test string  01jan1902  01jan1902 00:00:00   \n",
       "4  1903       50.5  test string  01jan1903  01jan1903 00:00:00   \n",
       "5  1904          .               01jan1904  01jan1904 00:00:00   \n",
       "\n",
       "              date_tC  \n",
       "1  01jan2022 00:00:00  \n",
       "2  01jan1901 00:00:00  \n",
       "3  01jan1902 00:00:00  \n",
       "4  01jan1903 00:00:00  \n",
       "5  01jan1904 00:00:00  "
      ]
     },
     "execution_count": null,
     "metadata": {},
     "output_type": "execute_result"
    }
   ],
   "source": [
    "#| hide\n",
    "#| eval: False\n",
    "better_pdataframe_from_data(valuelabel=True, sformat=True, missingval=\".\").head()"
   ]
  },
  {
   "cell_type": "code",
   "execution_count": null,
   "id": "9ebb3a9f",
   "metadata": {},
   "outputs": [
    {
     "data": {
      "text/html": [
       "<div>\n",
       "<style scoped>\n",
       "    .dataframe tbody tr th:only-of-type {\n",
       "        vertical-align: middle;\n",
       "    }\n",
       "\n",
       "    .dataframe tbody tr th {\n",
       "        vertical-align: top;\n",
       "    }\n",
       "\n",
       "    .dataframe thead th {\n",
       "        text-align: right;\n",
       "    }\n",
       "</style>\n",
       "<table border=\"1\" class=\"dataframe\">\n",
       "  <thead>\n",
       "    <tr style=\"text-align: right;\">\n",
       "      <th></th>\n",
       "      <th>year</th>\n",
       "      <th>le</th>\n",
       "      <th>str_var</th>\n",
       "      <th>date</th>\n",
       "      <th>date_tc</th>\n",
       "      <th>date_tC</th>\n",
       "    </tr>\n",
       "  </thead>\n",
       "  <tbody>\n",
       "    <tr>\n",
       "      <th>1</th>\n",
       "      <td>2022</td>\n",
       "      <td>47.3</td>\n",
       "      <td>test string</td>\n",
       "      <td>01jan2022</td>\n",
       "      <td>01jan2022 00:00:00</td>\n",
       "      <td>01jan2022 00:00:00</td>\n",
       "    </tr>\n",
       "    <tr>\n",
       "      <th>2</th>\n",
       "      <td>1901</td>\n",
       "      <td>49.1</td>\n",
       "      <td>test string</td>\n",
       "      <td>01jan1901</td>\n",
       "      <td>01jan1901 00:00:00</td>\n",
       "      <td>01jan1901 00:00:00</td>\n",
       "    </tr>\n",
       "    <tr>\n",
       "      <th>3</th>\n",
       "      <td>1902</td>\n",
       "      <td>51.5</td>\n",
       "      <td>test string</td>\n",
       "      <td>01jan1902</td>\n",
       "      <td>01jan1902 00:00:00</td>\n",
       "      <td>01jan1902 00:00:00</td>\n",
       "    </tr>\n",
       "    <tr>\n",
       "      <th>4</th>\n",
       "      <td>1903</td>\n",
       "      <td>50.5</td>\n",
       "      <td>test string</td>\n",
       "      <td>01jan1903</td>\n",
       "      <td>01jan1903 00:00:00</td>\n",
       "      <td>01jan1903 00:00:00</td>\n",
       "    </tr>\n",
       "    <tr>\n",
       "      <th>5</th>\n",
       "      <td>1904</td>\n",
       "      <td>.</td>\n",
       "      <td></td>\n",
       "      <td>01jan1904</td>\n",
       "      <td>01jan1904 00:00:00</td>\n",
       "      <td>01jan1904 00:00:00</td>\n",
       "    </tr>\n",
       "  </tbody>\n",
       "</table>\n",
       "</div>"
      ],
      "text/plain": [
       "   year         le      str_var       date             date_tc  \\\n",
       "1  2022       47.3  test string  01jan2022  01jan2022 00:00:00   \n",
       "2  1901       49.1  test string  01jan1901  01jan1901 00:00:00   \n",
       "3  1902       51.5  test string  01jan1902  01jan1902 00:00:00   \n",
       "4  1903       50.5  test string  01jan1903  01jan1903 00:00:00   \n",
       "5  1904          .               01jan1904  01jan1904 00:00:00   \n",
       "\n",
       "              date_tC  \n",
       "1  01jan2022 00:00:00  \n",
       "2  01jan1901 00:00:00  \n",
       "3  01jan1902 00:00:00  \n",
       "4  01jan1903 00:00:00  \n",
       "5  01jan1904 00:00:00  "
      ]
     },
     "execution_count": null,
     "metadata": {},
     "output_type": "execute_result"
    }
   ],
   "source": [
    "#| hide\n",
    "#| eval: False\n",
    "better_pdataframe_from_data(sformat=True, missingval=\".\").head()"
   ]
  },
  {
   "cell_type": "code",
   "execution_count": null,
   "id": "91850658",
   "metadata": {},
   "outputs": [
    {
     "name": "stdout",
     "output_type": "stream",
     "text": [
      "\n"
     ]
    },
    {
     "data": {
      "text/html": [
       "<div>\n",
       "<style scoped>\n",
       "    .dataframe tbody tr th:only-of-type {\n",
       "        vertical-align: middle;\n",
       "    }\n",
       "\n",
       "    .dataframe tbody tr th {\n",
       "        vertical-align: top;\n",
       "    }\n",
       "\n",
       "    .dataframe thead th {\n",
       "        text-align: right;\n",
       "    }\n",
       "</style>\n",
       "<table border=\"1\" class=\"dataframe\">\n",
       "  <thead>\n",
       "    <tr style=\"text-align: right;\">\n",
       "      <th></th>\n",
       "      <th>year</th>\n",
       "      <th>le</th>\n",
       "      <th>str_var</th>\n",
       "      <th>date</th>\n",
       "      <th>date_tc</th>\n",
       "      <th>date_tC</th>\n",
       "    </tr>\n",
       "  </thead>\n",
       "  <tbody>\n",
       "    <tr>\n",
       "      <th>2</th>\n",
       "      <td>1901</td>\n",
       "      <td>49.099998</td>\n",
       "      <td>test string</td>\n",
       "      <td>-21549.0</td>\n",
       "      <td>-1.861834e+12</td>\n",
       "      <td>-1.861834e+12</td>\n",
       "    </tr>\n",
       "    <tr>\n",
       "      <th>3</th>\n",
       "      <td>1902</td>\n",
       "      <td>51.500000</td>\n",
       "      <td>test string</td>\n",
       "      <td>-21184.0</td>\n",
       "      <td>-1.830298e+12</td>\n",
       "      <td>-1.830298e+12</td>\n",
       "    </tr>\n",
       "  </tbody>\n",
       "</table>\n",
       "</div>"
      ],
      "text/plain": [
       "   year         le      str_var     date       date_tc       date_tC\n",
       "2  1901  49.099998  test string -21549.0 -1.861834e+12 -1.861834e+12\n",
       "3  1902  51.500000  test string -21184.0 -1.830298e+12 -1.830298e+12"
      ]
     },
     "execution_count": null,
     "metadata": {},
     "output_type": "execute_result"
    }
   ],
   "source": [
    "#| hide\n",
    "#| eval: False\n",
    "better_pdataframe_from_data(obs=range(1, 3)).head()"
   ]
  },
  {
   "cell_type": "code",
   "execution_count": null,
   "id": "0787c571",
   "metadata": {},
   "outputs": [
    {
     "data": {
      "text/html": [
       "<div>\n",
       "<style scoped>\n",
       "    .dataframe tbody tr th:only-of-type {\n",
       "        vertical-align: middle;\n",
       "    }\n",
       "\n",
       "    .dataframe tbody tr th {\n",
       "        vertical-align: top;\n",
       "    }\n",
       "\n",
       "    .dataframe thead th {\n",
       "        text-align: right;\n",
       "    }\n",
       "</style>\n",
       "<table border=\"1\" class=\"dataframe\">\n",
       "  <thead>\n",
       "    <tr style=\"text-align: right;\">\n",
       "      <th></th>\n",
       "      <th>year</th>\n",
       "      <th>le</th>\n",
       "      <th>str_var</th>\n",
       "      <th>date</th>\n",
       "      <th>date_tc</th>\n",
       "      <th>date_tC</th>\n",
       "    </tr>\n",
       "  </thead>\n",
       "  <tbody>\n",
       "    <tr>\n",
       "      <th>1</th>\n",
       "      <td>2022</td>\n",
       "      <td>47.299999</td>\n",
       "      <td>test string</td>\n",
       "      <td>22646.0</td>\n",
       "      <td>1.956614e+12</td>\n",
       "      <td>1.956614e+12</td>\n",
       "    </tr>\n",
       "    <tr>\n",
       "      <th>2</th>\n",
       "      <td>1901</td>\n",
       "      <td>49.099998</td>\n",
       "      <td>test string</td>\n",
       "      <td>-21549.0</td>\n",
       "      <td>-1.861834e+12</td>\n",
       "      <td>-1.861834e+12</td>\n",
       "    </tr>\n",
       "    <tr>\n",
       "      <th>3</th>\n",
       "      <td>1902</td>\n",
       "      <td>51.5</td>\n",
       "      <td>test string</td>\n",
       "      <td>-21184.0</td>\n",
       "      <td>-1.830298e+12</td>\n",
       "      <td>-1.830298e+12</td>\n",
       "    </tr>\n",
       "    <tr>\n",
       "      <th>4</th>\n",
       "      <td>1903</td>\n",
       "      <td>50.5</td>\n",
       "      <td>test string</td>\n",
       "      <td>-20819.0</td>\n",
       "      <td>-1.798762e+12</td>\n",
       "      <td>-1.798762e+12</td>\n",
       "    </tr>\n",
       "    <tr>\n",
       "      <th>5</th>\n",
       "      <td>1904</td>\n",
       "      <td>.</td>\n",
       "      <td></td>\n",
       "      <td>-20454.0</td>\n",
       "      <td>-1.767226e+12</td>\n",
       "      <td>-1.767226e+12</td>\n",
       "    </tr>\n",
       "  </tbody>\n",
       "</table>\n",
       "</div>"
      ],
      "text/plain": [
       "   year         le      str_var     date       date_tc       date_tC\n",
       "1  2022  47.299999  test string  22646.0  1.956614e+12  1.956614e+12\n",
       "2  1901  49.099998  test string -21549.0 -1.861834e+12 -1.861834e+12\n",
       "3  1902       51.5  test string -21184.0 -1.830298e+12 -1.830298e+12\n",
       "4  1903       50.5  test string -20819.0 -1.798762e+12 -1.798762e+12\n",
       "5  1904          .              -20454.0 -1.767226e+12 -1.767226e+12"
      ]
     },
     "execution_count": null,
     "metadata": {},
     "output_type": "execute_result"
    }
   ],
   "source": [
    "#| hide\n",
    "#| eval: False\n",
    "better_pdataframe_from_data(missingval='.').head()"
   ]
  },
  {
   "cell_type": "code",
   "execution_count": null,
   "id": "6d305ca2",
   "metadata": {},
   "outputs": [
    {
     "data": {
      "text/html": [
       "<div>\n",
       "<style scoped>\n",
       "    .dataframe tbody tr th:only-of-type {\n",
       "        vertical-align: middle;\n",
       "    }\n",
       "\n",
       "    .dataframe tbody tr th {\n",
       "        vertical-align: top;\n",
       "    }\n",
       "\n",
       "    .dataframe thead th {\n",
       "        text-align: right;\n",
       "    }\n",
       "</style>\n",
       "<table border=\"1\" class=\"dataframe\">\n",
       "  <thead>\n",
       "    <tr style=\"text-align: right;\">\n",
       "      <th></th>\n",
       "      <th>year</th>\n",
       "      <th>date_tc</th>\n",
       "      <th>date_tC</th>\n",
       "    </tr>\n",
       "  </thead>\n",
       "  <tbody>\n",
       "    <tr>\n",
       "      <th>1</th>\n",
       "      <td>2022</td>\n",
       "      <td>1.956614e+12</td>\n",
       "      <td>1.956614e+12</td>\n",
       "    </tr>\n",
       "    <tr>\n",
       "      <th>2</th>\n",
       "      <td>1901</td>\n",
       "      <td>-1.861834e+12</td>\n",
       "      <td>-1.861834e+12</td>\n",
       "    </tr>\n",
       "    <tr>\n",
       "      <th>3</th>\n",
       "      <td>1902</td>\n",
       "      <td>-1.830298e+12</td>\n",
       "      <td>-1.830298e+12</td>\n",
       "    </tr>\n",
       "    <tr>\n",
       "      <th>4</th>\n",
       "      <td>1903</td>\n",
       "      <td>-1.798762e+12</td>\n",
       "      <td>-1.798762e+12</td>\n",
       "    </tr>\n",
       "    <tr>\n",
       "      <th>5</th>\n",
       "      <td>1904</td>\n",
       "      <td>-1.767226e+12</td>\n",
       "      <td>-1.767226e+12</td>\n",
       "    </tr>\n",
       "  </tbody>\n",
       "</table>\n",
       "</div>"
      ],
      "text/plain": [
       "   year       date_tc       date_tC\n",
       "1  2022  1.956614e+12  1.956614e+12\n",
       "2  1901 -1.861834e+12 -1.861834e+12\n",
       "3  1902 -1.830298e+12 -1.830298e+12\n",
       "4  1903 -1.798762e+12 -1.798762e+12\n",
       "5  1904 -1.767226e+12 -1.767226e+12"
      ]
     },
     "execution_count": null,
     "metadata": {},
     "output_type": "execute_result"
    }
   ],
   "source": [
    "#| hide\n",
    "#| eval: False\n",
    "better_pdataframe_from_data(varlist='y date_*').head()"
   ]
  },
  {
   "cell_type": "code",
   "execution_count": null,
   "id": "1c6dd777",
   "metadata": {},
   "outputs": [],
   "source": [
    "#| hide\n",
    "import nbdev; nbdev.nbdev_export()"
   ]
  }
 ],
 "metadata": {
  "kernelspec": {
   "display_name": "Python 3 (ipykernel)",
   "language": "python",
   "name": "python3"
  }
 },
 "nbformat": 4,
 "nbformat_minor": 5
}
