{
 "cells": [
  {
   "cell_type": "markdown",
   "id": "2c184729",
   "metadata": {},
   "source": [
    "# helpers\n",
    "\n",
    "> Helper functions that require Stata to be running (but no Jupyter dependence)"
   ]
  },
  {
   "cell_type": "markdown",
   "id": "e2014567",
   "metadata": {},
   "source": [
    "`sfi` is [Stata's python API](https://www.stata.com/python/api17/index.html), originally intended for interacting with Stata from python *within Stata*. As such, it can only be imported with Stata running.\n",
    "`pystata.stata.run` [enables running Stata code from python](https://www.stata.com/python/pystata/stata.html#pystata.stata.run)."
   ]
  },
  {
   "cell_type": "code",
   "execution_count": null,
   "id": "c7fb586a",
   "metadata": {},
   "outputs": [],
   "source": [
    "#| default_exp helpers\n",
    "%load_ext autoreload\n",
    "%autoreload 2"
   ]
  },
  {
   "cell_type": "code",
   "execution_count": null,
   "id": "026b00b7",
   "metadata": {},
   "outputs": [],
   "source": [
    "#| hide\n",
    "from nbdev.showdoc import *\n",
    "from fastcore.test import test_eq"
   ]
  },
  {
   "cell_type": "code",
   "execution_count": null,
   "id": "4b35edd5",
   "metadata": {},
   "outputs": [],
   "source": [
    "#| export\n",
    "from nbstata.config import launch_stata\n",
    "from nbstata.parsers import break_out_prog_blocks\n",
    "import pandas as pd\n",
    "import numpy as np"
   ]
  },
  {
   "cell_type": "code",
   "execution_count": null,
   "id": "d154ce49",
   "metadata": {},
   "outputs": [],
   "source": [
    "#| export\n",
    "def count():\n",
    "    \"\"\"Count the number of observations\"\"\"\n",
    "    import sfi\n",
    "    return sfi.Data.getObsTotal()"
   ]
  },
  {
   "cell_type": "code",
   "execution_count": null,
   "id": "4f08f29b",
   "metadata": {},
   "outputs": [
    {
     "data": {
      "text/plain": [
       "0"
      ]
     },
     "execution_count": null,
     "metadata": {},
     "output_type": "execute_result"
    }
   ],
   "source": [
    "#| eval: false\n",
    "launch_stata(splash=False)\n",
    "count()"
   ]
  },
  {
   "cell_type": "markdown",
   "id": "7f47df15",
   "metadata": {},
   "source": [
    "`pystata.stata.run` echos multiple commands even when the `echo` parameter is set to `False`."
   ]
  },
  {
   "cell_type": "code",
   "execution_count": null,
   "id": "0c1295e5",
   "metadata": {},
   "outputs": [
    {
     "name": "stdout",
     "output_type": "stream",
     "text": [
      "test 1\n"
     ]
    }
   ],
   "source": [
    "#| eval: false\n",
    "from pystata.stata import run\n",
    "run('disp \"test 1\"', echo=False)"
   ]
  },
  {
   "cell_type": "code",
   "execution_count": null,
   "id": "2d84d303",
   "metadata": {},
   "outputs": [
    {
     "name": "stdout",
     "output_type": "stream",
     "text": [
      "\n",
      ". disp \"test 1\"\n",
      "test 1\n",
      "\n",
      ". disp \"test 2\"\n",
      "test 2\n",
      "\n",
      ". \n"
     ]
    }
   ],
   "source": [
    "#| eval: false\n",
    "two_lines_of_code = '''disp \"test 1\"\n",
    "disp \"test 2\"'''\n",
    "run(two_lines_of_code, echo=False)"
   ]
  },
  {
   "cell_type": "markdown",
   "id": "4a8083d2",
   "metadata": {},
   "source": [
    "As a workaround when echo is not desired, we can run multiple commands as a Stata program:"
   ]
  },
  {
   "cell_type": "code",
   "execution_count": null,
   "id": "c19187cd",
   "metadata": {},
   "outputs": [
    {
     "name": "stdout",
     "output_type": "stream",
     "text": [
      "\n"
     ]
    }
   ],
   "source": [
    "#| eval: false\n",
    "run(f\"program temp_nbstata_program_name\\n{two_lines_of_code}\\nend\\n\", quietly=True)"
   ]
  },
  {
   "cell_type": "code",
   "execution_count": null,
   "id": "b0776fa8",
   "metadata": {},
   "outputs": [
    {
     "name": "stdout",
     "output_type": "stream",
     "text": [
      "test 1\n",
      "test 2\n"
     ]
    }
   ],
   "source": [
    "#| eval: false\n",
    "run(\"temp_nbstata_program_name\", quietly=False, inline=True, echo=False)"
   ]
  },
  {
   "cell_type": "code",
   "execution_count": null,
   "id": "4f72fb5e",
   "metadata": {},
   "outputs": [],
   "source": [
    "#| eval: false\n",
    "run(f\"program drop temp_nbstata_program_name\", quietly=True)"
   ]
  },
  {
   "cell_type": "markdown",
   "id": "243ead0b",
   "metadata": {},
   "source": [
    "Unfortunately, the first `run` prints a blank line, so we block that from printing in the function def below:"
   ]
  },
  {
   "cell_type": "code",
   "execution_count": null,
   "id": "6a262b11",
   "metadata": {},
   "outputs": [],
   "source": [
    "#| export\n",
    "def _run_as_program(clean_non_prog_code):\n",
    "    from pystata.stata import run\n",
    "    _program_name = \"temp_nbstata_program_name\"\n",
    "    _program_define_code = f\"program {_program_name}\\n{clean_non_prog_code}\\nend\\n\"\n",
    "    run(_program_define_code, quietly=True)\n",
    "    try:\n",
    "        run(_program_name, quietly=False, inline=True, echo=False)\n",
    "    finally:\n",
    "        run(f\"program drop {_program_name}\", quietly=True)"
   ]
  },
  {
   "cell_type": "markdown",
   "id": "ba775451",
   "metadata": {},
   "source": [
    "First intentionally run error-causing Stata code to ensure try-finally works to isolate such errors to one cell:"
   ]
  },
  {
   "cell_type": "code",
   "execution_count": null,
   "id": "b97650d7",
   "metadata": {},
   "outputs": [
    {
     "name": "stdout",
     "output_type": "stream",
     "text": [
      "\n"
     ]
    },
    {
     "ename": "SystemError",
     "evalue": "causing not found\nr(197);\n",
     "output_type": "error",
     "traceback": [
      "\u001b[1;31m---------------------------------------------------------------------------\u001b[0m",
      "\u001b[1;31mSystemError\u001b[0m                               Traceback (most recent call last)",
      "Input \u001b[1;32mIn [12]\u001b[0m, in \u001b[0;36m<cell line: 2>\u001b[1;34m()\u001b[0m\n\u001b[0;32m      1\u001b[0m \u001b[38;5;66;03m#| eval: false\u001b[39;00m\n\u001b[1;32m----> 2\u001b[0m \u001b[43m_run_as_program\u001b[49m\u001b[43m(\u001b[49m\u001b[38;5;124;43m\"\u001b[39;49m\u001b[38;5;124;43merror-causing code\u001b[39;49m\u001b[38;5;124;43m\"\u001b[39;49m\u001b[43m)\u001b[49m\n",
      "Input \u001b[1;32mIn [11]\u001b[0m, in \u001b[0;36m_run_as_program\u001b[1;34m(clean_non_prog_code)\u001b[0m\n\u001b[0;32m      6\u001b[0m run(_program_define_code, quietly\u001b[38;5;241m=\u001b[39m\u001b[38;5;28;01mTrue\u001b[39;00m)\n\u001b[0;32m      7\u001b[0m \u001b[38;5;28;01mtry\u001b[39;00m:\n\u001b[1;32m----> 8\u001b[0m     \u001b[43mrun\u001b[49m\u001b[43m(\u001b[49m\u001b[43m_program_name\u001b[49m\u001b[43m,\u001b[49m\u001b[43m \u001b[49m\u001b[43mquietly\u001b[49m\u001b[38;5;241;43m=\u001b[39;49m\u001b[38;5;28;43;01mFalse\u001b[39;49;00m\u001b[43m,\u001b[49m\u001b[43m \u001b[49m\u001b[43minline\u001b[49m\u001b[38;5;241;43m=\u001b[39;49m\u001b[38;5;28;43;01mTrue\u001b[39;49;00m\u001b[43m,\u001b[49m\u001b[43m \u001b[49m\u001b[43mecho\u001b[49m\u001b[38;5;241;43m=\u001b[39;49m\u001b[38;5;28;43;01mFalse\u001b[39;49;00m\u001b[43m)\u001b[49m\n\u001b[0;32m      9\u001b[0m \u001b[38;5;28;01mfinally\u001b[39;00m:\n\u001b[0;32m     10\u001b[0m     run(\u001b[38;5;124mf\u001b[39m\u001b[38;5;124m\"\u001b[39m\u001b[38;5;124mprogram drop \u001b[39m\u001b[38;5;132;01m{\u001b[39;00m_program_name\u001b[38;5;132;01m}\u001b[39;00m\u001b[38;5;124m\"\u001b[39m, quietly\u001b[38;5;241m=\u001b[39m\u001b[38;5;28;01mTrue\u001b[39;00m)\n",
      "File \u001b[1;32mC:\\Program Files\\Stata17\\utilities\\pystata\\stata.py:313\u001b[0m, in \u001b[0;36mrun\u001b[1;34m(cmd, quietly, echo, inline)\u001b[0m\n\u001b[0;32m    311\u001b[0m \u001b[38;5;124m            _stata_wrk1(\u001b[39m\u001b[38;5;124m\"\u001b[39m\u001b[38;5;124mqui \u001b[39m\u001b[38;5;124m\"\u001b[39m\u001b[38;5;124m + cmds[0], echo)\u001b[39m\n\u001b[0;32m    312\u001b[0m \u001b[38;5;124m        else:\u001b[39m\n\u001b[1;32m--> 313\u001b[0m \u001b[38;5;124m            _stata_wrk1(cmds[0], echo)\u001b[39m\n\u001b[0;32m    314\u001b[0m \u001b[38;5;124melse:\u001b[39m\n\u001b[0;32m    315\u001b[0m \u001b[38;5;124m    if inline:\u001b[39m\n",
      "File \u001b[1;32mC:\\Program Files\\Stata17\\utilities\\pystata\\stata.py:71\u001b[0m, in \u001b[0;36m_stata_wrk1\u001b[1;34m(cmd, echo)\u001b[0m\n\u001b[0;32m     69\u001b[0m         err \u001b[38;5;241m=\u001b[39m callback[\u001b[38;5;241m0\u001b[39m]\n\u001b[0;32m     70\u001b[0m         callback\u001b[38;5;241m.\u001b[39mclear()\n\u001b[1;32m---> 71\u001b[0m         \u001b[38;5;28;01mraise\u001b[39;00m \u001b[38;5;167;01mSystemError\u001b[39;00m(err)\n\u001b[0;32m     72\u001b[0m \u001b[38;5;28;01mexcept\u001b[39;00m \u001b[38;5;167;01mKeyboardInterrupt\u001b[39;00m:\n\u001b[0;32m     73\u001b[0m     outputter\u001b[38;5;241m.\u001b[39mdone()\n",
      "\u001b[1;31mSystemError\u001b[0m: causing not found\nr(197);\n"
     ]
    }
   ],
   "source": [
    "#| eval: false\n",
    "_run_as_program(\"error-causing code\")"
   ]
  },
  {
   "cell_type": "code",
   "execution_count": null,
   "id": "1f03bdf5",
   "metadata": {},
   "outputs": [
    {
     "name": "stdout",
     "output_type": "stream",
     "text": [
      "\n",
      "test 1\n",
      "test 2\n"
     ]
    }
   ],
   "source": [
    "#| eval: false\n",
    "_run_as_program(two_lines_of_code)"
   ]
  },
  {
   "cell_type": "code",
   "execution_count": null,
   "id": "4d735745",
   "metadata": {},
   "outputs": [],
   "source": [
    "#| export\n",
    "def run_non_prog_noecho(clean_non_prog_code):\n",
    "    from pystata.stata import run\n",
    "    if len(clean_non_prog_code.splitlines()) == 1:  # to avoid outputting extra blank lines\n",
    "        run(clean_non_prog_code, quietly=False, inline=True, echo=False)\n",
    "    else:\n",
    "        _run_as_program(clean_non_prog_code)"
   ]
  },
  {
   "cell_type": "code",
   "execution_count": null,
   "id": "0c9f6f82",
   "metadata": {},
   "outputs": [
    {
     "name": "stdout",
     "output_type": "stream",
     "text": [
      "test 1\n"
     ]
    }
   ],
   "source": [
    "#| eval: false\n",
    "run_non_prog_noecho('disp \"test 1\"')"
   ]
  },
  {
   "cell_type": "markdown",
   "id": "109f2460",
   "metadata": {},
   "source": [
    "Stata programs (`program`, `mata` or `python`) cannot be run as a program, however. Instead, we will just run them directly, quietly to prevent echo, except for the case of mata programs, in which case `quietly` would block the output."
   ]
  },
  {
   "cell_type": "code",
   "execution_count": null,
   "id": "ab3c099f",
   "metadata": {},
   "outputs": [],
   "source": [
    "#| export\n",
    "def run_prog_noecho(clean_prog_code):\n",
    "    from pystata.stata import run\n",
    "    if clean_prog_code.splitlines()[0] in ['mata', 'mata:']:  # b/c 'quietly' blocks all mata output\n",
    "        run(clean_prog_code, quietly=False, inline=True, echo=False)\n",
    "    else:\n",
    "        run(clean_prog_code, quietly=True, inline=True, echo=False)"
   ]
  },
  {
   "cell_type": "code",
   "execution_count": null,
   "id": "6be68f3c",
   "metadata": {},
   "outputs": [
    {
     "name": "stdout",
     "output_type": "stream",
     "text": [
      "\n",
      "\n",
      "display1 output\n"
     ]
    }
   ],
   "source": [
    "#| eval: false\n",
    "_run_as_program(\"capture program drop display1\")\n",
    "prog_block_code = \"\"\"program define display1\n",
    "    disp \"display1 output\"\n",
    "end\n",
    "\"\"\"\n",
    "run_prog_noecho(prog_block_code)\n",
    "run(\"display1\", echo=False)"
   ]
  },
  {
   "cell_type": "code",
   "execution_count": null,
   "id": "f8d834fa",
   "metadata": {},
   "outputs": [
    {
     "name": "stdout",
     "output_type": "stream",
     "text": [
      "hello\n",
      "\n"
     ]
    }
   ],
   "source": [
    "#| eval: false\n",
    "python_block_code = \"\"\"python:\n",
    "print(\"hello\")\n",
    "end\n",
    "\"\"\"\n",
    "run_prog_noecho(python_block_code)"
   ]
  },
  {
   "cell_type": "code",
   "execution_count": null,
   "id": "6a3ab406",
   "metadata": {},
   "outputs": [
    {
     "name": "stdout",
     "output_type": "stream",
     "text": [
      "\n",
      ". mata:\n",
      "------------------------------------------------- mata (type end to exit) -----\n",
      ": display(\"hello\")\n",
      "hello\n",
      "\n",
      ": end\n",
      "-------------------------------------------------------------------------------\n",
      "\n",
      ". \n"
     ]
    }
   ],
   "source": [
    "#| eval: false\n",
    "mata_block_code = \"\"\"mata:\n",
    "display(\"hello\")\n",
    "end\n",
    "\"\"\"\n",
    "run_prog_noecho(mata_block_code)"
   ]
  },
  {
   "cell_type": "code",
   "execution_count": null,
   "id": "2e995de1",
   "metadata": {},
   "outputs": [],
   "source": [
    "#| export\n",
    "def run_noecho(code):\n",
    "    \"\"\"\n",
    "    Split code into program and non-program blocks, running each block noecho\n",
    "    \"\"\"\n",
    "    for block in break_out_prog_blocks(code):\n",
    "        if block['is_prog']:\n",
    "            run_prog_noecho(block['std_code'])\n",
    "        else:\n",
    "            run_non_prog_noecho(block['std_code'])"
   ]
  },
  {
   "cell_type": "code",
   "execution_count": null,
   "id": "20188a1c",
   "metadata": {},
   "outputs": [
    {
     "name": "stdout",
     "output_type": "stream",
     "text": [
      "\n",
      "\n",
      "ender output\n"
     ]
    }
   ],
   "source": [
    "#| eval: false\n",
    "run_noecho('''\n",
    "capture program drop ender\n",
    "program define ender\n",
    "    disp \"ender output\"\n",
    "end\n",
    "capture program drop display2\n",
    "program define display2\n",
    "    ender\n",
    "end\n",
    "display2\n",
    "''')"
   ]
  },
  {
   "cell_type": "code",
   "execution_count": null,
   "id": "29843e02",
   "metadata": {},
   "outputs": [],
   "source": [
    "#| export\n",
    "def resolve_macro(macro):\n",
    "    import sfi\n",
    "    macro = macro.strip()\n",
    "    if macro.startswith(\"`\") and macro.endswith(\"'\"):\n",
    "        macro = sfi.Macro.getLocal(macro[1:-1])\n",
    "    elif macro.startswith(\"$_\"):\n",
    "        macro = sfi.Macro.getLocal(macro[2:])\n",
    "    elif macro.startswith(\"$\"):\n",
    "        macro = sfi.Macro.getGlobal(macro[1:])\n",
    "    return macro"
   ]
  },
  {
   "cell_type": "code",
   "execution_count": null,
   "id": "40084cb1",
   "metadata": {},
   "outputs": [
    {
     "data": {
      "text/plain": [
       "'hello world'"
      ]
     },
     "execution_count": null,
     "metadata": {},
     "output_type": "execute_result"
    }
   ],
   "source": [
    "#| eval: false\n",
    "import pystata\n",
    "pystata.stata.run('global test = \"hello world\"')\n",
    "resolve_macro(\"$test\")"
   ]
  },
  {
   "cell_type": "markdown",
   "id": "502c8447",
   "metadata": {},
   "source": [
    "Reference Stata docs: [getAsDict example](https://blog.stata.com/2020/11/05/stata-python-integration-part-8-using-the-stata-function-interface-to-copy-data-from-stata-to-python/)"
   ]
  },
  {
   "cell_type": "code",
   "execution_count": null,
   "id": "0d9eea74",
   "metadata": {},
   "outputs": [],
   "source": [
    "#| export\n",
    "def better_dataframe_from_stata(stfr, var, obs, selectvar, valuelabel, missingval):\n",
    "    import sfi, pystata\n",
    "    hdl = sfi.Data if stfr is None else sfi.Frame.connect(stfr)\n",
    "\n",
    "    if hdl.getObsTotal() <= 0:\n",
    "        return None\n",
    "\n",
    "    pystata.stata.run(\"\"\"tempvar indexvar\n",
    "                         generate `indexvar' = _n\"\"\", quietly=True)\n",
    "    idx_var = sfi.Macro.getLocal('indexvar')\n",
    "\n",
    "    data = hdl.getAsDict(var, obs, selectvar, valuelabel, missingval)\n",
    "    if idx_var in data:\n",
    "        idx = data.pop(idx_var)\n",
    "    else:\n",
    "        idx = hdl.getAsDict(idx_var, obs, selectvar, valuelabel, missingval).pop(idx_var)\n",
    "\n",
    "    idx = pd.array(idx, dtype='Int64')\n",
    "\n",
    "    pystata.stata.run(\"drop `indexvar'\")\n",
    "\n",
    "    return pd.DataFrame(data=data, index=idx).convert_dtypes()"
   ]
  },
  {
   "cell_type": "code",
   "execution_count": null,
   "id": "c291c4bf",
   "metadata": {},
   "outputs": [],
   "source": [
    "#| export\n",
    "def better_pdataframe_from_data(var=None, obs=None, selectvar=None, valuelabel=False, missingval=np.NaN):\n",
    "    import pystata\n",
    "    pystata.config.check_initialized()\n",
    "\n",
    "    return better_dataframe_from_stata(None, var, obs, selectvar, valuelabel, missingval)"
   ]
  },
  {
   "cell_type": "code",
   "execution_count": null,
   "id": "c8ff52de",
   "metadata": {},
   "outputs": [],
   "source": [
    "#| export\n",
    "def better_pdataframe_from_frame(stfr, var=None, obs=None, selectvar=None, valuelabel=False, missingval=np.NaN):\n",
    "    import pystata\n",
    "    pystata.config.check_initialized()\n",
    "\n",
    "    return better_dataframe_from_stata(stfr, var, obs, selectvar, valuelabel, missingval)"
   ]
  },
  {
   "cell_type": "code",
   "execution_count": null,
   "id": "1c6dd777",
   "metadata": {},
   "outputs": [],
   "source": [
    "#| hide\n",
    "import nbdev; nbdev.nbdev_export()"
   ]
  }
 ],
 "metadata": {
  "kernelspec": {
   "display_name": "Python 3 (ipykernel)",
   "language": "python",
   "name": "python3"
  }
 },
 "nbformat": 4,
 "nbformat_minor": 5
}
