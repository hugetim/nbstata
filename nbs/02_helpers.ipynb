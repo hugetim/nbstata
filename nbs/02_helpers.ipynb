{
 "cells": [
  {
   "cell_type": "markdown",
   "id": "2c184729",
   "metadata": {},
   "source": [
    "# helpers\n",
    "\n",
    "> Helper functions that require Stata to be running (but no Jupyter dependence)"
   ]
  },
  {
   "cell_type": "markdown",
   "id": "e2014567",
   "metadata": {},
   "source": [
    "`sfi` is [Stata's python API](https://www.stata.com/python/api17/index.html), originally intended for interacting with Stata from python *within Stata*. As such, it can only be imported with Stata running.\n",
    "`pystata.stata.run` [enables running Stata code from python](https://www.stata.com/python/pystata/stata.html#pystata.stata.run)."
   ]
  },
  {
   "cell_type": "code",
   "execution_count": null,
   "id": "c7fb586a",
   "metadata": {},
   "outputs": [],
   "source": [
    "#| default_exp helpers\n",
    "%load_ext autoreload\n",
    "%autoreload 2"
   ]
  },
  {
   "cell_type": "code",
   "execution_count": null,
   "id": "026b00b7",
   "metadata": {},
   "outputs": [],
   "source": [
    "#| hide\n",
    "from nbdev.showdoc import *"
   ]
  },
  {
   "cell_type": "code",
   "execution_count": null,
   "id": "4b35edd5",
   "metadata": {},
   "outputs": [],
   "source": [
    "#| export\n",
    "from nbstata.config import launch_stata\n",
    "from nbstata.utils import break_out_prog_blocks, HiddenPrints\n",
    "import sys\n",
    "from io import StringIO\n",
    "from textwrap import dedent\n",
    "import pandas as pd\n",
    "import numpy as np"
   ]
  },
  {
   "cell_type": "markdown",
   "id": "a57b739a",
   "metadata": {},
   "source": [
    "## Simple helpers"
   ]
  },
  {
   "cell_type": "code",
   "execution_count": null,
   "id": "d154ce49",
   "metadata": {},
   "outputs": [],
   "source": [
    "#| export\n",
    "def count():\n",
    "    \"\"\"Count the number of observations\"\"\"\n",
    "    import sfi\n",
    "    return sfi.Data.getObsTotal()"
   ]
  },
  {
   "cell_type": "code",
   "execution_count": null,
   "id": "4f08f29b",
   "metadata": {},
   "outputs": [
    {
     "data": {
      "text/plain": [
       "0"
      ]
     },
     "execution_count": null,
     "metadata": {},
     "output_type": "execute_result"
    }
   ],
   "source": [
    "#| eval: false\n",
    "launch_stata(splash=False)\n",
    "count()"
   ]
  },
  {
   "cell_type": "code",
   "execution_count": null,
   "id": "29843e02",
   "metadata": {},
   "outputs": [],
   "source": [
    "#| export\n",
    "def resolve_macro(macro):\n",
    "    import sfi\n",
    "    macro = macro.strip()\n",
    "    if macro.startswith(\"`\") and macro.endswith(\"'\"):\n",
    "        macro = sfi.Macro.getLocal(macro[1:-1])\n",
    "    elif macro.startswith(\"$_\"):\n",
    "        macro = sfi.Macro.getLocal(macro[2:])\n",
    "    elif macro.startswith(\"$\"):\n",
    "        macro = sfi.Macro.getGlobal(macro[1:])\n",
    "    return macro"
   ]
  },
  {
   "cell_type": "code",
   "execution_count": null,
   "id": "40084cb1",
   "metadata": {},
   "outputs": [
    {
     "data": {
      "text/plain": [
       "'hello world'"
      ]
     },
     "execution_count": null,
     "metadata": {},
     "output_type": "execute_result"
    }
   ],
   "source": [
    "#| eval: false\n",
    "from pystata.stata import run\n",
    "run('global test = \"hello world\"')\n",
    "resolve_macro(\"$test\")"
   ]
  },
  {
   "cell_type": "code",
   "execution_count": null,
   "id": "e545a82a",
   "metadata": {},
   "outputs": [],
   "source": [
    "#| export\n",
    "class Selectvar():\n",
    "    \"\"\"Class for generating Stata selectvar for getAsDict\"\"\"\n",
    "    varname = None\n",
    "    \n",
    "    def __init__(self, stata_if_code):\n",
    "        import sfi, pystata\n",
    "        condition = stata_if_code.replace('if ', '', 1).strip()\n",
    "        if condition:\n",
    "            cmd = f\"tempvar __selectionVar\\ngenerate `__selectionVar' = cond({condition},1,0)\"\n",
    "            pystata.stata.run(cmd, quietly=True)      \n",
    "            self.varname = sfi.Macro.getLocal(\"__selectionVar\")  \n",
    "\n",
    "    def clear(self):\n",
    "        \"\"\"Remove temporary selectvar from Stata dataset\"\"\"\n",
    "        import pystata\n",
    "        if self.varname != None:\n",
    "            pystata.stata.run(f\"capture drop {self.varname}\", quietly=True)  "
   ]
  },
  {
   "cell_type": "markdown",
   "id": "3d343d3b",
   "metadata": {},
   "source": [
    "`Selectvar.varname` is a temporary Stata variable for use in `sfi.Data.getAsDict`"
   ]
  },
  {
   "cell_type": "code",
   "execution_count": null,
   "id": "4762f9de",
   "metadata": {},
   "outputs": [
    {
     "name": "stdout",
     "output_type": "stream",
     "text": [
      "\n",
      "\n",
      "sel_var.varname: __000000\n",
      "\n",
      "       var1   __000000  \n",
      "  1.      0          1  \n",
      "  2.      0          1  \n",
      "  3.      0          1  \n",
      "  4.      1          0  \n",
      "  5.      1          0  \n"
     ]
    }
   ],
   "source": [
    "#| eval: false\n",
    "run(\"\"\"\\\n",
    "set obs 5\n",
    "gen var1 = _n > 3\n",
    "\"\"\", quietly=True)\n",
    "sel_var = Selectvar(\" if var1==0\")\n",
    "print(f\"sel_var.varname: {sel_var.varname}\")\n",
    "run(\"list, clean\", echo=False)"
   ]
  },
  {
   "cell_type": "code",
   "execution_count": null,
   "id": "b4b9acc6",
   "metadata": {},
   "outputs": [
    {
     "data": {
      "text/markdown": [
       "---\n",
       "\n",
       "[source](https://github.com/hugetim/nbstata/blob/main/nbstata/helpers.py#L48){target=\"_blank\" style=\"float:right; font-size:smaller\"}\n",
       "\n",
       "### Selectvar.clear\n",
       "\n",
       ">      Selectvar.clear ()\n",
       "\n",
       "Remove temporary selectvar from Stata dataset"
      ],
      "text/plain": [
       "---\n",
       "\n",
       "[source](https://github.com/hugetim/nbstata/blob/main/nbstata/helpers.py#L48){target=\"_blank\" style=\"float:right; font-size:smaller\"}\n",
       "\n",
       "### Selectvar.clear\n",
       "\n",
       ">      Selectvar.clear ()\n",
       "\n",
       "Remove temporary selectvar from Stata dataset"
      ]
     },
     "execution_count": null,
     "metadata": {},
     "output_type": "execute_result"
    }
   ],
   "source": [
    "show_doc(Selectvar.clear)"
   ]
  },
  {
   "cell_type": "code",
   "execution_count": null,
   "id": "bf20f222",
   "metadata": {},
   "outputs": [
    {
     "name": "stdout",
     "output_type": "stream",
     "text": [
      "var1\n"
     ]
    }
   ],
   "source": [
    "#| eval: false\n",
    "sel_var.clear()\n",
    "run(\"desc, simple\")"
   ]
  },
  {
   "cell_type": "markdown",
   "id": "b696a14f",
   "metadata": {},
   "source": [
    "## Run multi-line Stata commands no-echo"
   ]
  },
  {
   "cell_type": "markdown",
   "id": "7f47df15",
   "metadata": {},
   "source": [
    "`pystata.stata.run` can only suppress the \"echo\" of single commands, not multi-line Stata code:"
   ]
  },
  {
   "cell_type": "code",
   "execution_count": null,
   "id": "0c1295e5",
   "metadata": {},
   "outputs": [
    {
     "name": "stdout",
     "output_type": "stream",
     "text": [
      "test 1\n"
     ]
    }
   ],
   "source": [
    "#| eval: false\n",
    "run('disp \"test 1\"', echo=False)"
   ]
  },
  {
   "cell_type": "code",
   "execution_count": null,
   "id": "2d84d303",
   "metadata": {},
   "outputs": [
    {
     "name": "stdout",
     "output_type": "stream",
     "text": [
      "\n",
      ". disp \"test 1\"\n",
      "test 1\n",
      "\n",
      ". disp \"test 2\"\n",
      "test 2\n",
      "\n",
      ". \n"
     ]
    }
   ],
   "source": [
    "#| eval: false\n",
    "two_lines_of_code = dedent('''\\\n",
    "    disp \"test 1\"\n",
    "    disp \"test 2\"\n",
    "    ''')\n",
    "run(two_lines_of_code, echo=False)"
   ]
  },
  {
   "cell_type": "markdown",
   "id": "4a8083d2",
   "metadata": {},
   "source": [
    "As a workaround when echo is not desired, we can run multiple commands as a Stata program:"
   ]
  },
  {
   "cell_type": "code",
   "execution_count": null,
   "id": "b56783cb",
   "metadata": {},
   "outputs": [
    {
     "name": "stdout",
     "output_type": "stream",
     "text": [
      "\n"
     ]
    }
   ],
   "source": [
    "#| eval: false\n",
    "run(f\"program temp_nbstata_program_name\\n{two_lines_of_code}\\nend\\n\", quietly=True)"
   ]
  },
  {
   "cell_type": "code",
   "execution_count": null,
   "id": "64126d40",
   "metadata": {},
   "outputs": [
    {
     "name": "stdout",
     "output_type": "stream",
     "text": [
      "test 1\n",
      "test 2\n"
     ]
    }
   ],
   "source": [
    "#| eval: false\n",
    "run(\"temp_nbstata_program_name\", quietly=False, inline=True, echo=False)"
   ]
  },
  {
   "cell_type": "code",
   "execution_count": null,
   "id": "21725d86",
   "metadata": {},
   "outputs": [],
   "source": [
    "#| eval: false\n",
    "run(f\"program drop temp_nbstata_program_name\", quietly=True)"
   ]
  },
  {
   "cell_type": "markdown",
   "id": "5462968a",
   "metadata": {},
   "source": [
    "The first `run` (defining the temp. program) prints an unwanted blank line despite setting \"quietly\" to True, so we block its printed output in the function version.\n",
    "\n",
    "(Note: This and the following two functions assume input Stata code standardized by `standardize_code`, which will be ensured by the `break_out_prog_blocks` within the final `run_noecho` wrapper function below.)"
   ]
  },
  {
   "cell_type": "code",
   "execution_count": null,
   "id": "6a262b11",
   "metadata": {},
   "outputs": [],
   "source": [
    "#| export\n",
    "def run_as_program(std_non_prog_code):\n",
    "    from pystata.stata import run\n",
    "    _program_name = \"temp_nbstata_program_name\"\n",
    "    _program_define_code = f\"program {_program_name}\\n{std_non_prog_code}\\nend\\n\"\n",
    "    with HiddenPrints():\n",
    "        run(_program_define_code, quietly=True)\n",
    "    try:\n",
    "        run(_program_name, quietly=False, inline=True, echo=False)\n",
    "    finally:\n",
    "        run(f\"program drop {_program_name}\", quietly=True)"
   ]
  },
  {
   "cell_type": "code",
   "execution_count": null,
   "id": "703e855d",
   "metadata": {},
   "outputs": [
    {
     "name": "stdout",
     "output_type": "stream",
     "text": [
      "test 1\n",
      "test 2\n"
     ]
    }
   ],
   "source": [
    "#| eval: false\n",
    "run_as_program(two_lines_of_code)"
   ]
  },
  {
   "cell_type": "markdown",
   "id": "8650b76d",
   "metadata": {},
   "source": [
    "To test resilience to Stata errors, let's intentionally run error-causing Stata code to ensure the error stays isolated to one code cell:"
   ]
  },
  {
   "cell_type": "code",
   "execution_count": null,
   "id": "ef18e7cd",
   "metadata": {},
   "outputs": [],
   "source": [
    "from fastcore.test import ExceptionExpected"
   ]
  },
  {
   "cell_type": "code",
   "execution_count": null,
   "id": "db4ea379",
   "metadata": {},
   "outputs": [],
   "source": [
    "#| eval: false\n",
    "with ExceptionExpected(SystemError):\n",
    "    run_as_program(\"error-causing code\")"
   ]
  },
  {
   "cell_type": "code",
   "execution_count": null,
   "id": "1f03bdf5",
   "metadata": {},
   "outputs": [
    {
     "name": "stdout",
     "output_type": "stream",
     "text": [
      "test 1\n",
      "test 2\n"
     ]
    }
   ],
   "source": [
    "#| eval: false\n",
    "run_as_program(two_lines_of_code)"
   ]
  },
  {
   "cell_type": "code",
   "execution_count": null,
   "id": "4d735745",
   "metadata": {},
   "outputs": [],
   "source": [
    "#| export\n",
    "def run_non_prog_noecho(std_non_prog_code, run_as_prog=run_as_program):\n",
    "    from pystata.stata import run\n",
    "    if len(std_non_prog_code.splitlines()) == 1:  # to keep it simple when we can\n",
    "        run(std_non_prog_code, quietly=False, inline=True, echo=False)\n",
    "    else:\n",
    "        run_as_prog(std_non_prog_code)"
   ]
  },
  {
   "cell_type": "code",
   "execution_count": null,
   "id": "0c9f6f82",
   "metadata": {},
   "outputs": [
    {
     "name": "stdout",
     "output_type": "stream",
     "text": [
      "test 1\n"
     ]
    }
   ],
   "source": [
    "#| eval: false\n",
    "run_non_prog_noecho('disp \"test 1\"')"
   ]
  },
  {
   "cell_type": "code",
   "execution_count": null,
   "id": "ab3c099f",
   "metadata": {},
   "outputs": [],
   "source": [
    "#| export\n",
    "def run_prog_noecho(std_prog_code):\n",
    "    from pystata.stata import run\n",
    "    if std_prog_code.splitlines()[0] in {'mata', 'mata:'}:  # b/c 'quietly' blocks mata output\n",
    "        run(std_prog_code, quietly=False, inline=True, echo=False)\n",
    "    else:\n",
    "        run(std_prog_code, quietly=True, inline=True, echo=False)"
   ]
  },
  {
   "cell_type": "markdown",
   "id": "109f2460",
   "metadata": {},
   "source": [
    "Other programs (that is, Stata's `program define`, as well as [mata](https://www.stata.com/manuals/m-1first.pdf) or [python](https://www.stata.com/stata-news/news35-3/python-blogs/) blocks) cannot be defined/run within a Stata program, however. Instead, we will just run them directly, quietly to prevent echo, except for the case of mata programs, in which case `quietly` would block the output."
   ]
  },
  {
   "cell_type": "code",
   "execution_count": null,
   "id": "4d6b899c",
   "metadata": {},
   "outputs": [],
   "source": [
    "#| eval: false\n",
    "#| hide\n",
    "run_as_program(\"capture program drop display1\")"
   ]
  },
  {
   "cell_type": "code",
   "execution_count": null,
   "id": "6be68f3c",
   "metadata": {},
   "outputs": [
    {
     "name": "stdout",
     "output_type": "stream",
     "text": [
      "\n",
      "display1 output\n"
     ]
    }
   ],
   "source": [
    "#| eval: false\n",
    "prog_block_code = dedent(\"\"\"\\\n",
    "    program define display1\n",
    "        disp \"display1 output\"\n",
    "    end\n",
    "    \"\"\")\n",
    "run_prog_noecho(prog_block_code)\n",
    "run(\"display1\", echo=False)"
   ]
  },
  {
   "cell_type": "code",
   "execution_count": null,
   "id": "f8d834fa",
   "metadata": {},
   "outputs": [
    {
     "name": "stdout",
     "output_type": "stream",
     "text": [
      "hello\n",
      "\n"
     ]
    }
   ],
   "source": [
    "#| eval: false\n",
    "python_block_code = dedent(\"\"\"\\\n",
    "    python:\n",
    "    print(\"hello\")\n",
    "    end\n",
    "    \"\"\")\n",
    "run_prog_noecho(python_block_code)"
   ]
  },
  {
   "cell_type": "code",
   "execution_count": null,
   "id": "6a3ab406",
   "metadata": {},
   "outputs": [
    {
     "name": "stdout",
     "output_type": "stream",
     "text": [
      "\n",
      ". mata:\n",
      "------------------------------------------------- mata (type end to exit) -----\n",
      ": display(\"hello\")\n",
      "hello\n",
      "\n",
      ": end\n",
      "-------------------------------------------------------------------------------\n",
      "\n",
      ". \n"
     ]
    }
   ],
   "source": [
    "#| eval: false\n",
    "mata_block_code = dedent(\"\"\"\\\n",
    "    mata:\n",
    "    display(\"hello\")\n",
    "    end\n",
    "    \"\"\")\n",
    "run_prog_noecho(mata_block_code)"
   ]
  },
  {
   "cell_type": "code",
   "execution_count": null,
   "id": "2e995de1",
   "metadata": {},
   "outputs": [],
   "source": [
    "#| export\n",
    "def run_noecho(code, starting_delimiter=None, run_as_prog=run_as_program):\n",
    "    \"\"\"After `break_out_prog_blocks`, run each prog and non-prog block noecho\"\"\"\n",
    "    for block in break_out_prog_blocks(code, starting_delimiter):\n",
    "        if block['is_prog']:\n",
    "            run_prog_noecho(block['std_code'])\n",
    "        else:\n",
    "            run_non_prog_noecho(block['std_code'], run_as_prog=run_as_prog)"
   ]
  },
  {
   "cell_type": "code",
   "execution_count": null,
   "id": "20188a1c",
   "metadata": {},
   "outputs": [
    {
     "name": "stdout",
     "output_type": "stream",
     "text": [
      "\n",
      "\n",
      "ender output\n"
     ]
    }
   ],
   "source": [
    "#| eval: false\n",
    "run_noecho(dedent('''\\\n",
    "    capture program drop ender\n",
    "    program define ender\n",
    "        disp \"ender output\"\n",
    "    end\n",
    "    capture program drop display2\n",
    "    program define display2\n",
    "        ender\n",
    "    end\n",
    "    display2\n",
    "    '''))"
   ]
  },
  {
   "cell_type": "markdown",
   "id": "f890e04a",
   "metadata": {},
   "source": [
    "## Divert Stata output to string"
   ]
  },
  {
   "cell_type": "code",
   "execution_count": null,
   "id": "c5d72fda",
   "metadata": {},
   "outputs": [],
   "source": [
    "#| export\n",
    "def diverted_stata_output(std_code, noecho=True):\n",
    "    import pystata\n",
    "    old_stdout = sys.stdout\n",
    "    diverted = StringIO()\n",
    "    sys.stdout = diverted\n",
    "    if noecho:\n",
    "        code = f\"capture log off\\n{std_code}\\ncapture log on\"\"\"\n",
    "        run_noecho(code) # multi-line code run as a program, which clears locals\n",
    "    else:\n",
    "        pystata.stata.run(\"capture log off\", quietly=True)\n",
    "        code = f\"{std_code}\\ncapture log on\"\"\"\n",
    "        pystata.stata.run(code, quietly=False, inline=True, echo=False)\n",
    "    sys.stdout = old_stdout\n",
    "    out = diverted.getvalue()\n",
    "    return out #.replace(\"\\n> \", \"\")"
   ]
  },
  {
   "cell_type": "code",
   "execution_count": null,
   "id": "7e1c2bc8",
   "metadata": {},
   "outputs": [
    {
     "name": "stdout",
     "output_type": "stream",
     "text": [
      "test 1\n",
      "test 2\n",
      "\n"
     ]
    }
   ],
   "source": [
    "#| eval: false\n",
    "print(diverted_stata_output(two_lines_of_code))"
   ]
  },
  {
   "cell_type": "code",
   "execution_count": null,
   "id": "4249388f",
   "metadata": {},
   "outputs": [
    {
     "name": "stdout",
     "output_type": "stream",
     "text": [
      "\n",
      ". disp \"test 1\"\n",
      "test 1\n",
      "\n",
      ". disp \"test 2\"\n",
      "test 2\n",
      "\n",
      ". \n",
      ". capture log on\n",
      "\n",
      ". \n",
      "\n"
     ]
    }
   ],
   "source": [
    "#| eval: false\n",
    "print(diverted_stata_output(two_lines_of_code, noecho=False))"
   ]
  },
  {
   "cell_type": "code",
   "execution_count": null,
   "id": "3089cd26",
   "metadata": {},
   "outputs": [
    {
     "name": "stdout",
     "output_type": "stream",
     "text": [
      "Noecho diverted run in 0.1510 seconds\n",
      "Echo diverted run in 0.0934 seconds\n"
     ]
    }
   ],
   "source": [
    "#| eval: false\n",
    "import time\n",
    "tic = time.perf_counter()\n",
    "diverted_stata_output(two_lines_of_code)\n",
    "toc = time.perf_counter()\n",
    "print(f\"Noecho diverted run in {toc - tic:0.4f} seconds\")\n",
    "tic = time.perf_counter()\n",
    "diverted_stata_output(two_lines_of_code, noecho=False)\n",
    "toc = time.perf_counter()\n",
    "print(f\"Echo diverted run in {toc - tic:0.4f} seconds\")"
   ]
  },
  {
   "cell_type": "code",
   "execution_count": null,
   "id": "4714bee9",
   "metadata": {},
   "outputs": [
    {
     "name": "stdout",
     "output_type": "stream",
     "text": [
      "Noecho diverted run in 0.1339 seconds\n"
     ]
    }
   ],
   "source": [
    "#| hide\n",
    "#| eval: false\n",
    "tic = time.perf_counter()\n",
    "diverted_stata_output(\"disp 1\")\n",
    "toc = time.perf_counter()\n",
    "print(f\"Noecho diverted run in {toc - tic:0.4f} seconds\")"
   ]
  },
  {
   "cell_type": "markdown",
   "id": "f4626645",
   "metadata": {},
   "source": [
    "## Stata-to-pandas"
   ]
  },
  {
   "cell_type": "markdown",
   "id": "502c8447",
   "metadata": {},
   "source": [
    "Reference Stata docs: [getAsDict example](https://blog.stata.com/2020/11/05/stata-python-integration-part-8-using-the-stata-function-interface-to-copy-data-from-stata-to-python/)"
   ]
  },
  {
   "cell_type": "code",
   "execution_count": null,
   "id": "0d9eea74",
   "metadata": {},
   "outputs": [],
   "source": [
    "#| export\n",
    "def better_dataframe_from_stata(stfr, var, obs, selectvar, valuelabel, missingval):\n",
    "    import sfi, pystata\n",
    "    hdl = sfi.Data if stfr is None else sfi.Frame.connect(stfr)\n",
    "\n",
    "    if hdl.getObsTotal() <= 0:\n",
    "        return None\n",
    "\n",
    "    pystata.stata.run(\"\"\"tempvar indexvar\n",
    "                         generate `indexvar' = _n\"\"\", quietly=True)\n",
    "    idx_var = sfi.Macro.getLocal('indexvar')\n",
    "\n",
    "    data = hdl.getAsDict(var, obs, selectvar, valuelabel, missingval)\n",
    "    if idx_var in data:\n",
    "        idx = data.pop(idx_var)\n",
    "    else:\n",
    "        idx = hdl.getAsDict(idx_var, obs, selectvar, valuelabel, missingval).pop(idx_var)\n",
    "\n",
    "    idx = pd.array(idx, dtype='Int64')\n",
    "\n",
    "    pystata.stata.run(\"drop `indexvar'\", quietly=True)\n",
    "\n",
    "    return pd.DataFrame(data=data, index=idx).convert_dtypes()"
   ]
  },
  {
   "cell_type": "code",
   "execution_count": null,
   "id": "c291c4bf",
   "metadata": {},
   "outputs": [],
   "source": [
    "#| export\n",
    "def better_pdataframe_from_data(var=None, obs=None, selectvar=None, valuelabel=False, missingval=np.NaN):\n",
    "    import pystata\n",
    "    pystata.config.check_initialized()\n",
    "\n",
    "    return better_dataframe_from_stata(None, var, obs, selectvar, valuelabel, missingval)"
   ]
  },
  {
   "cell_type": "code",
   "execution_count": null,
   "id": "c8ff52de",
   "metadata": {},
   "outputs": [],
   "source": [
    "#| export\n",
    "def better_pdataframe_from_frame(stfr, var=None, obs=None, selectvar=None, valuelabel=False, missingval=np.NaN):\n",
    "    import pystata\n",
    "    pystata.config.check_initialized()\n",
    "\n",
    "    return better_dataframe_from_stata(stfr, var, obs, selectvar, valuelabel, missingval)"
   ]
  },
  {
   "cell_type": "code",
   "execution_count": null,
   "id": "1c6dd777",
   "metadata": {},
   "outputs": [],
   "source": [
    "#| hide\n",
    "import nbdev; nbdev.nbdev_export()"
   ]
  }
 ],
 "metadata": {
  "kernelspec": {
   "display_name": "Python 3 (ipykernel)",
   "language": "python",
   "name": "python3"
  }
 },
 "nbformat": 4,
 "nbformat_minor": 5
}
