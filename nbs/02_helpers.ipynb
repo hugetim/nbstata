{
 "cells": [
  {
   "cell_type": "markdown",
   "id": "2c184729",
   "metadata": {},
   "source": [
    "# helpers\n",
    "\n",
    "> Helper functions that require Stata to be running (but no Jupyter dependence)"
   ]
  },
  {
   "cell_type": "markdown",
   "id": "e2014567",
   "metadata": {},
   "source": [
    "`sfi` is [Stata's python API](https://www.stata.com/python/api17/index.html), originally intended for interacting with Stata from python *within Stata*. As such, it can only be imported with Stata running.\n",
    "`pystata.stata.run` [enables running Stata code from python](https://www.stata.com/python/pystata/stata.html#pystata.stata.run)."
   ]
  },
  {
   "cell_type": "code",
   "execution_count": null,
   "id": "c7fb586a",
   "metadata": {},
   "outputs": [],
   "source": [
    "#| default_exp helpers\n",
    "%load_ext autoreload\n",
    "%autoreload 2"
   ]
  },
  {
   "cell_type": "code",
   "execution_count": null,
   "id": "026b00b7",
   "metadata": {},
   "outputs": [],
   "source": [
    "#| hide\n",
    "from nbdev.showdoc import *\n",
    "from fastcore.test import test_eq"
   ]
  },
  {
   "cell_type": "code",
   "execution_count": null,
   "id": "4b35edd5",
   "metadata": {},
   "outputs": [],
   "source": [
    "#| export\n",
    "from nbstata.config import launch_stata\n",
    "from nbstata.parsers import break_out_prog_blocks\n",
    "import pandas as pd\n",
    "import numpy as np"
   ]
  },
  {
   "cell_type": "code",
   "execution_count": null,
   "id": "d154ce49",
   "metadata": {},
   "outputs": [],
   "source": [
    "#| export\n",
    "def count():\n",
    "    \"\"\"Count the number of observations\"\"\"\n",
    "    import sfi\n",
    "    return sfi.Data.getObsTotal()"
   ]
  },
  {
   "cell_type": "code",
   "execution_count": null,
   "id": "4f08f29b",
   "metadata": {},
   "outputs": [
    {
     "data": {
      "text/plain": [
       "0"
      ]
     },
     "execution_count": null,
     "metadata": {},
     "output_type": "execute_result"
    }
   ],
   "source": [
    "#| eval: false\n",
    "launch_stata(splash=False)\n",
    "count()"
   ]
  },
  {
   "cell_type": "markdown",
   "id": "7f47df15",
   "metadata": {},
   "source": [
    "`pystata.stata.run` echos multiple commands even when the `echo` parameter is set to `False`."
   ]
  },
  {
   "cell_type": "code",
   "execution_count": null,
   "id": "0c1295e5",
   "metadata": {},
   "outputs": [
    {
     "name": "stdout",
     "output_type": "stream",
     "text": [
      "test 1\n"
     ]
    }
   ],
   "source": [
    "#| eval: false\n",
    "from pystata.stata import run\n",
    "run('disp \"test 1\"', echo=False)"
   ]
  },
  {
   "cell_type": "code",
   "execution_count": null,
   "id": "2d84d303",
   "metadata": {},
   "outputs": [
    {
     "name": "stdout",
     "output_type": "stream",
     "text": [
      "\n",
      ". disp \"test 1\"\n",
      "test 1\n",
      "\n",
      ". disp \"test 2\"\n",
      "test 2\n",
      "\n",
      ". \n"
     ]
    }
   ],
   "source": [
    "#| eval: false\n",
    "two_lines_of_code = '''disp \"test 1\"\n",
    "disp \"test 2\"'''\n",
    "run(two_lines_of_code, echo=False)"
   ]
  },
  {
   "cell_type": "markdown",
   "id": "4a8083d2",
   "metadata": {},
   "source": [
    "As a workaround when echo is not desired, we can run multiple commands as a Stata program."
   ]
  },
  {
   "cell_type": "code",
   "execution_count": null,
   "id": "6a262b11",
   "metadata": {},
   "outputs": [],
   "source": [
    "#| export\n",
    "def _run_as_program(clean_non_prog_code):\n",
    "    from pystata.stata import run\n",
    "    _program_name = \"temp_nbstata_kernel_program_name\"\n",
    "    _program_define_code = f\"program {_program_name}\\n{clean_non_prog_code}\\nend\\n\"\n",
    "    run(_program_define_code, quietly=True)\n",
    "    run(_program_name, quietly=False, inline=True, echo=False)\n",
    "    run(f\"program drop {_program_name}\", quietly=True)"
   ]
  },
  {
   "cell_type": "code",
   "execution_count": null,
   "id": "1f03bdf5",
   "metadata": {},
   "outputs": [
    {
     "name": "stdout",
     "output_type": "stream",
     "text": [
      "\n",
      "test 1\n",
      "test 2\n"
     ]
    }
   ],
   "source": [
    "#| eval: false\n",
    "_run_as_program(two_lines_of_code)"
   ]
  },
  {
   "cell_type": "markdown",
   "id": "44771f08",
   "metadata": {},
   "source": [
    "This has the unwanted side-effect, though, of a initial blank line. When there is only one command to run, we can avoid that blank line by running it directly."
   ]
  },
  {
   "cell_type": "code",
   "execution_count": null,
   "id": "4d735745",
   "metadata": {},
   "outputs": [],
   "source": [
    "#| export\n",
    "def run_non_prog_noecho(clean_non_prog_code):\n",
    "    from pystata.stata import run\n",
    "    if len(clean_non_prog_code.splitlines()) == 1:  # to avoid outputting extra blank lines\n",
    "        run(clean_non_prog_code, quietly=False, inline=True, echo=False)\n",
    "    else:\n",
    "        _run_as_program(clean_non_prog_code)"
   ]
  },
  {
   "cell_type": "code",
   "execution_count": null,
   "id": "0c9f6f82",
   "metadata": {},
   "outputs": [
    {
     "name": "stdout",
     "output_type": "stream",
     "text": [
      "test 1\n"
     ]
    }
   ],
   "source": [
    "#| eval: false\n",
    "run_non_prog_noecho('disp \"test 1\"')"
   ]
  },
  {
   "cell_type": "markdown",
   "id": "109f2460",
   "metadata": {},
   "source": [
    "Stata programs (`program`, `mata` or `python`) cannot be run as a program, however. Instead, we will just run them directly, quietly to prevent echo, except for the case of mata programs, in which case `quietly` would block the output."
   ]
  },
  {
   "cell_type": "code",
   "execution_count": null,
   "id": "ab3c099f",
   "metadata": {},
   "outputs": [],
   "source": [
    "#| export\n",
    "def run_prog_noecho(clean_prog_code):\n",
    "    from pystata.stata import run\n",
    "    if clean_prog_code.splitlines()[0] in ['mata', 'mata:']:  # b/c 'quietly' blocks all mata output\n",
    "        run(clean_prog_code, quietly=False, inline=True, echo=False)\n",
    "    else:\n",
    "        run(clean_prog_code, quietly=True, inline=True, echo=False)"
   ]
  },
  {
   "cell_type": "code",
   "execution_count": null,
   "id": "6be68f3c",
   "metadata": {},
   "outputs": [
    {
     "name": "stdout",
     "output_type": "stream",
     "text": [
      "\n",
      "\n",
      "display1 output\n"
     ]
    }
   ],
   "source": [
    "#| eval: false\n",
    "_run_as_program(\"capture program drop display1\")\n",
    "prog_block_code = \"\"\"program define display1\n",
    "    disp \"display1 output\"\n",
    "end\n",
    "\"\"\"\n",
    "run_prog_noecho(prog_block_code)\n",
    "run(\"display1\", echo=False)"
   ]
  },
  {
   "cell_type": "code",
   "execution_count": null,
   "id": "f8d834fa",
   "metadata": {},
   "outputs": [
    {
     "name": "stdout",
     "output_type": "stream",
     "text": [
      "hello\n",
      "\n"
     ]
    }
   ],
   "source": [
    "#| eval: false\n",
    "python_block_code = \"\"\"python:\n",
    "print(\"hello\")\n",
    "end\n",
    "\"\"\"\n",
    "run_prog_noecho(python_block_code)"
   ]
  },
  {
   "cell_type": "code",
   "execution_count": null,
   "id": "6a3ab406",
   "metadata": {},
   "outputs": [
    {
     "name": "stdout",
     "output_type": "stream",
     "text": [
      "\n",
      ". mata:\n",
      "------------------------------------------------- mata (type end to exit) -----\n",
      ": display(\"hello\")\n",
      "hello\n",
      "\n",
      ": end\n",
      "-------------------------------------------------------------------------------\n",
      "\n",
      ". \n"
     ]
    }
   ],
   "source": [
    "#| eval: false\n",
    "mata_block_code = \"\"\"mata:\n",
    "display(\"hello\")\n",
    "end\n",
    "\"\"\"\n",
    "run_prog_noecho(mata_block_code)"
   ]
  },
  {
   "cell_type": "code",
   "execution_count": null,
   "id": "2e995de1",
   "metadata": {},
   "outputs": [],
   "source": [
    "#| export\n",
    "def run_noecho(code):\n",
    "    \"\"\"\n",
    "    Split code into program and non-program blocks, running each block noecho\n",
    "    \"\"\"\n",
    "    for block in break_out_prog_blocks(code):\n",
    "        if block['is_prog']:\n",
    "            run_prog_noecho(block['std_code'])\n",
    "        else:\n",
    "            run_non_prog_noecho(block['std_code'])"
   ]
  },
  {
   "cell_type": "code",
   "execution_count": null,
   "id": "20188a1c",
   "metadata": {},
   "outputs": [
    {
     "name": "stdout",
     "output_type": "stream",
     "text": [
      "\n",
      "\n",
      "ender output\n"
     ]
    }
   ],
   "source": [
    "#| eval: false\n",
    "run_noecho('''\n",
    "capture program drop ender\n",
    "program define ender\n",
    "    disp \"ender output\"\n",
    "end\n",
    "capture program drop display2\n",
    "program define display2\n",
    "    ender\n",
    "end\n",
    "display2\n",
    "''')"
   ]
  },
  {
   "cell_type": "code",
   "execution_count": null,
   "id": "29843e02",
   "metadata": {},
   "outputs": [],
   "source": [
    "#| export\n",
    "def resolve_macro(macro):\n",
    "    import sfi\n",
    "    macro = macro.strip()\n",
    "    if macro.startswith(\"`\") and macro.endswith(\"'\"):\n",
    "        macro = sfi.Macro.getLocal(macro[1:-1])\n",
    "    elif macro.startswith(\"$_\"):\n",
    "        macro = sfi.Macro.getLocal(macro[2:])\n",
    "    elif macro.startswith(\"$\"):\n",
    "        macro = sfi.Macro.getGlobal(macro[1:])\n",
    "    return macro"
   ]
  },
  {
   "cell_type": "code",
   "execution_count": null,
   "id": "40084cb1",
   "metadata": {},
   "outputs": [
    {
     "data": {
      "text/plain": [
       "'hello world'"
      ]
     },
     "execution_count": null,
     "metadata": {},
     "output_type": "execute_result"
    }
   ],
   "source": [
    "#| eval: false\n",
    "import pystata\n",
    "pystata.stata.run('global test = \"hello world\"')\n",
    "resolve_macro(\"$test\")"
   ]
  },
  {
   "cell_type": "markdown",
   "id": "502c8447",
   "metadata": {},
   "source": [
    "[getAsDict example](https://blog.stata.com/2020/11/05/stata-python-integration-part-8-using-the-stata-function-interface-to-copy-data-from-stata-to-python/)"
   ]
  },
  {
   "cell_type": "code",
   "execution_count": null,
   "id": "0d9eea74",
   "metadata": {},
   "outputs": [],
   "source": [
    "#| export\n",
    "def better_dataframe_from_stata(stfr, var, obs, selectvar, valuelabel, missingval):\n",
    "    import sfi, pystata\n",
    "    hdl = sfi.Data if stfr is None else sfi.Frame.connect(stfr)\n",
    "\n",
    "    if hdl.getObsTotal() <= 0:\n",
    "        return None\n",
    "\n",
    "    pystata.stata.run(\"\"\"tempvar indexvar\n",
    "                         generate `indexvar' = _n\"\"\", quietly=True)\n",
    "    idx_var = sfi.Macro.getLocal('indexvar')\n",
    "\n",
    "    data = hdl.getAsDict(var, obs, selectvar, valuelabel, missingval)\n",
    "    if idx_var in data:\n",
    "        idx = data.pop(idx_var)\n",
    "    else:\n",
    "        idx = hdl.getAsDict(idx_var, obs, selectvar, valuelabel, missingval).pop(idx_var)\n",
    "\n",
    "    idx = pd.array(idx, dtype='Int64')\n",
    "\n",
    "    pystata.stata.run(\"drop `indexvar'\")\n",
    "\n",
    "    return pd.DataFrame(data=data, index=idx).convert_dtypes()"
   ]
  },
  {
   "cell_type": "code",
   "execution_count": null,
   "id": "c291c4bf",
   "metadata": {},
   "outputs": [],
   "source": [
    "#| export\n",
    "def better_pdataframe_from_data(var=None, obs=None, selectvar=None, valuelabel=False, missingval=np.NaN):\n",
    "    import pystata\n",
    "    pystata.config.check_initialized()\n",
    "\n",
    "    return better_dataframe_from_stata(None, var, obs, selectvar, valuelabel, missingval)"
   ]
  },
  {
   "cell_type": "code",
   "execution_count": null,
   "id": "c8ff52de",
   "metadata": {},
   "outputs": [],
   "source": [
    "#| export\n",
    "def better_pdataframe_from_frame(stfr, var=None, obs=None, selectvar=None, valuelabel=False, missingval=np.NaN):\n",
    "    import pystata\n",
    "    pystata.config.check_initialized()\n",
    "\n",
    "    return better_dataframe_from_stata(stfr, var, obs, selectvar, valuelabel, missingval)"
   ]
  },
  {
   "cell_type": "code",
   "execution_count": null,
   "id": "1c6dd777",
   "metadata": {},
   "outputs": [],
   "source": [
    "#| hide\n",
    "import nbdev; nbdev.nbdev_export()"
   ]
  },
  {
   "cell_type": "code",
   "execution_count": null,
   "id": "3c97377b",
   "metadata": {},
   "outputs": [],
   "source": []
  }
 ],
 "metadata": {
  "kernelspec": {
   "display_name": "Python 3 (ipykernel)",
   "language": "python",
   "name": "python3"
  }
 },
 "nbformat": 4,
 "nbformat_minor": 5
}
