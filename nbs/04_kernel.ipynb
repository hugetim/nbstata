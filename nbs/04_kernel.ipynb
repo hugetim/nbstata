{
 "cells": [
  {
   "cell_type": "markdown",
   "metadata": {},
   "source": [
    "# kernel\n",
    "\n",
    "> IPythonKernel based on pystata"
   ]
  },
  {
   "cell_type": "markdown",
   "metadata": {},
   "source": [
    "The latest documentation for implementing a wrapper kernel is [here](https://ipython.readthedocs.io/en/stable/development/wrapperkernels.html), but the current code deviates from those instructions somewhat, inheriting from a different class, [IPythonKernel](https://github.com/ipython/ipykernel/blob/main/ipykernel/ipkernel.py)."
   ]
  },
  {
   "cell_type": "code",
   "execution_count": null,
   "metadata": {},
   "outputs": [],
   "source": [
    "#| default_exp kernel\n",
    "%load_ext autoreload\n",
    "%autoreload 2"
   ]
  },
  {
   "cell_type": "code",
   "execution_count": null,
   "metadata": {},
   "outputs": [],
   "source": [
    "#| hide\n",
    "from nbdev.showdoc import *\n",
    "from fastcore.test import test_eq\n",
    "from fastcore.basics import patch_to"
   ]
  },
  {
   "cell_type": "code",
   "execution_count": null,
   "metadata": {},
   "outputs": [],
   "source": [
    "#| export\n",
    "from ipykernel.ipkernel import IPythonKernel\n",
    "from nbstata.config import get_config, launch_stata\n",
    "from nbstata import parsers\n",
    "import os\n",
    "import sys\n",
    "from packaging import version"
   ]
  },
  {
   "cell_type": "code",
   "execution_count": null,
   "metadata": {},
   "outputs": [],
   "source": [
    "#| export\n",
    "class PyStataKernel(IPythonKernel):\n",
    "    implementation = 'nbstata'\n",
    "    implementation_version = '0.0.1'\n",
    "    language = 'stata'\n",
    "    language_version = '17'\n",
    "    language_info = {\n",
    "        'name': 'stata',\n",
    "        'mimetype': 'text/x-stata',\n",
    "        'codemirror_mode': 'stata',\n",
    "        'file_extension': '.do',\n",
    "    }\n",
    "    banner = \"nbstata: a Jupyter kernel for Stata based on pystata\"\n",
    "\n",
    "    def __init__(self, **kwargs):\n",
    "        super().__init__(**kwargs)\n",
    "        self.stata_ready = False\n",
    "        self.shell.execution_count = 0\n",
    "        self.echo = False\n",
    "        self.noecho = False\n",
    "        self.quietly = False\n",
    "        self.magic_handler = None\n",
    "        self.env = None"
   ]
  },
  {
   "cell_type": "code",
   "execution_count": null,
   "metadata": {},
   "outputs": [],
   "source": [
    "#| export\n",
    "@patch_to(PyStataKernel)\n",
    "def init_stata(self):\n",
    "    self.env = get_config()\n",
    "    if self.env['echo'] not in ('True', 'False', 'None'):\n",
    "        raise OSError(\"'\" + self.env['echo'] + \"' is not an acceptable value for 'echo'.\")\n",
    "\n",
    "    launch_stata(self.env['stata_dir'], self.env['edition'],\n",
    "                 False if self.env['splash']=='False' else True)\n",
    "    import pystata # can only be imported after adding Stata to sys.path\n",
    "\n",
    "    self.set_graph_format(self.env['graph_format'])\n",
    "\n",
    "    from .magics import StataMagics\n",
    "    self.magic_handler = StataMagics()\n",
    "\n",
    "    self.stata_ready = True\n",
    "\n",
    "@patch_to(PyStataKernel)\n",
    "def set_graph_format(self, graph_format):\n",
    "    if graph_format == 'pystata':\n",
    "        pass\n",
    "    else:\n",
    "        from pystata.config import set_graph_format\n",
    "        set_graph_format(graph_format)"
   ]
  },
  {
   "cell_type": "code",
   "execution_count": null,
   "metadata": {},
   "outputs": [],
   "source": [
    "#| export\n",
    "@patch_to(PyStataKernel)\n",
    "def do_execute(self, code, silent, store_history=True, user_expressions=None,\n",
    "               allow_stdin=False):\n",
    "    if not self.stata_ready:\n",
    "        self.init_stata()\n",
    "\n",
    "    # Read settings from env dict every time so that these can be modified by magics \n",
    "    # for each cell.\n",
    "    if self.env['echo'] == 'None':\n",
    "        self.noecho = True\n",
    "        self.echo = False\n",
    "    elif self.env['echo'] == 'True':\n",
    "        self.noecho = False\n",
    "        self.echo = True\n",
    "    else:\n",
    "        self.noecho = False\n",
    "        self.echo = False\n",
    "    self.quietly = False\n",
    "\n",
    "    # Process magics\n",
    "    code = self.magic_handler.magic(code, self)\n",
    "\n",
    "    # Execute Stata code after magics\n",
    "    if code != '':\n",
    "        # Supress echo?\n",
    "        if self.noecho and not self.quietly:\n",
    "            code = parsers.clean_code(code,noisily=True)\n",
    "            self.quietly = True\n",
    "        from pystata.stata import run\n",
    "        run(code, quietly=self.quietly, inline=True, echo=self.echo)\n",
    "\n",
    "    self.shell.execution_count += 1\n",
    "\n",
    "    return {\n",
    "        'status': 'ok',\n",
    "        'execution_count': self.execution_count,\n",
    "        'payload': [],\n",
    "        'user_expressions': {},\n",
    "        }"
   ]
  },
  {
   "cell_type": "code",
   "execution_count": null,
   "metadata": {},
   "outputs": [],
   "source": [
    "#| hide\n",
    "import nbdev; nbdev.nbdev_export()"
   ]
  }
 ],
 "metadata": {
  "kernelspec": {
   "display_name": "Python 3 (ipykernel)",
   "language": "python",
   "name": "python3"
  }
 },
 "nbformat": 4,
 "nbformat_minor": 4
}
