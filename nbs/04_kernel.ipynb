{
 "cells": [
  {
   "cell_type": "markdown",
   "metadata": {},
   "source": [
    "# kernel\n",
    "\n",
    "> IPythonKernel based on pystata"
   ]
  },
  {
   "cell_type": "markdown",
   "metadata": {},
   "source": [
    "The latest documentation for implementing a wrapper kernel is [here](https://jupyter-client.readthedocs.io/en/latest/wrapperkernels.html), but the current code deviates from those instructions, instead inheriting from the IPython kernel implementation, [IPythonKernel](https://github.com/ipython/ipykernel/blob/main/ipykernel/ipkernel.py)."
   ]
  },
  {
   "cell_type": "code",
   "execution_count": null,
   "metadata": {},
   "outputs": [],
   "source": [
    "#| default_exp kernel\n",
    "%load_ext autoreload\n",
    "%autoreload 2"
   ]
  },
  {
   "cell_type": "code",
   "execution_count": null,
   "metadata": {},
   "outputs": [],
   "source": [
    "#| hide\n",
    "from nbdev.showdoc import *\n",
    "from fastcore.test import test_eq"
   ]
  },
  {
   "cell_type": "code",
   "execution_count": null,
   "metadata": {},
   "outputs": [],
   "source": [
    "#| export\n",
    "from nbstata.config import get_config, launch_stata\n",
    "from nbstata.magics import StataMagics\n",
    "from fastcore.basics import patch_to\n",
    "from ipykernel.ipkernel import IPythonKernel\n",
    "import os\n",
    "import sys\n",
    "from packaging import version"
   ]
  },
  {
   "cell_type": "code",
   "execution_count": null,
   "metadata": {},
   "outputs": [],
   "source": [
    "#| export\n",
    "class PyStataKernel(IPythonKernel):\n",
    "    implementation = 'nbstata'\n",
    "    implementation_version = '0.0.1'\n",
    "    language = 'stata'\n",
    "    language_version = '17'\n",
    "    language_info = {\n",
    "        'name': 'stata',\n",
    "        'mimetype': 'text/x-stata',\n",
    "        'codemirror_mode': 'stata',\n",
    "        'file_extension': '.do',\n",
    "    }\n",
    "    banner = \"nbstata: a Jupyter kernel for Stata based on pystata\"\n",
    "\n",
    "    def __init__(self, **kwargs):\n",
    "        super().__init__(**kwargs)\n",
    "        self.stata_ready = False\n",
    "        self.shell.execution_count = 0\n",
    "        self.magic_handler = None\n",
    "        self.env = None"
   ]
  },
  {
   "cell_type": "code",
   "execution_count": null,
   "metadata": {},
   "outputs": [],
   "source": [
    "#| export\n",
    "@patch_to(PyStataKernel)\n",
    "def init_stata(self):\n",
    "    def _set_graph_format(graph_format):\n",
    "        if graph_format == 'nbstata':\n",
    "            pass\n",
    "        else:\n",
    "            from pystata.config import set_graph_format\n",
    "            set_graph_format(graph_format)\n",
    "    \n",
    "    self.env = get_config()\n",
    "    if self.env['echo'] not in ('True', 'False', 'None'):\n",
    "        raise OSError(\"'\" + self.env['echo'] + \"' is not an acceptable value for 'echo'.\")\n",
    "\n",
    "    launch_stata(self.env['stata_dir'], self.env['edition'],\n",
    "                 False if self.env['splash']=='False' else True)\n",
    "\n",
    "    _set_graph_format(self.env['graph_format'])\n",
    "\n",
    "    self.magic_handler = StataMagics()\n",
    "\n",
    "    self.stata_ready = True"
   ]
  },
  {
   "cell_type": "code",
   "execution_count": null,
   "metadata": {},
   "outputs": [],
   "source": [
    "#| export\n",
    "class Cell:\n",
    "    def __init__(self, kernel, code_w_magics):\n",
    "        if kernel.env['echo'] == 'None':\n",
    "            self.noecho = True\n",
    "            self.echo = False\n",
    "        elif kernel.env['echo'] == 'True':\n",
    "            self.noecho = False\n",
    "            self.echo = True\n",
    "        else:\n",
    "            self.noecho = False\n",
    "            self.echo = False\n",
    "        self.quietly = False\n",
    "        self.code = kernel.magic_handler.magic(code_w_magics, kernel, self)\n",
    "    \n",
    "    def run(self):\n",
    "        if self.code != '':\n",
    "            if self.noecho and not self.quietly:\n",
    "                from nbstata.helpers import run_noecho\n",
    "                run_noecho(self.code)\n",
    "            else:\n",
    "                from pystata.stata import run\n",
    "                run(self.code, quietly=self.quietly, inline=True, echo=self.echo)"
   ]
  },
  {
   "cell_type": "markdown",
   "metadata": {},
   "source": [
    "Some `Cell` functionality can be tested apart from a kernel:"
   ]
  },
  {
   "cell_type": "code",
   "execution_count": null,
   "metadata": {},
   "outputs": [],
   "source": [
    "from unittest.mock import Mock"
   ]
  },
  {
   "cell_type": "code",
   "execution_count": null,
   "metadata": {},
   "outputs": [
    {
     "data": {
      "text/plain": [
       "'disp \"test output\"'"
      ]
     },
     "execution_count": null,
     "metadata": {},
     "output_type": "execute_result"
    }
   ],
   "source": [
    "kernel1 = Mock()\n",
    "kernel1.env = {'echo': 'None'}\n",
    "kernel1.magic_handler = StataMagics()\n",
    "\n",
    "code_w_magics = '''disp \"test output\"'''\n",
    "cell1 = Cell(kernel1, code_w_magics)\n",
    "cell1.code"
   ]
  },
  {
   "cell_type": "code",
   "execution_count": null,
   "metadata": {},
   "outputs": [
    {
     "name": "stdout",
     "output_type": "stream",
     "text": [
      "test output\n"
     ]
    }
   ],
   "source": [
    "#| eval: false\n",
    "launch_stata(splash=False)\n",
    "cell1.run()"
   ]
  },
  {
   "cell_type": "code",
   "execution_count": null,
   "metadata": {},
   "outputs": [],
   "source": [
    "code_w_magics = '''*%quietly\n",
    "disp \"test output\"'''\n",
    "cell2 = Cell(kernel1, code_w_magics)\n",
    "test_eq(cell2.quietly, True)"
   ]
  },
  {
   "cell_type": "code",
   "execution_count": null,
   "metadata": {},
   "outputs": [],
   "source": [
    "#| eval: false\n",
    "cell2.run()"
   ]
  },
  {
   "cell_type": "code",
   "execution_count": null,
   "metadata": {},
   "outputs": [],
   "source": [
    "kernel1.env = {'echo': 'True'}\n",
    "\n",
    "code_w_magics = '''disp \"test output\"'''\n",
    "cell3 = Cell(kernel1, code_w_magics)\n",
    "test_eq(cell3.noecho, False)"
   ]
  },
  {
   "cell_type": "code",
   "execution_count": null,
   "metadata": {},
   "outputs": [
    {
     "name": "stdout",
     "output_type": "stream",
     "text": [
      ". disp \"test output\"\n",
      "test output\n"
     ]
    }
   ],
   "source": [
    "#| eval: false\n",
    "cell3.run()"
   ]
  },
  {
   "cell_type": "code",
   "execution_count": null,
   "metadata": {},
   "outputs": [],
   "source": [
    "code_w_magics = '''*%noecho\n",
    "disp \"test output\"'''\n",
    "cell4 = Cell(kernel1, code_w_magics)\n",
    "test_eq(cell4.noecho, True)"
   ]
  },
  {
   "cell_type": "code",
   "execution_count": null,
   "metadata": {},
   "outputs": [
    {
     "name": "stdout",
     "output_type": "stream",
     "text": [
      "test output\n"
     ]
    }
   ],
   "source": [
    "#| eval: false\n",
    "cell4.run()"
   ]
  },
  {
   "cell_type": "code",
   "execution_count": null,
   "metadata": {},
   "outputs": [],
   "source": [
    "#| export\n",
    "def print_red(text):\n",
    "    print(f\"\\x1b[31m{text}\\x1b[0m\")"
   ]
  },
  {
   "cell_type": "code",
   "execution_count": null,
   "metadata": {},
   "outputs": [
    {
     "name": "stdout",
     "output_type": "stream",
     "text": [
      "\u001b[31mtest_red\u001b[0m\n"
     ]
    }
   ],
   "source": [
    "print_red(\"test_red\")"
   ]
  },
  {
   "cell_type": "code",
   "execution_count": null,
   "metadata": {},
   "outputs": [],
   "source": [
    "#| export\n",
    "@patch_to(PyStataKernel)\n",
    "def do_execute(self, code, silent, store_history=True, user_expressions=None,\n",
    "               allow_stdin=False):\n",
    "    if not self.stata_ready:\n",
    "        self.init_stata()\n",
    "    self.shell.execution_count += 1\n",
    "    try:\n",
    "        Cell(self, code).run()\n",
    "        return {\n",
    "            'status': 'ok',\n",
    "            'execution_count': self.execution_count,\n",
    "            'payload': [],\n",
    "            'user_expressions': {},\n",
    "            }\n",
    "    except SystemError as err:\n",
    "        reply_content = {\n",
    "            \"traceback\": [],\n",
    "            \"ename\": \"Stata error\",\n",
    "            \"evalue\": str(err),\n",
    "        }\n",
    "        if not silent:\n",
    "            print_red(reply_content['evalue'])\n",
    "#             self.send_response(\n",
    "#                 self.iopub_socket,\n",
    "#                 \"error\",\n",
    "#                 reply_content,\n",
    "#             )\n",
    "        reply_content.update({\n",
    "            'status': \"error\",\n",
    "            'execution_count': self.execution_count,\n",
    "        })\n",
    "        return reply_content"
   ]
  },
  {
   "cell_type": "code",
   "execution_count": null,
   "metadata": {},
   "outputs": [],
   "source": [
    "#| hide\n",
    "import nbdev; nbdev.nbdev_export()"
   ]
  }
 ],
 "metadata": {
  "kernelspec": {
   "display_name": "Python 3 (ipykernel)",
   "language": "python",
   "name": "python3"
  }
 },
 "nbformat": 4,
 "nbformat_minor": 4
}
