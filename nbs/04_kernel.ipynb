{
 "cells": [
  {
   "cell_type": "markdown",
   "metadata": {},
   "source": [
    "# kernel\n",
    "\n",
    "> IPythonKernel based on pystata"
   ]
  },
  {
   "cell_type": "markdown",
   "metadata": {},
   "source": [
    "The latest documentation for implementing a wrapper kernel is [here](https://jupyter-client.readthedocs.io/en/latest/wrapperkernels.html), but the current code deviates from those instructions, instead inheriting from the IPython kernel implementation, [IPythonKernel](https://github.com/ipython/ipykernel/blob/main/ipykernel/ipkernel.py)."
   ]
  },
  {
   "cell_type": "code",
   "execution_count": null,
   "metadata": {},
   "outputs": [],
   "source": [
    "#| default_exp kernel\n",
    "%load_ext autoreload\n",
    "%autoreload 2"
   ]
  },
  {
   "cell_type": "code",
   "execution_count": null,
   "metadata": {},
   "outputs": [],
   "source": [
    "#| hide\n",
    "from nbdev.showdoc import *\n",
    "from fastcore.test import test_eq\n",
    "from fastcore.basics import patch_to"
   ]
  },
  {
   "cell_type": "code",
   "execution_count": null,
   "metadata": {},
   "outputs": [],
   "source": [
    "#| export\n",
    "from ipykernel.ipkernel import IPythonKernel\n",
    "from nbstata.config import get_config, launch_stata\n",
    "from nbstata import parsers\n",
    "import os\n",
    "import sys\n",
    "from packaging import version"
   ]
  },
  {
   "cell_type": "code",
   "execution_count": null,
   "metadata": {},
   "outputs": [],
   "source": [
    "#| export\n",
    "class PyStataKernel(IPythonKernel):\n",
    "    implementation = 'nbstata'\n",
    "    implementation_version = '0.0.1'\n",
    "    language = 'stata'\n",
    "    language_version = '17'\n",
    "    language_info = {\n",
    "        'name': 'stata',\n",
    "        'mimetype': 'text/x-stata',\n",
    "        'codemirror_mode': 'stata',\n",
    "        'file_extension': '.do',\n",
    "    }\n",
    "    banner = \"nbstata: a Jupyter kernel for Stata based on pystata\"\n",
    "\n",
    "    def __init__(self, **kwargs):\n",
    "        super().__init__(**kwargs)\n",
    "        self.stata_ready = False\n",
    "        self.shell.execution_count = 0\n",
    "        self.magic_handler = None\n",
    "        self.env = None"
   ]
  },
  {
   "cell_type": "code",
   "execution_count": null,
   "metadata": {},
   "outputs": [],
   "source": [
    "#| export\n",
    "@patch_to(PyStataKernel)\n",
    "def init_stata(self):\n",
    "    def _set_graph_format(graph_format):\n",
    "        if graph_format == 'nbstata':\n",
    "            pass\n",
    "        else:\n",
    "            from pystata.config import set_graph_format\n",
    "            set_graph_format(graph_format)\n",
    "    \n",
    "    self.env = get_config()\n",
    "    if self.env['echo'] not in ('True', 'False', 'None'):\n",
    "        raise OSError(\"'\" + self.env['echo'] + \"' is not an acceptable value for 'echo'.\")\n",
    "\n",
    "    launch_stata(self.env['stata_dir'], self.env['edition'],\n",
    "                 False if self.env['splash']=='False' else True)\n",
    "\n",
    "    _set_graph_format(self.env['graph_format'])\n",
    "\n",
    "    from .magics import StataMagics\n",
    "    self.magic_handler = StataMagics()\n",
    "\n",
    "    self.stata_ready = True"
   ]
  },
  {
   "cell_type": "code",
   "execution_count": null,
   "metadata": {},
   "outputs": [],
   "source": [
    "class Cell:\n",
    "    def __init__(self, kernel, code_w_magics):\n",
    "        if kernel.env['echo'] == 'None':\n",
    "            self.noecho = True\n",
    "            self.echo = False\n",
    "        elif kernel.env['echo'] == 'True':\n",
    "            self.noecho = False\n",
    "            self.echo = True\n",
    "        else:\n",
    "            self.noecho = False\n",
    "            self.echo = False\n",
    "        self.quietly = False\n",
    "        self.code = self.magic_handler.magic(code_w_magics, kernel, cell)\n",
    "    \n",
    "    def run(self):\n",
    "        # Execute Stata code after magics\n",
    "        if self.code != '':\n",
    "            # Supress echo?\n",
    "            if self.noecho and not self.quietly:\n",
    "                noecho_run(code)\n",
    "            else:\n",
    "                from pystata.stata import run\n",
    "                run(code, quietly=self.quietly, inline=True, echo=self.echo)"
   ]
  },
  {
   "cell_type": "code",
   "execution_count": null,
   "metadata": {},
   "outputs": [],
   "source": [
    "def noecho_run(code):\n",
    "    \"\"\"\n",
    "    Split code into program and non-program blocks, running each block noecho\n",
    "    \"\"\"\n",
    "    from pystata.stata import run\n",
    "    def _run_as_program(clean_non_prog_code):\n",
    "        _program_name = \"temp_nbstata_kernel_program_name\"\n",
    "        _program_define_code = f\"program {_program_name}\\n{clean_non_prog_code}\\nend\\n\"\n",
    "        run(_program_define_code, quietly=True)\n",
    "        run(_program_name, quietly=False, inline=True, echo=False)\n",
    "        run(f\"program drop {_program_name}\", quietly=True)\n",
    "\n",
    "    def _run_non_prog_lines(co):\n",
    "        clean_non_prog_code = '\\n'.join(co)\n",
    "        if len(co) == 1:  # to avoid outputting extra blank lines\n",
    "            run(clean_non_prog_code, quietly=False, inline=True, echo=False)\n",
    "        else:\n",
    "            _run_as_program(clean_non_prog_code)\n",
    "\n",
    "    def _run_prog_lines(co):        \n",
    "        clean_prog_code = '\\n'.join(co)\n",
    "        if co[0] in ['mata', 'mata:']:  # b/c 'quietly' blocks all mata output\n",
    "            run(clean_prog_code, quietly=False, inline=True, echo=False)\n",
    "        else:\n",
    "            run(clean_prog_code, quietly=True, inline=True, echo=False)\n",
    "            \n",
    "    cl = parsers.clean_code(code).splitlines()\n",
    "    co = []\n",
    "    for c in cl:\n",
    "        cs = c.strip()\n",
    "\n",
    "        # Are we starting a program definition?\n",
    "        if parsers.is_start_of_program_block(cs):\n",
    "            if co:\n",
    "                _run_non_prog_lines(co)\n",
    "                co = []\n",
    "\n",
    "        co.append(c)\n",
    "\n",
    "        # Are we ending a program definition?\n",
    "        if cs == 'end':\n",
    "            _run_prog_lines(co)\n",
    "            co = []\n",
    "\n",
    "    if co:\n",
    "        _run_non_prog_lines(co)"
   ]
  },
  {
   "cell_type": "code",
   "execution_count": null,
   "metadata": {},
   "outputs": [],
   "source": [
    "#| export\n",
    "@patch_to(PyStataKernel)\n",
    "def do_execute(self, code, silent, store_history=True, user_expressions=None,\n",
    "               allow_stdin=False):\n",
    "    if not self.stata_ready:\n",
    "        self.init_stata()\n",
    "    Cell(self, code).run()\n",
    "    self.shell.execution_count += 1\n",
    "    return {\n",
    "        'status': 'ok',\n",
    "        'execution_count': self.execution_count,\n",
    "        'payload': [],\n",
    "        'user_expressions': {},\n",
    "        }"
   ]
  },
  {
   "cell_type": "code",
   "execution_count": null,
   "metadata": {},
   "outputs": [],
   "source": [
    "#| hide\n",
    "import nbdev; nbdev.nbdev_export()"
   ]
  }
 ],
 "metadata": {
  "kernelspec": {
   "display_name": "Python 3 (ipykernel)",
   "language": "python",
   "name": "python3"
  }
 },
 "nbformat": 4,
 "nbformat_minor": 4
}
