{
 "cells": [
  {
   "cell_type": "markdown",
   "id": "2c184729",
   "metadata": {},
   "source": [
    "# stata\n",
    "\n",
    "> Simple wrappers for `pystata`/`sfi` functionality\n",
    "- order: 2"
   ]
  },
  {
   "cell_type": "markdown",
   "id": "e2014567",
   "metadata": {},
   "source": [
    "`sfi` is [Stata's python API](https://www.stata.com/python/api17/index.html), originally intended for interacting with Stata from python *within Stata*. As such, it can only be imported with Stata running.\n",
    "`pystata.stata.run` [enables running Stata code from python](https://www.stata.com/python/pystata18/stata.html#pystata.stata.run)."
   ]
  },
  {
   "cell_type": "markdown",
   "id": "b340a24b",
   "metadata": {},
   "source": [
    "For one thing, using wrappers removes the need to constantly import `pystata` and/or `sfi` within functions elsewhere to avoid running afoul of CI tests in an environment without Stata installed."
   ]
  },
  {
   "cell_type": "code",
   "execution_count": null,
   "id": "c7fb586a",
   "metadata": {},
   "outputs": [],
   "source": [
    "#| default_exp stata\n",
    "%load_ext autoreload\n",
    "%autoreload 2"
   ]
  },
  {
   "cell_type": "code",
   "execution_count": null,
   "id": "026b00b7",
   "metadata": {},
   "outputs": [],
   "source": [
    "#| hide\n",
    "from nbdev.showdoc import *"
   ]
  },
  {
   "cell_type": "code",
   "execution_count": null,
   "id": "4b35edd5",
   "metadata": {},
   "outputs": [],
   "source": [
    "#| export\n",
    "from nbstata.misc_utils import print_red\n",
    "from contextlib import redirect_stdout\n",
    "from io import StringIO"
   ]
  },
  {
   "cell_type": "code",
   "execution_count": null,
   "id": "3f05096b",
   "metadata": {},
   "outputs": [],
   "source": [
    "#| hide\n",
    "from nbstata.config import launch_stata\n",
    "from nbstata.misc_utils import Timer\n",
    "from textwrap import dedent\n",
    "from fastcore.test import test_eq, ExceptionExpected"
   ]
  },
  {
   "cell_type": "code",
   "execution_count": null,
   "id": "56f636bc",
   "metadata": {},
   "outputs": [],
   "source": [
    "#| hide\n",
    "#| eval: False\n",
    "launch_stata(splash=False)"
   ]
  },
  {
   "cell_type": "markdown",
   "id": "f24dac9d",
   "metadata": {},
   "source": [
    "## Simple wrappers"
   ]
  },
  {
   "cell_type": "code",
   "execution_count": null,
   "id": "d5190d19",
   "metadata": {},
   "outputs": [],
   "source": [
    "#| export\n",
    "def get_local(name):\n",
    "    import sfi\n",
    "    return sfi.Macro.getLocal(name)"
   ]
  },
  {
   "cell_type": "markdown",
   "id": "c13ded33",
   "metadata": {},
   "source": [
    "[https://www.stata.com/python/api17/Macro.html#sfi.Macro.getLocal](https://www.stata.com/python/api17/Macro.html#sfi.Macro.getLocal)"
   ]
  },
  {
   "cell_type": "code",
   "execution_count": null,
   "id": "d5e8ada4",
   "metadata": {},
   "outputs": [],
   "source": [
    "#| export\n",
    "def set_local(name, value):\n",
    "    import sfi\n",
    "    return sfi.Macro.setLocal(name, value)"
   ]
  },
  {
   "cell_type": "markdown",
   "id": "6b79b383",
   "metadata": {},
   "source": [
    "[https://www.stata.com/python/api17/Macro.html#sfi.Macro.getGlobal](https://www.stata.com/python/api17/Macro.html#sfi.Macro.getGlobal)"
   ]
  },
  {
   "cell_type": "code",
   "execution_count": null,
   "id": "d2c1a4cb",
   "metadata": {},
   "outputs": [],
   "source": [
    "#| export\n",
    "def get_global(name):\n",
    "    import sfi\n",
    "    return sfi.Macro.getGlobal(name)"
   ]
  },
  {
   "cell_type": "markdown",
   "id": "092d242f",
   "metadata": {},
   "source": [
    "[https://www.stata.com/python/api17/Macro.html#sfi.Macro.setGlobal](https://www.stata.com/python/api17/Macro.html#sfi.Macro.setGlobal)"
   ]
  },
  {
   "cell_type": "code",
   "execution_count": null,
   "id": "18638e7f",
   "metadata": {},
   "outputs": [],
   "source": [
    "#| export\n",
    "def set_global(name):\n",
    "    import sfi\n",
    "    return sfi.Macro.setGlobal(name, value)"
   ]
  },
  {
   "cell_type": "markdown",
   "id": "fb3c1b96",
   "metadata": {},
   "source": [
    "[https://www.stata.com/python/api17/Macro.html#sfi.Macro.getGlobal](https://www.stata.com/python/api17/Macro.html#sfi.Macro.getGlobal)"
   ]
  },
  {
   "cell_type": "code",
   "execution_count": null,
   "id": "3b2c0c93",
   "metadata": {},
   "outputs": [],
   "source": [
    "#| export\n",
    "def get_scalar(name):\n",
    "    import sfi\n",
    "    return sfi.Scalar.getValue(name)"
   ]
  },
  {
   "cell_type": "markdown",
   "id": "5e6e3219",
   "metadata": {},
   "source": [
    "[https://www.stata.com/python/api17/Scalar.html?highlight=scalar#sfi.Scalar.getValue](https://www.stata.com/python/api17/Scalar.html?highlight=scalar#sfi.Scalar.getValue)"
   ]
  },
  {
   "cell_type": "code",
   "execution_count": null,
   "id": "2ff122a8",
   "metadata": {},
   "outputs": [],
   "source": [
    "#| export\n",
    "def stata_formatted(value, s_format):\n",
    "    import sfi\n",
    "    return sfi.SFIToolkit.formatValue(value, s_format)"
   ]
  },
  {
   "cell_type": "markdown",
   "id": "1057b620",
   "metadata": {},
   "source": [
    "[https://www.stata.com/python/api17/SFIToolkit.html#sfi.SFIToolkit.formatValue](https://www.stata.com/python/api17/SFIToolkit.html#sfi.SFIToolkit.formatValue)"
   ]
  },
  {
   "cell_type": "code",
   "execution_count": null,
   "id": "e409a748",
   "metadata": {},
   "outputs": [],
   "source": [
    "#| export\n",
    "def variable_names():\n",
    "    from sfi import Data\n",
    "    return [Data.getVarName(i) for i in range(Data.getVarCount())]"
   ]
  },
  {
   "cell_type": "markdown",
   "id": "a0edcbe9",
   "metadata": {},
   "source": [
    "`variable_names` uses 'getVarCount' and 'getVarName': [https://www.stata.com/python/api17/Data.html](https://www.stata.com/python/api17/Data.html)"
   ]
  },
  {
   "cell_type": "code",
   "execution_count": null,
   "id": "88740d45",
   "metadata": {},
   "outputs": [],
   "source": [
    "#| hide\n",
    "#| eval: False\n",
    "import sfi"
   ]
  },
  {
   "cell_type": "code",
   "execution_count": null,
   "id": "6402e512",
   "metadata": {},
   "outputs": [
    {
     "data": {
      "text/plain": [
       "['var1']"
      ]
     },
     "execution_count": null,
     "metadata": {},
     "output_type": "execute_result"
    }
   ],
   "source": [
    "#| eval: false\n",
    "sfi.SFIToolkit.stata(\"quietly gen var1 = 1\")\n",
    "variable_names()"
   ]
  },
  {
   "cell_type": "code",
   "execution_count": null,
   "id": "39d44059",
   "metadata": {},
   "outputs": [],
   "source": [
    "#| export\n",
    "def drop_var(name):\n",
    "    import sfi\n",
    "    sfi.Data.dropVar(name)"
   ]
  },
  {
   "cell_type": "markdown",
   "id": "c82d0e81",
   "metadata": {},
   "source": [
    "[https://www.stata.com/python/api17/Data.html#sfi.Data.dropVar](https://www.stata.com/python/api17/Data.html#sfi.Data.dropVar)"
   ]
  },
  {
   "cell_type": "code",
   "execution_count": null,
   "id": "c67ee759",
   "metadata": {},
   "outputs": [
    {
     "data": {
      "text/plain": [
       "[]"
      ]
     },
     "execution_count": null,
     "metadata": {},
     "output_type": "execute_result"
    }
   ],
   "source": [
    "#| eval: False\n",
    "drop_var('var1')\n",
    "variable_names()"
   ]
  },
  {
   "cell_type": "code",
   "execution_count": null,
   "id": "43876e25",
   "metadata": {},
   "outputs": [],
   "source": [
    "#| export\n",
    "def obs_count():\n",
    "    \"\"\"Count the number of observations\"\"\"\n",
    "    import sfi\n",
    "    return sfi.Data.getObsTotal()"
   ]
  },
  {
   "cell_type": "markdown",
   "id": "380772e6",
   "metadata": {},
   "source": [
    "[https://www.stata.com/python/api17/Data.html#sfi.Data.getObsTotal](https://www.stata.com/python/api17/Data.html#sfi.Data.getObsTotal)"
   ]
  },
  {
   "cell_type": "code",
   "execution_count": null,
   "id": "da1bdb5f",
   "metadata": {},
   "outputs": [
    {
     "data": {
      "text/plain": [
       "0"
      ]
     },
     "execution_count": null,
     "metadata": {},
     "output_type": "execute_result"
    }
   ],
   "source": [
    "#| eval: false\n",
    "obs_count()"
   ]
  },
  {
   "cell_type": "code",
   "execution_count": null,
   "id": "22c99234",
   "metadata": {},
   "outputs": [],
   "source": [
    "#| export\n",
    "def pwd():\n",
    "    from sfi import SFIToolkit\n",
    "    return SFIToolkit.getWorkingDir()"
   ]
  },
  {
   "cell_type": "markdown",
   "id": "5ec19929",
   "metadata": {},
   "source": [
    "[https://www.stata.com/python/api17/SFIToolkit.html#sfi.SFIToolkit.getWorkingDir](https://www.stata.com/python/api17/SFIToolkit.html#sfi.SFIToolkit.getWorkingDir)"
   ]
  },
  {
   "cell_type": "code",
   "execution_count": null,
   "id": "232e5aa1",
   "metadata": {},
   "outputs": [
    {
     "data": {
      "text/plain": [
       "'\\\\nbstata\\\\nbs'"
      ]
     },
     "execution_count": null,
     "metadata": {},
     "output_type": "execute_result"
    }
   ],
   "source": [
    "#| eval: False\n",
    "pwd()[-12:]"
   ]
  },
  {
   "cell_type": "code",
   "execution_count": null,
   "id": "27657747",
   "metadata": {},
   "outputs": [],
   "source": [
    "#| export\n",
    "def macro_expand(s):\n",
    "    from sfi import SFIToolkit\n",
    "    return SFIToolkit.macroExpand(s)"
   ]
  },
  {
   "cell_type": "markdown",
   "id": "314d530c",
   "metadata": {},
   "source": [
    "[https://www.stata.com/python/api17/SFIToolkit.html#sfi.SFIToolkit.macroExpand](https://www.stata.com/python/api17/SFIToolkit.html#sfi.SFIToolkit.macroExpand)"
   ]
  },
  {
   "cell_type": "markdown",
   "id": "08449ea8",
   "metadata": {},
   "source": [
    "## Running arbitrary Stata code"
   ]
  },
  {
   "cell_type": "code",
   "execution_count": null,
   "id": "79f90aad",
   "metadata": {},
   "outputs": [],
   "source": [
    "#| export\n",
    "def run_direct(cmds, quietly=False, echo=False, inline=True):\n",
    "    import pystata\n",
    "    return pystata.stata.run(cmds, quietly, echo, inline)"
   ]
  },
  {
   "cell_type": "markdown",
   "id": "41d25ea7",
   "metadata": {},
   "source": [
    "`run_direct` wraps the most flexible utility Stata provides to run Stata commands: [pystata.stata.run](https://www.stata.com/python/pystata18/stata.html#pystata.stata.run)"
   ]
  },
  {
   "cell_type": "code",
   "execution_count": null,
   "id": "e4a17042",
   "metadata": {},
   "outputs": [
    {
     "name": "stdout",
     "output_type": "stream",
     "text": [
      "\n",
      ". disp 1\n",
      "1\n",
      "\n",
      ". disp 2\n",
      "2\n",
      "\n",
      ". \n"
     ]
    }
   ],
   "source": [
    "#| eval: False\n",
    "run_direct(\"\"\"\\\n",
    "disp 1\n",
    "disp 2\"\"\", echo=True)"
   ]
  },
  {
   "cell_type": "markdown",
   "id": "bef9908c",
   "metadata": {},
   "source": [
    "#| hide\n",
    "- Note that multi-line Stata code is always echoed by `pystata.stata.run`:"
   ]
  },
  {
   "cell_type": "code",
   "execution_count": null,
   "id": "f7dd200c",
   "metadata": {},
   "outputs": [
    {
     "name": "stdout",
     "output_type": "stream",
     "text": [
      "\n",
      ". quietly {\n",
      "\n",
      ". \n"
     ]
    }
   ],
   "source": [
    "#| hide\n",
    "#| eval: False\n",
    "run_direct(\"\"\"\\\n",
    "quietly {\n",
    "    disp 2\n",
    "}\"\"\", echo=False)"
   ]
  },
  {
   "cell_type": "code",
   "execution_count": null,
   "id": "7e5c7ae4",
   "metadata": {},
   "outputs": [
    {
     "name": "stdout",
     "output_type": "stream",
     "text": [
      "\n",
      ". python:\n",
      "----------------------------------------------- python (type end to exit) -----\n",
      ">>> print(\"hello\")\n",
      "hello\n",
      ">>> end\n",
      "-------------------------------------------------------------------------------\n",
      "\n",
      ". \n"
     ]
    }
   ],
   "source": [
    "#| hide\n",
    "#| eval: False\n",
    "run_direct(dedent('''\\\n",
    "    python:\n",
    "    print(\"hello\")\n",
    "    end\n",
    "    '''), echo=False)"
   ]
  },
  {
   "cell_type": "code",
   "execution_count": null,
   "id": "0ef3ec2e",
   "metadata": {},
   "outputs": [
    {
     "name": "stdout",
     "output_type": "stream",
     "text": [
      "hello\n",
      "\n"
     ]
    }
   ],
   "source": [
    "#| hide\n",
    "#| eval: False\n",
    "code = dedent('''\\\n",
    "    python:\n",
    "    print(\"hello\")\n",
    "    end\n",
    "    ''')\n",
    "run_direct(code, quietly=True)"
   ]
  },
  {
   "cell_type": "code",
   "execution_count": null,
   "id": "a7b6edf5",
   "metadata": {},
   "outputs": [
    {
     "name": "stdout",
     "output_type": "stream",
     "text": [
      "\n"
     ]
    }
   ],
   "source": [
    "#| hide\n",
    "#| eval: False\n",
    "code = dedent('''\\\n",
    "    python:\n",
    "    do_nothin = 3\n",
    "    end\n",
    "    ''')\n",
    "run_direct(code, quietly=True)"
   ]
  },
  {
   "cell_type": "code",
   "execution_count": null,
   "id": "af4d8503",
   "metadata": {},
   "outputs": [],
   "source": [
    "#| export\n",
    "def run_single(cmd, echo=False):\n",
    "    import sfi\n",
    "    try:\n",
    "        sfi.SFIToolkit.stata(cmd, echo)\n",
    "    except Exception as e:\n",
    "        with redirect_stdout(StringIO()) as diverted:\n",
    "            sfi.SFIToolkit.stata(\"\", echo)\n",
    "        raise SyntaxError(diverted.getvalue())"
   ]
  },
  {
   "cell_type": "markdown",
   "id": "a8e26eff",
   "metadata": {},
   "source": [
    "`run_single` uses an `sfi` function for running a single command that is notably faster than `pystata.stata.run` but is less versatile and appears less resilient to errors: [https://www.stata.com/python/api17/SFIToolkit.html#sfi.SFIToolkit.stata](https://www.stata.com/python/api17/SFIToolkit.html#sfi.SFIToolkit.stata)"
   ]
  },
  {
   "cell_type": "code",
   "execution_count": null,
   "id": "586a6f43",
   "metadata": {},
   "outputs": [],
   "source": [
    "#| eval: False\n",
    "import sfi, pystata"
   ]
  },
  {
   "cell_type": "code",
   "execution_count": null,
   "id": "8e0cbaf1",
   "metadata": {},
   "outputs": [
    {
     "name": "stdout",
     "output_type": "stream",
     "text": [
      "0\n",
      "Elapsed time: 0.0001 seconds\n",
      "0\n",
      "Elapsed time: 0.0484 seconds\n"
     ]
    }
   ],
   "source": [
    "#| eval: False\n",
    "with Timer():\n",
    "    sfi.SFIToolkit.stata(\"disp 0\")\n",
    "with Timer():\n",
    "    pystata.stata.run(\"disp 0\")"
   ]
  },
  {
   "cell_type": "markdown",
   "id": "cf8b99c9",
   "metadata": {},
   "source": [
    "For example, it cannot display graphs, silently quashing them instead:"
   ]
  },
  {
   "cell_type": "code",
   "execution_count": null,
   "id": "f169b0f4",
   "metadata": {},
   "outputs": [
    {
     "name": "stdout",
     "output_type": "stream",
     "text": [
      "(Life expectancy, 1998)\n"
     ]
    }
   ],
   "source": [
    "#| eval: False\n",
    "sfi.SFIToolkit.stata(\"sysuse lifeexp, clear\")\n",
    "sfi.SFIToolkit.stata(\"scatter gnppc lexp\")"
   ]
  },
  {
   "cell_type": "code",
   "execution_count": null,
   "id": "802109e9",
   "metadata": {},
   "outputs": [
    {
     "name": "stdout",
     "output_type": "stream",
     "text": [
      ". scatter gnppc lexp\n"
     ]
    },
    {
     "data": {
      "image/svg+xml": [
       "<svg xmlns=\"http://www.w3.org/2000/svg\" xmlns:xlink=\"http://www.w3.org/1999/xlink\" version=\"1.1\" width=\"7.500in\" height=\"4.500in\" viewBox=\"0 0 5400 3240\">\n",
       "\t<desc>Stata Graph - Graph</desc>\n",
       "\t<rect x=\"0\" y=\"0\" width=\"5400\" height=\"3240\" style=\"fill:#FFFFFF;stroke:none\"/>\n",
       "\t<rect x=\"0.00\" y=\"0.00\" width=\"5400.00\" height=\"3240.00\" style=\"fill:#FFFFFF\"/>\n",
       "\t<rect x=\"3.24\" y=\"3.24\" width=\"5393.52\" height=\"3233.52\" style=\"fill:none;stroke:#FFFFFF;stroke-width:6.48\"/>\n",
       "\t<rect x=\"714.15\" y=\"113.40\" width=\"4572.45\" height=\"2653.26\" style=\"fill:#FFFFFF\"/>\n",
       "\t<rect x=\"717.39\" y=\"116.64\" width=\"4565.97\" height=\"2646.78\" style=\"fill:none;stroke:#FFFFFF;stroke-width:6.48\"/>\n",
       "\t<line x1=\"714.15\" y1=\"2695.28\" x2=\"778.95\" y2=\"2695.28\" style=\"stroke:#F0F0F0;stroke-width:9.72\"/>\n",
       "\t<line x1=\"811.35\" y1=\"2695.28\" x2=\"876.15\" y2=\"2695.28\" style=\"stroke:#F0F0F0;stroke-width:9.72\"/>\n",
       "\t<line x1=\"908.55\" y1=\"2695.28\" x2=\"973.35\" y2=\"2695.28\" style=\"stroke:#F0F0F0;stroke-width:9.72\"/>\n",
       "\t<line x1=\"1005.75\" y1=\"2695.28\" x2=\"1070.55\" y2=\"2695.28\" style=\"stroke:#F0F0F0;stroke-width:9.72\"/>\n",
       "\t<line x1=\"1102.95\" y1=\"2695.28\" x2=\"1167.75\" y2=\"2695.28\" style=\"stroke:#F0F0F0;stroke-width:9.72\"/>\n",
       "\t<line x1=\"1200.15\" y1=\"2695.28\" x2=\"1264.95\" y2=\"2695.28\" style=\"stroke:#F0F0F0;stroke-width:9.72\"/>\n",
       "\t<line x1=\"1297.35\" y1=\"2695.28\" x2=\"1362.15\" y2=\"2695.28\" style=\"stroke:#F0F0F0;stroke-width:9.72\"/>\n",
       "\t<line x1=\"1394.55\" y1=\"2695.28\" x2=\"1459.35\" y2=\"2695.28\" style=\"stroke:#F0F0F0;stroke-width:9.72\"/>\n",
       "\t<line x1=\"1491.75\" y1=\"2695.28\" x2=\"1556.55\" y2=\"2695.28\" style=\"stroke:#F0F0F0;stroke-width:9.72\"/>\n",
       "\t<line x1=\"1588.95\" y1=\"2695.28\" x2=\"1653.75\" y2=\"2695.28\" style=\"stroke:#F0F0F0;stroke-width:9.72\"/>\n",
       "\t<line x1=\"1686.15\" y1=\"2695.28\" x2=\"1750.95\" y2=\"2695.28\" style=\"stroke:#F0F0F0;stroke-width:9.72\"/>\n",
       "\t<line x1=\"1783.35\" y1=\"2695.28\" x2=\"1848.15\" y2=\"2695.28\" style=\"stroke:#F0F0F0;stroke-width:9.72\"/>\n",
       "\t<line x1=\"1880.55\" y1=\"2695.28\" x2=\"1945.35\" y2=\"2695.28\" style=\"stroke:#F0F0F0;stroke-width:9.72\"/>\n",
       "\t<line x1=\"1977.75\" y1=\"2695.28\" x2=\"2042.55\" y2=\"2695.28\" style=\"stroke:#F0F0F0;stroke-width:9.72\"/>\n",
       "\t<line x1=\"2074.95\" y1=\"2695.28\" x2=\"2139.75\" y2=\"2695.28\" style=\"stroke:#F0F0F0;stroke-width:9.72\"/>\n",
       "\t<line x1=\"2172.15\" y1=\"2695.28\" x2=\"2236.95\" y2=\"2695.28\" style=\"stroke:#F0F0F0;stroke-width:9.72\"/>\n",
       "\t<line x1=\"2269.35\" y1=\"2695.28\" x2=\"2334.15\" y2=\"2695.28\" style=\"stroke:#F0F0F0;stroke-width:9.72\"/>\n",
       "\t<line x1=\"2366.55\" y1=\"2695.28\" x2=\"2431.35\" y2=\"2695.28\" style=\"stroke:#F0F0F0;stroke-width:9.72\"/>\n",
       "\t<line x1=\"2463.75\" y1=\"2695.28\" x2=\"2528.55\" y2=\"2695.28\" style=\"stroke:#F0F0F0;stroke-width:9.72\"/>\n",
       "\t<line x1=\"2560.95\" y1=\"2695.28\" x2=\"2625.75\" y2=\"2695.28\" style=\"stroke:#F0F0F0;stroke-width:9.72\"/>\n",
       "\t<line x1=\"2658.15\" y1=\"2695.28\" x2=\"2722.95\" y2=\"2695.28\" style=\"stroke:#F0F0F0;stroke-width:9.72\"/>\n",
       "\t<line x1=\"2755.35\" y1=\"2695.28\" x2=\"2820.15\" y2=\"2695.28\" style=\"stroke:#F0F0F0;stroke-width:9.72\"/>\n",
       "\t<line x1=\"2852.55\" y1=\"2695.28\" x2=\"2917.35\" y2=\"2695.28\" style=\"stroke:#F0F0F0;stroke-width:9.72\"/>\n",
       "\t<line x1=\"2949.75\" y1=\"2695.28\" x2=\"3014.55\" y2=\"2695.28\" style=\"stroke:#F0F0F0;stroke-width:9.72\"/>\n",
       "\t<line x1=\"3046.95\" y1=\"2695.28\" x2=\"3111.75\" y2=\"2695.28\" style=\"stroke:#F0F0F0;stroke-width:9.72\"/>\n",
       "\t<line x1=\"3144.15\" y1=\"2695.28\" x2=\"3208.95\" y2=\"2695.28\" style=\"stroke:#F0F0F0;stroke-width:9.72\"/>\n",
       "\t<line x1=\"3241.35\" y1=\"2695.28\" x2=\"3306.15\" y2=\"2695.28\" style=\"stroke:#F0F0F0;stroke-width:9.72\"/>\n",
       "\t<line x1=\"3338.55\" y1=\"2695.28\" x2=\"3403.35\" y2=\"2695.28\" style=\"stroke:#F0F0F0;stroke-width:9.72\"/>\n",
       "\t<line x1=\"3435.75\" y1=\"2695.28\" x2=\"3500.55\" y2=\"2695.28\" style=\"stroke:#F0F0F0;stroke-width:9.72\"/>\n",
       "\t<line x1=\"3532.95\" y1=\"2695.28\" x2=\"3597.75\" y2=\"2695.28\" style=\"stroke:#F0F0F0;stroke-width:9.72\"/>\n",
       "\t<line x1=\"3630.15\" y1=\"2695.28\" x2=\"3694.95\" y2=\"2695.28\" style=\"stroke:#F0F0F0;stroke-width:9.72\"/>\n",
       "\t<line x1=\"3727.35\" y1=\"2695.28\" x2=\"3792.15\" y2=\"2695.28\" style=\"stroke:#F0F0F0;stroke-width:9.72\"/>\n",
       "\t<line x1=\"3824.55\" y1=\"2695.28\" x2=\"3889.35\" y2=\"2695.28\" style=\"stroke:#F0F0F0;stroke-width:9.72\"/>\n",
       "\t<line x1=\"3921.75\" y1=\"2695.28\" x2=\"3986.55\" y2=\"2695.28\" style=\"stroke:#F0F0F0;stroke-width:9.72\"/>\n",
       "\t<line x1=\"4018.95\" y1=\"2695.28\" x2=\"4083.75\" y2=\"2695.28\" style=\"stroke:#F0F0F0;stroke-width:9.72\"/>\n",
       "\t<line x1=\"4116.15\" y1=\"2695.28\" x2=\"4180.95\" y2=\"2695.28\" style=\"stroke:#F0F0F0;stroke-width:9.72\"/>\n",
       "\t<line x1=\"4213.35\" y1=\"2695.28\" x2=\"4278.15\" y2=\"2695.28\" style=\"stroke:#F0F0F0;stroke-width:9.72\"/>\n",
       "\t<line x1=\"4310.55\" y1=\"2695.28\" x2=\"4375.35\" y2=\"2695.28\" style=\"stroke:#F0F0F0;stroke-width:9.72\"/>\n",
       "\t<line x1=\"4407.75\" y1=\"2695.28\" x2=\"4472.55\" y2=\"2695.28\" style=\"stroke:#F0F0F0;stroke-width:9.72\"/>\n",
       "\t<line x1=\"4504.95\" y1=\"2695.28\" x2=\"4569.75\" y2=\"2695.28\" style=\"stroke:#F0F0F0;stroke-width:9.72\"/>\n",
       "\t<line x1=\"4602.15\" y1=\"2695.28\" x2=\"4666.95\" y2=\"2695.28\" style=\"stroke:#F0F0F0;stroke-width:9.72\"/>\n",
       "\t<line x1=\"4699.35\" y1=\"2695.28\" x2=\"4764.15\" y2=\"2695.28\" style=\"stroke:#F0F0F0;stroke-width:9.72\"/>\n",
       "\t<line x1=\"4796.55\" y1=\"2695.28\" x2=\"4861.35\" y2=\"2695.28\" style=\"stroke:#F0F0F0;stroke-width:9.72\"/>\n",
       "\t<line x1=\"4893.75\" y1=\"2695.28\" x2=\"4958.55\" y2=\"2695.28\" style=\"stroke:#F0F0F0;stroke-width:9.72\"/>\n",
       "\t<line x1=\"4990.95\" y1=\"2695.28\" x2=\"5055.75\" y2=\"2695.28\" style=\"stroke:#F0F0F0;stroke-width:9.72\"/>\n",
       "\t<line x1=\"5088.15\" y1=\"2695.28\" x2=\"5152.95\" y2=\"2695.28\" style=\"stroke:#F0F0F0;stroke-width:9.72\"/>\n",
       "\t<line x1=\"5185.35\" y1=\"2695.28\" x2=\"5250.15\" y2=\"2695.28\" style=\"stroke:#F0F0F0;stroke-width:9.72\"/>\n",
       "\t<line x1=\"5282.55\" y1=\"2695.28\" x2=\"5286.60\" y2=\"2695.28\" style=\"stroke:#F0F0F0;stroke-width:9.72\"/>\n",
       "\t<line x1=\"714.15\" y1=\"2067.69\" x2=\"778.95\" y2=\"2067.69\" style=\"stroke:#F0F0F0;stroke-width:9.72\"/>\n",
       "\t<line x1=\"811.35\" y1=\"2067.69\" x2=\"876.15\" y2=\"2067.69\" style=\"stroke:#F0F0F0;stroke-width:9.72\"/>\n",
       "\t<line x1=\"908.55\" y1=\"2067.69\" x2=\"973.35\" y2=\"2067.69\" style=\"stroke:#F0F0F0;stroke-width:9.72\"/>\n",
       "\t<line x1=\"1005.75\" y1=\"2067.69\" x2=\"1070.55\" y2=\"2067.69\" style=\"stroke:#F0F0F0;stroke-width:9.72\"/>\n",
       "\t<line x1=\"1102.95\" y1=\"2067.69\" x2=\"1167.75\" y2=\"2067.69\" style=\"stroke:#F0F0F0;stroke-width:9.72\"/>\n",
       "\t<line x1=\"1200.15\" y1=\"2067.69\" x2=\"1264.95\" y2=\"2067.69\" style=\"stroke:#F0F0F0;stroke-width:9.72\"/>\n",
       "\t<line x1=\"1297.35\" y1=\"2067.69\" x2=\"1362.15\" y2=\"2067.69\" style=\"stroke:#F0F0F0;stroke-width:9.72\"/>\n",
       "\t<line x1=\"1394.55\" y1=\"2067.69\" x2=\"1459.35\" y2=\"2067.69\" style=\"stroke:#F0F0F0;stroke-width:9.72\"/>\n",
       "\t<line x1=\"1491.75\" y1=\"2067.69\" x2=\"1556.55\" y2=\"2067.69\" style=\"stroke:#F0F0F0;stroke-width:9.72\"/>\n",
       "\t<line x1=\"1588.95\" y1=\"2067.69\" x2=\"1653.75\" y2=\"2067.69\" style=\"stroke:#F0F0F0;stroke-width:9.72\"/>\n",
       "\t<line x1=\"1686.15\" y1=\"2067.69\" x2=\"1750.95\" y2=\"2067.69\" style=\"stroke:#F0F0F0;stroke-width:9.72\"/>\n",
       "\t<line x1=\"1783.35\" y1=\"2067.69\" x2=\"1848.15\" y2=\"2067.69\" style=\"stroke:#F0F0F0;stroke-width:9.72\"/>\n",
       "\t<line x1=\"1880.55\" y1=\"2067.69\" x2=\"1945.35\" y2=\"2067.69\" style=\"stroke:#F0F0F0;stroke-width:9.72\"/>\n",
       "\t<line x1=\"1977.75\" y1=\"2067.69\" x2=\"2042.55\" y2=\"2067.69\" style=\"stroke:#F0F0F0;stroke-width:9.72\"/>\n",
       "\t<line x1=\"2074.95\" y1=\"2067.69\" x2=\"2139.75\" y2=\"2067.69\" style=\"stroke:#F0F0F0;stroke-width:9.72\"/>\n",
       "\t<line x1=\"2172.15\" y1=\"2067.69\" x2=\"2236.95\" y2=\"2067.69\" style=\"stroke:#F0F0F0;stroke-width:9.72\"/>\n",
       "\t<line x1=\"2269.35\" y1=\"2067.69\" x2=\"2334.15\" y2=\"2067.69\" style=\"stroke:#F0F0F0;stroke-width:9.72\"/>\n",
       "\t<line x1=\"2366.55\" y1=\"2067.69\" x2=\"2431.35\" y2=\"2067.69\" style=\"stroke:#F0F0F0;stroke-width:9.72\"/>\n",
       "\t<line x1=\"2463.75\" y1=\"2067.69\" x2=\"2528.55\" y2=\"2067.69\" style=\"stroke:#F0F0F0;stroke-width:9.72\"/>\n",
       "\t<line x1=\"2560.95\" y1=\"2067.69\" x2=\"2625.75\" y2=\"2067.69\" style=\"stroke:#F0F0F0;stroke-width:9.72\"/>\n",
       "\t<line x1=\"2658.15\" y1=\"2067.69\" x2=\"2722.95\" y2=\"2067.69\" style=\"stroke:#F0F0F0;stroke-width:9.72\"/>\n",
       "\t<line x1=\"2755.35\" y1=\"2067.69\" x2=\"2820.15\" y2=\"2067.69\" style=\"stroke:#F0F0F0;stroke-width:9.72\"/>\n",
       "\t<line x1=\"2852.55\" y1=\"2067.69\" x2=\"2917.35\" y2=\"2067.69\" style=\"stroke:#F0F0F0;stroke-width:9.72\"/>\n",
       "\t<line x1=\"2949.75\" y1=\"2067.69\" x2=\"3014.55\" y2=\"2067.69\" style=\"stroke:#F0F0F0;stroke-width:9.72\"/>\n",
       "\t<line x1=\"3046.95\" y1=\"2067.69\" x2=\"3111.75\" y2=\"2067.69\" style=\"stroke:#F0F0F0;stroke-width:9.72\"/>\n",
       "\t<line x1=\"3144.15\" y1=\"2067.69\" x2=\"3208.95\" y2=\"2067.69\" style=\"stroke:#F0F0F0;stroke-width:9.72\"/>\n",
       "\t<line x1=\"3241.35\" y1=\"2067.69\" x2=\"3306.15\" y2=\"2067.69\" style=\"stroke:#F0F0F0;stroke-width:9.72\"/>\n",
       "\t<line x1=\"3338.55\" y1=\"2067.69\" x2=\"3403.35\" y2=\"2067.69\" style=\"stroke:#F0F0F0;stroke-width:9.72\"/>\n",
       "\t<line x1=\"3435.75\" y1=\"2067.69\" x2=\"3500.55\" y2=\"2067.69\" style=\"stroke:#F0F0F0;stroke-width:9.72\"/>\n",
       "\t<line x1=\"3532.95\" y1=\"2067.69\" x2=\"3597.75\" y2=\"2067.69\" style=\"stroke:#F0F0F0;stroke-width:9.72\"/>\n",
       "\t<line x1=\"3630.15\" y1=\"2067.69\" x2=\"3694.95\" y2=\"2067.69\" style=\"stroke:#F0F0F0;stroke-width:9.72\"/>\n",
       "\t<line x1=\"3727.35\" y1=\"2067.69\" x2=\"3792.15\" y2=\"2067.69\" style=\"stroke:#F0F0F0;stroke-width:9.72\"/>\n",
       "\t<line x1=\"3824.55\" y1=\"2067.69\" x2=\"3889.35\" y2=\"2067.69\" style=\"stroke:#F0F0F0;stroke-width:9.72\"/>\n",
       "\t<line x1=\"3921.75\" y1=\"2067.69\" x2=\"3986.55\" y2=\"2067.69\" style=\"stroke:#F0F0F0;stroke-width:9.72\"/>\n",
       "\t<line x1=\"4018.95\" y1=\"2067.69\" x2=\"4083.75\" y2=\"2067.69\" style=\"stroke:#F0F0F0;stroke-width:9.72\"/>\n",
       "\t<line x1=\"4116.15\" y1=\"2067.69\" x2=\"4180.95\" y2=\"2067.69\" style=\"stroke:#F0F0F0;stroke-width:9.72\"/>\n",
       "\t<line x1=\"4213.35\" y1=\"2067.69\" x2=\"4278.15\" y2=\"2067.69\" style=\"stroke:#F0F0F0;stroke-width:9.72\"/>\n",
       "\t<line x1=\"4310.55\" y1=\"2067.69\" x2=\"4375.35\" y2=\"2067.69\" style=\"stroke:#F0F0F0;stroke-width:9.72\"/>\n",
       "\t<line x1=\"4407.75\" y1=\"2067.69\" x2=\"4472.55\" y2=\"2067.69\" style=\"stroke:#F0F0F0;stroke-width:9.72\"/>\n",
       "\t<line x1=\"4504.95\" y1=\"2067.69\" x2=\"4569.75\" y2=\"2067.69\" style=\"stroke:#F0F0F0;stroke-width:9.72\"/>\n",
       "\t<line x1=\"4602.15\" y1=\"2067.69\" x2=\"4666.95\" y2=\"2067.69\" style=\"stroke:#F0F0F0;stroke-width:9.72\"/>\n",
       "\t<line x1=\"4699.35\" y1=\"2067.69\" x2=\"4764.15\" y2=\"2067.69\" style=\"stroke:#F0F0F0;stroke-width:9.72\"/>\n",
       "\t<line x1=\"4796.55\" y1=\"2067.69\" x2=\"4861.35\" y2=\"2067.69\" style=\"stroke:#F0F0F0;stroke-width:9.72\"/>\n",
       "\t<line x1=\"4893.75\" y1=\"2067.69\" x2=\"4958.55\" y2=\"2067.69\" style=\"stroke:#F0F0F0;stroke-width:9.72\"/>\n",
       "\t<line x1=\"4990.95\" y1=\"2067.69\" x2=\"5055.75\" y2=\"2067.69\" style=\"stroke:#F0F0F0;stroke-width:9.72\"/>\n",
       "\t<line x1=\"5088.15\" y1=\"2067.69\" x2=\"5152.95\" y2=\"2067.69\" style=\"stroke:#F0F0F0;stroke-width:9.72\"/>\n",
       "\t<line x1=\"5185.35\" y1=\"2067.69\" x2=\"5250.15\" y2=\"2067.69\" style=\"stroke:#F0F0F0;stroke-width:9.72\"/>\n",
       "\t<line x1=\"5282.55\" y1=\"2067.69\" x2=\"5286.60\" y2=\"2067.69\" style=\"stroke:#F0F0F0;stroke-width:9.72\"/>\n",
       "\t<line x1=\"714.15\" y1=\"1439.94\" x2=\"778.95\" y2=\"1439.94\" style=\"stroke:#F0F0F0;stroke-width:9.72\"/>\n",
       "\t<line x1=\"811.35\" y1=\"1439.94\" x2=\"876.15\" y2=\"1439.94\" style=\"stroke:#F0F0F0;stroke-width:9.72\"/>\n",
       "\t<line x1=\"908.55\" y1=\"1439.94\" x2=\"973.35\" y2=\"1439.94\" style=\"stroke:#F0F0F0;stroke-width:9.72\"/>\n",
       "\t<line x1=\"1005.75\" y1=\"1439.94\" x2=\"1070.55\" y2=\"1439.94\" style=\"stroke:#F0F0F0;stroke-width:9.72\"/>\n",
       "\t<line x1=\"1102.95\" y1=\"1439.94\" x2=\"1167.75\" y2=\"1439.94\" style=\"stroke:#F0F0F0;stroke-width:9.72\"/>\n",
       "\t<line x1=\"1200.15\" y1=\"1439.94\" x2=\"1264.95\" y2=\"1439.94\" style=\"stroke:#F0F0F0;stroke-width:9.72\"/>\n",
       "\t<line x1=\"1297.35\" y1=\"1439.94\" x2=\"1362.15\" y2=\"1439.94\" style=\"stroke:#F0F0F0;stroke-width:9.72\"/>\n",
       "\t<line x1=\"1394.55\" y1=\"1439.94\" x2=\"1459.35\" y2=\"1439.94\" style=\"stroke:#F0F0F0;stroke-width:9.72\"/>\n",
       "\t<line x1=\"1491.75\" y1=\"1439.94\" x2=\"1556.55\" y2=\"1439.94\" style=\"stroke:#F0F0F0;stroke-width:9.72\"/>\n",
       "\t<line x1=\"1588.95\" y1=\"1439.94\" x2=\"1653.75\" y2=\"1439.94\" style=\"stroke:#F0F0F0;stroke-width:9.72\"/>\n",
       "\t<line x1=\"1686.15\" y1=\"1439.94\" x2=\"1750.95\" y2=\"1439.94\" style=\"stroke:#F0F0F0;stroke-width:9.72\"/>\n",
       "\t<line x1=\"1783.35\" y1=\"1439.94\" x2=\"1848.15\" y2=\"1439.94\" style=\"stroke:#F0F0F0;stroke-width:9.72\"/>\n",
       "\t<line x1=\"1880.55\" y1=\"1439.94\" x2=\"1945.35\" y2=\"1439.94\" style=\"stroke:#F0F0F0;stroke-width:9.72\"/>\n",
       "\t<line x1=\"1977.75\" y1=\"1439.94\" x2=\"2042.55\" y2=\"1439.94\" style=\"stroke:#F0F0F0;stroke-width:9.72\"/>\n",
       "\t<line x1=\"2074.95\" y1=\"1439.94\" x2=\"2139.75\" y2=\"1439.94\" style=\"stroke:#F0F0F0;stroke-width:9.72\"/>\n",
       "\t<line x1=\"2172.15\" y1=\"1439.94\" x2=\"2236.95\" y2=\"1439.94\" style=\"stroke:#F0F0F0;stroke-width:9.72\"/>\n",
       "\t<line x1=\"2269.35\" y1=\"1439.94\" x2=\"2334.15\" y2=\"1439.94\" style=\"stroke:#F0F0F0;stroke-width:9.72\"/>\n",
       "\t<line x1=\"2366.55\" y1=\"1439.94\" x2=\"2431.35\" y2=\"1439.94\" style=\"stroke:#F0F0F0;stroke-width:9.72\"/>\n",
       "\t<line x1=\"2463.75\" y1=\"1439.94\" x2=\"2528.55\" y2=\"1439.94\" style=\"stroke:#F0F0F0;stroke-width:9.72\"/>\n",
       "\t<line x1=\"2560.95\" y1=\"1439.94\" x2=\"2625.75\" y2=\"1439.94\" style=\"stroke:#F0F0F0;stroke-width:9.72\"/>\n",
       "\t<line x1=\"2658.15\" y1=\"1439.94\" x2=\"2722.95\" y2=\"1439.94\" style=\"stroke:#F0F0F0;stroke-width:9.72\"/>\n",
       "\t<line x1=\"2755.35\" y1=\"1439.94\" x2=\"2820.15\" y2=\"1439.94\" style=\"stroke:#F0F0F0;stroke-width:9.72\"/>\n",
       "\t<line x1=\"2852.55\" y1=\"1439.94\" x2=\"2917.35\" y2=\"1439.94\" style=\"stroke:#F0F0F0;stroke-width:9.72\"/>\n",
       "\t<line x1=\"2949.75\" y1=\"1439.94\" x2=\"3014.55\" y2=\"1439.94\" style=\"stroke:#F0F0F0;stroke-width:9.72\"/>\n",
       "\t<line x1=\"3046.95\" y1=\"1439.94\" x2=\"3111.75\" y2=\"1439.94\" style=\"stroke:#F0F0F0;stroke-width:9.72\"/>\n",
       "\t<line x1=\"3144.15\" y1=\"1439.94\" x2=\"3208.95\" y2=\"1439.94\" style=\"stroke:#F0F0F0;stroke-width:9.72\"/>\n",
       "\t<line x1=\"3241.35\" y1=\"1439.94\" x2=\"3306.15\" y2=\"1439.94\" style=\"stroke:#F0F0F0;stroke-width:9.72\"/>\n",
       "\t<line x1=\"3338.55\" y1=\"1439.94\" x2=\"3403.35\" y2=\"1439.94\" style=\"stroke:#F0F0F0;stroke-width:9.72\"/>\n",
       "\t<line x1=\"3435.75\" y1=\"1439.94\" x2=\"3500.55\" y2=\"1439.94\" style=\"stroke:#F0F0F0;stroke-width:9.72\"/>\n",
       "\t<line x1=\"3532.95\" y1=\"1439.94\" x2=\"3597.75\" y2=\"1439.94\" style=\"stroke:#F0F0F0;stroke-width:9.72\"/>\n",
       "\t<line x1=\"3630.15\" y1=\"1439.94\" x2=\"3694.95\" y2=\"1439.94\" style=\"stroke:#F0F0F0;stroke-width:9.72\"/>\n",
       "\t<line x1=\"3727.35\" y1=\"1439.94\" x2=\"3792.15\" y2=\"1439.94\" style=\"stroke:#F0F0F0;stroke-width:9.72\"/>\n",
       "\t<line x1=\"3824.55\" y1=\"1439.94\" x2=\"3889.35\" y2=\"1439.94\" style=\"stroke:#F0F0F0;stroke-width:9.72\"/>\n",
       "\t<line x1=\"3921.75\" y1=\"1439.94\" x2=\"3986.55\" y2=\"1439.94\" style=\"stroke:#F0F0F0;stroke-width:9.72\"/>\n",
       "\t<line x1=\"4018.95\" y1=\"1439.94\" x2=\"4083.75\" y2=\"1439.94\" style=\"stroke:#F0F0F0;stroke-width:9.72\"/>\n",
       "\t<line x1=\"4116.15\" y1=\"1439.94\" x2=\"4180.95\" y2=\"1439.94\" style=\"stroke:#F0F0F0;stroke-width:9.72\"/>\n",
       "\t<line x1=\"4213.35\" y1=\"1439.94\" x2=\"4278.15\" y2=\"1439.94\" style=\"stroke:#F0F0F0;stroke-width:9.72\"/>\n",
       "\t<line x1=\"4310.55\" y1=\"1439.94\" x2=\"4375.35\" y2=\"1439.94\" style=\"stroke:#F0F0F0;stroke-width:9.72\"/>\n",
       "\t<line x1=\"4407.75\" y1=\"1439.94\" x2=\"4472.55\" y2=\"1439.94\" style=\"stroke:#F0F0F0;stroke-width:9.72\"/>\n",
       "\t<line x1=\"4504.95\" y1=\"1439.94\" x2=\"4569.75\" y2=\"1439.94\" style=\"stroke:#F0F0F0;stroke-width:9.72\"/>\n",
       "\t<line x1=\"4602.15\" y1=\"1439.94\" x2=\"4666.95\" y2=\"1439.94\" style=\"stroke:#F0F0F0;stroke-width:9.72\"/>\n",
       "\t<line x1=\"4699.35\" y1=\"1439.94\" x2=\"4764.15\" y2=\"1439.94\" style=\"stroke:#F0F0F0;stroke-width:9.72\"/>\n",
       "\t<line x1=\"4796.55\" y1=\"1439.94\" x2=\"4861.35\" y2=\"1439.94\" style=\"stroke:#F0F0F0;stroke-width:9.72\"/>\n",
       "\t<line x1=\"4893.75\" y1=\"1439.94\" x2=\"4958.55\" y2=\"1439.94\" style=\"stroke:#F0F0F0;stroke-width:9.72\"/>\n",
       "\t<line x1=\"4990.95\" y1=\"1439.94\" x2=\"5055.75\" y2=\"1439.94\" style=\"stroke:#F0F0F0;stroke-width:9.72\"/>\n",
       "\t<line x1=\"5088.15\" y1=\"1439.94\" x2=\"5152.95\" y2=\"1439.94\" style=\"stroke:#F0F0F0;stroke-width:9.72\"/>\n",
       "\t<line x1=\"5185.35\" y1=\"1439.94\" x2=\"5250.15\" y2=\"1439.94\" style=\"stroke:#F0F0F0;stroke-width:9.72\"/>\n",
       "\t<line x1=\"5282.55\" y1=\"1439.94\" x2=\"5286.60\" y2=\"1439.94\" style=\"stroke:#F0F0F0;stroke-width:9.72\"/>\n",
       "\t<line x1=\"714.15\" y1=\"812.36\" x2=\"778.95\" y2=\"812.36\" style=\"stroke:#F0F0F0;stroke-width:9.72\"/>\n",
       "\t<line x1=\"811.35\" y1=\"812.36\" x2=\"876.15\" y2=\"812.36\" style=\"stroke:#F0F0F0;stroke-width:9.72\"/>\n",
       "\t<line x1=\"908.55\" y1=\"812.36\" x2=\"973.35\" y2=\"812.36\" style=\"stroke:#F0F0F0;stroke-width:9.72\"/>\n",
       "\t<line x1=\"1005.75\" y1=\"812.36\" x2=\"1070.55\" y2=\"812.36\" style=\"stroke:#F0F0F0;stroke-width:9.72\"/>\n",
       "\t<line x1=\"1102.95\" y1=\"812.36\" x2=\"1167.75\" y2=\"812.36\" style=\"stroke:#F0F0F0;stroke-width:9.72\"/>\n",
       "\t<line x1=\"1200.15\" y1=\"812.36\" x2=\"1264.95\" y2=\"812.36\" style=\"stroke:#F0F0F0;stroke-width:9.72\"/>\n",
       "\t<line x1=\"1297.35\" y1=\"812.36\" x2=\"1362.15\" y2=\"812.36\" style=\"stroke:#F0F0F0;stroke-width:9.72\"/>\n",
       "\t<line x1=\"1394.55\" y1=\"812.36\" x2=\"1459.35\" y2=\"812.36\" style=\"stroke:#F0F0F0;stroke-width:9.72\"/>\n",
       "\t<line x1=\"1491.75\" y1=\"812.36\" x2=\"1556.55\" y2=\"812.36\" style=\"stroke:#F0F0F0;stroke-width:9.72\"/>\n",
       "\t<line x1=\"1588.95\" y1=\"812.36\" x2=\"1653.75\" y2=\"812.36\" style=\"stroke:#F0F0F0;stroke-width:9.72\"/>\n",
       "\t<line x1=\"1686.15\" y1=\"812.36\" x2=\"1750.95\" y2=\"812.36\" style=\"stroke:#F0F0F0;stroke-width:9.72\"/>\n",
       "\t<line x1=\"1783.35\" y1=\"812.36\" x2=\"1848.15\" y2=\"812.36\" style=\"stroke:#F0F0F0;stroke-width:9.72\"/>\n",
       "\t<line x1=\"1880.55\" y1=\"812.36\" x2=\"1945.35\" y2=\"812.36\" style=\"stroke:#F0F0F0;stroke-width:9.72\"/>\n",
       "\t<line x1=\"1977.75\" y1=\"812.36\" x2=\"2042.55\" y2=\"812.36\" style=\"stroke:#F0F0F0;stroke-width:9.72\"/>\n",
       "\t<line x1=\"2074.95\" y1=\"812.36\" x2=\"2139.75\" y2=\"812.36\" style=\"stroke:#F0F0F0;stroke-width:9.72\"/>\n",
       "\t<line x1=\"2172.15\" y1=\"812.36\" x2=\"2236.95\" y2=\"812.36\" style=\"stroke:#F0F0F0;stroke-width:9.72\"/>\n",
       "\t<line x1=\"2269.35\" y1=\"812.36\" x2=\"2334.15\" y2=\"812.36\" style=\"stroke:#F0F0F0;stroke-width:9.72\"/>\n",
       "\t<line x1=\"2366.55\" y1=\"812.36\" x2=\"2431.35\" y2=\"812.36\" style=\"stroke:#F0F0F0;stroke-width:9.72\"/>\n",
       "\t<line x1=\"2463.75\" y1=\"812.36\" x2=\"2528.55\" y2=\"812.36\" style=\"stroke:#F0F0F0;stroke-width:9.72\"/>\n",
       "\t<line x1=\"2560.95\" y1=\"812.36\" x2=\"2625.75\" y2=\"812.36\" style=\"stroke:#F0F0F0;stroke-width:9.72\"/>\n",
       "\t<line x1=\"2658.15\" y1=\"812.36\" x2=\"2722.95\" y2=\"812.36\" style=\"stroke:#F0F0F0;stroke-width:9.72\"/>\n",
       "\t<line x1=\"2755.35\" y1=\"812.36\" x2=\"2820.15\" y2=\"812.36\" style=\"stroke:#F0F0F0;stroke-width:9.72\"/>\n",
       "\t<line x1=\"2852.55\" y1=\"812.36\" x2=\"2917.35\" y2=\"812.36\" style=\"stroke:#F0F0F0;stroke-width:9.72\"/>\n",
       "\t<line x1=\"2949.75\" y1=\"812.36\" x2=\"3014.55\" y2=\"812.36\" style=\"stroke:#F0F0F0;stroke-width:9.72\"/>\n",
       "\t<line x1=\"3046.95\" y1=\"812.36\" x2=\"3111.75\" y2=\"812.36\" style=\"stroke:#F0F0F0;stroke-width:9.72\"/>\n",
       "\t<line x1=\"3144.15\" y1=\"812.36\" x2=\"3208.95\" y2=\"812.36\" style=\"stroke:#F0F0F0;stroke-width:9.72\"/>\n",
       "\t<line x1=\"3241.35\" y1=\"812.36\" x2=\"3306.15\" y2=\"812.36\" style=\"stroke:#F0F0F0;stroke-width:9.72\"/>\n",
       "\t<line x1=\"3338.55\" y1=\"812.36\" x2=\"3403.35\" y2=\"812.36\" style=\"stroke:#F0F0F0;stroke-width:9.72\"/>\n",
       "\t<line x1=\"3435.75\" y1=\"812.36\" x2=\"3500.55\" y2=\"812.36\" style=\"stroke:#F0F0F0;stroke-width:9.72\"/>\n",
       "\t<line x1=\"3532.95\" y1=\"812.36\" x2=\"3597.75\" y2=\"812.36\" style=\"stroke:#F0F0F0;stroke-width:9.72\"/>\n",
       "\t<line x1=\"3630.15\" y1=\"812.36\" x2=\"3694.95\" y2=\"812.36\" style=\"stroke:#F0F0F0;stroke-width:9.72\"/>\n",
       "\t<line x1=\"3727.35\" y1=\"812.36\" x2=\"3792.15\" y2=\"812.36\" style=\"stroke:#F0F0F0;stroke-width:9.72\"/>\n",
       "\t<line x1=\"3824.55\" y1=\"812.36\" x2=\"3889.35\" y2=\"812.36\" style=\"stroke:#F0F0F0;stroke-width:9.72\"/>\n",
       "\t<line x1=\"3921.75\" y1=\"812.36\" x2=\"3986.55\" y2=\"812.36\" style=\"stroke:#F0F0F0;stroke-width:9.72\"/>\n",
       "\t<line x1=\"4018.95\" y1=\"812.36\" x2=\"4083.75\" y2=\"812.36\" style=\"stroke:#F0F0F0;stroke-width:9.72\"/>\n",
       "\t<line x1=\"4116.15\" y1=\"812.36\" x2=\"4180.95\" y2=\"812.36\" style=\"stroke:#F0F0F0;stroke-width:9.72\"/>\n",
       "\t<line x1=\"4213.35\" y1=\"812.36\" x2=\"4278.15\" y2=\"812.36\" style=\"stroke:#F0F0F0;stroke-width:9.72\"/>\n",
       "\t<line x1=\"4310.55\" y1=\"812.36\" x2=\"4375.35\" y2=\"812.36\" style=\"stroke:#F0F0F0;stroke-width:9.72\"/>\n",
       "\t<line x1=\"4407.75\" y1=\"812.36\" x2=\"4472.55\" y2=\"812.36\" style=\"stroke:#F0F0F0;stroke-width:9.72\"/>\n",
       "\t<line x1=\"4504.95\" y1=\"812.36\" x2=\"4569.75\" y2=\"812.36\" style=\"stroke:#F0F0F0;stroke-width:9.72\"/>\n",
       "\t<line x1=\"4602.15\" y1=\"812.36\" x2=\"4666.95\" y2=\"812.36\" style=\"stroke:#F0F0F0;stroke-width:9.72\"/>\n",
       "\t<line x1=\"4699.35\" y1=\"812.36\" x2=\"4764.15\" y2=\"812.36\" style=\"stroke:#F0F0F0;stroke-width:9.72\"/>\n",
       "\t<line x1=\"4796.55\" y1=\"812.36\" x2=\"4861.35\" y2=\"812.36\" style=\"stroke:#F0F0F0;stroke-width:9.72\"/>\n",
       "\t<line x1=\"4893.75\" y1=\"812.36\" x2=\"4958.55\" y2=\"812.36\" style=\"stroke:#F0F0F0;stroke-width:9.72\"/>\n",
       "\t<line x1=\"4990.95\" y1=\"812.36\" x2=\"5055.75\" y2=\"812.36\" style=\"stroke:#F0F0F0;stroke-width:9.72\"/>\n",
       "\t<line x1=\"5088.15\" y1=\"812.36\" x2=\"5152.95\" y2=\"812.36\" style=\"stroke:#F0F0F0;stroke-width:9.72\"/>\n",
       "\t<line x1=\"5185.35\" y1=\"812.36\" x2=\"5250.15\" y2=\"812.36\" style=\"stroke:#F0F0F0;stroke-width:9.72\"/>\n",
       "\t<line x1=\"5282.55\" y1=\"812.36\" x2=\"5286.60\" y2=\"812.36\" style=\"stroke:#F0F0F0;stroke-width:9.72\"/>\n",
       "\t<line x1=\"714.15\" y1=\"184.61\" x2=\"778.95\" y2=\"184.61\" style=\"stroke:#F0F0F0;stroke-width:9.72\"/>\n",
       "\t<line x1=\"811.35\" y1=\"184.61\" x2=\"876.15\" y2=\"184.61\" style=\"stroke:#F0F0F0;stroke-width:9.72\"/>\n",
       "\t<line x1=\"908.55\" y1=\"184.61\" x2=\"973.35\" y2=\"184.61\" style=\"stroke:#F0F0F0;stroke-width:9.72\"/>\n",
       "\t<line x1=\"1005.75\" y1=\"184.61\" x2=\"1070.55\" y2=\"184.61\" style=\"stroke:#F0F0F0;stroke-width:9.72\"/>\n",
       "\t<line x1=\"1102.95\" y1=\"184.61\" x2=\"1167.75\" y2=\"184.61\" style=\"stroke:#F0F0F0;stroke-width:9.72\"/>\n",
       "\t<line x1=\"1200.15\" y1=\"184.61\" x2=\"1264.95\" y2=\"184.61\" style=\"stroke:#F0F0F0;stroke-width:9.72\"/>\n",
       "\t<line x1=\"1297.35\" y1=\"184.61\" x2=\"1362.15\" y2=\"184.61\" style=\"stroke:#F0F0F0;stroke-width:9.72\"/>\n",
       "\t<line x1=\"1394.55\" y1=\"184.61\" x2=\"1459.35\" y2=\"184.61\" style=\"stroke:#F0F0F0;stroke-width:9.72\"/>\n",
       "\t<line x1=\"1491.75\" y1=\"184.61\" x2=\"1556.55\" y2=\"184.61\" style=\"stroke:#F0F0F0;stroke-width:9.72\"/>\n",
       "\t<line x1=\"1588.95\" y1=\"184.61\" x2=\"1653.75\" y2=\"184.61\" style=\"stroke:#F0F0F0;stroke-width:9.72\"/>\n",
       "\t<line x1=\"1686.15\" y1=\"184.61\" x2=\"1750.95\" y2=\"184.61\" style=\"stroke:#F0F0F0;stroke-width:9.72\"/>\n",
       "\t<line x1=\"1783.35\" y1=\"184.61\" x2=\"1848.15\" y2=\"184.61\" style=\"stroke:#F0F0F0;stroke-width:9.72\"/>\n",
       "\t<line x1=\"1880.55\" y1=\"184.61\" x2=\"1945.35\" y2=\"184.61\" style=\"stroke:#F0F0F0;stroke-width:9.72\"/>\n",
       "\t<line x1=\"1977.75\" y1=\"184.61\" x2=\"2042.55\" y2=\"184.61\" style=\"stroke:#F0F0F0;stroke-width:9.72\"/>\n",
       "\t<line x1=\"2074.95\" y1=\"184.61\" x2=\"2139.75\" y2=\"184.61\" style=\"stroke:#F0F0F0;stroke-width:9.72\"/>\n",
       "\t<line x1=\"2172.15\" y1=\"184.61\" x2=\"2236.95\" y2=\"184.61\" style=\"stroke:#F0F0F0;stroke-width:9.72\"/>\n",
       "\t<line x1=\"2269.35\" y1=\"184.61\" x2=\"2334.15\" y2=\"184.61\" style=\"stroke:#F0F0F0;stroke-width:9.72\"/>\n",
       "\t<line x1=\"2366.55\" y1=\"184.61\" x2=\"2431.35\" y2=\"184.61\" style=\"stroke:#F0F0F0;stroke-width:9.72\"/>\n",
       "\t<line x1=\"2463.75\" y1=\"184.61\" x2=\"2528.55\" y2=\"184.61\" style=\"stroke:#F0F0F0;stroke-width:9.72\"/>\n",
       "\t<line x1=\"2560.95\" y1=\"184.61\" x2=\"2625.75\" y2=\"184.61\" style=\"stroke:#F0F0F0;stroke-width:9.72\"/>\n",
       "\t<line x1=\"2658.15\" y1=\"184.61\" x2=\"2722.95\" y2=\"184.61\" style=\"stroke:#F0F0F0;stroke-width:9.72\"/>\n",
       "\t<line x1=\"2755.35\" y1=\"184.61\" x2=\"2820.15\" y2=\"184.61\" style=\"stroke:#F0F0F0;stroke-width:9.72\"/>\n",
       "\t<line x1=\"2852.55\" y1=\"184.61\" x2=\"2917.35\" y2=\"184.61\" style=\"stroke:#F0F0F0;stroke-width:9.72\"/>\n",
       "\t<line x1=\"2949.75\" y1=\"184.61\" x2=\"3014.55\" y2=\"184.61\" style=\"stroke:#F0F0F0;stroke-width:9.72\"/>\n",
       "\t<line x1=\"3046.95\" y1=\"184.61\" x2=\"3111.75\" y2=\"184.61\" style=\"stroke:#F0F0F0;stroke-width:9.72\"/>\n",
       "\t<line x1=\"3144.15\" y1=\"184.61\" x2=\"3208.95\" y2=\"184.61\" style=\"stroke:#F0F0F0;stroke-width:9.72\"/>\n",
       "\t<line x1=\"3241.35\" y1=\"184.61\" x2=\"3306.15\" y2=\"184.61\" style=\"stroke:#F0F0F0;stroke-width:9.72\"/>\n",
       "\t<line x1=\"3338.55\" y1=\"184.61\" x2=\"3403.35\" y2=\"184.61\" style=\"stroke:#F0F0F0;stroke-width:9.72\"/>\n",
       "\t<line x1=\"3435.75\" y1=\"184.61\" x2=\"3500.55\" y2=\"184.61\" style=\"stroke:#F0F0F0;stroke-width:9.72\"/>\n",
       "\t<line x1=\"3532.95\" y1=\"184.61\" x2=\"3597.75\" y2=\"184.61\" style=\"stroke:#F0F0F0;stroke-width:9.72\"/>\n",
       "\t<line x1=\"3630.15\" y1=\"184.61\" x2=\"3694.95\" y2=\"184.61\" style=\"stroke:#F0F0F0;stroke-width:9.72\"/>\n",
       "\t<line x1=\"3727.35\" y1=\"184.61\" x2=\"3792.15\" y2=\"184.61\" style=\"stroke:#F0F0F0;stroke-width:9.72\"/>\n",
       "\t<line x1=\"3824.55\" y1=\"184.61\" x2=\"3889.35\" y2=\"184.61\" style=\"stroke:#F0F0F0;stroke-width:9.72\"/>\n",
       "\t<line x1=\"3921.75\" y1=\"184.61\" x2=\"3986.55\" y2=\"184.61\" style=\"stroke:#F0F0F0;stroke-width:9.72\"/>\n",
       "\t<line x1=\"4018.95\" y1=\"184.61\" x2=\"4083.75\" y2=\"184.61\" style=\"stroke:#F0F0F0;stroke-width:9.72\"/>\n",
       "\t<line x1=\"4116.15\" y1=\"184.61\" x2=\"4180.95\" y2=\"184.61\" style=\"stroke:#F0F0F0;stroke-width:9.72\"/>\n",
       "\t<line x1=\"4213.35\" y1=\"184.61\" x2=\"4278.15\" y2=\"184.61\" style=\"stroke:#F0F0F0;stroke-width:9.72\"/>\n",
       "\t<line x1=\"4310.55\" y1=\"184.61\" x2=\"4375.35\" y2=\"184.61\" style=\"stroke:#F0F0F0;stroke-width:9.72\"/>\n",
       "\t<line x1=\"4407.75\" y1=\"184.61\" x2=\"4472.55\" y2=\"184.61\" style=\"stroke:#F0F0F0;stroke-width:9.72\"/>\n",
       "\t<line x1=\"4504.95\" y1=\"184.61\" x2=\"4569.75\" y2=\"184.61\" style=\"stroke:#F0F0F0;stroke-width:9.72\"/>\n",
       "\t<line x1=\"4602.15\" y1=\"184.61\" x2=\"4666.95\" y2=\"184.61\" style=\"stroke:#F0F0F0;stroke-width:9.72\"/>\n",
       "\t<line x1=\"4699.35\" y1=\"184.61\" x2=\"4764.15\" y2=\"184.61\" style=\"stroke:#F0F0F0;stroke-width:9.72\"/>\n",
       "\t<line x1=\"4796.55\" y1=\"184.61\" x2=\"4861.35\" y2=\"184.61\" style=\"stroke:#F0F0F0;stroke-width:9.72\"/>\n",
       "\t<line x1=\"4893.75\" y1=\"184.61\" x2=\"4958.55\" y2=\"184.61\" style=\"stroke:#F0F0F0;stroke-width:9.72\"/>\n",
       "\t<line x1=\"4990.95\" y1=\"184.61\" x2=\"5055.75\" y2=\"184.61\" style=\"stroke:#F0F0F0;stroke-width:9.72\"/>\n",
       "\t<line x1=\"5088.15\" y1=\"184.61\" x2=\"5152.95\" y2=\"184.61\" style=\"stroke:#F0F0F0;stroke-width:9.72\"/>\n",
       "\t<line x1=\"5185.35\" y1=\"184.61\" x2=\"5250.15\" y2=\"184.61\" style=\"stroke:#F0F0F0;stroke-width:9.72\"/>\n",
       "\t<line x1=\"5282.55\" y1=\"184.61\" x2=\"5286.60\" y2=\"184.61\" style=\"stroke:#F0F0F0;stroke-width:9.72\"/>\n",
       "\t<line x1=\"955.80\" y1=\"2766.66\" x2=\"955.80\" y2=\"2701.86\" style=\"stroke:#F0F0F0;stroke-width:9.72\"/>\n",
       "\t<line x1=\"955.80\" y1=\"2669.46\" x2=\"955.80\" y2=\"2604.66\" style=\"stroke:#F0F0F0;stroke-width:9.72\"/>\n",
       "\t<line x1=\"955.80\" y1=\"2572.26\" x2=\"955.80\" y2=\"2507.46\" style=\"stroke:#F0F0F0;stroke-width:9.72\"/>\n",
       "\t<line x1=\"955.80\" y1=\"2475.06\" x2=\"955.80\" y2=\"2410.26\" style=\"stroke:#F0F0F0;stroke-width:9.72\"/>\n",
       "\t<line x1=\"955.80\" y1=\"2377.86\" x2=\"955.80\" y2=\"2313.06\" style=\"stroke:#F0F0F0;stroke-width:9.72\"/>\n",
       "\t<line x1=\"955.80\" y1=\"2280.66\" x2=\"955.80\" y2=\"2215.86\" style=\"stroke:#F0F0F0;stroke-width:9.72\"/>\n",
       "\t<line x1=\"955.80\" y1=\"2183.46\" x2=\"955.80\" y2=\"2118.66\" style=\"stroke:#F0F0F0;stroke-width:9.72\"/>\n",
       "\t<line x1=\"955.80\" y1=\"2086.26\" x2=\"955.80\" y2=\"2021.46\" style=\"stroke:#F0F0F0;stroke-width:9.72\"/>\n",
       "\t<line x1=\"955.80\" y1=\"1989.06\" x2=\"955.80\" y2=\"1924.26\" style=\"stroke:#F0F0F0;stroke-width:9.72\"/>\n",
       "\t<line x1=\"955.80\" y1=\"1891.86\" x2=\"955.80\" y2=\"1827.06\" style=\"stroke:#F0F0F0;stroke-width:9.72\"/>\n",
       "\t<line x1=\"955.80\" y1=\"1794.66\" x2=\"955.80\" y2=\"1729.86\" style=\"stroke:#F0F0F0;stroke-width:9.72\"/>\n",
       "\t<line x1=\"955.80\" y1=\"1697.46\" x2=\"955.80\" y2=\"1632.66\" style=\"stroke:#F0F0F0;stroke-width:9.72\"/>\n",
       "\t<line x1=\"955.80\" y1=\"1600.26\" x2=\"955.80\" y2=\"1535.46\" style=\"stroke:#F0F0F0;stroke-width:9.72\"/>\n",
       "\t<line x1=\"955.80\" y1=\"1503.06\" x2=\"955.80\" y2=\"1438.26\" style=\"stroke:#F0F0F0;stroke-width:9.72\"/>\n",
       "\t<line x1=\"955.80\" y1=\"1405.86\" x2=\"955.80\" y2=\"1341.06\" style=\"stroke:#F0F0F0;stroke-width:9.72\"/>\n",
       "\t<line x1=\"955.80\" y1=\"1308.66\" x2=\"955.80\" y2=\"1243.86\" style=\"stroke:#F0F0F0;stroke-width:9.72\"/>\n",
       "\t<line x1=\"955.80\" y1=\"1211.46\" x2=\"955.80\" y2=\"1146.66\" style=\"stroke:#F0F0F0;stroke-width:9.72\"/>\n",
       "\t<line x1=\"955.80\" y1=\"1114.26\" x2=\"955.80\" y2=\"1049.46\" style=\"stroke:#F0F0F0;stroke-width:9.72\"/>\n",
       "\t<line x1=\"955.80\" y1=\"1017.06\" x2=\"955.80\" y2=\"952.26\" style=\"stroke:#F0F0F0;stroke-width:9.72\"/>\n",
       "\t<line x1=\"955.80\" y1=\"919.86\" x2=\"955.80\" y2=\"855.06\" style=\"stroke:#F0F0F0;stroke-width:9.72\"/>\n",
       "\t<line x1=\"955.80\" y1=\"822.66\" x2=\"955.80\" y2=\"757.86\" style=\"stroke:#F0F0F0;stroke-width:9.72\"/>\n",
       "\t<line x1=\"955.80\" y1=\"725.46\" x2=\"955.80\" y2=\"660.66\" style=\"stroke:#F0F0F0;stroke-width:9.72\"/>\n",
       "\t<line x1=\"955.80\" y1=\"628.26\" x2=\"955.80\" y2=\"563.46\" style=\"stroke:#F0F0F0;stroke-width:9.72\"/>\n",
       "\t<line x1=\"955.80\" y1=\"531.06\" x2=\"955.80\" y2=\"466.26\" style=\"stroke:#F0F0F0;stroke-width:9.72\"/>\n",
       "\t<line x1=\"955.80\" y1=\"433.86\" x2=\"955.80\" y2=\"369.06\" style=\"stroke:#F0F0F0;stroke-width:9.72\"/>\n",
       "\t<line x1=\"955.80\" y1=\"336.66\" x2=\"955.80\" y2=\"271.86\" style=\"stroke:#F0F0F0;stroke-width:9.72\"/>\n",
       "\t<line x1=\"955.80\" y1=\"239.46\" x2=\"955.80\" y2=\"174.66\" style=\"stroke:#F0F0F0;stroke-width:9.72\"/>\n",
       "\t<line x1=\"955.80\" y1=\"142.26\" x2=\"955.80\" y2=\"113.40\" style=\"stroke:#F0F0F0;stroke-width:9.72\"/>\n",
       "\t<line x1=\"1807.65\" y1=\"2766.66\" x2=\"1807.65\" y2=\"2701.86\" style=\"stroke:#F0F0F0;stroke-width:9.72\"/>\n",
       "\t<line x1=\"1807.65\" y1=\"2669.46\" x2=\"1807.65\" y2=\"2604.66\" style=\"stroke:#F0F0F0;stroke-width:9.72\"/>\n",
       "\t<line x1=\"1807.65\" y1=\"2572.26\" x2=\"1807.65\" y2=\"2507.46\" style=\"stroke:#F0F0F0;stroke-width:9.72\"/>\n",
       "\t<line x1=\"1807.65\" y1=\"2475.06\" x2=\"1807.65\" y2=\"2410.26\" style=\"stroke:#F0F0F0;stroke-width:9.72\"/>\n",
       "\t<line x1=\"1807.65\" y1=\"2377.86\" x2=\"1807.65\" y2=\"2313.06\" style=\"stroke:#F0F0F0;stroke-width:9.72\"/>\n",
       "\t<line x1=\"1807.65\" y1=\"2280.66\" x2=\"1807.65\" y2=\"2215.86\" style=\"stroke:#F0F0F0;stroke-width:9.72\"/>\n",
       "\t<line x1=\"1807.65\" y1=\"2183.46\" x2=\"1807.65\" y2=\"2118.66\" style=\"stroke:#F0F0F0;stroke-width:9.72\"/>\n",
       "\t<line x1=\"1807.65\" y1=\"2086.26\" x2=\"1807.65\" y2=\"2021.46\" style=\"stroke:#F0F0F0;stroke-width:9.72\"/>\n",
       "\t<line x1=\"1807.65\" y1=\"1989.06\" x2=\"1807.65\" y2=\"1924.26\" style=\"stroke:#F0F0F0;stroke-width:9.72\"/>\n",
       "\t<line x1=\"1807.65\" y1=\"1891.86\" x2=\"1807.65\" y2=\"1827.06\" style=\"stroke:#F0F0F0;stroke-width:9.72\"/>\n",
       "\t<line x1=\"1807.65\" y1=\"1794.66\" x2=\"1807.65\" y2=\"1729.86\" style=\"stroke:#F0F0F0;stroke-width:9.72\"/>\n",
       "\t<line x1=\"1807.65\" y1=\"1697.46\" x2=\"1807.65\" y2=\"1632.66\" style=\"stroke:#F0F0F0;stroke-width:9.72\"/>\n",
       "\t<line x1=\"1807.65\" y1=\"1600.26\" x2=\"1807.65\" y2=\"1535.46\" style=\"stroke:#F0F0F0;stroke-width:9.72\"/>\n",
       "\t<line x1=\"1807.65\" y1=\"1503.06\" x2=\"1807.65\" y2=\"1438.26\" style=\"stroke:#F0F0F0;stroke-width:9.72\"/>\n",
       "\t<line x1=\"1807.65\" y1=\"1405.86\" x2=\"1807.65\" y2=\"1341.06\" style=\"stroke:#F0F0F0;stroke-width:9.72\"/>\n",
       "\t<line x1=\"1807.65\" y1=\"1308.66\" x2=\"1807.65\" y2=\"1243.86\" style=\"stroke:#F0F0F0;stroke-width:9.72\"/>\n",
       "\t<line x1=\"1807.65\" y1=\"1211.46\" x2=\"1807.65\" y2=\"1146.66\" style=\"stroke:#F0F0F0;stroke-width:9.72\"/>\n",
       "\t<line x1=\"1807.65\" y1=\"1114.26\" x2=\"1807.65\" y2=\"1049.46\" style=\"stroke:#F0F0F0;stroke-width:9.72\"/>\n",
       "\t<line x1=\"1807.65\" y1=\"1017.06\" x2=\"1807.65\" y2=\"952.26\" style=\"stroke:#F0F0F0;stroke-width:9.72\"/>\n",
       "\t<line x1=\"1807.65\" y1=\"919.86\" x2=\"1807.65\" y2=\"855.06\" style=\"stroke:#F0F0F0;stroke-width:9.72\"/>\n",
       "\t<line x1=\"1807.65\" y1=\"822.66\" x2=\"1807.65\" y2=\"757.86\" style=\"stroke:#F0F0F0;stroke-width:9.72\"/>\n",
       "\t<line x1=\"1807.65\" y1=\"725.46\" x2=\"1807.65\" y2=\"660.66\" style=\"stroke:#F0F0F0;stroke-width:9.72\"/>\n",
       "\t<line x1=\"1807.65\" y1=\"628.26\" x2=\"1807.65\" y2=\"563.46\" style=\"stroke:#F0F0F0;stroke-width:9.72\"/>\n",
       "\t<line x1=\"1807.65\" y1=\"531.06\" x2=\"1807.65\" y2=\"466.26\" style=\"stroke:#F0F0F0;stroke-width:9.72\"/>\n",
       "\t<line x1=\"1807.65\" y1=\"433.86\" x2=\"1807.65\" y2=\"369.06\" style=\"stroke:#F0F0F0;stroke-width:9.72\"/>\n",
       "\t<line x1=\"1807.65\" y1=\"336.66\" x2=\"1807.65\" y2=\"271.86\" style=\"stroke:#F0F0F0;stroke-width:9.72\"/>\n",
       "\t<line x1=\"1807.65\" y1=\"239.46\" x2=\"1807.65\" y2=\"174.66\" style=\"stroke:#F0F0F0;stroke-width:9.72\"/>\n",
       "\t<line x1=\"1807.65\" y1=\"142.26\" x2=\"1807.65\" y2=\"113.40\" style=\"stroke:#F0F0F0;stroke-width:9.72\"/>\n",
       "\t<line x1=\"2659.50\" y1=\"2766.66\" x2=\"2659.50\" y2=\"2701.86\" style=\"stroke:#F0F0F0;stroke-width:9.72\"/>\n",
       "\t<line x1=\"2659.50\" y1=\"2669.46\" x2=\"2659.50\" y2=\"2604.66\" style=\"stroke:#F0F0F0;stroke-width:9.72\"/>\n",
       "\t<line x1=\"2659.50\" y1=\"2572.26\" x2=\"2659.50\" y2=\"2507.46\" style=\"stroke:#F0F0F0;stroke-width:9.72\"/>\n",
       "\t<line x1=\"2659.50\" y1=\"2475.06\" x2=\"2659.50\" y2=\"2410.26\" style=\"stroke:#F0F0F0;stroke-width:9.72\"/>\n",
       "\t<line x1=\"2659.50\" y1=\"2377.86\" x2=\"2659.50\" y2=\"2313.06\" style=\"stroke:#F0F0F0;stroke-width:9.72\"/>\n",
       "\t<line x1=\"2659.50\" y1=\"2280.66\" x2=\"2659.50\" y2=\"2215.86\" style=\"stroke:#F0F0F0;stroke-width:9.72\"/>\n",
       "\t<line x1=\"2659.50\" y1=\"2183.46\" x2=\"2659.50\" y2=\"2118.66\" style=\"stroke:#F0F0F0;stroke-width:9.72\"/>\n",
       "\t<line x1=\"2659.50\" y1=\"2086.26\" x2=\"2659.50\" y2=\"2021.46\" style=\"stroke:#F0F0F0;stroke-width:9.72\"/>\n",
       "\t<line x1=\"2659.50\" y1=\"1989.06\" x2=\"2659.50\" y2=\"1924.26\" style=\"stroke:#F0F0F0;stroke-width:9.72\"/>\n",
       "\t<line x1=\"2659.50\" y1=\"1891.86\" x2=\"2659.50\" y2=\"1827.06\" style=\"stroke:#F0F0F0;stroke-width:9.72\"/>\n",
       "\t<line x1=\"2659.50\" y1=\"1794.66\" x2=\"2659.50\" y2=\"1729.86\" style=\"stroke:#F0F0F0;stroke-width:9.72\"/>\n",
       "\t<line x1=\"2659.50\" y1=\"1697.46\" x2=\"2659.50\" y2=\"1632.66\" style=\"stroke:#F0F0F0;stroke-width:9.72\"/>\n",
       "\t<line x1=\"2659.50\" y1=\"1600.26\" x2=\"2659.50\" y2=\"1535.46\" style=\"stroke:#F0F0F0;stroke-width:9.72\"/>\n",
       "\t<line x1=\"2659.50\" y1=\"1503.06\" x2=\"2659.50\" y2=\"1438.26\" style=\"stroke:#F0F0F0;stroke-width:9.72\"/>\n",
       "\t<line x1=\"2659.50\" y1=\"1405.86\" x2=\"2659.50\" y2=\"1341.06\" style=\"stroke:#F0F0F0;stroke-width:9.72\"/>\n",
       "\t<line x1=\"2659.50\" y1=\"1308.66\" x2=\"2659.50\" y2=\"1243.86\" style=\"stroke:#F0F0F0;stroke-width:9.72\"/>\n",
       "\t<line x1=\"2659.50\" y1=\"1211.46\" x2=\"2659.50\" y2=\"1146.66\" style=\"stroke:#F0F0F0;stroke-width:9.72\"/>\n",
       "\t<line x1=\"2659.50\" y1=\"1114.26\" x2=\"2659.50\" y2=\"1049.46\" style=\"stroke:#F0F0F0;stroke-width:9.72\"/>\n",
       "\t<line x1=\"2659.50\" y1=\"1017.06\" x2=\"2659.50\" y2=\"952.26\" style=\"stroke:#F0F0F0;stroke-width:9.72\"/>\n",
       "\t<line x1=\"2659.50\" y1=\"919.86\" x2=\"2659.50\" y2=\"855.06\" style=\"stroke:#F0F0F0;stroke-width:9.72\"/>\n",
       "\t<line x1=\"2659.50\" y1=\"822.66\" x2=\"2659.50\" y2=\"757.86\" style=\"stroke:#F0F0F0;stroke-width:9.72\"/>\n",
       "\t<line x1=\"2659.50\" y1=\"725.46\" x2=\"2659.50\" y2=\"660.66\" style=\"stroke:#F0F0F0;stroke-width:9.72\"/>\n",
       "\t<line x1=\"2659.50\" y1=\"628.26\" x2=\"2659.50\" y2=\"563.46\" style=\"stroke:#F0F0F0;stroke-width:9.72\"/>\n",
       "\t<line x1=\"2659.50\" y1=\"531.06\" x2=\"2659.50\" y2=\"466.26\" style=\"stroke:#F0F0F0;stroke-width:9.72\"/>\n",
       "\t<line x1=\"2659.50\" y1=\"433.86\" x2=\"2659.50\" y2=\"369.06\" style=\"stroke:#F0F0F0;stroke-width:9.72\"/>\n",
       "\t<line x1=\"2659.50\" y1=\"336.66\" x2=\"2659.50\" y2=\"271.86\" style=\"stroke:#F0F0F0;stroke-width:9.72\"/>\n",
       "\t<line x1=\"2659.50\" y1=\"239.46\" x2=\"2659.50\" y2=\"174.66\" style=\"stroke:#F0F0F0;stroke-width:9.72\"/>\n",
       "\t<line x1=\"2659.50\" y1=\"142.26\" x2=\"2659.50\" y2=\"113.40\" style=\"stroke:#F0F0F0;stroke-width:9.72\"/>\n",
       "\t<line x1=\"3511.52\" y1=\"2766.66\" x2=\"3511.52\" y2=\"2701.86\" style=\"stroke:#F0F0F0;stroke-width:9.72\"/>\n",
       "\t<line x1=\"3511.52\" y1=\"2669.46\" x2=\"3511.52\" y2=\"2604.66\" style=\"stroke:#F0F0F0;stroke-width:9.72\"/>\n",
       "\t<line x1=\"3511.52\" y1=\"2572.26\" x2=\"3511.52\" y2=\"2507.46\" style=\"stroke:#F0F0F0;stroke-width:9.72\"/>\n",
       "\t<line x1=\"3511.52\" y1=\"2475.06\" x2=\"3511.52\" y2=\"2410.26\" style=\"stroke:#F0F0F0;stroke-width:9.72\"/>\n",
       "\t<line x1=\"3511.52\" y1=\"2377.86\" x2=\"3511.52\" y2=\"2313.06\" style=\"stroke:#F0F0F0;stroke-width:9.72\"/>\n",
       "\t<line x1=\"3511.52\" y1=\"2280.66\" x2=\"3511.52\" y2=\"2215.86\" style=\"stroke:#F0F0F0;stroke-width:9.72\"/>\n",
       "\t<line x1=\"3511.52\" y1=\"2183.46\" x2=\"3511.52\" y2=\"2118.66\" style=\"stroke:#F0F0F0;stroke-width:9.72\"/>\n",
       "\t<line x1=\"3511.52\" y1=\"2086.26\" x2=\"3511.52\" y2=\"2021.46\" style=\"stroke:#F0F0F0;stroke-width:9.72\"/>\n",
       "\t<line x1=\"3511.52\" y1=\"1989.06\" x2=\"3511.52\" y2=\"1924.26\" style=\"stroke:#F0F0F0;stroke-width:9.72\"/>\n",
       "\t<line x1=\"3511.52\" y1=\"1891.86\" x2=\"3511.52\" y2=\"1827.06\" style=\"stroke:#F0F0F0;stroke-width:9.72\"/>\n",
       "\t<line x1=\"3511.52\" y1=\"1794.66\" x2=\"3511.52\" y2=\"1729.86\" style=\"stroke:#F0F0F0;stroke-width:9.72\"/>\n",
       "\t<line x1=\"3511.52\" y1=\"1697.46\" x2=\"3511.52\" y2=\"1632.66\" style=\"stroke:#F0F0F0;stroke-width:9.72\"/>\n",
       "\t<line x1=\"3511.52\" y1=\"1600.26\" x2=\"3511.52\" y2=\"1535.46\" style=\"stroke:#F0F0F0;stroke-width:9.72\"/>\n",
       "\t<line x1=\"3511.52\" y1=\"1503.06\" x2=\"3511.52\" y2=\"1438.26\" style=\"stroke:#F0F0F0;stroke-width:9.72\"/>\n",
       "\t<line x1=\"3511.52\" y1=\"1405.86\" x2=\"3511.52\" y2=\"1341.06\" style=\"stroke:#F0F0F0;stroke-width:9.72\"/>\n",
       "\t<line x1=\"3511.52\" y1=\"1308.66\" x2=\"3511.52\" y2=\"1243.86\" style=\"stroke:#F0F0F0;stroke-width:9.72\"/>\n",
       "\t<line x1=\"3511.52\" y1=\"1211.46\" x2=\"3511.52\" y2=\"1146.66\" style=\"stroke:#F0F0F0;stroke-width:9.72\"/>\n",
       "\t<line x1=\"3511.52\" y1=\"1114.26\" x2=\"3511.52\" y2=\"1049.46\" style=\"stroke:#F0F0F0;stroke-width:9.72\"/>\n",
       "\t<line x1=\"3511.52\" y1=\"1017.06\" x2=\"3511.52\" y2=\"952.26\" style=\"stroke:#F0F0F0;stroke-width:9.72\"/>\n",
       "\t<line x1=\"3511.52\" y1=\"919.86\" x2=\"3511.52\" y2=\"855.06\" style=\"stroke:#F0F0F0;stroke-width:9.72\"/>\n",
       "\t<line x1=\"3511.52\" y1=\"822.66\" x2=\"3511.52\" y2=\"757.86\" style=\"stroke:#F0F0F0;stroke-width:9.72\"/>\n",
       "\t<line x1=\"3511.52\" y1=\"725.46\" x2=\"3511.52\" y2=\"660.66\" style=\"stroke:#F0F0F0;stroke-width:9.72\"/>\n",
       "\t<line x1=\"3511.52\" y1=\"628.26\" x2=\"3511.52\" y2=\"563.46\" style=\"stroke:#F0F0F0;stroke-width:9.72\"/>\n",
       "\t<line x1=\"3511.52\" y1=\"531.06\" x2=\"3511.52\" y2=\"466.26\" style=\"stroke:#F0F0F0;stroke-width:9.72\"/>\n",
       "\t<line x1=\"3511.52\" y1=\"433.86\" x2=\"3511.52\" y2=\"369.06\" style=\"stroke:#F0F0F0;stroke-width:9.72\"/>\n",
       "\t<line x1=\"3511.52\" y1=\"336.66\" x2=\"3511.52\" y2=\"271.86\" style=\"stroke:#F0F0F0;stroke-width:9.72\"/>\n",
       "\t<line x1=\"3511.52\" y1=\"239.46\" x2=\"3511.52\" y2=\"174.66\" style=\"stroke:#F0F0F0;stroke-width:9.72\"/>\n",
       "\t<line x1=\"3511.52\" y1=\"142.26\" x2=\"3511.52\" y2=\"113.40\" style=\"stroke:#F0F0F0;stroke-width:9.72\"/>\n",
       "\t<line x1=\"4363.37\" y1=\"2766.66\" x2=\"4363.37\" y2=\"2701.86\" style=\"stroke:#F0F0F0;stroke-width:9.72\"/>\n",
       "\t<line x1=\"4363.37\" y1=\"2669.46\" x2=\"4363.37\" y2=\"2604.66\" style=\"stroke:#F0F0F0;stroke-width:9.72\"/>\n",
       "\t<line x1=\"4363.37\" y1=\"2572.26\" x2=\"4363.37\" y2=\"2507.46\" style=\"stroke:#F0F0F0;stroke-width:9.72\"/>\n",
       "\t<line x1=\"4363.37\" y1=\"2475.06\" x2=\"4363.37\" y2=\"2410.26\" style=\"stroke:#F0F0F0;stroke-width:9.72\"/>\n",
       "\t<line x1=\"4363.37\" y1=\"2377.86\" x2=\"4363.37\" y2=\"2313.06\" style=\"stroke:#F0F0F0;stroke-width:9.72\"/>\n",
       "\t<line x1=\"4363.37\" y1=\"2280.66\" x2=\"4363.37\" y2=\"2215.86\" style=\"stroke:#F0F0F0;stroke-width:9.72\"/>\n",
       "\t<line x1=\"4363.37\" y1=\"2183.46\" x2=\"4363.37\" y2=\"2118.66\" style=\"stroke:#F0F0F0;stroke-width:9.72\"/>\n",
       "\t<line x1=\"4363.37\" y1=\"2086.26\" x2=\"4363.37\" y2=\"2021.46\" style=\"stroke:#F0F0F0;stroke-width:9.72\"/>\n",
       "\t<line x1=\"4363.37\" y1=\"1989.06\" x2=\"4363.37\" y2=\"1924.26\" style=\"stroke:#F0F0F0;stroke-width:9.72\"/>\n",
       "\t<line x1=\"4363.37\" y1=\"1891.86\" x2=\"4363.37\" y2=\"1827.06\" style=\"stroke:#F0F0F0;stroke-width:9.72\"/>\n",
       "\t<line x1=\"4363.37\" y1=\"1794.66\" x2=\"4363.37\" y2=\"1729.86\" style=\"stroke:#F0F0F0;stroke-width:9.72\"/>\n",
       "\t<line x1=\"4363.37\" y1=\"1697.46\" x2=\"4363.37\" y2=\"1632.66\" style=\"stroke:#F0F0F0;stroke-width:9.72\"/>\n",
       "\t<line x1=\"4363.37\" y1=\"1600.26\" x2=\"4363.37\" y2=\"1535.46\" style=\"stroke:#F0F0F0;stroke-width:9.72\"/>\n",
       "\t<line x1=\"4363.37\" y1=\"1503.06\" x2=\"4363.37\" y2=\"1438.26\" style=\"stroke:#F0F0F0;stroke-width:9.72\"/>\n",
       "\t<line x1=\"4363.37\" y1=\"1405.86\" x2=\"4363.37\" y2=\"1341.06\" style=\"stroke:#F0F0F0;stroke-width:9.72\"/>\n",
       "\t<line x1=\"4363.37\" y1=\"1308.66\" x2=\"4363.37\" y2=\"1243.86\" style=\"stroke:#F0F0F0;stroke-width:9.72\"/>\n",
       "\t<line x1=\"4363.37\" y1=\"1211.46\" x2=\"4363.37\" y2=\"1146.66\" style=\"stroke:#F0F0F0;stroke-width:9.72\"/>\n",
       "\t<line x1=\"4363.37\" y1=\"1114.26\" x2=\"4363.37\" y2=\"1049.46\" style=\"stroke:#F0F0F0;stroke-width:9.72\"/>\n",
       "\t<line x1=\"4363.37\" y1=\"1017.06\" x2=\"4363.37\" y2=\"952.26\" style=\"stroke:#F0F0F0;stroke-width:9.72\"/>\n",
       "\t<line x1=\"4363.37\" y1=\"919.86\" x2=\"4363.37\" y2=\"855.06\" style=\"stroke:#F0F0F0;stroke-width:9.72\"/>\n",
       "\t<line x1=\"4363.37\" y1=\"822.66\" x2=\"4363.37\" y2=\"757.86\" style=\"stroke:#F0F0F0;stroke-width:9.72\"/>\n",
       "\t<line x1=\"4363.37\" y1=\"725.46\" x2=\"4363.37\" y2=\"660.66\" style=\"stroke:#F0F0F0;stroke-width:9.72\"/>\n",
       "\t<line x1=\"4363.37\" y1=\"628.26\" x2=\"4363.37\" y2=\"563.46\" style=\"stroke:#F0F0F0;stroke-width:9.72\"/>\n",
       "\t<line x1=\"4363.37\" y1=\"531.06\" x2=\"4363.37\" y2=\"466.26\" style=\"stroke:#F0F0F0;stroke-width:9.72\"/>\n",
       "\t<line x1=\"4363.37\" y1=\"433.86\" x2=\"4363.37\" y2=\"369.06\" style=\"stroke:#F0F0F0;stroke-width:9.72\"/>\n",
       "\t<line x1=\"4363.37\" y1=\"336.66\" x2=\"4363.37\" y2=\"271.86\" style=\"stroke:#F0F0F0;stroke-width:9.72\"/>\n",
       "\t<line x1=\"4363.37\" y1=\"239.46\" x2=\"4363.37\" y2=\"174.66\" style=\"stroke:#F0F0F0;stroke-width:9.72\"/>\n",
       "\t<line x1=\"4363.37\" y1=\"142.26\" x2=\"4363.37\" y2=\"113.40\" style=\"stroke:#F0F0F0;stroke-width:9.72\"/>\n",
       "\t<line x1=\"5215.39\" y1=\"2766.66\" x2=\"5215.39\" y2=\"2701.86\" style=\"stroke:#F0F0F0;stroke-width:9.72\"/>\n",
       "\t<line x1=\"5215.39\" y1=\"2669.46\" x2=\"5215.39\" y2=\"2604.66\" style=\"stroke:#F0F0F0;stroke-width:9.72\"/>\n",
       "\t<line x1=\"5215.39\" y1=\"2572.26\" x2=\"5215.39\" y2=\"2507.46\" style=\"stroke:#F0F0F0;stroke-width:9.72\"/>\n",
       "\t<line x1=\"5215.39\" y1=\"2475.06\" x2=\"5215.39\" y2=\"2410.26\" style=\"stroke:#F0F0F0;stroke-width:9.72\"/>\n",
       "\t<line x1=\"5215.39\" y1=\"2377.86\" x2=\"5215.39\" y2=\"2313.06\" style=\"stroke:#F0F0F0;stroke-width:9.72\"/>\n",
       "\t<line x1=\"5215.39\" y1=\"2280.66\" x2=\"5215.39\" y2=\"2215.86\" style=\"stroke:#F0F0F0;stroke-width:9.72\"/>\n",
       "\t<line x1=\"5215.39\" y1=\"2183.46\" x2=\"5215.39\" y2=\"2118.66\" style=\"stroke:#F0F0F0;stroke-width:9.72\"/>\n",
       "\t<line x1=\"5215.39\" y1=\"2086.26\" x2=\"5215.39\" y2=\"2021.46\" style=\"stroke:#F0F0F0;stroke-width:9.72\"/>\n",
       "\t<line x1=\"5215.39\" y1=\"1989.06\" x2=\"5215.39\" y2=\"1924.26\" style=\"stroke:#F0F0F0;stroke-width:9.72\"/>\n",
       "\t<line x1=\"5215.39\" y1=\"1891.86\" x2=\"5215.39\" y2=\"1827.06\" style=\"stroke:#F0F0F0;stroke-width:9.72\"/>\n",
       "\t<line x1=\"5215.39\" y1=\"1794.66\" x2=\"5215.39\" y2=\"1729.86\" style=\"stroke:#F0F0F0;stroke-width:9.72\"/>\n",
       "\t<line x1=\"5215.39\" y1=\"1697.46\" x2=\"5215.39\" y2=\"1632.66\" style=\"stroke:#F0F0F0;stroke-width:9.72\"/>\n",
       "\t<line x1=\"5215.39\" y1=\"1600.26\" x2=\"5215.39\" y2=\"1535.46\" style=\"stroke:#F0F0F0;stroke-width:9.72\"/>\n",
       "\t<line x1=\"5215.39\" y1=\"1503.06\" x2=\"5215.39\" y2=\"1438.26\" style=\"stroke:#F0F0F0;stroke-width:9.72\"/>\n",
       "\t<line x1=\"5215.39\" y1=\"1405.86\" x2=\"5215.39\" y2=\"1341.06\" style=\"stroke:#F0F0F0;stroke-width:9.72\"/>\n",
       "\t<line x1=\"5215.39\" y1=\"1308.66\" x2=\"5215.39\" y2=\"1243.86\" style=\"stroke:#F0F0F0;stroke-width:9.72\"/>\n",
       "\t<line x1=\"5215.39\" y1=\"1211.46\" x2=\"5215.39\" y2=\"1146.66\" style=\"stroke:#F0F0F0;stroke-width:9.72\"/>\n",
       "\t<line x1=\"5215.39\" y1=\"1114.26\" x2=\"5215.39\" y2=\"1049.46\" style=\"stroke:#F0F0F0;stroke-width:9.72\"/>\n",
       "\t<line x1=\"5215.39\" y1=\"1017.06\" x2=\"5215.39\" y2=\"952.26\" style=\"stroke:#F0F0F0;stroke-width:9.72\"/>\n",
       "\t<line x1=\"5215.39\" y1=\"919.86\" x2=\"5215.39\" y2=\"855.06\" style=\"stroke:#F0F0F0;stroke-width:9.72\"/>\n",
       "\t<line x1=\"5215.39\" y1=\"822.66\" x2=\"5215.39\" y2=\"757.86\" style=\"stroke:#F0F0F0;stroke-width:9.72\"/>\n",
       "\t<line x1=\"5215.39\" y1=\"725.46\" x2=\"5215.39\" y2=\"660.66\" style=\"stroke:#F0F0F0;stroke-width:9.72\"/>\n",
       "\t<line x1=\"5215.39\" y1=\"628.26\" x2=\"5215.39\" y2=\"563.46\" style=\"stroke:#F0F0F0;stroke-width:9.72\"/>\n",
       "\t<line x1=\"5215.39\" y1=\"531.06\" x2=\"5215.39\" y2=\"466.26\" style=\"stroke:#F0F0F0;stroke-width:9.72\"/>\n",
       "\t<line x1=\"5215.39\" y1=\"433.86\" x2=\"5215.39\" y2=\"369.06\" style=\"stroke:#F0F0F0;stroke-width:9.72\"/>\n",
       "\t<line x1=\"5215.39\" y1=\"336.66\" x2=\"5215.39\" y2=\"271.86\" style=\"stroke:#F0F0F0;stroke-width:9.72\"/>\n",
       "\t<line x1=\"5215.39\" y1=\"239.46\" x2=\"5215.39\" y2=\"174.66\" style=\"stroke:#F0F0F0;stroke-width:9.72\"/>\n",
       "\t<line x1=\"5215.39\" y1=\"142.26\" x2=\"5215.39\" y2=\"113.40\" style=\"stroke:#F0F0F0;stroke-width:9.72\"/>\n",
       "\t<circle cx=\"3852.23\" cy=\"2644.65\" r=\"21.74\" style=\"fill:#1A85FF\"/>\n",
       "\t<circle cx=\"3852.23\" cy=\"2644.65\" r=\"16.88\" style=\"fill:none;stroke:#1A85FF;stroke-width:9.72\"/>\n",
       "\t<circle cx=\"4192.93\" cy=\"2666.59\" r=\"21.74\" style=\"fill:#1A85FF\"/>\n",
       "\t<circle cx=\"4192.93\" cy=\"2666.59\" r=\"16.88\" style=\"fill:none;stroke:#1A85FF;stroke-width:9.72\"/>\n",
       "\t<circle cx=\"5044.78\" cy=\"1011.32\" r=\"21.74\" style=\"fill:#1A85FF\"/>\n",
       "\t<circle cx=\"5044.78\" cy=\"1011.32\" r=\"16.88\" style=\"fill:none;stroke:#1A85FF;stroke-width:9.72\"/>\n",
       "\t<circle cx=\"3681.79\" cy=\"2665.24\" r=\"21.74\" style=\"fill:#1A85FF\"/>\n",
       "\t<circle cx=\"3681.79\" cy=\"2665.24\" r=\"16.88\" style=\"fill:none;stroke:#1A85FF;stroke-width:9.72\"/>\n",
       "\t<circle cx=\"3170.64\" cy=\"2558.59\" r=\"21.74\" style=\"fill:#1A85FF\"/>\n",
       "\t<circle cx=\"3170.64\" cy=\"2558.59\" r=\"16.88\" style=\"fill:none;stroke:#1A85FF;stroke-width:9.72\"/>\n",
       "\t<circle cx=\"4874.51\" cy=\"1102.44\" r=\"21.74\" style=\"fill:#1A85FF\"/>\n",
       "\t<circle cx=\"4874.51\" cy=\"1102.44\" r=\"16.88\" style=\"fill:none;stroke:#1A85FF;stroke-width:9.72\"/>\n",
       "\t<circle cx=\"3681.79\" cy=\"2618.83\" r=\"21.74\" style=\"fill:#1A85FF\"/>\n",
       "\t<circle cx=\"3681.79\" cy=\"2618.83\" r=\"16.88\" style=\"fill:none;stroke:#1A85FF;stroke-width:9.72\"/>\n",
       "\t<circle cx=\"4022.49\" cy=\"2405.36\" r=\"21.74\" style=\"fill:#1A85FF\"/>\n",
       "\t<circle cx=\"4022.49\" cy=\"2405.36\" r=\"16.88\" style=\"fill:none;stroke:#1A85FF;stroke-width:9.72\"/>\n",
       "\t<circle cx=\"4363.37\" cy=\"2372.12\" r=\"21.74\" style=\"fill:#1A85FF\"/>\n",
       "\t<circle cx=\"4363.37\" cy=\"2372.12\" r=\"16.88\" style=\"fill:none;stroke:#1A85FF;stroke-width:9.72\"/>\n",
       "\t<circle cx=\"4533.64\" cy=\"621.68\" r=\"21.74\" style=\"fill:#1A85FF\"/>\n",
       "\t<circle cx=\"4533.64\" cy=\"621.68\" r=\"16.88\" style=\"fill:none;stroke:#1A85FF;stroke-width:9.72\"/>\n",
       "\t<circle cx=\"3511.35\" cy=\"2484.51\" r=\"21.74\" style=\"fill:#1A85FF\"/>\n",
       "\t<circle cx=\"3511.35\" cy=\"2484.51\" r=\"16.88\" style=\"fill:none;stroke:#1A85FF;stroke-width:9.72\"/>\n",
       "\t<circle cx=\"4704.08\" cy=\"1171.46\" r=\"21.74\" style=\"fill:#1A85FF\"/>\n",
       "\t<circle cx=\"4704.08\" cy=\"1171.46\" r=\"16.88\" style=\"fill:none;stroke:#1A85FF;stroke-width:9.72\"/>\n",
       "\t<circle cx=\"4874.51\" cy=\"1175.85\" r=\"21.74\" style=\"fill:#1A85FF\"/>\n",
       "\t<circle cx=\"4874.51\" cy=\"1175.85\" r=\"16.88\" style=\"fill:none;stroke:#1A85FF;stroke-width:9.72\"/>\n",
       "\t<circle cx=\"4022.49\" cy=\"2634.53\" r=\"21.74\" style=\"fill:#1A85FF\"/>\n",
       "\t<circle cx=\"4022.49\" cy=\"2634.53\" r=\"16.88\" style=\"fill:none;stroke:#1A85FF;stroke-width:9.72\"/>\n",
       "\t<circle cx=\"4704.08\" cy=\"1027.69\" r=\"21.74\" style=\"fill:#1A85FF\"/>\n",
       "\t<circle cx=\"4704.08\" cy=\"1027.69\" r=\"16.88\" style=\"fill:none;stroke:#1A85FF;stroke-width:9.72\"/>\n",
       "\t<circle cx=\"4874.51\" cy=\"1958.51\" r=\"21.74\" style=\"fill:#1A85FF\"/>\n",
       "\t<circle cx=\"4874.51\" cy=\"1958.51\" r=\"16.88\" style=\"fill:none;stroke:#1A85FF;stroke-width:9.72\"/>\n",
       "\t<circle cx=\"3681.79\" cy=\"2412.28\" r=\"21.74\" style=\"fill:#1A85FF\"/>\n",
       "\t<circle cx=\"3681.79\" cy=\"2412.28\" r=\"16.88\" style=\"fill:none;stroke:#1A85FF;stroke-width:9.72\"/>\n",
       "\t<circle cx=\"4533.64\" cy=\"1521.11\" r=\"21.74\" style=\"fill:#1A85FF\"/>\n",
       "\t<circle cx=\"4533.64\" cy=\"1521.11\" r=\"16.88\" style=\"fill:none;stroke:#1A85FF;stroke-width:9.72\"/>\n",
       "\t<circle cx=\"4874.51\" cy=\"1434.38\" r=\"21.74\" style=\"fill:#1A85FF\"/>\n",
       "\t<circle cx=\"4874.51\" cy=\"1434.38\" r=\"16.88\" style=\"fill:none;stroke:#1A85FF;stroke-width:9.72\"/>\n",
       "\t<circle cx=\"2659.50\" cy=\"2611.24\" r=\"21.74\" style=\"fill:#1A85FF\"/>\n",
       "\t<circle cx=\"2659.50\" cy=\"2611.24\" r=\"16.88\" style=\"fill:none;stroke:#1A85FF;stroke-width:9.72\"/>\n",
       "\t<circle cx=\"3000.21\" cy=\"2671.48\" r=\"21.74\" style=\"fill:#1A85FF\"/>\n",
       "\t<circle cx=\"3000.21\" cy=\"2671.48\" r=\"16.88\" style=\"fill:none;stroke:#1A85FF;stroke-width:9.72\"/>\n",
       "\t<circle cx=\"3511.35\" cy=\"2543.57\" r=\"21.74\" style=\"fill:#1A85FF\"/>\n",
       "\t<circle cx=\"3511.35\" cy=\"2543.57\" r=\"16.88\" style=\"fill:none;stroke:#1A85FF;stroke-width:9.72\"/>\n",
       "\t<circle cx=\"3852.23\" cy=\"2535.98\" r=\"21.74\" style=\"fill:#1A85FF\"/>\n",
       "\t<circle cx=\"3852.23\" cy=\"2535.98\" r=\"16.88\" style=\"fill:none;stroke:#1A85FF;stroke-width:9.72\"/>\n",
       "\t<circle cx=\"4022.49\" cy=\"2614.44\" r=\"21.74\" style=\"fill:#1A85FF\"/>\n",
       "\t<circle cx=\"4022.49\" cy=\"2614.44\" r=\"16.88\" style=\"fill:none;stroke:#1A85FF;stroke-width:9.72\"/>\n",
       "\t<circle cx=\"3000.21\" cy=\"2671.48\" r=\"21.74\" style=\"fill:#1A85FF\"/>\n",
       "\t<circle cx=\"3000.21\" cy=\"2671.48\" r=\"16.88\" style=\"fill:none;stroke:#1A85FF;stroke-width:9.72\"/>\n",
       "\t<circle cx=\"4874.51\" cy=\"1140.07\" r=\"21.74\" style=\"fill:#1A85FF\"/>\n",
       "\t<circle cx=\"4874.51\" cy=\"1140.07\" r=\"16.88\" style=\"fill:none;stroke:#1A85FF;stroke-width:9.72\"/>\n",
       "\t<circle cx=\"4874.51\" cy=\"541.86\" r=\"21.74\" style=\"fill:#1A85FF\"/>\n",
       "\t<circle cx=\"4874.51\" cy=\"541.86\" r=\"16.88\" style=\"fill:none;stroke:#1A85FF;stroke-width:9.72\"/>\n",
       "\t<circle cx=\"4022.49\" cy=\"2450.08\" r=\"21.74\" style=\"fill:#1A85FF\"/>\n",
       "\t<circle cx=\"4022.49\" cy=\"2450.08\" r=\"16.88\" style=\"fill:none;stroke:#1A85FF;stroke-width:9.72\"/>\n",
       "\t<circle cx=\"4363.37\" cy=\"2025.68\" r=\"21.74\" style=\"fill:#1A85FF\"/>\n",
       "\t<circle cx=\"4363.37\" cy=\"2025.68\" r=\"16.88\" style=\"fill:none;stroke:#1A85FF;stroke-width:9.72\"/>\n",
       "\t<circle cx=\"3341.08\" cy=\"2610.06\" r=\"21.74\" style=\"fill:#1A85FF\"/>\n",
       "\t<circle cx=\"3341.08\" cy=\"2610.06\" r=\"16.88\" style=\"fill:none;stroke:#1A85FF;stroke-width:9.72\"/>\n",
       "\t<circle cx=\"3000.21\" cy=\"2553.53\" r=\"21.74\" style=\"fill:#1A85FF\"/>\n",
       "\t<circle cx=\"3000.21\" cy=\"2553.53\" r=\"16.88\" style=\"fill:none;stroke:#1A85FF;stroke-width:9.72\"/>\n",
       "\t<circle cx=\"4022.49\" cy=\"2463.24\" r=\"21.74\" style=\"fill:#1A85FF\"/>\n",
       "\t<circle cx=\"4022.49\" cy=\"2463.24\" r=\"16.88\" style=\"fill:none;stroke:#1A85FF;stroke-width:9.72\"/>\n",
       "\t<circle cx=\"4363.37\" cy=\"2081.53\" r=\"21.74\" style=\"fill:#1A85FF\"/>\n",
       "\t<circle cx=\"4363.37\" cy=\"2081.53\" r=\"16.88\" style=\"fill:none;stroke:#1A85FF;stroke-width:9.72\"/>\n",
       "\t<circle cx=\"4874.51\" cy=\"1810.35\" r=\"21.74\" style=\"fill:#1A85FF\"/>\n",
       "\t<circle cx=\"4874.51\" cy=\"1810.35\" r=\"16.88\" style=\"fill:none;stroke:#1A85FF;stroke-width:9.72\"/>\n",
       "\t<circle cx=\"5044.78\" cy=\"1089.79\" r=\"21.74\" style=\"fill:#1A85FF\"/>\n",
       "\t<circle cx=\"5044.78\" cy=\"1089.79\" r=\"16.88\" style=\"fill:none;stroke:#1A85FF;stroke-width:9.72\"/>\n",
       "\t<circle cx=\"5044.78\" cy=\"185.96\" r=\"21.74\" style=\"fill:#1A85FF\"/>\n",
       "\t<circle cx=\"5044.78\" cy=\"185.96\" r=\"16.88\" style=\"fill:none;stroke:#1A85FF;stroke-width:9.72\"/>\n",
       "\t<circle cx=\"3341.08\" cy=\"2672.16\" r=\"21.74\" style=\"fill:#1A85FF\"/>\n",
       "\t<circle cx=\"3341.08\" cy=\"2672.16\" r=\"16.88\" style=\"fill:none;stroke:#1A85FF;stroke-width:9.72\"/>\n",
       "\t<circle cx=\"3341.08\" cy=\"2496.99\" r=\"21.74\" style=\"fill:#1A85FF\"/>\n",
       "\t<circle cx=\"3341.08\" cy=\"2496.99\" r=\"16.88\" style=\"fill:none;stroke:#1A85FF;stroke-width:9.72\"/>\n",
       "\t<circle cx=\"3000.21\" cy=\"2633.85\" r=\"21.74\" style=\"fill:#1A85FF\"/>\n",
       "\t<circle cx=\"3000.21\" cy=\"2633.85\" r=\"16.88\" style=\"fill:none;stroke:#1A85FF;stroke-width:9.72\"/>\n",
       "\t<circle cx=\"4704.08\" cy=\"1351.52\" r=\"21.74\" style=\"fill:#1A85FF\"/>\n",
       "\t<circle cx=\"4704.08\" cy=\"1351.52\" r=\"16.88\" style=\"fill:none;stroke:#1A85FF;stroke-width:9.72\"/>\n",
       "\t<circle cx=\"3341.08\" cy=\"2635.71\" r=\"21.74\" style=\"fill:#1A85FF\"/>\n",
       "\t<circle cx=\"3341.08\" cy=\"2635.71\" r=\"16.88\" style=\"fill:none;stroke:#1A85FF;stroke-width:9.72\"/>\n",
       "\t<circle cx=\"5044.78\" cy=\"1492.26\" r=\"21.74\" style=\"fill:#1A85FF\"/>\n",
       "\t<circle cx=\"5044.78\" cy=\"1492.26\" r=\"16.88\" style=\"fill:none;stroke:#1A85FF;stroke-width:9.72\"/>\n",
       "\t<circle cx=\"3681.79\" cy=\"2584.24\" r=\"21.74\" style=\"fill:#1A85FF\"/>\n",
       "\t<circle cx=\"3681.79\" cy=\"2584.24\" r=\"16.88\" style=\"fill:none;stroke:#1A85FF;stroke-width:9.72\"/>\n",
       "\t<circle cx=\"3341.08\" cy=\"2579.34\" r=\"21.74\" style=\"fill:#1A85FF\"/>\n",
       "\t<circle cx=\"3341.08\" cy=\"2579.34\" r=\"16.88\" style=\"fill:none;stroke:#1A85FF;stroke-width:9.72\"/>\n",
       "\t<circle cx=\"2489.06\" cy=\"2592.51\" r=\"21.74\" style=\"fill:#1A85FF\"/>\n",
       "\t<circle cx=\"2489.06\" cy=\"2592.51\" r=\"16.88\" style=\"fill:none;stroke:#1A85FF;stroke-width:9.72\"/>\n",
       "\t<circle cx=\"785.19\" cy=\"2669.63\" r=\"21.74\" style=\"fill:#1A85FF\"/>\n",
       "\t<circle cx=\"785.19\" cy=\"2669.63\" r=\"16.88\" style=\"fill:none;stroke:#1A85FF;stroke-width:9.72\"/>\n",
       "\t<circle cx=\"3341.08\" cy=\"2649.04\" r=\"21.74\" style=\"fill:#1A85FF\"/>\n",
       "\t<circle cx=\"3341.08\" cy=\"2649.04\" r=\"16.88\" style=\"fill:none;stroke:#1A85FF;stroke-width:9.72\"/>\n",
       "\t<circle cx=\"4363.37\" cy=\"2586.26\" r=\"21.74\" style=\"fill:#1A85FF\"/>\n",
       "\t<circle cx=\"4363.37\" cy=\"2586.26\" r=\"16.88\" style=\"fill:none;stroke:#1A85FF;stroke-width:9.72\"/>\n",
       "\t<circle cx=\"3852.23\" cy=\"2454.47\" r=\"21.74\" style=\"fill:#1A85FF\"/>\n",
       "\t<circle cx=\"3852.23\" cy=\"2454.47\" r=\"16.88\" style=\"fill:none;stroke:#1A85FF;stroke-width:9.72\"/>\n",
       "\t<circle cx=\"3170.64\" cy=\"2576.48\" r=\"21.74\" style=\"fill:#1A85FF\"/>\n",
       "\t<circle cx=\"3170.64\" cy=\"2576.48\" r=\"16.88\" style=\"fill:none;stroke:#1A85FF;stroke-width:9.72\"/>\n",
       "\t<circle cx=\"4192.93\" cy=\"2507.79\" r=\"21.74\" style=\"fill:#1A85FF\"/>\n",
       "\t<circle cx=\"4192.93\" cy=\"2507.79\" r=\"16.88\" style=\"fill:none;stroke:#1A85FF;stroke-width:9.72\"/>\n",
       "\t<circle cx=\"4022.49\" cy=\"2411.78\" r=\"21.74\" style=\"fill:#1A85FF\"/>\n",
       "\t<circle cx=\"4022.49\" cy=\"2411.78\" r=\"16.88\" style=\"fill:none;stroke:#1A85FF;stroke-width:9.72\"/>\n",
       "\t<circle cx=\"4704.08\" cy=\"860.12\" r=\"21.74\" style=\"fill:#1A85FF\"/>\n",
       "\t<circle cx=\"4704.08\" cy=\"860.12\" r=\"16.88\" style=\"fill:none;stroke:#1A85FF;stroke-width:9.72\"/>\n",
       "\t<circle cx=\"4022.49\" cy=\"2191.39\" r=\"21.74\" style=\"fill:#1A85FF\"/>\n",
       "\t<circle cx=\"4022.49\" cy=\"2191.39\" r=\"16.88\" style=\"fill:none;stroke:#1A85FF;stroke-width:9.72\"/>\n",
       "\t<circle cx=\"2148.36\" cy=\"2631.99\" r=\"21.74\" style=\"fill:#1A85FF\"/>\n",
       "\t<circle cx=\"2148.36\" cy=\"2631.99\" r=\"16.88\" style=\"fill:none;stroke:#1A85FF;stroke-width:9.72\"/>\n",
       "\t<circle cx=\"3000.21\" cy=\"2404.86\" r=\"21.74\" style=\"fill:#1A85FF\"/>\n",
       "\t<circle cx=\"3000.21\" cy=\"2404.86\" r=\"16.88\" style=\"fill:none;stroke:#1A85FF;stroke-width:9.72\"/>\n",
       "\t<circle cx=\"4363.37\" cy=\"2382.24\" r=\"21.74\" style=\"fill:#1A85FF\"/>\n",
       "\t<circle cx=\"4363.37\" cy=\"2382.24\" r=\"16.88\" style=\"fill:none;stroke:#1A85FF;stroke-width:9.72\"/>\n",
       "\t<circle cx=\"3511.35\" cy=\"2540.36\" r=\"21.74\" style=\"fill:#1A85FF\"/>\n",
       "\t<circle cx=\"3511.35\" cy=\"2540.36\" r=\"16.88\" style=\"fill:none;stroke:#1A85FF;stroke-width:9.72\"/>\n",
       "\t<circle cx=\"3511.35\" cy=\"2599.93\" r=\"21.74\" style=\"fill:#1A85FF\"/>\n",
       "\t<circle cx=\"3511.35\" cy=\"2599.93\" r=\"16.88\" style=\"fill:none;stroke:#1A85FF;stroke-width:9.72\"/>\n",
       "\t<circle cx=\"3511.35\" cy=\"2584.91\" r=\"21.74\" style=\"fill:#1A85FF\"/>\n",
       "\t<circle cx=\"3511.35\" cy=\"2584.91\" r=\"16.88\" style=\"fill:none;stroke:#1A85FF;stroke-width:9.72\"/>\n",
       "\t<circle cx=\"3341.08\" cy=\"2542.22\" r=\"21.74\" style=\"fill:#1A85FF\"/>\n",
       "\t<circle cx=\"3341.08\" cy=\"2542.22\" r=\"16.88\" style=\"fill:none;stroke:#1A85FF;stroke-width:9.72\"/>\n",
       "\t<circle cx=\"4192.93\" cy=\"2314.41\" r=\"21.74\" style=\"fill:#1A85FF\"/>\n",
       "\t<circle cx=\"4192.93\" cy=\"2314.41\" r=\"16.88\" style=\"fill:none;stroke:#1A85FF;stroke-width:9.72\"/>\n",
       "\t<circle cx=\"4022.49\" cy=\"2473.88\" r=\"21.74\" style=\"fill:#1A85FF\"/>\n",
       "\t<circle cx=\"4022.49\" cy=\"2473.88\" r=\"16.88\" style=\"fill:none;stroke:#1A85FF;stroke-width:9.72\"/>\n",
       "\t<line x1=\"714.15\" y1=\"2766.66\" x2=\"714.15\" y2=\"113.40\" style=\"stroke:#000000;stroke-width:6.48\"/>\n",
       "\t<line x1=\"714.15\" y1=\"2695.28\" x2=\"669.09\" y2=\"2695.28\" style=\"stroke:#000000;stroke-width:6.48\"/>\n",
       "\t<text x=\"646.65\" y=\"2734.71\" style=\"font-family:'Helvetica';font-size:112.56px;fill:#000000\" text-anchor=\"end\">0</text>\n",
       "\t<line x1=\"714.15\" y1=\"2067.69\" x2=\"669.09\" y2=\"2067.69\" style=\"stroke:#000000;stroke-width:6.48\"/>\n",
       "\t<text x=\"646.65\" y=\"2107.13\" style=\"font-family:'Helvetica';font-size:112.56px;fill:#000000\" text-anchor=\"end\">10000</text>\n",
       "\t<line x1=\"714.15\" y1=\"1439.94\" x2=\"669.09\" y2=\"1439.94\" style=\"stroke:#000000;stroke-width:6.48\"/>\n",
       "\t<text x=\"646.65\" y=\"1479.38\" style=\"font-family:'Helvetica';font-size:112.56px;fill:#000000\" text-anchor=\"end\">20000</text>\n",
       "\t<line x1=\"714.15\" y1=\"812.36\" x2=\"669.09\" y2=\"812.36\" style=\"stroke:#000000;stroke-width:6.48\"/>\n",
       "\t<text x=\"646.65\" y=\"851.80\" style=\"font-family:'Helvetica';font-size:112.56px;fill:#000000\" text-anchor=\"end\">30000</text>\n",
       "\t<line x1=\"714.15\" y1=\"184.61\" x2=\"669.09\" y2=\"184.61\" style=\"stroke:#000000;stroke-width:6.48\"/>\n",
       "\t<text x=\"646.65\" y=\"224.05\" style=\"font-family:'Helvetica';font-size:112.56px;fill:#000000\" text-anchor=\"end\">40000</text>\n",
       "\t<text x=\"214.55\" y=\"1439.94\" style=\"font-family:'Helvetica';font-size:112.56px;fill:#000000\" transform=\"rotate(-90 214.55,1439.94)\" text-anchor=\"middle\">GNP per capita</text>\n",
       "\t<line x1=\"714.15\" y1=\"2766.66\" x2=\"5286.60\" y2=\"2766.66\" style=\"stroke:#000000;stroke-width:6.48\"/>\n",
       "\t<line x1=\"955.80\" y1=\"2766.66\" x2=\"955.80\" y2=\"2811.54\" style=\"stroke:#000000;stroke-width:6.48\"/>\n",
       "\t<text x=\"955.80\" y=\"2912.86\" style=\"font-family:'Helvetica';font-size:112.56px;fill:#000000\" text-anchor=\"middle\">55</text>\n",
       "\t<line x1=\"1807.65\" y1=\"2766.66\" x2=\"1807.65\" y2=\"2811.54\" style=\"stroke:#000000;stroke-width:6.48\"/>\n",
       "\t<text x=\"1807.65\" y=\"2912.86\" style=\"font-family:'Helvetica';font-size:112.56px;fill:#000000\" text-anchor=\"middle\">60</text>\n",
       "\t<line x1=\"2659.50\" y1=\"2766.66\" x2=\"2659.50\" y2=\"2811.54\" style=\"stroke:#000000;stroke-width:6.48\"/>\n",
       "\t<text x=\"2659.50\" y=\"2912.86\" style=\"font-family:'Helvetica';font-size:112.56px;fill:#000000\" text-anchor=\"middle\">65</text>\n",
       "\t<line x1=\"3511.52\" y1=\"2766.66\" x2=\"3511.52\" y2=\"2811.54\" style=\"stroke:#000000;stroke-width:6.48\"/>\n",
       "\t<text x=\"3511.52\" y=\"2912.86\" style=\"font-family:'Helvetica';font-size:112.56px;fill:#000000\" text-anchor=\"middle\">70</text>\n",
       "\t<line x1=\"4363.37\" y1=\"2766.66\" x2=\"4363.37\" y2=\"2811.54\" style=\"stroke:#000000;stroke-width:6.48\"/>\n",
       "\t<text x=\"4363.37\" y=\"2912.86\" style=\"font-family:'Helvetica';font-size:112.56px;fill:#000000\" text-anchor=\"middle\">75</text>\n",
       "\t<line x1=\"5215.39\" y1=\"2766.66\" x2=\"5215.39\" y2=\"2811.54\" style=\"stroke:#000000;stroke-width:6.48\"/>\n",
       "\t<text x=\"5215.39\" y=\"2912.86\" style=\"font-family:'Helvetica';font-size:112.56px;fill:#000000\" text-anchor=\"middle\">80</text>\n",
       "\t<text x=\"3000.38\" y=\"3070.31\" style=\"font-family:'Helvetica';font-size:112.56px;fill:#000000\" text-anchor=\"middle\">Life expectancy at birth</text>\n",
       "</svg>"
      ],
      "text/plain": [
       "<IPython.core.display.SVG object>"
      ]
     },
     "metadata": {},
     "output_type": "display_data"
    }
   ],
   "source": [
    "#| eval: False\n",
    "run_direct(\"scatter gnppc lexp\", echo=True)"
   ]
  },
  {
   "cell_type": "code",
   "execution_count": null,
   "id": "53e86797",
   "metadata": {},
   "outputs": [],
   "source": [
    "#| hide\n",
    "#| eval: False\n",
    "sfi.SFIToolkit.stata(\"clear\")"
   ]
  },
  {
   "cell_type": "markdown",
   "id": "03935413",
   "metadata": {},
   "source": [
    "Even worse, a subsequent run of `sfi.SFIToolkit.stata` can be affected by a previous error:"
   ]
  },
  {
   "cell_type": "code",
   "execution_count": null,
   "id": "1926fa10",
   "metadata": {},
   "outputs": [
    {
     "name": "stdout",
     "output_type": "stream",
     "text": [
      "SyntaxError('failed to execute the specified Stata command')\n"
     ]
    }
   ],
   "source": [
    "#| eval: False\n",
    "try:\n",
    "    sfi.SFIToolkit.stata(\"disp 1 \\n disp 2\")\n",
    "except Exception as e:\n",
    "    print(repr(e))"
   ]
  },
  {
   "cell_type": "code",
   "execution_count": null,
   "id": "bb5b21a2",
   "metadata": {},
   "outputs": [
    {
     "name": "stdout",
     "output_type": "stream",
     "text": [
      "1\n",
      " invalid name\n",
      "1b\n"
     ]
    }
   ],
   "source": [
    "#| eval: False\n",
    "sfi.SFIToolkit.stata('disp \"1b\"')"
   ]
  },
  {
   "cell_type": "markdown",
   "id": "6b007ad4",
   "metadata": {},
   "source": [
    "But an intervening blank run seems to set things right:"
   ]
  },
  {
   "cell_type": "code",
   "execution_count": null,
   "id": "8e61e08b",
   "metadata": {},
   "outputs": [
    {
     "name": "stdout",
     "output_type": "stream",
     "text": [
      "1\n",
      " invalid name\n"
     ]
    }
   ],
   "source": [
    "#| eval: False\n",
    "try:\n",
    "    sfi.SFIToolkit.stata(\"disp 1 \\n disp 2\")\n",
    "except Exception:\n",
    "    sfi.SFIToolkit.stata(\"\")"
   ]
  },
  {
   "cell_type": "code",
   "execution_count": null,
   "id": "b7710b0f",
   "metadata": {},
   "outputs": [
    {
     "name": "stdout",
     "output_type": "stream",
     "text": [
      "1b\n"
     ]
    }
   ],
   "source": [
    "#| eval: False\n",
    "sfi.SFIToolkit.stata('disp \"1b\"')"
   ]
  },
  {
   "cell_type": "markdown",
   "id": "378d40e3",
   "metadata": {},
   "source": [
    "So `run_single` should only be used with care. For when it is used, in case of error-causing input code, it executes `sfi.SFIToolkit.stata` again (with stdout redirected) to prevent the effects of the error from persisting."
   ]
  },
  {
   "cell_type": "code",
   "execution_count": null,
   "id": "f31efc3f",
   "metadata": {},
   "outputs": [],
   "source": [
    "#| eval: False\n",
    "with ExceptionExpected(ex=SyntaxError):\n",
    "    run_single(\"disp 1 \\n disp 2\")"
   ]
  },
  {
   "cell_type": "code",
   "execution_count": null,
   "id": "a0e2aba3",
   "metadata": {},
   "outputs": [
    {
     "name": "stdout",
     "output_type": "stream",
     "text": [
      "1b\n"
     ]
    }
   ],
   "source": [
    "#| eval: false\n",
    "run_single('disp \"1b\"')"
   ]
  },
  {
   "cell_type": "code",
   "execution_count": null,
   "id": "877f470d",
   "metadata": {},
   "outputs": [],
   "source": [
    "#| hide\n",
    "#| eval: false\n",
    "with ExceptionExpected(ex=SyntaxError):\n",
    "    run_single(\"invalid_Stata_command\")"
   ]
  },
  {
   "cell_type": "code",
   "execution_count": null,
   "id": "1c6dd777",
   "metadata": {},
   "outputs": [],
   "source": [
    "#| hide\n",
    "import nbdev; nbdev.nbdev_export()"
   ]
  }
 ],
 "metadata": {
  "kernelspec": {
   "display_name": "Python 3 (ipykernel)",
   "language": "python",
   "name": "python3"
  },
  "language_info": {
   "codemirror_mode": {
    "name": "ipython",
    "version": 3
   },
   "file_extension": ".py",
   "mimetype": "text/x-python",
   "name": "python",
   "nbconvert_exporter": "python",
   "pygments_lexer": "ipython3",
   "version": "3.10.14"
  }
 },
 "nbformat": 4,
 "nbformat_minor": 5
}
