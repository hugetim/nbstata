{
 "cells": [
  {
   "cell_type": "markdown",
   "id": "2c184729",
   "metadata": {},
   "source": [
    "# stata\n",
    "\n",
    "> Wrapper for `pystata`/`sfi` (which require a Stata installation)"
   ]
  },
  {
   "cell_type": "markdown",
   "id": "e2014567",
   "metadata": {},
   "source": [
    "`sfi` is [Stata's python API](https://www.stata.com/python/api17/index.html), originally intended for interacting with Stata from python *within Stata*. As such, it can only be imported with Stata running.\n",
    "`pystata.stata.run` [enables running Stata code from python](https://www.stata.com/python/pystata/stata.html#pystata.stata.run)."
   ]
  },
  {
   "cell_type": "code",
   "execution_count": null,
   "id": "c7fb586a",
   "metadata": {},
   "outputs": [],
   "source": [
    "#| default_exp stata\n",
    "%load_ext autoreload\n",
    "%autoreload 2"
   ]
  },
  {
   "cell_type": "code",
   "execution_count": null,
   "id": "026b00b7",
   "metadata": {},
   "outputs": [],
   "source": [
    "#| hide\n",
    "from nbdev.showdoc import *"
   ]
  },
  {
   "cell_type": "code",
   "execution_count": null,
   "id": "4b35edd5",
   "metadata": {},
   "outputs": [],
   "source": [
    "#| export\n",
    "from nbstata.config import launch_stata\n",
    "from nbstata.utils import HiddenPrints"
   ]
  },
  {
   "cell_type": "code",
   "execution_count": null,
   "id": "3f05096b",
   "metadata": {},
   "outputs": [],
   "source": [
    "from textwrap import dedent"
   ]
  },
  {
   "cell_type": "markdown",
   "id": "4725a42f",
   "metadata": {},
   "source": [
    "## Simple wrappers"
   ]
  },
  {
   "cell_type": "markdown",
   "id": "b340a24b",
   "metadata": {},
   "source": [
    "For one thing, these remove the need to constantly import `pystata` and/or `sfi` within functions to avoid running afoul of CI tests in an environment without Stata installed."
   ]
  },
  {
   "cell_type": "code",
   "execution_count": null,
   "id": "79f90aad",
   "metadata": {},
   "outputs": [],
   "source": [
    "#| export\n",
    "def run_direct(*args, **kwargs):\n",
    "    import pystata\n",
    "    return pystata.stata.run(*args, **kwargs)"
   ]
  },
  {
   "cell_type": "markdown",
   "id": "c13ded33",
   "metadata": {},
   "source": [
    "[https://www.stata.com/python/api16/Macro.html#sfi.Macro.getLocal](https://www.stata.com/python/api16/Macro.html#sfi.Macro.getLocal)"
   ]
  },
  {
   "cell_type": "code",
   "execution_count": null,
   "id": "d5190d19",
   "metadata": {},
   "outputs": [],
   "source": [
    "#| export\n",
    "def get_local(name):\n",
    "    import sfi\n",
    "    return sfi.Macro.getLocal(name)"
   ]
  },
  {
   "cell_type": "markdown",
   "id": "fb3c1b96",
   "metadata": {},
   "source": [
    "https://www.stata.com/python/api16/Macro.html#sfi.Macro.getGlobal"
   ]
  },
  {
   "cell_type": "code",
   "execution_count": null,
   "id": "d2c1a4cb",
   "metadata": {},
   "outputs": [],
   "source": [
    "#| export\n",
    "def get_global(name):\n",
    "    import sfi\n",
    "    return sfi.Macro.getGlobal(name)"
   ]
  },
  {
   "cell_type": "markdown",
   "id": "1057b620",
   "metadata": {},
   "source": [
    "https://www.stata.com/python/api16/SFIToolkit.html#sfi.SFIToolkit.formatValue"
   ]
  },
  {
   "cell_type": "code",
   "execution_count": null,
   "id": "2ff122a8",
   "metadata": {},
   "outputs": [],
   "source": [
    "#| export\n",
    "def stata_formatted(value, s_format):\n",
    "    import sfi\n",
    "    return sfi.SFIToolkit.formatValue(value, s_format)"
   ]
  },
  {
   "cell_type": "markdown",
   "id": "a0edcbe9",
   "metadata": {},
   "source": [
    "`variable_names` uses 'getVarCount' and 'getVarName': https://www.stata.com/python/api16/Data.html "
   ]
  },
  {
   "cell_type": "code",
   "execution_count": null,
   "id": "e409a748",
   "metadata": {},
   "outputs": [],
   "source": [
    "#| export\n",
    "def variable_names():\n",
    "    from sfi import Data\n",
    "    return [Data.getVarName(i) for i in range(Data.getVarCount())]"
   ]
  },
  {
   "cell_type": "code",
   "execution_count": null,
   "id": "6402e512",
   "metadata": {},
   "outputs": [
    {
     "data": {
      "text/plain": [
       "['var1']"
      ]
     },
     "execution_count": null,
     "metadata": {},
     "output_type": "execute_result"
    }
   ],
   "source": [
    "#| eval: false\n",
    "launch_stata(splash=False)\n",
    "run_direct(\"gen var1 = 1\", quietly=True)\n",
    "variable_names()"
   ]
  },
  {
   "cell_type": "markdown",
   "id": "a57b739a",
   "metadata": {},
   "source": [
    "## Simple utilities"
   ]
  },
  {
   "cell_type": "code",
   "execution_count": null,
   "id": "43876e25",
   "metadata": {},
   "outputs": [],
   "source": [
    "#| export\n",
    "def obs_count():\n",
    "    \"\"\"Count the number of observations\"\"\"\n",
    "    import sfi\n",
    "    return sfi.Data.getObsTotal()"
   ]
  },
  {
   "cell_type": "code",
   "execution_count": null,
   "id": "da1bdb5f",
   "metadata": {},
   "outputs": [
    {
     "data": {
      "text/plain": [
       "0"
      ]
     },
     "execution_count": null,
     "metadata": {},
     "output_type": "execute_result"
    }
   ],
   "source": [
    "#| eval: false\n",
    "obs_count()"
   ]
  },
  {
   "cell_type": "markdown",
   "id": "be6d4f1d",
   "metadata": {},
   "source": [
    "The following function is not currently used and is likely made unnecessary by `sfi.SFIToolkit.macroExpand`."
   ]
  },
  {
   "cell_type": "code",
   "execution_count": null,
   "id": "29843e02",
   "metadata": {},
   "outputs": [],
   "source": [
    "#| export\n",
    "def resolve_macro(macro):\n",
    "    macro = macro.strip()\n",
    "    if macro.startswith(\"`\") and macro.endswith(\"'\"):\n",
    "        macro = get_local(macro[1:-1])\n",
    "    elif macro.startswith(\"$_\"):\n",
    "        macro = get_local(macro[2:])\n",
    "    elif macro.startswith(\"${\") and macro.endswith(\"}\"):\n",
    "        macro = get_global(macro[2:-1])\n",
    "    elif macro.startswith(\"$\"):\n",
    "        macro = get_global(macro[1:])\n",
    "    return macro"
   ]
  },
  {
   "cell_type": "code",
   "execution_count": null,
   "id": "40084cb1",
   "metadata": {},
   "outputs": [
    {
     "data": {
      "text/plain": [
       "'hello world'"
      ]
     },
     "execution_count": null,
     "metadata": {},
     "output_type": "execute_result"
    }
   ],
   "source": [
    "#| eval: false\n",
    "run_direct('global test = \"hello world\"')\n",
    "resolve_macro(\"$test\")"
   ]
  },
  {
   "cell_type": "code",
   "execution_count": null,
   "id": "60b8c63d",
   "metadata": {},
   "outputs": [
    {
     "data": {
      "text/plain": [
       "'hello world'"
      ]
     },
     "execution_count": null,
     "metadata": {},
     "output_type": "execute_result"
    }
   ],
   "source": [
    "#| hide\n",
    "#| eval: false\n",
    "resolve_macro(\"${test}\")"
   ]
  },
  {
   "cell_type": "markdown",
   "id": "b696a14f",
   "metadata": {},
   "source": [
    "## Run multi-line Stata commands no-echo"
   ]
  },
  {
   "cell_type": "markdown",
   "id": "7f47df15",
   "metadata": {},
   "source": [
    "`pystata.stata.run` can only suppress the \"echo\" of single commands, not multi-line Stata code:"
   ]
  },
  {
   "cell_type": "code",
   "execution_count": null,
   "id": "0c1295e5",
   "metadata": {},
   "outputs": [
    {
     "name": "stdout",
     "output_type": "stream",
     "text": [
      "test 1\n"
     ]
    }
   ],
   "source": [
    "#| eval: false\n",
    "run_direct('disp \"test 1\"', echo=False)"
   ]
  },
  {
   "cell_type": "code",
   "execution_count": null,
   "id": "2d84d303",
   "metadata": {},
   "outputs": [
    {
     "name": "stdout",
     "output_type": "stream",
     "text": [
      "\n",
      ". disp \"test 1\"\n",
      "test 1\n",
      "\n",
      ". disp \"test 2\"\n",
      "test 2\n",
      "\n",
      ". \n"
     ]
    }
   ],
   "source": [
    "#| eval: false\n",
    "two_lines_of_code = dedent('''\\\n",
    "    disp \"test 1\"\n",
    "    disp \"test 2\"\n",
    "    ''')\n",
    "run_direct(two_lines_of_code, echo=False)"
   ]
  },
  {
   "cell_type": "markdown",
   "id": "4a8083d2",
   "metadata": {},
   "source": [
    "As a workaround when echo is not desired, we can run multiple commands as a Stata program:"
   ]
  },
  {
   "cell_type": "code",
   "execution_count": null,
   "id": "b56783cb",
   "metadata": {},
   "outputs": [
    {
     "name": "stdout",
     "output_type": "stream",
     "text": [
      "\n"
     ]
    }
   ],
   "source": [
    "#| eval: false\n",
    "run_direct(f\"program temp_nbstata_program_name\\n{two_lines_of_code}\\nend\\n\", quietly=True)"
   ]
  },
  {
   "cell_type": "code",
   "execution_count": null,
   "id": "64126d40",
   "metadata": {},
   "outputs": [
    {
     "name": "stdout",
     "output_type": "stream",
     "text": [
      "test 1\n",
      "test 2\n"
     ]
    }
   ],
   "source": [
    "#| eval: false\n",
    "run_direct(\"temp_nbstata_program_name\", quietly=False, inline=True, echo=False)"
   ]
  },
  {
   "cell_type": "code",
   "execution_count": null,
   "id": "21725d86",
   "metadata": {},
   "outputs": [],
   "source": [
    "#| eval: false\n",
    "run_direct(f\"program drop temp_nbstata_program_name\", quietly=True)"
   ]
  },
  {
   "cell_type": "markdown",
   "id": "5462968a",
   "metadata": {},
   "source": [
    "The first `run` (defining the temp. program) prints an unwanted blank line despite setting \"quietly\" to True, so we block its printed output in the function version below.\n",
    "\n",
    "(Note: This and the following two functions assume input Stata code standardized by `standardize_code`, which will be ensured by the `break_out_prog_blocks` within the ultimate `dispatch_run` wrapper function.)"
   ]
  },
  {
   "cell_type": "code",
   "execution_count": null,
   "id": "6a262b11",
   "metadata": {},
   "outputs": [],
   "source": [
    "#| export\n",
    "def run_as_program(std_non_prog_code, prog_def_option_code=\"\"):\n",
    "    _program_name = \"temp_nbstata_program_name\"\n",
    "    _program_define_code = (\n",
    "        f\"program {_program_name}\"\n",
    "        f\"{', ' if prog_def_option_code else ''}{prog_def_option_code}\\n\"\n",
    "        f\"{std_non_prog_code}\\n\"\n",
    "        \"end\\n\"\n",
    "    )\n",
    "    try:\n",
    "        with HiddenPrints():\n",
    "            run_direct(_program_define_code, quietly=True)\n",
    "        run_direct(_program_name, quietly=False, inline=True, echo=False)\n",
    "    finally:\n",
    "        run_direct(f\"program drop {_program_name}\", quietly=True)"
   ]
  },
  {
   "cell_type": "code",
   "execution_count": null,
   "id": "703e855d",
   "metadata": {},
   "outputs": [
    {
     "name": "stdout",
     "output_type": "stream",
     "text": [
      "test 1\n",
      "test 2\n"
     ]
    }
   ],
   "source": [
    "#| eval: false\n",
    "run_as_program(two_lines_of_code)"
   ]
  },
  {
   "cell_type": "code",
   "execution_count": null,
   "id": "c59aa4a2",
   "metadata": {},
   "outputs": [
    {
     "name": "stdout",
     "output_type": "stream",
     "text": [
      "test 1\n",
      "test 2\n"
     ]
    }
   ],
   "source": [
    "#| hide\n",
    "#| eval: false\n",
    "run_as_program(two_lines_of_code, \"sclass\")"
   ]
  },
  {
   "cell_type": "markdown",
   "id": "fa3044ce",
   "metadata": {},
   "source": [
    "Not all code can be run within a program without modification, however: \n",
    "1. Programs cannot be defined within another program, nor can python or mata blocks be run.\n",
    "2. A program definition is a different scope for locals, so:\n",
    "    * the program code does not have access to locals defined previously, and\n",
    "    * locals set within the program code do not persist outside of it."
   ]
  },
  {
   "cell_type": "code",
   "execution_count": null,
   "id": "ef18e7cd",
   "metadata": {},
   "outputs": [],
   "source": [
    "from fastcore.test import ExceptionExpected"
   ]
  },
  {
   "cell_type": "code",
   "execution_count": null,
   "id": "51829023",
   "metadata": {},
   "outputs": [],
   "source": [
    "#| eval: false\n",
    "with ExceptionExpected(SystemError):\n",
    "    run_as_program(\"\"\"\\\n",
    "        program define prog1\n",
    "            disp 1\n",
    "        end\n",
    "        \"\"\")"
   ]
  },
  {
   "cell_type": "code",
   "execution_count": null,
   "id": "ebb5e507",
   "metadata": {},
   "outputs": [
    {
     "name": "stdout",
     "output_type": "stream",
     "text": [
      "1\n"
     ]
    }
   ],
   "source": [
    "#| eval: false\n",
    "run_direct(\"local test1 = 1\")\n",
    "run_direct(\"disp `test1'\")"
   ]
  },
  {
   "cell_type": "code",
   "execution_count": null,
   "id": "d704bb18",
   "metadata": {},
   "outputs": [
    {
     "name": "stdout",
     "output_type": "stream",
     "text": [
      "\n"
     ]
    }
   ],
   "source": [
    "#| eval: false\n",
    "run_as_program(\"\"\"\\\n",
    "    disp `test1'\n",
    "    local test2 = 2\"\"\")"
   ]
  },
  {
   "cell_type": "code",
   "execution_count": null,
   "id": "40d87d37",
   "metadata": {},
   "outputs": [
    {
     "name": "stdout",
     "output_type": "stream",
     "text": [
      "\n",
      ".     disp `test1'\n",
      "1\n",
      "\n",
      ".     disp `test2' \n",
      "\n",
      "\n",
      ". \n"
     ]
    }
   ],
   "source": [
    "#| eval: false\n",
    "run_direct(\"\"\"\\\n",
    "    disp `test1'\n",
    "    disp `test2' \"\"\")"
   ]
  },
  {
   "cell_type": "code",
   "execution_count": null,
   "id": "4d735745",
   "metadata": {},
   "outputs": [],
   "source": [
    "#| export\n",
    "def run_non_prog_noecho(std_non_prog_code, run_as_prog=run_as_program):\n",
    "    if len(std_non_prog_code.splitlines()) <= 1:  # to keep it simple when we can\n",
    "        run_direct(std_non_prog_code, quietly=False, inline=True, echo=False)\n",
    "    else:\n",
    "        run_as_prog(std_non_prog_code)"
   ]
  },
  {
   "cell_type": "code",
   "execution_count": null,
   "id": "0c9f6f82",
   "metadata": {},
   "outputs": [
    {
     "name": "stdout",
     "output_type": "stream",
     "text": [
      "test 1\n"
     ]
    }
   ],
   "source": [
    "#| eval: false\n",
    "run_non_prog_noecho('disp \"test 1\"')"
   ]
  },
  {
   "cell_type": "code",
   "execution_count": null,
   "id": "5fc42e5a",
   "metadata": {},
   "outputs": [
    {
     "name": "stdout",
     "output_type": "stream",
     "text": [
      "test 1\n",
      "test 2\n"
     ]
    }
   ],
   "source": [
    "#| eval: false\n",
    "run_non_prog_noecho(two_lines_of_code)"
   ]
  },
  {
   "cell_type": "code",
   "execution_count": null,
   "id": "ab3c099f",
   "metadata": {},
   "outputs": [],
   "source": [
    "#| export\n",
    "def run_prog_noecho(std_prog_code):\n",
    "    if std_prog_code.splitlines()[0] in {'mata', 'mata:'}:  # b/c 'quietly' blocks mata output\n",
    "        run_direct(std_prog_code, quietly=False, inline=True, echo=False)\n",
    "    else:\n",
    "        run_direct(std_prog_code, quietly=True, inline=True, echo=False)"
   ]
  },
  {
   "cell_type": "markdown",
   "id": "109f2460",
   "metadata": {},
   "source": [
    "Other programs (that is, Stata's `program define`, as well as [mata](https://www.stata.com/manuals/m-1first.pdf) or [python](https://www.stata.com/stata-news/news35-3/python-blogs/) blocks) cannot be defined/run within a Stata program, however. Instead, we will just run them directly, quietly to prevent echo, except for the case of mata programs, in which case `quietly` would block the output."
   ]
  },
  {
   "cell_type": "code",
   "execution_count": null,
   "id": "4d6b899c",
   "metadata": {},
   "outputs": [],
   "source": [
    "#| eval: false\n",
    "#| hide\n",
    "run_as_program(\"capture program drop display1\")"
   ]
  },
  {
   "cell_type": "code",
   "execution_count": null,
   "id": "6be68f3c",
   "metadata": {},
   "outputs": [
    {
     "name": "stdout",
     "output_type": "stream",
     "text": [
      "\n",
      "display1 output\n"
     ]
    }
   ],
   "source": [
    "#| eval: false\n",
    "prog_block_code = dedent(\"\"\"\\\n",
    "    program define display1\n",
    "        disp \"display1 output\"\n",
    "    end\n",
    "    \"\"\")\n",
    "run_prog_noecho(prog_block_code)\n",
    "run_direct(\"display1\", echo=False)"
   ]
  },
  {
   "cell_type": "code",
   "execution_count": null,
   "id": "f8d834fa",
   "metadata": {},
   "outputs": [
    {
     "name": "stdout",
     "output_type": "stream",
     "text": [
      "hello\n",
      "\n"
     ]
    }
   ],
   "source": [
    "#| eval: false\n",
    "python_block_code = dedent(\"\"\"\\\n",
    "    python:\n",
    "    print(\"hello\")\n",
    "    end\n",
    "    \"\"\")\n",
    "run_prog_noecho(python_block_code)"
   ]
  },
  {
   "cell_type": "code",
   "execution_count": null,
   "id": "6a3ab406",
   "metadata": {},
   "outputs": [
    {
     "name": "stdout",
     "output_type": "stream",
     "text": [
      "\n",
      ". mata:\n",
      "------------------------------------------------- mata (type end to exit) -----\n",
      ": display(\"hello\")\n",
      "hello\n",
      "\n",
      ": end\n",
      "-------------------------------------------------------------------------------\n",
      "\n",
      ". \n"
     ]
    }
   ],
   "source": [
    "#| eval: false\n",
    "mata_block_code = dedent(\"\"\"\\\n",
    "    mata:\n",
    "    display(\"hello\")\n",
    "    end\n",
    "    \"\"\")\n",
    "run_prog_noecho(mata_block_code)"
   ]
  },
  {
   "cell_type": "code",
   "execution_count": null,
   "id": "1c6dd777",
   "metadata": {},
   "outputs": [],
   "source": [
    "#| hide\n",
    "import nbdev; nbdev.nbdev_export()"
   ]
  }
 ],
 "metadata": {
  "kernelspec": {
   "display_name": "Python 3 (ipykernel)",
   "language": "python",
   "name": "python3"
  }
 },
 "nbformat": 4,
 "nbformat_minor": 5
}
