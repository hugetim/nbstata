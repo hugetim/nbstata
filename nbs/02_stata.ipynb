{
 "cells": [
  {
   "cell_type": "markdown",
   "id": "2c184729",
   "metadata": {},
   "source": [
    "# stata\n",
    "\n",
    "> Simple wrappers for `pystata`/`sfi` functionality\n",
    "- order: 2"
   ]
  },
  {
   "cell_type": "markdown",
   "id": "e2014567",
   "metadata": {},
   "source": [
    "`sfi` is [Stata's python API](https://www.stata.com/python/api17/index.html), originally intended for interacting with Stata from python *within Stata*. As such, it can only be imported with Stata running.\n",
    "`pystata.stata.run` [enables running Stata code from python](https://www.stata.com/python/pystata/stata.html#pystata.stata.run)."
   ]
  },
  {
   "cell_type": "markdown",
   "id": "b340a24b",
   "metadata": {},
   "source": [
    "For one thing, using wrappers removes the need to constantly import `pystata` and/or `sfi` within functions elsewhere to avoid running afoul of CI tests in an environment without Stata installed."
   ]
  },
  {
   "cell_type": "code",
   "execution_count": null,
   "id": "c7fb586a",
   "metadata": {},
   "outputs": [],
   "source": [
    "#| default_exp stata\n",
    "%load_ext autoreload\n",
    "%autoreload 2"
   ]
  },
  {
   "cell_type": "code",
   "execution_count": null,
   "id": "026b00b7",
   "metadata": {},
   "outputs": [],
   "source": [
    "#| hide\n",
    "from nbdev.showdoc import *"
   ]
  },
  {
   "cell_type": "code",
   "execution_count": null,
   "id": "4b35edd5",
   "metadata": {},
   "outputs": [],
   "source": [
    "#| export\n",
    "from nbstata.misc_utils import DivertedPrints, print_red"
   ]
  },
  {
   "cell_type": "code",
   "execution_count": null,
   "id": "3f05096b",
   "metadata": {},
   "outputs": [],
   "source": [
    "#| hide\n",
    "from nbstata.config import launch_stata\n",
    "from nbstata.misc_utils import Timer\n",
    "from textwrap import dedent\n",
    "from fastcore.test import ExceptionExpected"
   ]
  },
  {
   "cell_type": "code",
   "execution_count": null,
   "id": "79f90aad",
   "metadata": {},
   "outputs": [],
   "source": [
    "#| export\n",
    "def run_direct(cmds, quietly=False, echo=False, inline=True):\n",
    "    import pystata\n",
    "    if quietly:\n",
    "        with DivertedPrints() as diverted: # to prevent blank line output, as with `program define`\n",
    "            out = pystata.stata.run(cmds, quietly, echo, inline)\n",
    "            prints = diverted.getvalue()\n",
    "        for line in prints.splitlines():\n",
    "            if line.strip():\n",
    "                print(line)\n",
    "        return out\n",
    "    else:\n",
    "        return pystata.stata.run(cmds, quietly, echo, inline)"
   ]
  },
  {
   "cell_type": "markdown",
   "id": "41d25ea7",
   "metadata": {},
   "source": [
    "[https://www.stata.com/python/pystata/stata.html#pystata.stata.run](https://www.stata.com/python/pystata/stata.html#pystata.stata.run)"
   ]
  },
  {
   "cell_type": "code",
   "execution_count": null,
   "id": "5069eccf",
   "metadata": {},
   "outputs": [
    {
     "name": "stdout",
     "output_type": "stream",
     "text": [
      "\n"
     ]
    }
   ],
   "source": [
    "#| hide\n",
    "#| eval: False\n",
    "launch_stata(splash=False)\n",
    "import pystata\n",
    "prog_code = \"program define _temp_prog \\n disp 1 \\n end\"\n",
    "pystata.stata.run(prog_code, quietly=True)"
   ]
  },
  {
   "cell_type": "code",
   "execution_count": null,
   "id": "d8233e0f",
   "metadata": {},
   "outputs": [],
   "source": [
    "#| hide\n",
    "#| eval: False\n",
    "pystata.stata.run(\"capture program drop _temp_prog\", quietly=True)\n",
    "run_direct(prog_code, quietly=True)"
   ]
  },
  {
   "cell_type": "code",
   "execution_count": null,
   "id": "0ef3ec2e",
   "metadata": {},
   "outputs": [
    {
     "name": "stdout",
     "output_type": "stream",
     "text": [
      "hello\n"
     ]
    }
   ],
   "source": [
    "#| hide\n",
    "#| eval: False\n",
    "code = dedent('''\\\n",
    "    python:\n",
    "    print(\"hello\")\n",
    "    end\n",
    "    ''')\n",
    "run_direct(code, quietly=True)"
   ]
  },
  {
   "cell_type": "code",
   "execution_count": null,
   "id": "a7b6edf5",
   "metadata": {},
   "outputs": [],
   "source": [
    "#| hide\n",
    "#| eval: False\n",
    "code = dedent('''\\\n",
    "    python:\n",
    "    do_nothin = 3\n",
    "    end\n",
    "    ''')\n",
    "run_direct(code, quietly=True)"
   ]
  },
  {
   "cell_type": "code",
   "execution_count": null,
   "id": "af4d8503",
   "metadata": {},
   "outputs": [],
   "source": [
    "#| export\n",
    "def run_single(cmd, echo=False, show_exc_warning=True):\n",
    "    import sfi\n",
    "    try:\n",
    "        sfi.SFIToolkit.stata(cmd, echo)\n",
    "    except Exception as e:\n",
    "        if show_exc_warning:\n",
    "            print_red(f\"run_single (sfi.SFIToolkit.stata) error: {repr(e)}\")\n",
    "        run_direct(cmd, echo=echo)"
   ]
  },
  {
   "cell_type": "markdown",
   "id": "a8e26eff",
   "metadata": {},
   "source": [
    "`run_single` uses an `sfi` function for running a single command that is notably faster than `pystata.stata.run` but is less versatile and appears less resilient to errors: [https://www.stata.com/python/api17/SFIToolkit.html#sfi.SFIToolkit.stata](https://www.stata.com/python/api17/SFIToolkit.html#sfi.SFIToolkit.stata)"
   ]
  },
  {
   "cell_type": "code",
   "execution_count": null,
   "id": "8e0cbaf1",
   "metadata": {},
   "outputs": [
    {
     "name": "stdout",
     "output_type": "stream",
     "text": [
      "0\n",
      "Elapsed time: 0.0002 seconds\n",
      "Elapsed time: 0.0227 seconds\n"
     ]
    }
   ],
   "source": [
    "#| eval: False\n",
    "import sfi\n",
    "with Timer():\n",
    "    sfi.SFIToolkit.stata(\"disp 0\")\n",
    "with Timer():\n",
    "    pystata.stata.run(\"disp 0\")"
   ]
  },
  {
   "cell_type": "markdown",
   "id": "cf8b99c9",
   "metadata": {},
   "source": [
    "For example, it cannot display graphs, silently quashing them instead:"
   ]
  },
  {
   "cell_type": "code",
   "execution_count": null,
   "id": "f169b0f4",
   "metadata": {},
   "outputs": [
    {
     "name": "stdout",
     "output_type": "stream",
     "text": [
      "0\n",
      "(Life expectancy, 1998)\n"
     ]
    }
   ],
   "source": [
    "#| eval: False\n",
    "sfi.SFIToolkit.stata(\"sysuse lifeexp, clear\")\n",
    "sfi.SFIToolkit.stata(\"scatter gnppc lexp\")"
   ]
  },
  {
   "cell_type": "code",
   "execution_count": null,
   "id": "802109e9",
   "metadata": {},
   "outputs": [
    {
     "data": {
      "image/svg+xml": [
       "<svg xmlns=\"http://www.w3.org/2000/svg\" xmlns:xlink=\"http://www.w3.org/1999/xlink\" version=\"1.1\" width=\"5.500in\" height=\"4.000in\" viewBox=\"0 0 3960 2880\">\n",
       "\t<desc>Stata Graph - Graph</desc>\n",
       "\t<rect x=\"0\" y=\"0\" width=\"3960\" height=\"2880\" style=\"fill:#EAF2F3;stroke:none\"/>\n",
       "\t<rect x=\"0.00\" y=\"0.00\" width=\"3959.88\" height=\"2880.00\" style=\"fill:#EAF2F3\"/>\n",
       "\t<rect x=\"2.88\" y=\"2.88\" width=\"3954.12\" height=\"2874.24\" style=\"fill:none;stroke:#EAF2F3;stroke-width:5.76\"/>\n",
       "\t<rect x=\"390.80\" y=\"100.86\" width=\"3468.22\" height=\"2388.33\" style=\"fill:#FFFFFF\"/>\n",
       "\t<rect x=\"393.68\" y=\"103.74\" width=\"3462.46\" height=\"2382.57\" style=\"fill:none;stroke:#FFFFFF;stroke-width:5.76\"/>\n",
       "\t<line x1=\"390.80\" y1=\"2425.82\" x2=\"3859.02\" y2=\"2425.82\" style=\"stroke:#EAF2F3;stroke-width:8.64\"/>\n",
       "\t<line x1=\"390.80\" y1=\"1860.39\" x2=\"3859.02\" y2=\"1860.39\" style=\"stroke:#EAF2F3;stroke-width:8.64\"/>\n",
       "\t<line x1=\"390.80\" y1=\"1294.96\" x2=\"3859.02\" y2=\"1294.96\" style=\"stroke:#EAF2F3;stroke-width:8.64\"/>\n",
       "\t<line x1=\"390.80\" y1=\"729.53\" x2=\"3859.02\" y2=\"729.53\" style=\"stroke:#EAF2F3;stroke-width:8.64\"/>\n",
       "\t<line x1=\"390.80\" y1=\"164.22\" x2=\"3859.02\" y2=\"164.22\" style=\"stroke:#EAF2F3;stroke-width:8.64\"/>\n",
       "\t<circle cx=\"2767.42\" cy=\"2380.16\" r=\"26.35\" style=\"fill:#1A476F\"/>\n",
       "\t<circle cx=\"2767.42\" cy=\"2380.16\" r=\"22.03\" style=\"fill:none;stroke:#1A476F;stroke-width:8.64\"/>\n",
       "\t<circle cx=\"3024.57\" cy=\"2399.96\" r=\"26.35\" style=\"fill:#1A476F\"/>\n",
       "\t<circle cx=\"3024.57\" cy=\"2399.96\" r=\"22.03\" style=\"fill:none;stroke:#1A476F;stroke-width:8.64\"/>\n",
       "\t<circle cx=\"3667.08\" cy=\"908.85\" r=\"26.35\" style=\"fill:#1A476F\"/>\n",
       "\t<circle cx=\"3667.08\" cy=\"908.85\" r=\"22.03\" style=\"fill:none;stroke:#1A476F;stroke-width:8.64\"/>\n",
       "\t<circle cx=\"2638.97\" cy=\"2398.72\" r=\"26.35\" style=\"fill:#1A476F\"/>\n",
       "\t<circle cx=\"2638.97\" cy=\"2398.72\" r=\"22.03\" style=\"fill:none;stroke:#1A476F;stroke-width:8.64\"/>\n",
       "\t<circle cx=\"2253.36\" cy=\"2302.69\" r=\"26.35\" style=\"fill:#1A476F\"/>\n",
       "\t<circle cx=\"2253.36\" cy=\"2302.69\" r=\"22.03\" style=\"fill:none;stroke:#1A476F;stroke-width:8.64\"/>\n",
       "\t<circle cx=\"3538.63\" cy=\"990.90\" r=\"26.35\" style=\"fill:#1A476F\"/>\n",
       "\t<circle cx=\"3538.63\" cy=\"990.90\" r=\"22.03\" style=\"fill:none;stroke:#1A476F;stroke-width:8.64\"/>\n",
       "\t<circle cx=\"2638.97\" cy=\"2356.89\" r=\"26.35\" style=\"fill:#1A476F\"/>\n",
       "\t<circle cx=\"2638.97\" cy=\"2356.89\" r=\"22.03\" style=\"fill:none;stroke:#1A476F;stroke-width:8.64\"/>\n",
       "\t<circle cx=\"2896.00\" cy=\"2164.70\" r=\"26.35\" style=\"fill:#1A476F\"/>\n",
       "\t<circle cx=\"2896.00\" cy=\"2164.70\" r=\"22.03\" style=\"fill:none;stroke:#1A476F;stroke-width:8.64\"/>\n",
       "\t<circle cx=\"3153.03\" cy=\"2134.75\" r=\"26.35\" style=\"fill:#1A476F\"/>\n",
       "\t<circle cx=\"3153.03\" cy=\"2134.75\" r=\"22.03\" style=\"fill:none;stroke:#1A476F;stroke-width:8.64\"/>\n",
       "\t<circle cx=\"3281.60\" cy=\"557.76\" r=\"26.35\" style=\"fill:#1A476F\"/>\n",
       "\t<circle cx=\"3281.60\" cy=\"557.76\" r=\"22.03\" style=\"fill:none;stroke:#1A476F;stroke-width:8.64\"/>\n",
       "\t<circle cx=\"2510.39\" cy=\"2235.98\" r=\"26.35\" style=\"fill:#1A476F\"/>\n",
       "\t<circle cx=\"2510.39\" cy=\"2235.98\" r=\"22.03\" style=\"fill:none;stroke:#1A476F;stroke-width:8.64\"/>\n",
       "\t<circle cx=\"3410.06\" cy=\"1053.02\" r=\"26.35\" style=\"fill:#1A476F\"/>\n",
       "\t<circle cx=\"3410.06\" cy=\"1053.02\" r=\"22.03\" style=\"fill:none;stroke:#1A476F;stroke-width:8.64\"/>\n",
       "\t<circle cx=\"3538.63\" cy=\"1056.98\" r=\"26.35\" style=\"fill:#1A476F\"/>\n",
       "\t<circle cx=\"3538.63\" cy=\"1056.98\" r=\"22.03\" style=\"fill:none;stroke:#1A476F;stroke-width:8.64\"/>\n",
       "\t<circle cx=\"2896.00\" cy=\"2371.12\" r=\"26.35\" style=\"fill:#1A476F\"/>\n",
       "\t<circle cx=\"2896.00\" cy=\"2371.12\" r=\"22.03\" style=\"fill:none;stroke:#1A476F;stroke-width:8.64\"/>\n",
       "\t<circle cx=\"3410.06\" cy=\"923.58\" r=\"26.35\" style=\"fill:#1A476F\"/>\n",
       "\t<circle cx=\"3410.06\" cy=\"923.58\" r=\"22.03\" style=\"fill:none;stroke:#1A476F;stroke-width:8.64\"/>\n",
       "\t<circle cx=\"3538.63\" cy=\"1762.13\" r=\"26.35\" style=\"fill:#1A476F\"/>\n",
       "\t<circle cx=\"3538.63\" cy=\"1762.13\" r=\"22.03\" style=\"fill:none;stroke:#1A476F;stroke-width:8.64\"/>\n",
       "\t<circle cx=\"2638.97\" cy=\"2170.89\" r=\"26.35\" style=\"fill:#1A476F\"/>\n",
       "\t<circle cx=\"2638.97\" cy=\"2170.89\" r=\"22.03\" style=\"fill:none;stroke:#1A476F;stroke-width:8.64\"/>\n",
       "\t<circle cx=\"3281.60\" cy=\"1367.98\" r=\"26.35\" style=\"fill:#1A476F\"/>\n",
       "\t<circle cx=\"3281.60\" cy=\"1367.98\" r=\"22.03\" style=\"fill:none;stroke:#1A476F;stroke-width:8.64\"/>\n",
       "\t<circle cx=\"3538.63\" cy=\"1290.01\" r=\"26.35\" style=\"fill:#1A476F\"/>\n",
       "\t<circle cx=\"3538.63\" cy=\"1290.01\" r=\"22.03\" style=\"fill:none;stroke:#1A476F;stroke-width:8.64\"/>\n",
       "\t<circle cx=\"1867.88\" cy=\"2350.09\" r=\"26.35\" style=\"fill:#1A476F\"/>\n",
       "\t<circle cx=\"1867.88\" cy=\"2350.09\" r=\"22.03\" style=\"fill:none;stroke:#1A476F;stroke-width:8.64\"/>\n",
       "\t<circle cx=\"2124.91\" cy=\"2404.41\" r=\"26.35\" style=\"fill:#1A476F\"/>\n",
       "\t<circle cx=\"2124.91\" cy=\"2404.41\" r=\"22.03\" style=\"fill:none;stroke:#1A476F;stroke-width:8.64\"/>\n",
       "\t<circle cx=\"2510.39\" cy=\"2289.08\" r=\"26.35\" style=\"fill:#1A476F\"/>\n",
       "\t<circle cx=\"2510.39\" cy=\"2289.08\" r=\"22.03\" style=\"fill:none;stroke:#1A476F;stroke-width:8.64\"/>\n",
       "\t<circle cx=\"2767.42\" cy=\"2282.27\" r=\"26.35\" style=\"fill:#1A476F\"/>\n",
       "\t<circle cx=\"2767.42\" cy=\"2282.27\" r=\"22.03\" style=\"fill:none;stroke:#1A476F;stroke-width:8.64\"/>\n",
       "\t<circle cx=\"2896.00\" cy=\"2352.93\" r=\"26.35\" style=\"fill:#1A476F\"/>\n",
       "\t<circle cx=\"2896.00\" cy=\"2352.93\" r=\"22.03\" style=\"fill:none;stroke:#1A476F;stroke-width:8.64\"/>\n",
       "\t<circle cx=\"2124.91\" cy=\"2404.41\" r=\"26.35\" style=\"fill:#1A476F\"/>\n",
       "\t<circle cx=\"2124.91\" cy=\"2404.41\" r=\"22.03\" style=\"fill:none;stroke:#1A476F;stroke-width:8.64\"/>\n",
       "\t<circle cx=\"3538.63\" cy=\"1024.81\" r=\"26.35\" style=\"fill:#1A476F\"/>\n",
       "\t<circle cx=\"3538.63\" cy=\"1024.81\" r=\"22.03\" style=\"fill:none;stroke:#1A476F;stroke-width:8.64\"/>\n",
       "\t<circle cx=\"3538.63\" cy=\"485.98\" r=\"26.35\" style=\"fill:#1A476F\"/>\n",
       "\t<circle cx=\"3538.63\" cy=\"485.98\" r=\"22.03\" style=\"fill:none;stroke:#1A476F;stroke-width:8.64\"/>\n",
       "\t<circle cx=\"2896.00\" cy=\"2204.80\" r=\"26.35\" style=\"fill:#1A476F\"/>\n",
       "\t<circle cx=\"2896.00\" cy=\"2204.80\" r=\"22.03\" style=\"fill:none;stroke:#1A476F;stroke-width:8.64\"/>\n",
       "\t<circle cx=\"3153.03\" cy=\"1822.65\" r=\"26.35\" style=\"fill:#1A476F\"/>\n",
       "\t<circle cx=\"3153.03\" cy=\"1822.65\" r=\"22.03\" style=\"fill:none;stroke:#1A476F;stroke-width:8.64\"/>\n",
       "\t<circle cx=\"2381.94\" cy=\"2348.97\" r=\"26.35\" style=\"fill:#1A476F\"/>\n",
       "\t<circle cx=\"2381.94\" cy=\"2348.97\" r=\"22.03\" style=\"fill:none;stroke:#1A476F;stroke-width:8.64\"/>\n",
       "\t<circle cx=\"2124.91\" cy=\"2298.11\" r=\"26.35\" style=\"fill:#1A476F\"/>\n",
       "\t<circle cx=\"2124.91\" cy=\"2298.11\" r=\"22.03\" style=\"fill:none;stroke:#1A476F;stroke-width:8.64\"/>\n",
       "\t<circle cx=\"2896.00\" cy=\"2216.68\" r=\"26.35\" style=\"fill:#1A476F\"/>\n",
       "\t<circle cx=\"2896.00\" cy=\"2216.68\" r=\"22.03\" style=\"fill:none;stroke:#1A476F;stroke-width:8.64\"/>\n",
       "\t<circle cx=\"3153.03\" cy=\"1872.89\" r=\"26.35\" style=\"fill:#1A476F\"/>\n",
       "\t<circle cx=\"3153.03\" cy=\"1872.89\" r=\"22.03\" style=\"fill:none;stroke:#1A476F;stroke-width:8.64\"/>\n",
       "\t<circle cx=\"3538.63\" cy=\"1628.72\" r=\"26.35\" style=\"fill:#1A476F\"/>\n",
       "\t<circle cx=\"3538.63\" cy=\"1628.72\" r=\"22.03\" style=\"fill:none;stroke:#1A476F;stroke-width:8.64\"/>\n",
       "\t<circle cx=\"3667.08\" cy=\"979.51\" r=\"26.35\" style=\"fill:#1A476F\"/>\n",
       "\t<circle cx=\"3667.08\" cy=\"979.51\" r=\"22.03\" style=\"fill:none;stroke:#1A476F;stroke-width:8.64\"/>\n",
       "\t<circle cx=\"3667.08\" cy=\"165.34\" r=\"26.35\" style=\"fill:#1A476F\"/>\n",
       "\t<circle cx=\"3667.08\" cy=\"165.34\" r=\"22.03\" style=\"fill:none;stroke:#1A476F;stroke-width:8.64\"/>\n",
       "\t<circle cx=\"2381.94\" cy=\"2405.03\" r=\"26.35\" style=\"fill:#1A476F\"/>\n",
       "\t<circle cx=\"2381.94\" cy=\"2405.03\" r=\"22.03\" style=\"fill:none;stroke:#1A476F;stroke-width:8.64\"/>\n",
       "\t<circle cx=\"2381.94\" cy=\"2247.25\" r=\"26.35\" style=\"fill:#1A476F\"/>\n",
       "\t<circle cx=\"2381.94\" cy=\"2247.25\" r=\"22.03\" style=\"fill:none;stroke:#1A476F;stroke-width:8.64\"/>\n",
       "\t<circle cx=\"2124.91\" cy=\"2370.51\" r=\"26.35\" style=\"fill:#1A476F\"/>\n",
       "\t<circle cx=\"2124.91\" cy=\"2370.51\" r=\"22.03\" style=\"fill:none;stroke:#1A476F;stroke-width:8.64\"/>\n",
       "\t<circle cx=\"3410.06\" cy=\"1215.39\" r=\"26.35\" style=\"fill:#1A476F\"/>\n",
       "\t<circle cx=\"3410.06\" cy=\"1215.39\" r=\"22.03\" style=\"fill:none;stroke:#1A476F;stroke-width:8.64\"/>\n",
       "\t<circle cx=\"2381.94\" cy=\"2372.24\" r=\"26.35\" style=\"fill:#1A476F\"/>\n",
       "\t<circle cx=\"2381.94\" cy=\"2372.24\" r=\"22.03\" style=\"fill:none;stroke:#1A476F;stroke-width:8.64\"/>\n",
       "\t<circle cx=\"3667.08\" cy=\"1341.99\" r=\"26.35\" style=\"fill:#1A476F\"/>\n",
       "\t<circle cx=\"3667.08\" cy=\"1341.99\" r=\"22.03\" style=\"fill:none;stroke:#1A476F;stroke-width:8.64\"/>\n",
       "\t<circle cx=\"2638.97\" cy=\"2325.83\" r=\"26.35\" style=\"fill:#1A476F\"/>\n",
       "\t<circle cx=\"2638.97\" cy=\"2325.83\" r=\"22.03\" style=\"fill:none;stroke:#1A476F;stroke-width:8.64\"/>\n",
       "\t<circle cx=\"2381.94\" cy=\"2321.25\" r=\"26.35\" style=\"fill:#1A476F\"/>\n",
       "\t<circle cx=\"2381.94\" cy=\"2321.25\" r=\"22.03\" style=\"fill:none;stroke:#1A476F;stroke-width:8.64\"/>\n",
       "\t<circle cx=\"1739.31\" cy=\"2333.13\" r=\"26.35\" style=\"fill:#1A476F\"/>\n",
       "\t<circle cx=\"1739.31\" cy=\"2333.13\" r=\"22.03\" style=\"fill:none;stroke:#1A476F;stroke-width:8.64\"/>\n",
       "\t<circle cx=\"454.04\" cy=\"2402.68\" r=\"26.35\" style=\"fill:#1A476F\"/>\n",
       "\t<circle cx=\"454.04\" cy=\"2402.68\" r=\"22.03\" style=\"fill:none;stroke:#1A476F;stroke-width:8.64\"/>\n",
       "\t<circle cx=\"2381.94\" cy=\"2384.12\" r=\"26.35\" style=\"fill:#1A476F\"/>\n",
       "\t<circle cx=\"2381.94\" cy=\"2384.12\" r=\"22.03\" style=\"fill:none;stroke:#1A476F;stroke-width:8.64\"/>\n",
       "\t<circle cx=\"3153.03\" cy=\"2327.56\" r=\"26.35\" style=\"fill:#1A476F\"/>\n",
       "\t<circle cx=\"3153.03\" cy=\"2327.56\" r=\"22.03\" style=\"fill:none;stroke:#1A476F;stroke-width:8.64\"/>\n",
       "\t<circle cx=\"2767.42\" cy=\"2208.76\" r=\"26.35\" style=\"fill:#1A476F\"/>\n",
       "\t<circle cx=\"2767.42\" cy=\"2208.76\" r=\"22.03\" style=\"fill:none;stroke:#1A476F;stroke-width:8.64\"/>\n",
       "\t<circle cx=\"2253.36\" cy=\"2318.65\" r=\"26.35\" style=\"fill:#1A476F\"/>\n",
       "\t<circle cx=\"2253.36\" cy=\"2318.65\" r=\"22.03\" style=\"fill:none;stroke:#1A476F;stroke-width:8.64\"/>\n",
       "\t<circle cx=\"3024.57\" cy=\"2256.90\" r=\"26.35\" style=\"fill:#1A476F\"/>\n",
       "\t<circle cx=\"3024.57\" cy=\"2256.90\" r=\"22.03\" style=\"fill:none;stroke:#1A476F;stroke-width:8.64\"/>\n",
       "\t<circle cx=\"2896.00\" cy=\"2170.40\" r=\"26.35\" style=\"fill:#1A476F\"/>\n",
       "\t<circle cx=\"2896.00\" cy=\"2170.40\" r=\"22.03\" style=\"fill:none;stroke:#1A476F;stroke-width:8.64\"/>\n",
       "\t<circle cx=\"3410.06\" cy=\"772.60\" r=\"26.35\" style=\"fill:#1A476F\"/>\n",
       "\t<circle cx=\"3410.06\" cy=\"772.60\" r=\"22.03\" style=\"fill:none;stroke:#1A476F;stroke-width:8.64\"/>\n",
       "\t<circle cx=\"2896.00\" cy=\"1971.89\" r=\"26.35\" style=\"fill:#1A476F\"/>\n",
       "\t<circle cx=\"2896.00\" cy=\"1971.89\" r=\"22.03\" style=\"fill:none;stroke:#1A476F;stroke-width:8.64\"/>\n",
       "\t<circle cx=\"1482.28\" cy=\"2368.77\" r=\"26.35\" style=\"fill:#1A476F\"/>\n",
       "\t<circle cx=\"1482.28\" cy=\"2368.77\" r=\"22.03\" style=\"fill:none;stroke:#1A476F;stroke-width:8.64\"/>\n",
       "\t<circle cx=\"2124.91\" cy=\"2164.08\" r=\"26.35\" style=\"fill:#1A476F\"/>\n",
       "\t<circle cx=\"2124.91\" cy=\"2164.08\" r=\"22.03\" style=\"fill:none;stroke:#1A476F;stroke-width:8.64\"/>\n",
       "\t<circle cx=\"3153.03\" cy=\"2143.79\" r=\"26.35\" style=\"fill:#1A476F\"/>\n",
       "\t<circle cx=\"3153.03\" cy=\"2143.79\" r=\"22.03\" style=\"fill:none;stroke:#1A476F;stroke-width:8.64\"/>\n",
       "\t<circle cx=\"2510.39\" cy=\"2286.23\" r=\"26.35\" style=\"fill:#1A476F\"/>\n",
       "\t<circle cx=\"2510.39\" cy=\"2286.23\" r=\"22.03\" style=\"fill:none;stroke:#1A476F;stroke-width:8.64\"/>\n",
       "\t<circle cx=\"2510.39\" cy=\"2339.94\" r=\"26.35\" style=\"fill:#1A476F\"/>\n",
       "\t<circle cx=\"2510.39\" cy=\"2339.94\" r=\"22.03\" style=\"fill:none;stroke:#1A476F;stroke-width:8.64\"/>\n",
       "\t<circle cx=\"2510.39\" cy=\"2326.45\" r=\"26.35\" style=\"fill:#1A476F\"/>\n",
       "\t<circle cx=\"2510.39\" cy=\"2326.45\" r=\"22.03\" style=\"fill:none;stroke:#1A476F;stroke-width:8.64\"/>\n",
       "\t<circle cx=\"2381.94\" cy=\"2287.96\" r=\"26.35\" style=\"fill:#1A476F\"/>\n",
       "\t<circle cx=\"2381.94\" cy=\"2287.96\" r=\"22.03\" style=\"fill:none;stroke:#1A476F;stroke-width:8.64\"/>\n",
       "\t<circle cx=\"3024.57\" cy=\"2082.65\" r=\"26.35\" style=\"fill:#1A476F\"/>\n",
       "\t<circle cx=\"3024.57\" cy=\"2082.65\" r=\"22.03\" style=\"fill:none;stroke:#1A476F;stroke-width:8.64\"/>\n",
       "\t<circle cx=\"2896.00\" cy=\"2226.33\" r=\"26.35\" style=\"fill:#1A476F\"/>\n",
       "\t<circle cx=\"2896.00\" cy=\"2226.33\" r=\"22.03\" style=\"fill:none;stroke:#1A476F;stroke-width:8.64\"/>\n",
       "\t<line x1=\"390.80\" y1=\"2489.19\" x2=\"390.80\" y2=\"100.86\" style=\"stroke:#000000;stroke-width:5.76\"/>\n",
       "\t<line x1=\"390.80\" y1=\"2425.82\" x2=\"350.83\" y2=\"2425.82\" style=\"stroke:#000000;stroke-width:5.76\"/>\n",
       "\t<text x=\"300.72\" y=\"2425.82\" style=\"font-family:'Helvetica';font-size:99.99px;fill:#000000\" transform=\"rotate(-90 300.72,2425.82)\" text-anchor=\"middle\">0</text>\n",
       "\t<line x1=\"390.80\" y1=\"1860.39\" x2=\"350.83\" y2=\"1860.39\" style=\"stroke:#000000;stroke-width:5.76\"/>\n",
       "\t<text x=\"300.72\" y=\"1860.39\" style=\"font-family:'Helvetica';font-size:99.99px;fill:#000000\" transform=\"rotate(-90 300.72,1860.39)\" text-anchor=\"middle\">10000</text>\n",
       "\t<line x1=\"390.80\" y1=\"1294.96\" x2=\"350.83\" y2=\"1294.96\" style=\"stroke:#000000;stroke-width:5.76\"/>\n",
       "\t<text x=\"300.72\" y=\"1294.96\" style=\"font-family:'Helvetica';font-size:99.99px;fill:#000000\" transform=\"rotate(-90 300.72,1294.96)\" text-anchor=\"middle\">20000</text>\n",
       "\t<line x1=\"390.80\" y1=\"729.53\" x2=\"350.83\" y2=\"729.53\" style=\"stroke:#000000;stroke-width:5.76\"/>\n",
       "\t<text x=\"300.72\" y=\"729.53\" style=\"font-family:'Helvetica';font-size:99.99px;fill:#000000\" transform=\"rotate(-90 300.72,729.53)\" text-anchor=\"middle\">30000</text>\n",
       "\t<line x1=\"390.80\" y1=\"164.22\" x2=\"350.83\" y2=\"164.22\" style=\"stroke:#000000;stroke-width:5.76\"/>\n",
       "\t<text x=\"300.72\" y=\"164.22\" style=\"font-family:'Helvetica';font-size:99.99px;fill:#000000\" transform=\"rotate(-90 300.72,164.22)\" text-anchor=\"middle\">40000</text>\n",
       "\t<text x=\"190.71\" y=\"1294.96\" style=\"font-family:'Helvetica';font-size:99.99px;fill:#000000\" transform=\"rotate(-90 190.71,1294.96)\" text-anchor=\"middle\">GNP per capita</text>\n",
       "\t<line x1=\"390.80\" y1=\"2489.19\" x2=\"3859.02\" y2=\"2489.19\" style=\"stroke:#000000;stroke-width:5.76\"/>\n",
       "\t<line x1=\"582.62\" y1=\"2489.19\" x2=\"582.62\" y2=\"2529.16\" style=\"stroke:#000000;stroke-width:5.76\"/>\n",
       "\t<text x=\"582.62\" y=\"2619.14\" style=\"font-family:'Helvetica';font-size:99.99px;fill:#000000\" text-anchor=\"middle\">55</text>\n",
       "\t<line x1=\"1225.25\" y1=\"2489.19\" x2=\"1225.25\" y2=\"2529.16\" style=\"stroke:#000000;stroke-width:5.76\"/>\n",
       "\t<text x=\"1225.25\" y=\"2619.14\" style=\"font-family:'Helvetica';font-size:99.99px;fill:#000000\" text-anchor=\"middle\">60</text>\n",
       "\t<line x1=\"1867.88\" y1=\"2489.19\" x2=\"1867.88\" y2=\"2529.16\" style=\"stroke:#000000;stroke-width:5.76\"/>\n",
       "\t<text x=\"1867.88\" y=\"2619.14\" style=\"font-family:'Helvetica';font-size:99.99px;fill:#000000\" text-anchor=\"middle\">65</text>\n",
       "\t<line x1=\"2510.52\" y1=\"2489.19\" x2=\"2510.52\" y2=\"2529.16\" style=\"stroke:#000000;stroke-width:5.76\"/>\n",
       "\t<text x=\"2510.52\" y=\"2619.14\" style=\"font-family:'Helvetica';font-size:99.99px;fill:#000000\" text-anchor=\"middle\">70</text>\n",
       "\t<line x1=\"3153.15\" y1=\"2489.19\" x2=\"3153.15\" y2=\"2529.16\" style=\"stroke:#000000;stroke-width:5.76\"/>\n",
       "\t<text x=\"3153.15\" y=\"2619.14\" style=\"font-family:'Helvetica';font-size:99.99px;fill:#000000\" text-anchor=\"middle\">75</text>\n",
       "\t<line x1=\"3795.66\" y1=\"2489.19\" x2=\"3795.66\" y2=\"2529.16\" style=\"stroke:#000000;stroke-width:5.76\"/>\n",
       "\t<text x=\"3795.66\" y=\"2619.14\" style=\"font-family:'Helvetica';font-size:99.99px;fill:#000000\" text-anchor=\"middle\">80</text>\n",
       "\t<text x=\"2124.91\" y=\"2729.16\" style=\"font-family:'Helvetica';font-size:99.99px;fill:#000000\" text-anchor=\"middle\">Life expectancy at birth</text>\n",
       "</svg>"
      ],
      "text/plain": [
       "<IPython.core.display.SVG object>"
      ]
     },
     "metadata": {},
     "output_type": "display_data"
    }
   ],
   "source": [
    "#| eval: False\n",
    "run_direct(\"scatter gnppc lexp\")"
   ]
  },
  {
   "cell_type": "code",
   "execution_count": null,
   "id": "53e86797",
   "metadata": {},
   "outputs": [],
   "source": [
    "#| hide\n",
    "#| eval: False\n",
    "sfi.SFIToolkit.stata(\"clear\")"
   ]
  },
  {
   "cell_type": "markdown",
   "id": "03935413",
   "metadata": {},
   "source": [
    "Even worse, a subsequent run of `sfi.SFIToolkit.stata` can be affected by a previous error:"
   ]
  },
  {
   "cell_type": "code",
   "execution_count": null,
   "id": "1926fa10",
   "metadata": {},
   "outputs": [],
   "source": [
    "#| eval: False\n",
    "with ExceptionExpected(ex=SyntaxError):\n",
    "    sfi.SFIToolkit.stata(\"disp 1 \\n disp 2\")"
   ]
  },
  {
   "cell_type": "code",
   "execution_count": null,
   "id": "bb5b21a2",
   "metadata": {},
   "outputs": [
    {
     "name": "stdout",
     "output_type": "stream",
     "text": [
      "1\n",
      " invalid name\n",
      "1b\n"
     ]
    }
   ],
   "source": [
    "#| eval: False\n",
    "sfi.SFIToolkit.stata('disp \"1b\"')"
   ]
  },
  {
   "cell_type": "markdown",
   "id": "6b007ad4",
   "metadata": {},
   "source": [
    "But an intervening `pystata.stata.run` execution seems to set things right."
   ]
  },
  {
   "cell_type": "code",
   "execution_count": null,
   "id": "b7710b0f",
   "metadata": {},
   "outputs": [
    {
     "name": "stdout",
     "output_type": "stream",
     "text": [
      "0\n",
      "1b\n"
     ]
    }
   ],
   "source": [
    "#| eval: False\n",
    "try:\n",
    "    sfi.SFIToolkit.stata(\"disp 1 \\n disp 2\")\n",
    "except Exception:\n",
    "    pystata.stata.run(\"disp 0\")\n",
    "sfi.SFIToolkit.stata('disp \"1b\"')"
   ]
  },
  {
   "cell_type": "markdown",
   "id": "cdc1bb7f",
   "metadata": {},
   "source": [
    "So `run_single` should probably be used only sparingly. For when it is used, we put the above safeguard in place."
   ]
  },
  {
   "cell_type": "code",
   "execution_count": null,
   "id": "f31efc3f",
   "metadata": {},
   "outputs": [
    {
     "name": "stdout",
     "output_type": "stream",
     "text": [
      "\u001b[31mrun_single (sfi.SFIToolkit.stata) error: SyntaxError('failed to execute the specified Stata command')\u001b[0m\n",
      "\n",
      ". disp 1 \n",
      "1\n",
      "\n",
      ".  disp 2\n",
      "2\n",
      "\n",
      ". \n",
      "1b\n"
     ]
    }
   ],
   "source": [
    "#| eval: False\n",
    "run_single(\"disp 1 \\n disp 2\")\n",
    "run_single('disp \"1b\"')"
   ]
  },
  {
   "cell_type": "code",
   "execution_count": null,
   "id": "d5190d19",
   "metadata": {},
   "outputs": [],
   "source": [
    "#| export\n",
    "def get_local(name):\n",
    "    import sfi\n",
    "    return sfi.Macro.getLocal(name)"
   ]
  },
  {
   "cell_type": "markdown",
   "id": "c13ded33",
   "metadata": {},
   "source": [
    "[https://www.stata.com/python/api17/Macro.html#sfi.Macro.getLocal](https://www.stata.com/python/api17/Macro.html#sfi.Macro.getLocal)"
   ]
  },
  {
   "cell_type": "code",
   "execution_count": null,
   "id": "d5e8ada4",
   "metadata": {},
   "outputs": [],
   "source": [
    "#| export\n",
    "def set_local(name, value):\n",
    "    import sfi\n",
    "    return sfi.Macro.setLocal(name, value)"
   ]
  },
  {
   "cell_type": "markdown",
   "id": "6b79b383",
   "metadata": {},
   "source": [
    "[https://www.stata.com/python/api17/Macro.html#sfi.Macro.setLocal](https://www.stata.com/python/api17/Macro.html#sfi.Macro.setLocal)"
   ]
  },
  {
   "cell_type": "code",
   "execution_count": null,
   "id": "d2c1a4cb",
   "metadata": {},
   "outputs": [],
   "source": [
    "#| export\n",
    "def get_global(name):\n",
    "    import sfi\n",
    "    return sfi.Macro.getGlobal(name)"
   ]
  },
  {
   "cell_type": "markdown",
   "id": "fb3c1b96",
   "metadata": {},
   "source": [
    "[https://www.stata.com/python/api17/Macro.html#sfi.Macro.getGlobal](https://www.stata.com/python/api17/Macro.html#sfi.Macro.getGlobal)"
   ]
  },
  {
   "cell_type": "code",
   "execution_count": null,
   "id": "9c079d86",
   "metadata": {},
   "outputs": [],
   "source": [
    "#| export\n",
    "def get_scalar(name):\n",
    "    import sfi\n",
    "    return sfi.Scalar.getValue(name)"
   ]
  },
  {
   "cell_type": "markdown",
   "id": "868d57d5",
   "metadata": {},
   "source": [
    "[https://www.stata.com/python/api17/Scalar.html?highlight=scalar#sfi.Scalar.getValue](https://www.stata.com/python/api17/Scalar.html?highlight=scalar#sfi.Scalar.getValue)"
   ]
  },
  {
   "cell_type": "code",
   "execution_count": null,
   "id": "2ff122a8",
   "metadata": {},
   "outputs": [],
   "source": [
    "#| export\n",
    "def stata_formatted(value, s_format):\n",
    "    import sfi\n",
    "    return sfi.SFIToolkit.formatValue(value, s_format)"
   ]
  },
  {
   "cell_type": "markdown",
   "id": "1057b620",
   "metadata": {},
   "source": [
    "[https://www.stata.com/python/api17/SFIToolkit.html#sfi.SFIToolkit.formatValue](https://www.stata.com/python/api17/SFIToolkit.html#sfi.SFIToolkit.formatValue)"
   ]
  },
  {
   "cell_type": "code",
   "execution_count": null,
   "id": "e409a748",
   "metadata": {},
   "outputs": [],
   "source": [
    "#| export\n",
    "def variable_names():\n",
    "    from sfi import Data\n",
    "    return [Data.getVarName(i) for i in range(Data.getVarCount())]"
   ]
  },
  {
   "cell_type": "markdown",
   "id": "a0edcbe9",
   "metadata": {},
   "source": [
    "`variable_names` uses 'getVarCount' and 'getVarName': [https://www.stata.com/python/api17/Data.html](https://www.stata.com/python/api17/Data.html)"
   ]
  },
  {
   "cell_type": "code",
   "execution_count": null,
   "id": "6402e512",
   "metadata": {},
   "outputs": [
    {
     "data": {
      "text/plain": [
       "['var1']"
      ]
     },
     "execution_count": null,
     "metadata": {},
     "output_type": "execute_result"
    }
   ],
   "source": [
    "#| eval: false\n",
    "run_single(\"quietly gen var1 = 1\")\n",
    "variable_names()"
   ]
  },
  {
   "cell_type": "code",
   "execution_count": null,
   "id": "39d44059",
   "metadata": {},
   "outputs": [],
   "source": [
    "#| export\n",
    "def drop_var(name):\n",
    "    import sfi\n",
    "    sfi.Data.dropVar(name)"
   ]
  },
  {
   "cell_type": "markdown",
   "id": "c82d0e81",
   "metadata": {},
   "source": [
    "[https://www.stata.com/python/api17/Data.html#sfi.Data.dropVar](https://www.stata.com/python/api17/Data.html#sfi.Data.dropVar)"
   ]
  },
  {
   "cell_type": "code",
   "execution_count": null,
   "id": "c67ee759",
   "metadata": {},
   "outputs": [
    {
     "data": {
      "text/plain": [
       "[]"
      ]
     },
     "execution_count": null,
     "metadata": {},
     "output_type": "execute_result"
    }
   ],
   "source": [
    "#| eval: False\n",
    "drop_var('var1')\n",
    "variable_names()"
   ]
  },
  {
   "cell_type": "code",
   "execution_count": null,
   "id": "43876e25",
   "metadata": {},
   "outputs": [],
   "source": [
    "#| export\n",
    "def obs_count():\n",
    "    \"\"\"Count the number of observations\"\"\"\n",
    "    import sfi\n",
    "    return sfi.Data.getObsTotal()"
   ]
  },
  {
   "cell_type": "markdown",
   "id": "380772e6",
   "metadata": {},
   "source": [
    "[https://www.stata.com/python/api17/Data.html#sfi.Data.getObsTotal](https://www.stata.com/python/api17/Data.html#sfi.Data.getObsTotal)"
   ]
  },
  {
   "cell_type": "code",
   "execution_count": null,
   "id": "da1bdb5f",
   "metadata": {},
   "outputs": [
    {
     "data": {
      "text/plain": [
       "0"
      ]
     },
     "execution_count": null,
     "metadata": {},
     "output_type": "execute_result"
    }
   ],
   "source": [
    "#| eval: false\n",
    "obs_count()"
   ]
  },
  {
   "cell_type": "code",
   "execution_count": null,
   "id": "22c99234",
   "metadata": {},
   "outputs": [],
   "source": [
    "#| export\n",
    "def pwd():\n",
    "    from sfi import SFIToolkit\n",
    "    return SFIToolkit.getWorkingDir()"
   ]
  },
  {
   "cell_type": "markdown",
   "id": "5ec19929",
   "metadata": {},
   "source": [
    "[https://www.stata.com/python/api17/SFIToolkit.html#sfi.SFIToolkit.getWorkingDir](https://www.stata.com/python/api17/SFIToolkit.html#sfi.SFIToolkit.getWorkingDir)"
   ]
  },
  {
   "cell_type": "code",
   "execution_count": null,
   "id": "232e5aa1",
   "metadata": {},
   "outputs": [
    {
     "data": {
      "text/plain": [
       "'\\\\nbstata\\\\nbs'"
      ]
     },
     "execution_count": null,
     "metadata": {},
     "output_type": "execute_result"
    }
   ],
   "source": [
    "#| eval: False\n",
    "pwd()[-12:]"
   ]
  },
  {
   "cell_type": "markdown",
   "id": "be6d4f1d",
   "metadata": {},
   "source": [
    "#| hide\n",
    "The following function is not currently used and is likely made unnecessary by `sfi.SFIToolkit.macroExpand`."
   ]
  },
  {
   "cell_type": "code",
   "execution_count": null,
   "id": "29843e02",
   "metadata": {},
   "outputs": [],
   "source": [
    "#| hide\n",
    "#| export\n",
    "def resolve_macro(macro):\n",
    "    macro = macro.strip()\n",
    "    if macro.startswith(\"`\") and macro.endswith(\"'\"):\n",
    "        macro = get_local(macro[1:-1])\n",
    "    elif macro.startswith(\"$_\"):\n",
    "        macro = get_local(macro[2:])\n",
    "    elif macro.startswith(\"${\") and macro.endswith(\"}\"):\n",
    "        macro = get_global(macro[2:-1])\n",
    "    elif macro.startswith(\"$\"):\n",
    "        macro = get_global(macro[1:])\n",
    "    return macro"
   ]
  },
  {
   "cell_type": "code",
   "execution_count": null,
   "id": "40084cb1",
   "metadata": {},
   "outputs": [
    {
     "data": {
      "text/plain": [
       "'hello world'"
      ]
     },
     "execution_count": null,
     "metadata": {},
     "output_type": "execute_result"
    }
   ],
   "source": [
    "#| hide\n",
    "#| eval: false\n",
    "run_single('global test = \"hello world\"')\n",
    "resolve_macro(\"$test\")"
   ]
  },
  {
   "cell_type": "code",
   "execution_count": null,
   "id": "60b8c63d",
   "metadata": {},
   "outputs": [
    {
     "data": {
      "text/plain": [
       "'hello world'"
      ]
     },
     "execution_count": null,
     "metadata": {},
     "output_type": "execute_result"
    }
   ],
   "source": [
    "#| hide\n",
    "#| eval: false\n",
    "resolve_macro(\"${test}\")"
   ]
  },
  {
   "cell_type": "code",
   "execution_count": null,
   "id": "1c6dd777",
   "metadata": {},
   "outputs": [],
   "source": [
    "#| hide\n",
    "import nbdev; nbdev.nbdev_export()"
   ]
  }
 ],
 "metadata": {
  "kernelspec": {
   "display_name": "Python 3 (ipykernel)",
   "language": "python",
   "name": "python3"
  }
 },
 "nbformat": 4,
 "nbformat_minor": 5
}
