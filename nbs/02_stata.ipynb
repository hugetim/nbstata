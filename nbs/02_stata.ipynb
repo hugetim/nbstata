{
 "cells": [
  {
   "cell_type": "markdown",
   "id": "2c184729",
   "metadata": {},
   "source": [
    "# stata\n",
    "\n",
    "> Simple wrappers for `pystata`/`sfi` functionality"
   ]
  },
  {
   "cell_type": "markdown",
   "id": "e2014567",
   "metadata": {},
   "source": [
    "`sfi` is [Stata's python API](https://www.stata.com/python/api17/index.html), originally intended for interacting with Stata from python *within Stata*. As such, it can only be imported with Stata running.\n",
    "`pystata.stata.run` [enables running Stata code from python](https://www.stata.com/python/pystata/stata.html#pystata.stata.run)."
   ]
  },
  {
   "cell_type": "markdown",
   "id": "b340a24b",
   "metadata": {},
   "source": [
    "For one thing, using wrappers removes the need to constantly import `pystata` and/or `sfi` within functions elsewhere to avoid running afoul of CI tests in an environment without Stata installed."
   ]
  },
  {
   "cell_type": "code",
   "execution_count": null,
   "id": "c7fb586a",
   "metadata": {},
   "outputs": [],
   "source": [
    "#| default_exp stata\n",
    "%load_ext autoreload\n",
    "%autoreload 2"
   ]
  },
  {
   "cell_type": "code",
   "execution_count": null,
   "id": "026b00b7",
   "metadata": {},
   "outputs": [],
   "source": [
    "#| hide\n",
    "from nbdev.showdoc import *"
   ]
  },
  {
   "cell_type": "code",
   "execution_count": null,
   "id": "4b35edd5",
   "metadata": {},
   "outputs": [],
   "source": [
    "#| export\n",
    "from nbstata.config import launch_stata\n",
    "from nbstata.misc_utils import DivertedPrints"
   ]
  },
  {
   "cell_type": "code",
   "execution_count": null,
   "id": "3f05096b",
   "metadata": {},
   "outputs": [],
   "source": [
    "from textwrap import dedent"
   ]
  },
  {
   "cell_type": "markdown",
   "id": "598feba6",
   "metadata": {},
   "source": [
    "https://www.stata.com/python/pystata/stata.html#pystata.stata.run"
   ]
  },
  {
   "cell_type": "code",
   "execution_count": null,
   "id": "79f90aad",
   "metadata": {},
   "outputs": [],
   "source": [
    "#| export\n",
    "def run_direct(cmd, quietly=False, echo=False, inline=True):\n",
    "    import pystata\n",
    "    if quietly:\n",
    "        with DivertedPrints() as diverted: # to prevent blank line output, as with `program define`\n",
    "            out = pystata.stata.run(cmd, quietly, echo, inline)\n",
    "            prints = diverted.getvalue()\n",
    "        for line in prints.splitlines():\n",
    "            if line.strip():\n",
    "                print(line)\n",
    "        return out\n",
    "    else:\n",
    "        return pystata.stata.run(cmd, quietly, echo, inline)"
   ]
  },
  {
   "cell_type": "code",
   "execution_count": null,
   "id": "724855d6",
   "metadata": {},
   "outputs": [
    {
     "name": "stdout",
     "output_type": "stream",
     "text": [
      "\n"
     ]
    }
   ],
   "source": [
    "#| hide\n",
    "#| eval: False\n",
    "launch_stata(splash=False)\n",
    "import pystata\n",
    "prog_code = \"program define _temp_prog \\n disp 1 \\n end\"\n",
    "pystata.stata.run(prog_code, quietly=True)"
   ]
  },
  {
   "cell_type": "code",
   "execution_count": null,
   "id": "4dccda44",
   "metadata": {},
   "outputs": [],
   "source": [
    "#| hide\n",
    "#| eval: False\n",
    "pystata.stata.run(\"capture program drop _temp_prog\", quietly=True)\n",
    "run_direct(prog_code, quietly=True)"
   ]
  },
  {
   "cell_type": "code",
   "execution_count": null,
   "id": "ef0e4244",
   "metadata": {},
   "outputs": [
    {
     "name": "stdout",
     "output_type": "stream",
     "text": [
      "hello\n"
     ]
    }
   ],
   "source": [
    "#| hide\n",
    "#| eval: False\n",
    "code = dedent('''\\\n",
    "    python:\n",
    "    print(\"hello\")\n",
    "    end\n",
    "    ''')\n",
    "run_direct(code, quietly=True)"
   ]
  },
  {
   "cell_type": "code",
   "execution_count": null,
   "id": "67291135",
   "metadata": {},
   "outputs": [],
   "source": [
    "#| hide\n",
    "#| eval: False\n",
    "code = dedent('''\\\n",
    "    python:\n",
    "    do_nothin = 3\n",
    "    end\n",
    "    ''')\n",
    "run_direct(code, quietly=True)"
   ]
  },
  {
   "cell_type": "markdown",
   "id": "c13ded33",
   "metadata": {},
   "source": [
    "[https://www.stata.com/python/api16/Macro.html#sfi.Macro.getLocal](https://www.stata.com/python/api16/Macro.html#sfi.Macro.getLocal)"
   ]
  },
  {
   "cell_type": "code",
   "execution_count": null,
   "id": "d5190d19",
   "metadata": {},
   "outputs": [],
   "source": [
    "#| export\n",
    "def get_local(name):\n",
    "    import sfi\n",
    "    return sfi.Macro.getLocal(name)"
   ]
  },
  {
   "cell_type": "markdown",
   "id": "35c696e2",
   "metadata": {},
   "source": [
    "https://www.stata.com/python/api16/Macro.html#sfi.Macro.setLocal"
   ]
  },
  {
   "cell_type": "code",
   "execution_count": null,
   "id": "d275a98d",
   "metadata": {},
   "outputs": [],
   "source": [
    "#| export\n",
    "def set_local(name, value):\n",
    "    import sfi\n",
    "    return sfi.Macro.setLocal(name, value)"
   ]
  },
  {
   "cell_type": "markdown",
   "id": "fb3c1b96",
   "metadata": {},
   "source": [
    "https://www.stata.com/python/api16/Macro.html#sfi.Macro.getGlobal"
   ]
  },
  {
   "cell_type": "code",
   "execution_count": null,
   "id": "d2c1a4cb",
   "metadata": {},
   "outputs": [],
   "source": [
    "#| export\n",
    "def get_global(name):\n",
    "    import sfi\n",
    "    return sfi.Macro.getGlobal(name)"
   ]
  },
  {
   "cell_type": "markdown",
   "id": "1057b620",
   "metadata": {},
   "source": [
    "https://www.stata.com/python/api16/SFIToolkit.html#sfi.SFIToolkit.formatValue"
   ]
  },
  {
   "cell_type": "code",
   "execution_count": null,
   "id": "2ff122a8",
   "metadata": {},
   "outputs": [],
   "source": [
    "#| export\n",
    "def stata_formatted(value, s_format):\n",
    "    import sfi\n",
    "    return sfi.SFIToolkit.formatValue(value, s_format)"
   ]
  },
  {
   "cell_type": "markdown",
   "id": "a0edcbe9",
   "metadata": {},
   "source": [
    "`variable_names` uses 'getVarCount' and 'getVarName': https://www.stata.com/python/api16/Data.html "
   ]
  },
  {
   "cell_type": "code",
   "execution_count": null,
   "id": "e409a748",
   "metadata": {},
   "outputs": [],
   "source": [
    "#| export\n",
    "def variable_names():\n",
    "    from sfi import Data\n",
    "    return [Data.getVarName(i) for i in range(Data.getVarCount())]"
   ]
  },
  {
   "cell_type": "code",
   "execution_count": null,
   "id": "6402e512",
   "metadata": {},
   "outputs": [
    {
     "data": {
      "text/plain": [
       "['var1']"
      ]
     },
     "execution_count": null,
     "metadata": {},
     "output_type": "execute_result"
    }
   ],
   "source": [
    "#| eval: false\n",
    "run_direct(\"gen var1 = 1\", quietly=True)\n",
    "variable_names()"
   ]
  },
  {
   "cell_type": "markdown",
   "id": "ead973d5",
   "metadata": {},
   "source": [
    "https://www.stata.com/python/api16/Data.html#sfi.Data.dropVar"
   ]
  },
  {
   "cell_type": "code",
   "execution_count": null,
   "id": "45176b62",
   "metadata": {},
   "outputs": [],
   "source": [
    "#| export\n",
    "def drop_var(name):\n",
    "    import sfi\n",
    "    sfi.Data.dropVar(name)"
   ]
  },
  {
   "cell_type": "code",
   "execution_count": null,
   "id": "1f49cbef",
   "metadata": {},
   "outputs": [
    {
     "data": {
      "text/plain": [
       "[]"
      ]
     },
     "execution_count": null,
     "metadata": {},
     "output_type": "execute_result"
    }
   ],
   "source": [
    "#| eval: False\n",
    "drop_var('var1')\n",
    "variable_names()"
   ]
  },
  {
   "cell_type": "markdown",
   "id": "30293a7a",
   "metadata": {},
   "source": [
    "https://www.stata.com/python/api16/Data.html#sfi.Data.getObsTotal"
   ]
  },
  {
   "cell_type": "code",
   "execution_count": null,
   "id": "43876e25",
   "metadata": {},
   "outputs": [],
   "source": [
    "#| export\n",
    "def obs_count():\n",
    "    \"\"\"Count the number of observations\"\"\"\n",
    "    import sfi\n",
    "    return sfi.Data.getObsTotal()"
   ]
  },
  {
   "cell_type": "code",
   "execution_count": null,
   "id": "da1bdb5f",
   "metadata": {},
   "outputs": [
    {
     "data": {
      "text/plain": [
       "0"
      ]
     },
     "execution_count": null,
     "metadata": {},
     "output_type": "execute_result"
    }
   ],
   "source": [
    "#| eval: false\n",
    "obs_count()"
   ]
  },
  {
   "cell_type": "markdown",
   "id": "aadface4",
   "metadata": {},
   "source": [
    "https://www.stata.com/python/api16/SFIToolkit.html#sfi.SFIToolkit.getWorkingDir"
   ]
  },
  {
   "cell_type": "code",
   "execution_count": null,
   "id": "1504ba2b",
   "metadata": {},
   "outputs": [],
   "source": [
    "#| export\n",
    "def pwd():\n",
    "    from sfi import SFIToolkit\n",
    "    return SFIToolkit.getWorkingDir()"
   ]
  },
  {
   "cell_type": "code",
   "execution_count": null,
   "id": "304f9850",
   "metadata": {},
   "outputs": [
    {
     "data": {
      "text/plain": [
       "'\\\\nbstata\\\\nbs'"
      ]
     },
     "execution_count": null,
     "metadata": {},
     "output_type": "execute_result"
    }
   ],
   "source": [
    "#| eval: False\n",
    "pwd()[-12:]"
   ]
  },
  {
   "cell_type": "markdown",
   "id": "be6d4f1d",
   "metadata": {},
   "source": [
    "The following function is not currently used and is likely made unnecessary by `sfi.SFIToolkit.macroExpand`."
   ]
  },
  {
   "cell_type": "code",
   "execution_count": null,
   "id": "29843e02",
   "metadata": {},
   "outputs": [],
   "source": [
    "#| export\n",
    "def resolve_macro(macro):\n",
    "    macro = macro.strip()\n",
    "    if macro.startswith(\"`\") and macro.endswith(\"'\"):\n",
    "        macro = get_local(macro[1:-1])\n",
    "    elif macro.startswith(\"$_\"):\n",
    "        macro = get_local(macro[2:])\n",
    "    elif macro.startswith(\"${\") and macro.endswith(\"}\"):\n",
    "        macro = get_global(macro[2:-1])\n",
    "    elif macro.startswith(\"$\"):\n",
    "        macro = get_global(macro[1:])\n",
    "    return macro"
   ]
  },
  {
   "cell_type": "code",
   "execution_count": null,
   "id": "40084cb1",
   "metadata": {},
   "outputs": [
    {
     "data": {
      "text/plain": [
       "'hello world'"
      ]
     },
     "execution_count": null,
     "metadata": {},
     "output_type": "execute_result"
    }
   ],
   "source": [
    "#| eval: false\n",
    "run_direct('global test = \"hello world\"')\n",
    "resolve_macro(\"$test\")"
   ]
  },
  {
   "cell_type": "code",
   "execution_count": null,
   "id": "60b8c63d",
   "metadata": {},
   "outputs": [
    {
     "data": {
      "text/plain": [
       "'hello world'"
      ]
     },
     "execution_count": null,
     "metadata": {},
     "output_type": "execute_result"
    }
   ],
   "source": [
    "#| hide\n",
    "#| eval: false\n",
    "resolve_macro(\"${test}\")"
   ]
  },
  {
   "cell_type": "code",
   "execution_count": null,
   "id": "1c6dd777",
   "metadata": {},
   "outputs": [],
   "source": [
    "#| hide\n",
    "import nbdev; nbdev.nbdev_export()"
   ]
  }
 ],
 "metadata": {
  "kernelspec": {
   "display_name": "Python 3 (ipykernel)",
   "language": "python",
   "name": "python3"
  }
 },
 "nbformat": 4,
 "nbformat_minor": 5
}
