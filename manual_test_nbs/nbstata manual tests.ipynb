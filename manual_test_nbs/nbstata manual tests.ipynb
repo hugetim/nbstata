{
 "cells": [
  {
   "cell_type": "code",
   "execution_count": null,
   "id": "462a5e62-0d52-413c-a30a-8f05462e8557",
   "metadata": {},
   "outputs": [
    {
     "name": "stdout",
     "output_type": "stream",
     "text": [
      "(U.S. life expectancy, 1900-1940)\n"
     ]
    }
   ],
   "source": [
    "sysuse uslifeexp2, clear"
   ]
  },
  {
   "cell_type": "code",
   "execution_count": null,
   "id": "6f903656-7b4f-49d2-8326-c7bdedaeff07",
   "metadata": {},
   "outputs": [],
   "source": [
    "*%%quietly\n",
    "list in 1/1, noobs clean\n",
    "disp \"hello\""
   ]
  },
  {
   "cell_type": "code",
   "execution_count": null,
   "id": "435a273e-ec66-4630-995f-a3ba45a12c4c",
   "metadata": {},
   "outputs": [
    {
     "name": "stdout",
     "output_type": "stream",
     "text": [
      "\n",
      ". list in 1/1, noobs clean\n",
      "\n",
      "    year     le  \n",
      "    1900   47.3  \n",
      "\n",
      ". disp \"hello\"\n",
      "hello\n",
      "\n",
      ". \n"
     ]
    }
   ],
   "source": [
    "*%%echo\n",
    "list in 1/1, noobs clean\n",
    "disp \"hello\""
   ]
  },
  {
   "cell_type": "code",
   "execution_count": null,
   "id": "5ad2e788-819c-4c65-a9ac-98dee887fe18",
   "metadata": {},
   "outputs": [
    {
     "name": "stdout",
     "output_type": "stream",
     "text": [
      "\n",
      "    year     le  \n",
      "    1900   47.3  \n",
      "\n",
      "    year     le  \n",
      "    1901   49.1  \n"
     ]
    }
   ],
   "source": [
    "forval i = 1/2 {\n",
    "    list in `i', noobs clean\n",
    "}"
   ]
  },
  {
   "cell_type": "code",
   "execution_count": null,
   "id": "14bb98ae-acd7-4f24-832c-bc7cc5237862",
   "metadata": {},
   "outputs": [],
   "source": [
    "program define display1\n",
    "    list in 1/1, noobs clean\n",
    "end"
   ]
  },
  {
   "cell_type": "code",
   "execution_count": null,
   "id": "4ecdf630-f4ea-4840-b81c-6d29855c2f30",
   "metadata": {},
   "outputs": [
    {
     "name": "stdout",
     "output_type": "stream",
     "text": [
      "\n",
      "    year     le  \n",
      "    1900   47.3  \n",
      "\n",
      "display1:\n",
      "  1. list in 1/1, noobs clean\n"
     ]
    }
   ],
   "source": [
    "display1\n",
    "program list display1"
   ]
  },
  {
   "cell_type": "code",
   "execution_count": null,
   "id": "746cea6f-510b-427b-a737-f94b7f4e093e",
   "metadata": {},
   "outputs": [],
   "source": [
    "program drop display1\n",
    "program display1\n",
    "    list in 1/1, noobs clean\n",
    "end"
   ]
  },
  {
   "cell_type": "code",
   "execution_count": null,
   "id": "1d78cf90-d4e7-4065-8031-eabd63549d70",
   "metadata": {},
   "outputs": [],
   "source": [
    "program drop display1\n",
    "pr display1\n",
    "    list in 1/1, noobs clean\n",
    "end"
   ]
  },
  {
   "cell_type": "code",
   "execution_count": null,
   "id": "0d8da0e5-96de-4b46-8d57-9693a8359de9",
   "metadata": {},
   "outputs": [
    {
     "name": "stdout",
     "output_type": "stream",
     "text": [
      "  1. list in 1/1, noobs clean\n",
      "  2. end\n"
     ]
    }
   ],
   "source": [
    "program drop display1\n",
    "n program define display1\n",
    "    list in 1/1, noobs clean\n",
    "end"
   ]
  },
  {
   "cell_type": "code",
   "execution_count": null,
   "id": "95c62480-e85f-4caa-9eae-ea31713b082c",
   "metadata": {},
   "outputs": [
    {
     "name": "stdout",
     "output_type": "stream",
     "text": [
      "\n",
      "display1:\n",
      "  1. list in 1/1, noobs clean\n"
     ]
    }
   ],
   "source": [
    "pr l display1"
   ]
  },
  {
   "cell_type": "code",
   "execution_count": null,
   "id": "7af91d6a-8b3b-48c0-a023-f071c44ac471",
   "metadata": {},
   "outputs": [
    {
     "name": "stdout",
     "output_type": "stream",
     "text": [
      "\n",
      "    year     le  \n",
      "    1901   49.1  \n"
     ]
    }
   ],
   "source": [
    "capture program drop ender\n",
    "program define ender\n",
    "    list in 2/2, noobs clean\n",
    "end\n",
    "capture program drop display2\n",
    "program define display2\n",
    "    ender\n",
    "end\n",
    "display2"
   ]
  },
  {
   "cell_type": "code",
   "execution_count": null,
   "id": "4205ccae-607f-4d2c-8a8d-3df4a3315c22",
   "metadata": {},
   "outputs": [
    {
     "name": "stdout",
     "output_type": "stream",
     "text": [
      "\n",
      "     +-------------+\n",
      "     | year     le |\n",
      "     |-------------|\n",
      "  1. | 1900   47.3 |\n",
      "     +-------------+\n",
      "hello\n"
     ]
    }
   ],
   "source": [
    "list in 1/1\n",
    "python: print(\"hello\")"
   ]
  },
  {
   "cell_type": "code",
   "execution_count": null,
   "id": "bd510409-eb47-4132-9e88-43ca387ce449",
   "metadata": {},
   "outputs": [
    {
     "name": "stdout",
     "output_type": "stream",
     "text": [
      "hello\n"
     ]
    }
   ],
   "source": [
    "python:\n",
    "print(\"hello\")\n",
    "end"
   ]
  },
  {
   "cell_type": "code",
   "execution_count": null,
   "id": "15ef2172-c813-499c-8507-6d4da35d11ec",
   "metadata": {},
   "outputs": [
    {
     "name": "stdout",
     "output_type": "stream",
     "text": [
      "hello\n",
      "\n",
      "     +-------------+\n",
      "     | year     le |\n",
      "     |-------------|\n",
      "  1. | 1900   47.3 |\n",
      "     +-------------+\n"
     ]
    }
   ],
   "source": [
    "mata: display(\"hello\")\n",
    "list in 1/1"
   ]
  },
  {
   "cell_type": "code",
   "execution_count": null,
   "id": "ae3bbbcc-0234-4093-a08b-db870f3d5701",
   "metadata": {},
   "outputs": [
    {
     "name": "stdout",
     "output_type": "stream",
     "text": [
      "\n",
      ". mata:\n",
      "------------------------------------------------- mata (type end to exit) -----\n",
      ": display(\"hello\")\n",
      "hello\n",
      "\n",
      ": end\n",
      "-------------------------------------------------------------------------------\n",
      "\n",
      ". \n"
     ]
    }
   ],
   "source": [
    "mata:\n",
    "display(\"hello\")\n",
    "end"
   ]
  },
  {
   "cell_type": "code",
   "execution_count": null,
   "id": "b6b0e0ee-beea-4739-9473-3ee0446f653c",
   "metadata": {},
   "outputs": [
    {
     "name": "stdout",
     "output_type": "stream",
     "text": [
      "start\n",
      "hello\n",
      "hello2\n",
      "hello2a\n",
      "hello3\n",
      "hello4\n"
     ]
    }
   ],
   "source": [
    "disp \"start\"\n",
    "#delimit;\n",
    "disp \"hello\"; disp \"hello2\";\n",
    "disp \n",
    "    \"hello2a\";\n",
    "#delimit cr\n",
    "disp \"hello3\"\n",
    "disp \"hello4\"\n",
    "#delimit;"
   ]
  },
  {
   "cell_type": "code",
   "execution_count": null,
   "id": "09517bdc-e4df-4423-886d-50a7fc095c3c",
   "metadata": {},
   "outputs": [
    {
     "name": "stdout",
     "output_type": "stream",
     "text": [
      "hello\n"
     ]
    }
   ],
   "source": [
    "#delimit ;\n",
    "disp \"hello\";\n",
    "#delimit cr"
   ]
  },
  {
   "cell_type": "code",
   "execution_count": null,
   "id": "4a55cce7-9723-4f09-b162-d71d5d786b5a",
   "metadata": {},
   "outputs": [],
   "source": [
    "* Should have no output\n",
    "quietly {\n",
    "    list in 1/1, noobs clean\n",
    "}"
   ]
  },
  {
   "cell_type": "code",
   "execution_count": null,
   "id": "23744b00-c56d-4f28-a253-0cd3984618bd",
   "metadata": {},
   "outputs": [],
   "source": [
    "* Should have no output\n",
    "capture {\n",
    "    list in 1/1, noobs clean\n",
    "}"
   ]
  },
  {
   "cell_type": "code",
   "execution_count": null,
   "id": "52f24921-d4cb-4968-8f09-90f3bbe72036",
   "metadata": {},
   "outputs": [
    {
     "name": "stdout",
     "output_type": "stream",
     "text": [
      "\n",
      "    year     le  \n",
      "    1900   47.3  \n"
     ]
    }
   ],
   "source": [
    "capture program drop display1\n",
    "program display1\n",
    "#delimit;\n",
    "    list in 1/1, noobs clean;\n",
    "end;\n",
    "display1;"
   ]
  },
  {
   "cell_type": "code",
   "execution_count": null,
   "id": "419d13a7-3539-459c-9433-297659347473",
   "metadata": {},
   "outputs": [
    {
     "name": "stdout",
     "output_type": "stream",
     "text": [
      "test output\n"
     ]
    }
   ],
   "source": [
    "#delimit cr\n",
    "disp \"test output\""
   ]
  },
  {
   "cell_type": "code",
   "execution_count": null,
   "id": "acb057b1-801b-4303-ae30-981ae735cfda",
   "metadata": {},
   "outputs": [
    {
     "data": {
      "text/html": [
       "<div>\n",
       "<style scoped>\n",
       "    .dataframe tbody tr th:only-of-type {\n",
       "        vertical-align: middle;\n",
       "    }\n",
       "\n",
       "    .dataframe tbody tr th {\n",
       "        vertical-align: top;\n",
       "    }\n",
       "\n",
       "    .dataframe thead th {\n",
       "        text-align: right;\n",
       "    }\n",
       "</style>\n",
       "<table border=\"1\" class=\"dataframe\">\n",
       "  <thead>\n",
       "    <tr style=\"text-align: right;\">\n",
       "      <th></th>\n",
       "      <th>year</th>\n",
       "      <th>le</th>\n",
       "    </tr>\n",
       "  </thead>\n",
       "  <tbody>\n",
       "    <tr>\n",
       "      <th>1</th>\n",
       "      <td>1900</td>\n",
       "      <td>47.3</td>\n",
       "    </tr>\n",
       "    <tr>\n",
       "      <th>2</th>\n",
       "      <td>1901</td>\n",
       "      <td>49.1</td>\n",
       "    </tr>\n",
       "    <tr>\n",
       "      <th>3</th>\n",
       "      <td>1902</td>\n",
       "      <td>51.5</td>\n",
       "    </tr>\n",
       "    <tr>\n",
       "      <th>4</th>\n",
       "      <td>1903</td>\n",
       "      <td>50.5</td>\n",
       "    </tr>\n",
       "    <tr>\n",
       "      <th>5</th>\n",
       "      <td>1904</td>\n",
       "      <td>47.6</td>\n",
       "    </tr>\n",
       "    <tr>\n",
       "      <th>6</th>\n",
       "      <td>1905</td>\n",
       "      <td>48.7</td>\n",
       "    </tr>\n",
       "    <tr>\n",
       "      <th>7</th>\n",
       "      <td>1906</td>\n",
       "      <td>48.7</td>\n",
       "    </tr>\n",
       "    <tr>\n",
       "      <th>8</th>\n",
       "      <td>1907</td>\n",
       "      <td>47.6</td>\n",
       "    </tr>\n",
       "    <tr>\n",
       "      <th>9</th>\n",
       "      <td>1908</td>\n",
       "      <td>51.1</td>\n",
       "    </tr>\n",
       "    <tr>\n",
       "      <th>10</th>\n",
       "      <td>1909</td>\n",
       "      <td>52.1</td>\n",
       "    </tr>\n",
       "    <tr>\n",
       "      <th>11</th>\n",
       "      <td>1910</td>\n",
       "      <td>50</td>\n",
       "    </tr>\n",
       "    <tr>\n",
       "      <th>12</th>\n",
       "      <td>1911</td>\n",
       "      <td>52.6</td>\n",
       "    </tr>\n",
       "    <tr>\n",
       "      <th>13</th>\n",
       "      <td>1912</td>\n",
       "      <td>53.5</td>\n",
       "    </tr>\n",
       "    <tr>\n",
       "      <th>14</th>\n",
       "      <td>1913</td>\n",
       "      <td>52.5</td>\n",
       "    </tr>\n",
       "    <tr>\n",
       "      <th>15</th>\n",
       "      <td>1914</td>\n",
       "      <td>54.2</td>\n",
       "    </tr>\n",
       "    <tr>\n",
       "      <th>16</th>\n",
       "      <td>1915</td>\n",
       "      <td>54.5</td>\n",
       "    </tr>\n",
       "    <tr>\n",
       "      <th>17</th>\n",
       "      <td>1916</td>\n",
       "      <td>51.7</td>\n",
       "    </tr>\n",
       "    <tr>\n",
       "      <th>18</th>\n",
       "      <td>1917</td>\n",
       "      <td>50.9</td>\n",
       "    </tr>\n",
       "    <tr>\n",
       "      <th>19</th>\n",
       "      <td>1918</td>\n",
       "      <td>39.1</td>\n",
       "    </tr>\n",
       "    <tr>\n",
       "      <th>20</th>\n",
       "      <td>1919</td>\n",
       "      <td>54.7</td>\n",
       "    </tr>\n",
       "    <tr>\n",
       "      <th>21</th>\n",
       "      <td>1920</td>\n",
       "      <td>54.1</td>\n",
       "    </tr>\n",
       "    <tr>\n",
       "      <th>22</th>\n",
       "      <td>1921</td>\n",
       "      <td>60.8</td>\n",
       "    </tr>\n",
       "    <tr>\n",
       "      <th>23</th>\n",
       "      <td>1922</td>\n",
       "      <td>59.6</td>\n",
       "    </tr>\n",
       "    <tr>\n",
       "      <th>24</th>\n",
       "      <td>1923</td>\n",
       "      <td>57.2</td>\n",
       "    </tr>\n",
       "    <tr>\n",
       "      <th>25</th>\n",
       "      <td>1924</td>\n",
       "      <td>59.7</td>\n",
       "    </tr>\n",
       "    <tr>\n",
       "      <th>26</th>\n",
       "      <td>1925</td>\n",
       "      <td>59</td>\n",
       "    </tr>\n",
       "    <tr>\n",
       "      <th>27</th>\n",
       "      <td>1926</td>\n",
       "      <td>56.7</td>\n",
       "    </tr>\n",
       "    <tr>\n",
       "      <th>28</th>\n",
       "      <td>1927</td>\n",
       "      <td>60.4</td>\n",
       "    </tr>\n",
       "    <tr>\n",
       "      <th>29</th>\n",
       "      <td>1928</td>\n",
       "      <td>56.8</td>\n",
       "    </tr>\n",
       "    <tr>\n",
       "      <th>30</th>\n",
       "      <td>1929</td>\n",
       "      <td>57.1</td>\n",
       "    </tr>\n",
       "    <tr>\n",
       "      <th>31</th>\n",
       "      <td>1930</td>\n",
       "      <td>59.7</td>\n",
       "    </tr>\n",
       "    <tr>\n",
       "      <th>32</th>\n",
       "      <td>1931</td>\n",
       "      <td>61.1</td>\n",
       "    </tr>\n",
       "    <tr>\n",
       "      <th>33</th>\n",
       "      <td>1932</td>\n",
       "      <td>62.1</td>\n",
       "    </tr>\n",
       "    <tr>\n",
       "      <th>34</th>\n",
       "      <td>1933</td>\n",
       "      <td>63.3</td>\n",
       "    </tr>\n",
       "    <tr>\n",
       "      <th>35</th>\n",
       "      <td>1934</td>\n",
       "      <td>61.1</td>\n",
       "    </tr>\n",
       "    <tr>\n",
       "      <th>36</th>\n",
       "      <td>1935</td>\n",
       "      <td>61.7</td>\n",
       "    </tr>\n",
       "    <tr>\n",
       "      <th>37</th>\n",
       "      <td>1936</td>\n",
       "      <td>58.5</td>\n",
       "    </tr>\n",
       "    <tr>\n",
       "      <th>38</th>\n",
       "      <td>1937</td>\n",
       "      <td>60</td>\n",
       "    </tr>\n",
       "    <tr>\n",
       "      <th>39</th>\n",
       "      <td>1938</td>\n",
       "      <td>63.5</td>\n",
       "    </tr>\n",
       "    <tr>\n",
       "      <th>40</th>\n",
       "      <td>1939</td>\n",
       "      <td>63.7</td>\n",
       "    </tr>\n",
       "    <tr>\n",
       "      <th>41</th>\n",
       "      <td>1940</td>\n",
       "      <td>62.9</td>\n",
       "    </tr>\n",
       "  </tbody>\n",
       "</table>\n",
       "</div>"
      ]
     },
     "metadata": {},
     "output_type": "display_data"
    }
   ],
   "source": [
    "*%head 50"
   ]
  }
 ],
 "metadata": {
  "kernelspec": {
   "display_name": "Stata (nbstata)",
   "language": "stata",
   "name": "nbstata"
  }
 },
 "nbformat": 4,
 "nbformat_minor": 5
}
