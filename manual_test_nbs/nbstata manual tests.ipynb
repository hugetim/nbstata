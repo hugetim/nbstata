{
 "cells": [
  {
   "cell_type": "code",
   "execution_count": null,
   "id": "462a5e62-0d52-413c-a30a-8f05462e8557",
   "metadata": {},
   "outputs": [
    {
     "name": "stdout",
     "output_type": "stream",
     "text": [
      "(U.S. life expectancy, 1900-1940)\n"
     ]
    }
   ],
   "source": [
    "sysuse uslifeexp2, clear"
   ]
  },
  {
   "cell_type": "code",
   "execution_count": null,
   "id": "6f903656-7b4f-49d2-8326-c7bdedaeff07",
   "metadata": {},
   "outputs": [
    {
     "name": "stdout",
     "output_type": "stream",
     "text": [
      "\n"
     ]
    }
   ],
   "source": [
    "*%quietly\n",
    "list in 1/1, noobs clean\n",
    "disp \"hello\""
   ]
  },
  {
   "cell_type": "code",
   "execution_count": null,
   "id": "435a273e-ec66-4630-995f-a3ba45a12c4c",
   "metadata": {},
   "outputs": [
    {
     "name": "stdout",
     "output_type": "stream",
     "text": [
      "\n",
      ". list in 1/1, noobs clean\n",
      "\n",
      "    year     le  \n",
      "    1900   47.3  \n",
      "\n",
      ". disp \"hello\"\n",
      "hello\n",
      "\n",
      ". \n"
     ]
    }
   ],
   "source": [
    "*%echo\n",
    "list in 1/1, noobs clean\n",
    "disp \"hello\""
   ]
  },
  {
   "cell_type": "code",
   "execution_count": null,
   "id": "5ad2e788-819c-4c65-a9ac-98dee887fe18",
   "metadata": {},
   "outputs": [
    {
     "name": "stdout",
     "output_type": "stream",
     "text": [
      "\n",
      "    year     le  \n",
      "    1900   47.3  \n",
      "\n",
      "    year     le  \n",
      "    1901   49.1  \n"
     ]
    }
   ],
   "source": [
    "forval i = 1/2 {\n",
    "    list in `i', noobs clean\n",
    "}"
   ]
  },
  {
   "cell_type": "code",
   "execution_count": null,
   "id": "14bb98ae-acd7-4f24-832c-bc7cc5237862",
   "metadata": {},
   "outputs": [
    {
     "name": "stdout",
     "output_type": "stream",
     "text": [
      "\n"
     ]
    }
   ],
   "source": [
    "program define display1\n",
    "    list in 1/1, noobs clean\n",
    "end"
   ]
  },
  {
   "cell_type": "code",
   "execution_count": null,
   "id": "4ecdf630-f4ea-4840-b81c-6d29855c2f30",
   "metadata": {},
   "outputs": [
    {
     "name": "stdout",
     "output_type": "stream",
     "text": [
      "\n",
      "    year     le  \n",
      "    1900   47.3  \n",
      "\n",
      "display1:\n",
      "  1. list in 1/1, noobs clean\n"
     ]
    }
   ],
   "source": [
    "display1\n",
    "program list display1"
   ]
  },
  {
   "cell_type": "code",
   "execution_count": null,
   "id": "746cea6f-510b-427b-a737-f94b7f4e093e",
   "metadata": {},
   "outputs": [
    {
     "name": "stdout",
     "output_type": "stream",
     "text": [
      "\n"
     ]
    }
   ],
   "source": [
    "capture program drop display1\n",
    "program display1\n",
    "    list in 1/1, noobs clean\n",
    "end"
   ]
  },
  {
   "cell_type": "code",
   "execution_count": null,
   "id": "1d78cf90-d4e7-4065-8031-eabd63549d70",
   "metadata": {},
   "outputs": [
    {
     "name": "stdout",
     "output_type": "stream",
     "text": [
      "\n"
     ]
    }
   ],
   "source": [
    "capture program drop display1\n",
    "pr display1\n",
    "    list in 1/1, noobs clean\n",
    "end"
   ]
  },
  {
   "cell_type": "code",
   "execution_count": null,
   "id": "0d8da0e5-96de-4b46-8d57-9693a8359de9",
   "metadata": {},
   "outputs": [
    {
     "name": "stdout",
     "output_type": "stream",
     "text": [
      "  1. list in 1/1, noobs clean\n",
      "  2. end\n",
      "\n"
     ]
    }
   ],
   "source": [
    "capture program drop display1\n",
    "n program define display1\n",
    "    list in 1/1, noobs clean\n",
    "end"
   ]
  },
  {
   "cell_type": "code",
   "execution_count": null,
   "id": "95c62480-e85f-4caa-9eae-ea31713b082c",
   "metadata": {},
   "outputs": [
    {
     "name": "stdout",
     "output_type": "stream",
     "text": [
      "\n",
      "display1:\n",
      "  1. list in 1/1, noobs clean\n"
     ]
    }
   ],
   "source": [
    "pr l display1"
   ]
  },
  {
   "cell_type": "code",
   "execution_count": null,
   "id": "7af91d6a-8b3b-48c0-a023-f071c44ac471",
   "metadata": {},
   "outputs": [
    {
     "name": "stdout",
     "output_type": "stream",
     "text": [
      "\n",
      "\n",
      "\n",
      "    year     le  \n",
      "    1901   49.1  \n"
     ]
    }
   ],
   "source": [
    "capture program drop ender\n",
    "program define ender\n",
    "    list in 2/2, noobs clean\n",
    "end\n",
    "capture program drop display2\n",
    "program define display2\n",
    "    ender\n",
    "end\n",
    "display2"
   ]
  },
  {
   "cell_type": "code",
   "execution_count": null,
   "id": "4205ccae-607f-4d2c-8a8d-3df4a3315c22",
   "metadata": {},
   "outputs": [
    {
     "name": "stdout",
     "output_type": "stream",
     "text": [
      "\n",
      "     +-------------+\n",
      "     | year     le |\n",
      "     |-------------|\n",
      "  1. | 1900   47.3 |\n",
      "     +-------------+\n",
      "hello\n"
     ]
    }
   ],
   "source": [
    "list in 1/1\n",
    "python: print(\"hello\")"
   ]
  },
  {
   "cell_type": "code",
   "execution_count": null,
   "id": "bd510409-eb47-4132-9e88-43ca387ce449",
   "metadata": {},
   "outputs": [
    {
     "name": "stdout",
     "output_type": "stream",
     "text": [
      "hello\n",
      "\n"
     ]
    }
   ],
   "source": [
    "python:\n",
    "print(\"hello\")\n",
    "end"
   ]
  },
  {
   "cell_type": "code",
   "execution_count": null,
   "id": "15ef2172-c813-499c-8507-6d4da35d11ec",
   "metadata": {},
   "outputs": [
    {
     "name": "stdout",
     "output_type": "stream",
     "text": [
      "hello\n",
      "\n",
      "     +-------------+\n",
      "     | year     le |\n",
      "     |-------------|\n",
      "  1. | 1900   47.3 |\n",
      "     +-------------+\n"
     ]
    }
   ],
   "source": [
    "mata: display(\"hello\")\n",
    "list in 1/1"
   ]
  },
  {
   "cell_type": "code",
   "execution_count": null,
   "id": "ae3bbbcc-0234-4093-a08b-db870f3d5701",
   "metadata": {},
   "outputs": [
    {
     "name": "stdout",
     "output_type": "stream",
     "text": [
      "\n",
      ". mata:\n",
      "------------------------------------------------- mata (type end to exit) -----\n",
      ": display(\"hello\")\n",
      "hello\n",
      "\n",
      ": end\n",
      "-------------------------------------------------------------------------------\n",
      "\n",
      ". \n"
     ]
    }
   ],
   "source": [
    "mata:\n",
    "display(\"hello\")\n",
    "end"
   ]
  },
  {
   "cell_type": "code",
   "execution_count": null,
   "id": "b6b0e0ee-beea-4739-9473-3ee0446f653c",
   "metadata": {},
   "outputs": [
    {
     "name": "stdout",
     "output_type": "stream",
     "text": [
      "start\n",
      "hello\n",
      "hello2\n",
      "hello2a\n",
      "hello3\n",
      "hello4\n"
     ]
    }
   ],
   "source": [
    "disp \"start\"\n",
    "#delimit;\n",
    "disp \"hello\"; disp \"hello2\";\n",
    "disp \n",
    "    \"hello2a\";\n",
    "#delimit cr\n",
    "disp \"hello3\"\n",
    "disp \"hello4\"\n",
    "#delimit;"
   ]
  },
  {
   "cell_type": "code",
   "execution_count": null,
   "id": "09517bdc-e4df-4423-886d-50a7fc095c3c",
   "metadata": {},
   "outputs": [
    {
     "name": "stdout",
     "output_type": "stream",
     "text": [
      "hello\n"
     ]
    }
   ],
   "source": [
    "#delimit ;\n",
    "disp \"hello\";\n",
    "#delimit cr"
   ]
  },
  {
   "cell_type": "code",
   "execution_count": null,
   "id": "4a55cce7-9723-4f09-b162-d71d5d786b5a",
   "metadata": {},
   "outputs": [],
   "source": [
    "* Should have no output\n",
    "quietly {\n",
    "    list in 1/1, noobs clean\n",
    "}"
   ]
  },
  {
   "cell_type": "code",
   "execution_count": null,
   "id": "23744b00-c56d-4f28-a253-0cd3984618bd",
   "metadata": {},
   "outputs": [],
   "source": [
    "* Should have no output\n",
    "capture {\n",
    "    list in 1/1, noobs clean\n",
    "}"
   ]
  },
  {
   "cell_type": "code",
   "execution_count": null,
   "id": "52f24921-d4cb-4968-8f09-90f3bbe72036",
   "metadata": {},
   "outputs": [
    {
     "name": "stdout",
     "output_type": "stream",
     "text": [
      "\n",
      "\n",
      "    year     le  \n",
      "    1900   47.3  \n"
     ]
    }
   ],
   "source": [
    "capture program drop display1\n",
    "program display1\n",
    "#delimit;\n",
    "    list in 1/1, noobs clean;\n",
    "end;\n",
    "display1;"
   ]
  },
  {
   "cell_type": "code",
   "execution_count": null,
   "id": "419d13a7-3539-459c-9433-297659347473",
   "metadata": {},
   "outputs": [
    {
     "name": "stdout",
     "output_type": "stream",
     "text": [
      "test output\n"
     ]
    }
   ],
   "source": [
    "disp \"test output\""
   ]
  },
  {
   "cell_type": "code",
   "execution_count": null,
   "id": "acb057b1-801b-4303-ae30-981ae735cfda",
   "metadata": {},
   "outputs": [
    {
     "name": "stdout",
     "output_type": "stream",
     "text": [
      "\n"
     ]
    },
    {
     "data": {
      "text/html": [
       "<div>\n",
       "<style scoped>\n",
       "    .dataframe tbody tr th:only-of-type {\n",
       "        vertical-align: middle;\n",
       "    }\n",
       "\n",
       "    .dataframe tbody tr th {\n",
       "        vertical-align: top;\n",
       "    }\n",
       "\n",
       "    .dataframe thead th {\n",
       "        text-align: right;\n",
       "    }\n",
       "</style>\n",
       "<table border=\"1\" class=\"dataframe\">\n",
       "  <thead>\n",
       "    <tr style=\"text-align: right;\">\n",
       "      <th></th>\n",
       "      <th>year</th>\n",
       "      <th>le</th>\n",
       "    </tr>\n",
       "  </thead>\n",
       "  <tbody>\n",
       "    <tr>\n",
       "      <th>1</th>\n",
       "      <td>1900</td>\n",
       "      <td>47.299999</td>\n",
       "    </tr>\n",
       "    <tr>\n",
       "      <th>2</th>\n",
       "      <td>1901</td>\n",
       "      <td>49.099998</td>\n",
       "    </tr>\n",
       "    <tr>\n",
       "      <th>3</th>\n",
       "      <td>1902</td>\n",
       "      <td>51.5</td>\n",
       "    </tr>\n",
       "    <tr>\n",
       "      <th>4</th>\n",
       "      <td>1903</td>\n",
       "      <td>50.5</td>\n",
       "    </tr>\n",
       "    <tr>\n",
       "      <th>5</th>\n",
       "      <td>1904</td>\n",
       "      <td>47.599998</td>\n",
       "    </tr>\n",
       "    <tr>\n",
       "      <th>6</th>\n",
       "      <td>1905</td>\n",
       "      <td>48.700001</td>\n",
       "    </tr>\n",
       "    <tr>\n",
       "      <th>7</th>\n",
       "      <td>1906</td>\n",
       "      <td>48.700001</td>\n",
       "    </tr>\n",
       "    <tr>\n",
       "      <th>8</th>\n",
       "      <td>1907</td>\n",
       "      <td>47.599998</td>\n",
       "    </tr>\n",
       "    <tr>\n",
       "      <th>9</th>\n",
       "      <td>1908</td>\n",
       "      <td>51.099998</td>\n",
       "    </tr>\n",
       "    <tr>\n",
       "      <th>10</th>\n",
       "      <td>1909</td>\n",
       "      <td>52.099998</td>\n",
       "    </tr>\n",
       "    <tr>\n",
       "      <th>11</th>\n",
       "      <td>1910</td>\n",
       "      <td>50.0</td>\n",
       "    </tr>\n",
       "    <tr>\n",
       "      <th>12</th>\n",
       "      <td>1911</td>\n",
       "      <td>52.599998</td>\n",
       "    </tr>\n",
       "    <tr>\n",
       "      <th>13</th>\n",
       "      <td>1912</td>\n",
       "      <td>53.5</td>\n",
       "    </tr>\n",
       "    <tr>\n",
       "      <th>14</th>\n",
       "      <td>1913</td>\n",
       "      <td>52.5</td>\n",
       "    </tr>\n",
       "    <tr>\n",
       "      <th>15</th>\n",
       "      <td>1914</td>\n",
       "      <td>54.200001</td>\n",
       "    </tr>\n",
       "    <tr>\n",
       "      <th>16</th>\n",
       "      <td>1915</td>\n",
       "      <td>54.5</td>\n",
       "    </tr>\n",
       "    <tr>\n",
       "      <th>17</th>\n",
       "      <td>1916</td>\n",
       "      <td>51.700001</td>\n",
       "    </tr>\n",
       "    <tr>\n",
       "      <th>18</th>\n",
       "      <td>1917</td>\n",
       "      <td>50.900002</td>\n",
       "    </tr>\n",
       "    <tr>\n",
       "      <th>19</th>\n",
       "      <td>1918</td>\n",
       "      <td>39.099998</td>\n",
       "    </tr>\n",
       "    <tr>\n",
       "      <th>20</th>\n",
       "      <td>1919</td>\n",
       "      <td>54.700001</td>\n",
       "    </tr>\n",
       "    <tr>\n",
       "      <th>21</th>\n",
       "      <td>1920</td>\n",
       "      <td>54.099998</td>\n",
       "    </tr>\n",
       "    <tr>\n",
       "      <th>22</th>\n",
       "      <td>1921</td>\n",
       "      <td>60.799999</td>\n",
       "    </tr>\n",
       "    <tr>\n",
       "      <th>23</th>\n",
       "      <td>1922</td>\n",
       "      <td>59.599998</td>\n",
       "    </tr>\n",
       "    <tr>\n",
       "      <th>24</th>\n",
       "      <td>1923</td>\n",
       "      <td>57.200001</td>\n",
       "    </tr>\n",
       "    <tr>\n",
       "      <th>25</th>\n",
       "      <td>1924</td>\n",
       "      <td>59.700001</td>\n",
       "    </tr>\n",
       "    <tr>\n",
       "      <th>26</th>\n",
       "      <td>1925</td>\n",
       "      <td>59.0</td>\n",
       "    </tr>\n",
       "    <tr>\n",
       "      <th>27</th>\n",
       "      <td>1926</td>\n",
       "      <td>56.700001</td>\n",
       "    </tr>\n",
       "    <tr>\n",
       "      <th>28</th>\n",
       "      <td>1927</td>\n",
       "      <td>60.400002</td>\n",
       "    </tr>\n",
       "    <tr>\n",
       "      <th>29</th>\n",
       "      <td>1928</td>\n",
       "      <td>56.799999</td>\n",
       "    </tr>\n",
       "    <tr>\n",
       "      <th>30</th>\n",
       "      <td>1929</td>\n",
       "      <td>57.099998</td>\n",
       "    </tr>\n",
       "    <tr>\n",
       "      <th>31</th>\n",
       "      <td>1930</td>\n",
       "      <td>59.700001</td>\n",
       "    </tr>\n",
       "    <tr>\n",
       "      <th>32</th>\n",
       "      <td>1931</td>\n",
       "      <td>61.099998</td>\n",
       "    </tr>\n",
       "    <tr>\n",
       "      <th>33</th>\n",
       "      <td>1932</td>\n",
       "      <td>62.099998</td>\n",
       "    </tr>\n",
       "    <tr>\n",
       "      <th>34</th>\n",
       "      <td>1933</td>\n",
       "      <td>63.299999</td>\n",
       "    </tr>\n",
       "    <tr>\n",
       "      <th>35</th>\n",
       "      <td>1934</td>\n",
       "      <td>61.099998</td>\n",
       "    </tr>\n",
       "    <tr>\n",
       "      <th>36</th>\n",
       "      <td>1935</td>\n",
       "      <td>61.700001</td>\n",
       "    </tr>\n",
       "    <tr>\n",
       "      <th>37</th>\n",
       "      <td>1936</td>\n",
       "      <td>58.5</td>\n",
       "    </tr>\n",
       "    <tr>\n",
       "      <th>38</th>\n",
       "      <td>1937</td>\n",
       "      <td>60.0</td>\n",
       "    </tr>\n",
       "    <tr>\n",
       "      <th>39</th>\n",
       "      <td>1938</td>\n",
       "      <td>63.5</td>\n",
       "    </tr>\n",
       "    <tr>\n",
       "      <th>40</th>\n",
       "      <td>1939</td>\n",
       "      <td>63.700001</td>\n",
       "    </tr>\n",
       "    <tr>\n",
       "      <th>41</th>\n",
       "      <td>1940</td>\n",
       "      <td>62.900002</td>\n",
       "    </tr>\n",
       "  </tbody>\n",
       "</table>\n",
       "</div>"
      ]
     },
     "metadata": {},
     "output_type": "display_data"
    }
   ],
   "source": [
    "*%browse"
   ]
  },
  {
   "cell_type": "code",
   "execution_count": null,
   "id": "aae1e028-1ddb-4f4b-9126-bd59621ac3ff",
   "metadata": {},
   "outputs": [
    {
     "data": {
      "text/html": [
       "\n",
       "<html>\n",
       "<head>\n",
       "<meta content=\"noindex, nofollow\" name=\"robots\"/>\n",
       "<title>Stata 17 help for obs</title>\n",
       "<link href=\"/includes/css/stylehelp.css\" rel=\"stylesheet\" type=\"text/css\"/>\n",
       "<style type=\"text/css\">h2 {\n",
       "    font-family: Arial,Helvetica,Helv,sans-serif;\n",
       "    color: #000000;\n",
       "}\n",
       "\n",
       "pre {\n",
       "    margin: 10px;\n",
       "}\n",
       "\n",
       "table {\n",
       "    background-color: transparent;\n",
       "    border-color: transparent;\n",
       "    bgcolor: transparent;\n",
       "}\n",
       "\n",
       "tr {\n",
       "    background-color: transparent;\n",
       "    border-color: transparent;\n",
       "    bgcolor: transparent;\n",
       "}\n",
       "\n",
       "body {\n",
       "    background-color: transparent;\n",
       "    border-color: transparent;\n",
       "    margin: 0px;\n",
       "}\n",
       "\n",
       "div {\n",
       "    background-color: transparent;\n",
       "    border-color: transparent;\n",
       "}\n",
       "</style>\n",
       "</head>\n",
       "<body>\n",
       "\n",
       "<p>\n",
       "<table align=\"center\" bgcolor=\"transparent\" border=\"1\" cellpadding=\"5\" cellspacing=\"0\">\n",
       "<tr bgcolor=\"transparent\"><td align=\"left\" bgcolor=\"transparent\" valign=\"top\">\n",
       "<!-- END HEAD -->\n",
       "\n",
       "<pre>\n",
       "<p>\n",
       "<b>[D] obs</b> -- Increase the number of observations in a dataset\n",
       "<p>\n",
       "<p>\n",
       "<a name=\"syntax\"></a><b><u>Syntax</u></b>\n",
       "<p>\n",
       "        <b>set</b> <b><u>ob</u></b><b>s</b> <i>#</i>\n",
       "<p>\n",
       "<p>\n",
       "<a name=\"description\"></a><b><u>Description</u></b>\n",
       "<p>\n",
       "    <b>set obs</b> changes the number of observations in the current dataset.  <i>#</i>\n",
       "    must be at least as large as the current number of observations.  If\n",
       "    there are variables in memory, the values of all new observations are set\n",
       "    to missing.\n",
       "<p>\n",
       "<p>\n",
       "<a name=\"examples\"></a><b><u>Examples</u></b>\n",
       "<p>\n",
       "    <b>. drop _all</b>      (drop data from memory)\n",
       "    <b>. set obs 100</b>    (make 100 observations)\n",
       "    <b>. gen x = _n</b>     (x = 1, 2, 3, .., 100)\n",
       "    <b>. gen y = x^2</b>    (y = 1, 4, 9, .., 10000)\n",
       "    <b>. scatter y x</b>    (make a graph)\n",
       "<p>\n",
       "</p></p></p></p></p></p></p></p></p></p></p></pre>\n",
       "<!-- BEGIN FOOT -->\n",
       "</td></tr></table>\n",
       "\n",
       "<table border=\"0\" cellpadding=\"2\" cellspacing=\"0\" width=\"100%\">\n",
       "<tr>\n",
       "<td align=\"center\" valign=\"top\">\n",
       "<font face=\"arial,helvetica,helv,sans-serif\" size=\"1\">\n",
       "© Copyright 1996–2021 StataCorp LLC\n",
       "  •  \n",
       "<a class=\"bodylink\" href=\"https://www.stata.com/terms-of-use\" target=\"_blank\">Terms of use</a>\n",
       "  •  \n",
       "<a class=\"bodylink\" href=\"https://www.stata.com/privacy-policy\" target=\"_blank\">Privacy</a>\n",
       "  •  \n",
       "<a class=\"bodylink\" href=\"https://www.stata.com/company/contact\" target=\"_blank\">Contact us</a>\n",
       "</font>\n",
       "</td>\n",
       "</tr>\n",
       "</table>\n",
       "<br/>\n",
       "</p></body>\n",
       "</html>\n"
      ],
      "text/plain": [
       "This front-end cannot display HTML help."
      ]
     },
     "metadata": {},
     "output_type": "display_data"
    }
   ],
   "source": [
    "*%help obs"
   ]
  }
 ],
 "metadata": {
  "kernelspec": {
   "display_name": "Stata (nbstata)",
   "language": "stata",
   "name": "nbstata"
  }
 },
 "nbformat": 4,
 "nbformat_minor": 5
}
