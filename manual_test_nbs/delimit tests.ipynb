{
 "cells": [
  {
   "cell_type": "code",
   "execution_count": null,
   "id": "76875a65-f8ea-48d9-89af-5b28382dd70b",
   "metadata": {},
   "outputs": [
    {
     "name": "stdout",
     "output_type": "stream",
     "text": [
      "(U.S. life expectancy, 1900-1940)\n"
     ]
    }
   ],
   "source": [
    "sysuse uslifeexp2"
   ]
  },
  {
   "cell_type": "code",
   "execution_count": null,
   "id": "05a642a0-0fc9-4818-8570-6a9ebeb4c51a",
   "metadata": {},
   "outputs": [
    {
     "name": "stdout",
     "output_type": "stream",
     "text": [
      "\n",
      "    year     le  \n",
      "    1900   47.3  \n",
      "\u001b[31mWarning: Code cell (with #delimit; in effect) does not end in ';'. Exported .do script may behave differently from notebook.\u001b[0m\n"
     ]
    }
   ],
   "source": [
    "#delimit;\n",
    "list in 1/1, \n",
    "clean noobs"
   ]
  },
  {
   "cell_type": "code",
   "execution_count": null,
   "id": "23b5c548-8cb5-4965-a3af-a45e44185050",
   "metadata": {},
   "outputs": [
    {
     "name": "stdout",
     "output_type": "stream",
     "text": [
      "\n",
      "    year     le  \n",
      "    1900   47.3  \n"
     ]
    }
   ],
   "source": [
    "list in 1/1, \n",
    "clean noobs;"
   ]
  },
  {
   "cell_type": "markdown",
   "id": "791ca9a7-9b85-41a0-a773-1df3cd6f3a93",
   "metadata": {},
   "source": [
    "The cell below won't work because the kernel is still set to `#delimit;`:"
   ]
  },
  {
   "cell_type": "code",
   "execution_count": null,
   "id": "69187d6e-c519-4a31-ba2e-46c3d3c903ae",
   "metadata": {},
   "outputs": [
    {
     "name": "stdout",
     "output_type": "stream",
     "text": [
      "\u001b[31m1disp not found\n",
      "r(111);\u001b[0m\n"
     ]
    }
   ],
   "source": [
    "disp 1\n",
    "disp 2"
   ]
  },
  {
   "cell_type": "code",
   "execution_count": null,
   "id": "e6052bf4-9aee-4c95-83f4-43920d18274f",
   "metadata": {},
   "outputs": [
    {
     "name": "stdout",
     "output_type": "stream",
     "text": [
      "1\n",
      "2\n"
     ]
    }
   ],
   "source": [
    "#delimit cr\n",
    "disp 1\n",
    "disp 2"
   ]
  },
  {
   "cell_type": "code",
   "execution_count": null,
   "id": "e2c406b2-9638-4d92-ae47-f555813ed9bf",
   "metadata": {},
   "outputs": [
    {
     "name": "stdout",
     "output_type": "stream",
     "text": [
      "1\n",
      "2\n"
     ]
    }
   ],
   "source": [
    "disp 1\n",
    "disp 2"
   ]
  }
 ],
 "metadata": {
  "kernelspec": {
   "display_name": "Stata (nbstata)",
   "language": "stata",
   "name": "nbstata"
  }
 },
 "nbformat": 4,
 "nbformat_minor": 5
}
