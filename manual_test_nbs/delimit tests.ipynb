{
 "cells": [
  {
   "cell_type": "code",
   "execution_count": 1,
   "id": "7c51e910-746b-415e-9ccc-ae353d67511e",
   "metadata": {},
   "outputs": [
    {
     "name": "stdout",
     "output_type": "stream",
     "text": [
      "echo is now None\n"
     ]
    }
   ],
   "source": [
    "%set echo=None"
   ]
  },
  {
   "cell_type": "code",
   "execution_count": 2,
   "id": "76875a65-f8ea-48d9-89af-5b28382dd70b",
   "metadata": {},
   "outputs": [
    {
     "name": "stdout",
     "output_type": "stream",
     "text": [
      "(U.S. life expectancy, 1900-1940)\n"
     ]
    }
   ],
   "source": [
    "sysuse uslifeexp2"
   ]
  },
  {
   "cell_type": "code",
   "execution_count": 3,
   "id": "b51998bf-8a70-4d23-8ece-a568d6bb8bcf",
   "metadata": {},
   "outputs": [],
   "source": [
    "#delimit ;"
   ]
  },
  {
   "cell_type": "code",
   "execution_count": 4,
   "id": "ec6024c7-c399-4fee-8429-1c2fddcc27e3",
   "metadata": {},
   "outputs": [
    {
     "name": "stdout",
     "output_type": "stream",
     "text": [
      "1\n",
      "2\n"
     ]
    }
   ],
   "source": [
    "disp 1; disp 2;"
   ]
  },
  {
   "cell_type": "code",
   "execution_count": 5,
   "id": "05a642a0-0fc9-4818-8570-6a9ebeb4c51a",
   "metadata": {},
   "outputs": [
    {
     "name": "stdout",
     "output_type": "stream",
     "text": [
      "\u001b[31mWarning: Code cell (with #delimit; in effect) does not end in ';'. Exported .do script may behave differently from notebook. In v1.0, nbstata may trigger an error instead of just a warning.\u001b[0m\n"
     ]
    }
   ],
   "source": [
    "list in 1/1, \n",
    "clean noobs"
   ]
  },
  {
   "cell_type": "code",
   "execution_count": 6,
   "id": "23b5c548-8cb5-4965-a3af-a45e44185050",
   "metadata": {},
   "outputs": [
    {
     "name": "stdout",
     "output_type": "stream",
     "text": [
      "\n",
      "    year     le  \n",
      "    1900   47.3  \n"
     ]
    }
   ],
   "source": [
    "list in 1/1, \n",
    "clean noobs;"
   ]
  },
  {
   "cell_type": "markdown",
   "id": "791ca9a7-9b85-41a0-a773-1df3cd6f3a93",
   "metadata": {},
   "source": [
    "The cell below won't work because the kernel is still set to `#delimit;`:"
   ]
  },
  {
   "cell_type": "code",
   "execution_count": 7,
   "id": "69187d6e-c519-4a31-ba2e-46c3d3c903ae",
   "metadata": {},
   "outputs": [
    {
     "name": "stdout",
     "output_type": "stream",
     "text": [
      "\u001b[31mWarning: Code cell (with #delimit; in effect) does not end in ';'. Exported .do script may behave differently from notebook. In v1.0, nbstata may trigger an error instead of just a warning.\u001b[0m\n"
     ]
    }
   ],
   "source": [
    "disp 1\n",
    "disp 2"
   ]
  },
  {
   "cell_type": "code",
   "execution_count": 8,
   "id": "a6cf1862-241b-49fe-8b73-de286d4c77fa",
   "metadata": {},
   "outputs": [
    {
     "name": "stdout",
     "output_type": "stream",
     "text": [
      "Current Stata command delimiter: ;\n"
     ]
    }
   ],
   "source": [
    "*%delimit"
   ]
  },
  {
   "cell_type": "code",
   "execution_count": 9,
   "id": "e6052bf4-9aee-4c95-83f4-43920d18274f",
   "metadata": {},
   "outputs": [
    {
     "name": "stdout",
     "output_type": "stream",
     "text": [
      "1\n",
      "2\n"
     ]
    }
   ],
   "source": [
    "#delimit cr\n",
    "disp 1\n",
    "disp 2"
   ]
  },
  {
   "cell_type": "code",
   "execution_count": 10,
   "id": "7cb2dd35-36e7-4663-8e58-28135058fcce",
   "metadata": {},
   "outputs": [
    {
     "name": "stdout",
     "output_type": "stream",
     "text": [
      "Current Stata command delimiter: cr\n"
     ]
    }
   ],
   "source": [
    "*%delimit"
   ]
  },
  {
   "cell_type": "code",
   "execution_count": 11,
   "id": "e2c406b2-9638-4d92-ae47-f555813ed9bf",
   "metadata": {},
   "outputs": [
    {
     "name": "stdout",
     "output_type": "stream",
     "text": [
      "1\n",
      "2\n"
     ]
    }
   ],
   "source": [
    "disp 1\n",
    "disp 2"
   ]
  },
  {
   "cell_type": "code",
   "execution_count": 12,
   "id": "653f3075-1732-4b96-94a5-eddb4a1de8d6",
   "metadata": {},
   "outputs": [],
   "source": [
    "#delimit ;"
   ]
  },
  {
   "cell_type": "code",
   "execution_count": 13,
   "id": "cc628a8c-0af2-4faf-8ac7-4aff28c755c8",
   "metadata": {},
   "outputs": [
    {
     "name": "stdout",
     "output_type": "stream",
     "text": [
      "Current Stata command delimiter: ;\n"
     ]
    }
   ],
   "source": [
    "*%delimit"
   ]
  },
  {
   "cell_type": "code",
   "execution_count": 14,
   "id": "623bd383-429a-434f-a984-aaf2262fdf80",
   "metadata": {},
   "outputs": [
    {
     "name": "stdout",
     "output_type": "stream",
     "text": [
      "\u001b[31mWarning: Code cell (with #delimit; in effect) does not end in ';'. Exported .do script may behave differently from notebook. In v1.0, nbstata may trigger an error instead of just a warning.\u001b[0m\n"
     ]
    }
   ],
   "source": [
    "disp 3\n",
    "#delimit cr\n",
    "disp 1\n",
    "disp 2"
   ]
  },
  {
   "cell_type": "code",
   "execution_count": 15,
   "id": "63aefc89-9187-4f3a-94d7-9197954c3c56",
   "metadata": {},
   "outputs": [
    {
     "name": "stdout",
     "output_type": "stream",
     "text": [
      "Current Stata command delimiter: ;\n"
     ]
    }
   ],
   "source": [
    "*%delimit"
   ]
  }
 ],
 "metadata": {
  "kernelspec": {
   "display_name": "Stata (nbstata)",
   "language": "stata",
   "name": "nbstata"
  },
  "language_info": {
   "file_extension": ".do",
   "mimetype": "text/x-stata",
   "name": "stata",
   "version": "17"
  }
 },
 "nbformat": 4,
 "nbformat_minor": 5
}
